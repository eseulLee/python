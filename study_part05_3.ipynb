{
 "cells": [
  {
   "cell_type": "markdown",
   "id": "5ba39b19",
   "metadata": {},
   "source": [
    "## 예측 모델 수행하기\n",
    "\n",
    "### 3.1 데이터 탐색\n",
    "\n",
    "- 종속변수인 자전거 대여량이 **연속형 변수**이므로 **예측 모델**을 선택하여 데이터 학습 진행"
   ]
  },
  {
   "cell_type": "markdown",
   "id": "a5222514",
   "metadata": {},
   "source": [
    "#### 데이터 가져오기"
   ]
  },
  {
   "cell_type": "code",
   "execution_count": 6,
   "id": "5d708265",
   "metadata": {},
   "outputs": [],
   "source": [
    "import pandas as pd\n",
    "\n",
    "X_train = pd.read_csv('bigData-main/bike_x_train.csv', encoding='cp949')\n",
    "X_test  = pd.read_csv('bigData-main/bike_x_test.csv', encoding='cp949')\n",
    "y_train = pd.read_csv('bigData-main/bike_y_train.csv', encoding='cp949')"
   ]
  },
  {
   "cell_type": "code",
   "execution_count": 7,
   "id": "7c50db08",
   "metadata": {},
   "outputs": [
    {
     "name": "stdout",
     "output_type": "stream",
     "text": [
      "          datetime  계절  공휴일  근무일  날씨    온도    체감온도  습도   풍속\n",
      "0  2011-01-01 0:00   1    0    0   1  9.84  14.395  81  0.0\n",
      "1  2011-01-01 1:00   1    0    0   1  9.02  13.635  80  0.0\n",
      "2  2011-01-01 2:00   1    0    0   1  9.02  13.635  80  0.0\n",
      "3  2011-01-01 3:00   1    0    0   1  9.84  14.395  75  0.0\n",
      "4  2011-01-01 4:00   1    0    0   1  9.84  14.395  75  0.0\n",
      "          datetime  계절  공휴일  근무일  날씨     온도    체감온도  습도       풍속\n",
      "0  2011-01-20 0:00   1    0    1   1  10.66  11.365  56  26.0027\n",
      "1  2011-01-20 1:00   1    0    1   1  10.66  13.635  56   0.0000\n",
      "2  2011-01-20 2:00   1    0    1   1  10.66  13.635  56   0.0000\n",
      "3  2011-01-20 3:00   1    0    1   1  10.66  12.880  56  11.0014\n",
      "4  2011-01-20 4:00   1    0    1   1  10.66  12.880  56  11.0014\n"
     ]
    }
   ],
   "source": [
    "# 독립변수 : X_train, X_test\n",
    "print(X_train.head(5))\n",
    "print(X_test.head(5))"
   ]
  },
  {
   "cell_type": "code",
   "execution_count": 8,
   "id": "902866e0",
   "metadata": {},
   "outputs": [
    {
     "name": "stdout",
     "output_type": "stream",
     "text": [
      "          datetime  count\n",
      "0  2011-01-01 0:00     16\n",
      "1  2011-01-01 1:00     40\n",
      "2  2011-01-01 2:00     32\n",
      "3  2011-01-01 3:00     13\n",
      "4  2011-01-01 4:00      1\n"
     ]
    }
   ],
   "source": [
    "# 종속변수 : y_train\n",
    "print(y_train.head())"
   ]
  },
  {
   "cell_type": "markdown",
   "id": "60e6f433",
   "metadata": {},
   "source": [
    "#### 행/열 확인하기"
   ]
  },
  {
   "cell_type": "code",
   "execution_count": 9,
   "id": "683b519e",
   "metadata": {},
   "outputs": [
    {
     "name": "stdout",
     "output_type": "stream",
     "text": [
      "(10886, 9) (6493, 9) (10886, 2)\n"
     ]
    }
   ],
   "source": [
    "print(X_train.shape, X_test.shape, y_train.shape)"
   ]
  },
  {
   "cell_type": "markdown",
   "id": "e76662e2",
   "metadata": {},
   "source": [
    "#### 요약정보 확인하기\n",
    "\n",
    "- 결측치 없음\n",
    "- object : datetime"
   ]
  },
  {
   "cell_type": "code",
   "execution_count": 10,
   "id": "12849d22",
   "metadata": {},
   "outputs": [
    {
     "name": "stdout",
     "output_type": "stream",
     "text": [
      "<class 'pandas.core.frame.DataFrame'>\n",
      "RangeIndex: 10886 entries, 0 to 10885\n",
      "Data columns (total 9 columns):\n",
      " #   Column    Non-Null Count  Dtype  \n",
      "---  ------    --------------  -----  \n",
      " 0   datetime  10886 non-null  object \n",
      " 1   계절        10886 non-null  int64  \n",
      " 2   공휴일       10886 non-null  int64  \n",
      " 3   근무일       10886 non-null  int64  \n",
      " 4   날씨        10886 non-null  int64  \n",
      " 5   온도        10886 non-null  float64\n",
      " 6   체감온도      10886 non-null  float64\n",
      " 7   습도        10886 non-null  int64  \n",
      " 8   풍속        10886 non-null  float64\n",
      "dtypes: float64(3), int64(5), object(1)\n",
      "memory usage: 765.5+ KB\n",
      "None\n"
     ]
    }
   ],
   "source": [
    "print(X_train.info())"
   ]
  },
  {
   "cell_type": "code",
   "execution_count": 13,
   "id": "bdfac859",
   "metadata": {},
   "outputs": [
    {
     "name": "stdout",
     "output_type": "stream",
     "text": [
      "[1 2 3 4]\n",
      "[1 2 3 4]\n",
      "[0 1]\n",
      "[0 1]\n"
     ]
    }
   ],
   "source": [
    "# 범주형 변수들 값 확인하기\n",
    "print(X_train['계절'].unique())\n",
    "print(X_train['날씨'].unique())\n",
    "print(X_train['공휴일'].unique())\n",
    "print(X_train['근무일'].unique())"
   ]
  },
  {
   "cell_type": "markdown",
   "id": "7f2b8eaf",
   "metadata": {},
   "source": [
    "#### 기초통계량 확인하기"
   ]
  },
  {
   "cell_type": "code",
   "execution_count": 15,
   "id": "4800c2cc",
   "metadata": {},
   "outputs": [
    {
     "name": "stdout",
     "output_type": "stream",
     "text": [
      "        count       mean        std   min      25%     50%      75%       max\n",
      "계절    10886.0   2.506614   1.116174  1.00   2.0000   3.000   4.0000    4.0000\n",
      "공휴일   10886.0   0.028569   0.166599  0.00   0.0000   0.000   0.0000    1.0000\n",
      "근무일   10886.0   0.680875   0.466159  0.00   0.0000   1.000   1.0000    1.0000\n",
      "날씨    10886.0   1.418427   0.633839  1.00   1.0000   1.000   2.0000    4.0000\n",
      "온도    10886.0  20.230860   7.791590  0.82  13.9400  20.500  26.2400   41.0000\n",
      "체감온도  10886.0  23.655084   8.474601  0.76  16.6650  24.240  31.0600   45.4550\n",
      "습도    10886.0  61.886460  19.245033  0.00  47.0000  62.000  77.0000  100.0000\n",
      "풍속    10886.0  12.799395   8.164537  0.00   7.0015  12.998  16.9979   56.9969\n"
     ]
    }
   ],
   "source": [
    "print(X_train.describe().T)"
   ]
  },
  {
   "cell_type": "markdown",
   "id": "ae73a5a3",
   "metadata": {},
   "source": [
    "#### 독립변수와 종속변수의 관계 확인하기"
   ]
  },
  {
   "cell_type": "code",
   "execution_count": 17,
   "id": "6d2f1709",
   "metadata": {},
   "outputs": [
    {
     "data": {
      "text/html": [
       "<div>\n",
       "<style scoped>\n",
       "    .dataframe tbody tr th:only-of-type {\n",
       "        vertical-align: middle;\n",
       "    }\n",
       "\n",
       "    .dataframe tbody tr th {\n",
       "        vertical-align: top;\n",
       "    }\n",
       "\n",
       "    .dataframe thead th {\n",
       "        text-align: right;\n",
       "    }\n",
       "</style>\n",
       "<table border=\"1\" class=\"dataframe\">\n",
       "  <thead>\n",
       "    <tr style=\"text-align: right;\">\n",
       "      <th></th>\n",
       "      <th>datetime</th>\n",
       "      <th>계절</th>\n",
       "      <th>공휴일</th>\n",
       "      <th>근무일</th>\n",
       "      <th>날씨</th>\n",
       "      <th>온도</th>\n",
       "      <th>체감온도</th>\n",
       "      <th>습도</th>\n",
       "      <th>풍속</th>\n",
       "      <th>datetime</th>\n",
       "      <th>count</th>\n",
       "    </tr>\n",
       "  </thead>\n",
       "  <tbody>\n",
       "    <tr>\n",
       "      <th>0</th>\n",
       "      <td>2011-01-01 0:00</td>\n",
       "      <td>1</td>\n",
       "      <td>0</td>\n",
       "      <td>0</td>\n",
       "      <td>1</td>\n",
       "      <td>9.84</td>\n",
       "      <td>14.395</td>\n",
       "      <td>81</td>\n",
       "      <td>0.0</td>\n",
       "      <td>2011-01-01 0:00</td>\n",
       "      <td>16</td>\n",
       "    </tr>\n",
       "    <tr>\n",
       "      <th>1</th>\n",
       "      <td>2011-01-01 1:00</td>\n",
       "      <td>1</td>\n",
       "      <td>0</td>\n",
       "      <td>0</td>\n",
       "      <td>1</td>\n",
       "      <td>9.02</td>\n",
       "      <td>13.635</td>\n",
       "      <td>80</td>\n",
       "      <td>0.0</td>\n",
       "      <td>2011-01-01 1:00</td>\n",
       "      <td>40</td>\n",
       "    </tr>\n",
       "    <tr>\n",
       "      <th>2</th>\n",
       "      <td>2011-01-01 2:00</td>\n",
       "      <td>1</td>\n",
       "      <td>0</td>\n",
       "      <td>0</td>\n",
       "      <td>1</td>\n",
       "      <td>9.02</td>\n",
       "      <td>13.635</td>\n",
       "      <td>80</td>\n",
       "      <td>0.0</td>\n",
       "      <td>2011-01-01 2:00</td>\n",
       "      <td>32</td>\n",
       "    </tr>\n",
       "    <tr>\n",
       "      <th>3</th>\n",
       "      <td>2011-01-01 3:00</td>\n",
       "      <td>1</td>\n",
       "      <td>0</td>\n",
       "      <td>0</td>\n",
       "      <td>1</td>\n",
       "      <td>9.84</td>\n",
       "      <td>14.395</td>\n",
       "      <td>75</td>\n",
       "      <td>0.0</td>\n",
       "      <td>2011-01-01 3:00</td>\n",
       "      <td>13</td>\n",
       "    </tr>\n",
       "    <tr>\n",
       "      <th>4</th>\n",
       "      <td>2011-01-01 4:00</td>\n",
       "      <td>1</td>\n",
       "      <td>0</td>\n",
       "      <td>0</td>\n",
       "      <td>1</td>\n",
       "      <td>9.84</td>\n",
       "      <td>14.395</td>\n",
       "      <td>75</td>\n",
       "      <td>0.0</td>\n",
       "      <td>2011-01-01 4:00</td>\n",
       "      <td>1</td>\n",
       "    </tr>\n",
       "  </tbody>\n",
       "</table>\n",
       "</div>"
      ],
      "text/plain": [
       "          datetime  계절  공휴일  근무일  날씨    온도    체감온도  습도   풍속         datetime  \\\n",
       "0  2011-01-01 0:00   1    0    0   1  9.84  14.395  81  0.0  2011-01-01 0:00   \n",
       "1  2011-01-01 1:00   1    0    0   1  9.02  13.635  80  0.0  2011-01-01 1:00   \n",
       "2  2011-01-01 2:00   1    0    0   1  9.02  13.635  80  0.0  2011-01-01 2:00   \n",
       "3  2011-01-01 3:00   1    0    0   1  9.84  14.395  75  0.0  2011-01-01 3:00   \n",
       "4  2011-01-01 4:00   1    0    0   1  9.84  14.395  75  0.0  2011-01-01 4:00   \n",
       "\n",
       "   count  \n",
       "0     16  \n",
       "1     40  \n",
       "2     32  \n",
       "3     13  \n",
       "4      1  "
      ]
     },
     "execution_count": 17,
     "metadata": {},
     "output_type": "execute_result"
    }
   ],
   "source": [
    "data = pd.concat([X_train, y_train], axis=1)\n",
    "data.head()"
   ]
  },
  {
   "cell_type": "code",
   "execution_count": 20,
   "id": "dc6e5e2d",
   "metadata": {},
   "outputs": [
    {
     "name": "stdout",
     "output_type": "stream",
     "text": [
      "계절\n",
      "1    312498\n",
      "2    588282\n",
      "3    640662\n",
      "4    544034\n",
      "Name: count, dtype: int64\n",
      "\n",
      ">>>> 가을의 자전거 대여량이 봄의 자전거 대여량에 비해 2배임을 확인\n"
     ]
    }
   ],
   "source": [
    "# '계절' 컬럼에 따른 count(자전거 대여량) 합계 구하기\n",
    "print(data.groupby('계절')['count'].sum())\n",
    "print('\\n>>>> 가을의 자전거 대여량이 봄의 자전거 대여량에 비해 2배임을 확인')"
   ]
  },
  {
   "cell_type": "code",
   "execution_count": 22,
   "id": "04b38cf9",
   "metadata": {},
   "outputs": [
    {
     "name": "stdout",
     "output_type": "stream",
     "text": [
      "공휴일\n",
      "0    2027668\n",
      "1      57808\n",
      "Name: count, dtype: int64\n",
      "\n",
      ">>>> 공휴일이 아닌 날의 자전거 대여량이 압도적으로 높음 확인\n"
     ]
    }
   ],
   "source": [
    "# '공휴일' 컬럼에 따른 count(자전거 대여량) 합계 구하기\n",
    "# 0 : 공휴일 아님, 1 : 공휴일\n",
    "\n",
    "print(data.groupby('공휴일')['count'].sum())\n",
    "print('\\n>>>> 공휴일이 아닌 날의 자전거 대여량이 압도적으로 높음 확인')"
   ]
  },
  {
   "cell_type": "code",
   "execution_count": 24,
   "id": "4576d085",
   "metadata": {},
   "outputs": [
    {
     "name": "stdout",
     "output_type": "stream",
     "text": [
      "근무일\n",
      "0     654872\n",
      "1    1430604\n",
      "Name: count, dtype: int64\n",
      "\n",
      ">>>> 근무일인 날의 대여량이 상대적으로 높음 확인\n"
     ]
    }
   ],
   "source": [
    "# '근무일' 컬럼에 따른 count(자전거 대여량) 합계 구하기\n",
    "# 0 : 근무일 아님, 1 : 근무일\n",
    "\n",
    "print(data.groupby('근무일')['count'].sum())\n",
    "print('\\n>>>> 근무일인 날의 대여량이 상대적으로 높음 확인')"
   ]
  },
  {
   "cell_type": "code",
   "execution_count": 26,
   "id": "a6100eff",
   "metadata": {},
   "outputs": [
    {
     "name": "stdout",
     "output_type": "stream",
     "text": [
      "날씨\n",
      "1    1476063\n",
      "2     507160\n",
      "3     102089\n",
      "4        164\n",
      "Name: count, dtype: int64\n",
      "\n",
      ">>>> 날씨가 좋을수록 자전거 대여량이 높아짐 확인\n"
     ]
    }
   ],
   "source": [
    "# '날씨' 컬럼에 따른 count(자전거 대여량) 합계 구하기\n",
    "\n",
    "print(data.groupby('날씨')['count'].sum())\n",
    "print('\\n>>>> 날씨가 좋을수록 자전거 대여량이 높아짐 확인')"
   ]
  },
  {
   "cell_type": "markdown",
   "id": "c03f61e8",
   "metadata": {},
   "source": [
    "### 3.2 전처리\n",
    "\n",
    "#### 파생변수 만들기\n",
    "\n",
    "- datetime 컬럼 분해 > 요일 데이터 새로 생성"
   ]
  },
  {
   "cell_type": "code",
   "execution_count": 32,
   "id": "566e6117",
   "metadata": {},
   "outputs": [
    {
     "name": "stdout",
     "output_type": "stream",
     "text": [
      "[2011 2012]\n",
      "[ 1  2  3  4  5  6  7  8  9 10 11 12]\n",
      "[ 1  2  3  4  5  6  7  8  9 10 11 12 13 14 15 16 17 18 19]\n",
      "[ 0  1  2  3  4  5  6  7  8  9 10 11 12 13 14 15 16 17 18 19 20 21 22 23]\n",
      "[5 6 0 1 2 3 4]\n"
     ]
    }
   ],
   "source": [
    "# 날짜 타입으로 변경\n",
    "X_train['datetime'] = pd.to_datetime(X_train['datetime'])\n",
    "\n",
    "# X_train 의 'datetime' 컬럼에서 연도(year), 월(month), 일(day), 시간(hour), 요일(dayofweek) 변수 생성\n",
    "X_train['year']      = X_train['datetime'].dt.year\n",
    "X_train['month']     = X_train['datetime'].dt.month\n",
    "X_train['day']       = X_train['datetime'].dt.day\n",
    "X_train['hour']      = X_train['datetime'].dt.hour\n",
    "X_train['dayofweek'] = X_train['datetime'].dt.dayofweek\n",
    "\n",
    "# 각각의 컬럼에서 중복제거된 값 확인\n",
    "print(X_train['year'].unique())        # 2011, 2012 년도 데이터\n",
    "print(X_train['month'].unique())       # 1 ~ 2월  데이터\n",
    "print(X_train['day'].unique())         # 1 ~ 19일 데이터\n",
    "print(X_train['hour'].unique())        # 0시 ~ 23시 데이터\n",
    "print(X_train['dayofweek'].unique())   # 0~6"
   ]
  },
  {
   "cell_type": "code",
   "execution_count": 34,
   "id": "5e492398",
   "metadata": {},
   "outputs": [
    {
     "data": {
      "text/html": [
       "<div>\n",
       "<style scoped>\n",
       "    .dataframe tbody tr th:only-of-type {\n",
       "        vertical-align: middle;\n",
       "    }\n",
       "\n",
       "    .dataframe tbody tr th {\n",
       "        vertical-align: top;\n",
       "    }\n",
       "\n",
       "    .dataframe thead th {\n",
       "        text-align: right;\n",
       "    }\n",
       "</style>\n",
       "<table border=\"1\" class=\"dataframe\">\n",
       "  <thead>\n",
       "    <tr style=\"text-align: right;\">\n",
       "      <th></th>\n",
       "      <th>datetime</th>\n",
       "      <th>계절</th>\n",
       "      <th>공휴일</th>\n",
       "      <th>근무일</th>\n",
       "      <th>날씨</th>\n",
       "      <th>온도</th>\n",
       "      <th>체감온도</th>\n",
       "      <th>습도</th>\n",
       "      <th>풍속</th>\n",
       "      <th>year</th>\n",
       "      <th>month</th>\n",
       "      <th>day</th>\n",
       "      <th>hour</th>\n",
       "      <th>dayofweek</th>\n",
       "      <th>datetime</th>\n",
       "      <th>count</th>\n",
       "    </tr>\n",
       "  </thead>\n",
       "  <tbody>\n",
       "    <tr>\n",
       "      <th>0</th>\n",
       "      <td>2011-01-01 00:00:00</td>\n",
       "      <td>1</td>\n",
       "      <td>0</td>\n",
       "      <td>0</td>\n",
       "      <td>1</td>\n",
       "      <td>9.84</td>\n",
       "      <td>14.395</td>\n",
       "      <td>81</td>\n",
       "      <td>0.0</td>\n",
       "      <td>2011</td>\n",
       "      <td>1</td>\n",
       "      <td>1</td>\n",
       "      <td>0</td>\n",
       "      <td>5</td>\n",
       "      <td>2011-01-01 0:00</td>\n",
       "      <td>16</td>\n",
       "    </tr>\n",
       "    <tr>\n",
       "      <th>1</th>\n",
       "      <td>2011-01-01 01:00:00</td>\n",
       "      <td>1</td>\n",
       "      <td>0</td>\n",
       "      <td>0</td>\n",
       "      <td>1</td>\n",
       "      <td>9.02</td>\n",
       "      <td>13.635</td>\n",
       "      <td>80</td>\n",
       "      <td>0.0</td>\n",
       "      <td>2011</td>\n",
       "      <td>1</td>\n",
       "      <td>1</td>\n",
       "      <td>1</td>\n",
       "      <td>5</td>\n",
       "      <td>2011-01-01 1:00</td>\n",
       "      <td>40</td>\n",
       "    </tr>\n",
       "    <tr>\n",
       "      <th>2</th>\n",
       "      <td>2011-01-01 02:00:00</td>\n",
       "      <td>1</td>\n",
       "      <td>0</td>\n",
       "      <td>0</td>\n",
       "      <td>1</td>\n",
       "      <td>9.02</td>\n",
       "      <td>13.635</td>\n",
       "      <td>80</td>\n",
       "      <td>0.0</td>\n",
       "      <td>2011</td>\n",
       "      <td>1</td>\n",
       "      <td>1</td>\n",
       "      <td>2</td>\n",
       "      <td>5</td>\n",
       "      <td>2011-01-01 2:00</td>\n",
       "      <td>32</td>\n",
       "    </tr>\n",
       "    <tr>\n",
       "      <th>3</th>\n",
       "      <td>2011-01-01 03:00:00</td>\n",
       "      <td>1</td>\n",
       "      <td>0</td>\n",
       "      <td>0</td>\n",
       "      <td>1</td>\n",
       "      <td>9.84</td>\n",
       "      <td>14.395</td>\n",
       "      <td>75</td>\n",
       "      <td>0.0</td>\n",
       "      <td>2011</td>\n",
       "      <td>1</td>\n",
       "      <td>1</td>\n",
       "      <td>3</td>\n",
       "      <td>5</td>\n",
       "      <td>2011-01-01 3:00</td>\n",
       "      <td>13</td>\n",
       "    </tr>\n",
       "    <tr>\n",
       "      <th>4</th>\n",
       "      <td>2011-01-01 04:00:00</td>\n",
       "      <td>1</td>\n",
       "      <td>0</td>\n",
       "      <td>0</td>\n",
       "      <td>1</td>\n",
       "      <td>9.84</td>\n",
       "      <td>14.395</td>\n",
       "      <td>75</td>\n",
       "      <td>0.0</td>\n",
       "      <td>2011</td>\n",
       "      <td>1</td>\n",
       "      <td>1</td>\n",
       "      <td>4</td>\n",
       "      <td>5</td>\n",
       "      <td>2011-01-01 4:00</td>\n",
       "      <td>1</td>\n",
       "    </tr>\n",
       "  </tbody>\n",
       "</table>\n",
       "</div>"
      ],
      "text/plain": [
       "             datetime  계절  공휴일  근무일  날씨    온도    체감온도  습도   풍속  year  month  \\\n",
       "0 2011-01-01 00:00:00   1    0    0   1  9.84  14.395  81  0.0  2011      1   \n",
       "1 2011-01-01 01:00:00   1    0    0   1  9.02  13.635  80  0.0  2011      1   \n",
       "2 2011-01-01 02:00:00   1    0    0   1  9.02  13.635  80  0.0  2011      1   \n",
       "3 2011-01-01 03:00:00   1    0    0   1  9.84  14.395  75  0.0  2011      1   \n",
       "4 2011-01-01 04:00:00   1    0    0   1  9.84  14.395  75  0.0  2011      1   \n",
       "\n",
       "   day  hour  dayofweek         datetime  count  \n",
       "0    1     0          5  2011-01-01 0:00     16  \n",
       "1    1     1          5  2011-01-01 1:00     40  \n",
       "2    1     2          5  2011-01-01 2:00     32  \n",
       "3    1     3          5  2011-01-01 3:00     13  \n",
       "4    1     4          5  2011-01-01 4:00      1  "
      ]
     },
     "execution_count": 34,
     "metadata": {},
     "output_type": "execute_result"
    }
   ],
   "source": [
    "# 파생변수 포함된 독립변수와 종혹변수 통합한 data2 만들기\n",
    "data2 = pd.concat([X_train, y_train], axis=1)\n",
    "data2.head()"
   ]
  },
  {
   "cell_type": "markdown",
   "id": "3bc92090",
   "metadata": {},
   "source": [
    "새로 만든 컬럼별 자전거 대여량의 합계 계산 후, 각 독립변수에 따른 count 값의 추세 확인\n",
    "- year, month, day, hour, dayofweek"
   ]
  },
  {
   "cell_type": "code",
   "execution_count": 36,
   "id": "d600f6d6",
   "metadata": {},
   "outputs": [
    {
     "name": "stdout",
     "output_type": "stream",
     "text": [
      "year\n",
      "2011     781979\n",
      "2012    1303497\n",
      "Name: count, dtype: int64\n",
      "\n",
      ">>>> 2012년 대여량이 2011년보다 약 2배 많음 확인\n"
     ]
    }
   ],
   "source": [
    "print(data2.groupby('year')['count'].sum())\n",
    "print('\\n>>>> 2012년 대여량이 2011년보다 약 2배 많음 확인')"
   ]
  },
  {
   "cell_type": "code",
   "execution_count": 39,
   "id": "c8de5aa1",
   "metadata": {
    "scrolled": true
   },
   "outputs": [
    {
     "name": "stdout",
     "output_type": "stream",
     "text": [
      "month\n",
      "1      79884\n",
      "2      99113\n",
      "3     133501\n",
      "4     167402\n",
      "5     200147\n",
      "6     220733\n",
      "7     214617\n",
      "8     213516\n",
      "9     212529\n",
      "10    207434\n",
      "11    176440\n",
      "12    160160\n",
      "Name: count, dtype: int64\n",
      "\n",
      ">>>> 1,2월의 경우 적은편에 속하나, 3~12월은 상대적으로 대여량 증가\n",
      "     대체로 대여량이 비슷한 값을 가지고 있으므로 분석 대상에서 제외\n"
     ]
    }
   ],
   "source": [
    "print(data2.groupby('month')['count'].sum())\n",
    "print('\\n>>>> 1,2월의 경우 적은편에 속하나, 3~12월은 상대적으로 대여량 증가')\n",
    "print('     대체로 대여량이 비슷한 값을 가지고 있으므로 분석 대상에서 제외')"
   ]
  },
  {
   "cell_type": "code",
   "execution_count": 42,
   "id": "1ac712e0",
   "metadata": {},
   "outputs": [],
   "source": [
    "X_train = X_train.drop(columns = ['month'])"
   ]
  },
  {
   "cell_type": "code",
   "execution_count": 44,
   "id": "29a6404d",
   "metadata": {},
   "outputs": [
    {
     "name": "stdout",
     "output_type": "stream",
     "text": [
      "day\n",
      "1     103692\n",
      "2     105381\n",
      "3     111561\n",
      "4     112335\n",
      "5     109115\n",
      "6     108600\n",
      "7     105486\n",
      "8     102770\n",
      "9     108041\n",
      "10    111645\n",
      "11    111146\n",
      "12    109257\n",
      "13    111448\n",
      "14    112406\n",
      "15    115677\n",
      "16    109837\n",
      "17    118255\n",
      "18    108437\n",
      "19    110387\n",
      "Name: count, dtype: int64\n",
      "\n",
      ">>>> 1~19일의 데이터가 모두 비슷한 값 유지하므로 분석 대상에서 제외\n"
     ]
    }
   ],
   "source": [
    "print(data2.groupby('day')['count'].sum())\n",
    "print('\\n>>>> 1~19일의 데이터가 모두 비슷한 값 유지하므로 분석 대상에서 제외')"
   ]
  },
  {
   "cell_type": "code",
   "execution_count": 45,
   "id": "091d1d09",
   "metadata": {},
   "outputs": [],
   "source": [
    "X_train = X_train.drop(columns = ['day'])"
   ]
  },
  {
   "cell_type": "code",
   "execution_count": 47,
   "id": "7f5af7ca",
   "metadata": {},
   "outputs": [
    {
     "name": "stdout",
     "output_type": "stream",
     "text": [
      "hour\n",
      "0      25088\n",
      "1      15372\n",
      "2      10259\n",
      "3       5091\n",
      "4       2832\n",
      "5       8935\n",
      "6      34698\n",
      "7      96968\n",
      "8     165060\n",
      "9     100910\n",
      "10     79667\n",
      "11     95857\n",
      "12    116968\n",
      "13    117551\n",
      "14    111010\n",
      "15    115960\n",
      "16    144266\n",
      "17    213757\n",
      "18    196472\n",
      "19    143767\n",
      "20    104204\n",
      "21     79057\n",
      "22     60911\n",
      "23     40816\n",
      "Name: count, dtype: int64\n",
      "\n",
      ">>>> 출근 시간대인 8-9시, 퇴근 시간대인 17-18시에 자전거 대여량이 상대적으로 높음 확인\n"
     ]
    }
   ],
   "source": [
    "print(data2.groupby('hour')['count'].sum())\n",
    "print('\\n>>>> 출근 시간대인 8-9시, 퇴근 시간대인 17-18시에 자전거 대여량이 상대적으로 높음 확인')"
   ]
  },
  {
   "cell_type": "code",
   "execution_count": 49,
   "id": "343c4201",
   "metadata": {},
   "outputs": [
    {
     "name": "stdout",
     "output_type": "stream",
     "text": [
      "dayofweek\n",
      "0    295296\n",
      "1    291985\n",
      "2    292226\n",
      "3    306401\n",
      "4    302504\n",
      "5    311518\n",
      "6    285546\n",
      "Name: count, dtype: int64\n",
      "\n",
      ">>>> 요일별 대여량이 큰 차이가 없으므로 분석 대상에서 제외\n"
     ]
    }
   ],
   "source": [
    "print(data2.groupby('dayofweek')['count'].sum())\n",
    "print('\\n>>>> 요일별 대여량이 큰 차이가 없으므로 분석 대상에서 제외')"
   ]
  },
  {
   "cell_type": "code",
   "execution_count": 50,
   "id": "41198deb",
   "metadata": {},
   "outputs": [],
   "source": [
    "X_train = X_train.drop(columns = ['dayofweek'])"
   ]
  },
  {
   "cell_type": "code",
   "execution_count": 53,
   "id": "6e40eb82",
   "metadata": {},
   "outputs": [],
   "source": [
    "# 테스트 데이터에도 동일 적용\n",
    "X_test['datetime'] = pd.to_datetime(X_test['datetime'])\n",
    "X_test['year'] = X_test['datetime'].dt.year\n",
    "X_test['hour'] = X_test['datetime'].dt.hour"
   ]
  },
  {
   "cell_type": "markdown",
   "id": "6b02c9c5",
   "metadata": {},
   "source": [
    "#### 불필요한 컬럼 삭제하기\n",
    "\n",
    "- 기존의 datetime 컬럼 삭제\n",
    "- X_test 의 'datetime '컬럼 값은 X_test_dt 변수에 별도 저장"
   ]
  },
  {
   "cell_type": "code",
   "execution_count": 56,
   "id": "ca7c99c1",
   "metadata": {},
   "outputs": [],
   "source": [
    "X_test_dt = X_test['datetime']"
   ]
  },
  {
   "cell_type": "code",
   "execution_count": 57,
   "id": "fabcb444",
   "metadata": {},
   "outputs": [],
   "source": [
    "# datetime 컬럼 삭제\n",
    "X_train = X_train.drop(columns = ['datetime'])\n",
    "X_test  = X_test.drop(columns = ['datetime'])\n",
    "y_train = y_train.drop(columns = ['datetime'])"
   ]
  },
  {
   "cell_type": "markdown",
   "id": "763ad94d",
   "metadata": {},
   "source": [
    "### 3.3 학습 및 평가\n",
    "\n",
    "#### 데이터 분리하기"
   ]
  },
  {
   "cell_type": "code",
   "execution_count": 58,
   "id": "d66336cd",
   "metadata": {},
   "outputs": [
    {
     "name": "stdout",
     "output_type": "stream",
     "text": [
      "(8708, 10) (2178, 10) (8708, 1) (2178, 1)\n"
     ]
    }
   ],
   "source": [
    "from sklearn.model_selection import train_test_split\n",
    "\n",
    "X_TRAIN, X_VAL, Y_TRAIN, Y_VAL = train_test_split(X_train, y_train, test_size = .2, random_state = 42)\n",
    "\n",
    "# 분리된 데이터의 행/열 구조 확인\n",
    "print(X_TRAIN.shape, X_VAL.shape, Y_TRAIN.shape, Y_VAL.shape)"
   ]
  },
  {
   "cell_type": "markdown",
   "id": "4bcfc611",
   "metadata": {},
   "source": [
    "#### 데이터 학습 및 하이퍼 파라미터 튜닝"
   ]
  },
  {
   "cell_type": "code",
   "execution_count": 59,
   "id": "3a8b40d9",
   "metadata": {},
   "outputs": [],
   "source": [
    "from xgboost import XGBClassifier, XGBRegressor"
   ]
  },
  {
   "cell_type": "markdown",
   "id": "ed872250",
   "metadata": {},
   "source": [
    "#### [1] XGB 에서 대표적으로 사용하는 하이퍼 파라미터 작성\n",
    "\n",
    "- n_estimators = 100, max_depth = 3"
   ]
  },
  {
   "cell_type": "code",
   "execution_count": 60,
   "id": "487e453b",
   "metadata": {},
   "outputs": [
    {
     "data": {
      "text/plain": [
       "XGBRegressor(base_score=0.5, booster='gbtree', colsample_bylevel=1,\n",
       "             colsample_bynode=1, colsample_bytree=1, enable_categorical=False,\n",
       "             gamma=0, gpu_id=-1, importance_type=None,\n",
       "             interaction_constraints='', learning_rate=0.300000012,\n",
       "             max_delta_step=0, max_depth=3, min_child_weight=1, missing=nan,\n",
       "             monotone_constraints='()', n_estimators=100, n_jobs=8,\n",
       "             num_parallel_tree=1, predictor='auto', random_state=42,\n",
       "             reg_alpha=0, reg_lambda=1, scale_pos_weight=1, subsample=1,\n",
       "             tree_method='exact', validate_parameters=1, verbosity=None)"
      ]
     },
     "execution_count": 60,
     "metadata": {},
     "output_type": "execute_result"
    }
   ],
   "source": [
    "model1 = XGBRegressor(n_estimators = 100, max_depth = 3, random_state = 42)\n",
    "model1.fit(X_TRAIN, Y_TRAIN)"
   ]
  },
  {
   "cell_type": "markdown",
   "id": "3c88d58d",
   "metadata": {},
   "source": [
    "#### [2] 하이퍼 파라미터 값 변경 후 학습"
   ]
  },
  {
   "cell_type": "code",
   "execution_count": 61,
   "id": "d32bfd1e",
   "metadata": {},
   "outputs": [
    {
     "data": {
      "text/plain": [
       "XGBRegressor(base_score=0.5, booster='gbtree', colsample_bylevel=1,\n",
       "             colsample_bynode=1, colsample_bytree=1, enable_categorical=False,\n",
       "             gamma=0, gpu_id=-1, importance_type=None,\n",
       "             interaction_constraints='', learning_rate=0.300000012,\n",
       "             max_delta_step=0, max_depth=5, min_child_weight=1, missing=nan,\n",
       "             monotone_constraints='()', n_estimators=200, n_jobs=8,\n",
       "             num_parallel_tree=1, predictor='auto', random_state=42,\n",
       "             reg_alpha=0, reg_lambda=1, scale_pos_weight=1, subsample=1,\n",
       "             tree_method='exact', validate_parameters=1, verbosity=None)"
      ]
     },
     "execution_count": 61,
     "metadata": {},
     "output_type": "execute_result"
    }
   ],
   "source": [
    "model2 = XGBRegressor(n_estimators = 200, max_depth = 5, random_state = 42)\n",
    "model2.fit(X_TRAIN, Y_TRAIN)"
   ]
  },
  {
   "cell_type": "markdown",
   "id": "a56dc42f",
   "metadata": {},
   "source": [
    "#### 결과 예측하기"
   ]
  },
  {
   "cell_type": "code",
   "execution_count": 62,
   "id": "5f4f8bc9",
   "metadata": {},
   "outputs": [],
   "source": [
    "y_pred1 = pd.DataFrame(model1.predict(X_test), columns = ['count'])\n",
    "y_pred2 = pd.DataFrame(model2.predict(X_test), columns = ['count'])"
   ]
  },
  {
   "cell_type": "markdown",
   "id": "7620497f",
   "metadata": {},
   "source": [
    "예측된 y_pred 변수는 음수로 예측될 가능성이 있으므로 음수는 모두 0으로 변경"
   ]
  },
  {
   "cell_type": "code",
   "execution_count": 63,
   "id": "be053b58",
   "metadata": {},
   "outputs": [
    {
     "name": "stdout",
     "output_type": "stream",
     "text": [
      "      count\n",
      "0  7.836666\n",
      "1  0.000000\n",
      "2  0.000000\n",
      "3  0.000000\n",
      "4  0.000000\n",
      "       count\n",
      "0  15.401005\n",
      "1   0.000000\n",
      "2   0.000000\n",
      "3   0.000000\n",
      "4   0.000000\n"
     ]
    }
   ],
   "source": [
    "y_pred1[y_pred1['count'] < 0] = 0\n",
    "y_pred2[y_pred2['count'] < 0] = 0\n",
    "\n",
    "print(pd.DataFrame(y_pred1).head())\n",
    "print(pd.DataFrame(y_pred2).head())"
   ]
  },
  {
   "cell_type": "markdown",
   "id": "39ca99a8",
   "metadata": {},
   "source": [
    "검증용 세트 구성"
   ]
  },
  {
   "cell_type": "code",
   "execution_count": 66,
   "id": "a363b1cf",
   "metadata": {},
   "outputs": [],
   "source": [
    "Y_VAL_PRED1 = pd.DataFrame(model1.predict(X_VAL), columns = ['count'])\n",
    "Y_VAL_PRED2 = pd.DataFrame(model2.predict(X_VAL), columns = ['count'])\n",
    "\n",
    "# 'count' 컬럼 값이 음수인 데이터 추출하여 0으로 바꾸기\n",
    "Y_VAL_PRED1[Y_VAL_PRED1['count'] < 0] = 0\n",
    "Y_VAL_PRED2[Y_VAL_PRED2['count'] < 0] = 0"
   ]
  },
  {
   "cell_type": "markdown",
   "id": "80500391",
   "metadata": {},
   "source": [
    "#### 모델 평가하기"
   ]
  },
  {
   "cell_type": "code",
   "execution_count": 67,
   "id": "579a35a3",
   "metadata": {},
   "outputs": [],
   "source": [
    "from sklearn.metrics import r2_score"
   ]
  },
  {
   "cell_type": "code",
   "execution_count": 68,
   "id": "83f39412",
   "metadata": {},
   "outputs": [
    {
     "name": "stdout",
     "output_type": "stream",
     "text": [
      "0.9101562004243906\n",
      "0.9438512727544658\n"
     ]
    }
   ],
   "source": [
    "print(r2_score(Y_VAL, Y_VAL_PRED1))\n",
    "print(r2_score(Y_VAL, Y_VAL_PRED2)) # 정답, 예상값 비교 > 두번째 모델 최종 선정"
   ]
  },
  {
   "cell_type": "markdown",
   "id": "8488fcb7",
   "metadata": {},
   "source": [
    "### 결과 제출하기"
   ]
  },
  {
   "cell_type": "code",
   "execution_count": 74,
   "id": "2c5707c7",
   "metadata": {},
   "outputs": [],
   "source": [
    "final = pd.concat([X_test_dt, y_pred2], axis=1)\n",
    "final.to_csv('data/1234.csv', index=False)"
   ]
  },
  {
   "cell_type": "code",
   "execution_count": null,
   "id": "96e6cd53",
   "metadata": {},
   "outputs": [],
   "source": [
    "pd.read_csv('data/1234.csv', encoding = 'c[]')"
   ]
  }
 ],
 "metadata": {
  "kernelspec": {
   "display_name": "Python 3 (ipykernel)",
   "language": "python",
   "name": "python3"
  },
  "language_info": {
   "codemirror_mode": {
    "name": "ipython",
    "version": 3
   },
   "file_extension": ".py",
   "mimetype": "text/x-python",
   "name": "python",
   "nbconvert_exporter": "python",
   "pygments_lexer": "ipython3",
   "version": "3.7.13"
  }
 },
 "nbformat": 4,
 "nbformat_minor": 5
}
