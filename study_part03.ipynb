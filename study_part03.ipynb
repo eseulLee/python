{
 "cells": [
  {
   "cell_type": "markdown",
   "id": "56de48c2",
   "metadata": {},
   "source": [
    "### 데이터 이해 : mtcars.csv\n",
    "1. mpg : 연비 (Miles/gallon) >> target(종속변수)\n",
    "2. Unnamed: 0 : 자동차 모델명\n",
    "3. cyl : 엔진 기통수 (Number of cylinders)\n",
    "4. disp : 배기량 (Displacement)\n",
    "5. hp : 마력 (Gross horsepower)\n",
    "6. drat : 뒤 차축비 (Rear axle ratio)\n",
    "7. wt : 무게 (Weight)\n",
    "8. qsec : 1/4 mile 도달 시간 (1/4 mile time)\n",
    "9. vs : V형 엔진/직렬 엔진 (V engine/ Straight engine)\n",
    "10. am : 변속기 (Transmission)\n",
    "11. gear : 전진기어 개수 (Number of forward gears)\n",
    "12. carb : 기화기 개수 (Number of carburetors)"
   ]
  },
  {
   "cell_type": "markdown",
   "id": "be02737d",
   "metadata": {},
   "source": [
    "## 데이터 분석 과정\n",
    "1. 데이터 준비\n",
    "2. 데이터 관찰 및 가공\n",
    "3. 데이터 분리 (학습 데이터/ 테스트 데이터)\n",
    "4. 학습 및 평가(검증)\n",
    "5. 결과 출력 및 저장\n",
    "\n",
    "## tips\n",
    "- 실제 시험 환경 특성 상, 반드시 print() 함수 사용해야 함\n",
    "- type(), head(), shape() 등의 결괏값 확인시 print() 사용 필수!"
   ]
  },
  {
   "cell_type": "markdown",
   "id": "89948cfe",
   "metadata": {},
   "source": [
    "### 1. 데이터 준비하기: Data Load"
   ]
  },
  {
   "cell_type": "code",
   "execution_count": 4,
   "id": "3c899b8e",
   "metadata": {},
   "outputs": [],
   "source": [
    "import pandas as pd\n",
    "data = pd.read_csv('bigData-main/mtcars.csv')"
   ]
  },
  {
   "cell_type": "code",
   "execution_count": 5,
   "id": "ae80e040",
   "metadata": {},
   "outputs": [
    {
     "data": {
      "text/html": [
       "<div>\n",
       "<style scoped>\n",
       "    .dataframe tbody tr th:only-of-type {\n",
       "        vertical-align: middle;\n",
       "    }\n",
       "\n",
       "    .dataframe tbody tr th {\n",
       "        vertical-align: top;\n",
       "    }\n",
       "\n",
       "    .dataframe thead th {\n",
       "        text-align: right;\n",
       "    }\n",
       "</style>\n",
       "<table border=\"1\" class=\"dataframe\">\n",
       "  <thead>\n",
       "    <tr style=\"text-align: right;\">\n",
       "      <th></th>\n",
       "      <th>Unnamed: 0</th>\n",
       "      <th>mpg</th>\n",
       "      <th>cyl</th>\n",
       "      <th>disp</th>\n",
       "      <th>hp</th>\n",
       "      <th>drat</th>\n",
       "      <th>wt</th>\n",
       "      <th>qsec</th>\n",
       "      <th>vs</th>\n",
       "      <th>am</th>\n",
       "      <th>gear</th>\n",
       "      <th>carb</th>\n",
       "    </tr>\n",
       "  </thead>\n",
       "  <tbody>\n",
       "    <tr>\n",
       "      <th>0</th>\n",
       "      <td>Mazda RX4</td>\n",
       "      <td>21.0</td>\n",
       "      <td>6.0</td>\n",
       "      <td>160.0</td>\n",
       "      <td>110</td>\n",
       "      <td>3.90</td>\n",
       "      <td>2.620</td>\n",
       "      <td>16.46</td>\n",
       "      <td>0</td>\n",
       "      <td>manual</td>\n",
       "      <td>4</td>\n",
       "      <td>4</td>\n",
       "    </tr>\n",
       "    <tr>\n",
       "      <th>1</th>\n",
       "      <td>Mazda RX4 Wag</td>\n",
       "      <td>21.0</td>\n",
       "      <td>6.0</td>\n",
       "      <td>160.0</td>\n",
       "      <td>110</td>\n",
       "      <td>3.90</td>\n",
       "      <td>2.875</td>\n",
       "      <td>17.02</td>\n",
       "      <td>0</td>\n",
       "      <td>manual</td>\n",
       "      <td>4</td>\n",
       "      <td>4</td>\n",
       "    </tr>\n",
       "    <tr>\n",
       "      <th>2</th>\n",
       "      <td>Datsun 710</td>\n",
       "      <td>22.8</td>\n",
       "      <td>4.0</td>\n",
       "      <td>108.0</td>\n",
       "      <td>93</td>\n",
       "      <td>3.85</td>\n",
       "      <td>2.320</td>\n",
       "      <td>18.61</td>\n",
       "      <td>1</td>\n",
       "      <td>manual</td>\n",
       "      <td>4</td>\n",
       "      <td>1</td>\n",
       "    </tr>\n",
       "    <tr>\n",
       "      <th>3</th>\n",
       "      <td>Hornet 4 Drive</td>\n",
       "      <td>21.4</td>\n",
       "      <td>6.0</td>\n",
       "      <td>258.0</td>\n",
       "      <td>110</td>\n",
       "      <td>3.08</td>\n",
       "      <td>3.215</td>\n",
       "      <td>0.10</td>\n",
       "      <td>1</td>\n",
       "      <td>auto</td>\n",
       "      <td>3</td>\n",
       "      <td>1</td>\n",
       "    </tr>\n",
       "    <tr>\n",
       "      <th>4</th>\n",
       "      <td>Hornet Sportabout</td>\n",
       "      <td>18.7</td>\n",
       "      <td>8.0</td>\n",
       "      <td>360.0</td>\n",
       "      <td>175</td>\n",
       "      <td>3.15</td>\n",
       "      <td>3.440</td>\n",
       "      <td>17.02</td>\n",
       "      <td>0</td>\n",
       "      <td>auto</td>\n",
       "      <td>3</td>\n",
       "      <td>2</td>\n",
       "    </tr>\n",
       "  </tbody>\n",
       "</table>\n",
       "</div>"
      ],
      "text/plain": [
       "          Unnamed: 0   mpg  cyl   disp   hp  drat     wt   qsec  vs      am  \\\n",
       "0          Mazda RX4  21.0  6.0  160.0  110  3.90  2.620  16.46   0  manual   \n",
       "1      Mazda RX4 Wag  21.0  6.0  160.0  110  3.90  2.875  17.02   0  manual   \n",
       "2         Datsun 710  22.8  4.0  108.0   93  3.85  2.320  18.61   1  manual   \n",
       "3     Hornet 4 Drive  21.4  6.0  258.0  110  3.08  3.215   0.10   1    auto   \n",
       "4  Hornet Sportabout  18.7  8.0  360.0  175  3.15  3.440  17.02   0    auto   \n",
       "\n",
       "  gear  carb  \n",
       "0    4     4  \n",
       "1    4     4  \n",
       "2    4     1  \n",
       "3    3     1  \n",
       "4    3     2  "
      ]
     },
     "metadata": {},
     "output_type": "display_data"
    }
   ],
   "source": [
    "# data 변수 상위 5개 출력\n",
    "display(data.head())"
   ]
  },
  {
   "cell_type": "markdown",
   "id": "c5960363",
   "metadata": {},
   "source": [
    "### 데이터 둘러보기"
   ]
  },
  {
   "cell_type": "code",
   "execution_count": 6,
   "id": "131dd248",
   "metadata": {},
   "outputs": [
    {
     "name": "stdout",
     "output_type": "stream",
     "text": [
      "(32, 12)\n"
     ]
    }
   ],
   "source": [
    "# 데이터 모양 확인\n",
    "print(data.shape)"
   ]
  },
  {
   "cell_type": "code",
   "execution_count": 7,
   "id": "2bd8fbaf",
   "metadata": {},
   "outputs": [
    {
     "name": "stdout",
     "output_type": "stream",
     "text": [
      "<class 'pandas.core.frame.DataFrame'>\n"
     ]
    }
   ],
   "source": [
    "# 데이터 타입 확인\n",
    "print(type(data))"
   ]
  },
  {
   "cell_type": "code",
   "execution_count": 8,
   "id": "bef83558",
   "metadata": {},
   "outputs": [
    {
     "name": "stdout",
     "output_type": "stream",
     "text": [
      "Index(['Unnamed: 0', 'mpg', 'cyl', 'disp', 'hp', 'drat', 'wt', 'qsec', 'vs',\n",
      "       'am', 'gear', 'carb'],\n",
      "      dtype='object')\n"
     ]
    }
   ],
   "source": [
    "# 데이터 열 확인\n",
    "print(data.columns)"
   ]
  },
  {
   "cell_type": "code",
   "execution_count": 9,
   "id": "c908a00c",
   "metadata": {},
   "outputs": [
    {
     "name": "stdout",
     "output_type": "stream",
     "text": [
      "             mpg        cyl        disp          hp       drat         wt  \\\n",
      "count  32.000000  30.000000   32.000000   32.000000  32.000000  32.000000   \n",
      "mean   20.090625   7.600000  230.721875  146.687500   3.596563   3.217250   \n",
      "std     6.026948   8.194195  123.938694   68.562868   0.534679   0.978457   \n",
      "min    10.400000   4.000000   71.100000   52.000000   2.760000   1.513000   \n",
      "25%    15.425000   4.000000  120.825000   96.500000   3.080000   2.581250   \n",
      "50%    19.200000   6.000000  196.300000  123.000000   3.695000   3.325000   \n",
      "75%    22.800000   8.000000  326.000000  180.000000   3.920000   3.610000   \n",
      "max    33.900000  50.000000  472.000000  335.000000   4.930000   5.424000   \n",
      "\n",
      "             qsec         vs     carb  \n",
      "count   31.000000  32.000000  32.0000  \n",
      "mean    19.866774   0.437500   2.8125  \n",
      "std     15.310469   0.504016   1.6152  \n",
      "min      0.100000   0.000000   1.0000  \n",
      "25%     16.785000   0.000000   2.0000  \n",
      "50%     17.600000   0.000000   2.0000  \n",
      "75%     18.755000   1.000000   4.0000  \n",
      "max    100.000000   1.000000   8.0000  \n"
     ]
    }
   ],
   "source": [
    "# 기초통계랑 확인\n",
    "print(data.describe())"
   ]
  },
  {
   "cell_type": "code",
   "execution_count": 10,
   "id": "ea92be9b",
   "metadata": {},
   "outputs": [
    {
     "name": "stdout",
     "output_type": "stream",
     "text": [
      "count     32.000000\n",
      "mean     146.687500\n",
      "std       68.562868\n",
      "min       52.000000\n",
      "25%       96.500000\n",
      "50%      123.000000\n",
      "75%      180.000000\n",
      "max      335.000000\n",
      "Name: hp, dtype: float64\n"
     ]
    }
   ],
   "source": [
    "# hp 수치형 변수의 기초통계량 확인\n",
    "print(data['hp'].describe())"
   ]
  },
  {
   "cell_type": "code",
   "execution_count": 11,
   "id": "1f6d912c",
   "metadata": {},
   "outputs": [
    {
     "name": "stdout",
     "output_type": "stream",
     "text": [
      "am   :  ['manual' 'auto']\n",
      "gear :  ['4' '3' '*3' '5' '*5']\n",
      "vs   :  [0 1]\n"
     ]
    }
   ],
   "source": [
    "# 데이터 중복 제거 : unique\n",
    "print('am   : ', data['am'].unique())\n",
    "print('gear : ', data['gear'].unique())\n",
    "print('vs   : ', data['vs'].unique())"
   ]
  },
  {
   "cell_type": "code",
   "execution_count": 12,
   "id": "538df836",
   "metadata": {},
   "outputs": [
    {
     "name": "stdout",
     "output_type": "stream",
     "text": [
      "<class 'pandas.core.frame.DataFrame'>\n",
      "RangeIndex: 32 entries, 0 to 31\n",
      "Data columns (total 12 columns):\n",
      " #   Column      Non-Null Count  Dtype  \n",
      "---  ------      --------------  -----  \n",
      " 0   Unnamed: 0  32 non-null     object \n",
      " 1   mpg         32 non-null     float64\n",
      " 2   cyl         30 non-null     float64\n",
      " 3   disp        32 non-null     float64\n",
      " 4   hp          32 non-null     int64  \n",
      " 5   drat        32 non-null     float64\n",
      " 6   wt          32 non-null     float64\n",
      " 7   qsec        31 non-null     float64\n",
      " 8   vs          32 non-null     int64  \n",
      " 9   am          32 non-null     object \n",
      " 10  gear        32 non-null     object \n",
      " 11  carb        32 non-null     int64  \n",
      "dtypes: float64(6), int64(3), object(3)\n",
      "memory usage: 3.1+ KB\n",
      "None\n"
     ]
    }
   ],
   "source": [
    "# 요약정보 확인\n",
    "print(data.info())"
   ]
  },
  {
   "cell_type": "code",
   "execution_count": 13,
   "id": "9271f182",
   "metadata": {},
   "outputs": [
    {
     "data": {
      "text/html": [
       "<div>\n",
       "<style scoped>\n",
       "    .dataframe tbody tr th:only-of-type {\n",
       "        vertical-align: middle;\n",
       "    }\n",
       "\n",
       "    .dataframe tbody tr th {\n",
       "        vertical-align: top;\n",
       "    }\n",
       "\n",
       "    .dataframe thead th {\n",
       "        text-align: right;\n",
       "    }\n",
       "</style>\n",
       "<table border=\"1\" class=\"dataframe\">\n",
       "  <thead>\n",
       "    <tr style=\"text-align: right;\">\n",
       "      <th></th>\n",
       "      <th>mpg</th>\n",
       "      <th>cyl</th>\n",
       "      <th>disp</th>\n",
       "      <th>hp</th>\n",
       "      <th>drat</th>\n",
       "      <th>wt</th>\n",
       "      <th>qsec</th>\n",
       "      <th>vs</th>\n",
       "      <th>carb</th>\n",
       "    </tr>\n",
       "  </thead>\n",
       "  <tbody>\n",
       "    <tr>\n",
       "      <th>mpg</th>\n",
       "      <td>1.000000</td>\n",
       "      <td>-0.460227</td>\n",
       "      <td>-0.847551</td>\n",
       "      <td>-0.776168</td>\n",
       "      <td>0.681172</td>\n",
       "      <td>-0.867659</td>\n",
       "      <td>0.013668</td>\n",
       "      <td>0.664039</td>\n",
       "      <td>-0.550925</td>\n",
       "    </tr>\n",
       "    <tr>\n",
       "      <th>cyl</th>\n",
       "      <td>-0.460227</td>\n",
       "      <td>1.000000</td>\n",
       "      <td>0.544876</td>\n",
       "      <td>0.323293</td>\n",
       "      <td>-0.372671</td>\n",
       "      <td>0.533690</td>\n",
       "      <td>-0.012755</td>\n",
       "      <td>-0.323960</td>\n",
       "      <td>0.239980</td>\n",
       "    </tr>\n",
       "    <tr>\n",
       "      <th>disp</th>\n",
       "      <td>-0.847551</td>\n",
       "      <td>0.544876</td>\n",
       "      <td>1.000000</td>\n",
       "      <td>0.790949</td>\n",
       "      <td>-0.710214</td>\n",
       "      <td>0.887980</td>\n",
       "      <td>0.181810</td>\n",
       "      <td>-0.710416</td>\n",
       "      <td>0.394977</td>\n",
       "    </tr>\n",
       "    <tr>\n",
       "      <th>hp</th>\n",
       "      <td>-0.776168</td>\n",
       "      <td>0.323293</td>\n",
       "      <td>0.790949</td>\n",
       "      <td>1.000000</td>\n",
       "      <td>-0.448759</td>\n",
       "      <td>0.658748</td>\n",
       "      <td>0.010807</td>\n",
       "      <td>-0.723097</td>\n",
       "      <td>0.749812</td>\n",
       "    </tr>\n",
       "    <tr>\n",
       "      <th>drat</th>\n",
       "      <td>0.681172</td>\n",
       "      <td>-0.372671</td>\n",
       "      <td>-0.710214</td>\n",
       "      <td>-0.448759</td>\n",
       "      <td>1.000000</td>\n",
       "      <td>-0.712441</td>\n",
       "      <td>-0.120283</td>\n",
       "      <td>0.440278</td>\n",
       "      <td>-0.090790</td>\n",
       "    </tr>\n",
       "    <tr>\n",
       "      <th>wt</th>\n",
       "      <td>-0.867659</td>\n",
       "      <td>0.533690</td>\n",
       "      <td>0.887980</td>\n",
       "      <td>0.658748</td>\n",
       "      <td>-0.712441</td>\n",
       "      <td>1.000000</td>\n",
       "      <td>0.093900</td>\n",
       "      <td>-0.554916</td>\n",
       "      <td>0.427606</td>\n",
       "    </tr>\n",
       "    <tr>\n",
       "      <th>qsec</th>\n",
       "      <td>0.013668</td>\n",
       "      <td>-0.012755</td>\n",
       "      <td>0.181810</td>\n",
       "      <td>0.010807</td>\n",
       "      <td>-0.120283</td>\n",
       "      <td>0.093900</td>\n",
       "      <td>1.000000</td>\n",
       "      <td>-0.112146</td>\n",
       "      <td>-0.120312</td>\n",
       "    </tr>\n",
       "    <tr>\n",
       "      <th>vs</th>\n",
       "      <td>0.664039</td>\n",
       "      <td>-0.323960</td>\n",
       "      <td>-0.710416</td>\n",
       "      <td>-0.723097</td>\n",
       "      <td>0.440278</td>\n",
       "      <td>-0.554916</td>\n",
       "      <td>-0.112146</td>\n",
       "      <td>1.000000</td>\n",
       "      <td>-0.569607</td>\n",
       "    </tr>\n",
       "    <tr>\n",
       "      <th>carb</th>\n",
       "      <td>-0.550925</td>\n",
       "      <td>0.239980</td>\n",
       "      <td>0.394977</td>\n",
       "      <td>0.749812</td>\n",
       "      <td>-0.090790</td>\n",
       "      <td>0.427606</td>\n",
       "      <td>-0.120312</td>\n",
       "      <td>-0.569607</td>\n",
       "      <td>1.000000</td>\n",
       "    </tr>\n",
       "  </tbody>\n",
       "</table>\n",
       "</div>"
      ],
      "text/plain": [
       "           mpg       cyl      disp        hp      drat        wt      qsec  \\\n",
       "mpg   1.000000 -0.460227 -0.847551 -0.776168  0.681172 -0.867659  0.013668   \n",
       "cyl  -0.460227  1.000000  0.544876  0.323293 -0.372671  0.533690 -0.012755   \n",
       "disp -0.847551  0.544876  1.000000  0.790949 -0.710214  0.887980  0.181810   \n",
       "hp   -0.776168  0.323293  0.790949  1.000000 -0.448759  0.658748  0.010807   \n",
       "drat  0.681172 -0.372671 -0.710214 -0.448759  1.000000 -0.712441 -0.120283   \n",
       "wt   -0.867659  0.533690  0.887980  0.658748 -0.712441  1.000000  0.093900   \n",
       "qsec  0.013668 -0.012755  0.181810  0.010807 -0.120283  0.093900  1.000000   \n",
       "vs    0.664039 -0.323960 -0.710416 -0.723097  0.440278 -0.554916 -0.112146   \n",
       "carb -0.550925  0.239980  0.394977  0.749812 -0.090790  0.427606 -0.120312   \n",
       "\n",
       "            vs      carb  \n",
       "mpg   0.664039 -0.550925  \n",
       "cyl  -0.323960  0.239980  \n",
       "disp -0.710416  0.394977  \n",
       "hp   -0.723097  0.749812  \n",
       "drat  0.440278 -0.090790  \n",
       "wt   -0.554916  0.427606  \n",
       "qsec -0.112146 -0.120312  \n",
       "vs    1.000000 -0.569607  \n",
       "carb -0.569607  1.000000  "
      ]
     },
     "metadata": {},
     "output_type": "display_data"
    }
   ],
   "source": [
    "# 상관관계 구하기\n",
    "display(data.corr())"
   ]
  },
  {
   "cell_type": "markdown",
   "id": "63af63a0",
   "metadata": {},
   "source": [
    "### 종속변수/ 독립변수 분리"
   ]
  },
  {
   "cell_type": "code",
   "execution_count": 14,
   "id": "12599a94",
   "metadata": {},
   "outputs": [],
   "source": [
    "X = data.drop(columns = 'mpg')\n",
    "y = data['mpg']"
   ]
  },
  {
   "cell_type": "code",
   "execution_count": 15,
   "id": "3bd7caff",
   "metadata": {},
   "outputs": [
    {
     "name": "stdout",
     "output_type": "stream",
     "text": [
      "          Unnamed: 0  cyl   disp   hp  drat     wt   qsec  vs      am gear  \\\n",
      "0          Mazda RX4  6.0  160.0  110  3.90  2.620  16.46   0  manual    4   \n",
      "1      Mazda RX4 Wag  6.0  160.0  110  3.90  2.875  17.02   0  manual    4   \n",
      "2         Datsun 710  4.0  108.0   93  3.85  2.320  18.61   1  manual    4   \n",
      "3     Hornet 4 Drive  6.0  258.0  110  3.08  3.215   0.10   1    auto    3   \n",
      "4  Hornet Sportabout  8.0  360.0  175  3.15  3.440  17.02   0    auto    3   \n",
      "\n",
      "   carb  \n",
      "0     4  \n",
      "1     4  \n",
      "2     1  \n",
      "3     1  \n",
      "4     2  \n"
     ]
    }
   ],
   "source": [
    "# 독립변수 X 의 상위 5개 행을 확인\n",
    "print(X.head())"
   ]
  },
  {
   "cell_type": "code",
   "execution_count": 16,
   "id": "74fb90f6",
   "metadata": {},
   "outputs": [
    {
     "name": "stdout",
     "output_type": "stream",
     "text": [
      "Index(['Unnamed: 0', 'cyl', 'disp', 'hp', 'drat', 'wt', 'qsec', 'vs', 'am',\n",
      "       'gear', 'carb'],\n",
      "      dtype='object')\n"
     ]
    }
   ],
   "source": [
    "# 독립변수 X의 컬럼 이름 출력\n",
    "print(X.columns)"
   ]
  },
  {
   "cell_type": "code",
   "execution_count": 17,
   "id": "b0de308a",
   "metadata": {},
   "outputs": [
    {
     "name": "stdout",
     "output_type": "stream",
     "text": [
      "0    21.0\n",
      "1    21.0\n",
      "2    22.8\n",
      "3    21.4\n",
      "4    18.7\n",
      "Name: mpg, dtype: float64\n"
     ]
    }
   ],
   "source": [
    "print(y.head())"
   ]
  },
  {
   "cell_type": "markdown",
   "id": "b1450cf5",
   "metadata": {},
   "source": [
    "### 2. 데이터 관찰 및 가공 : 전처리(preprocessing)\n",
    "- 필요하지 않은 열 삭제\n",
    "- 누락된 값들은 다른 값으로 바꾸거나 삭제\n",
    "- 잘못된 값을 바르게 수정\n",
    "- 일반적인 범위에서 벗어나는 이상값 조정\n",
    "- 각 열들의 숫자 값을 동일한 범위의 숫자로 변경\n",
    "- 의도한 데이터 타입이 아닌 경우, 적절한 데이터 타입으로 변경\n",
    "- 문자로 구성된 범주형 데이터를 숫자형으로 변경\n",
    "- 분석에 필요한 새로운 열 생성\n",
    "\n",
    "실기 환경은 시각화가 불가능하므로 텍스트 기반의 전처리만 가능함 인지!"
   ]
  },
  {
   "cell_type": "markdown",
   "id": "7b1f46b4",
   "metadata": {},
   "source": [
    "### 불필요한 열 삭제"
   ]
  },
  {
   "cell_type": "code",
   "execution_count": 18,
   "id": "0e21c2c5",
   "metadata": {},
   "outputs": [
    {
     "name": "stdout",
     "output_type": "stream",
     "text": [
      "          Unnamed: 0  cyl   disp   hp  drat     wt   qsec  vs      am gear  \\\n",
      "0          Mazda RX4  6.0  160.0  110  3.90  2.620  16.46   0  manual    4   \n",
      "1      Mazda RX4 Wag  6.0  160.0  110  3.90  2.875  17.02   0  manual    4   \n",
      "2         Datsun 710  4.0  108.0   93  3.85  2.320  18.61   1  manual    4   \n",
      "3     Hornet 4 Drive  6.0  258.0  110  3.08  3.215   0.10   1    auto    3   \n",
      "4  Hornet Sportabout  8.0  360.0  175  3.15  3.440  17.02   0    auto    3   \n",
      "\n",
      "   carb  \n",
      "0     4  \n",
      "1     4  \n",
      "2     1  \n",
      "3     1  \n",
      "4     2  \n"
     ]
    }
   ],
   "source": [
    "# X 변수의 상위 5개 행 데이터 확인\n",
    "print(X.head())"
   ]
  },
  {
   "cell_type": "markdown",
   "id": "2c12366d",
   "metadata": {},
   "source": [
    "Unnamed: 0 >> 모델명의 의미 가진 row 삭제"
   ]
  },
  {
   "cell_type": "code",
   "execution_count": 19,
   "id": "6fb32169",
   "metadata": {},
   "outputs": [],
   "source": [
    "X = X.iloc[:, 1:]"
   ]
  },
  {
   "cell_type": "code",
   "execution_count": 20,
   "id": "caf28385",
   "metadata": {},
   "outputs": [
    {
     "name": "stdout",
     "output_type": "stream",
     "text": [
      "   cyl   disp   hp  drat     wt   qsec  vs      am gear  carb\n",
      "0  6.0  160.0  110  3.90  2.620  16.46   0  manual    4     4\n",
      "1  6.0  160.0  110  3.90  2.875  17.02   0  manual    4     4\n",
      "2  4.0  108.0   93  3.85  2.320  18.61   1  manual    4     1\n",
      "3  6.0  258.0  110  3.08  3.215   0.10   1    auto    3     1\n",
      "4  8.0  360.0  175  3.15  3.440  17.02   0    auto    3     2\n"
     ]
    }
   ],
   "source": [
    "print(X.head())    "
   ]
  },
  {
   "cell_type": "markdown",
   "id": "c8e6d926",
   "metadata": {},
   "source": [
    "### 결측값 처리\n",
    "\n",
    "- 결측치 삭제 비추천! 선택하지 말 것!!\n",
    "- 다른 값으로 변환하는 방향으로 전처리를 수행\n",
    "- 단, 문제에서 결측치 삭제하라고 명시하는 경우 문제의 요구대로 결측치 삭제해야 함"
   ]
  },
  {
   "cell_type": "code",
   "execution_count": 21,
   "id": "38336ecf",
   "metadata": {},
   "outputs": [
    {
     "data": {
      "text/html": [
       "<div>\n",
       "<style scoped>\n",
       "    .dataframe tbody tr th:only-of-type {\n",
       "        vertical-align: middle;\n",
       "    }\n",
       "\n",
       "    .dataframe tbody tr th {\n",
       "        vertical-align: top;\n",
       "    }\n",
       "\n",
       "    .dataframe thead th {\n",
       "        text-align: right;\n",
       "    }\n",
       "</style>\n",
       "<table border=\"1\" class=\"dataframe\">\n",
       "  <thead>\n",
       "    <tr style=\"text-align: right;\">\n",
       "      <th></th>\n",
       "      <th>cyl</th>\n",
       "      <th>disp</th>\n",
       "      <th>hp</th>\n",
       "      <th>drat</th>\n",
       "      <th>wt</th>\n",
       "      <th>qsec</th>\n",
       "      <th>vs</th>\n",
       "      <th>am</th>\n",
       "      <th>gear</th>\n",
       "      <th>carb</th>\n",
       "    </tr>\n",
       "  </thead>\n",
       "  <tbody>\n",
       "    <tr>\n",
       "      <th>0</th>\n",
       "      <td>False</td>\n",
       "      <td>False</td>\n",
       "      <td>False</td>\n",
       "      <td>False</td>\n",
       "      <td>False</td>\n",
       "      <td>False</td>\n",
       "      <td>False</td>\n",
       "      <td>False</td>\n",
       "      <td>False</td>\n",
       "      <td>False</td>\n",
       "    </tr>\n",
       "    <tr>\n",
       "      <th>1</th>\n",
       "      <td>False</td>\n",
       "      <td>False</td>\n",
       "      <td>False</td>\n",
       "      <td>False</td>\n",
       "      <td>False</td>\n",
       "      <td>False</td>\n",
       "      <td>False</td>\n",
       "      <td>False</td>\n",
       "      <td>False</td>\n",
       "      <td>False</td>\n",
       "    </tr>\n",
       "    <tr>\n",
       "      <th>2</th>\n",
       "      <td>False</td>\n",
       "      <td>False</td>\n",
       "      <td>False</td>\n",
       "      <td>False</td>\n",
       "      <td>False</td>\n",
       "      <td>False</td>\n",
       "      <td>False</td>\n",
       "      <td>False</td>\n",
       "      <td>False</td>\n",
       "      <td>False</td>\n",
       "    </tr>\n",
       "  </tbody>\n",
       "</table>\n",
       "</div>"
      ],
      "text/plain": [
       "     cyl   disp     hp   drat     wt   qsec     vs     am   gear   carb\n",
       "0  False  False  False  False  False  False  False  False  False  False\n",
       "1  False  False  False  False  False  False  False  False  False  False\n",
       "2  False  False  False  False  False  False  False  False  False  False"
      ]
     },
     "execution_count": 21,
     "metadata": {},
     "output_type": "execute_result"
    }
   ],
   "source": [
    "# X 변수의 결측치 여부에 대한 결과 상위 3개 행 확인\n",
    "X.isnull().head(3)"
   ]
  },
  {
   "cell_type": "code",
   "execution_count": 22,
   "id": "9ae203d0",
   "metadata": {},
   "outputs": [
    {
     "name": "stdout",
     "output_type": "stream",
     "text": [
      "cyl     2\n",
      "disp    0\n",
      "hp      0\n",
      "drat    0\n",
      "wt      0\n",
      "qsec    1\n",
      "vs      0\n",
      "am      0\n",
      "gear    0\n",
      "carb    0\n",
      "dtype: int64\n"
     ]
    }
   ],
   "source": [
    "# True == 1 인 속성 이용, 결측치 개수 계산\n",
    "print(X.isnull().sum())  # cyl, qsec 열에 결측치 존재 확인"
   ]
  },
  {
   "cell_type": "markdown",
   "id": "c0f70cee",
   "metadata": {},
   "source": [
    "### - 평균값으로 대치"
   ]
  },
  {
   "cell_type": "code",
   "execution_count": 23,
   "id": "90be03e8",
   "metadata": {},
   "outputs": [
    {
     "name": "stdout",
     "output_type": "stream",
     "text": [
      "7.6\n"
     ]
    }
   ],
   "source": [
    "# cyl 평균값을 X_cyl_mean 변수에 저장\n",
    "X_cyl_mean = X['cyl'].mean()\n",
    "\n",
    "# X_cyl_mean 변수 확인\n",
    "print(X_cyl_mean)"
   ]
  },
  {
   "cell_type": "code",
   "execution_count": 24,
   "id": "70c15aef",
   "metadata": {},
   "outputs": [],
   "source": [
    "X['cyl'] = X['cyl'].fillna(X_cyl_mean)"
   ]
  },
  {
   "cell_type": "code",
   "execution_count": 25,
   "id": "ba699007",
   "metadata": {},
   "outputs": [
    {
     "name": "stdout",
     "output_type": "stream",
     "text": [
      "cyl     0\n",
      "disp    0\n",
      "hp      0\n",
      "drat    0\n",
      "wt      0\n",
      "qsec    1\n",
      "vs      0\n",
      "am      0\n",
      "gear    0\n",
      "carb    0\n",
      "dtype: int64\n"
     ]
    }
   ],
   "source": [
    "print(X.isnull().sum())  # cyl 결측치 처리 됨"
   ]
  },
  {
   "cell_type": "markdown",
   "id": "6e21ca9c",
   "metadata": {},
   "source": [
    "### - 중위값 대체 : qsec"
   ]
  },
  {
   "cell_type": "code",
   "execution_count": 26,
   "id": "7b291403",
   "metadata": {},
   "outputs": [
    {
     "name": "stdout",
     "output_type": "stream",
     "text": [
      "17.6\n"
     ]
    }
   ],
   "source": [
    "X_qsec_median = X['qsec'].median()\n",
    "\n",
    "print(X_qsec_median)"
   ]
  },
  {
   "cell_type": "code",
   "execution_count": 27,
   "id": "43f57cce",
   "metadata": {},
   "outputs": [
    {
     "name": "stdout",
     "output_type": "stream",
     "text": [
      "0\n"
     ]
    }
   ],
   "source": [
    "# 중위값으로 NaN 대체\n",
    "X['qsec'] = X['qsec'].fillna(X_qsec_median)\n",
    "\n",
    "print(X['qsec'].isnull().sum())"
   ]
  },
  {
   "cell_type": "markdown",
   "id": "9bf1b92c",
   "metadata": {},
   "source": [
    "### - 결측치 임의의 값으로 교체 or 삭제\n",
    "\n",
    "#### 결측치 임의의 값으로 교체\n",
    "- X['열이름'].fillna(n) : 결측치를 n으로 일괄 교체\n",
    "\n",
    "#### 결측치 삭제\n",
    "- X.dropna() : 결측치 있는 해당 행 데이터 일괄 삭제\n",
    "- X.drop(columns = ['열이름']) : 해당 열 이름의 결측치 모두 삭제"
   ]
  },
  {
   "cell_type": "markdown",
   "id": "4e1f3684",
   "metadata": {},
   "source": [
    "### 잘못된 값 올바르게 바꾸기"
   ]
  },
  {
   "cell_type": "code",
   "execution_count": 28,
   "id": "4aa400fa",
   "metadata": {},
   "outputs": [
    {
     "name": "stdout",
     "output_type": "stream",
     "text": [
      "['4' '3' '*3' '5' '*5']\n"
     ]
    }
   ],
   "source": [
    "# gear 열의 값 확인\n",
    "print(X['gear'].unique())"
   ]
  },
  {
   "cell_type": "markdown",
   "id": "2f010197",
   "metadata": {},
   "source": [
    "기어 개수 의미하는 gear 열에 잘못된 값(*3, *5) 포함 >>>> *3, *5 에서 * 제외한 정상적인 값으로 수정 필요"
   ]
  },
  {
   "cell_type": "code",
   "execution_count": 29,
   "id": "f8540f80",
   "metadata": {},
   "outputs": [
    {
     "name": "stdout",
     "output_type": "stream",
     "text": [
      "0     4\n",
      "1     4\n",
      "2     4\n",
      "3     3\n",
      "4     3\n",
      "5     3\n",
      "6     3\n",
      "7     4\n",
      "8     4\n",
      "9     4\n",
      "10    4\n",
      "11    3\n",
      "12    3\n",
      "13    3\n",
      "14    3\n",
      "15    3\n",
      "16    3\n",
      "17    4\n",
      "18    4\n",
      "19    4\n",
      "20    3\n",
      "21    3\n",
      "22    3\n",
      "23    3\n",
      "24    3\n",
      "25    4\n",
      "26    5\n",
      "27    5\n",
      "28    5\n",
      "29    5\n",
      "30    5\n",
      "31    4\n",
      "Name: gear, dtype: object\n"
     ]
    }
   ],
   "source": [
    "print(X['gear'].replace('*3', '3').replace('*5', '5'))"
   ]
  },
  {
   "cell_type": "code",
   "execution_count": 30,
   "id": "12a8ceab",
   "metadata": {},
   "outputs": [],
   "source": [
    "X['gear'] = X['gear'].replace('*3', '3').replace('*5', '5')"
   ]
  },
  {
   "cell_type": "code",
   "execution_count": 31,
   "id": "f7debfca",
   "metadata": {},
   "outputs": [
    {
     "data": {
      "text/plain": [
       "array(['4', '3', '5'], dtype=object)"
      ]
     },
     "execution_count": 31,
     "metadata": {},
     "output_type": "execute_result"
    }
   ],
   "source": [
    "# gear 열 값 재확인\n",
    "X['gear'].unique()"
   ]
  },
  {
   "cell_type": "markdown",
   "id": "c2c06e16",
   "metadata": {},
   "source": [
    "### 이상치(outlier) 처리\n",
    "- 이상치(outlier) : 정상적인 데이터의 범위를 넘어서는 비정상적인 값\n",
    "- 이상치 처리가 데이터 스케일링보다 선행되어야 함\n",
    "- 이상치 처리 방식도 데이터 삭제가 아닌 다른 값으로 교체하는 것을 추천!"
   ]
  },
  {
   "cell_type": "markdown",
   "id": "6f4b8404",
   "metadata": {},
   "source": [
    "### - 사분범위(IQR) 활용\n",
    "- IQR = Q3 - Q1\n",
    "- Q1 - 1.5 * IQR 미만, Q3 + 1.5 * IQR 초과의 값 이상치로 판단"
   ]
  },
  {
   "cell_type": "code",
   "execution_count": 32,
   "id": "9746bfd3",
   "metadata": {},
   "outputs": [
    {
     "name": "stdout",
     "output_type": "stream",
     "text": [
      "             cyl        disp          hp       drat         wt        qsec  \\\n",
      "count  32.000000   32.000000   32.000000  32.000000  32.000000   32.000000   \n",
      "mean    7.600000  230.721875  146.687500   3.596563   3.217250   19.795938   \n",
      "std     7.925459  123.938694   68.562868   0.534679   0.978457   15.066831   \n",
      "min     4.000000   71.100000   52.000000   2.760000   1.513000    0.100000   \n",
      "25%     4.000000  120.825000   96.500000   3.080000   2.581250   16.827500   \n",
      "50%     6.000000  196.300000  123.000000   3.695000   3.325000   17.600000   \n",
      "75%     8.000000  326.000000  180.000000   3.920000   3.610000   18.682500   \n",
      "max    50.000000  472.000000  335.000000   4.930000   5.424000  100.000000   \n",
      "\n",
      "              vs     carb  \n",
      "count  32.000000  32.0000  \n",
      "mean    0.437500   2.8125  \n",
      "std     0.504016   1.6152  \n",
      "min     0.000000   1.0000  \n",
      "25%     0.000000   2.0000  \n",
      "50%     0.000000   2.0000  \n",
      "75%     1.000000   4.0000  \n",
      "max     1.000000   8.0000  \n"
     ]
    }
   ],
   "source": [
    "# X 변수의 기초통계랑 구한 후, X_describe  변수에 저장\n",
    "X_describe = X.describe()\n",
    "print(X_describe)"
   ]
  },
  {
   "cell_type": "code",
   "execution_count": 33,
   "id": "4f0ef4ee",
   "metadata": {},
   "outputs": [
    {
     "name": "stdout",
     "output_type": "stream",
     "text": [
      "cyl       8.0000\n",
      "disp    326.0000\n",
      "hp      180.0000\n",
      "drat      3.9200\n",
      "wt        3.6100\n",
      "qsec     18.6825\n",
      "vs        1.0000\n",
      "carb      4.0000\n",
      "Name: 75%, dtype: float64 \n",
      "\n",
      " cyl       4.00000\n",
      "disp    120.82500\n",
      "hp       96.50000\n",
      "drat      3.08000\n",
      "wt        2.58125\n",
      "qsec     16.82750\n",
      "vs        0.00000\n",
      "carb      2.00000\n",
      "Name: 25%, dtype: float64\n"
     ]
    }
   ],
   "source": [
    "# X_describe 변수에서 75% 행, 25% 행 확인\n",
    "print(X_describe.loc['75%'], '\\n\\n', X_describe.loc['25%'])"
   ]
  },
  {
   "cell_type": "code",
   "execution_count": 34,
   "id": "2665eac5",
   "metadata": {},
   "outputs": [
    {
     "name": "stdout",
     "output_type": "stream",
     "text": [
      "cyl       4.00000\n",
      "disp    205.17500\n",
      "hp       83.50000\n",
      "drat      0.84000\n",
      "wt        1.02875\n",
      "qsec      1.85500\n",
      "vs        1.00000\n",
      "carb      2.00000\n",
      "dtype: float64\n"
     ]
    }
   ],
   "source": [
    "# IQR 계산 후 X_iqr 변수에 저장\n",
    "X_iqr = X_describe.loc['75%'] - X_describe.loc['25%']\n",
    "\n",
    "print(X_iqr)"
   ]
  },
  {
   "cell_type": "markdown",
   "id": "f30c392a",
   "metadata": {},
   "source": [
    "이상치 판단 위해 Q3 + 1.5 * IQR 계산"
   ]
  },
  {
   "cell_type": "code",
   "execution_count": 35,
   "id": "9021c969",
   "metadata": {},
   "outputs": [
    {
     "name": "stdout",
     "output_type": "stream",
     "text": [
      "cyl      14.000000\n",
      "disp    633.762500\n",
      "hp      305.250000\n",
      "drat      5.180000\n",
      "wt        5.153125\n",
      "qsec     21.465000\n",
      "vs        2.500000\n",
      "carb      7.000000\n",
      "dtype: float64\n"
     ]
    }
   ],
   "source": [
    "print(X_describe.loc['75%'] + (1.5 * X_iqr))"
   ]
  },
  {
   "cell_type": "code",
   "execution_count": 36,
   "id": "44f4f853",
   "metadata": {},
   "outputs": [
    {
     "data": {
      "text/plain": [
       "cyl      50.000\n",
       "disp    472.000\n",
       "hp      335.000\n",
       "drat      4.930\n",
       "wt        5.424\n",
       "qsec    100.000\n",
       "vs        1.000\n",
       "carb      8.000\n",
       "Name: max, dtype: float64"
      ]
     },
     "execution_count": 36,
     "metadata": {},
     "output_type": "execute_result"
    }
   ],
   "source": [
    "# X 변수 최대값 확인\n",
    "X_describe.loc['max']"
   ]
  },
  {
   "cell_type": "markdown",
   "id": "c5253a56",
   "metadata": {},
   "source": [
    "#### cyl, hp, wt, qsec, carb 이상치 존재 확인\n",
    "\n",
    "- cyp, hp : 사분위수 활용하여 이상치 처리\n",
    "- qsec, carb : 평균, 표준편차 사용한 이상값 처리"
   ]
  },
  {
   "cell_type": "code",
   "execution_count": 37,
   "id": "2ddfb929",
   "metadata": {},
   "outputs": [
    {
     "name": "stdout",
     "output_type": "stream",
     "text": [
      "     cyl   disp   hp  drat    wt   qsec  vs    am gear  carb\n",
      "14  50.0  472.0  205  2.93  5.25  17.98   0  auto    3     4\n"
     ]
    }
   ],
   "source": [
    "# cyl 열에서 최대경계값 14 초과하는 값 추출\n",
    "print(X.loc[X['cyl'] > 14])"
   ]
  },
  {
   "cell_type": "code",
   "execution_count": 38,
   "id": "51b809f0",
   "metadata": {},
   "outputs": [
    {
     "name": "stdout",
     "output_type": "stream",
     "text": [
      "14.0\n"
     ]
    }
   ],
   "source": [
    "# X 변수에서 인덱스 14, 열 cyl 인 값 14 로 변경\n",
    "X.loc[14, 'cyl'] = 14\n",
    "\n",
    "# 해당 값 확인\n",
    "print(X.loc[14, 'cyl'])"
   ]
  },
  {
   "cell_type": "code",
   "execution_count": 39,
   "id": "f618b9c8",
   "metadata": {},
   "outputs": [
    {
     "name": "stdout",
     "output_type": "stream",
     "text": [
      "    cyl   disp   hp  drat    wt  qsec  vs      am gear  carb\n",
      "30  8.0  301.0  335  3.54  3.57  14.6   0  manual    5     8\n"
     ]
    }
   ],
   "source": [
    "# hp 열 값이 305.25 초과하는 값 찾기\n",
    "print(X.loc[X['hp'] > 305.25])"
   ]
  },
  {
   "cell_type": "code",
   "execution_count": 40,
   "id": "76dabeba",
   "metadata": {},
   "outputs": [
    {
     "name": "stdout",
     "output_type": "stream",
     "text": [
      "305.25\n"
     ]
    }
   ],
   "source": [
    "# X 변수에서 인덱스 30, 열 hp 인 값 305.25 로 변경\n",
    "X.loc[30, 'hp'] = 305.25\n",
    "\n",
    "# 값 확인\n",
    "print(X.loc[30, 'hp'])"
   ]
  },
  {
   "cell_type": "markdown",
   "id": "50c14319",
   "metadata": {},
   "source": [
    "cyl, hp 열에 대해 최소 이상값 처리\n",
    "- Q1 - 1.5 * IQR"
   ]
  },
  {
   "cell_type": "code",
   "execution_count": 41,
   "id": "9cca4e14",
   "metadata": {},
   "outputs": [
    {
     "name": "stdout",
     "output_type": "stream",
     "text": [
      "cyl      -2.000000\n",
      "disp   -186.937500\n",
      "hp      -28.750000\n",
      "drat      1.820000\n",
      "wt        1.038125\n",
      "qsec     14.045000\n",
      "vs       -1.500000\n",
      "carb     -1.000000\n",
      "dtype: float64\n"
     ]
    }
   ],
   "source": [
    "# 각 열의 최소경계값 계산\n",
    "print(X_describe.loc['25%'] - (X_iqr * 1.5))"
   ]
  },
  {
   "cell_type": "code",
   "execution_count": 42,
   "id": "50d8f928",
   "metadata": {},
   "outputs": [
    {
     "data": {
      "text/plain": [
       "cyl      4.000\n",
       "disp    71.100\n",
       "hp      52.000\n",
       "drat     2.760\n",
       "wt       1.513\n",
       "qsec     0.100\n",
       "vs       0.000\n",
       "carb     1.000\n",
       "Name: min, dtype: float64"
      ]
     },
     "execution_count": 42,
     "metadata": {},
     "output_type": "execute_result"
    }
   ],
   "source": [
    "# X 변수 최소값 확인\n",
    "X_describe.loc['min']"
   ]
  },
  {
   "cell_type": "markdown",
   "id": "aaf62a92",
   "metadata": {},
   "source": [
    "### - 평균 및 표준편차 활용 : qsec, carb\n",
    "이상값 판단 범위\n",
    "- 최대 경계값 : 평균 + 1.5 * 표준편차\n",
    "- 최소 경계값 : 평균 - 1.5 * 표준편차"
   ]
  },
  {
   "cell_type": "code",
   "execution_count": 43,
   "id": "4d0096f7",
   "metadata": {},
   "outputs": [],
   "source": [
    "# mean, std, lowest, highest >> outlier 함수로 정의\n",
    "def outlier(data, column):\n",
    "    mean = data[column].mean()\n",
    "    std  = data[column].std()\n",
    "    lowest = mean - (1.5 * std)\n",
    "    highest = mean + (std * 1.5)\n",
    "    print('최소 경계값 : {} \\t 최대 경계값 : {}'.format(lowest, highest))\n",
    "    \n",
    "    outlier_index = data[column][(data[column] < lowest) | (data[column] > highest)].index\n",
    "    return outlier_index"
   ]
  },
  {
   "cell_type": "markdown",
   "id": "e10a3578",
   "metadata": {},
   "source": [
    "qsec column"
   ]
  },
  {
   "cell_type": "code",
   "execution_count": 44,
   "id": "b8e2df1a",
   "metadata": {
    "scrolled": true
   },
   "outputs": [
    {
     "name": "stdout",
     "output_type": "stream",
     "text": [
      "최소 경계값 : -2.8043094560577657 \t 최대 경계값 : 42.39618445605777\n",
      "Int64Index([24], dtype='int64')\n"
     ]
    }
   ],
   "source": [
    "# X 변수와 qsec 열 전달하여 이상값 정보 출력\n",
    "print(outlier(X, 'qsec'))"
   ]
  },
  {
   "cell_type": "code",
   "execution_count": 45,
   "id": "f0fe22d0",
   "metadata": {},
   "outputs": [
    {
     "name": "stdout",
     "output_type": "stream",
     "text": [
      "100.0\n"
     ]
    }
   ],
   "source": [
    "print(X.loc[24, 'qsec'])"
   ]
  },
  {
   "cell_type": "code",
   "execution_count": 46,
   "id": "59a2a795",
   "metadata": {},
   "outputs": [
    {
     "name": "stdout",
     "output_type": "stream",
     "text": [
      "42.396\n"
     ]
    }
   ],
   "source": [
    "# 이상값 100 을 42.396 으로 변경\n",
    "X.loc[24, 'qsec'] = 42.396\n",
    "\n",
    "print(X.loc[24, 'qsec'])"
   ]
  },
  {
   "cell_type": "markdown",
   "id": "8b64aa64",
   "metadata": {},
   "source": [
    "carb column"
   ]
  },
  {
   "cell_type": "code",
   "execution_count": 47,
   "id": "ca97c067",
   "metadata": {},
   "outputs": [
    {
     "name": "stdout",
     "output_type": "stream",
     "text": [
      "최소 경계값 : 0.3897000335522218 \t 최대 경계값 : 5.235299966447778\n",
      "Int64Index([29, 30], dtype='int64')\n"
     ]
    }
   ],
   "source": [
    "print(outlier(X, 'carb'))"
   ]
  },
  {
   "cell_type": "code",
   "execution_count": 48,
   "id": "19797e08",
   "metadata": {},
   "outputs": [
    {
     "data": {
      "text/plain": [
       "29    6\n",
       "30    8\n",
       "Name: carb, dtype: int64"
      ]
     },
     "execution_count": 48,
     "metadata": {},
     "output_type": "execute_result"
    }
   ],
   "source": [
    "# 인덱스 29, 30 열 carb 값 출력\n",
    "X.loc[[29,30], 'carb']"
   ]
  },
  {
   "cell_type": "code",
   "execution_count": 49,
   "id": "8a6aa5d7",
   "metadata": {},
   "outputs": [
    {
     "data": {
      "text/plain": [
       "29    5.235\n",
       "30    5.235\n",
       "Name: carb, dtype: float64"
      ]
     },
     "execution_count": 49,
     "metadata": {},
     "output_type": "execute_result"
    }
   ],
   "source": [
    "# carb 열의 이상값을 최대 경계값인 5.235 로 변경\n",
    "X.loc[[29,30], 'carb'] = 5.235\n",
    "\n",
    "X.loc[[29,30], 'carb']"
   ]
  },
  {
   "cell_type": "markdown",
   "id": "971e8137",
   "metadata": {},
   "source": [
    "### 데이터 동일한 범위로 맞추기 : 데이터 스케일링 (Data scaling)\n",
    "- Standard Scaling : 평균 0, 표준편차 1로 변환\n",
    "- Min-Max Scaling : 최소값 0, 최대값 1로 변환\n",
    "- Robust Scaling : 중앙값 0, IQR 1로 변환\n",
    "\n",
    "### - StandardScaler (표준크기변환)\n",
    "- 평균값 0, 표준편차 1인 정규분포로 변환\n",
    "- **주로 종속변수가 범주형 형태인 분류 문제에 활용**"
   ]
  },
  {
   "cell_type": "code",
   "execution_count": 50,
   "id": "59c7210b",
   "metadata": {},
   "outputs": [],
   "source": [
    "from sklearn.preprocessing import StandardScaler\n",
    "\n",
    "temp = X[['qsec']]"
   ]
  },
  {
   "cell_type": "code",
   "execution_count": 51,
   "id": "69c0107f",
   "metadata": {},
   "outputs": [
    {
     "name": "stdout",
     "output_type": "stream",
     "text": [
      "[[-2.73145534e-01]\n",
      " [-1.73549067e-01]\n",
      " [ 1.09233759e-01]\n",
      " [-3.18278518e+00]\n",
      " [-1.73549067e-01]\n",
      " [ 3.95573602e-01]\n",
      " [-3.83413051e-01]\n",
      " [ 3.56446419e-01]\n",
      " [ 8.72213838e-01]\n",
      " [ 5.41000006e-02]\n",
      " [-7.03955833e-02]\n",
      " [-1.05965750e-01]\n",
      " [-7.03955833e-02]\n",
      " [ 7.44750368e-04]\n",
      " [-2.81226632e-03]\n",
      " [-3.12683998e-02]\n",
      " [-1.02408733e-01]\n",
      " [ 2.62185477e-01]\n",
      " [ 9.32271841e-02]\n",
      " [ 3.38661335e-01]\n",
      " [ 3.58224927e-01]\n",
      " [-2.00226692e-01]\n",
      " [-1.23750834e-01]\n",
      " [-4.59888910e-01]\n",
      " [ 4.33959370e+00]\n",
      " [ 1.60810501e-01]\n",
      " [-2.30461334e-01]\n",
      " [-1.94891167e-01]\n",
      " [-6.21733169e-01]\n",
      " [-4.43882335e-01]\n",
      " [-6.03948086e-01]\n",
      " [ 1.07455251e-01]]\n"
     ]
    }
   ],
   "source": [
    "# StandardScaler 함수 호출하여 표준 크기변환 기능 갖는 scaler 라는 객체 생성\n",
    "scaler = StandardScaler()\n",
    "\n",
    "# 표준 크기변환하는 scaler에게 fit_transform 명령으로 temp 변수의 크기변환 요청\n",
    "print(scaler.fit_transform(temp))"
   ]
  },
  {
   "cell_type": "code",
   "execution_count": 52,
   "id": "b5d7e820",
   "metadata": {},
   "outputs": [
    {
     "name": "stdout",
     "output_type": "stream",
     "text": [
      "                  0\n",
      "count  3.200000e+01\n",
      "mean   8.066464e-17\n",
      "std    1.016001e+00\n",
      "min   -3.182785e+00\n",
      "25%   -2.077854e-01\n",
      "50%   -7.039558e-02\n",
      "75%    1.221279e-01\n",
      "max    4.339594e+00\n"
     ]
    }
   ],
   "source": [
    "# 표준 크기변환을 수행한 결과를 qsec_s_scaler 변수에 저장\n",
    "qsec_s_scaler = pd.DataFrame(scaler.fit_transform(temp))\n",
    "\n",
    "# qsec_s_scaler 기초통계량 확인\n",
    "print(qsec_s_scaler.describe())"
   ]
  },
  {
   "cell_type": "markdown",
   "id": "0c4c9155",
   "metadata": {},
   "source": [
    "### - MinMaxScaler : 최소-최대 크기 변환\n",
    "- 최소값 0, 최대값 1의 분포로 변환\n",
    "- **주로 종속변수가 연속형 범주인 회귀 문제에 활용**"
   ]
  },
  {
   "cell_type": "code",
   "execution_count": 53,
   "id": "ca61890b",
   "metadata": {},
   "outputs": [
    {
     "data": {
      "text/html": [
       "<div>\n",
       "<style scoped>\n",
       "    .dataframe tbody tr th:only-of-type {\n",
       "        vertical-align: middle;\n",
       "    }\n",
       "\n",
       "    .dataframe tbody tr th {\n",
       "        vertical-align: top;\n",
       "    }\n",
       "\n",
       "    .dataframe thead th {\n",
       "        text-align: right;\n",
       "    }\n",
       "</style>\n",
       "<table border=\"1\" class=\"dataframe\">\n",
       "  <thead>\n",
       "    <tr style=\"text-align: right;\">\n",
       "      <th></th>\n",
       "      <th>qsec</th>\n",
       "    </tr>\n",
       "  </thead>\n",
       "  <tbody>\n",
       "    <tr>\n",
       "      <th>0</th>\n",
       "      <td>16.460</td>\n",
       "    </tr>\n",
       "    <tr>\n",
       "      <th>1</th>\n",
       "      <td>17.020</td>\n",
       "    </tr>\n",
       "    <tr>\n",
       "      <th>2</th>\n",
       "      <td>18.610</td>\n",
       "    </tr>\n",
       "    <tr>\n",
       "      <th>3</th>\n",
       "      <td>0.100</td>\n",
       "    </tr>\n",
       "    <tr>\n",
       "      <th>4</th>\n",
       "      <td>17.020</td>\n",
       "    </tr>\n",
       "    <tr>\n",
       "      <th>5</th>\n",
       "      <td>20.220</td>\n",
       "    </tr>\n",
       "    <tr>\n",
       "      <th>6</th>\n",
       "      <td>15.840</td>\n",
       "    </tr>\n",
       "    <tr>\n",
       "      <th>7</th>\n",
       "      <td>20.000</td>\n",
       "    </tr>\n",
       "    <tr>\n",
       "      <th>8</th>\n",
       "      <td>22.900</td>\n",
       "    </tr>\n",
       "    <tr>\n",
       "      <th>9</th>\n",
       "      <td>18.300</td>\n",
       "    </tr>\n",
       "    <tr>\n",
       "      <th>10</th>\n",
       "      <td>17.600</td>\n",
       "    </tr>\n",
       "    <tr>\n",
       "      <th>11</th>\n",
       "      <td>17.400</td>\n",
       "    </tr>\n",
       "    <tr>\n",
       "      <th>12</th>\n",
       "      <td>17.600</td>\n",
       "    </tr>\n",
       "    <tr>\n",
       "      <th>13</th>\n",
       "      <td>18.000</td>\n",
       "    </tr>\n",
       "    <tr>\n",
       "      <th>14</th>\n",
       "      <td>17.980</td>\n",
       "    </tr>\n",
       "    <tr>\n",
       "      <th>15</th>\n",
       "      <td>17.820</td>\n",
       "    </tr>\n",
       "    <tr>\n",
       "      <th>16</th>\n",
       "      <td>17.420</td>\n",
       "    </tr>\n",
       "    <tr>\n",
       "      <th>17</th>\n",
       "      <td>19.470</td>\n",
       "    </tr>\n",
       "    <tr>\n",
       "      <th>18</th>\n",
       "      <td>18.520</td>\n",
       "    </tr>\n",
       "    <tr>\n",
       "      <th>19</th>\n",
       "      <td>19.900</td>\n",
       "    </tr>\n",
       "    <tr>\n",
       "      <th>20</th>\n",
       "      <td>20.010</td>\n",
       "    </tr>\n",
       "    <tr>\n",
       "      <th>21</th>\n",
       "      <td>16.870</td>\n",
       "    </tr>\n",
       "    <tr>\n",
       "      <th>22</th>\n",
       "      <td>17.300</td>\n",
       "    </tr>\n",
       "    <tr>\n",
       "      <th>23</th>\n",
       "      <td>15.410</td>\n",
       "    </tr>\n",
       "    <tr>\n",
       "      <th>24</th>\n",
       "      <td>42.396</td>\n",
       "    </tr>\n",
       "    <tr>\n",
       "      <th>25</th>\n",
       "      <td>18.900</td>\n",
       "    </tr>\n",
       "    <tr>\n",
       "      <th>26</th>\n",
       "      <td>16.700</td>\n",
       "    </tr>\n",
       "    <tr>\n",
       "      <th>27</th>\n",
       "      <td>16.900</td>\n",
       "    </tr>\n",
       "    <tr>\n",
       "      <th>28</th>\n",
       "      <td>14.500</td>\n",
       "    </tr>\n",
       "    <tr>\n",
       "      <th>29</th>\n",
       "      <td>15.500</td>\n",
       "    </tr>\n",
       "    <tr>\n",
       "      <th>30</th>\n",
       "      <td>14.600</td>\n",
       "    </tr>\n",
       "    <tr>\n",
       "      <th>31</th>\n",
       "      <td>18.600</td>\n",
       "    </tr>\n",
       "  </tbody>\n",
       "</table>\n",
       "</div>"
      ],
      "text/plain": [
       "      qsec\n",
       "0   16.460\n",
       "1   17.020\n",
       "2   18.610\n",
       "3    0.100\n",
       "4   17.020\n",
       "5   20.220\n",
       "6   15.840\n",
       "7   20.000\n",
       "8   22.900\n",
       "9   18.300\n",
       "10  17.600\n",
       "11  17.400\n",
       "12  17.600\n",
       "13  18.000\n",
       "14  17.980\n",
       "15  17.820\n",
       "16  17.420\n",
       "17  19.470\n",
       "18  18.520\n",
       "19  19.900\n",
       "20  20.010\n",
       "21  16.870\n",
       "22  17.300\n",
       "23  15.410\n",
       "24  42.396\n",
       "25  18.900\n",
       "26  16.700\n",
       "27  16.900\n",
       "28  14.500\n",
       "29  15.500\n",
       "30  14.600\n",
       "31  18.600"
      ]
     },
     "execution_count": 53,
     "metadata": {},
     "output_type": "execute_result"
    }
   ],
   "source": [
    "from sklearn.preprocessing import MinMaxScaler\n",
    "\n",
    "# X 변수에서 qsec 열만 추출한 후, temp변수에 저장\n",
    "temp = X[['qsec']]\n",
    "temp"
   ]
  },
  {
   "cell_type": "code",
   "execution_count": 54,
   "id": "5ad95d89",
   "metadata": {},
   "outputs": [
    {
     "name": "stdout",
     "output_type": "stream",
     "text": [
      "           0\n",
      "0   0.386798\n",
      "1   0.400038\n",
      "2   0.437630\n",
      "3   0.000000\n",
      "4   0.400038\n",
      "5   0.475695\n",
      "6   0.372139\n",
      "7   0.470494\n",
      "8   0.539058\n",
      "9   0.430301\n",
      "10  0.413751\n",
      "11  0.409022\n",
      "12  0.413751\n",
      "13  0.423208\n",
      "14  0.422735\n",
      "15  0.418952\n",
      "16  0.409495\n",
      "17  0.457963\n",
      "18  0.435502\n",
      "19  0.468129\n",
      "20  0.470730\n",
      "21  0.396491\n",
      "22  0.406658\n",
      "23  0.361973\n",
      "24  1.000000\n",
      "25  0.444486\n",
      "26  0.392472\n",
      "27  0.397201\n",
      "28  0.340458\n",
      "29  0.364101\n",
      "30  0.342822\n",
      "31  0.437394\n"
     ]
    }
   ],
   "source": [
    "scaler = MinMaxScaler()\n",
    "\n",
    "# 최소최대 크기 변환 기능이 있는 scaler 에게 temp변수 크기변환 요청 후 변환결과 qsec_m_scaler 에 저장\n",
    "qsec_m_scaler = pd.DataFrame(scaler.fit_transform(temp))\n",
    "\n",
    "# 크기변환 결과인 qsec_m_scaler 변수 확인\n",
    "print(qsec_m_scaler)"
   ]
  },
  {
   "cell_type": "code",
   "execution_count": 55,
   "id": "67498d60",
   "metadata": {},
   "outputs": [
    {
     "name": "stdout",
     "output_type": "stream",
     "text": [
      "               0\n",
      "count  32.000000\n",
      "mean    0.423109\n",
      "std     0.135064\n",
      "min     0.000000\n",
      "25%     0.395487\n",
      "50%     0.413751\n",
      "75%     0.439344\n",
      "max     1.000000\n"
     ]
    }
   ],
   "source": [
    "# qsec_m_scaler 변수의 기초통계량 확인\n",
    "\n",
    "print(qsec_m_scaler.describe())"
   ]
  },
  {
   "cell_type": "markdown",
   "id": "a9d95030",
   "metadata": {},
   "source": [
    "### - RobustScaler : 로버스트 크기 변환\n",
    "- 중앙값 0, 사분범위(IQR)가 1인 분포로 변환시키는 방법\n",
    "- 이상값의 영향을 잘 받지 않으므로, 일반적으로 활용하는 변환 기법"
   ]
  },
  {
   "cell_type": "code",
   "execution_count": 56,
   "id": "e065064b",
   "metadata": {},
   "outputs": [],
   "source": [
    "from sklearn.preprocessing import RobustScaler\n",
    "\n",
    "# X 변수에서 qsec열만 추출한 후, temp변수에 저장\n",
    "temp = X[['qsec']]"
   ]
  },
  {
   "cell_type": "code",
   "execution_count": 57,
   "id": "002a3815",
   "metadata": {},
   "outputs": [
    {
     "name": "stdout",
     "output_type": "stream",
     "text": [
      "            0\n",
      "0   -0.614555\n",
      "1   -0.312668\n",
      "2    0.544474\n",
      "3   -9.433962\n",
      "4   -0.312668\n",
      "5    1.412399\n",
      "6   -0.948787\n",
      "7    1.293801\n",
      "8    2.857143\n",
      "9    0.377358\n",
      "10   0.000000\n",
      "11  -0.107817\n",
      "12   0.000000\n",
      "13   0.215633\n",
      "14   0.204852\n",
      "15   0.118598\n",
      "16  -0.097035\n",
      "17   1.008086\n",
      "18   0.495957\n",
      "19   1.239892\n",
      "20   1.299191\n",
      "21  -0.393531\n",
      "22  -0.161725\n",
      "23  -1.180593\n",
      "24  13.367116\n",
      "25   0.700809\n",
      "26  -0.485175\n",
      "27  -0.377358\n",
      "28  -1.671159\n",
      "29  -1.132075\n",
      "30  -1.617251\n",
      "31   0.539084\n"
     ]
    }
   ],
   "source": [
    "scaler = RobustScaler()\n",
    "\n",
    "qsec_r_scaler = pd.DataFrame(scaler.fit_transform(temp))\n",
    "\n",
    "# 로버스트 크기변환 결과는 qsec_r_scaler 변수 확인\n",
    "print(qsec_r_scaler)"
   ]
  },
  {
   "cell_type": "code",
   "execution_count": 58,
   "id": "0cbb7115",
   "metadata": {},
   "outputs": [
    {
     "name": "stdout",
     "output_type": "stream",
     "text": [
      "               0\n",
      "count  32.000000\n",
      "mean    0.213376\n",
      "std     3.079600\n",
      "min    -9.433962\n",
      "25%    -0.416442\n",
      "50%     0.000000\n",
      "75%     0.583558\n",
      "max    13.367116\n"
     ]
    }
   ],
   "source": [
    "# qsec_r_scaler 변수의 기초통계량 확인\n",
    "print(qsec_r_scaler.describe())"
   ]
  },
  {
   "cell_type": "markdown",
   "id": "997872f6",
   "metadata": {},
   "source": [
    "### 데이터 타입 변경"
   ]
  },
  {
   "cell_type": "code",
   "execution_count": 59,
   "id": "83a53a99",
   "metadata": {},
   "outputs": [
    {
     "name": "stdout",
     "output_type": "stream",
     "text": [
      "<class 'pandas.core.frame.DataFrame'>\n",
      "RangeIndex: 32 entries, 0 to 31\n",
      "Data columns (total 10 columns):\n",
      " #   Column  Non-Null Count  Dtype  \n",
      "---  ------  --------------  -----  \n",
      " 0   cyl     32 non-null     float64\n",
      " 1   disp    32 non-null     float64\n",
      " 2   hp      32 non-null     float64\n",
      " 3   drat    32 non-null     float64\n",
      " 4   wt      32 non-null     float64\n",
      " 5   qsec    32 non-null     float64\n",
      " 6   vs      32 non-null     int64  \n",
      " 7   am      32 non-null     object \n",
      " 8   gear    32 non-null     object \n",
      " 9   carb    32 non-null     float64\n",
      "dtypes: float64(7), int64(1), object(2)\n",
      "memory usage: 2.6+ KB\n"
     ]
    }
   ],
   "source": [
    "# X 변수 요약정보 확인\n",
    "X.info()"
   ]
  },
  {
   "cell_type": "markdown",
   "id": "2cd0afba",
   "metadata": {},
   "source": [
    "전진기어 개수 의미하는 gear 열은 수치형 들어가는 연속형 변수로, int64 타입으로 변경"
   ]
  },
  {
   "cell_type": "code",
   "execution_count": 60,
   "id": "fce9c31c",
   "metadata": {},
   "outputs": [
    {
     "data": {
      "text/plain": [
       "dtype('int64')"
      ]
     },
     "execution_count": 60,
     "metadata": {},
     "output_type": "execute_result"
    }
   ],
   "source": [
    "X.gear = X.gear.astype('int64')\n",
    "\n",
    "X.gear.dtype"
   ]
  },
  {
   "cell_type": "markdown",
   "id": "3aea8296",
   "metadata": {},
   "source": [
    "### 범주형을 수치형으로 변경 : Encoding\n",
    "\n",
    "#### - One-Hot Encoding\n",
    "- 범주형 데이터가 가진 의미를 버리지 않고, 함축된 의미를 유지한 채 숫자형 데이터로 변경하는 방법\n",
    "- label encoding 보다 결과의 왜곡이 적고, 변환된 값의 서열이 없음 > 주로 사용되는 인코딩 방식"
   ]
  },
  {
   "cell_type": "code",
   "execution_count": 61,
   "id": "892314bd",
   "metadata": {},
   "outputs": [
    {
     "data": {
      "text/plain": [
       "Index(['am'], dtype='object')"
      ]
     },
     "execution_count": 61,
     "metadata": {},
     "output_type": "execute_result"
    }
   ],
   "source": [
    "X.select_dtypes(include='object').columns  # am 열이 object type 으로 인코딩 필요"
   ]
  },
  {
   "cell_type": "code",
   "execution_count": 62,
   "id": "aaf98ee6",
   "metadata": {},
   "outputs": [
    {
     "data": {
      "text/plain": [
       "array(['manual', 'auto'], dtype=object)"
      ]
     },
     "execution_count": 62,
     "metadata": {},
     "output_type": "execute_result"
    }
   ],
   "source": [
    "X.am.unique()"
   ]
  },
  {
   "cell_type": "code",
   "execution_count": 63,
   "id": "bd244246",
   "metadata": {},
   "outputs": [
    {
     "name": "stdout",
     "output_type": "stream",
     "text": [
      "   cyl   disp     hp  drat     wt   qsec  vs      am  gear  carb\n",
      "0  6.0  160.0  110.0  3.90  2.620  16.46   0  manual     4   4.0\n",
      "1  6.0  160.0  110.0  3.90  2.875  17.02   0  manual     4   4.0\n",
      "2  4.0  108.0   93.0  3.85  2.320  18.61   1  manual     4   1.0\n",
      "3  6.0  258.0  110.0  3.08  3.215   0.10   1    auto     3   1.0\n",
      "4  8.0  360.0  175.0  3.15  3.440  17.02   0    auto     3   2.0\n"
     ]
    }
   ],
   "source": [
    "# X 변수 상위 5개 열 확인\n",
    "print(X.head())"
   ]
  },
  {
   "cell_type": "markdown",
   "id": "cafe861a",
   "metadata": {},
   "source": [
    "pandas 라이브러리의 get_dummies() 함수 사용"
   ]
  },
  {
   "cell_type": "code",
   "execution_count": 64,
   "id": "8b137d2b",
   "metadata": {},
   "outputs": [
    {
     "name": "stdout",
     "output_type": "stream",
     "text": [
      "    auto  manual\n",
      "0      0       1\n",
      "1      0       1\n",
      "2      0       1\n",
      "3      1       0\n",
      "4      1       0\n",
      "5      1       0\n",
      "6      1       0\n",
      "7      1       0\n",
      "8      1       0\n",
      "9      1       0\n",
      "10     1       0\n",
      "11     1       0\n",
      "12     1       0\n",
      "13     1       0\n",
      "14     1       0\n",
      "15     1       0\n",
      "16     1       0\n",
      "17     0       1\n",
      "18     0       1\n",
      "19     0       1\n",
      "20     1       0\n",
      "21     1       0\n",
      "22     1       0\n",
      "23     1       0\n",
      "24     1       0\n",
      "25     0       1\n",
      "26     0       1\n",
      "27     0       1\n",
      "28     0       1\n",
      "29     0       1\n",
      "30     0       1\n",
      "31     0       1\n"
     ]
    }
   ],
   "source": [
    "print(pd.get_dummies(X.am))"
   ]
  },
  {
   "cell_type": "markdown",
   "id": "e095b6bc",
   "metadata": {},
   "source": [
    "- 열을 구성하는 값의 개수만큼 열이 생성되는 것은 공간적으로나 가독성 측면에서 불리\n",
    "- 범주형 데이터의 값 개수만큼 새로운 열이 만들어지지 않게 인코딩 수행하는 것 필요\n",
    "- 데이터의 종류가 N 개인 경우, N-1 개의 열만 새로 생성!\n",
    "- 어차피 하나가 1이면 하나가 0이니까 그 중 열 하나만 살려도 OK\n",
    "\n",
    "#### How? >>> get_dummies( data, drop_first=True )"
   ]
  },
  {
   "cell_type": "code",
   "execution_count": 65,
   "id": "327fad8b",
   "metadata": {},
   "outputs": [
    {
     "data": {
      "text/html": [
       "<div>\n",
       "<style scoped>\n",
       "    .dataframe tbody tr th:only-of-type {\n",
       "        vertical-align: middle;\n",
       "    }\n",
       "\n",
       "    .dataframe tbody tr th {\n",
       "        vertical-align: top;\n",
       "    }\n",
       "\n",
       "    .dataframe thead th {\n",
       "        text-align: right;\n",
       "    }\n",
       "</style>\n",
       "<table border=\"1\" class=\"dataframe\">\n",
       "  <thead>\n",
       "    <tr style=\"text-align: right;\">\n",
       "      <th></th>\n",
       "      <th>manual</th>\n",
       "    </tr>\n",
       "  </thead>\n",
       "  <tbody>\n",
       "    <tr>\n",
       "      <th>0</th>\n",
       "      <td>1</td>\n",
       "    </tr>\n",
       "    <tr>\n",
       "      <th>1</th>\n",
       "      <td>1</td>\n",
       "    </tr>\n",
       "    <tr>\n",
       "      <th>2</th>\n",
       "      <td>1</td>\n",
       "    </tr>\n",
       "    <tr>\n",
       "      <th>3</th>\n",
       "      <td>0</td>\n",
       "    </tr>\n",
       "    <tr>\n",
       "      <th>4</th>\n",
       "      <td>0</td>\n",
       "    </tr>\n",
       "    <tr>\n",
       "      <th>5</th>\n",
       "      <td>0</td>\n",
       "    </tr>\n",
       "    <tr>\n",
       "      <th>6</th>\n",
       "      <td>0</td>\n",
       "    </tr>\n",
       "    <tr>\n",
       "      <th>7</th>\n",
       "      <td>0</td>\n",
       "    </tr>\n",
       "    <tr>\n",
       "      <th>8</th>\n",
       "      <td>0</td>\n",
       "    </tr>\n",
       "    <tr>\n",
       "      <th>9</th>\n",
       "      <td>0</td>\n",
       "    </tr>\n",
       "    <tr>\n",
       "      <th>10</th>\n",
       "      <td>0</td>\n",
       "    </tr>\n",
       "    <tr>\n",
       "      <th>11</th>\n",
       "      <td>0</td>\n",
       "    </tr>\n",
       "    <tr>\n",
       "      <th>12</th>\n",
       "      <td>0</td>\n",
       "    </tr>\n",
       "    <tr>\n",
       "      <th>13</th>\n",
       "      <td>0</td>\n",
       "    </tr>\n",
       "    <tr>\n",
       "      <th>14</th>\n",
       "      <td>0</td>\n",
       "    </tr>\n",
       "    <tr>\n",
       "      <th>15</th>\n",
       "      <td>0</td>\n",
       "    </tr>\n",
       "    <tr>\n",
       "      <th>16</th>\n",
       "      <td>0</td>\n",
       "    </tr>\n",
       "    <tr>\n",
       "      <th>17</th>\n",
       "      <td>1</td>\n",
       "    </tr>\n",
       "    <tr>\n",
       "      <th>18</th>\n",
       "      <td>1</td>\n",
       "    </tr>\n",
       "    <tr>\n",
       "      <th>19</th>\n",
       "      <td>1</td>\n",
       "    </tr>\n",
       "    <tr>\n",
       "      <th>20</th>\n",
       "      <td>0</td>\n",
       "    </tr>\n",
       "    <tr>\n",
       "      <th>21</th>\n",
       "      <td>0</td>\n",
       "    </tr>\n",
       "    <tr>\n",
       "      <th>22</th>\n",
       "      <td>0</td>\n",
       "    </tr>\n",
       "    <tr>\n",
       "      <th>23</th>\n",
       "      <td>0</td>\n",
       "    </tr>\n",
       "    <tr>\n",
       "      <th>24</th>\n",
       "      <td>0</td>\n",
       "    </tr>\n",
       "    <tr>\n",
       "      <th>25</th>\n",
       "      <td>1</td>\n",
       "    </tr>\n",
       "    <tr>\n",
       "      <th>26</th>\n",
       "      <td>1</td>\n",
       "    </tr>\n",
       "    <tr>\n",
       "      <th>27</th>\n",
       "      <td>1</td>\n",
       "    </tr>\n",
       "    <tr>\n",
       "      <th>28</th>\n",
       "      <td>1</td>\n",
       "    </tr>\n",
       "    <tr>\n",
       "      <th>29</th>\n",
       "      <td>1</td>\n",
       "    </tr>\n",
       "    <tr>\n",
       "      <th>30</th>\n",
       "      <td>1</td>\n",
       "    </tr>\n",
       "    <tr>\n",
       "      <th>31</th>\n",
       "      <td>1</td>\n",
       "    </tr>\n",
       "  </tbody>\n",
       "</table>\n",
       "</div>"
      ],
      "text/plain": [
       "    manual\n",
       "0        1\n",
       "1        1\n",
       "2        1\n",
       "3        0\n",
       "4        0\n",
       "5        0\n",
       "6        0\n",
       "7        0\n",
       "8        0\n",
       "9        0\n",
       "10       0\n",
       "11       0\n",
       "12       0\n",
       "13       0\n",
       "14       0\n",
       "15       0\n",
       "16       0\n",
       "17       1\n",
       "18       1\n",
       "19       1\n",
       "20       0\n",
       "21       0\n",
       "22       0\n",
       "23       0\n",
       "24       0\n",
       "25       1\n",
       "26       1\n",
       "27       1\n",
       "28       1\n",
       "29       1\n",
       "30       1\n",
       "31       1"
      ]
     },
     "execution_count": 65,
     "metadata": {},
     "output_type": "execute_result"
    }
   ],
   "source": [
    "pd.get_dummies(X.am, drop_first=True)"
   ]
  },
  {
   "cell_type": "code",
   "execution_count": 66,
   "id": "867e4036",
   "metadata": {},
   "outputs": [
    {
     "name": "stdout",
     "output_type": "stream",
     "text": [
      "<class 'pandas.core.frame.DataFrame'>\n",
      "RangeIndex: 32 entries, 0 to 31\n",
      "Data columns (total 10 columns):\n",
      " #   Column  Non-Null Count  Dtype  \n",
      "---  ------  --------------  -----  \n",
      " 0   cyl     32 non-null     float64\n",
      " 1   disp    32 non-null     float64\n",
      " 2   hp      32 non-null     float64\n",
      " 3   drat    32 non-null     float64\n",
      " 4   wt      32 non-null     float64\n",
      " 5   qsec    32 non-null     float64\n",
      " 6   vs      32 non-null     int64  \n",
      " 7   am      32 non-null     object \n",
      " 8   gear    32 non-null     int64  \n",
      " 9   carb    32 non-null     float64\n",
      "dtypes: float64(7), int64(2), object(1)\n",
      "memory usage: 2.6+ KB\n",
      "None\n",
      "     cyl   disp      hp  drat     wt    qsec  vs  gear   carb  am_manual\n",
      "0    6.0  160.0  110.00  3.90  2.620  16.460   0     4  4.000          1\n",
      "1    6.0  160.0  110.00  3.90  2.875  17.020   0     4  4.000          1\n",
      "2    4.0  108.0   93.00  3.85  2.320  18.610   1     4  1.000          1\n",
      "3    6.0  258.0  110.00  3.08  3.215   0.100   1     3  1.000          0\n",
      "4    8.0  360.0  175.00  3.15  3.440  17.020   0     3  2.000          0\n",
      "5    6.0  225.0  105.00  2.76  3.460  20.220   1     3  1.000          0\n",
      "6    8.0  360.0  245.00  3.21  3.570  15.840   0     3  4.000          0\n",
      "7    7.6  146.7   62.00  3.69  3.190  20.000   1     4  2.000          0\n",
      "8    4.0  140.8   95.00  3.92  3.150  22.900   1     4  2.000          0\n",
      "9    6.0  167.6  123.00  3.92  3.440  18.300   1     4  4.000          0\n",
      "10   6.0  167.6  123.00  3.92  3.440  17.600   1     4  4.000          0\n",
      "11   8.0  275.8  180.00  3.07  4.070  17.400   0     3  3.000          0\n",
      "12   8.0  275.8  180.00  3.07  3.730  17.600   0     3  3.000          0\n",
      "13   8.0  275.8  180.00  3.07  3.780  18.000   0     3  3.000          0\n",
      "14  14.0  472.0  205.00  2.93  5.250  17.980   0     3  4.000          0\n",
      "15   8.0  460.0  215.00  3.00  5.424  17.820   0     3  4.000          0\n",
      "16   8.0  440.0  230.00  3.23  5.345  17.420   0     3  4.000          0\n",
      "17   4.0   78.7   66.00  4.08  2.200  19.470   1     4  1.000          1\n",
      "18   4.0   75.7   52.00  4.93  1.615  18.520   1     4  2.000          1\n",
      "19   4.0   71.1   65.00  4.22  1.835  19.900   1     4  1.000          1\n",
      "20   4.0  120.1   97.00  3.70  2.465  20.010   1     3  1.000          0\n",
      "21   8.0  318.0  150.00  2.76  3.520  16.870   0     3  2.000          0\n",
      "22   8.0  304.0  150.00  3.15  3.435  17.300   0     3  2.000          0\n",
      "23   8.0  350.0  245.00  3.73  3.840  15.410   0     3  4.000          0\n",
      "24   7.6  400.0  175.00  3.08  3.845  42.396   0     3  2.000          0\n",
      "25   4.0   79.0   66.00  4.08  1.935  18.900   1     4  1.000          1\n",
      "26   4.0  120.3   91.00  4.43  2.140  16.700   0     5  2.000          1\n",
      "27   4.0   95.1  113.00  3.77  1.513  16.900   1     5  2.000          1\n",
      "28   8.0  351.0  264.00  4.22  3.170  14.500   0     5  4.000          1\n",
      "29   6.0  145.0  175.00  3.62  2.770  15.500   0     5  5.235          1\n",
      "30   8.0  301.0  305.25  3.54  3.570  14.600   0     5  5.235          1\n",
      "31   4.0  121.0  109.00  4.11  2.780  18.600   1     4  2.000          1\n",
      "\n",
      ">>>> object 변수인 am 만 encoding 된 것으로 확인\n"
     ]
    }
   ],
   "source": [
    "# X 변수 데이터 타입 확인\n",
    "print(X.info())\n",
    "\n",
    "# X 변수 전체열 대상으로 원핫 인코딩 수행\n",
    "print(pd.get_dummies(X, drop_first=True))\n",
    "\n",
    "print('\\n>>>> object 변수인 am 만 encoding 된 것으로 확인')"
   ]
  },
  {
   "cell_type": "markdown",
   "id": "f266b179",
   "metadata": {},
   "source": [
    "#### sklearn 라이브러리의 OneHotEncoder()\n",
    "- pd.get_dummies() 와 메커니즘 유사하나, OneHotEncoder() 의 경우 범주형 변수 외의 연속형 변수까지 모두 인코딩 수행\n",
    "- 모델 객체와 모델을 학습하는 코드 추가 작성 필요\n",
    "- 따라서, 단순히 함수호출만으로 범주형 데이터를 자동으로 select 해서 인코딩하는 get_dummies() 함수 사용 추천!"
   ]
  },
  {
   "cell_type": "markdown",
   "id": "7506c057",
   "metadata": {},
   "source": [
    "#### - Label Encoding\n",
    "- 범주형 변수를 일련번호를 부여하는 방식의 연속형 변수로 변환하는 방식\n",
    "- 일련번호의 특성상 변환하는 숫자의 크기가 점점 커지기 때문에 값의 크고 작음에 따라 모델의 성능에 민감하게 작동\n",
    "- 따라서, 트리 계열의 데이터 분석에만 제약적으로 사용"
   ]
  },
  {
   "cell_type": "code",
   "execution_count": 67,
   "id": "e8bc1068",
   "metadata": {},
   "outputs": [
    {
     "name": "stdout",
     "output_type": "stream",
     "text": [
      "0    manual\n",
      "1    manual\n",
      "2    manual\n",
      "3      auto\n",
      "4      auto\n",
      "Name: am, dtype: object\n"
     ]
    }
   ],
   "source": [
    "# am 열의 상위 5개 행 확인\n",
    "print(X['am'].head())"
   ]
  },
  {
   "cell_type": "code",
   "execution_count": 68,
   "id": "f1ac835a",
   "metadata": {},
   "outputs": [],
   "source": [
    "# sklearn 라이브러리에서 LabelEncoder 함수 가져오기\n",
    "from sklearn.preprocessing import LabelEncoder\n",
    "\n",
    "# LabelEncoder 호출 통해 인코딩 기능 갖는 encoder 변수 생성\n",
    "encoder = LabelEncoder()"
   ]
  },
  {
   "cell_type": "code",
   "execution_count": 69,
   "id": "0332fab8",
   "metadata": {},
   "outputs": [
    {
     "name": "stdout",
     "output_type": "stream",
     "text": [
      "[1 1 1 0 0 0 0 0 0 0 0 0 0 0 0 0 0 1 1 1 0 0 0 0 0 1 1 1 1 1 1 1]\n"
     ]
    }
   ],
   "source": [
    "# encoder 통해 am열 값에 대해 라벨 인코딩 수행\n",
    "print(encoder.fit_transform(X['am']))"
   ]
  },
  {
   "cell_type": "markdown",
   "id": "839a951f",
   "metadata": {},
   "source": [
    "세 가지 종류 지닌 범주형 변수 임의 생성 후 라벨 인코딩 결과 관찰"
   ]
  },
  {
   "cell_type": "code",
   "execution_count": 70,
   "id": "5dc5c66a",
   "metadata": {},
   "outputs": [
    {
     "name": "stdout",
     "output_type": "stream",
     "text": [
      "['apple', 'banana', 'grape'] [0 1 2]\n"
     ]
    }
   ],
   "source": [
    "# 3가지 과일 들어있는 fruit 변수 생성\n",
    "fruit = ['apple', 'banana', 'grape']\n",
    "\n",
    "# LabelEncoder 호출 통해 라벨인코딩 기능 갖는 encoder 변수 생성\n",
    "encoder = LabelEncoder()\n",
    "\n",
    "# encoder 통해 fruit 변수에 대한 라벨 인코딩 수행 후, 결과는 fruit_new 에 저장\n",
    "fruit_new = encoder.fit_transform(fruit)\n",
    "\n",
    "# 기존 fruit 변수와 라벨 인코딩한 fruit_new 변수 비교\n",
    "print(fruit, fruit_new)"
   ]
  },
  {
   "cell_type": "markdown",
   "id": "f75bbf6c",
   "metadata": {},
   "source": [
    "#### - 수동 인코딩 : Replace"
   ]
  },
  {
   "cell_type": "code",
   "execution_count": 71,
   "id": "7fd41efc",
   "metadata": {},
   "outputs": [
    {
     "name": "stdout",
     "output_type": "stream",
     "text": [
      "   cyl   disp     hp  drat     wt   qsec  vs      am  gear  carb  am_new\n",
      "0  6.0  160.0  110.0  3.90  2.620  16.46   0  manual     4   4.0       0\n",
      "1  6.0  160.0  110.0  3.90  2.875  17.02   0  manual     4   4.0       0\n",
      "2  4.0  108.0   93.0  3.85  2.320  18.61   1  manual     4   1.0       0\n",
      "3  6.0  258.0  110.0  3.08  3.215   0.10   1    auto     3   1.0       1\n",
      "4  8.0  360.0  175.0  3.15  3.440  17.02   0    auto     3   2.0       1\n"
     ]
    }
   ],
   "source": [
    "# am 열에서 manual 은 0으로, auto 는 1로 변환 후, 새로운 am_new 열에 저장\n",
    "X['am_new'] = X['am'].replace('manual', 0).replace('auto', 1)\n",
    "\n",
    "# X 변수의 am_new 열 확인\n",
    "print(X.head())"
   ]
  },
  {
   "cell_type": "markdown",
   "id": "abf71add",
   "metadata": {},
   "source": [
    "기존의 am 열 삭제 (불필요)"
   ]
  },
  {
   "cell_type": "code",
   "execution_count": 72,
   "id": "80186004",
   "metadata": {},
   "outputs": [
    {
     "name": "stdout",
     "output_type": "stream",
     "text": [
      "   cyl   disp     hp  drat     wt   qsec  vs  gear  carb  am_new\n",
      "0  6.0  160.0  110.0  3.90  2.620  16.46   0     4   4.0       0\n",
      "1  6.0  160.0  110.0  3.90  2.875  17.02   0     4   4.0       0\n",
      "2  4.0  108.0   93.0  3.85  2.320  18.61   1     4   1.0       0\n",
      "3  6.0  258.0  110.0  3.08  3.215   0.10   1     3   1.0       1\n",
      "4  8.0  360.0  175.0  3.15  3.440  17.02   0     3   2.0       1\n"
     ]
    }
   ],
   "source": [
    "# X 변수에서 am 열 삭제 후, X 변수 다시 저장\n",
    "X = X.drop(columns = 'am')\n",
    "\n",
    "print(X.head())"
   ]
  },
  {
   "cell_type": "markdown",
   "id": "1c1366ec",
   "metadata": {},
   "source": [
    "### 파생변수 만들기\n",
    "- 파생변수 : 특정한 조건이나 함수에 의해서 새롭게 의미를 부여해서 만드는 변수\n",
    "- 관점에 따라 주관적인 측면이 강하기 때문에 논리적인 근거 기반으로 만드는 것이 중요"
   ]
  },
  {
   "cell_type": "markdown",
   "id": "b439990f",
   "metadata": {},
   "source": [
    "### [1] wt_class\n",
    "- 무게를 의미하는 wt 열에 따라 등급 구분하는 파생변수 생성\n",
    "- 평균값인 약 3.3 기준으로 무게 등급 나누기 ( <3.3 : 0, >=3.3 : 1)"
   ]
  },
  {
   "cell_type": "code",
   "execution_count": 73,
   "id": "9d11ef60",
   "metadata": {},
   "outputs": [
    {
     "data": {
      "text/plain": [
       "count    32.000000\n",
       "mean      3.217250\n",
       "std       0.978457\n",
       "min       1.513000\n",
       "25%       2.581250\n",
       "50%       3.325000\n",
       "75%       3.610000\n",
       "max       5.424000\n",
       "Name: wt, dtype: float64"
      ]
     },
     "execution_count": 73,
     "metadata": {},
     "output_type": "execute_result"
    }
   ],
   "source": [
    "X.wt.describe()"
   ]
  },
  {
   "cell_type": "code",
   "execution_count": 74,
   "id": "11dbbf30",
   "metadata": {},
   "outputs": [
    {
     "name": "stdout",
     "output_type": "stream",
     "text": [
      "0      True\n",
      "1      True\n",
      "2      True\n",
      "3      True\n",
      "4     False\n",
      "5     False\n",
      "6     False\n",
      "7      True\n",
      "8      True\n",
      "9     False\n",
      "10    False\n",
      "11    False\n",
      "12    False\n",
      "13    False\n",
      "14    False\n",
      "15    False\n",
      "16    False\n",
      "17     True\n",
      "18     True\n",
      "19     True\n",
      "20     True\n",
      "21    False\n",
      "22    False\n",
      "23    False\n",
      "24    False\n",
      "25     True\n",
      "26     True\n",
      "27     True\n",
      "28     True\n",
      "29     True\n",
      "30    False\n",
      "31     True\n",
      "Name: wt, dtype: bool\n"
     ]
    }
   ],
   "source": [
    "# wt 열이 3.3보다 작은지 여부 확인\n",
    "print(X.wt < 3.3)"
   ]
  },
  {
   "cell_type": "code",
   "execution_count": 75,
   "id": "f6e27758",
   "metadata": {},
   "outputs": [
    {
     "name": "stdout",
     "output_type": "stream",
     "text": [
      "       wt  wt_class\n",
      "0   2.620       0.0\n",
      "1   2.875       0.0\n",
      "2   2.320       0.0\n",
      "3   3.215       0.0\n",
      "4   3.440       1.0\n",
      "5   3.460       1.0\n",
      "6   3.570       1.0\n",
      "7   3.190       0.0\n",
      "8   3.150       0.0\n",
      "9   3.440       1.0\n",
      "10  3.440       1.0\n",
      "11  4.070       1.0\n",
      "12  3.730       1.0\n",
      "13  3.780       1.0\n",
      "14  5.250       1.0\n",
      "15  5.424       1.0\n",
      "16  5.345       1.0\n",
      "17  2.200       0.0\n",
      "18  1.615       0.0\n",
      "19  1.835       0.0\n",
      "20  2.465       0.0\n",
      "21  3.520       1.0\n",
      "22  3.435       1.0\n",
      "23  3.840       1.0\n",
      "24  3.845       1.0\n",
      "25  1.935       0.0\n",
      "26  2.140       0.0\n",
      "27  1.513       0.0\n",
      "28  3.170       0.0\n",
      "29  2.770       0.0\n",
      "30  3.570       1.0\n",
      "31  2.780       0.0\n"
     ]
    }
   ],
   "source": [
    "# wt 열이 3.3보다 작은지의 여부 결과를 condition 변수에 저장\n",
    "condition = X.wt < 3.3\n",
    "\n",
    "# X 변수가 condition 조건 만족하면 wt_class 열에 0 으로 저장\n",
    "X.loc[condition, 'wt_class'] = 0\n",
    "\n",
    "# X 변수가 condition 조건 만족하지 않으면 wt_class 열에 1로 저장\n",
    "X.loc[~condition, 'wt_class'] = 1\n",
    "\n",
    "# wt 열과 wt_class 열 확인\n",
    "print(X[['wt','wt_class']])"
   ]
  },
  {
   "cell_type": "markdown",
   "id": "baf1e9b3",
   "metadata": {},
   "source": [
    "wt_class 열에 특이사항 없으면 기존 wt 열 삭제"
   ]
  },
  {
   "cell_type": "code",
   "execution_count": 76,
   "id": "85bd8ee3",
   "metadata": {},
   "outputs": [
    {
     "name": "stdout",
     "output_type": "stream",
     "text": [
      "   cyl   disp     hp  drat   qsec  vs  gear  carb  am_new  wt_class\n",
      "0  6.0  160.0  110.0  3.90  16.46   0     4   4.0       0       0.0\n",
      "1  6.0  160.0  110.0  3.90  17.02   0     4   4.0       0       0.0\n",
      "2  4.0  108.0   93.0  3.85  18.61   1     4   1.0       0       0.0\n",
      "3  6.0  258.0  110.0  3.08   0.10   1     3   1.0       1       0.0\n",
      "4  8.0  360.0  175.0  3.15  17.02   0     3   2.0       1       1.0\n"
     ]
    }
   ],
   "source": [
    "# X 변수에서 wt열 삭제한 후, 삭제 결과를 X 변수에 다시 저장\n",
    "X = X.drop(columns='wt')\n",
    "\n",
    "print(X.head())"
   ]
  },
  {
   "cell_type": "markdown",
   "id": "ffda108b",
   "metadata": {},
   "source": [
    "### [2] qsec_4\n",
    "- qsec 열 (1/4mile 도달 시간) 값 기반으로, qsec 열 단위를 1/4mile 단위에서 1mile 단위로 변환하기 위해 생성하는 변수\n",
    "- 현재 qsec 열 값을 4배하여 1mile 당 도달 시간을 의미하는 qsec_4 변수 생성"
   ]
  },
  {
   "cell_type": "code",
   "execution_count": 77,
   "id": "fdd2a98b",
   "metadata": {},
   "outputs": [
    {
     "name": "stdout",
     "output_type": "stream",
     "text": [
      "      qsec   qsec_4\n",
      "0   16.460   65.840\n",
      "1   17.020   68.080\n",
      "2   18.610   74.440\n",
      "3    0.100    0.400\n",
      "4   17.020   68.080\n",
      "5   20.220   80.880\n",
      "6   15.840   63.360\n",
      "7   20.000   80.000\n",
      "8   22.900   91.600\n",
      "9   18.300   73.200\n",
      "10  17.600   70.400\n",
      "11  17.400   69.600\n",
      "12  17.600   70.400\n",
      "13  18.000   72.000\n",
      "14  17.980   71.920\n",
      "15  17.820   71.280\n",
      "16  17.420   69.680\n",
      "17  19.470   77.880\n",
      "18  18.520   74.080\n",
      "19  19.900   79.600\n",
      "20  20.010   80.040\n",
      "21  16.870   67.480\n",
      "22  17.300   69.200\n",
      "23  15.410   61.640\n",
      "24  42.396  169.584\n",
      "25  18.900   75.600\n",
      "26  16.700   66.800\n",
      "27  16.900   67.600\n",
      "28  14.500   58.000\n",
      "29  15.500   62.000\n",
      "30  14.600   58.400\n",
      "31  18.600   74.400\n"
     ]
    }
   ],
   "source": [
    "# qsec 열에 4 곱한 결과를 qsec_4 열에 저장\n",
    "X['qsec_4'] = X.qsec * 4\n",
    "\n",
    "# qsec 열과 qsec_4 열 값 확인\n",
    "print(X[['qsec','qsec_4']])"
   ]
  },
  {
   "cell_type": "markdown",
   "id": "08280bcf",
   "metadata": {},
   "source": [
    "qsec_4 열을 분석 수행에서 활용하고, 기존 qsec 열 삭제"
   ]
  },
  {
   "cell_type": "code",
   "execution_count": 78,
   "id": "eb3b1b6b",
   "metadata": {},
   "outputs": [
    {
     "name": "stdout",
     "output_type": "stream",
     "text": [
      "   cyl   disp     hp  drat  vs  gear  carb  am_new  wt_class  qsec_4\n",
      "0  6.0  160.0  110.0  3.90   0     4   4.0       0       0.0   65.84\n",
      "1  6.0  160.0  110.0  3.90   0     4   4.0       0       0.0   68.08\n",
      "2  4.0  108.0   93.0  3.85   1     4   1.0       0       0.0   74.44\n",
      "3  6.0  258.0  110.0  3.08   1     3   1.0       1       0.0    0.40\n",
      "4  8.0  360.0  175.0  3.15   0     3   2.0       1       1.0   68.08\n"
     ]
    }
   ],
   "source": [
    "# X 변수에서 qsec 열 삭제 후 X 변수에 다시 저장\n",
    "X = X.drop(columns = 'qsec')\n",
    "\n",
    "print(X.head())"
   ]
  },
  {
   "cell_type": "markdown",
   "id": "21044a1a",
   "metadata": {},
   "source": [
    "### 3. 학습 데이터로 공부하기 : 모델 생성, 모델 검증"
   ]
  },
  {
   "cell_type": "code",
   "execution_count": 79,
   "id": "6a98b113",
   "metadata": {},
   "outputs": [],
   "source": [
    "# 데이터셋 분리\n",
    "from sklearn.model_selection import train_test_split"
   ]
  },
  {
   "cell_type": "code",
   "execution_count": 81,
   "id": "ea728e3d",
   "metadata": {},
   "outputs": [],
   "source": [
    "# X, Y 변수로 학습 데이터 70%, 테스트 데이터 30% 로 분리\n",
    "X_train, X_test, y_train, y_test = train_test_split(X, y, test_size = .3, random_state=10)"
   ]
  },
  {
   "cell_type": "code",
   "execution_count": 83,
   "id": "5934b2f2",
   "metadata": {},
   "outputs": [
    {
     "name": "stdout",
     "output_type": "stream",
     "text": [
      "     cyl   disp     hp  drat  vs  gear  carb  am_new  wt_class  qsec_4\n",
      "19   4.0   71.1   65.0  4.22   1     4   1.0       0       0.0   79.60\n",
      "14  14.0  472.0  205.0  2.93   0     3   4.0       1       1.0   71.92\n",
      "18   4.0   75.7   52.0  4.93   1     4   2.0       0       0.0   74.08\n",
      "6    8.0  360.0  245.0  3.21   0     3   4.0       1       1.0   63.36\n",
      "11   8.0  275.8  180.0  3.07   0     3   3.0       1       1.0   69.60\n"
     ]
    }
   ],
   "source": [
    "# 독립변수인 학습 데이터의 상위 5개 행 확인\n",
    "print(X_train.head())"
   ]
  },
  {
   "cell_type": "code",
   "execution_count": 84,
   "id": "83393081",
   "metadata": {},
   "outputs": [
    {
     "name": "stdout",
     "output_type": "stream",
     "text": [
      "19    33.9\n",
      "14    10.4\n",
      "18    30.4\n",
      "6     14.3\n",
      "11    16.4\n",
      "Name: mpg, dtype: float64\n"
     ]
    }
   ],
   "source": [
    "# 종속변수인 학습 데이터의 상위 5개행 확인\n",
    "print(y_train.head())"
   ]
  },
  {
   "cell_type": "code",
   "execution_count": 85,
   "id": "c74a0abc",
   "metadata": {},
   "outputs": [
    {
     "name": "stdout",
     "output_type": "stream",
     "text": [
      "    cyl   disp     hp  drat  vs  gear  carb  am_new  wt_class  qsec_4\n",
      "20  4.0  120.1   97.0  3.70   1     3   1.0       1       0.0   80.04\n",
      "7   7.6  146.7   62.0  3.69   1     4   2.0       1       0.0   80.00\n",
      "5   6.0  225.0  105.0  2.76   1     3   1.0       1       1.0   80.88\n",
      "2   4.0  108.0   93.0  3.85   1     4   1.0       0       0.0   74.44\n",
      "3   6.0  258.0  110.0  3.08   1     3   1.0       1       0.0    0.40\n"
     ]
    }
   ],
   "source": [
    "# 독립변수인 테스트 데이터의 상위 5개 행 확인\n",
    "print(X_test.head())"
   ]
  },
  {
   "cell_type": "code",
   "execution_count": 86,
   "id": "f36fbb1b",
   "metadata": {},
   "outputs": [
    {
     "name": "stdout",
     "output_type": "stream",
     "text": [
      "20    21.5\n",
      "7     24.4\n",
      "5     18.1\n",
      "2     22.8\n",
      "3     21.4\n",
      "Name: mpg, dtype: float64\n"
     ]
    }
   ],
   "source": [
    "# 종속변수인 테스트 데이터의 상위 5개 행 확인\n",
    "print(y_test.head())"
   ]
  },
  {
   "cell_type": "markdown",
   "id": "c9dea34d",
   "metadata": {},
   "source": [
    "### 공부하고 평가하기 : Modeling\n",
    "- 종속변수가 연속형 >>> 예측 모델\n",
    "- 종속변수가 범주형 >>> 분류 모델\n",
    "\n",
    "### - 모델 학습, 파이썬 코드\n",
    "1. 사용할 모델의 함수 가져오기\n",
    " > from sklearn.모듈 import 모델함수\n",
    "2. 학습 모델 만들기\n",
    " > model = 모델함수()\n",
    "3. 학습 데이터로 모델 학습\n",
    " > model.fit(X_train, y_train)\n",
    "4. 학습된 모델로 값 예측\n",
    " > - y_train의 예측값 = model.predict(X_train)\n",
    " > - y_test의 예측값 = model.predict(X_test)\n",
    " \n",
    "### - 모델 평가, 파이썬 코드\n",
    "1. 평가할 함수 가져오기\n",
    " > from sklearn.metrics import 평가함수\n",
    "2. 모델 평가\n",
    " > - print( 평가함수( y_train, y_train의 예측값 ) )\n",
    " > - print( 평가함수( y_test, y_test의 예측값 ) )"
   ]
  },
  {
   "cell_type": "markdown",
   "id": "834eab46",
   "metadata": {},
   "source": [
    "### - 예측 모델링 수행"
   ]
  },
  {
   "cell_type": "code",
   "execution_count": null,
   "id": "e4a852b6",
   "metadata": {},
   "outputs": [],
   "source": []
  }
 ],
 "metadata": {
  "kernelspec": {
   "display_name": "Python 3 (ipykernel)",
   "language": "python",
   "name": "python3"
  },
  "language_info": {
   "codemirror_mode": {
    "name": "ipython",
    "version": 3
   },
   "file_extension": ".py",
   "mimetype": "text/x-python",
   "name": "python",
   "nbconvert_exporter": "python",
   "pygments_lexer": "ipython3",
   "version": "3.7.13"
  }
 },
 "nbformat": 4,
 "nbformat_minor": 5
}
