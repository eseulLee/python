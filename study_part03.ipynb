{
 "cells": [
  {
   "cell_type": "markdown",
   "id": "bd55977c",
   "metadata": {},
   "source": [
    "### 데이터 이해 : mtcars.csv\n",
    "1. mpg : 연비 (Miles/gallon) >> target(종속변수)\n",
    "2. Unnamed: 0 : 자동차 모델명\n",
    "3. cyl : 엔진 기통수 (Number of cylinders)\n",
    "4. disp : 배기량 (Displacement)\n",
    "5. hp : 마력 (Gross horsepower)\n",
    "6. drat : 뒤 차축비 (Rear axle ratio)\n",
    "7. wt : 무게 (Weight)\n",
    "8. qsec : 1/4 mile 도달 시간 (1/4 mile time)\n",
    "9. vs : V형 엔진/직렬 엔진 (V engine/ Straight engine)\n",
    "10. am : 변속기 (Transmission)\n",
    "11. gear : 전진기어 개수 (Number of forward gears)\n",
    "12. carb : 기화기 개수 (Number of carburetors)"
   ]
  },
  {
   "cell_type": "markdown",
   "id": "9890c95e",
   "metadata": {},
   "source": [
    "## 데이터 분석 과정\n",
    "1. 데이터 준비\n",
    "2. 데이터 관찰 및 가공\n",
    "3. 데이터 분리 (학습 데이터/ 테스트 데이터)\n",
    "4. 학습 및 평가(검증)\n",
    "5. 결과 출력 및 저장\n",
    "\n",
    "## tips\n",
    "- 실제 시험 환경 특성 상, 반드시 print() 함수 사용해야 함\n",
    "- type(), head(), shape() 등의 결괏값 확인시 print() 사용 필수!"
   ]
  },
  {
   "cell_type": "markdown",
   "id": "c8d490b3",
   "metadata": {},
   "source": [
    "### 1. 데이터 준비하기: Data Load"
   ]
  },
  {
   "cell_type": "code",
   "execution_count": 2,
   "id": "ec4ed056",
   "metadata": {},
   "outputs": [],
   "source": [
    "import pandas as pd\n",
    "data = pd.read_csv('bigData-main/mtcars.csv')"
   ]
  },
  {
   "cell_type": "code",
   "execution_count": 6,
   "id": "93ae1c0f",
   "metadata": {},
   "outputs": [
    {
     "data": {
      "text/html": [
       "<div>\n",
       "<style scoped>\n",
       "    .dataframe tbody tr th:only-of-type {\n",
       "        vertical-align: middle;\n",
       "    }\n",
       "\n",
       "    .dataframe tbody tr th {\n",
       "        vertical-align: top;\n",
       "    }\n",
       "\n",
       "    .dataframe thead th {\n",
       "        text-align: right;\n",
       "    }\n",
       "</style>\n",
       "<table border=\"1\" class=\"dataframe\">\n",
       "  <thead>\n",
       "    <tr style=\"text-align: right;\">\n",
       "      <th></th>\n",
       "      <th>Unnamed: 0</th>\n",
       "      <th>mpg</th>\n",
       "      <th>cyl</th>\n",
       "      <th>disp</th>\n",
       "      <th>hp</th>\n",
       "      <th>drat</th>\n",
       "      <th>wt</th>\n",
       "      <th>qsec</th>\n",
       "      <th>vs</th>\n",
       "      <th>am</th>\n",
       "      <th>gear</th>\n",
       "      <th>carb</th>\n",
       "    </tr>\n",
       "  </thead>\n",
       "  <tbody>\n",
       "    <tr>\n",
       "      <th>0</th>\n",
       "      <td>Mazda RX4</td>\n",
       "      <td>21.0</td>\n",
       "      <td>6.0</td>\n",
       "      <td>160.0</td>\n",
       "      <td>110</td>\n",
       "      <td>3.90</td>\n",
       "      <td>2.620</td>\n",
       "      <td>16.46</td>\n",
       "      <td>0</td>\n",
       "      <td>manual</td>\n",
       "      <td>4</td>\n",
       "      <td>4</td>\n",
       "    </tr>\n",
       "    <tr>\n",
       "      <th>1</th>\n",
       "      <td>Mazda RX4 Wag</td>\n",
       "      <td>21.0</td>\n",
       "      <td>6.0</td>\n",
       "      <td>160.0</td>\n",
       "      <td>110</td>\n",
       "      <td>3.90</td>\n",
       "      <td>2.875</td>\n",
       "      <td>17.02</td>\n",
       "      <td>0</td>\n",
       "      <td>manual</td>\n",
       "      <td>4</td>\n",
       "      <td>4</td>\n",
       "    </tr>\n",
       "    <tr>\n",
       "      <th>2</th>\n",
       "      <td>Datsun 710</td>\n",
       "      <td>22.8</td>\n",
       "      <td>4.0</td>\n",
       "      <td>108.0</td>\n",
       "      <td>93</td>\n",
       "      <td>3.85</td>\n",
       "      <td>2.320</td>\n",
       "      <td>18.61</td>\n",
       "      <td>1</td>\n",
       "      <td>manual</td>\n",
       "      <td>4</td>\n",
       "      <td>1</td>\n",
       "    </tr>\n",
       "    <tr>\n",
       "      <th>3</th>\n",
       "      <td>Hornet 4 Drive</td>\n",
       "      <td>21.4</td>\n",
       "      <td>6.0</td>\n",
       "      <td>258.0</td>\n",
       "      <td>110</td>\n",
       "      <td>3.08</td>\n",
       "      <td>3.215</td>\n",
       "      <td>0.10</td>\n",
       "      <td>1</td>\n",
       "      <td>auto</td>\n",
       "      <td>3</td>\n",
       "      <td>1</td>\n",
       "    </tr>\n",
       "    <tr>\n",
       "      <th>4</th>\n",
       "      <td>Hornet Sportabout</td>\n",
       "      <td>18.7</td>\n",
       "      <td>8.0</td>\n",
       "      <td>360.0</td>\n",
       "      <td>175</td>\n",
       "      <td>3.15</td>\n",
       "      <td>3.440</td>\n",
       "      <td>17.02</td>\n",
       "      <td>0</td>\n",
       "      <td>auto</td>\n",
       "      <td>3</td>\n",
       "      <td>2</td>\n",
       "    </tr>\n",
       "  </tbody>\n",
       "</table>\n",
       "</div>"
      ],
      "text/plain": [
       "          Unnamed: 0   mpg  cyl   disp   hp  drat     wt   qsec  vs      am  \\\n",
       "0          Mazda RX4  21.0  6.0  160.0  110  3.90  2.620  16.46   0  manual   \n",
       "1      Mazda RX4 Wag  21.0  6.0  160.0  110  3.90  2.875  17.02   0  manual   \n",
       "2         Datsun 710  22.8  4.0  108.0   93  3.85  2.320  18.61   1  manual   \n",
       "3     Hornet 4 Drive  21.4  6.0  258.0  110  3.08  3.215   0.10   1    auto   \n",
       "4  Hornet Sportabout  18.7  8.0  360.0  175  3.15  3.440  17.02   0    auto   \n",
       "\n",
       "  gear  carb  \n",
       "0    4     4  \n",
       "1    4     4  \n",
       "2    4     1  \n",
       "3    3     1  \n",
       "4    3     2  "
      ]
     },
     "metadata": {},
     "output_type": "display_data"
    }
   ],
   "source": [
    "# data 변수 상위 5개 출력\n",
    "display(data.head())"
   ]
  },
  {
   "cell_type": "markdown",
   "id": "d814b855",
   "metadata": {},
   "source": [
    "### 데이터 둘러보기"
   ]
  },
  {
   "cell_type": "code",
   "execution_count": 19,
   "id": "30d18de0",
   "metadata": {},
   "outputs": [
    {
     "name": "stdout",
     "output_type": "stream",
     "text": [
      "(32, 12)\n"
     ]
    }
   ],
   "source": [
    "# 데이터 모양 확인\n",
    "\n",
    "print(data.shape)"
   ]
  },
  {
   "cell_type": "code",
   "execution_count": 15,
   "id": "27f664d5",
   "metadata": {},
   "outputs": [
    {
     "name": "stdout",
     "output_type": "stream",
     "text": [
      "<class 'pandas.core.frame.DataFrame'>\n"
     ]
    }
   ],
   "source": [
    "# 데이터 타입 확인\n",
    "\n",
    "print(type(data))"
   ]
  },
  {
   "cell_type": "code",
   "execution_count": 16,
   "id": "28630dc4",
   "metadata": {},
   "outputs": [
    {
     "name": "stdout",
     "output_type": "stream",
     "text": [
      "Index(['Unnamed: 0', 'mpg', 'cyl', 'disp', 'hp', 'drat', 'wt', 'qsec', 'vs',\n",
      "       'am', 'gear', 'carb'],\n",
      "      dtype='object')\n"
     ]
    }
   ],
   "source": [
    "# 데이터 열 확인\n",
    "\n",
    "print(data.columns)"
   ]
  },
  {
   "cell_type": "code",
   "execution_count": 17,
   "id": "67604c95",
   "metadata": {},
   "outputs": [
    {
     "name": "stdout",
     "output_type": "stream",
     "text": [
      "             mpg        cyl        disp          hp       drat         wt  \\\n",
      "count  32.000000  30.000000   32.000000   32.000000  32.000000  32.000000   \n",
      "mean   20.090625   7.600000  230.721875  146.687500   3.596563   3.217250   \n",
      "std     6.026948   8.194195  123.938694   68.562868   0.534679   0.978457   \n",
      "min    10.400000   4.000000   71.100000   52.000000   2.760000   1.513000   \n",
      "25%    15.425000   4.000000  120.825000   96.500000   3.080000   2.581250   \n",
      "50%    19.200000   6.000000  196.300000  123.000000   3.695000   3.325000   \n",
      "75%    22.800000   8.000000  326.000000  180.000000   3.920000   3.610000   \n",
      "max    33.900000  50.000000  472.000000  335.000000   4.930000   5.424000   \n",
      "\n",
      "             qsec         vs     carb  \n",
      "count   31.000000  32.000000  32.0000  \n",
      "mean    19.866774   0.437500   2.8125  \n",
      "std     15.310469   0.504016   1.6152  \n",
      "min      0.100000   0.000000   1.0000  \n",
      "25%     16.785000   0.000000   2.0000  \n",
      "50%     17.600000   0.000000   2.0000  \n",
      "75%     18.755000   1.000000   4.0000  \n",
      "max    100.000000   1.000000   8.0000  \n"
     ]
    }
   ],
   "source": [
    "# 기초통계랑 확인\n",
    "\n",
    "print(data.describe())"
   ]
  },
  {
   "cell_type": "code",
   "execution_count": 18,
   "id": "02ded4c3",
   "metadata": {},
   "outputs": [
    {
     "name": "stdout",
     "output_type": "stream",
     "text": [
      "count     32.000000\n",
      "mean     146.687500\n",
      "std       68.562868\n",
      "min       52.000000\n",
      "25%       96.500000\n",
      "50%      123.000000\n",
      "75%      180.000000\n",
      "max      335.000000\n",
      "Name: hp, dtype: float64\n"
     ]
    }
   ],
   "source": [
    "# hp 수치형 변수의 기초통계량 확인\n",
    "\n",
    "print(data['hp'].describe())"
   ]
  },
  {
   "cell_type": "code",
   "execution_count": 22,
   "id": "f04bfc92",
   "metadata": {},
   "outputs": [
    {
     "name": "stdout",
     "output_type": "stream",
     "text": [
      "am   :  ['manual' 'auto']\n",
      "gear :  ['4' '3' '*3' '5' '*5']\n",
      "vs   :  [0 1]\n"
     ]
    }
   ],
   "source": [
    "# 데이터 중복 제거 : unique\n",
    "\n",
    "print('am   : ', data['am'].unique())\n",
    "print('gear : ', data['gear'].unique())\n",
    "print('vs   : ', data['vs'].unique())"
   ]
  },
  {
   "cell_type": "code",
   "execution_count": 23,
   "id": "b2a580dd",
   "metadata": {},
   "outputs": [
    {
     "name": "stdout",
     "output_type": "stream",
     "text": [
      "<class 'pandas.core.frame.DataFrame'>\n",
      "RangeIndex: 32 entries, 0 to 31\n",
      "Data columns (total 12 columns):\n",
      " #   Column      Non-Null Count  Dtype  \n",
      "---  ------      --------------  -----  \n",
      " 0   Unnamed: 0  32 non-null     object \n",
      " 1   mpg         32 non-null     float64\n",
      " 2   cyl         30 non-null     float64\n",
      " 3   disp        32 non-null     float64\n",
      " 4   hp          32 non-null     int64  \n",
      " 5   drat        32 non-null     float64\n",
      " 6   wt          32 non-null     float64\n",
      " 7   qsec        31 non-null     float64\n",
      " 8   vs          32 non-null     int64  \n",
      " 9   am          32 non-null     object \n",
      " 10  gear        32 non-null     object \n",
      " 11  carb        32 non-null     int64  \n",
      "dtypes: float64(6), int64(3), object(3)\n",
      "memory usage: 3.1+ KB\n",
      "None\n"
     ]
    }
   ],
   "source": [
    "# 요약정보 확인\n",
    "\n",
    "print(data.info())"
   ]
  },
  {
   "cell_type": "code",
   "execution_count": 25,
   "id": "00dbdae4",
   "metadata": {},
   "outputs": [
    {
     "data": {
      "text/html": [
       "<div>\n",
       "<style scoped>\n",
       "    .dataframe tbody tr th:only-of-type {\n",
       "        vertical-align: middle;\n",
       "    }\n",
       "\n",
       "    .dataframe tbody tr th {\n",
       "        vertical-align: top;\n",
       "    }\n",
       "\n",
       "    .dataframe thead th {\n",
       "        text-align: right;\n",
       "    }\n",
       "</style>\n",
       "<table border=\"1\" class=\"dataframe\">\n",
       "  <thead>\n",
       "    <tr style=\"text-align: right;\">\n",
       "      <th></th>\n",
       "      <th>mpg</th>\n",
       "      <th>cyl</th>\n",
       "      <th>disp</th>\n",
       "      <th>hp</th>\n",
       "      <th>drat</th>\n",
       "      <th>wt</th>\n",
       "      <th>qsec</th>\n",
       "      <th>vs</th>\n",
       "      <th>carb</th>\n",
       "    </tr>\n",
       "  </thead>\n",
       "  <tbody>\n",
       "    <tr>\n",
       "      <th>mpg</th>\n",
       "      <td>1.000000</td>\n",
       "      <td>-0.460227</td>\n",
       "      <td>-0.847551</td>\n",
       "      <td>-0.776168</td>\n",
       "      <td>0.681172</td>\n",
       "      <td>-0.867659</td>\n",
       "      <td>0.013668</td>\n",
       "      <td>0.664039</td>\n",
       "      <td>-0.550925</td>\n",
       "    </tr>\n",
       "    <tr>\n",
       "      <th>cyl</th>\n",
       "      <td>-0.460227</td>\n",
       "      <td>1.000000</td>\n",
       "      <td>0.544876</td>\n",
       "      <td>0.323293</td>\n",
       "      <td>-0.372671</td>\n",
       "      <td>0.533690</td>\n",
       "      <td>-0.012755</td>\n",
       "      <td>-0.323960</td>\n",
       "      <td>0.239980</td>\n",
       "    </tr>\n",
       "    <tr>\n",
       "      <th>disp</th>\n",
       "      <td>-0.847551</td>\n",
       "      <td>0.544876</td>\n",
       "      <td>1.000000</td>\n",
       "      <td>0.790949</td>\n",
       "      <td>-0.710214</td>\n",
       "      <td>0.887980</td>\n",
       "      <td>0.181810</td>\n",
       "      <td>-0.710416</td>\n",
       "      <td>0.394977</td>\n",
       "    </tr>\n",
       "    <tr>\n",
       "      <th>hp</th>\n",
       "      <td>-0.776168</td>\n",
       "      <td>0.323293</td>\n",
       "      <td>0.790949</td>\n",
       "      <td>1.000000</td>\n",
       "      <td>-0.448759</td>\n",
       "      <td>0.658748</td>\n",
       "      <td>0.010807</td>\n",
       "      <td>-0.723097</td>\n",
       "      <td>0.749812</td>\n",
       "    </tr>\n",
       "    <tr>\n",
       "      <th>drat</th>\n",
       "      <td>0.681172</td>\n",
       "      <td>-0.372671</td>\n",
       "      <td>-0.710214</td>\n",
       "      <td>-0.448759</td>\n",
       "      <td>1.000000</td>\n",
       "      <td>-0.712441</td>\n",
       "      <td>-0.120283</td>\n",
       "      <td>0.440278</td>\n",
       "      <td>-0.090790</td>\n",
       "    </tr>\n",
       "    <tr>\n",
       "      <th>wt</th>\n",
       "      <td>-0.867659</td>\n",
       "      <td>0.533690</td>\n",
       "      <td>0.887980</td>\n",
       "      <td>0.658748</td>\n",
       "      <td>-0.712441</td>\n",
       "      <td>1.000000</td>\n",
       "      <td>0.093900</td>\n",
       "      <td>-0.554916</td>\n",
       "      <td>0.427606</td>\n",
       "    </tr>\n",
       "    <tr>\n",
       "      <th>qsec</th>\n",
       "      <td>0.013668</td>\n",
       "      <td>-0.012755</td>\n",
       "      <td>0.181810</td>\n",
       "      <td>0.010807</td>\n",
       "      <td>-0.120283</td>\n",
       "      <td>0.093900</td>\n",
       "      <td>1.000000</td>\n",
       "      <td>-0.112146</td>\n",
       "      <td>-0.120312</td>\n",
       "    </tr>\n",
       "    <tr>\n",
       "      <th>vs</th>\n",
       "      <td>0.664039</td>\n",
       "      <td>-0.323960</td>\n",
       "      <td>-0.710416</td>\n",
       "      <td>-0.723097</td>\n",
       "      <td>0.440278</td>\n",
       "      <td>-0.554916</td>\n",
       "      <td>-0.112146</td>\n",
       "      <td>1.000000</td>\n",
       "      <td>-0.569607</td>\n",
       "    </tr>\n",
       "    <tr>\n",
       "      <th>carb</th>\n",
       "      <td>-0.550925</td>\n",
       "      <td>0.239980</td>\n",
       "      <td>0.394977</td>\n",
       "      <td>0.749812</td>\n",
       "      <td>-0.090790</td>\n",
       "      <td>0.427606</td>\n",
       "      <td>-0.120312</td>\n",
       "      <td>-0.569607</td>\n",
       "      <td>1.000000</td>\n",
       "    </tr>\n",
       "  </tbody>\n",
       "</table>\n",
       "</div>"
      ],
      "text/plain": [
       "           mpg       cyl      disp        hp      drat        wt      qsec  \\\n",
       "mpg   1.000000 -0.460227 -0.847551 -0.776168  0.681172 -0.867659  0.013668   \n",
       "cyl  -0.460227  1.000000  0.544876  0.323293 -0.372671  0.533690 -0.012755   \n",
       "disp -0.847551  0.544876  1.000000  0.790949 -0.710214  0.887980  0.181810   \n",
       "hp   -0.776168  0.323293  0.790949  1.000000 -0.448759  0.658748  0.010807   \n",
       "drat  0.681172 -0.372671 -0.710214 -0.448759  1.000000 -0.712441 -0.120283   \n",
       "wt   -0.867659  0.533690  0.887980  0.658748 -0.712441  1.000000  0.093900   \n",
       "qsec  0.013668 -0.012755  0.181810  0.010807 -0.120283  0.093900  1.000000   \n",
       "vs    0.664039 -0.323960 -0.710416 -0.723097  0.440278 -0.554916 -0.112146   \n",
       "carb -0.550925  0.239980  0.394977  0.749812 -0.090790  0.427606 -0.120312   \n",
       "\n",
       "            vs      carb  \n",
       "mpg   0.664039 -0.550925  \n",
       "cyl  -0.323960  0.239980  \n",
       "disp -0.710416  0.394977  \n",
       "hp   -0.723097  0.749812  \n",
       "drat  0.440278 -0.090790  \n",
       "wt   -0.554916  0.427606  \n",
       "qsec -0.112146 -0.120312  \n",
       "vs    1.000000 -0.569607  \n",
       "carb -0.569607  1.000000  "
      ]
     },
     "metadata": {},
     "output_type": "display_data"
    }
   ],
   "source": [
    "# 상관관계 구하기\n",
    "\n",
    "display(data.corr())"
   ]
  },
  {
   "cell_type": "markdown",
   "id": "443845bf",
   "metadata": {},
   "source": [
    "### 종속변수/ 독립변수 분리"
   ]
  },
  {
   "cell_type": "code",
   "execution_count": 26,
   "id": "6819da53",
   "metadata": {},
   "outputs": [],
   "source": [
    "X = data.drop(columns = 'mpg')\n",
    "y = data['mpg']"
   ]
  },
  {
   "cell_type": "code",
   "execution_count": 27,
   "id": "e3721693",
   "metadata": {},
   "outputs": [
    {
     "name": "stdout",
     "output_type": "stream",
     "text": [
      "          Unnamed: 0  cyl   disp   hp  drat     wt   qsec  vs      am gear  \\\n",
      "0          Mazda RX4  6.0  160.0  110  3.90  2.620  16.46   0  manual    4   \n",
      "1      Mazda RX4 Wag  6.0  160.0  110  3.90  2.875  17.02   0  manual    4   \n",
      "2         Datsun 710  4.0  108.0   93  3.85  2.320  18.61   1  manual    4   \n",
      "3     Hornet 4 Drive  6.0  258.0  110  3.08  3.215   0.10   1    auto    3   \n",
      "4  Hornet Sportabout  8.0  360.0  175  3.15  3.440  17.02   0    auto    3   \n",
      "\n",
      "   carb  \n",
      "0     4  \n",
      "1     4  \n",
      "2     1  \n",
      "3     1  \n",
      "4     2  \n"
     ]
    }
   ],
   "source": [
    "# 독립변수 X 의 상위 5개 행을 확인\n",
    "print(X.head())"
   ]
  },
  {
   "cell_type": "code",
   "execution_count": 28,
   "id": "2ff03750",
   "metadata": {},
   "outputs": [
    {
     "name": "stdout",
     "output_type": "stream",
     "text": [
      "Index(['Unnamed: 0', 'cyl', 'disp', 'hp', 'drat', 'wt', 'qsec', 'vs', 'am',\n",
      "       'gear', 'carb'],\n",
      "      dtype='object')\n"
     ]
    }
   ],
   "source": [
    "# 독립변수 X의 컬럼 이름 출력\n",
    "print(X.columns)"
   ]
  },
  {
   "cell_type": "code",
   "execution_count": 29,
   "id": "290524d0",
   "metadata": {},
   "outputs": [
    {
     "name": "stdout",
     "output_type": "stream",
     "text": [
      "0    21.0\n",
      "1    21.0\n",
      "2    22.8\n",
      "3    21.4\n",
      "4    18.7\n",
      "Name: mpg, dtype: float64\n"
     ]
    }
   ],
   "source": [
    "print(y.head())"
   ]
  },
  {
   "cell_type": "markdown",
   "id": "3377b1e4",
   "metadata": {},
   "source": [
    "### 2. 데이터 관찰 및 가공 : 전처리(preprocessing)"
   ]
  },
  {
   "cell_type": "code",
   "execution_count": null,
   "id": "89ed866d",
   "metadata": {},
   "outputs": [],
   "source": []
  },
  {
   "cell_type": "code",
   "execution_count": null,
   "id": "031a8b52",
   "metadata": {},
   "outputs": [],
   "source": []
  },
  {
   "cell_type": "code",
   "execution_count": null,
   "id": "cd1e80bf",
   "metadata": {},
   "outputs": [],
   "source": []
  },
  {
   "cell_type": "code",
   "execution_count": null,
   "id": "7a1140b1",
   "metadata": {},
   "outputs": [],
   "source": []
  },
  {
   "cell_type": "code",
   "execution_count": null,
   "id": "831e1c38",
   "metadata": {},
   "outputs": [],
   "source": []
  },
  {
   "cell_type": "code",
   "execution_count": null,
   "id": "f4b32630",
   "metadata": {},
   "outputs": [],
   "source": []
  },
  {
   "cell_type": "code",
   "execution_count": null,
   "id": "af7b442f",
   "metadata": {},
   "outputs": [],
   "source": []
  },
  {
   "cell_type": "code",
   "execution_count": null,
   "id": "a3c5e9fd",
   "metadata": {},
   "outputs": [],
   "source": []
  },
  {
   "cell_type": "code",
   "execution_count": null,
   "id": "dcf3147b",
   "metadata": {},
   "outputs": [],
   "source": []
  }
 ],
 "metadata": {
  "kernelspec": {
   "display_name": "Python 3 (ipykernel)",
   "language": "python",
   "name": "python3"
  },
  "language_info": {
   "codemirror_mode": {
    "name": "ipython",
    "version": 3
   },
   "file_extension": ".py",
   "mimetype": "text/x-python",
   "name": "python",
   "nbconvert_exporter": "python",
   "pygments_lexer": "ipython3",
   "version": "3.7.13"
  }
 },
 "nbformat": 4,
 "nbformat_minor": 5
}
