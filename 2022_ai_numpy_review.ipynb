{
  "nbformat": 4,
  "nbformat_minor": 0,
  "metadata": {
    "colab": {
      "name": "2022_ai_numpy_review",
      "provenance": [],
      "collapsed_sections": [
        "dVIVtBAvXzM0",
        "47eldRTRYRJ_",
        "LQ2VaeDgZhOS",
        "cux6nHwXd0Tb",
        "biJfv43bkVzV",
        "1LNwRuQcmmIp",
        "PQWFMz-nn5_B",
        "VEQsgXRgoEA-",
        "UTCMkA-wst0Q",
        "FOgJ4Mh1t2Qo",
        "JrmUORU5uJN-",
        "4tWHXaxCuZfP",
        "zw7QXa_Gvx0c",
        "NxTY-89nwgXP",
        "dYkhv_2MyI_m",
        "HYrtLiptzQnw",
        "AwtE30Sm1kDe",
        "epgI1ItmaX4V",
        "i1SBiiWtwr8g",
        "MKom-nVVxkcu",
        "FeCOSJUtyHKP",
        "fH-I39o1ytlj",
        "mlyxovpi1SLc",
        "YC583wyh4G5n",
        "EcLSX0cY6hY5",
        "C_GnIwpl74oB",
        "ZhUNMt8rdj4X",
        "EuANmVDLj5BE"
      ],
      "authorship_tag": "ABX9TyNC2XAdel8zclF6j993ijyw",
      "include_colab_link": true
    },
    "kernelspec": {
      "name": "python3",
      "display_name": "Python 3"
    },
    "language_info": {
      "name": "python"
    }
  },
  "cells": [
    {
      "cell_type": "markdown",
      "metadata": {
        "id": "view-in-github",
        "colab_type": "text"
      },
      "source": [
        "<a href=\"https://colab.research.google.com/github/eseulLee/python/blob/main/2022_ai_numpy_review.ipynb\" target=\"_parent\"><img src=\"https://colab.research.google.com/assets/colab-badge.svg\" alt=\"Open In Colab\"/></a>"
      ]
    },
    {
      "cell_type": "markdown",
      "source": [
        "## Array\n",
        "- 모든 원소가 같은 자료형이어야 한다.\n",
        "- 원소의 개수를 바꿀 수 없다. (resizing X)\n",
        "- 배열의 차원(ndim), 크기(shape), 타입(dtype)\n",
        "- 벡터화 연산이 가능\n",
        "- 문자로도 array 만들 수 있음\n",
        "> but, 나중에 머신러닝에 쓰기 위해서는 label encoding/ one-hot encoding 필요하기 때문에 잘 하지는 않는다."
      ],
      "metadata": {
        "id": "6Re_YRP5RF5y"
      }
    },
    {
      "cell_type": "code",
      "source": [
        "import numpy as np\n",
        "np.__version__"
      ],
      "metadata": {
        "colab": {
          "base_uri": "https://localhost:8080/",
          "height": 35
        },
        "id": "hcDG7Vm5R4jI",
        "outputId": "741d825a-fff5-4a97-d386-e2e8d755d232"
      },
      "execution_count": null,
      "outputs": [
        {
          "output_type": "execute_result",
          "data": {
            "text/plain": [
              "'1.21.5'"
            ],
            "application/vnd.google.colaboratory.intrinsic+json": {
              "type": "string"
            }
          },
          "metadata": {},
          "execution_count": 55
        }
      ]
    },
    {
      "cell_type": "code",
      "source": [
        "### array type check function\n",
        "\n",
        "def aryInfo(ary) :\n",
        "  print('type - ', type(ary))\n",
        "  print('shape - ', ary.shape)\n",
        "  print('dimension - ', ary.ndim)\n",
        "  print('dtype - ', ary.dtype)       # ary 안의 요소값들의 type check\n",
        "  print()\n",
        "  print('data - \\n', ary)"
      ],
      "metadata": {
        "id": "B5sJmDGARB5a"
      },
      "execution_count": null,
      "outputs": []
    },
    {
      "cell_type": "code",
      "source": [
        "ary = np.array([0,1,2,3,4,5,6,7,8,9])\n",
        "aryInfo(ary)"
      ],
      "metadata": {
        "colab": {
          "base_uri": "https://localhost:8080/"
        },
        "id": "ZC5s8supU50L",
        "outputId": "8bab0bd9-a0de-4d6c-eea0-abf46ba6129d"
      },
      "execution_count": null,
      "outputs": [
        {
          "output_type": "stream",
          "name": "stdout",
          "text": [
            "type -  <class 'numpy.ndarray'>\n",
            "shape -  (10,)\n",
            "dimension -  1\n",
            "dtype -  int64\n",
            "\n",
            "data - \n",
            " [0 1 2 3 4 5 6 7 8 9]\n"
          ]
        }
      ]
    },
    {
      "cell_type": "markdown",
      "source": [
        "### vectorized operation(벡터화 연산)\n",
        "- 각 원소에 대한 반복연산을 하나의 명령어로 처리\n",
        "- 비교, 산술, 논리 연산을 포함하는 모든 수학 연산에 사용"
      ],
      "metadata": {
        "id": "gacbcMWHVUg6"
      }
    },
    {
      "cell_type": "code",
      "source": [
        "data = [0,1,2,3,4,5,6,7,8,9]\n",
        "data * 2"
      ],
      "metadata": {
        "colab": {
          "base_uri": "https://localhost:8080/"
        },
        "id": "Y5WbdDIWVbEo",
        "outputId": "6d19d3f3-6124-48c4-b884-3784a5e6e5e3"
      },
      "execution_count": null,
      "outputs": [
        {
          "output_type": "execute_result",
          "data": {
            "text/plain": [
              "[0, 1, 2, 3, 4, 5, 6, 7, 8, 9, 0, 1, 2, 3, 4, 5, 6, 7, 8, 9]"
            ]
          },
          "metadata": {},
          "execution_count": 6
        }
      ]
    },
    {
      "cell_type": "code",
      "source": [
        "result = []\n",
        "for d in data :\n",
        "  result.append(d*2)\n",
        "print(result)"
      ],
      "metadata": {
        "colab": {
          "base_uri": "https://localhost:8080/"
        },
        "id": "hlj9luw7VlbO",
        "outputId": "02115dd1-6f4f-4bae-ed1e-f8a59f026778"
      },
      "execution_count": null,
      "outputs": [
        {
          "output_type": "stream",
          "name": "stdout",
          "text": [
            "[0, 2, 4, 6, 8, 10, 12, 14, 16, 18]\n"
          ]
        }
      ]
    },
    {
      "cell_type": "code",
      "source": [
        "result2 = [ d * 2 for d in data]\n",
        "print(result2)"
      ],
      "metadata": {
        "colab": {
          "base_uri": "https://localhost:8080/"
        },
        "id": "Cb_wxctnVmNP",
        "outputId": "e7412549-5dd4-458e-df4b-6a969aa219b6"
      },
      "execution_count": null,
      "outputs": [
        {
          "output_type": "stream",
          "name": "stdout",
          "text": [
            "[0, 2, 4, 6, 8, 10, 12, 14, 16, 18]\n"
          ]
        }
      ]
    },
    {
      "cell_type": "code",
      "source": [
        "# array 로 처리\n",
        "\n",
        "result3 = ary * 2\n",
        "print(result3)"
      ],
      "metadata": {
        "colab": {
          "base_uri": "https://localhost:8080/"
        },
        "id": "u-Yn9w7DVz_2",
        "outputId": "bb483bdd-c631-498b-f3ca-e04229a04c50"
      },
      "execution_count": null,
      "outputs": [
        {
          "output_type": "stream",
          "name": "stdout",
          "text": [
            "[ 0  2  4  6  8 10 12 14 16 18]\n"
          ]
        }
      ]
    },
    {
      "cell_type": "code",
      "source": [
        "data01 = [1, 2, 3, 4 ,5]\n",
        "data02 = [10, 20, 30, 40, 50]\n",
        "\n",
        "print('type check - ', type(data01), type(data02))"
      ],
      "metadata": {
        "colab": {
          "base_uri": "https://localhost:8080/"
        },
        "id": "bJ0PwL5iV9N-",
        "outputId": "0acb9d92-fb9c-43bc-847f-1253ba976ab9"
      },
      "execution_count": null,
      "outputs": [
        {
          "output_type": "stream",
          "name": "stdout",
          "text": [
            "type check -  <class 'list'> <class 'list'>\n"
          ]
        }
      ]
    },
    {
      "cell_type": "markdown",
      "source": [
        "array() 함수 이용해 시퀀스 타입을 넘파이의 배열로 타입변경할 수 있다."
      ],
      "metadata": {
        "id": "AhCAPnqhWMPx"
      }
    },
    {
      "cell_type": "code",
      "source": [
        "xAry = np.array(data01)\n",
        "yAry = np.array(data02)\n",
        "\n",
        "print('type check - ',type(xAry), type(yAry))\n",
        "print('dimension check - ', xAry.ndim, yAry.ndim)"
      ],
      "metadata": {
        "colab": {
          "base_uri": "https://localhost:8080/"
        },
        "id": "5Ea-X4G1WJlN",
        "outputId": "e43f23e2-7160-4401-8dd7-ca5f3c674837"
      },
      "execution_count": null,
      "outputs": [
        {
          "output_type": "stream",
          "name": "stdout",
          "text": [
            "type check -  <class 'numpy.ndarray'> <class 'numpy.ndarray'>\n",
            "dimension check -  1 1\n"
          ]
        }
      ]
    },
    {
      "cell_type": "markdown",
      "source": [
        "#### 산술 연산"
      ],
      "metadata": {
        "id": "1ELTOyywXI9p"
      }
    },
    {
      "cell_type": "code",
      "source": [
        "aryInfo(xAry + yAry)       # 각 요소 간 연산 발생"
      ],
      "metadata": {
        "colab": {
          "base_uri": "https://localhost:8080/"
        },
        "id": "zmqxcO5xWj45",
        "outputId": "8186a811-0e29-418b-e93d-e20f27f7f51c"
      },
      "execution_count": null,
      "outputs": [
        {
          "output_type": "stream",
          "name": "stdout",
          "text": [
            "type -  <class 'numpy.ndarray'>\n",
            "shape -  (5,)\n",
            "dimension -  1\n",
            "dtype -  int64\n",
            "\n",
            "data - \n",
            " [11 22 33 44 55]\n"
          ]
        }
      ]
    },
    {
      "cell_type": "code",
      "source": [
        "aryInfo(2 * xAry + yAry)   # 연산자 우선순위에 의해 (2*xAry) 먼저 수행"
      ],
      "metadata": {
        "colab": {
          "base_uri": "https://localhost:8080/"
        },
        "id": "PQmXvIiuXLI_",
        "outputId": "8a164c7c-3bf6-43b9-dc38-377f361616a7"
      },
      "execution_count": null,
      "outputs": [
        {
          "output_type": "stream",
          "name": "stdout",
          "text": [
            "type -  <class 'numpy.ndarray'>\n",
            "shape -  (5,)\n",
            "dimension -  1\n",
            "dtype -  int64\n",
            "\n",
            "data - \n",
            " [12 24 36 48 60]\n"
          ]
        }
      ]
    },
    {
      "cell_type": "markdown",
      "source": [
        "#### 비교 연산자 - boolean masking"
      ],
      "metadata": {
        "id": "dVIVtBAvXzM0"
      }
    },
    {
      "cell_type": "code",
      "source": [
        "print(xAry == 2, '\\n')\n",
        "aryInfo(xAry == 2)"
      ],
      "metadata": {
        "colab": {
          "base_uri": "https://localhost:8080/"
        },
        "id": "drpgEKe_XZcm",
        "outputId": "41a7e4be-6311-4f1c-9e09-46ca4e77b967"
      },
      "execution_count": null,
      "outputs": [
        {
          "output_type": "stream",
          "name": "stdout",
          "text": [
            "[False  True False False False] \n",
            "\n",
            "type -  <class 'numpy.ndarray'>\n",
            "shape -  (5,)\n",
            "dimension -  1\n",
            "dtype -  bool\n",
            "\n",
            "data - \n",
            " [False  True False False False]\n"
          ]
        }
      ]
    },
    {
      "cell_type": "code",
      "source": [
        "print(yAry > 10, '\\n')\n",
        "aryInfo(yAry > 10)"
      ],
      "metadata": {
        "colab": {
          "base_uri": "https://localhost:8080/"
        },
        "id": "eDH1JJ1QX4tI",
        "outputId": "d862f362-ddec-4c65-8223-67c76341e33a"
      },
      "execution_count": null,
      "outputs": [
        {
          "output_type": "stream",
          "name": "stdout",
          "text": [
            "[False  True  True  True  True] \n",
            "\n",
            "type -  <class 'numpy.ndarray'>\n",
            "shape -  (5,)\n",
            "dimension -  1\n",
            "dtype -  bool\n",
            "\n",
            "data - \n",
            " [False  True  True  True  True]\n"
          ]
        }
      ]
    },
    {
      "cell_type": "markdown",
      "source": [
        "#### 논리 연산"
      ],
      "metadata": {
        "id": "47eldRTRYRJ_"
      }
    },
    {
      "cell_type": "code",
      "source": [
        "print((xAry == 2) | (yAry > 10), '\\n')\n",
        "aryInfo((xAry == 2) | (yAry > 10))"
      ],
      "metadata": {
        "colab": {
          "base_uri": "https://localhost:8080/"
        },
        "id": "zUWdEB7FYIRG",
        "outputId": "b62d7103-b91b-413a-aa1d-28078997fb55"
      },
      "execution_count": null,
      "outputs": [
        {
          "output_type": "stream",
          "name": "stdout",
          "text": [
            "[False  True  True  True  True] \n",
            "\n",
            "type -  <class 'numpy.ndarray'>\n",
            "shape -  (5,)\n",
            "dimension -  1\n",
            "dtype -  bool\n",
            "\n",
            "data - \n",
            " [False  True  True  True  True]\n"
          ]
        }
      ]
    },
    {
      "cell_type": "code",
      "source": [
        "print((xAry == 2) & (yAry > 10) , '\\n')\n",
        "aryInfo((xAry == 2) & (yAry > 10))"
      ],
      "metadata": {
        "colab": {
          "base_uri": "https://localhost:8080/"
        },
        "id": "lKsC7xJXYXi_",
        "outputId": "1f06c526-835e-41f2-9d0a-514650d5ed8e"
      },
      "execution_count": null,
      "outputs": [
        {
          "output_type": "stream",
          "name": "stdout",
          "text": [
            "[False  True False False False] \n",
            "\n",
            "type -  <class 'numpy.ndarray'>\n",
            "shape -  (5,)\n",
            "dimension -  1\n",
            "dtype -  bool\n",
            "\n",
            "data - \n",
            " [False  True False False False]\n"
          ]
        }
      ]
    },
    {
      "cell_type": "markdown",
      "source": [
        "### 2차원 배열\n",
        "- N - Dimentional Array\n",
        "- 행렬(matrix)\n",
        "- list of list\n",
        "- list of list of list"
      ],
      "metadata": {
        "id": "LQ2VaeDgZhOS"
      }
    },
    {
      "cell_type": "markdown",
      "source": [
        "2개의 행과 3개의 열을 갖는 배열을 만든다면?"
      ],
      "metadata": {
        "id": "HVKznVFQZ7Kd"
      }
    },
    {
      "cell_type": "code",
      "source": [
        "twoAry = np.array([[1,2,3], [4,5,6]], dtype=np.float64)\n",
        "aryInfo(twoAry)\n",
        "\n",
        "print('\\n==== len() ====')\n",
        "print('len() 행의 개수 -> ', len(twoAry))\n",
        "print('len() 행의 요소의 개수. 즉, 열을 의미 -> ', len(twoAry[0]))\n",
        "print('len() 행의 요소의 개수. 즉, 열을 의미 -> ', len(twoAry[1]))"
      ],
      "metadata": {
        "colab": {
          "base_uri": "https://localhost:8080/"
        },
        "id": "JwKdAQHyaCy9",
        "outputId": "c4a146d6-8cc6-4c81-b2ec-80db4d424439"
      },
      "execution_count": null,
      "outputs": [
        {
          "output_type": "stream",
          "name": "stdout",
          "text": [
            "type -  <class 'numpy.ndarray'>\n",
            "shape -  (2, 3)\n",
            "dimension -  2\n",
            "dtype -  float64\n",
            "\n",
            "data - \n",
            " [[1. 2. 3.]\n",
            " [4. 5. 6.]]\n",
            "\n",
            "==== len() ====\n",
            "len() 행의 개수 ->  2\n",
            "len() 행의 요소의 개수. 즉, 열을 의미 ->  3\n",
            "len() 행의 요소의 개수. 즉, 열을 의미 ->  3\n"
          ]
        }
      ]
    },
    {
      "cell_type": "markdown",
      "source": [
        "3차원 - (3 * 4) 2개의 layer"
      ],
      "metadata": {
        "id": "UuTrTO3fa8Zn"
      }
    },
    {
      "cell_type": "code",
      "source": [
        "threeAry = np.array([[ [1,2,3,4], [5,6,7,8], [9,10,11,12] ],[ [13,14,15,16], [17,18,19,20], [21,22,23,24] ]])\n",
        "aryInfo(threeAry)\n",
        "\n",
        "# shape : (2, 3, 4) == (layer, matrix(x; rows), matrix(y; cols))\n",
        "\n",
        "print('\\n==== len() ====')\n",
        "print('len() : depth -> ', len(threeAry))\n",
        "print('len() : 해당 layer의 행의 개수 -> ', len(threeAry[0]))\n",
        "print('len() : 해당 layer의 행의 개수 -> ', len(threeAry[1]))\n",
        "print('len() : 해당 행의 요소의 개수. 즉, 열을 의미 -> ', len(threeAry[0][0]))"
      ],
      "metadata": {
        "colab": {
          "base_uri": "https://localhost:8080/"
        },
        "id": "kt5icBBmaTLO",
        "outputId": "b8f687d4-0532-4df6-a53b-70795a24d039"
      },
      "execution_count": null,
      "outputs": [
        {
          "output_type": "stream",
          "name": "stdout",
          "text": [
            "type -  <class 'numpy.ndarray'>\n",
            "shape -  (2, 3, 4)\n",
            "dimension -  3\n",
            "dtype -  int64\n",
            "\n",
            "data - \n",
            " [[[ 1  2  3  4]\n",
            "  [ 5  6  7  8]\n",
            "  [ 9 10 11 12]]\n",
            "\n",
            " [[13 14 15 16]\n",
            "  [17 18 19 20]\n",
            "  [21 22 23 24]]]\n",
            "\n",
            "==== len() ====\n",
            "len() : depth ->  2\n",
            "len() : 해당 layer의 행의 개수 ->  3\n",
            "len() : 해당 layer의 행의 개수 ->  3\n",
            "len() : 해당 행의 요소의 개수. 즉, 열을 의미 ->  4\n"
          ]
        }
      ]
    },
    {
      "cell_type": "markdown",
      "source": [
        "### '요소'의 타입을 변경할 때 사용하는 함수\n",
        "- astype()\n",
        "- python의 casting과 헷갈리지 말 것"
      ],
      "metadata": {
        "id": "STffwfOUcLUm"
      }
    },
    {
      "cell_type": "code",
      "source": [
        "typeChange = threeAry.astype(np.float64)   # 위에서 기존 threeAry dtype : int64\n",
        "aryInfo(typeChange)"
      ],
      "metadata": {
        "colab": {
          "base_uri": "https://localhost:8080/"
        },
        "id": "xjVsRp8PbcEQ",
        "outputId": "3f7d19ee-31b2-4155-e621-898b690efe95"
      },
      "execution_count": null,
      "outputs": [
        {
          "output_type": "stream",
          "name": "stdout",
          "text": [
            "type -  <class 'numpy.ndarray'>\n",
            "shape -  (2, 3, 4)\n",
            "dimension -  3\n",
            "dtype -  float64\n",
            "\n",
            "data - \n",
            " [[[ 1.  2.  3.  4.]\n",
            "  [ 5.  6.  7.  8.]\n",
            "  [ 9. 10. 11. 12.]]\n",
            "\n",
            " [[13. 14. 15. 16.]\n",
            "  [17. 18. 19. 20.]\n",
            "  [21. 22. 23. 24.]]]\n"
          ]
        }
      ]
    },
    {
      "cell_type": "markdown",
      "source": [
        "### 배열도 인덱싱과 슬라이싱이 가능하다"
      ],
      "metadata": {
        "id": "cux6nHwXd0Tb"
      }
    },
    {
      "cell_type": "code",
      "source": [
        "idxAry = np.array([1,2,3,4,5,6,7,8,9])\n",
        "aryInfo(idxAry)"
      ],
      "metadata": {
        "colab": {
          "base_uri": "https://localhost:8080/"
        },
        "id": "Njd4Ij5ZdT5d",
        "outputId": "8c0e527e-89ea-4ac3-a81d-6754dde710a4"
      },
      "execution_count": null,
      "outputs": [
        {
          "output_type": "stream",
          "name": "stdout",
          "text": [
            "type -  <class 'numpy.ndarray'>\n",
            "shape -  (9,)\n",
            "dimension -  1\n",
            "dtype -  int64\n",
            "\n",
            "data - \n",
            " [1 2 3 4 5 6 7 8 9]\n"
          ]
        }
      ]
    },
    {
      "cell_type": "code",
      "source": [
        "print(idxAry[0])\n",
        "print(idxAry[1])"
      ],
      "metadata": {
        "colab": {
          "base_uri": "https://localhost:8080/"
        },
        "id": "gdzA0XnPeWon",
        "outputId": "af4d5e2b-0a51-4e13-effc-c0b38f4760d5"
      },
      "execution_count": null,
      "outputs": [
        {
          "output_type": "stream",
          "name": "stdout",
          "text": [
            "1\n",
            "2\n"
          ]
        }
      ]
    },
    {
      "cell_type": "code",
      "source": [
        "aryInfo(twoAry)\n",
        "\n",
        "print('\\n첫번째 행의 첫번째 열의 값 - ', twoAry[0,0])\n",
        "print('\\n마지막 행의 마지막 열의 값 - ', twoAry[-1,-1])  # 몇개가 있는지 모르는 경우가 있기 때문에 마이너스 인덱스로 하는게 better\n",
        "\n",
        "# slicing // ':' 모든 행 의미\n",
        "print('\\n첫번째 행의 전체 값 - ', twoAry[0,:])\n",
        "print('\\n첫번째 행의 두번째부터 끝까지 - ', twoAry[0,1:])\n",
        "print('\\n두번째 열의 값(y축)을 구할 때 - ', twoAry[:,1])\n"
      ],
      "metadata": {
        "colab": {
          "base_uri": "https://localhost:8080/"
        },
        "id": "64H51ovoekOL",
        "outputId": "465bac3f-35c7-499a-bbfa-e5d44e14369b"
      },
      "execution_count": null,
      "outputs": [
        {
          "output_type": "stream",
          "name": "stdout",
          "text": [
            "type -  <class 'numpy.ndarray'>\n",
            "shape -  (2, 3)\n",
            "dimension -  2\n",
            "dtype -  float64\n",
            "\n",
            "data - \n",
            " [[1. 2. 3.]\n",
            " [4. 5. 6.]]\n",
            "\n",
            "첫번째 행의 첫번째 열의 값 -  1.0\n",
            "\n",
            "마지막 행의 마지막 열의 값 -  6.0\n",
            "\n",
            "첫번째 행의 전체 값 -  [1. 2. 3.]\n",
            "\n",
            "첫번째 행의 두번째부터 끝까지 -  [2. 3.]\n",
            "\n",
            "두번째 열의 값(y축)을 구할 때 -  [2. 5.]\n"
          ]
        }
      ]
    },
    {
      "cell_type": "markdown",
      "source": [
        "##### 요구사항 구현 [실습]\n",
        "- 주어진 행렬에서 값 7 을 인덱싱한다.\n",
        "- 주어진 행렬에서 값 14 를 인덱싱한다.\n",
        "- 주어진 행렬에서 배열 [6, 7]을 슬라이싱한다.\n",
        "- 주어진 행렬에서 배열 [7, 12]을 슬라이싱한다.\n",
        "- 주어진 행렬에서 배열 [[3, 4], [8, 9]]을 슬라이싱한다."
      ],
      "metadata": {
        "id": "olC30qo_hUbr"
      }
    },
    {
      "cell_type": "code",
      "source": [
        "matrixAry = np.array([[0,1,2,3,4],[5,6,7,8,9],[10,11,12,13,14]])\n",
        "aryInfo(matrixAry)"
      ],
      "metadata": {
        "colab": {
          "base_uri": "https://localhost:8080/"
        },
        "id": "MAhGhTwRfPts",
        "outputId": "5b5802a4-a596-43ef-bbd9-82f04443afd9"
      },
      "execution_count": null,
      "outputs": [
        {
          "output_type": "stream",
          "name": "stdout",
          "text": [
            "type -  <class 'numpy.ndarray'>\n",
            "shape -  (3, 5)\n",
            "dimension -  2\n",
            "dtype -  int64\n",
            "\n",
            "data - \n",
            " [[ 0  1  2  3  4]\n",
            " [ 5  6  7  8  9]\n",
            " [10 11 12 13 14]]\n"
          ]
        }
      ]
    },
    {
      "cell_type": "code",
      "source": [
        "print('1. - ', matrixAry[1, 2])\n",
        "print('2. - ', matrixAry[-1,-1])\n",
        "print('3. - ', matrixAry[1,1:3])\n",
        "print('4. - ', matrixAry[1:, 2])\n",
        "print('5. - ', matrixAry[:2, 3:], type(matrixAry[:2, 3:]), matrixAry[:2, 3:].ndim)"
      ],
      "metadata": {
        "colab": {
          "base_uri": "https://localhost:8080/"
        },
        "id": "f2IfZC6rhxtN",
        "outputId": "cb2d71be-7144-439d-a215-2d093d633824"
      },
      "execution_count": null,
      "outputs": [
        {
          "output_type": "stream",
          "name": "stdout",
          "text": [
            "1. -  7\n",
            "2. -  14\n",
            "3. -  [6 7]\n",
            "4. -  [ 7 12]\n",
            "5. -  [[3 4]\n",
            " [8 9]] <class 'numpy.ndarray'> 2\n"
          ]
        }
      ]
    },
    {
      "cell_type": "markdown",
      "source": [
        "#### fancy indexing\n",
        "- boolean indexing : size 가 다르면 동작하지 않음 주의\n",
        "- 정수배열 indexing"
      ],
      "metadata": {
        "id": "biJfv43bkVzV"
      }
    },
    {
      "cell_type": "code",
      "source": [
        "ary = np.array([0,1,2,3,4,5,6,7,8,9])\n",
        "aryInfo(ary)"
      ],
      "metadata": {
        "colab": {
          "base_uri": "https://localhost:8080/"
        },
        "id": "rs_D3Vt0jHQO",
        "outputId": "213a2daf-62cb-422e-feac-162ecb8b2aa7"
      },
      "execution_count": null,
      "outputs": [
        {
          "output_type": "stream",
          "name": "stdout",
          "text": [
            "type -  <class 'numpy.ndarray'>\n",
            "shape -  (10,)\n",
            "dimension -  1\n",
            "dtype -  int64\n",
            "\n",
            "data - \n",
            " [0 1 2 3 4 5 6 7 8 9]\n"
          ]
        }
      ]
    },
    {
      "cell_type": "markdown",
      "source": [
        "짝수의 원소를 골라내고 싶다면?"
      ],
      "metadata": {
        "id": "q_N8sIPckh7N"
      }
    },
    {
      "cell_type": "code",
      "source": [
        "print('=== boolean indexing ===')\n",
        "idx = ary % 2 == 0 \n",
        "print(idx, type(idx))\n",
        "print(ary[idx])\n",
        "\n",
        "print('\\n=== 정수배열 indexing ===')\n",
        "oddIdx = np.array([0,2,4,6,8])\n",
        "evenIdx = np.array([1,3,5,7,9])\n",
        "\n",
        "print('짝수 - ', ary[oddIdx])\n",
        "print('홀수 - ', ary[evenIdx])"
      ],
      "metadata": {
        "colab": {
          "base_uri": "https://localhost:8080/"
        },
        "id": "juS8hfCcke6D",
        "outputId": "b5b681ed-2e2c-49a7-c3ee-f865e4a20e3b"
      },
      "execution_count": null,
      "outputs": [
        {
          "output_type": "stream",
          "name": "stdout",
          "text": [
            "=== boolean indexing ===\n",
            "[ True False  True False  True False  True False  True False] <class 'numpy.ndarray'>\n",
            "[0 2 4 6 8]\n",
            "\n",
            "=== 정수배열 indexing ===\n",
            "짝수 -  [0 2 4 6 8]\n",
            "홀수 -  [1 3 5 7 9]\n"
          ]
        }
      ]
    },
    {
      "cell_type": "code",
      "source": [
        "ary % 2"
      ],
      "metadata": {
        "colab": {
          "base_uri": "https://localhost:8080/"
        },
        "id": "adpJX3Y8ko7k",
        "outputId": "31680ce1-8aa9-4c21-a37e-3881ef47e12f"
      },
      "execution_count": null,
      "outputs": [
        {
          "output_type": "execute_result",
          "data": {
            "text/plain": [
              "array([0, 1, 0, 1, 0, 1, 0, 1, 0, 1])"
            ]
          },
          "metadata": {},
          "execution_count": 76
        }
      ]
    },
    {
      "cell_type": "code",
      "source": [
        "ary = np.array([1,2,3,4,5,6,7,8,9,10,11,12,13,14,15,16,17,18,19,20])\n",
        "aryInfo(ary)\n",
        "\n",
        "print('\\n3의 배수 출력 - ', ary[ary%3 == 0])\n",
        "print('\\n4로 나누면 1이 남는 수 출력 - ', ary[ary%4 == 1])\n",
        "print('\\n3의 배수이고 4로 나누면 1이 남는 수 출력 - ', ary[(ary%3 == 0) & (ary%4 == 1)])"
      ],
      "metadata": {
        "colab": {
          "base_uri": "https://localhost:8080/"
        },
        "id": "WMn2nTq0loiT",
        "outputId": "d3aabb64-6722-4b28-fc21-e3f90e963a98"
      },
      "execution_count": null,
      "outputs": [
        {
          "output_type": "stream",
          "name": "stdout",
          "text": [
            "type -  <class 'numpy.ndarray'>\n",
            "shape -  (20,)\n",
            "dimension -  1\n",
            "dtype -  int64\n",
            "\n",
            "data - \n",
            " [ 1  2  3  4  5  6  7  8  9 10 11 12 13 14 15 16 17 18 19 20]\n",
            "\n",
            "3의 배수 출력 -  [ 3  6  9 12 15 18]\n",
            "\n",
            "4로 나누면 1이 남는 수 출력 -  [ 1  5  9 13 17]\n",
            "\n",
            "3의 배수이고 4로 나누면 1이 남는 수 출력 -  [9]\n"
          ]
        }
      ]
    },
    {
      "cell_type": "markdown",
      "source": [
        "### dtype 지정할 자료형 접두어로도 정의 가능\n",
        "- np.float64 -> ' f '\n",
        "- np.int32 -> ' i '\n",
        "- 문자열 -> ' U '\n",
        "- 객체 -> ' O '"
      ],
      "metadata": {
        "id": "1LNwRuQcmmIp"
      }
    },
    {
      "cell_type": "code",
      "source": [
        "ary = np.array([1,2,3], dtype='U')\n",
        "aryInfo(ary)"
      ],
      "metadata": {
        "colab": {
          "base_uri": "https://localhost:8080/"
        },
        "id": "URz0omQ5l321",
        "outputId": "7bda5292-3b7b-4637-d2dc-d98f7fb3c08d"
      },
      "execution_count": null,
      "outputs": [
        {
          "output_type": "stream",
          "name": "stdout",
          "text": [
            "type -  <class 'numpy.ndarray'>\n",
            "shape -  (3,)\n",
            "dimension -  1\n",
            "dtype -  <U1\n",
            "\n",
            "data - \n",
            " ['1' '2' '3']\n"
          ]
        }
      ]
    },
    {
      "cell_type": "code",
      "source": [
        "ary = np.array([1,2,3], dtype='f')\n",
        "aryInfo(ary)"
      ],
      "metadata": {
        "colab": {
          "base_uri": "https://localhost:8080/"
        },
        "id": "XEyXwsOwnlM0",
        "outputId": "5bc8cd41-b9af-4f04-d460-74210e3ab694"
      },
      "execution_count": null,
      "outputs": [
        {
          "output_type": "stream",
          "name": "stdout",
          "text": [
            "type -  <class 'numpy.ndarray'>\n",
            "shape -  (3,)\n",
            "dimension -  1\n",
            "dtype -  float32\n",
            "\n",
            "data - \n",
            " [1. 2. 3.]\n"
          ]
        }
      ]
    },
    {
      "cell_type": "code",
      "source": [
        "ary = np.array([1,2,3], dtype='O')    # O : 객체 타입\n",
        "aryInfo(ary)"
      ],
      "metadata": {
        "colab": {
          "base_uri": "https://localhost:8080/"
        },
        "id": "VHHxqaUonphl",
        "outputId": "096071d9-7944-43fa-836c-4ea562797f67"
      },
      "execution_count": null,
      "outputs": [
        {
          "output_type": "stream",
          "name": "stdout",
          "text": [
            "type -  <class 'numpy.ndarray'>\n",
            "shape -  (3,)\n",
            "dimension -  1\n",
            "dtype -  object\n",
            "\n",
            "data - \n",
            " [1 2 3]\n"
          ]
        }
      ]
    },
    {
      "cell_type": "code",
      "source": [
        "ary = np.array([1,2,3], dtype='i')\n",
        "aryInfo(ary)"
      ],
      "metadata": {
        "colab": {
          "base_uri": "https://localhost:8080/"
        },
        "id": "k6W_Wy3Ynx1s",
        "outputId": "e42c4670-f992-464b-80dc-397f4b46772c"
      },
      "execution_count": null,
      "outputs": [
        {
          "output_type": "stream",
          "name": "stdout",
          "text": [
            "type -  <class 'numpy.ndarray'>\n",
            "shape -  (3,)\n",
            "dimension -  1\n",
            "dtype -  int32\n",
            "\n",
            "data - \n",
            " [1 2 3]\n"
          ]
        }
      ]
    },
    {
      "cell_type": "markdown",
      "source": [
        "### 배열 생성 함수\n",
        "- array()\n",
        "- zeros(), ones(), zeros_like(), ones_like(), empty(), arange(), linspace(), logspace()"
      ],
      "metadata": {
        "id": "PQWFMz-nn5_B"
      }
    },
    {
      "cell_type": "markdown",
      "source": [
        "#### arange()"
      ],
      "metadata": {
        "id": "VEQsgXRgoEA-"
      }
    },
    {
      "cell_type": "code",
      "source": [
        "ary = np.arange(0, 12, 1)\n",
        "aryInfo(ary)"
      ],
      "metadata": {
        "colab": {
          "base_uri": "https://localhost:8080/"
        },
        "id": "WEsC4nBZn1gD",
        "outputId": "f49e449d-5b86-4e55-8de1-e930ac332ae4"
      },
      "execution_count": null,
      "outputs": [
        {
          "output_type": "stream",
          "name": "stdout",
          "text": [
            "type -  <class 'numpy.ndarray'>\n",
            "shape -  (12,)\n",
            "dimension -  1\n",
            "dtype -  int64\n",
            "\n",
            "data - \n",
            " [ 0  1  2  3  4  5  6  7  8  9 10 11]\n"
          ]
        }
      ]
    },
    {
      "cell_type": "markdown",
      "source": [
        "reshape() : 배열 모양 바꾸는 함수! / 많이 사용되는 함수!!!"
      ],
      "metadata": {
        "id": "8AlvvCXUohex"
      }
    },
    {
      "cell_type": "code",
      "source": [
        "ary = np.arange(0, 12, 1).reshape(3,4)\n",
        "aryInfo(ary)"
      ],
      "metadata": {
        "colab": {
          "base_uri": "https://localhost:8080/"
        },
        "id": "TCVfgwW1oarr",
        "outputId": "71cfc4ac-856e-4211-8d13-10684fbe64b3"
      },
      "execution_count": null,
      "outputs": [
        {
          "output_type": "stream",
          "name": "stdout",
          "text": [
            "type -  <class 'numpy.ndarray'>\n",
            "shape -  (3, 4)\n",
            "dimension -  2\n",
            "dtype -  int64\n",
            "\n",
            "data - \n",
            " [[ 0  1  2  3]\n",
            " [ 4  5  6  7]\n",
            " [ 8  9 10 11]]\n"
          ]
        }
      ]
    },
    {
      "cell_type": "markdown",
      "source": [
        "reshape() 안에 -1을 (-1,n) of (n,-1) 형태로 넣어주면 n값 기준으로 나머지 행/열을 자동으로 설정해서 배열을 바꿔준다!\n",
        "- 대신 n의 값이 요소의 값을 배열에 맞게 나눌 수 있는 값이어야 함 (아니면 오류난다)"
      ],
      "metadata": {
        "id": "zfsehyXYowHi"
      }
    },
    {
      "cell_type": "code",
      "source": [
        "ary = np.arange(0, 12, 1).reshape(-1,4)\n",
        "aryInfo(ary)"
      ],
      "metadata": {
        "colab": {
          "base_uri": "https://localhost:8080/"
        },
        "id": "6SeOnbTxoeyD",
        "outputId": "897d89da-9507-47cd-bd5d-65156428aa3a"
      },
      "execution_count": null,
      "outputs": [
        {
          "output_type": "stream",
          "name": "stdout",
          "text": [
            "type -  <class 'numpy.ndarray'>\n",
            "shape -  (3, 4)\n",
            "dimension -  2\n",
            "dtype -  int64\n",
            "\n",
            "data - \n",
            " [[ 0  1  2  3]\n",
            " [ 4  5  6  7]\n",
            " [ 8  9 10 11]]\n"
          ]
        }
      ]
    },
    {
      "cell_type": "code",
      "source": [
        "print('요소 10개 배열 생성 - ', np.arange(10))         # 개수 설정\n",
        "print('array 시작값 10 지정 - ', np.arange(10, 20))    # 시작값, 끝값(-1) 설정\n",
        "print('step 2로 설정', np.arange(10, 20, 2))"
      ],
      "metadata": {
        "colab": {
          "base_uri": "https://localhost:8080/"
        },
        "id": "6Utzw0qsu5Ep",
        "outputId": "06eae776-8f97-41da-fc81-1bded599f401"
      },
      "execution_count": null,
      "outputs": [
        {
          "output_type": "stream",
          "name": "stdout",
          "text": [
            "요소 10개 배열 생성 -  [0 1 2 3 4 5 6 7 8 9]\n",
            "array 시작값 10 지정 -  [10 11 12 13 14 15 16 17 18 19]\n",
            "step 2로 설정 [10 12 14 16 18]\n"
          ]
        }
      ]
    },
    {
      "cell_type": "code",
      "source": [
        "print('=== 차원 비교 ===')\n",
        "print(np.arange(10, 20, 2), 'dimension : ', np.arange(10, 20, 2).ndim)\n",
        "print(np.arange(10, 20, 2).reshape(5,1), 'dimension : ', np.arange(10, 20, 2).reshape(5,1).ndim)"
      ],
      "metadata": {
        "colab": {
          "base_uri": "https://localhost:8080/"
        },
        "id": "YUIqtA9Su53c",
        "outputId": "9aa124b0-cc23-42f1-a919-bed418f53b71"
      },
      "execution_count": null,
      "outputs": [
        {
          "output_type": "stream",
          "name": "stdout",
          "text": [
            "=== 차원 비교 ===\n",
            "[10 12 14 16 18] dimension :  1\n",
            "[[10]\n",
            " [12]\n",
            " [14]\n",
            " [16]\n",
            " [18]] dimension :  2\n"
          ]
        }
      ]
    },
    {
      "cell_type": "code",
      "source": [
        "ary = np.arange(0, 12, 1)\n",
        "ary_reshape = ary.reshape(-1, 2, 3)  # layer 자리에 -1 도 가능!\n",
        "aryInfo(ary_reshape)"
      ],
      "metadata": {
        "colab": {
          "base_uri": "https://localhost:8080/"
        },
        "id": "SahCX_oPwECv",
        "outputId": "dee726dd-89e3-4243-f569-ba188c12c0dd"
      },
      "execution_count": null,
      "outputs": [
        {
          "output_type": "stream",
          "name": "stdout",
          "text": [
            "type -  <class 'numpy.ndarray'>\n",
            "shape -  (2, 2, 3)\n",
            "dimension -  3\n",
            "dtype -  int64\n",
            "\n",
            "data - \n",
            " [[[ 0  1  2]\n",
            "  [ 3  4  5]]\n",
            "\n",
            " [[ 6  7  8]\n",
            "  [ 9 10 11]]]\n"
          ]
        }
      ]
    },
    {
      "cell_type": "markdown",
      "source": [
        "> 요구사항 구현 [실습]\n",
        "- indexing : 10\n",
        "- slicing : [6]\n",
        "- slicing : [[5]]\n",
        "- fancy indexing : [2 10]\n",
        "- fancy indexing : [[2] [10]]\n",
        "- fancy indexing : [[0 2] [4 6] [8 10]]"
      ],
      "metadata": {
        "id": "dg_-AtMQpYv6"
      }
    },
    {
      "cell_type": "code",
      "source": [
        "print('1. ', ary[2,2], type(ary[2,2]))\n",
        "print('2. ', ary[1:2, 2], type(ary[1:2, 2]))\n",
        "print('3. ', ary[1:2, 1:2], type(ary[1:2, 1:2]))\n",
        "print('4. ', ary[[0,2],2],type(ary[[0,2],2]))\n",
        "print('5. ', ary[[0,2],2:3].tolist(), type(ary[[0,2],2:3]))\n",
        "print('6. ', ary[:,[0,2]].tolist(), type(ary[:,[0,2]]))"
      ],
      "metadata": {
        "colab": {
          "base_uri": "https://localhost:8080/"
        },
        "id": "9VTDUnkhous7",
        "outputId": "b26e1b79-c721-4be1-881f-38b8a3f73ad6"
      },
      "execution_count": null,
      "outputs": [
        {
          "output_type": "stream",
          "name": "stdout",
          "text": [
            "1.  10 <class 'numpy.int64'>\n",
            "2.  [6] <class 'numpy.ndarray'>\n",
            "3.  [[5]] <class 'numpy.ndarray'>\n",
            "4.  [ 2 10] <class 'numpy.ndarray'>\n",
            "5.  [[2], [10]] <class 'numpy.ndarray'>\n",
            "6.  [[0, 2], [4, 6], [8, 10]] <class 'numpy.ndarray'>\n"
          ]
        }
      ]
    },
    {
      "cell_type": "markdown",
      "source": [
        "#### zeros()"
      ],
      "metadata": {
        "id": "UTCMkA-wst0Q"
      }
    },
    {
      "cell_type": "code",
      "source": [
        "print('=== 1차원 ===')\n",
        "zeroAry = np.zeros(5, dtype='i')         # 5: 요소의 개수\n",
        "aryInfo(zeroAry)\n",
        "\n",
        "print('\\n=== 2차원 ===')\n",
        "zeroAry = np.zeros((3,4), dtype='i')     # tuple type 으로 (행,열) 정의\n",
        "aryInfo(zeroAry)\n",
        "\n",
        "print('\\n=== 3차원 ===')\n",
        "zeroAry = np.zeros((3,3,4), dtype='i')   # 3 layers, 3 rows, 4 cols 의 3차원 배열 형태\n",
        "aryInfo(zeroAry)"
      ],
      "metadata": {
        "colab": {
          "base_uri": "https://localhost:8080/"
        },
        "id": "EI6-xVkKpqzk",
        "outputId": "916e1dfb-110a-426b-e886-3d92a23ccc94"
      },
      "execution_count": null,
      "outputs": [
        {
          "output_type": "stream",
          "name": "stdout",
          "text": [
            "=== 1차원 ===\n",
            "type -  <class 'numpy.ndarray'>\n",
            "shape -  (5,)\n",
            "dimension -  1\n",
            "dtype -  int32\n",
            "\n",
            "data - \n",
            " [0 0 0 0 0]\n",
            "\n",
            "=== 2차원 ===\n",
            "type -  <class 'numpy.ndarray'>\n",
            "shape -  (3, 4)\n",
            "dimension -  2\n",
            "dtype -  int32\n",
            "\n",
            "data - \n",
            " [[0 0 0 0]\n",
            " [0 0 0 0]\n",
            " [0 0 0 0]]\n",
            "\n",
            "=== 3차원 ===\n",
            "type -  <class 'numpy.ndarray'>\n",
            "shape -  (3, 3, 4)\n",
            "dimension -  3\n",
            "dtype -  int32\n",
            "\n",
            "data - \n",
            " [[[0 0 0 0]\n",
            "  [0 0 0 0]\n",
            "  [0 0 0 0]]\n",
            "\n",
            " [[0 0 0 0]\n",
            "  [0 0 0 0]\n",
            "  [0 0 0 0]]\n",
            "\n",
            " [[0 0 0 0]\n",
            "  [0 0 0 0]\n",
            "  [0 0 0 0]]]\n"
          ]
        }
      ]
    },
    {
      "cell_type": "markdown",
      "source": [
        "dtype 길이 제한 줄 수 있음"
      ],
      "metadata": {
        "id": "3LagNqWltePZ"
      }
    },
    {
      "cell_type": "code",
      "source": [
        "ary = np.zeros(5, dtype='<U4')\n",
        "aryInfo(ary)"
      ],
      "metadata": {
        "colab": {
          "base_uri": "https://localhost:8080/"
        },
        "id": "bAh2i4w5s_pp",
        "outputId": "31014b6b-a7d6-4b37-ba13-50c81be3bd1e"
      },
      "execution_count": null,
      "outputs": [
        {
          "output_type": "stream",
          "name": "stdout",
          "text": [
            "type -  <class 'numpy.ndarray'>\n",
            "shape -  (5,)\n",
            "dimension -  1\n",
            "dtype -  <U4\n",
            "\n",
            "data - \n",
            " ['' '' '' '' '']\n"
          ]
        }
      ]
    },
    {
      "cell_type": "code",
      "source": [
        "ary[0]='abc'\n",
        "ary[1]='eseul'   # ary[1] 의 경우 길이제한 때문에 문자 끝이 잘리게 됨!\n",
        "ary[2]='abcd'\n",
        "\n",
        "ary"
      ],
      "metadata": {
        "colab": {
          "base_uri": "https://localhost:8080/"
        },
        "id": "2QNinhfdtkjC",
        "outputId": "04a421ca-bb02-4ad1-8d22-ea06d9d80664"
      },
      "execution_count": null,
      "outputs": [
        {
          "output_type": "execute_result",
          "data": {
            "text/plain": [
              "array(['abc', 'eseu', 'abcd', '', ''], dtype='<U4')"
            ]
          },
          "metadata": {},
          "execution_count": 124
        }
      ]
    },
    {
      "cell_type": "markdown",
      "source": [
        "#### ones()"
      ],
      "metadata": {
        "id": "FOgJ4Mh1t2Qo"
      }
    },
    {
      "cell_type": "code",
      "source": [
        "print('=== 1차원 ===')\n",
        "oneAry = np.ones(5, dtype='U')         # 5: 요소의 개수\n",
        "aryInfo(oneAry)\n",
        "\n",
        "print('\\n=== 2차원 ===')\n",
        "oneAry = np.ones((3,4), dtype='i')     # tuple type 으로 (행,열) 정의\n",
        "aryInfo(oneAry)\n",
        "\n",
        "print('\\n=== 3차원 ===')\n",
        "oneAry = np.ones((3,3,4), dtype='i')   # 3 layers, 3 rows, 4 cols 의 3차원 배열 형태\n",
        "aryInfo(oneAry)"
      ],
      "metadata": {
        "colab": {
          "base_uri": "https://localhost:8080/"
        },
        "id": "3ttmqd1ett2k",
        "outputId": "40c80f09-8e04-4a2b-9442-7d735104ffac"
      },
      "execution_count": null,
      "outputs": [
        {
          "output_type": "stream",
          "name": "stdout",
          "text": [
            "=== 1차원 ===\n",
            "type -  <class 'numpy.ndarray'>\n",
            "shape -  (5,)\n",
            "dimension -  1\n",
            "dtype -  <U1\n",
            "\n",
            "data - \n",
            " ['1' '1' '1' '1' '1']\n",
            "\n",
            "=== 2차원 ===\n",
            "type -  <class 'numpy.ndarray'>\n",
            "shape -  (3, 4)\n",
            "dimension -  2\n",
            "dtype -  int32\n",
            "\n",
            "data - \n",
            " [[1 1 1 1]\n",
            " [1 1 1 1]\n",
            " [1 1 1 1]]\n",
            "\n",
            "=== 3차원 ===\n",
            "type -  <class 'numpy.ndarray'>\n",
            "shape -  (3, 3, 4)\n",
            "dimension -  3\n",
            "dtype -  int32\n",
            "\n",
            "data - \n",
            " [[[1 1 1 1]\n",
            "  [1 1 1 1]\n",
            "  [1 1 1 1]]\n",
            "\n",
            " [[1 1 1 1]\n",
            "  [1 1 1 1]\n",
            "  [1 1 1 1]]\n",
            "\n",
            " [[1 1 1 1]\n",
            "  [1 1 1 1]\n",
            "  [1 1 1 1]]]\n"
          ]
        }
      ]
    },
    {
      "cell_type": "markdown",
      "source": [
        "#### _like()\n",
        "- 동일한 structure 가져오면서 dtype 만 바꾸고 싶을 때 사용"
      ],
      "metadata": {
        "id": "JrmUORU5uJN-"
      }
    },
    {
      "cell_type": "code",
      "source": [
        "o_likeAry = np.ones_like(oneAry, dtype='U')\n",
        "aryInfo(o_likeAry)"
      ],
      "metadata": {
        "colab": {
          "base_uri": "https://localhost:8080/"
        },
        "id": "8eMLjbjQt_c6",
        "outputId": "a7366b80-bb88-4106-c0fc-7e95b8b68695"
      },
      "execution_count": null,
      "outputs": [
        {
          "output_type": "stream",
          "name": "stdout",
          "text": [
            "type -  <class 'numpy.ndarray'>\n",
            "shape -  (3, 3, 4)\n",
            "dimension -  3\n",
            "dtype -  <U1\n",
            "\n",
            "data - \n",
            " [[['1' '1' '1' '1']\n",
            "  ['1' '1' '1' '1']\n",
            "  ['1' '1' '1' '1']]\n",
            "\n",
            " [['1' '1' '1' '1']\n",
            "  ['1' '1' '1' '1']\n",
            "  ['1' '1' '1' '1']]\n",
            "\n",
            " [['1' '1' '1' '1']\n",
            "  ['1' '1' '1' '1']\n",
            "  ['1' '1' '1' '1']]]\n"
          ]
        }
      ]
    },
    {
      "cell_type": "markdown",
      "source": [
        "#### empty()\n",
        "- 배열을 생성하고, random 하게 배열에 채워 넣음(assign)\n",
        "- 비어있는 배열을 만들어주는 꼴 (값에 의미두지 말 것)"
      ],
      "metadata": {
        "id": "4tWHXaxCuZfP"
      }
    },
    {
      "cell_type": "code",
      "source": [
        "emptyAry = np.empty((3,4))\n",
        "aryInfo(emptyAry)"
      ],
      "metadata": {
        "colab": {
          "base_uri": "https://localhost:8080/"
        },
        "id": "7-KglokeuTY4",
        "outputId": "18d3389c-6ca6-49c8-ad8f-922dd114b0c4"
      },
      "execution_count": null,
      "outputs": [
        {
          "output_type": "stream",
          "name": "stdout",
          "text": [
            "type -  <class 'numpy.ndarray'>\n",
            "shape -  (3, 4)\n",
            "dimension -  2\n",
            "dtype -  float64\n",
            "\n",
            "data - \n",
            " [[0.0e+000 4.9e-324 9.9e-324 1.5e-323]\n",
            " [2.0e-323 2.5e-323 3.0e-323 3.5e-323]\n",
            " [4.0e-323 4.4e-323 4.9e-323 5.4e-323]]\n"
          ]
        }
      ]
    },
    {
      "cell_type": "markdown",
      "source": [
        "#### linspace()"
      ],
      "metadata": {
        "id": "zw7QXa_Gvx0c"
      }
    },
    {
      "cell_type": "code",
      "source": [
        "print('==== 시작, 끝값 지정 / 나머지는 연속적인 숫자로 random 배치 ===')\n",
        "print(np.linspace(1, 10))\n",
        "aryInfo(np.linspace(1, 10))   # step 설정 안하면 50개가 default 인가 보다\n",
        "\n",
        "print('\\n==== 시작, 끝값 지정 + step 설정 ===')\n",
        "print(np.linspace(1, 10, 5))"
      ],
      "metadata": {
        "colab": {
          "base_uri": "https://localhost:8080/"
        },
        "id": "Z5Lhhk5Eupl5",
        "outputId": "de55f43c-bbd3-425a-a04e-15ddaac4a28d"
      },
      "execution_count": null,
      "outputs": [
        {
          "output_type": "stream",
          "name": "stdout",
          "text": [
            "==== 시작, 끝값 지정 / 나머지는 연속적인 숫자로 random 배치 ===\n",
            "[ 1.          1.18367347  1.36734694  1.55102041  1.73469388  1.91836735\n",
            "  2.10204082  2.28571429  2.46938776  2.65306122  2.83673469  3.02040816\n",
            "  3.20408163  3.3877551   3.57142857  3.75510204  3.93877551  4.12244898\n",
            "  4.30612245  4.48979592  4.67346939  4.85714286  5.04081633  5.2244898\n",
            "  5.40816327  5.59183673  5.7755102   5.95918367  6.14285714  6.32653061\n",
            "  6.51020408  6.69387755  6.87755102  7.06122449  7.24489796  7.42857143\n",
            "  7.6122449   7.79591837  7.97959184  8.16326531  8.34693878  8.53061224\n",
            "  8.71428571  8.89795918  9.08163265  9.26530612  9.44897959  9.63265306\n",
            "  9.81632653 10.        ]\n",
            "type -  <class 'numpy.ndarray'>\n",
            "shape -  (50,)\n",
            "dimension -  1\n",
            "dtype -  float64\n",
            "\n",
            "data - \n",
            " [ 1.          1.18367347  1.36734694  1.55102041  1.73469388  1.91836735\n",
            "  2.10204082  2.28571429  2.46938776  2.65306122  2.83673469  3.02040816\n",
            "  3.20408163  3.3877551   3.57142857  3.75510204  3.93877551  4.12244898\n",
            "  4.30612245  4.48979592  4.67346939  4.85714286  5.04081633  5.2244898\n",
            "  5.40816327  5.59183673  5.7755102   5.95918367  6.14285714  6.32653061\n",
            "  6.51020408  6.69387755  6.87755102  7.06122449  7.24489796  7.42857143\n",
            "  7.6122449   7.79591837  7.97959184  8.16326531  8.34693878  8.53061224\n",
            "  8.71428571  8.89795918  9.08163265  9.26530612  9.44897959  9.63265306\n",
            "  9.81632653 10.        ]\n",
            "\n",
            "==== 시작, 끝값 지정 + step 설정 ===\n",
            "[ 1.    3.25  5.5   7.75 10.  ]\n"
          ]
        }
      ]
    },
    {
      "cell_type": "markdown",
      "source": [
        "### 전치행렬(transpose matrix; .T)\n",
        "- 행렬의 행은 열로, 열은 행으로 바뀌어 있는  행렬 (위첨자 T)"
      ],
      "metadata": {
        "id": "NxTY-89nwgXP"
      }
    },
    {
      "cell_type": "code",
      "source": [
        "ary = np.array([[1,2,3],[4,5,6]])\n",
        "aryInfo(ary)"
      ],
      "metadata": {
        "colab": {
          "base_uri": "https://localhost:8080/"
        },
        "id": "DtRAhEVdv3ky",
        "outputId": "69b3d164-322f-4e46-be51-e7ec2c1bd6c5"
      },
      "execution_count": null,
      "outputs": [
        {
          "output_type": "stream",
          "name": "stdout",
          "text": [
            "type -  <class 'numpy.ndarray'>\n",
            "shape -  (2, 3)\n",
            "dimension -  2\n",
            "dtype -  int64\n",
            "\n",
            "data - \n",
            " [[1 2 3]\n",
            " [4 5 6]]\n"
          ]
        }
      ]
    },
    {
      "cell_type": "code",
      "source": [
        "ary = np.arange(1,7).reshape(2,3)\n",
        "aryInfo(ary)"
      ],
      "metadata": {
        "colab": {
          "base_uri": "https://localhost:8080/"
        },
        "id": "elLxEGAQxBNj",
        "outputId": "80ae88f7-133e-4785-8070-a68cbe38d52b"
      },
      "execution_count": null,
      "outputs": [
        {
          "output_type": "stream",
          "name": "stdout",
          "text": [
            "type -  <class 'numpy.ndarray'>\n",
            "shape -  (2, 3)\n",
            "dimension -  2\n",
            "dtype -  int64\n",
            "\n",
            "data - \n",
            " [[1 2 3]\n",
            " [4 5 6]]\n"
          ]
        }
      ]
    },
    {
      "cell_type": "code",
      "source": [
        "ary_transpose = ary.T\n",
        "aryInfo(ary_transpose)"
      ],
      "metadata": {
        "colab": {
          "base_uri": "https://localhost:8080/"
        },
        "id": "lkFeJ91gxKEx",
        "outputId": "d99598fb-b6ce-473d-a86b-6ee13212701e"
      },
      "execution_count": null,
      "outputs": [
        {
          "output_type": "stream",
          "name": "stdout",
          "text": [
            "type -  <class 'numpy.ndarray'>\n",
            "shape -  (3, 2)\n",
            "dimension -  2\n",
            "dtype -  int64\n",
            "\n",
            "data - \n",
            " [[1 4]\n",
            " [2 5]\n",
            " [3 6]]\n"
          ]
        }
      ]
    },
    {
      "cell_type": "code",
      "source": [
        "ary_transpose = np.transpose(ary)\n",
        "aryInfo(ary_transpose)"
      ],
      "metadata": {
        "colab": {
          "base_uri": "https://localhost:8080/"
        },
        "id": "C3yYjEa9xlgQ",
        "outputId": "cac9d76d-7799-4895-ed22-f11ccf636848"
      },
      "execution_count": null,
      "outputs": [
        {
          "output_type": "stream",
          "name": "stdout",
          "text": [
            "type -  <class 'numpy.ndarray'>\n",
            "shape -  (3, 2)\n",
            "dimension -  2\n",
            "dtype -  int64\n",
            "\n",
            "data - \n",
            " [[1 4]\n",
            " [2 5]\n",
            " [3 6]]\n"
          ]
        }
      ]
    },
    {
      "cell_type": "markdown",
      "source": [
        "#### 1차원 배열에 대한 전치연산이 가능할까?"
      ],
      "metadata": {
        "id": "dYkhv_2MyI_m"
      }
    },
    {
      "cell_type": "code",
      "source": [
        "vec = np.arange(10)\n",
        "aryInfo(vec)\n",
        "\n",
        "print('\\n1차원 배열의 전치연산 시도(.T)- ', vec.T)\n",
        "print('>>>> 안된다.. 방법은 reshape 사용!')\n",
        "print('\\nreshape 적용 : 1차원 > 2차원 배열변경 - ', vec.reshape(1,10))    \n",
        "# reshape(1,10) 으로 1행 10열짜리 [[array]]  형태(2차원) 만들어 줌\n",
        "aryInfo(vec.reshape(1,10))\n",
        "\n",
        "print()\n",
        "vec_transpose = vec.reshape(1,10).T\n",
        "aryInfo(vec_transpose)"
      ],
      "metadata": {
        "colab": {
          "base_uri": "https://localhost:8080/"
        },
        "id": "WAiRg-7fxpTJ",
        "outputId": "840c1e18-621c-41c7-8346-cf5b7222c637"
      },
      "execution_count": null,
      "outputs": [
        {
          "output_type": "stream",
          "name": "stdout",
          "text": [
            "type -  <class 'numpy.ndarray'>\n",
            "shape -  (10,)\n",
            "dimension -  1\n",
            "dtype -  int64\n",
            "\n",
            "data - \n",
            " [0 1 2 3 4 5 6 7 8 9]\n",
            "\n",
            "1차원 배열의 전치연산 시도(.T)-  [0 1 2 3 4 5 6 7 8 9]\n",
            ">>>> 안된다.. 방법은 reshape 사용!\n",
            "\n",
            "reshape 적용 : 1차원 > 2차원 배열변경 -  [[0 1 2 3 4 5 6 7 8 9]]\n",
            "type -  <class 'numpy.ndarray'>\n",
            "shape -  (1, 10)\n",
            "dimension -  2\n",
            "dtype -  int64\n",
            "\n",
            "data - \n",
            " [[0 1 2 3 4 5 6 7 8 9]]\n",
            "\n",
            "type -  <class 'numpy.ndarray'>\n",
            "shape -  (10, 1)\n",
            "dimension -  2\n",
            "dtype -  int64\n",
            "\n",
            "data - \n",
            " [[0]\n",
            " [1]\n",
            " [2]\n",
            " [3]\n",
            " [4]\n",
            " [5]\n",
            " [6]\n",
            " [7]\n",
            " [8]\n",
            " [9]]\n"
          ]
        }
      ]
    },
    {
      "cell_type": "markdown",
      "source": [
        "### 만약 다차원 배열을 1차원으로 만들어야 한다면?\n",
        "- flatten()"
      ],
      "metadata": {
        "id": "HYrtLiptzQnw"
      }
    },
    {
      "cell_type": "code",
      "source": [
        "vec_transpose.flatten()"
      ],
      "metadata": {
        "colab": {
          "base_uri": "https://localhost:8080/"
        },
        "id": "kd70YjTPyQpL",
        "outputId": "7d144e3e-3be2-49f8-cf59-542221cd4a49"
      },
      "execution_count": null,
      "outputs": [
        {
          "output_type": "execute_result",
          "data": {
            "text/plain": [
              "array([0, 1, 2, 3, 4, 5, 6, 7, 8, 9])"
            ]
          },
          "metadata": {},
          "execution_count": 158
        }
      ]
    },
    {
      "cell_type": "markdown",
      "source": [
        "### 배열 사용시 주의할 점(차원에 대한 주의 필요!)"
      ],
      "metadata": {
        "id": "dp__JeEU0A9a"
      }
    },
    {
      "cell_type": "code",
      "source": [
        "ary = np.arange(10)\n",
        "aryInfo(ary)                  # shape : (10, )  // dimension : 1\n",
        "\n",
        "print('\\n=== reshape ===')\n",
        "aryInfo(ary.reshape(1,-1))    # shape : (1,10)  // dimension : 2\n",
        "\n",
        "print('\\n=== reshape이 아닌 차원증가를 위해서는? newaxis ===')\n",
        "aryInfo(ary[ np.newaxis, :])\n",
        "\n",
        "print('\\n=== 반대 모양으로도 가능! > cols : np.newaxis 위치 ===')\n",
        "aryInfo(ary[:, np.newaxis])"
      ],
      "metadata": {
        "colab": {
          "base_uri": "https://localhost:8080/"
        },
        "id": "g_yIA60hzW_i",
        "outputId": "22a1d571-bf6e-4daf-a6a4-ad59ca77d6ff"
      },
      "execution_count": null,
      "outputs": [
        {
          "output_type": "stream",
          "name": "stdout",
          "text": [
            "type -  <class 'numpy.ndarray'>\n",
            "shape -  (10,)\n",
            "dimension -  1\n",
            "dtype -  int64\n",
            "\n",
            "data - \n",
            " [0 1 2 3 4 5 6 7 8 9]\n",
            "\n",
            "=== reshape ===\n",
            "type -  <class 'numpy.ndarray'>\n",
            "shape -  (1, 10)\n",
            "dimension -  2\n",
            "dtype -  int64\n",
            "\n",
            "data - \n",
            " [[0 1 2 3 4 5 6 7 8 9]]\n",
            "\n",
            "=== reshape이 아닌 차원증가를 위해서는? newaxis ===\n",
            "type -  <class 'numpy.ndarray'>\n",
            "shape -  (1, 10)\n",
            "dimension -  2\n",
            "dtype -  int64\n",
            "\n",
            "data - \n",
            " [[0 1 2 3 4 5 6 7 8 9]]\n",
            "\n",
            "=== 반대 모양으로도 가능! > cols : np.newaxis 위치 ===\n",
            "type -  <class 'numpy.ndarray'>\n",
            "shape -  (10, 1)\n",
            "dimension -  2\n",
            "dtype -  int64\n",
            "\n",
            "data - \n",
            " [[0]\n",
            " [1]\n",
            " [2]\n",
            " [3]\n",
            " [4]\n",
            " [5]\n",
            " [6]\n",
            " [7]\n",
            " [8]\n",
            " [9]]\n"
          ]
        }
      ]
    },
    {
      "cell_type": "markdown",
      "source": [
        "### ndarray(배열) 모든 원소에 대해 순차적으로 접근해야 한다면?\n",
        "- python : for문 사용 가능 (외부 순환 루프 > 성능에 문제 발생 가능)\n",
        "- 내부 루프(inner-loop)\n",
        "> - iternext() : 다음 루프로 이동\n",
        "> - finished : 다음에 데이터 있는지 없는지 확인"
      ],
      "metadata": {
        "id": "AwtE30Sm1kDe"
      }
    },
    {
      "cell_type": "code",
      "source": [
        "ary = np.arange(10)\n",
        "ary"
      ],
      "metadata": {
        "colab": {
          "base_uri": "https://localhost:8080/"
        },
        "id": "NPqx-5ri0pPC",
        "outputId": "c1655ccb-572e-4438-dccb-6dd22a38ad3e"
      },
      "execution_count": null,
      "outputs": [
        {
          "output_type": "execute_result",
          "data": {
            "text/plain": [
              "array([0, 1, 2, 3, 4, 5, 6, 7, 8, 9])"
            ]
          },
          "metadata": {},
          "execution_count": 3
        }
      ]
    },
    {
      "cell_type": "code",
      "source": [
        "for tmp in ary:\n",
        "  print(tmp, end='\\t')"
      ],
      "metadata": {
        "colab": {
          "base_uri": "https://localhost:8080/"
        },
        "id": "bbtAN90FX_B7",
        "outputId": "7b15fc46-68a7-4cb9-c17e-9b1f1e6d861e"
      },
      "execution_count": null,
      "outputs": [
        {
          "output_type": "stream",
          "name": "stdout",
          "text": [
            "0\t1\t2\t3\t4\t5\t6\t7\t8\t9\t"
          ]
        }
      ]
    },
    {
      "cell_type": "markdown",
      "source": [
        "#### 1차원 ndarray에 대한 iterator"
      ],
      "metadata": {
        "id": "epgI1ItmaX4V"
      }
    },
    {
      "cell_type": "code",
      "source": [
        "ite = np.nditer(ary, flags=['c_index'])      # iterator 생성\n",
        "\n",
        "while not ite.finished :\n",
        "  idx = ite.index\n",
        "  print('idx - ', idx, ary[idx])             # idx : 첨자 번지, ary[idx] : data\n",
        "  ite.iternext()\n",
        "\n",
        "# 대용량의 데이터에서는 위의 cell 보다 해당 cell의 loop 를 돌려주는 것이 낫다! (성능면에서!)"
      ],
      "metadata": {
        "colab": {
          "base_uri": "https://localhost:8080/"
        },
        "id": "-ZMhfZN4YHF1",
        "outputId": "edc1a5f9-416a-47eb-f446-5f1cb42bbce6"
      },
      "execution_count": null,
      "outputs": [
        {
          "output_type": "stream",
          "name": "stdout",
          "text": [
            "idx -  0 0\n",
            "idx -  1 1\n",
            "idx -  2 2\n",
            "idx -  3 3\n",
            "idx -  4 4\n",
            "idx -  5 5\n",
            "idx -  6 6\n",
            "idx -  7 7\n",
            "idx -  8 8\n",
            "idx -  9 9\n"
          ]
        }
      ]
    },
    {
      "cell_type": "code",
      "source": [
        "ary_reshape = ary.reshape(2,5)\n",
        "ary_reshape"
      ],
      "metadata": {
        "colab": {
          "base_uri": "https://localhost:8080/"
        },
        "id": "ZTNhEH8NbymT",
        "outputId": "0194cda8-2349-4647-8fe9-f27fb39d333b"
      },
      "execution_count": null,
      "outputs": [
        {
          "output_type": "execute_result",
          "data": {
            "text/plain": [
              "array([[0, 1, 2, 3, 4],\n",
              "       [5, 6, 7, 8, 9]])"
            ]
          },
          "metadata": {},
          "execution_count": 6
        }
      ]
    },
    {
      "cell_type": "code",
      "source": [
        "print('shape - ', ary_reshape.shape)      # (2, 5) == (행, 열) 과 같은 꼴\n",
        "print('row - ', ary_reshape.shape[0])     # 행의 개수\n",
        "print('col - ', ary_reshape.shape[1])     # 열의 개수"
      ],
      "metadata": {
        "colab": {
          "base_uri": "https://localhost:8080/"
        },
        "id": "aiEOY5eQcDY5",
        "outputId": "795e5b6d-8739-4819-df0b-c26d50381f12"
      },
      "execution_count": null,
      "outputs": [
        {
          "output_type": "stream",
          "name": "stdout",
          "text": [
            "shape -  (2, 5)\n",
            "row -  2\n",
            "col -  5\n"
          ]
        }
      ]
    },
    {
      "cell_type": "markdown",
      "source": [
        "외부 루프 (for)"
      ],
      "metadata": {
        "id": "xlWICA2ycpXv"
      }
    },
    {
      "cell_type": "code",
      "source": [
        "for row in range(ary_reshape.shape[0]) :\n",
        "  for col in range(ary_reshape.shape[1]) :\n",
        "    print( ary_reshape[row][col], end='\\t')\n",
        "  print()"
      ],
      "metadata": {
        "colab": {
          "base_uri": "https://localhost:8080/"
        },
        "id": "1ynM5oXBcHTK",
        "outputId": "420a698a-2cd6-47fc-e4e9-0906c4595bb3"
      },
      "execution_count": null,
      "outputs": [
        {
          "output_type": "stream",
          "name": "stdout",
          "text": [
            "0\t1\t2\t3\t4\t\n",
            "5\t6\t7\t8\t9\t\n"
          ]
        }
      ]
    },
    {
      "cell_type": "markdown",
      "source": [
        "내부 루프  (nditer)"
      ],
      "metadata": {
        "id": "gXQX2F0uc84X"
      }
    },
    {
      "cell_type": "code",
      "source": [
        "ite = np.nditer(ary_reshape, flags = ['multi_index'])\n",
        "while not ite.finished :\n",
        "  idx = ite.multi_index\n",
        "  print(ary_reshape[idx], end='\\t')\n",
        "  ite.iternext()"
      ],
      "metadata": {
        "colab": {
          "base_uri": "https://localhost:8080/"
        },
        "id": "2tP6cakUc7pM",
        "outputId": "628245e8-6a50-4eb0-fb63-03b314414769"
      },
      "execution_count": null,
      "outputs": [
        {
          "output_type": "stream",
          "name": "stdout",
          "text": [
            "0\t1\t2\t3\t4\t5\t6\t7\t8\t9\t"
          ]
        }
      ]
    },
    {
      "cell_type": "markdown",
      "source": [
        "### 배열 병합/연결\n",
        "- hstack, vstack, dstack, stack, r_[], c_[], tile"
      ],
      "metadata": {
        "id": "i1SBiiWtwr8g"
      }
    },
    {
      "cell_type": "markdown",
      "source": [
        "#### hstack()\n",
        "- 행의 수가 같아야 한다. > 열이 확장되는 배열 연결\n",
        "- 행의 개수가 다르면 error"
      ],
      "metadata": {
        "id": "MKom-nVVxkcu"
      }
    },
    {
      "cell_type": "code",
      "source": [
        "print('ones() array - ')\n",
        "ary_one = np.ones((2, 3))\n",
        "aryInfo(ary_one)\n",
        "\n",
        "print('\\nzeros() array - ')\n",
        "ary_zero = np.zeros((2, 3))\n",
        "aryInfo(ary_zero)"
      ],
      "metadata": {
        "id": "MT1IYN2WdXuE",
        "colab": {
          "base_uri": "https://localhost:8080/"
        },
        "outputId": "c536b7c2-6a38-4e06-a2f6-b9e2382be1a9"
      },
      "execution_count": null,
      "outputs": [
        {
          "output_type": "stream",
          "name": "stdout",
          "text": [
            "ones() array - \n",
            "type -  <class 'numpy.ndarray'>\n",
            "shape -  (2, 3)\n",
            "dimension -  2\n",
            "dtype -  float64\n",
            "\n",
            "data - \n",
            " [[1. 1. 1.]\n",
            " [1. 1. 1.]]\n",
            "\n",
            "zeros() array - \n",
            "type -  <class 'numpy.ndarray'>\n",
            "shape -  (2, 3)\n",
            "dimension -  2\n",
            "dtype -  float64\n",
            "\n",
            "data - \n",
            " [[0. 0. 0.]\n",
            " [0. 0. 0.]]\n"
          ]
        }
      ]
    },
    {
      "cell_type": "code",
      "source": [
        "ary_hstack = np.hstack([ary_one, ary_zero])\n",
        "aryInfo(ary_hstack)"
      ],
      "metadata": {
        "colab": {
          "base_uri": "https://localhost:8080/"
        },
        "id": "34CB08Emx3q0",
        "outputId": "f1954164-107a-427b-bbb5-47dd1f867bb4"
      },
      "execution_count": null,
      "outputs": [
        {
          "output_type": "stream",
          "name": "stdout",
          "text": [
            "type -  <class 'numpy.ndarray'>\n",
            "shape -  (2, 6)\n",
            "dimension -  2\n",
            "dtype -  float64\n",
            "\n",
            "data - \n",
            " [[1. 1. 1. 0. 0. 0.]\n",
            " [1. 1. 1. 0. 0. 0.]]\n"
          ]
        }
      ]
    },
    {
      "cell_type": "markdown",
      "source": [
        "#### vstack()\n",
        "- 행의 수가 달라도 된다. (열의 개수는 동일) -> 행이 확장되는 배열 연결\n",
        "- 행의 개수가 다르면 error"
      ],
      "metadata": {
        "id": "FeCOSJUtyHKP"
      }
    },
    {
      "cell_type": "code",
      "source": [
        "print('ones() array - ')\n",
        "ary_one = np.ones((2, 3))\n",
        "aryInfo(ary_one)\n",
        "\n",
        "print('\\nzeros() array - ')\n",
        "ary_zero = np.zeros((5, 3))\n",
        "aryInfo(ary_zero)"
      ],
      "metadata": {
        "colab": {
          "base_uri": "https://localhost:8080/"
        },
        "id": "BYh4uOTuw9tB",
        "outputId": "c5147964-5ab9-4c7e-d9b8-9788626d3389"
      },
      "execution_count": null,
      "outputs": [
        {
          "output_type": "stream",
          "name": "stdout",
          "text": [
            "ones() array - \n",
            "type -  <class 'numpy.ndarray'>\n",
            "shape -  (2, 3)\n",
            "dimension -  2\n",
            "dtype -  float64\n",
            "\n",
            "data - \n",
            " [[1. 1. 1.]\n",
            " [1. 1. 1.]]\n",
            "\n",
            "zeros() array - \n",
            "type -  <class 'numpy.ndarray'>\n",
            "shape -  (5, 3)\n",
            "dimension -  2\n",
            "dtype -  float64\n",
            "\n",
            "data - \n",
            " [[0. 0. 0.]\n",
            " [0. 0. 0.]\n",
            " [0. 0. 0.]\n",
            " [0. 0. 0.]\n",
            " [0. 0. 0.]]\n"
          ]
        }
      ]
    },
    {
      "cell_type": "code",
      "source": [
        "ary_vstack = np.vstack([ary_one, ary_zero])\n",
        "aryInfo(ary_vstack)"
      ],
      "metadata": {
        "colab": {
          "base_uri": "https://localhost:8080/"
        },
        "id": "s8pwY0yxyb8F",
        "outputId": "95a42156-fdd0-47ae-e4d5-d86474f39f36"
      },
      "execution_count": null,
      "outputs": [
        {
          "output_type": "stream",
          "name": "stdout",
          "text": [
            "type -  <class 'numpy.ndarray'>\n",
            "shape -  (7, 3)\n",
            "dimension -  2\n",
            "dtype -  float64\n",
            "\n",
            "data - \n",
            " [[1. 1. 1.]\n",
            " [1. 1. 1.]\n",
            " [0. 0. 0.]\n",
            " [0. 0. 0.]\n",
            " [0. 0. 0.]\n",
            " [0. 0. 0.]\n",
            " [0. 0. 0.]]\n"
          ]
        }
      ]
    },
    {
      "cell_type": "markdown",
      "source": [
        "#### dstack()\n",
        "- 행과 열이 아닌 깊이(depth) 방향으로 배열 연결\n",
        "- 새로운 축에 대한 추가가 제일 안쪽에서 발생\n",
        "> (3 * 4) -> (3 * 4 * **2**)\n",
        "- row 기준으로 한 row 씩 col 로 바꿔서 연결시켜 한 layer 형성 (전치행렬이 된 것 같은 느낌)"
      ],
      "metadata": {
        "id": "fH-I39o1ytlj"
      }
    },
    {
      "cell_type": "code",
      "source": [
        "print('ones() array - ')\n",
        "ary_one = np.ones((3, 4))\n",
        "aryInfo(ary_one)\n",
        "\n",
        "print('\\nzeros() array - ')\n",
        "ary_zero = np.zeros((3, 4))\n",
        "aryInfo(ary_zero)"
      ],
      "metadata": {
        "colab": {
          "base_uri": "https://localhost:8080/"
        },
        "id": "-3nBmkXWyjFc",
        "outputId": "4246d17c-be30-4597-f1f4-296cabefe404"
      },
      "execution_count": null,
      "outputs": [
        {
          "output_type": "stream",
          "name": "stdout",
          "text": [
            "ones() array - \n",
            "type -  <class 'numpy.ndarray'>\n",
            "shape -  (3, 4)\n",
            "dimension -  2\n",
            "dtype -  float64\n",
            "\n",
            "data - \n",
            " [[1. 1. 1. 1.]\n",
            " [1. 1. 1. 1.]\n",
            " [1. 1. 1. 1.]]\n",
            "\n",
            "zeros() array - \n",
            "type -  <class 'numpy.ndarray'>\n",
            "shape -  (3, 4)\n",
            "dimension -  2\n",
            "dtype -  float64\n",
            "\n",
            "data - \n",
            " [[0. 0. 0. 0.]\n",
            " [0. 0. 0. 0.]\n",
            " [0. 0. 0. 0.]]\n"
          ]
        }
      ]
    },
    {
      "cell_type": "code",
      "source": [
        "print('concatenate dstack')\n",
        "print(' (3, 4) > (3, 4, 2) : 새로운 축에 대한 추가가 제일 안쪽에서 발생\\n')\n",
        "ary_dstack = np.dstack([ary_one, ary_zero])\n",
        "aryInfo(ary_dstack)"
      ],
      "metadata": {
        "colab": {
          "base_uri": "https://localhost:8080/"
        },
        "id": "bemPHX5Ty0Y0",
        "outputId": "27482fff-b7fa-4109-e302-bdab0b0a65a3"
      },
      "execution_count": null,
      "outputs": [
        {
          "output_type": "stream",
          "name": "stdout",
          "text": [
            "concatenate dstack\n",
            " (3, 4) > (3, 4, 2) : 새로운 축에 대한 추가가 제일 안쪽에서 발생\n",
            "\n",
            "type -  <class 'numpy.ndarray'>\n",
            "shape -  (3, 4, 2)\n",
            "dimension -  3\n",
            "dtype -  float64\n",
            "\n",
            "data - \n",
            " [[[1. 0.]\n",
            "  [1. 0.]\n",
            "  [1. 0.]\n",
            "  [1. 0.]]\n",
            "\n",
            " [[1. 0.]\n",
            "  [1. 0.]\n",
            "  [1. 0.]\n",
            "  [1. 0.]]\n",
            "\n",
            " [[1. 0.]\n",
            "  [1. 0.]\n",
            "  [1. 0.]\n",
            "  [1. 0.]]]\n"
          ]
        }
      ]
    },
    {
      "cell_type": "code",
      "source": [
        "ary_num = np.tile(np.array([1,2,3]).reshape(3,1), (1, 4))\n",
        "aryInfo(ary_num)"
      ],
      "metadata": {
        "colab": {
          "base_uri": "https://localhost:8080/"
        },
        "id": "yW49pBeozJ6c",
        "outputId": "abc1c0ae-a46e-40ea-f4cc-336b317371f5"
      },
      "execution_count": null,
      "outputs": [
        {
          "output_type": "stream",
          "name": "stdout",
          "text": [
            "type -  <class 'numpy.ndarray'>\n",
            "shape -  (3, 4)\n",
            "dimension -  2\n",
            "dtype -  int64\n",
            "\n",
            "data - \n",
            " [[1 1 1 1]\n",
            " [2 2 2 2]\n",
            " [3 3 3 3]]\n"
          ]
        }
      ]
    },
    {
      "cell_type": "code",
      "source": [
        "ary_dstack = np.dstack([ary_num, ary_zero])\n",
        "ary_dstack"
      ],
      "metadata": {
        "colab": {
          "base_uri": "https://localhost:8080/"
        },
        "id": "qqX_WVOk0eIW",
        "outputId": "f96b1a65-aea7-448b-96a4-9f09898d6979"
      },
      "execution_count": null,
      "outputs": [
        {
          "output_type": "execute_result",
          "data": {
            "text/plain": [
              "array([[[1., 0.],\n",
              "        [1., 0.],\n",
              "        [1., 0.],\n",
              "        [1., 0.]],\n",
              "\n",
              "       [[2., 0.],\n",
              "        [2., 0.],\n",
              "        [2., 0.],\n",
              "        [2., 0.]],\n",
              "\n",
              "       [[3., 0.],\n",
              "        [3., 0.],\n",
              "        [3., 0.],\n",
              "        [3., 0.]]])"
            ]
          },
          "metadata": {},
          "execution_count": 33
        }
      ]
    },
    {
      "cell_type": "markdown",
      "source": [
        "#### stack()\n",
        "- 연결할 배열을 리스트에 담아서 연결 (단순 depth 추가)\n",
        "- 반드시 연결할 배열들의 shape 동일해야 한다.\n",
        "> (3 * 4) -> (2 * 3 * 4)\n",
        "- 인수로 axis 이용 가능\n",
        "> - axis = 0 : layer 추가(default)\n",
        ">  - (3 * 4) -> (2 * 3 * 4)\n",
        "> - axis = 1 : row 별로 1 layer\n",
        ">  - 새로운 축에 대한 추가가 가운데에서 발생\n",
        ">  - (3 * 4) -> (3 * 2 * 4)"
      ],
      "metadata": {
        "id": "mlyxovpi1SLc"
      }
    },
    {
      "cell_type": "code",
      "source": [
        "print('ones() array -')\n",
        "ary_one = np.ones((3, 4))\n",
        "aryInfo(ary_one)\n",
        "\n",
        "print('zeros() array - ')\n",
        "ary_zero = np.zeros((3, 4))\n",
        "aryInfo(ary_zero)"
      ],
      "metadata": {
        "colab": {
          "base_uri": "https://localhost:8080/"
        },
        "id": "KYirnajG09Gj",
        "outputId": "25305cbd-440a-45a3-c5be-74cb0bd5e6e6"
      },
      "execution_count": null,
      "outputs": [
        {
          "output_type": "stream",
          "name": "stdout",
          "text": [
            "ones() array -\n",
            "type -  <class 'numpy.ndarray'>\n",
            "shape -  (3, 4)\n",
            "dimension -  2\n",
            "dtype -  float64\n",
            "\n",
            "data - \n",
            " [[1. 1. 1. 1.]\n",
            " [1. 1. 1. 1.]\n",
            " [1. 1. 1. 1.]]\n",
            "zeros() array - \n",
            "type -  <class 'numpy.ndarray'>\n",
            "shape -  (3, 4)\n",
            "dimension -  2\n",
            "dtype -  float64\n",
            "\n",
            "data - \n",
            " [[0. 0. 0. 0.]\n",
            " [0. 0. 0. 0.]\n",
            " [0. 0. 0. 0.]]\n"
          ]
        }
      ]
    },
    {
      "cell_type": "code",
      "source": [
        "print('concatenate stack - \\n')\n",
        "ary_stack = np.stack([ary_one, ary_zero])\n",
        "aryInfo(ary_stack)"
      ],
      "metadata": {
        "colab": {
          "base_uri": "https://localhost:8080/"
        },
        "id": "XKvyGDG113st",
        "outputId": "35f774e1-69da-40b5-8669-e164f9d403a6"
      },
      "execution_count": null,
      "outputs": [
        {
          "output_type": "stream",
          "name": "stdout",
          "text": [
            "concatenate stack - \n",
            "\n",
            "type -  <class 'numpy.ndarray'>\n",
            "shape -  (2, 3, 4)\n",
            "dimension -  3\n",
            "dtype -  float64\n",
            "\n",
            "data - \n",
            " [[[1. 1. 1. 1.]\n",
            "  [1. 1. 1. 1.]\n",
            "  [1. 1. 1. 1.]]\n",
            "\n",
            " [[0. 0. 0. 0.]\n",
            "  [0. 0. 0. 0.]\n",
            "  [0. 0. 0. 0.]]]\n"
          ]
        }
      ]
    },
    {
      "cell_type": "code",
      "source": [
        "print('concatenate stack : 인수로 axis 사용 가능')\n",
        "ary_stack = np.stack([ary_one, ary_zero], axis=0)\n",
        "aryInfo(ary_stack)\n",
        "\n",
        "print()\n",
        "ary_stack = np.stack([ary_one, ary_zero], axis=1)\n",
        "aryInfo(ary_stack)"
      ],
      "metadata": {
        "colab": {
          "base_uri": "https://localhost:8080/"
        },
        "id": "q_cZwA2S2DST",
        "outputId": "014d36f5-e8f4-44f8-8c0d-6814e3c0cdfc"
      },
      "execution_count": null,
      "outputs": [
        {
          "output_type": "stream",
          "name": "stdout",
          "text": [
            "concatenate stack : 인수로 axis 사용 가능\n",
            "type -  <class 'numpy.ndarray'>\n",
            "shape -  (2, 3, 4)\n",
            "dimension -  3\n",
            "dtype -  float64\n",
            "\n",
            "data - \n",
            " [[[1. 1. 1. 1.]\n",
            "  [1. 1. 1. 1.]\n",
            "  [1. 1. 1. 1.]]\n",
            "\n",
            " [[0. 0. 0. 0.]\n",
            "  [0. 0. 0. 0.]\n",
            "  [0. 0. 0. 0.]]]\n",
            "\n",
            "type -  <class 'numpy.ndarray'>\n",
            "shape -  (3, 2, 4)\n",
            "dimension -  3\n",
            "dtype -  float64\n",
            "\n",
            "data - \n",
            " [[[1. 1. 1. 1.]\n",
            "  [0. 0. 0. 0.]]\n",
            "\n",
            " [[1. 1. 1. 1.]\n",
            "  [0. 0. 0. 0.]]\n",
            "\n",
            " [[1. 1. 1. 1.]\n",
            "  [0. 0. 0. 0.]]]\n"
          ]
        }
      ]
    },
    {
      "cell_type": "markdown",
      "source": [
        "#### indexer : r_[], c_[] / tile\n",
        "- r_[] == vstack\n",
        "- c_[] == hstack\n",
        "- 1차원일 때와 2차원일 때 결과 형태 다르므로 주의\n",
        "---\n",
        "\n",
        "- tile : 동일한 배열을 반복해서 연결"
      ],
      "metadata": {
        "id": "YC583wyh4G5n"
      }
    },
    {
      "cell_type": "markdown",
      "source": [
        "1차원 vector 형태일 때"
      ],
      "metadata": {
        "id": "kmmqHrui44WI"
      }
    },
    {
      "cell_type": "code",
      "source": [
        "print('r_[] : 배열의 좌우연결')\n",
        "aryInfo( np.r_[ np.array([1,2,3]), np.array([4,5,6])] )\n",
        "\n",
        "print('\\nc_[] : 배열의 \"차원을 증가\"시켜서 좌우연결')\n",
        "aryInfo( np.c_[ np.array([1,2,3]), np.array([4,5,6])] )"
      ],
      "metadata": {
        "colab": {
          "base_uri": "https://localhost:8080/"
        },
        "id": "g9osnUH431N2",
        "outputId": "40421171-a5b5-407e-a780-8a02334f3c45"
      },
      "execution_count": null,
      "outputs": [
        {
          "output_type": "stream",
          "name": "stdout",
          "text": [
            "r_[] : 배열의 좌우연결\n",
            "type -  <class 'numpy.ndarray'>\n",
            "shape -  (6,)\n",
            "dimension -  1\n",
            "dtype -  int64\n",
            "\n",
            "data - \n",
            " [1 2 3 4 5 6]\n",
            "\n",
            "c_[] : 배열의 \"차원을 증가\"시켜서 좌우연결\n",
            "type -  <class 'numpy.ndarray'>\n",
            "shape -  (3, 2)\n",
            "dimension -  2\n",
            "dtype -  int64\n",
            "\n",
            "data - \n",
            " [[1 4]\n",
            " [2 5]\n",
            " [3 6]]\n"
          ]
        }
      ]
    },
    {
      "cell_type": "markdown",
      "source": [
        "2차원 matrix"
      ],
      "metadata": {
        "id": "l9_ttGUX5g1W"
      }
    },
    {
      "cell_type": "code",
      "source": [
        "ary_one = np.ones((2, 3))\n",
        "ary_zero = np.zeros((2, 3))\n",
        "\n",
        "print('matrix c_[]')\n",
        "aryInfo( np.c_[ary_one, ary_zero] )\n",
        "\n",
        "print('\\nmatrix r_[]')\n",
        "aryInfo( np.r_[ary_one, ary_zero] )"
      ],
      "metadata": {
        "colab": {
          "base_uri": "https://localhost:8080/"
        },
        "id": "tmuNWY1x5gib",
        "outputId": "56f1595b-9c14-4468-af5b-dc8e19e0e599"
      },
      "execution_count": null,
      "outputs": [
        {
          "output_type": "stream",
          "name": "stdout",
          "text": [
            "matrix c_[]\n",
            "type -  <class 'numpy.ndarray'>\n",
            "shape -  (2, 6)\n",
            "dimension -  2\n",
            "dtype -  float64\n",
            "\n",
            "data - \n",
            " [[1. 1. 1. 0. 0. 0.]\n",
            " [1. 1. 1. 0. 0. 0.]]\n",
            "\n",
            "matrix r_[]\n",
            "type -  <class 'numpy.ndarray'>\n",
            "shape -  (4, 3)\n",
            "dimension -  2\n",
            "dtype -  float64\n",
            "\n",
            "data - \n",
            " [[1. 1. 1.]\n",
            " [1. 1. 1.]\n",
            " [0. 0. 0.]\n",
            " [0. 0. 0.]]\n"
          ]
        }
      ]
    },
    {
      "cell_type": "code",
      "source": [
        "print('\\ntile : 동일한 배열 반복해서 연결')\n",
        "aryInfo( np.tile( np.array([[1,2,3], [4,5,6]]), (2,3)))"
      ],
      "metadata": {
        "colab": {
          "base_uri": "https://localhost:8080/"
        },
        "id": "hJvwhAGX4mAz",
        "outputId": "6a4b4539-c6b3-4781-a2a8-515cf8351e89"
      },
      "execution_count": null,
      "outputs": [
        {
          "output_type": "stream",
          "name": "stdout",
          "text": [
            "\n",
            "tile : 동일한 배열 반복해서 연결\n",
            "type -  <class 'numpy.ndarray'>\n",
            "shape -  (4, 9)\n",
            "dimension -  2\n",
            "dtype -  int64\n",
            "\n",
            "data - \n",
            " [[1 2 3 1 2 3 1 2 3]\n",
            " [4 5 6 4 5 6 4 5 6]\n",
            " [1 2 3 1 2 3 1 2 3]\n",
            " [4 5 6 4 5 6 4 5 6]]\n"
          ]
        }
      ]
    },
    {
      "cell_type": "markdown",
      "source": [
        "#### 실습\n",
        "아래의 결과가 나올 수 있도록 함수를 이용하여 작성해보기\n",
        "```\n",
        "array([[   0.,    0.,    0.,    1.,    1.],\n",
        "       [   0.,    0.,    0.,    1.,    1.],\n",
        "       [   0.,    0.,    0.,    1.,    1.],\n",
        "       [  10.,   20.,   30.,   40.,   50.],\n",
        "       [  60.,   70.,   80.,   90.,  100.],\n",
        "       [ 110.,  120.,  130.,  140.,  150.],\n",
        "       [   0.,    0.,    0.,    1.,    1.],\n",
        "       [   0.,    0.,    0.,    1.,    1.],\n",
        "       [   0.,    0.,    0.,    1.,    1.],\n",
        "       [  10.,   20.,   30.,   40.,   50.],\n",
        "       [  60.,   70.,   80.,   90.,  100.],\n",
        "       [ 110.,  120.,  130.,  140.,  150.]])\n",
        "```\n",
        "\n",
        "       "
      ],
      "metadata": {
        "id": "EcLSX0cY6hY5"
      }
    },
    {
      "cell_type": "code",
      "source": [
        "ary_zero = np.zeros((3,3))\n",
        "ary_one = np.ones((3,2))\n",
        "ary_num = np.arange(10,151,10).reshape(3,-1)\n",
        "ary_vstack = np.vstack([np.hstack([ary_zero, ary_one]), ary_num])\n",
        "data = np.tile(ary_vstack, (2,1))\n",
        "aryInfo(data)"
      ],
      "metadata": {
        "colab": {
          "base_uri": "https://localhost:8080/"
        },
        "id": "L6RSR9Ym5ZCi",
        "outputId": "8a72c351-63e3-4f74-ccec-934f57aa02f8"
      },
      "execution_count": null,
      "outputs": [
        {
          "output_type": "stream",
          "name": "stdout",
          "text": [
            "type -  <class 'numpy.ndarray'>\n",
            "shape -  (12, 5)\n",
            "dimension -  2\n",
            "dtype -  float64\n",
            "\n",
            "data - \n",
            " [[  0.   0.   0.   1.   1.]\n",
            " [  0.   0.   0.   1.   1.]\n",
            " [  0.   0.   0.   1.   1.]\n",
            " [ 10.  20.  30.  40.  50.]\n",
            " [ 60.  70.  80.  90. 100.]\n",
            " [110. 120. 130. 140. 150.]\n",
            " [  0.   0.   0.   1.   1.]\n",
            " [  0.   0.   0.   1.   1.]\n",
            " [  0.   0.   0.   1.   1.]\n",
            " [ 10.  20.  30.  40.  50.]\n",
            " [ 60.  70.  80.  90. 100.]\n",
            " [110. 120. 130. 140. 150.]]\n"
          ]
        }
      ]
    },
    {
      "cell_type": "markdown",
      "source": [
        "### delete() 함수\n",
        "- axis 기준 행과 열을 삭제할 수 있다.\n",
        "> axis = 0 -> 행 | axis = 1 -> 열 기준 삭제\n",
        "- 전제조건 : matrix를 기본으로 함 > 1차원 vector는?\n",
        "- 2차원 matrix 더라도, axis 지정하지 않으면 1차원 변환 후 삭제 > result 1차원 vector\n",
        "- 원본배열을 변경하지 않고 새로운 배열을 return"
      ],
      "metadata": {
        "id": "C_GnIwpl74oB"
      }
    },
    {
      "cell_type": "code",
      "source": [
        "np.random.randint(6) # 0 ~ 괄호안 숫자(6)-1 까지의 정수 중 난수 하나 get\n",
        "np.random.rand(6)    # random decimal : 표준정규분포 상 0~1 사이의 난수 return // 괄호 안 숫자는 수의 개수\n",
        "np.random.randn(6)   # 평균 0, 편차 1 인 가우시안 표준정규분포  // 값이 마이너스일 수도 있음 // 괄호 안 숫자는 수의 개수"
      ],
      "metadata": {
        "colab": {
          "base_uri": "https://localhost:8080/"
        },
        "id": "EKcMuQxL7HIi",
        "outputId": "5ec622b1-81af-4335-f83f-663900f822b3"
      },
      "execution_count": null,
      "outputs": [
        {
          "output_type": "execute_result",
          "data": {
            "text/plain": [
              "array([ 0.24525023,  0.65349071, -0.71329416, -0.24052903, -0.25509596,\n",
              "       -0.88068569])"
            ]
          },
          "metadata": {},
          "execution_count": 60
        }
      ]
    },
    {
      "cell_type": "code",
      "source": [
        "# 0~9 까지 임의의 정수 하나 꺼내옴 // 뒤에 (,) tuple 형태로 shape 지정 가능\n",
        "ary = np.random.randint(0, 10, (3,4))\n",
        "aryInfo(ary)"
      ],
      "metadata": {
        "colab": {
          "base_uri": "https://localhost:8080/"
        },
        "id": "04J_5tyg8gba",
        "outputId": "a0929963-3ddd-4c88-9595-a9ffc9cdda5a"
      },
      "execution_count": null,
      "outputs": [
        {
          "output_type": "stream",
          "name": "stdout",
          "text": [
            "type -  <class 'numpy.ndarray'>\n",
            "shape -  (3, 4)\n",
            "dimension -  2\n",
            "dtype -  int64\n",
            "\n",
            "data - \n",
            " [[2 8 8 7]\n",
            " [0 4 2 9]\n",
            " [9 5 1 1]]\n"
          ]
        }
      ]
    },
    {
      "cell_type": "markdown",
      "source": [
        "method 1\n",
        "- 1차원의 vector로 변환 후 index num = 1 인 숫자 제거"
      ],
      "metadata": {
        "id": "Xy4qRkqhcjG1"
      }
    },
    {
      "cell_type": "code",
      "source": [
        "ary_delete = np.delete(ary, 1)\n",
        "aryInfo(ary_delete)  # 결과 값 matrix 아닌 1차원 vector"
      ],
      "metadata": {
        "colab": {
          "base_uri": "https://localhost:8080/"
        },
        "id": "i_JtOng2867H",
        "outputId": "6af3a942-7979-467c-87a3-38cc4f56181e"
      },
      "execution_count": null,
      "outputs": [
        {
          "output_type": "stream",
          "name": "stdout",
          "text": [
            "type -  <class 'numpy.ndarray'>\n",
            "shape -  (11,)\n",
            "dimension -  1\n",
            "dtype -  int64\n",
            "\n",
            "data - \n",
            " [2 8 7 0 4 2 9 9 5 1 1]\n"
          ]
        }
      ]
    },
    {
      "cell_type": "markdown",
      "source": [
        "method 2"
      ],
      "metadata": {
        "id": "D72JbrTlc-Yq"
      }
    },
    {
      "cell_type": "code",
      "source": [
        "ary_delete = np.delete(ary, 1, axis = 0)\n",
        "aryInfo(ary_delete)"
      ],
      "metadata": {
        "colab": {
          "base_uri": "https://localhost:8080/"
        },
        "id": "qtVY9RhecpCu",
        "outputId": "733ff06d-0323-45d9-abd1-a5db2d822ad6"
      },
      "execution_count": null,
      "outputs": [
        {
          "output_type": "stream",
          "name": "stdout",
          "text": [
            "type -  <class 'numpy.ndarray'>\n",
            "shape -  (2, 4)\n",
            "dimension -  2\n",
            "dtype -  int64\n",
            "\n",
            "data - \n",
            " [[2 8 8 7]\n",
            " [9 5 1 1]]\n"
          ]
        }
      ]
    },
    {
      "cell_type": "markdown",
      "source": [
        "method 3"
      ],
      "metadata": {
        "id": "kWZRM8xKdKSl"
      }
    },
    {
      "cell_type": "code",
      "source": [
        "ary_delete = np.delete(ary, 1, axis = 1)\n",
        "aryInfo(ary_delete)"
      ],
      "metadata": {
        "colab": {
          "base_uri": "https://localhost:8080/"
        },
        "id": "d0JlCR_5dFrF",
        "outputId": "64b37cfc-23fb-4eab-a7c8-c9b288f85867"
      },
      "execution_count": null,
      "outputs": [
        {
          "output_type": "stream",
          "name": "stdout",
          "text": [
            "type -  <class 'numpy.ndarray'>\n",
            "shape -  (3, 3)\n",
            "dimension -  2\n",
            "dtype -  int64\n",
            "\n",
            "data - \n",
            " [[2 8 7]\n",
            " [0 2 9]\n",
            " [9 1 1]]\n"
          ]
        }
      ]
    },
    {
      "cell_type": "markdown",
      "source": [
        "### Numpy 파일 로드\n",
        "- loadtxt()"
      ],
      "metadata": {
        "id": "ZhUNMt8rdj4X"
      }
    },
    {
      "cell_type": "code",
      "source": [
        "raw_data = np.loadtxt('./numpy_data/crime_in_Seoul.csv',\n",
        "                      delimiter='\\,',\n",
        "                      dtype= np.object,\n",
        "                      skiprows= 1)\n",
        "\n",
        "print('하나의 데이터를 하나의 row로 만들기 - ')\n",
        "\n",
        "data = raw_data[:, np.newaxis]\n",
        "aryInfo(data[0])\n",
        "\n",
        "# 파일업로드 불가로 실행불가"
      ],
      "metadata": {
        "colab": {
          "base_uri": "https://localhost:8080/",
          "height": 457
        },
        "id": "EZkFMYZEdO8W",
        "outputId": "72f35b86-ee5a-4a54-ddbb-cbd53a4be56b"
      },
      "execution_count": null,
      "outputs": [
        {
          "output_type": "stream",
          "name": "stderr",
          "text": [
            "/usr/local/lib/python3.7/dist-packages/ipykernel_launcher.py:3: DeprecationWarning: `np.object` is a deprecated alias for the builtin `object`. To silence this warning, use `object` by itself. Doing this will not modify any behavior and is safe. \n",
            "Deprecated in NumPy 1.20; for more details and guidance: https://numpy.org/devdocs/release/1.20.0-notes.html#deprecations\n",
            "  This is separate from the ipykernel package so we can avoid doing imports until\n"
          ]
        },
        {
          "output_type": "error",
          "ename": "OSError",
          "evalue": "ignored",
          "traceback": [
            "\u001b[0;31m---------------------------------------------------------------------------\u001b[0m",
            "\u001b[0;31mOSError\u001b[0m                                   Traceback (most recent call last)",
            "\u001b[0;32m<ipython-input-12-5ef11c547891>\u001b[0m in \u001b[0;36m<module>\u001b[0;34m()\u001b[0m\n\u001b[1;32m      2\u001b[0m                       \u001b[0mdelimiter\u001b[0m\u001b[0;34m=\u001b[0m\u001b[0;34m'\\,'\u001b[0m\u001b[0;34m,\u001b[0m\u001b[0;34m\u001b[0m\u001b[0;34m\u001b[0m\u001b[0m\n\u001b[1;32m      3\u001b[0m                       \u001b[0mdtype\u001b[0m\u001b[0;34m=\u001b[0m \u001b[0mnp\u001b[0m\u001b[0;34m.\u001b[0m\u001b[0mobject\u001b[0m\u001b[0;34m,\u001b[0m\u001b[0;34m\u001b[0m\u001b[0;34m\u001b[0m\u001b[0m\n\u001b[0;32m----> 4\u001b[0;31m                       skiprows= 1)\n\u001b[0m",
            "\u001b[0;32m/usr/local/lib/python3.7/dist-packages/numpy/lib/npyio.py\u001b[0m in \u001b[0;36mloadtxt\u001b[0;34m(fname, dtype, comments, delimiter, converters, skiprows, usecols, unpack, ndmin, encoding, max_rows, like)\u001b[0m\n\u001b[1;32m   1065\u001b[0m             \u001b[0mfname\u001b[0m \u001b[0;34m=\u001b[0m \u001b[0mos_fspath\u001b[0m\u001b[0;34m(\u001b[0m\u001b[0mfname\u001b[0m\u001b[0;34m)\u001b[0m\u001b[0;34m\u001b[0m\u001b[0;34m\u001b[0m\u001b[0m\n\u001b[1;32m   1066\u001b[0m         \u001b[0;32mif\u001b[0m \u001b[0m_is_string_like\u001b[0m\u001b[0;34m(\u001b[0m\u001b[0mfname\u001b[0m\u001b[0;34m)\u001b[0m\u001b[0;34m:\u001b[0m\u001b[0;34m\u001b[0m\u001b[0;34m\u001b[0m\u001b[0m\n\u001b[0;32m-> 1067\u001b[0;31m             \u001b[0mfh\u001b[0m \u001b[0;34m=\u001b[0m \u001b[0mnp\u001b[0m\u001b[0;34m.\u001b[0m\u001b[0mlib\u001b[0m\u001b[0;34m.\u001b[0m\u001b[0m_datasource\u001b[0m\u001b[0;34m.\u001b[0m\u001b[0mopen\u001b[0m\u001b[0;34m(\u001b[0m\u001b[0mfname\u001b[0m\u001b[0;34m,\u001b[0m \u001b[0;34m'rt'\u001b[0m\u001b[0;34m,\u001b[0m \u001b[0mencoding\u001b[0m\u001b[0;34m=\u001b[0m\u001b[0mencoding\u001b[0m\u001b[0;34m)\u001b[0m\u001b[0;34m\u001b[0m\u001b[0;34m\u001b[0m\u001b[0m\n\u001b[0m\u001b[1;32m   1068\u001b[0m             \u001b[0mfencoding\u001b[0m \u001b[0;34m=\u001b[0m \u001b[0mgetattr\u001b[0m\u001b[0;34m(\u001b[0m\u001b[0mfh\u001b[0m\u001b[0;34m,\u001b[0m \u001b[0;34m'encoding'\u001b[0m\u001b[0;34m,\u001b[0m \u001b[0;34m'latin1'\u001b[0m\u001b[0;34m)\u001b[0m\u001b[0;34m\u001b[0m\u001b[0;34m\u001b[0m\u001b[0m\n\u001b[1;32m   1069\u001b[0m             \u001b[0mfh\u001b[0m \u001b[0;34m=\u001b[0m \u001b[0miter\u001b[0m\u001b[0;34m(\u001b[0m\u001b[0mfh\u001b[0m\u001b[0;34m)\u001b[0m\u001b[0;34m\u001b[0m\u001b[0;34m\u001b[0m\u001b[0m\n",
            "\u001b[0;32m/usr/local/lib/python3.7/dist-packages/numpy/lib/_datasource.py\u001b[0m in \u001b[0;36mopen\u001b[0;34m(path, mode, destpath, encoding, newline)\u001b[0m\n\u001b[1;32m    191\u001b[0m \u001b[0;34m\u001b[0m\u001b[0m\n\u001b[1;32m    192\u001b[0m     \u001b[0mds\u001b[0m \u001b[0;34m=\u001b[0m \u001b[0mDataSource\u001b[0m\u001b[0;34m(\u001b[0m\u001b[0mdestpath\u001b[0m\u001b[0;34m)\u001b[0m\u001b[0;34m\u001b[0m\u001b[0;34m\u001b[0m\u001b[0m\n\u001b[0;32m--> 193\u001b[0;31m     \u001b[0;32mreturn\u001b[0m \u001b[0mds\u001b[0m\u001b[0;34m.\u001b[0m\u001b[0mopen\u001b[0m\u001b[0;34m(\u001b[0m\u001b[0mpath\u001b[0m\u001b[0;34m,\u001b[0m \u001b[0mmode\u001b[0m\u001b[0;34m,\u001b[0m \u001b[0mencoding\u001b[0m\u001b[0;34m=\u001b[0m\u001b[0mencoding\u001b[0m\u001b[0;34m,\u001b[0m \u001b[0mnewline\u001b[0m\u001b[0;34m=\u001b[0m\u001b[0mnewline\u001b[0m\u001b[0;34m)\u001b[0m\u001b[0;34m\u001b[0m\u001b[0;34m\u001b[0m\u001b[0m\n\u001b[0m\u001b[1;32m    194\u001b[0m \u001b[0;34m\u001b[0m\u001b[0m\n\u001b[1;32m    195\u001b[0m \u001b[0;34m\u001b[0m\u001b[0m\n",
            "\u001b[0;32m/usr/local/lib/python3.7/dist-packages/numpy/lib/_datasource.py\u001b[0m in \u001b[0;36mopen\u001b[0;34m(self, path, mode, encoding, newline)\u001b[0m\n\u001b[1;32m    531\u001b[0m                                       encoding=encoding, newline=newline)\n\u001b[1;32m    532\u001b[0m         \u001b[0;32melse\u001b[0m\u001b[0;34m:\u001b[0m\u001b[0;34m\u001b[0m\u001b[0;34m\u001b[0m\u001b[0m\n\u001b[0;32m--> 533\u001b[0;31m             \u001b[0;32mraise\u001b[0m \u001b[0mIOError\u001b[0m\u001b[0;34m(\u001b[0m\u001b[0;34m\"%s not found.\"\u001b[0m \u001b[0;34m%\u001b[0m \u001b[0mpath\u001b[0m\u001b[0;34m)\u001b[0m\u001b[0;34m\u001b[0m\u001b[0;34m\u001b[0m\u001b[0m\n\u001b[0m\u001b[1;32m    534\u001b[0m \u001b[0;34m\u001b[0m\u001b[0m\n\u001b[1;32m    535\u001b[0m \u001b[0;34m\u001b[0m\u001b[0m\n",
            "\u001b[0;31mOSError\u001b[0m: ./C/Users/dltmf/numpy_data/crime_in_Seoul.csv not found."
          ]
        }
      ]
    },
    {
      "cell_type": "markdown",
      "source": [
        "### 배열의 연산\n",
        "- %%time 으로 시간계산 했을 때, for loop보다 array의 계산이 더 빠름!(효율적)"
      ],
      "metadata": {
        "id": "jfcEhcwKev9W"
      }
    },
    {
      "cell_type": "code",
      "source": [
        "%%time\n",
        "\n",
        "x = np.arange(1, 10001)\n",
        "y = np.arange(10001, 20001)\n",
        "\n",
        "z = np.zeros_like(x)\n",
        "\n",
        "for i in range(10000) :\n",
        "  z[i] = x[i] + y[i]"
      ],
      "metadata": {
        "colab": {
          "base_uri": "https://localhost:8080/"
        },
        "id": "v9yXMEIjd2Ou",
        "outputId": "14209558-e0ac-4278-a216-67b411ac16ec"
      },
      "execution_count": null,
      "outputs": [
        {
          "output_type": "stream",
          "name": "stdout",
          "text": [
            "CPU times: user 6.57 ms, sys: 0 ns, total: 6.57 ms\n",
            "Wall time: 7.55 ms\n"
          ]
        }
      ]
    },
    {
      "cell_type": "code",
      "source": [
        "%%time\n",
        "\n",
        "z = x + y"
      ],
      "metadata": {
        "colab": {
          "base_uri": "https://localhost:8080/"
        },
        "id": "9nFsufFbfF8u",
        "outputId": "3a673937-42d9-4d65-f5b7-db37a6422248"
      },
      "execution_count": null,
      "outputs": [
        {
          "output_type": "stream",
          "name": "stdout",
          "text": [
            "CPU times: user 58 µs, sys: 5 µs, total: 63 µs\n",
            "Wall time: 67.5 µs\n"
          ]
        }
      ]
    },
    {
      "cell_type": "markdown",
      "source": [
        "#### 비교연산"
      ],
      "metadata": {
        "id": "_ZjiaMIYfTX-"
      }
    },
    {
      "cell_type": "code",
      "source": [
        "tmpX = np.array([1,2,3,4])\n",
        "tmpY = np.array([5,2,6,4])\n",
        "tmpZ = np.array([1,2,3,4])\n",
        "\n",
        "print( tmpX == tmpY )\n",
        "print( tmpX >= tmpY )\n",
        "\n",
        "print('\\nall : 모든 배열의 원소가 같은지 알고싶을 때 사용 - ')\n",
        "print( np.all( tmpX == tmpY ))\n",
        "print( np.all( tmpX == tmpZ ))"
      ],
      "metadata": {
        "colab": {
          "base_uri": "https://localhost:8080/"
        },
        "id": "OTxylwlCfKRo",
        "outputId": "20c2ac69-7768-47ce-e835-051f13b0e527"
      },
      "execution_count": null,
      "outputs": [
        {
          "output_type": "stream",
          "name": "stdout",
          "text": [
            "[False  True False  True]\n",
            "[False  True False  True]\n",
            "\n",
            "all : 모든 배열의 원소가 같은지 알고싶을 때 사용 - \n",
            "False\n",
            "True\n"
          ]
        }
      ]
    },
    {
      "cell_type": "markdown",
      "source": [
        "#### 벡터연산"
      ],
      "metadata": {
        "id": "T7ibwCDlf3pM"
      }
    },
    {
      "cell_type": "code",
      "source": [
        "ary = np.arange(10)\n",
        "ary * 100"
      ],
      "metadata": {
        "colab": {
          "base_uri": "https://localhost:8080/"
        },
        "id": "0svw1gUqffsd",
        "outputId": "6f6c07fa-eac6-448c-b264-16dc3307784d"
      },
      "execution_count": null,
      "outputs": [
        {
          "output_type": "execute_result",
          "data": {
            "text/plain": [
              "array([  0, 100, 200, 300, 400, 500, 600, 700, 800, 900])"
            ]
          },
          "metadata": {},
          "execution_count": 20
        }
      ]
    },
    {
      "cell_type": "markdown",
      "source": [
        "#### 행렬연산"
      ],
      "metadata": {
        "id": "ciM6Qb0Af_0N"
      }
    },
    {
      "cell_type": "code",
      "source": [
        "ary = np.arange(12).reshape(3, -1)\n",
        "ary * 100"
      ],
      "metadata": {
        "colab": {
          "base_uri": "https://localhost:8080/"
        },
        "id": "f2gKJoL3f-NM",
        "outputId": "cb466444-284c-444a-a9de-2b644cd37cf8"
      },
      "execution_count": null,
      "outputs": [
        {
          "output_type": "execute_result",
          "data": {
            "text/plain": [
              "array([[   0,  100,  200,  300],\n",
              "       [ 400,  500,  600,  700],\n",
              "       [ 800,  900, 1000, 1100]])"
            ]
          },
          "metadata": {},
          "execution_count": 22
        }
      ]
    },
    {
      "cell_type": "markdown",
      "source": [
        "#### 브로드 캐스팅\n",
        "- shape 이 다른 벡터와 행렬의 연산!"
      ],
      "metadata": {
        "id": "ag6ENqoMgJ-d"
      }
    },
    {
      "cell_type": "code",
      "source": [
        "X = np.arange(10)\n",
        "X"
      ],
      "metadata": {
        "colab": {
          "base_uri": "https://localhost:8080/"
        },
        "id": "olZNpGDngFvk",
        "outputId": "3e60b16e-7e80-4135-a698-4fdbb7fa3d91"
      },
      "execution_count": null,
      "outputs": [
        {
          "output_type": "execute_result",
          "data": {
            "text/plain": [
              "array([0, 1, 2, 3, 4, 5, 6, 7, 8, 9])"
            ]
          },
          "metadata": {},
          "execution_count": 23
        }
      ]
    },
    {
      "cell_type": "code",
      "source": [
        "# vetor & scalar 연산\n",
        "X + 1"
      ],
      "metadata": {
        "colab": {
          "base_uri": "https://localhost:8080/"
        },
        "id": "hHYzCURdgRPG",
        "outputId": "69440676-cbeb-404f-e97d-e90a9fbef340"
      },
      "execution_count": null,
      "outputs": [
        {
          "output_type": "execute_result",
          "data": {
            "text/plain": [
              "array([ 1,  2,  3,  4,  5,  6,  7,  8,  9, 10])"
            ]
          },
          "metadata": {},
          "execution_count": 24
        }
      ]
    },
    {
      "cell_type": "code",
      "source": [
        "X.reshape(-1, 5)"
      ],
      "metadata": {
        "colab": {
          "base_uri": "https://localhost:8080/"
        },
        "id": "LcriiG8ggSwV",
        "outputId": "6a23c502-566f-4b0b-a892-e19f43c9c976"
      },
      "execution_count": null,
      "outputs": [
        {
          "output_type": "execute_result",
          "data": {
            "text/plain": [
              "array([[0, 1, 2, 3, 4],\n",
              "       [5, 6, 7, 8, 9]])"
            ]
          },
          "metadata": {},
          "execution_count": 25
        }
      ]
    },
    {
      "cell_type": "code",
      "source": [
        "# matrix & scalar 연산\n",
        "X.reshape(-1, 5) + 1"
      ],
      "metadata": {
        "colab": {
          "base_uri": "https://localhost:8080/"
        },
        "id": "kZ0KKrBpiaS8",
        "outputId": "b84e8537-29d3-4f5b-bb63-d4ec9f23a121"
      },
      "execution_count": null,
      "outputs": [
        {
          "output_type": "execute_result",
          "data": {
            "text/plain": [
              "array([[ 1,  2,  3,  4,  5],\n",
              "       [ 6,  7,  8,  9, 10]])"
            ]
          },
          "metadata": {},
          "execution_count": 26
        }
      ]
    },
    {
      "cell_type": "markdown",
      "source": [
        "[실습] 아래 배열 만들어보기!\n",
        "```\n",
        "array([\n",
        "    [0,1,2],\n",
        "    [1,2,3],\n",
        "    [2,3,4],\n",
        "    [3,4,5],\n",
        "    [4,5,6] ])\n",
        "```\n",
        "hint : [ idx for idx in range(5) ]"
      ],
      "metadata": {
        "id": "nGly4bg3ilMx"
      }
    },
    {
      "cell_type": "code",
      "source": [
        "[ idx for idx in range(5) ]"
      ],
      "metadata": {
        "colab": {
          "base_uri": "https://localhost:8080/"
        },
        "id": "vUFo4r8nidbn",
        "outputId": "7f9e422f-2102-4bad-ac9b-d0585ae11e0d"
      },
      "execution_count": null,
      "outputs": [
        {
          "output_type": "execute_result",
          "data": {
            "text/plain": [
              "[0, 1, 2, 3, 4]"
            ]
          },
          "metadata": {},
          "execution_count": 27
        }
      ]
    },
    {
      "cell_type": "code",
      "source": [
        "[range(7)[idx : idx+3] for idx in range(5)]"
      ],
      "metadata": {
        "colab": {
          "base_uri": "https://localhost:8080/"
        },
        "id": "y9bXXdN_i3xC",
        "outputId": "ceba8067-f6a0-4f83-92fa-f7df75518142"
      },
      "execution_count": null,
      "outputs": [
        {
          "output_type": "execute_result",
          "data": {
            "text/plain": [
              "[range(0, 3), range(1, 4), range(2, 5), range(3, 6), range(4, 7)]"
            ]
          },
          "metadata": {},
          "execution_count": 29
        }
      ]
    },
    {
      "cell_type": "markdown",
      "source": [
        "- range 객체를 슬라이싱 할 수 있음\n",
        "- range 객체들을 리스트로 묶어서 vstack 으로 밑으로 붙여가면서 matrix를 만들게 되면 range object 의 값들이 펼쳐지면서 matrix 완성됨"
      ],
      "metadata": {
        "id": "BqRX2ajDjV4R"
      }
    },
    {
      "cell_type": "code",
      "source": [
        "X = np.vstack([range(7)[idx : idx+3] for idx in range(5)])\n",
        "aryInfo(X)"
      ],
      "metadata": {
        "colab": {
          "base_uri": "https://localhost:8080/"
        },
        "id": "z6PSI7zHjPGX",
        "outputId": "ff166bd4-553c-4b99-af23-dc657fe6b2ae"
      },
      "execution_count": null,
      "outputs": [
        {
          "output_type": "stream",
          "name": "stdout",
          "text": [
            "type -  <class 'numpy.ndarray'>\n",
            "shape -  (5, 3)\n",
            "dimension -  2\n",
            "dtype -  int64\n",
            "\n",
            "data - \n",
            " [[0 1 2]\n",
            " [1 2 3]\n",
            " [2 3 4]\n",
            " [3 4 5]\n",
            " [4 5 6]]\n"
          ]
        }
      ]
    },
    {
      "cell_type": "code",
      "source": [
        "y = np.arange(5).reshape(5, -1)\n",
        "y"
      ],
      "metadata": {
        "colab": {
          "base_uri": "https://localhost:8080/"
        },
        "id": "WrMv9Nn_jlRk",
        "outputId": "80730b88-29a7-4a72-a587-529dc6346839"
      },
      "execution_count": null,
      "outputs": [
        {
          "output_type": "execute_result",
          "data": {
            "text/plain": [
              "array([[0],\n",
              "       [1],\n",
              "       [2],\n",
              "       [3],\n",
              "       [4]])"
            ]
          },
          "metadata": {},
          "execution_count": 34
        }
      ]
    },
    {
      "cell_type": "code",
      "source": [
        "# 형태 다른 경우 연산\n",
        "X + y"
      ],
      "metadata": {
        "colab": {
          "base_uri": "https://localhost:8080/"
        },
        "id": "ClBQp4FAjtWk",
        "outputId": "3f41dc98-7fad-427e-f392-644472d3aa3e"
      },
      "execution_count": null,
      "outputs": [
        {
          "output_type": "execute_result",
          "data": {
            "text/plain": [
              "array([[ 0,  1,  2],\n",
              "       [ 2,  3,  4],\n",
              "       [ 4,  5,  6],\n",
              "       [ 6,  7,  8],\n",
              "       [ 8,  9, 10]])"
            ]
          },
          "metadata": {},
          "execution_count": 35
        }
      ]
    },
    {
      "cell_type": "markdown",
      "source": [
        "#### 차원축소 연산\n",
        "- min, max\n",
        "- argmin, argmax -> return index value \n",
        "- sum, mean, median, std, var\n",
        "- all, any"
      ],
      "metadata": {
        "id": "EuANmVDLj5BE"
      }
    },
    {
      "cell_type": "code",
      "source": [
        "X = np.array([1,2,3,4,5])\n",
        "print('vector value - ', X)"
      ],
      "metadata": {
        "colab": {
          "base_uri": "https://localhost:8080/"
        },
        "id": "xADu066Njvij",
        "outputId": "6a5ba120-8c51-4a4f-82cd-50603c6f2f53"
      },
      "execution_count": null,
      "outputs": [
        {
          "output_type": "stream",
          "name": "stdout",
          "text": [
            "vector value -  [1 2 3 4 5]\n"
          ]
        }
      ]
    },
    {
      "cell_type": "code",
      "source": [
        "print('sum')\n",
        "print('1. ', np.sum(X))\n",
        "print('2. ', X.sum())\n",
        "\n",
        "print('\\nmean')\n",
        "print('1. ', np.mean(X))\n",
        "print('2. ', X.mean())\n",
        "\n",
        "print('\\nmedian')\n",
        "print('1. ', np.median(X))\n",
        "# print('2. ', X.median())    -- AttributeError: 'numpy.ndarray' object has no attribute 'median'\n",
        "\n",
        "print('\\nmin')\n",
        "print('1. ', np.min(X))\n",
        "print('2. ', X.min())\n",
        "\n",
        "print('\\nmax')\n",
        "print('1. ', np.max(X))\n",
        "print('2. ', X.max())\n",
        "\n",
        "print('\\nargmin - index')   # min value 의 index number\n",
        "print('1. ', np.argmin(X))\n",
        "print('2. ', X.argmin())\n",
        "\n",
        "print('\\nargmax - index')\n",
        "print('1. ', np.argmax(X))\n",
        "print('2. ', X.argmax())\n",
        "\n",
        "print('\\nvar : 분산')\n",
        "print('1. ', np.var(X))\n",
        "print('2. ', X.var())\n",
        "\n",
        "print('\\nstd : 표준편차')\n",
        "print('1. ', np.std(X))\n",
        "print('2. ', X.std())\n",
        "\n",
        "print('\\nall : and')\n",
        "print('1. ', np.all([True, False, True]))\n",
        "print('2. ', np.all([True, True, True]))\n",
        "\n",
        "print('\\nany : or')\n",
        "print('1. ', np.any([True, False, True]))\n",
        "print('2. ', np.any([False, False, False]))"
      ],
      "metadata": {
        "colab": {
          "base_uri": "https://localhost:8080/"
        },
        "id": "63Oabg2DkcGs",
        "outputId": "2a724a5c-cc5c-4a1b-d29e-6a6ead8e70fa"
      },
      "execution_count": null,
      "outputs": [
        {
          "output_type": "stream",
          "name": "stdout",
          "text": [
            "sum\n",
            "1.  15\n",
            "2.  15\n",
            "\n",
            "mean\n",
            "1.  3.0\n",
            "2.  3.0\n",
            "\n",
            "median\n",
            "1.  3.0\n",
            "\n",
            "min\n",
            "1.  1\n",
            "2.  1\n",
            "\n",
            "max\n",
            "1.  5\n",
            "2.  5\n",
            "\n",
            "argmin - index\n",
            "1.  0\n",
            "2.  0\n",
            "\n",
            "argmax - index\n",
            "1.  4\n",
            "2.  4\n",
            "\n",
            "var : 분산\n",
            "1.  2.0\n",
            "2.  2.0\n",
            "\n",
            "std : 표준편차\n",
            "1.  1.4142135623730951\n",
            "2.  1.4142135623730951\n",
            "\n",
            "all : and\n",
            "1.  False\n",
            "2.  True\n",
            "\n",
            "any : or\n",
            "1.  True\n",
            "2.  False\n"
          ]
        }
      ]
    },
    {
      "cell_type": "code",
      "source": [
        "ary_zero = np.zeros((100, 100), dtype = 'i')\n",
        "ary_zero"
      ],
      "metadata": {
        "colab": {
          "base_uri": "https://localhost:8080/"
        },
        "id": "NNhSvUfskoMT",
        "outputId": "8ecb4335-e6d0-47dc-ae9e-4ed98f5ffc0b"
      },
      "execution_count": null,
      "outputs": [
        {
          "output_type": "execute_result",
          "data": {
            "text/plain": [
              "array([[0, 0, 0, ..., 0, 0, 0],\n",
              "       [0, 0, 0, ..., 0, 0, 0],\n",
              "       [0, 0, 0, ..., 0, 0, 0],\n",
              "       ...,\n",
              "       [0, 0, 0, ..., 0, 0, 0],\n",
              "       [0, 0, 0, ..., 0, 0, 0],\n",
              "       [0, 0, 0, ..., 0, 0, 0]], dtype=int32)"
            ]
          },
          "metadata": {},
          "execution_count": 61
        }
      ]
    },
    {
      "cell_type": "code",
      "source": [
        "np.any(ary_zero)  # 0 == False"
      ],
      "metadata": {
        "colab": {
          "base_uri": "https://localhost:8080/"
        },
        "id": "nKSnsJHUnEhU",
        "outputId": "43a5a145-f076-4231-d1ae-ab4d6a4e777e"
      },
      "execution_count": null,
      "outputs": [
        {
          "output_type": "execute_result",
          "data": {
            "text/plain": [
              "False"
            ]
          },
          "metadata": {},
          "execution_count": 62
        }
      ]
    },
    {
      "cell_type": "code",
      "source": [
        "np.any( ary_zero != 0)"
      ],
      "metadata": {
        "colab": {
          "base_uri": "https://localhost:8080/"
        },
        "id": "Vke5rBFWnINK",
        "outputId": "ddc08c82-32b9-4e08-e4a8-ac3138987056"
      },
      "execution_count": null,
      "outputs": [
        {
          "output_type": "execute_result",
          "data": {
            "text/plain": [
              "False"
            ]
          },
          "metadata": {},
          "execution_count": 63
        }
      ]
    },
    {
      "cell_type": "code",
      "source": [
        "np.all( ary_zero == ary_zero )"
      ],
      "metadata": {
        "colab": {
          "base_uri": "https://localhost:8080/"
        },
        "id": "fVQr9mdmnNXO",
        "outputId": "8bca5c2a-cc30-46d9-caea-34d7fde92278"
      },
      "execution_count": null,
      "outputs": [
        {
          "output_type": "execute_result",
          "data": {
            "text/plain": [
              "True"
            ]
          },
          "metadata": {},
          "execution_count": 64
        }
      ]
    },
    {
      "cell_type": "markdown",
      "source": [
        "#### 만약 연산의 대상이 2차원 행렬이라면?\n",
        "- 축의 방향을 설정해야 한다!\n",
        "> axis = 0 : 열 방향\n",
        "> axis = 1 : 행 방향\n",
        "- 축의 방향을 설정하지 않으면 vector와 같은 결과가 나오게 된다."
      ],
      "metadata": {
        "id": "E-QjOsS_niyL"
      }
    },
    {
      "cell_type": "code",
      "source": [
        "ary = np.arange(1, 21, 1).reshape(4, -1)\n",
        "ary"
      ],
      "metadata": {
        "colab": {
          "base_uri": "https://localhost:8080/"
        },
        "id": "sarwqZ2qnRMb",
        "outputId": "eeed1b51-54fc-42af-a3a1-d01d2169b866"
      },
      "execution_count": null,
      "outputs": [
        {
          "output_type": "execute_result",
          "data": {
            "text/plain": [
              "array([[ 1,  2,  3,  4,  5],\n",
              "       [ 6,  7,  8,  9, 10],\n",
              "       [11, 12, 13, 14, 15],\n",
              "       [16, 17, 18, 19, 20]])"
            ]
          },
          "metadata": {},
          "execution_count": 65
        }
      ]
    },
    {
      "cell_type": "code",
      "source": [
        "print('matrix sum() ')\n",
        "print(np.sum(ary))  # 요소 전체 sum > 축 방향 설정!\n",
        "print(np.sum(ary, axis = 0))  # 열 방향\n",
        "print(np.sum(ary, axis = 1))  # 행 방향\n",
        "print(ary.sum(axis = 1))      # numpy.ndarray 의 속성 이용 (axis=1 : 열 방향 동일)"
      ],
      "metadata": {
        "colab": {
          "base_uri": "https://localhost:8080/"
        },
        "id": "hYDxPg0cn9NL",
        "outputId": "f9cd556b-8b16-4788-abb6-3d4417d156a4"
      },
      "execution_count": null,
      "outputs": [
        {
          "output_type": "stream",
          "name": "stdout",
          "text": [
            "matrix sum() \n",
            "210\n",
            "[34 38 42 46 50]\n",
            "[15 40 65 90]\n",
            "[15 40 65 90]\n"
          ]
        }
      ]
    },
    {
      "cell_type": "code",
      "source": [
        "print('argmin - index')\n",
        "print('matrix argmin - ', np.argmin(ary, axis = 0)) # 열 방향으로 최소값의 index 번지 return\n",
        "print('matrix argmin - ', np.argmin(ary, axis = 1)) # 행 방향으로 최소값 index"
      ],
      "metadata": {
        "id": "WK89NQnkovOK",
        "colab": {
          "base_uri": "https://localhost:8080/"
        },
        "outputId": "7c23973a-113e-40ce-8a5e-b9efc615bd44"
      },
      "execution_count": null,
      "outputs": [
        {
          "output_type": "stream",
          "name": "stdout",
          "text": [
            "argmin - index\n",
            "matrix argmin -  [0 0 0 0 0]\n",
            "matrix argmin -  [0 0 0 0]\n"
          ]
        }
      ]
    },
    {
      "cell_type": "code",
      "source": [
        "print('argmax - index')\n",
        "print('matrix argmax - ', np.argmax(ary, axis = 0)) # 열 방향 max value index\n",
        "print('matrix argmax - ', np.argmax(ary, axis = 1)) # 행 방향 max value index"
      ],
      "metadata": {
        "colab": {
          "base_uri": "https://localhost:8080/"
        },
        "id": "0nJDmMW1qFuN",
        "outputId": "d24a8a4d-eb82-4b2a-b8fd-98fd349b0102"
      },
      "execution_count": null,
      "outputs": [
        {
          "output_type": "stream",
          "name": "stdout",
          "text": [
            "argmax - index\n",
            "matrix argmax -  [3 3 3 3 3]\n",
            "matrix argmax -  [4 4 4 4]\n"
          ]
        }
      ]
    },
    {
      "cell_type": "markdown",
      "source": [
        "실습"
      ],
      "metadata": {
        "id": "h998Pqyouh4Y"
      }
    },
    {
      "cell_type": "code",
      "source": [
        "ary = np.random.randint(0, 100000000, (5,6))\n",
        "ary"
      ],
      "metadata": {
        "colab": {
          "base_uri": "https://localhost:8080/"
        },
        "id": "2_eOIM4Lqfph",
        "outputId": "3c787e1a-2556-4b11-a094-8ceb60537492"
      },
      "execution_count": null,
      "outputs": [
        {
          "output_type": "execute_result",
          "data": {
            "text/plain": [
              "array([[18109174, 54004412, 81391112, 36726120, 56098897, 79081512],\n",
              "       [85088085, 45778619, 59872338,  9453348, 26393041, 10289615],\n",
              "       [34716513, 79884776, 47207300, 41878503, 19911876, 10382075],\n",
              "       [77725924, 25292523, 91117027, 71843250,  8707190, 22060374],\n",
              "       [96677621, 73520820, 84394821, 56855634, 72466966, 52850383]])"
            ]
          },
          "metadata": {},
          "execution_count": 77
        }
      ]
    },
    {
      "cell_type": "markdown",
      "source": [
        "위의 데이터를 이용하여 전체의 최대값, 각 행의 합, 각 행의 최대값, 각 열의 평균, 각 열의 최소값을 구해본다면?"
      ],
      "metadata": {
        "id": "88coSkt5uqv-"
      }
    },
    {
      "cell_type": "code",
      "source": [
        "print('1. 전체의 최대값 - ', ary.max())"
      ],
      "metadata": {
        "colab": {
          "base_uri": "https://localhost:8080/"
        },
        "id": "FXsqStMCuncU",
        "outputId": "078dd019-0399-4edd-e134-7005668cbe93"
      },
      "execution_count": null,
      "outputs": [
        {
          "output_type": "stream",
          "name": "stdout",
          "text": [
            "1. 전체의 최대값 -  96677621\n"
          ]
        }
      ]
    },
    {
      "cell_type": "code",
      "source": [
        "print('각 행의 합')\n",
        "print('1. ', np.sum(ary, axis = 1))\n",
        "print('2. ', np.hstack([ary[idx].sum() for idx in range(ary.shape[0])]))"
      ],
      "metadata": {
        "colab": {
          "base_uri": "https://localhost:8080/"
        },
        "id": "7oMUR3CAu0Rq",
        "outputId": "7cda1dae-4659-4fba-aa6a-191e859a3ff4"
      },
      "execution_count": null,
      "outputs": [
        {
          "output_type": "stream",
          "name": "stdout",
          "text": [
            "각 행의 합\n",
            "1.  [325411227 236875046 233981043 296746288 436766245]\n",
            "2.  [325411227 236875046 233981043 296746288 436766245]\n"
          ]
        }
      ]
    },
    {
      "cell_type": "code",
      "source": [
        "print('각 행의 최대값')\n",
        "print('1. ', np.max(ary, axis=1))\n",
        "print('2. ', np.hstack([ary[idx].max() for idx in range(ary.shape[0])]))"
      ],
      "metadata": {
        "colab": {
          "base_uri": "https://localhost:8080/"
        },
        "id": "Q3Cs0SLBu9ex",
        "outputId": "859456d9-6f10-4241-cf69-a442193aac92"
      },
      "execution_count": null,
      "outputs": [
        {
          "output_type": "stream",
          "name": "stdout",
          "text": [
            "각 행의 최대값\n",
            "1.  [81391112 85088085 79884776 91117027 96677621]\n",
            "2.  [81391112 85088085 79884776 91117027 96677621]\n"
          ]
        }
      ]
    },
    {
      "cell_type": "code",
      "source": [
        "print('각 열의 평균')\n",
        "print('1. ', np.mean(ary, axis = 0))\n",
        "print('2. ', np.hstack([ary[:, idx].mean() for idx in range(ary.shape[1])]))"
      ],
      "metadata": {
        "colab": {
          "base_uri": "https://localhost:8080/"
        },
        "id": "DVXzBAgVvIzy",
        "outputId": "832bc49d-50f0-4a5e-81b2-6c8945264c36"
      },
      "execution_count": null,
      "outputs": [
        {
          "output_type": "stream",
          "name": "stdout",
          "text": [
            "각 열의 평균\n",
            "1.  [62463463.4 55696230.  72796519.6 43351371.  36715594.  34932791.8]\n",
            "2.  [62463463.4 55696230.  72796519.6 43351371.  36715594.  34932791.8]\n"
          ]
        }
      ]
    },
    {
      "cell_type": "code",
      "source": [
        "print('각 열의 최소값')\n",
        "print('1. ', np.min(ary, axis=0))\n",
        "print('2. ', np.hstack([ary[:, idx].min() for idx in range(ary.shape[1])]))"
      ],
      "metadata": {
        "colab": {
          "base_uri": "https://localhost:8080/"
        },
        "id": "9wvgLDm6vgzR",
        "outputId": "a6565996-eaa9-4bee-d206-da9b77be7ee9"
      },
      "execution_count": null,
      "outputs": [
        {
          "output_type": "stream",
          "name": "stdout",
          "text": [
            "각 열의 최소값\n",
            "1.  [18109174 25292523 47207300  9453348  8707190 10289615]\n",
            "2.  [18109174 25292523 47207300  9453348  8707190 10289615]\n"
          ]
        }
      ]
    },
    {
      "cell_type": "markdown",
      "source": [
        "### 정렬(sort)\n",
        "- 행 : 1 / 열 : 0\n",
        "- np.sort(ary) -> inplace = False (내부적으로는 sort X)\n",
        "- ary.sort() -> inplace = True\n",
        "- 오름차순이 기본! 내림차순은 지원되지 않음"
      ],
      "metadata": {
        "id": "ncPrBqTpwgIq"
      }
    },
    {
      "cell_type": "code",
      "source": [
        "ary = np.arange(10)\n",
        "ary"
      ],
      "metadata": {
        "colab": {
          "base_uri": "https://localhost:8080/"
        },
        "id": "Tg09TnHLwTF5",
        "outputId": "cbdde6c7-5fca-449e-9c8d-8bcea257eb10"
      },
      "execution_count": null,
      "outputs": [
        {
          "output_type": "execute_result",
          "data": {
            "text/plain": [
              "array([0, 1, 2, 3, 4, 5, 6, 7, 8, 9])"
            ]
          },
          "metadata": {},
          "execution_count": 94
        }
      ]
    },
    {
      "cell_type": "code",
      "source": [
        "# np.random 이 갖고있는 shuffle 해주는 속성! > 값들이 random하게 섞임\n",
        "np.random.shuffle(ary)\n",
        "ary"
      ],
      "metadata": {
        "colab": {
          "base_uri": "https://localhost:8080/"
        },
        "id": "gclxzn1TwxeR",
        "outputId": "74356c6e-8cb9-41a7-db5d-ad5aed1edffe"
      },
      "execution_count": null,
      "outputs": [
        {
          "output_type": "execute_result",
          "data": {
            "text/plain": [
              "array([3, 6, 4, 1, 2, 0, 9, 7, 8, 5])"
            ]
          },
          "metadata": {},
          "execution_count": 99
        }
      ]
    },
    {
      "cell_type": "markdown",
      "source": [
        "method 1 => inplace = True"
      ],
      "metadata": {
        "id": "7SYEr_dKw-S2"
      }
    },
    {
      "cell_type": "code",
      "source": [
        "ary.sort()\n",
        "ary"
      ],
      "metadata": {
        "colab": {
          "base_uri": "https://localhost:8080/"
        },
        "id": "6gu5hznTw2mC",
        "outputId": "6a0cd2c3-e3f4-4dd1-c00d-b55cdb3387b5"
      },
      "execution_count": null,
      "outputs": [
        {
          "output_type": "execute_result",
          "data": {
            "text/plain": [
              "array([0, 1, 2, 3, 4, 5, 6, 7, 8, 9])"
            ]
          },
          "metadata": {},
          "execution_count": 96
        }
      ]
    },
    {
      "cell_type": "markdown",
      "source": [
        "method 2 => inplace = False"
      ],
      "metadata": {
        "id": "lJokn2eexFCI"
      }
    },
    {
      "cell_type": "code",
      "source": [
        "np.sort(ary)"
      ],
      "metadata": {
        "colab": {
          "base_uri": "https://localhost:8080/"
        },
        "id": "NqSeHlkKxBHK",
        "outputId": "8c4a87e8-e73b-49a5-abbd-4d93e186ed2f"
      },
      "execution_count": null,
      "outputs": [
        {
          "output_type": "execute_result",
          "data": {
            "text/plain": [
              "array([0, 1, 2, 3, 4, 5, 6, 7, 8, 9])"
            ]
          },
          "metadata": {},
          "execution_count": 97
        }
      ]
    },
    {
      "cell_type": "code",
      "source": [
        "ary"
      ],
      "metadata": {
        "colab": {
          "base_uri": "https://localhost:8080/"
        },
        "id": "ttqK7YaqxIgf",
        "outputId": "95d54359-b5b0-4e5d-abaa-9788ef1fb0d1"
      },
      "execution_count": null,
      "outputs": [
        {
          "output_type": "execute_result",
          "data": {
            "text/plain": [
              "array([3, 6, 4, 1, 2, 0, 9, 7, 8, 5])"
            ]
          },
          "metadata": {},
          "execution_count": 100
        }
      ]
    },
    {
      "cell_type": "markdown",
      "source": [
        "내림차순으로 하려면? (desc)"
      ],
      "metadata": {
        "id": "gDdJbHowxTZG"
      }
    },
    {
      "cell_type": "code",
      "source": [
        "ary.sort()\n",
        "ary = ary[::-1]\n",
        "ary"
      ],
      "metadata": {
        "colab": {
          "base_uri": "https://localhost:8080/"
        },
        "id": "w4fqZRMlxKbp",
        "outputId": "a871e423-f514-4e4b-c70a-c0f9ae3ad113"
      },
      "execution_count": null,
      "outputs": [
        {
          "output_type": "execute_result",
          "data": {
            "text/plain": [
              "array([9, 8, 7, 6, 5, 4, 3, 2, 1, 0])"
            ]
          },
          "metadata": {},
          "execution_count": 103
        }
      ]
    },
    {
      "cell_type": "markdown",
      "source": [
        "#### matrix sort"
      ],
      "metadata": {
        "id": "LJT7JnufxoM3"
      }
    },
    {
      "cell_type": "code",
      "source": [
        "ary = np.random.randint(0, 17, (4, 4))\n",
        "ary"
      ],
      "metadata": {
        "colab": {
          "base_uri": "https://localhost:8080/"
        },
        "id": "I7ntNAykxgWq",
        "outputId": "1d84faa2-24f2-4d0c-8ddd-5f156fb7600f"
      },
      "execution_count": null,
      "outputs": [
        {
          "output_type": "execute_result",
          "data": {
            "text/plain": [
              "array([[ 6, 16,  2,  0],\n",
              "       [ 3, 10, 16, 13],\n",
              "       [ 8,  4,  3,  4],\n",
              "       [ 3, 15,  0, 13]])"
            ]
          },
          "metadata": {},
          "execution_count": 118
        }
      ]
    },
    {
      "cell_type": "markdown",
      "source": [
        "행 정렬 > axis = 1"
      ],
      "metadata": {
        "id": "4iAmcbsryDoa"
      }
    },
    {
      "cell_type": "code",
      "source": [
        "print( np.sort(ary, axis = 1))\n",
        "ary                               # inplace = False"
      ],
      "metadata": {
        "colab": {
          "base_uri": "https://localhost:8080/"
        },
        "id": "9CKBmyPrxz7y",
        "outputId": "7f278afe-d060-4484-8155-ca890b621ab2"
      },
      "execution_count": null,
      "outputs": [
        {
          "output_type": "stream",
          "name": "stdout",
          "text": [
            "[[ 0  2  6 16]\n",
            " [ 3 10 13 16]\n",
            " [ 3  4  4  8]\n",
            " [ 0  3 13 15]]\n"
          ]
        },
        {
          "output_type": "execute_result",
          "data": {
            "text/plain": [
              "array([[ 6, 16,  2,  0],\n",
              "       [ 3, 10, 16, 13],\n",
              "       [ 8,  4,  3,  4],\n",
              "       [ 3, 15,  0, 13]])"
            ]
          },
          "metadata": {},
          "execution_count": 120
        }
      ]
    },
    {
      "cell_type": "markdown",
      "source": [
        "열 정렬 > axis = 0"
      ],
      "metadata": {
        "id": "i46mUGtdycWi"
      }
    },
    {
      "cell_type": "code",
      "source": [
        "print( np.sort(ary, axis = 0 ))\n",
        "ary"
      ],
      "metadata": {
        "colab": {
          "base_uri": "https://localhost:8080/"
        },
        "id": "cwXraGqAyJpR",
        "outputId": "e39cff31-a7e4-48b6-c251-6212b3a36ee2"
      },
      "execution_count": null,
      "outputs": [
        {
          "output_type": "stream",
          "name": "stdout",
          "text": [
            "[[ 3  4  0  0]\n",
            " [ 3 10  2  4]\n",
            " [ 6 15  3 13]\n",
            " [ 8 16 16 13]]\n"
          ]
        },
        {
          "output_type": "execute_result",
          "data": {
            "text/plain": [
              "array([[ 6, 16,  2,  0],\n",
              "       [ 3, 10, 16, 13],\n",
              "       [ 8,  4,  3,  4],\n",
              "       [ 3, 15,  0, 13]])"
            ]
          },
          "metadata": {},
          "execution_count": 122
        }
      ]
    },
    {
      "cell_type": "markdown",
      "source": [
        "inplace = True"
      ],
      "metadata": {
        "id": "QUVLNGuuynb1"
      }
    },
    {
      "cell_type": "code",
      "source": [
        "ary.sort(axis=1)\n",
        "ary"
      ],
      "metadata": {
        "colab": {
          "base_uri": "https://localhost:8080/"
        },
        "id": "3L_Y7M2Lyg4Z",
        "outputId": "98a06148-5b0f-4a30-b33c-1c9853ebe5a7"
      },
      "execution_count": null,
      "outputs": [
        {
          "output_type": "execute_result",
          "data": {
            "text/plain": [
              "array([[ 0,  2,  6, 16],\n",
              "       [ 3, 10, 13, 16],\n",
              "       [ 3,  4,  4,  8],\n",
              "       [ 0,  3, 13, 15]])"
            ]
          },
          "metadata": {},
          "execution_count": 123
        }
      ]
    },
    {
      "cell_type": "markdown",
      "source": [
        "#### index sort (argsort)\n",
        "- sort 전 값들의 index number 가 sort 되면서 있게 되는 value 들의 위치에 가게 됨\n",
        "- 1차원 vector : sorted value 의 index number 출력"
      ],
      "metadata": {
        "id": "U2popiLVy43h"
      }
    },
    {
      "cell_type": "code",
      "source": [
        "ary = np.array([4,3,5,7])\n",
        "ary"
      ],
      "metadata": {
        "colab": {
          "base_uri": "https://localhost:8080/"
        },
        "id": "m5fUObqhyxVQ",
        "outputId": "1b4ac9ff-b3a5-4306-c024-e88f375689d8"
      },
      "execution_count": null,
      "outputs": [
        {
          "output_type": "execute_result",
          "data": {
            "text/plain": [
              "array([4, 3, 5, 7])"
            ]
          },
          "metadata": {},
          "execution_count": 125
        }
      ]
    },
    {
      "cell_type": "code",
      "source": [
        "print('정렬된 인덱스를 필요로 한다면? - ')\n",
        "idx = np.argsort(ary)        # 정렬 전의 value 들을 기준으로 index number 할당\n",
        "print('index - ', idx)       # sorted value 의 index 가 출력\n",
        "print('data  - ',ary[idx])   # idx array 에 의한 ary 요소값 출력"
      ],
      "metadata": {
        "colab": {
          "base_uri": "https://localhost:8080/"
        },
        "id": "w61ui3idy9_5",
        "outputId": "d391a8f0-c935-445c-cb9a-37bfa5a9ac98"
      },
      "execution_count": null,
      "outputs": [
        {
          "output_type": "stream",
          "name": "stdout",
          "text": [
            "정렬된 인덱스를 필요로 한다면? - \n",
            "index -  [1 0 2 3]\n",
            "data  -  [3 4 5 7]\n"
          ]
        }
      ]
    },
    {
      "cell_type": "markdown",
      "source": [
        "- matrix sort : 정렬하기 전의 인덱스 값을 출력"
      ],
      "metadata": {
        "id": "XtLLeZtC0flq"
      }
    },
    {
      "cell_type": "code",
      "source": [
        "ary = np.random.randint(0, 17, (4, 4))\n",
        "aryInfo(ary)"
      ],
      "metadata": {
        "colab": {
          "base_uri": "https://localhost:8080/"
        },
        "id": "ZHMCWisszHl3",
        "outputId": "812df38a-b7fe-4578-90c1-6d5617d7e8cc"
      },
      "execution_count": null,
      "outputs": [
        {
          "output_type": "stream",
          "name": "stdout",
          "text": [
            "type -  <class 'numpy.ndarray'>\n",
            "shape -  (4, 4)\n",
            "dimension -  2\n",
            "dtype -  int64\n",
            "\n",
            "data - \n",
            " [[14 14 12  9]\n",
            " [13 14  2 14]\n",
            " [ 2  9  4 14]\n",
            " [10  1 13 14]]\n"
          ]
        }
      ]
    },
    {
      "cell_type": "code",
      "source": [
        "print('정렬 전 index 값 출력')\n",
        "print(ary[0])\n",
        "print(ary[0].argsort())\n",
        "print(ary[0][ary[0].argsort()])"
      ],
      "metadata": {
        "colab": {
          "base_uri": "https://localhost:8080/"
        },
        "id": "u-rRVviG0lKJ",
        "outputId": "3bbd9cb6-7937-4d89-9d83-9e59b9c03982"
      },
      "execution_count": null,
      "outputs": [
        {
          "output_type": "stream",
          "name": "stdout",
          "text": [
            "정렬 전 index 값 출력\n",
            "[14 14 12  9]\n",
            "[3 2 0 1]\n",
            "[ 9 12 14 14]\n"
          ]
        }
      ]
    },
    {
      "cell_type": "code",
      "source": [
        "ary = np.array([15,6,9,16])\n",
        "idx = np.argsort(ary)\n",
        "print(idx)\n",
        "print(ary[idx])"
      ],
      "metadata": {
        "id": "OiZ7Gca30tRg",
        "colab": {
          "base_uri": "https://localhost:8080/"
        },
        "outputId": "4ce2f48c-abed-4bb9-9747-d1c389d1d7ec"
      },
      "execution_count": null,
      "outputs": [
        {
          "output_type": "stream",
          "name": "stdout",
          "text": [
            "[1 2 0 3]\n",
            "[ 6  9 15 16]\n"
          ]
        }
      ]
    },
    {
      "cell_type": "code",
      "source": [
        "ary1 = np.random.randint(0, 17, (4, 4))\n",
        "aryInfo(ary1)"
      ],
      "metadata": {
        "colab": {
          "base_uri": "https://localhost:8080/"
        },
        "id": "0HROd9yv37N6",
        "outputId": "f46656db-71df-43ec-8152-34f2bd204a61"
      },
      "execution_count": null,
      "outputs": [
        {
          "output_type": "stream",
          "name": "stdout",
          "text": [
            "type -  <class 'numpy.ndarray'>\n",
            "shape -  (4, 4)\n",
            "dimension -  2\n",
            "dtype -  int64\n",
            "\n",
            "data - \n",
            " [[15  6  9 16]\n",
            " [ 9  0  0  4]\n",
            " [ 9  8 13  0]\n",
            " [14 13  6 16]]\n"
          ]
        }
      ]
    },
    {
      "cell_type": "code",
      "source": [
        "print(ary1[0])\n",
        "print(ary1[0].argsort())\n",
        "print(ary1[0][ary1[0].argsort()])"
      ],
      "metadata": {
        "colab": {
          "base_uri": "https://localhost:8080/"
        },
        "id": "_4P1dAIA4JGX",
        "outputId": "1da519e9-b96a-4d01-fa64-11f3c9cdf57e"
      },
      "execution_count": null,
      "outputs": [
        {
          "output_type": "stream",
          "name": "stdout",
          "text": [
            "[15  6  9 16]\n",
            "[1 2 0 3]\n",
            "[ 6  9 15 16]\n"
          ]
        }
      ]
    },
    {
      "cell_type": "markdown",
      "source": [
        "### row 또는 col 추가하는 방법\n",
        "- concatenate(, axis = )\n",
        "- axis = 0 : row 추가\n",
        "- axis = 1 : col 추가\n",
        "- 합치려는 두 array 의 dimension 이 같아야 가능! dimension 1 > 2 로 reshape 해줘야 한다."
      ],
      "metadata": {
        "id": "Ss-WqzWR7yK5"
      }
    },
    {
      "cell_type": "code",
      "source": [
        "ary = np.array([[1,2,3], [4,5,6]])\n",
        "aryInfo(ary)"
      ],
      "metadata": {
        "colab": {
          "base_uri": "https://localhost:8080/"
        },
        "id": "8OxCKrUJ7aOw",
        "outputId": "3e2c9c03-e8c7-4d26-c7e6-f9a8f0409399"
      },
      "execution_count": null,
      "outputs": [
        {
          "output_type": "stream",
          "name": "stdout",
          "text": [
            "type -  <class 'numpy.ndarray'>\n",
            "shape -  (2, 3)\n",
            "dimension -  2\n",
            "dtype -  int64\n",
            "\n",
            "data - \n",
            " [[1 2 3]\n",
            " [4 5 6]]\n"
          ]
        }
      ]
    },
    {
      "cell_type": "code",
      "source": [
        "ary_row = np.array([7,8,9])\n",
        "aryInfo(ary_row)"
      ],
      "metadata": {
        "colab": {
          "base_uri": "https://localhost:8080/"
        },
        "id": "KDT8-aUy9AC9",
        "outputId": "f4c332a2-73f9-4ae7-ba16-8d49b9b67731"
      },
      "execution_count": null,
      "outputs": [
        {
          "output_type": "stream",
          "name": "stdout",
          "text": [
            "type -  <class 'numpy.ndarray'>\n",
            "shape -  (3,)\n",
            "dimension -  1\n",
            "dtype -  int64\n",
            "\n",
            "data - \n",
            " [7 8 9]\n"
          ]
        }
      ]
    },
    {
      "cell_type": "code",
      "source": [
        "# concatenate : 합치려는 두 array 의 dimension 이 같아야 가능! dimension 1 > 2 로 reshape 해줘야 한다.\n",
        "\n",
        "ary_new = np.concatenate( (ary, ary_row.reshape(-1,ary.shape[1])), axis = 0)\n",
        "ary_new"
      ],
      "metadata": {
        "colab": {
          "base_uri": "https://localhost:8080/"
        },
        "id": "3Zg3d91T9FIf",
        "outputId": "91860f3e-3be6-4dca-9f9c-70569974c4ac"
      },
      "execution_count": null,
      "outputs": [
        {
          "output_type": "execute_result",
          "data": {
            "text/plain": [
              "array([[1, 2, 3],\n",
              "       [4, 5, 6],\n",
              "       [7, 8, 9]])"
            ]
          },
          "metadata": {},
          "execution_count": 150
        }
      ]
    },
    {
      "cell_type": "code",
      "source": [
        "ary_col = np.array([7,8,9,10])\n",
        "ary_col"
      ],
      "metadata": {
        "colab": {
          "base_uri": "https://localhost:8080/"
        },
        "id": "_yfs0cHs9SDn",
        "outputId": "08aa0ed1-e903-4f50-e473-e11da8c5f266"
      },
      "execution_count": null,
      "outputs": [
        {
          "output_type": "execute_result",
          "data": {
            "text/plain": [
              "array([ 7,  8,  9, 10])"
            ]
          },
          "metadata": {},
          "execution_count": 151
        }
      ]
    },
    {
      "cell_type": "code",
      "source": [
        "ary_new = np.concatenate( (ary, ary_col.reshape(ary.shape[0], -1)), axis = 1)\n",
        "ary_new"
      ],
      "metadata": {
        "colab": {
          "base_uri": "https://localhost:8080/"
        },
        "id": "X14YQRcq9lfH",
        "outputId": "18dbf02f-7959-4bda-f942-004320c05212"
      },
      "execution_count": null,
      "outputs": [
        {
          "output_type": "execute_result",
          "data": {
            "text/plain": [
              "array([[ 1,  2,  3,  7,  8],\n",
              "       [ 4,  5,  6,  9, 10]])"
            ]
          },
          "metadata": {},
          "execution_count": 153
        }
      ]
    },
    {
      "cell_type": "markdown",
      "source": [
        "#### 실습\n",
        "200개의 표준정규분포 샘플을 만들어서 내림차순으로 상위 5%까지만 출력한다면?"
      ],
      "metadata": {
        "id": "IJsEgyK_-CGl"
      }
    },
    {
      "cell_type": "code",
      "source": [
        "ary = np.random.randn(200)\n",
        "aryInfo(ary)"
      ],
      "metadata": {
        "colab": {
          "base_uri": "https://localhost:8080/"
        },
        "id": "PL7FfJZm906B",
        "outputId": "2a5d7e86-3183-4d72-851e-7db85fea04b9"
      },
      "execution_count": null,
      "outputs": [
        {
          "output_type": "stream",
          "name": "stdout",
          "text": [
            "type -  <class 'numpy.ndarray'>\n",
            "shape -  (200,)\n",
            "dimension -  1\n",
            "dtype -  float64\n",
            "\n",
            "data - \n",
            " [-0.89242336  1.65642203 -0.22781666 -0.19276654  1.0366112  -1.1999934\n",
            "  1.58498746  1.53535612 -0.06007468  0.41695986 -0.43954411 -1.8053027\n",
            " -1.86258937 -1.64012451  0.63385214  2.00336855  0.68949002 -2.11529222\n",
            "  0.68264435  0.72264412  0.49621724 -0.010444   -0.32574117 -0.53074055\n",
            "  1.91275132  0.34055522  1.50323134 -1.10472636  0.46817306  0.34971287\n",
            " -0.34788128  1.9338994  -0.64766706 -1.57438229 -1.13710159 -1.24584575\n",
            " -0.15429297 -1.0721731  -0.68803354  1.10542361  0.24625646 -0.39768469\n",
            "  1.59218228 -0.09730269 -0.72443487 -0.98990095 -0.30905193 -0.3585736\n",
            "  0.98874465 -0.07504058  2.38778762  2.634938    0.8386653  -1.91019735\n",
            " -0.37129612  1.78525272  2.64668731 -0.82222068 -0.8352295   0.09815946\n",
            " -0.12576463 -0.96079763  0.48274541  0.8957902   0.84284111  0.58364499\n",
            "  0.86273619 -0.32519854 -0.82900492  2.61969921 -1.03150046  0.04959035\n",
            " -0.31486318  0.02474702  3.2132987  -0.6058775  -0.15137841 -0.09652926\n",
            " -0.53941098  0.39251937 -0.06438688  0.96842688  0.76151764  2.26691917\n",
            " -1.12769098  1.07937137  0.98340898 -1.43292454 -0.39226551  0.79782411\n",
            "  0.63307376 -0.60588104  0.22271518  0.21965022 -1.81222124  0.61974319\n",
            "  1.4739582  -0.39369853 -1.60448112 -1.14496725  1.1446673  -0.4605988\n",
            "  0.03049197  1.78677879 -1.78360627  0.30832321 -0.69085076  1.29715019\n",
            "  1.06872058  0.8337071  -0.7055558  -0.9441146   0.49105325 -0.21099263\n",
            " -0.76526841 -0.66352544 -0.87860585 -1.01597436 -0.32558295  0.79820114\n",
            "  0.94290641 -0.61396679  1.37438539  0.55387794  0.77100982  1.70810175\n",
            "  0.40163889 -0.14285979  1.26663302 -1.73374053  1.25540178  0.85659801\n",
            " -0.15544151  0.11780675 -0.27091085  0.16357373  1.03077792  1.19596646\n",
            "  1.2662529   0.66790922  0.06426158  0.58782392 -0.25976292 -0.80959225\n",
            " -0.99533712  0.94726056  0.95792435  0.30536835 -0.96333145 -1.15159095\n",
            "  0.28244923  0.54645234 -0.97187564 -0.66163917  0.06812382  0.2666574\n",
            " -0.35645808 -0.2812191  -0.17423462  0.78713337 -1.40315621  1.1964461\n",
            " -0.2256486  -0.25094123  1.66080835 -0.87073182 -1.26014268 -1.28898488\n",
            " -0.86503279 -1.3469541  -1.25727208 -0.1550435  -0.32137866 -0.61935493\n",
            "  1.08581385  0.0766315   0.10691243 -0.42342543 -0.59447693  0.32288171\n",
            "  2.63265287 -0.13616446 -0.5970215   0.33890285  0.53341817  1.48222626\n",
            "  0.47674219  2.61183141 -2.07788379 -0.54521561  0.41896382 -0.43609668\n",
            " -0.53602536  0.63566706  0.28050719 -0.40611196 -0.41414063  1.18822996\n",
            "  1.34560393  0.81353337]\n"
          ]
        }
      ]
    },
    {
      "cell_type": "code",
      "source": [
        "type(len(ary) * 0.05)\n",
        "# slicing 을 위해서는 정수형으로 바꿔줘야 함 > casting"
      ],
      "metadata": {
        "colab": {
          "base_uri": "https://localhost:8080/"
        },
        "id": "FJyX7JI--MHn",
        "outputId": "b3dacbf6-c627-4cf3-997d-b4b984ace1ce"
      },
      "execution_count": null,
      "outputs": [
        {
          "output_type": "execute_result",
          "data": {
            "text/plain": [
              "float"
            ]
          },
          "metadata": {},
          "execution_count": 160
        }
      ]
    },
    {
      "cell_type": "code",
      "source": [
        "answer = np.sort(ary)[::-1][:int(len(ary) * 0.05)]\n",
        "answer"
      ],
      "metadata": {
        "colab": {
          "base_uri": "https://localhost:8080/"
        },
        "id": "qG-yV2A6-j8x",
        "outputId": "069ee461-274c-468c-aada-fd4820801d23"
      },
      "execution_count": null,
      "outputs": [
        {
          "output_type": "execute_result",
          "data": {
            "text/plain": [
              "array([3.2132987 , 2.64668731, 2.634938  , 2.63265287, 2.61969921,\n",
              "       2.61183141, 2.38778762, 2.26691917, 2.00336855, 1.9338994 ])"
            ]
          },
          "metadata": {},
          "execution_count": 161
        }
      ]
    },
    {
      "cell_type": "markdown",
      "source": [
        "### 기술 통계 함수\n",
        "- 데이터 개수 : len\n",
        "- 평균 == 표본평균(통계) : mean\n",
        "- 분산 == 표본분산(통계) : var (편차 제곱의 평균)\n",
        "- 표준편차(편차) : std\n",
        "- 최대값 : max\n",
        "- 최소값 : min\n",
        "- 중앙값 : median\n",
        "- 사분위수 : percentile"
      ],
      "metadata": {
        "id": "HycOBnWGLhoQ"
      }
    },
    {
      "cell_type": "code",
      "source": [
        "ary = np.random.randint(-10, 20, 20)\n",
        "aryInfo(ary)"
      ],
      "metadata": {
        "id": "pLiQqWnz-1lq",
        "colab": {
          "base_uri": "https://localhost:8080/"
        },
        "outputId": "9846bb4b-7b60-4e2a-d867-549d7eb64dda"
      },
      "execution_count": null,
      "outputs": [
        {
          "output_type": "stream",
          "name": "stdout",
          "text": [
            "type -  <class 'numpy.ndarray'>\n",
            "shape -  (20,)\n",
            "dimension -  1\n",
            "dtype -  int64\n",
            "\n",
            "data - \n",
            " [-3 -8 -6 17 15 16 -2  2  5 12 18  8  6 19 -7 13 11  4 12  3]\n"
          ]
        }
      ]
    },
    {
      "cell_type": "code",
      "source": [
        "print('데이터 개수 - ', len(ary))\n",
        "print('표본평균 - ', np.mean(ary))\n",
        "print('분산 - ', np.var(ary))\n",
        "print('표준편차 - ', np.std(ary))\n",
        "print('최대값 - ', np.max(ary))\n",
        "print('최소값 - ', np.min(ary))\n",
        "print('중앙값 - ', np.median(ary))"
      ],
      "metadata": {
        "colab": {
          "base_uri": "https://localhost:8080/"
        },
        "id": "pOCD8uEzMS_R",
        "outputId": "75afa1fc-70a2-4945-fb65-87e38bd4c298"
      },
      "execution_count": null,
      "outputs": [
        {
          "output_type": "stream",
          "name": "stdout",
          "text": [
            "데이터 개수 -  20\n",
            "표본평균 -  6.75\n",
            "분산 -  71.8875\n",
            "표준편차 -  8.478649656637547\n",
            "최대값 -  19\n",
            "최소값 -  -8\n",
            "중앙값 -  7.0\n"
          ]
        }
      ]
    },
    {
      "cell_type": "markdown",
      "source": [
        "#### 사분위수"
      ],
      "metadata": {
        "id": "Wn6E2lAyMvdw"
      }
    },
    {
      "cell_type": "code",
      "source": [
        "print('최소값    - ', np.percentile(ary, 0))   # == np.min(ary)\n",
        "print('1사분위수 - ', np.percentile(ary, 25))  # 하위 25%\n",
        "print('2사분위수 - ', np.percentile(ary, 50))  # == np.median(ary)\n",
        "print('3사분위수 - ', np.percentile(ary, 75))  # 상위 25%\n",
        "print('최대값    - ', np.percentile(ary, 100)) # == np.max(ary)"
      ],
      "metadata": {
        "colab": {
          "base_uri": "https://localhost:8080/"
        },
        "id": "LIRIebmgMdcA",
        "outputId": "183f669c-4bf2-4fcd-901e-e29fc11a771e"
      },
      "execution_count": null,
      "outputs": [
        {
          "output_type": "stream",
          "name": "stdout",
          "text": [
            "최소값    -  -8.0\n",
            "1사분위수 -  1.0\n",
            "2사분위수 -  7.0\n",
            "3사분위수 -  13.5\n",
            "최대값    -  19.0\n"
          ]
        }
      ]
    },
    {
      "cell_type": "markdown",
      "source": [
        "### 난수 생성\n",
        "- np.random\n",
        "- rand() : 0~1 사이에 균일한 확률분포로 실수 난수 생성\n",
        "- randn() : 가우시안 표준정규분포(평균 0, 표준편차 1)\n",
        "- randint() : 균일한 확률분포로 정수 난수 생성 >> randint(start, end, size)\n",
        "- normal() : 평균 x, 편차 y 인 정규분포 데이터 n개 생성 == np.random.normal(x, y, n)"
      ],
      "metadata": {
        "id": "zROjev18Ng2O"
      }
    },
    {
      "cell_type": "code",
      "source": [
        "# 0~1 사이 실수 난수 10개 생성\n",
        "np.random.rand(10)"
      ],
      "metadata": {
        "colab": {
          "base_uri": "https://localhost:8080/"
        },
        "id": "lr28wU77NCp9",
        "outputId": "9f483b32-1678-4ed6-9dbf-54eea6da3854"
      },
      "execution_count": null,
      "outputs": [
        {
          "output_type": "execute_result",
          "data": {
            "text/plain": [
              "array([0.63136599, 0.92287632, 0.94827041, 0.59758568, 0.73650609,\n",
              "       0.00228453, 0.46677586, 0.58840034, 0.53583697, 0.19354468])"
            ]
          },
          "metadata": {},
          "execution_count": 16
        }
      ]
    },
    {
      "cell_type": "code",
      "source": [
        "# array format 지정 가능\n",
        "np.random.rand(3, 5)"
      ],
      "metadata": {
        "colab": {
          "base_uri": "https://localhost:8080/"
        },
        "id": "z8RYZ8DcOO84",
        "outputId": "06f495c9-6c9d-4a65-982f-eaad08ce45ab"
      },
      "execution_count": null,
      "outputs": [
        {
          "output_type": "execute_result",
          "data": {
            "text/plain": [
              "array([[0.14482084, 0.59848775, 0.53238109, 0.11766626, 0.06065239],\n",
              "       [0.89235405, 0.49755505, 0.70404599, 0.90442883, 0.37504495],\n",
              "       [0.78802663, 0.97380779, 0.32588125, 0.13434134, 0.35487335]])"
            ]
          },
          "metadata": {},
          "execution_count": 17
        }
      ]
    },
    {
      "cell_type": "code",
      "source": [
        "# 평균 0, 표준편차 1인 가우시안 표준정규분포 난수 10개 생성\n",
        "np.random.randn(10)"
      ],
      "metadata": {
        "colab": {
          "base_uri": "https://localhost:8080/"
        },
        "id": "zRxq8rdDOVng",
        "outputId": "b2e4df5b-dfcf-4590-a985-4ad808e99099"
      },
      "execution_count": null,
      "outputs": [
        {
          "output_type": "execute_result",
          "data": {
            "text/plain": [
              "array([ 0.98421559, -0.67421483, -0.98031927, -1.83944143,  1.46020894,\n",
              "        0.0265833 ,  0.46914524,  1.33979141, -0.03643798, -1.5153549 ])"
            ]
          },
          "metadata": {},
          "execution_count": 18
        }
      ]
    },
    {
      "cell_type": "code",
      "source": [
        "# array format 지정 가능\n",
        "np.random.randn(3, 5)"
      ],
      "metadata": {
        "colab": {
          "base_uri": "https://localhost:8080/"
        },
        "id": "v8Y3Gr95Oa5_",
        "outputId": "75a0d93c-892b-4c0b-9a45-34107c7816fd"
      },
      "execution_count": null,
      "outputs": [
        {
          "output_type": "execute_result",
          "data": {
            "text/plain": [
              "array([[-1.22740943,  1.74091867, -0.32465717, -0.17316206, -1.44435139],\n",
              "       [-0.52915994,  0.26526975,  1.10536127, -1.36764867,  0.51939104],\n",
              "       [ 1.67425571,  0.13850514, -1.72912561,  0.12897317, -0.66874447]])"
            ]
          },
          "metadata": {},
          "execution_count": 19
        }
      ]
    },
    {
      "cell_type": "code",
      "source": [
        "# 0~9 까지 정수 난수 1개 생성\n",
        "np.random.randint(10)"
      ],
      "metadata": {
        "colab": {
          "base_uri": "https://localhost:8080/"
        },
        "id": "ktoQqbWjOlmn",
        "outputId": "b7a0f7f8-0652-4c89-d953-1c94fbd089f1"
      },
      "execution_count": null,
      "outputs": [
        {
          "output_type": "execute_result",
          "data": {
            "text/plain": [
              "7"
            ]
          },
          "metadata": {},
          "execution_count": 21
        }
      ]
    },
    {
      "cell_type": "code",
      "source": [
        "# 정수 난수 범위 설정 후 1개 생성 (시작값, 끝값)\n",
        "np.random.randint(10, 20)"
      ],
      "metadata": {
        "colab": {
          "base_uri": "https://localhost:8080/"
        },
        "id": "tJyp38X6QhF3",
        "outputId": "a5d1dfa1-673d-4ae4-9351-018d8b22cdd0"
      },
      "execution_count": null,
      "outputs": [
        {
          "output_type": "execute_result",
          "data": {
            "text/plain": [
              "14"
            ]
          },
          "metadata": {},
          "execution_count": 4
        }
      ]
    },
    {
      "cell_type": "code",
      "source": [
        "# size 지정 (개수 설정)\n",
        "np.random.randint(10, 20, size = 10)"
      ],
      "metadata": {
        "colab": {
          "base_uri": "https://localhost:8080/"
        },
        "id": "N_G4piSHQvj3",
        "outputId": "ed87f34d-5c06-41a9-a2fb-2c7b551ff0d6"
      },
      "execution_count": null,
      "outputs": [
        {
          "output_type": "execute_result",
          "data": {
            "text/plain": [
              "array([16, 11, 14, 12, 16, 11, 17, 13, 11, 13])"
            ]
          },
          "metadata": {},
          "execution_count": 5
        }
      ]
    },
    {
      "cell_type": "code",
      "source": [
        "# size tuple type 으로 지정 (array format)\n",
        "np.random.randint(10, 20, size = (3, 5))"
      ],
      "metadata": {
        "colab": {
          "base_uri": "https://localhost:8080/"
        },
        "id": "_Y04akEyQ6X9",
        "outputId": "f1a4bb3e-b9de-4ac0-f44a-36af8090ec41"
      },
      "execution_count": null,
      "outputs": [
        {
          "output_type": "execute_result",
          "data": {
            "text/plain": [
              "array([[18, 18, 17, 14, 16],\n",
              "       [12, 12, 10, 12, 11],\n",
              "       [12, 19, 14, 19, 13]])"
            ]
          },
          "metadata": {},
          "execution_count": 6
        }
      ]
    },
    {
      "cell_type": "markdown",
      "source": [
        "#### 데이터 샘플링\n",
        "- np.random.choice(arange, size, replace = True|False, p)\n",
        "- replace = True : 복원추출\n",
        "- replace = False : 비복원추출\n",
        "- p : 확률 (비중을 얼마나 차지할건지? list format)\n",
        "- p 설정하는 경우, [] 안의 확률이 더해서 1이 나와야 함\n",
        "- choice 가 np.random.shuffle 을 포함한 개념!"
      ],
      "metadata": {
        "id": "YOMkSAvURHeA"
      }
    },
    {
      "cell_type": "code",
      "source": [
        "np.random.choice(100, 15, replace = False)"
      ],
      "metadata": {
        "colab": {
          "base_uri": "https://localhost:8080/"
        },
        "id": "L8wo-LWfQ7q9",
        "outputId": "c18d6345-7194-40cd-9350-766a8dbae06e"
      },
      "execution_count": null,
      "outputs": [
        {
          "output_type": "execute_result",
          "data": {
            "text/plain": [
              "array([17, 96, 50, 65, 75, 20, 81, 34, 48, 78, 47, 60,  0,  2, 36])"
            ]
          },
          "metadata": {},
          "execution_count": 8
        }
      ]
    },
    {
      "cell_type": "code",
      "source": [
        "np.random.choice(5, 10, p = [0.3, 0, 0.5, 0.1, 0.1])"
      ],
      "metadata": {
        "colab": {
          "base_uri": "https://localhost:8080/"
        },
        "id": "ADCc4CBtQ7t2",
        "outputId": "3472a2c0-273e-407f-8210-38d10cd10698"
      },
      "execution_count": null,
      "outputs": [
        {
          "output_type": "execute_result",
          "data": {
            "text/plain": [
              "array([4, 3, 0, 3, 0, 0, 0, 0, 2, 2])"
            ]
          },
          "metadata": {},
          "execution_count": 15
        }
      ]
    },
    {
      "cell_type": "markdown",
      "source": [
        "[문제 1] 동전을 20번 던져서 앞면(1)과 뒷면(0)이 나오는 실험을 한다면?"
      ],
      "metadata": {
        "id": "kys1uADjSTSD"
      }
    },
    {
      "cell_type": "code",
      "source": [
        "coin = np.random.choice(2, 20, replace = True)\n",
        "print('choice 이용  - ', coin)\n",
        "print()\n",
        "coin = np.random.randint(0, 2, 20)\n",
        "print('randint 이용 - ', coin)"
      ],
      "metadata": {
        "colab": {
          "base_uri": "https://localhost:8080/"
        },
        "id": "KMsBzGCbQ7xW",
        "outputId": "f7208b4e-c763-47d4-9c45-6cdf9b2ed2a6"
      },
      "execution_count": null,
      "outputs": [
        {
          "output_type": "stream",
          "name": "stdout",
          "text": [
            "choice 이용  -  [1 1 0 0 1 1 1 1 0 1 0 0 1 1 0 1 1 1 1 0]\n",
            "\n",
            "randint 이용 -  [0 1 0 1 1 1 1 0 1 1 1 0 1 1 0 1 0 0 0 0]\n"
          ]
        }
      ]
    },
    {
      "cell_type": "markdown",
      "source": [
        "[문제 2] 주사위를 100번 던져서 나오는 숫자의 평균을 구하면?"
      ],
      "metadata": {
        "id": "DatmrsYlSyQu"
      }
    },
    {
      "cell_type": "code",
      "source": [
        "dice = np.random.randint(1, 7, 100).mean()\n",
        "print('randint 이용 - ', dice)\n",
        "print()\n",
        "dice = np.random.choice(np.arange(1,7), 100, replace = True).mean()\n",
        "print('choice 이용  - ', dice)"
      ],
      "metadata": {
        "colab": {
          "base_uri": "https://localhost:8080/"
        },
        "id": "ObLlA_ISQ714",
        "outputId": "fd9a62fb-6279-4f8e-bcd7-c382791026fa"
      },
      "execution_count": null,
      "outputs": [
        {
          "output_type": "stream",
          "name": "stdout",
          "text": [
            "randint 이용 -  3.43\n",
            "\n",
            "choice 이용  -  3.42\n"
          ]
        }
      ]
    },
    {
      "cell_type": "markdown",
      "source": [
        "[문제 3] 가격이 10,000원인 주식이 있다. 이 주식의 일간 수익률(%)의 기대값이 0이고 편차가 1인 표준정규분포를 따른다고 가정하고 250일 동안의 주가를 무작위로 생성하고 싶다면?"
      ],
      "metadata": {
        "id": "tcccrkgcTtnw"
      }
    },
    {
      "cell_type": "code",
      "source": [
        "price = 10000\n",
        "stock = price + (price * np.random.randn(250) / 100)\n",
        "print(stock)"
      ],
      "metadata": {
        "colab": {
          "base_uri": "https://localhost:8080/"
        },
        "id": "_VkIg8d0S81u",
        "outputId": "62ebc15a-b9d8-4f6b-e95c-deaf10b4222f"
      },
      "execution_count": null,
      "outputs": [
        {
          "output_type": "stream",
          "name": "stdout",
          "text": [
            "[ 9982.38432354  9904.92623959  9863.1129924   9876.51670347\n",
            " 10020.13686502  9812.34585911 10019.9459435  10024.02192757\n",
            "  9864.19097991 10118.85574617  9917.3661762   9886.46528155\n",
            "  9826.98098118 10056.33137438  9973.93514238  9914.9462875\n",
            " 10020.68095799 10006.11864154 10070.90572193 10082.40177416\n",
            "  9923.71871491  9917.5480626   9953.02007685  9795.95697204\n",
            " 10068.91146104 10049.27818302  9966.92723428 10045.22314467\n",
            "  9937.09148868 10148.53516076 10182.72224004 10047.38146022\n",
            " 10035.6701749  10125.07326324 10138.74152356 10038.51562696\n",
            " 10129.21013002  9958.65374242 10039.27959088  9863.86401287\n",
            " 10010.43538766 10006.5933844   9920.40236058 10102.16673235\n",
            "  9991.1061795   9817.21945052 10043.5843046   9954.71978785\n",
            " 10074.98531868 10024.66139697  9927.00764409  9885.97988987\n",
            "  9808.0488528  10125.34314351 10080.44620176  9899.21286324\n",
            " 10120.5773909   9961.73204893 10106.36579439 10070.9030532\n",
            " 10058.68245309 10039.16753687  9713.11516765 10076.21440157\n",
            " 10078.45042295  9742.78491707 10055.88063782  9938.28650523\n",
            "  9915.64574409 10090.28407163  9849.43370839  9959.41806971\n",
            " 10036.48774238 10150.57120739  9971.88421974 10050.66757194\n",
            "  9970.28629966  9923.48169495 10001.29744211  9951.41771471\n",
            "  9883.46834185 10045.13594863  9806.57659045  9876.57303609\n",
            " 10063.01652057  9948.17825749 10172.79721808  9840.22171031\n",
            " 10136.4932625   9933.3478495  10065.02958653 10032.34708843\n",
            " 10023.975309   10174.77917088 10179.08967262  9799.75657874\n",
            " 10292.05116474  9853.93339119 10043.6215584   9992.04125801\n",
            " 10085.47817069 10111.72315937 10056.64506955  9999.82508874\n",
            "  9909.84237648 10020.3816076   9805.39324468 10293.31033741\n",
            "  9930.89899947 10080.0354926   9954.44421711  9956.75527914\n",
            "  9994.35977187 10035.71608921 10073.84795154 10045.16478658\n",
            " 10050.51773397  9969.40924607  9995.26571552 10187.33550262\n",
            " 10108.05156818  9988.09044169  9836.03477085 10040.13824951\n",
            "  9852.23893256  9930.77424465  9952.00712116  9902.29917236\n",
            " 10147.33115359 10021.91196873  9887.03676112  9929.62004569\n",
            "  9945.42277486 10251.05832134  9915.13853731 10135.97051094\n",
            " 10051.7110948  10023.26710863 10027.99320397 10126.10207636\n",
            " 10098.22397277  9894.24608263 10082.54739704 10004.87816585\n",
            "  9856.69909894  9866.82607848  9786.37205573  9913.64535646\n",
            "  9937.57841695  9845.26527633  9973.97935091  9971.83209372\n",
            "  9831.22603571 10098.6588061  10137.22792936  9948.20978061\n",
            " 10080.34527357  9907.95129989  9929.52377662  9924.08897679\n",
            " 10083.46851242 10155.88486327 10039.97071592 10016.66462526\n",
            "  9834.17550779 10199.9422547  10023.96918191 10133.02490318\n",
            "  9965.54072597 10076.29391455  9980.20728435 10023.14897764\n",
            "  9959.84759832 10008.61321134  9965.6050559  10061.39955873\n",
            "  9945.31609934 10042.25476757  9903.97668456  9913.53888925\n",
            "  9910.72168819 10034.39471661 10044.81123413  9946.02167686\n",
            " 10031.18813193  9984.71984082  9957.01196651 10011.03135728\n",
            "  9896.34806306 10117.69552803 10169.31508496  9920.69591727\n",
            "  9950.45846433  9978.0559775   9962.91413473 10082.71287939\n",
            " 10008.05003888  9879.48293304 10092.15195165 10125.75098749\n",
            " 10121.89072095 10116.71120814 10042.94955444 10166.61068053\n",
            "  9924.66681191 10091.54815819  9849.13189262  9869.39645833\n",
            " 10039.97989729  9890.33050466 10047.85887822  9881.49139237\n",
            "  9912.5068448   9917.05428319 10027.52395303  9960.00500478\n",
            "  9851.91334051  9984.71787686  9990.66068684  9907.66161685\n",
            " 10067.16666153  9785.97288747 10087.43290569 10017.1504511\n",
            "  9942.724022   10016.27344482 10050.76884834 10138.98087422\n",
            "  9902.20777332  9988.73462505  9656.03229268 10081.71614238\n",
            " 10193.86688739  9927.7264707  10041.47725984 10182.17847805\n",
            "  9836.15689704 10071.37945682  9929.45127528 10117.3124362\n",
            "  9965.10840944 10040.36600677 10087.15482187 10009.62855396\n",
            " 10044.08066334  9895.36169655 10198.0037619  10100.0966948\n",
            "  9921.9596234   9819.82579199]\n"
          ]
        }
      ]
    },
    {
      "cell_type": "code",
      "source": [
        "import matplotlib.pyplot as plt\n",
        "\n",
        "plt.hist(stock)\n",
        "plt.show()"
      ],
      "metadata": {
        "colab": {
          "base_uri": "https://localhost:8080/",
          "height": 266
        },
        "id": "VgGiuC9XT84M",
        "outputId": "3ac7abb6-6464-4051-8037-a99dbd3a41ff"
      },
      "execution_count": null,
      "outputs": [
        {
          "output_type": "display_data",
          "data": {
            "text/plain": [
              "<Figure size 432x288 with 1 Axes>"
            ],
            "image/png": "[encoded data removed]"
          },
          "metadata": {
            "needs_background": "light"
          }
        }
      ]
    },
    {
      "cell_type": "markdown",
      "source": [
        "#### seed()\n",
        "- 추출되는 난수를 예측할 수 있어야 한다.\n",
        "- set마다 다른 값이 들어가면 안되는 경우가 있으니까!\n",
        "- 추출한 값들이 동일한 값이 나오도록 유지시켜 줄 수 있는 것"
      ],
      "metadata": {
        "id": "t96gFes7Un6J"
      }
    },
    {
      "cell_type": "code",
      "source": [
        "np.random.rand(10)"
      ],
      "metadata": {
        "colab": {
          "base_uri": "https://localhost:8080/"
        },
        "id": "FKAOxLe9UiS_",
        "outputId": "3c38ac96-7ba3-4341-b59e-889940979dd1"
      },
      "execution_count": null,
      "outputs": [
        {
          "output_type": "execute_result",
          "data": {
            "text/plain": [
              "array([0.09834683, 0.42110763, 0.95788953, 0.53316528, 0.69187711,\n",
              "       0.31551563, 0.68650093, 0.83462567, 0.01828828, 0.75014431])"
            ]
          },
          "metadata": {},
          "execution_count": 50
        }
      ]
    },
    {
      "cell_type": "code",
      "source": [
        "# 위 cell 과 같은 code 이지만 output이 다름\n",
        "np.random.rand(10)"
      ],
      "metadata": {
        "colab": {
          "base_uri": "https://localhost:8080/"
        },
        "id": "4hzZGVLlU0Hs",
        "outputId": "4b7aedf4-b60b-4678-8807-bc7c594524eb"
      },
      "execution_count": null,
      "outputs": [
        {
          "output_type": "execute_result",
          "data": {
            "text/plain": [
              "array([0.00117688, 0.33160962, 0.89084416, 0.73770399, 0.8716759 ,\n",
              "       0.15638173, 0.87060368, 0.56575183, 0.21015327, 0.45344795])"
            ]
          },
          "metadata": {},
          "execution_count": 39
        }
      ]
    },
    {
      "cell_type": "code",
      "source": [
        "np.random.seed(1)\n",
        "np.random.rand(5)  # 이렇게 seed 랑 같이 들어가면 값이 계속 같은 값으로 나옴!"
      ],
      "metadata": {
        "colab": {
          "base_uri": "https://localhost:8080/"
        },
        "id": "kCHATeppU1-8",
        "outputId": "bfc3c57e-c941-498a-d142-a027fd7369be"
      },
      "execution_count": null,
      "outputs": [
        {
          "output_type": "execute_result",
          "data": {
            "text/plain": [
              "array([4.17022005e-01, 7.20324493e-01, 1.14374817e-04, 3.02332573e-01,\n",
              "       1.46755891e-01])"
            ]
          },
          "metadata": {},
          "execution_count": 45
        }
      ]
    },
    {
      "cell_type": "code",
      "source": [
        "np.random.seed(1)\n",
        "np.random.rand(5)  # 위 cell 과 같은 output"
      ],
      "metadata": {
        "colab": {
          "base_uri": "https://localhost:8080/"
        },
        "id": "-q9T6aPQVA4D",
        "outputId": "d890fe09-4f76-4e10-e6b7-56c331ad05ed"
      },
      "execution_count": null,
      "outputs": [
        {
          "output_type": "execute_result",
          "data": {
            "text/plain": [
              "array([4.17022005e-01, 7.20324493e-01, 1.14374817e-04, 3.02332573e-01,\n",
              "       1.46755891e-01])"
            ]
          },
          "metadata": {},
          "execution_count": 53
        }
      ]
    },
    {
      "cell_type": "code",
      "source": [
        "np.random.seed(100)\n",
        "np.random.rand(5)     # seed 달라졌기 때문에 다른 값이 나옴"
      ],
      "metadata": {
        "colab": {
          "base_uri": "https://localhost:8080/"
        },
        "id": "wjUcYA31VC0K",
        "outputId": "aab38391-d18e-4fed-bd26-b6b30e5977ce"
      },
      "execution_count": null,
      "outputs": [
        {
          "output_type": "execute_result",
          "data": {
            "text/plain": [
              "array([0.54340494, 0.27836939, 0.42451759, 0.84477613, 0.00471886])"
            ]
          },
          "metadata": {},
          "execution_count": 52
        }
      ]
    },
    {
      "cell_type": "markdown",
      "source": [
        "### 데이터 카운팅\n",
        "- unique : 중복된 값을 제거하고 unique 한 값만 리턴 (python set 과 비슷한듯?)\n",
        "- [option] return_counts = True : value & count(value 의 개수) 두 가지로 리턴 가능"
      ],
      "metadata": {
        "id": "y7mLfhhBWcPN"
      }
    },
    {
      "cell_type": "code",
      "source": [
        "np.unique([9, 9, 1, 1, 14, 13, 17, 14, 18, 9])"
      ],
      "metadata": {
        "colab": {
          "base_uri": "https://localhost:8080/"
        },
        "id": "tyYpsZLCVVJC",
        "outputId": "e69a5940-ec5b-4c5c-b880-1540d679e826"
      },
      "execution_count": null,
      "outputs": [
        {
          "output_type": "execute_result",
          "data": {
            "text/plain": [
              "array([ 1,  9, 13, 14, 17, 18])"
            ]
          },
          "metadata": {},
          "execution_count": 54
        }
      ]
    },
    {
      "cell_type": "code",
      "source": [
        "value, count = np.unique([9, 9, 1, 1, 14, 13, 17, 14, 18, 9], return_counts = True)"
      ],
      "metadata": {
        "id": "WosMzhpsW4gf"
      },
      "execution_count": null,
      "outputs": []
    },
    {
      "cell_type": "code",
      "source": [
        "value"
      ],
      "metadata": {
        "colab": {
          "base_uri": "https://localhost:8080/"
        },
        "id": "UVkuTqkclrGl",
        "outputId": "3893d4ab-cc40-4970-d2c0-4ec5bec014f1"
      },
      "execution_count": null,
      "outputs": [
        {
          "output_type": "execute_result",
          "data": {
            "text/plain": [
              "array([ 1,  9, 13, 14, 17, 18])"
            ]
          },
          "metadata": {},
          "execution_count": 58
        }
      ]
    },
    {
      "cell_type": "code",
      "source": [
        "count   # value 마다 중복된 개수"
      ],
      "metadata": {
        "colab": {
          "base_uri": "https://localhost:8080/"
        },
        "id": "JLRnEoQAltRN",
        "outputId": "27549a9a-714c-4d1c-ae06-652c3472b8a0"
      },
      "execution_count": null,
      "outputs": [
        {
          "output_type": "execute_result",
          "data": {
            "text/plain": [
              "array([2, 3, 1, 2, 1, 1])"
            ]
          },
          "metadata": {},
          "execution_count": 59
        }
      ]
    },
    {
      "cell_type": "markdown",
      "source": [
        "#### bincount\n",
        "- 특정범위의 수인 경우에는 count 대신 bincount 사용한다.\n",
        "- 해당되지 않는 값까지 다 print 하고 싶을 때"
      ],
      "metadata": {
        "id": "DF470MG3lyW3"
      }
    },
    {
      "cell_type": "code",
      "source": [
        "dice = np.random.choice(np.arange(1, 7), 10, replace = True)\n",
        "print('dice - ', dice)\n",
        "print()\n",
        "\n",
        "idx, cnt = np.unique(dice, return_counts = True)\n",
        "print('idx(value) - ', idx)\n",
        "print('count      - ', cnt)\n",
        "print()\n",
        "\n",
        "print('count 에 해당되지 않는 값까지 다 print 하고 싶다면? bincount 사용!')\n",
        "print('bincount   - ', np.bincount(dice, minlength = 6))"
      ],
      "metadata": {
        "colab": {
          "base_uri": "https://localhost:8080/"
        },
        "id": "8usAAdXcluaT",
        "outputId": "b3d66bd1-130b-4b6d-ca87-46b71bffc6e1"
      },
      "execution_count": null,
      "outputs": [
        {
          "output_type": "stream",
          "name": "stdout",
          "text": [
            "dice -  [1 6 2 2 6 2 2 1 5 2]\n",
            "\n",
            "idx(value) -  [1 2 5 6]\n",
            "count      -  [2 5 1 2]\n",
            "\n",
            "count 에 해당되지 않는 값까지 다 print 하고 싶다면? bincount 사용!\n",
            "bincount   -  [0 2 5 0 0 1 2]\n"
          ]
        }
      ]
    },
    {
      "cell_type": "markdown",
      "source": [
        "기상청 자료 데이터 다운로드\n",
        "- https://data.kma.go.kr/stcs/grnd/grndTaList.do?pgmNo=70"
      ],
      "metadata": {
        "id": "RwW6Q6GJouV2"
      }
    },
    {
      "cell_type": "markdown",
      "source": [
        "#### 기후통계분석_복습.csv 파일 이용한 [실습]\n",
        "> [요구사항] 기상관측 이래 서울의 최고 기온이 높았던 날짜와 최고 기온을 확인한다면?\n",
        "> - case01. python의 open() 을 이용하는 방법\n",
        ">  - import csv\n",
        "> - case02. numpy의 np.loadtxt() 이용하는 방법"
      ],
      "metadata": {
        "id": "kEu2Rfnuqe7Z"
      }
    },
    {
      "cell_type": "markdown",
      "source": [
        "case 01."
      ],
      "metadata": {
        "id": "-LOplx54rTEV"
      }
    },
    {
      "cell_type": "code",
      "source": [
        "import csv\n",
        "\n",
        "file = open('./기후통계분석_복습.csv', 'r', encoding='cp949')\n",
        "raw_data = csv.reader(file, delimiter = ',')\n",
        "\n",
        "print('type - ', type(raw_data))\n",
        "header = []\n",
        "for i in range(8) :\n",
        "  header.append(next(raw_data))\n",
        "print('header - ', header)\n",
        "\n",
        "tempLst = []\n",
        "for row in raw_data :\n",
        "  tempLst.append(row)\n",
        "file.close()\n",
        "\n",
        "ary = np.array(tempLst)\n",
        "\n",
        "ary"
      ],
      "metadata": {
        "id": "S_9pMEhtmNAP",
        "colab": {
          "base_uri": "https://localhost:8080/"
        },
        "outputId": "d663221e-ae37-4ce1-d3fb-81ca545183d1"
      },
      "execution_count": null,
      "outputs": [
        {
          "output_type": "stream",
          "name": "stdout",
          "text": [
            "type -  <class '_csv.reader'>\n",
            "header -  [['기온분석'], ['[검색조건]'], ['자료구분 : 일'], ['자료형태 : 기본'], ['지역/지점 : 서울'], ['기간 : 19040101~20220324'], [], ['날짜', '지점', '평균기온(℃)', '최저기온(℃)', '최고기온(℃)']]\n"
          ]
        },
        {
          "output_type": "stream",
          "name": "stderr",
          "text": [
            "/usr/local/lib/python3.7/dist-packages/ipykernel_launcher.py:17: VisibleDeprecationWarning: Creating an ndarray from ragged nested sequences (which is a list-or-tuple of lists-or-tuples-or ndarrays with different lengths or shapes) is deprecated. If you meant to do this, you must specify 'dtype=object' when creating the ndarray.\n"
          ]
        },
        {
          "output_type": "execute_result",
          "data": {
            "text/plain": [
              "array([list(['1907-10-01', '108', '13.5', '7.9', '20.7']),\n",
              "       list(['1907-10-02', '108', '16.2', '7.9', '22']),\n",
              "       list(['1907-10-03', '108', '16.2', '13.1', '21.3']), ...,\n",
              "       list(['2022-03-23', '108', '6.2', '4.9', '8.2']),\n",
              "       list(['2022-03-24', '108', '8.2', '3.9', '12.4']), list([])],\n",
              "      dtype=object)"
            ]
          },
          "metadata": {},
          "execution_count": 77
        }
      ]
    },
    {
      "cell_type": "markdown",
      "source": [
        "case 02."
      ],
      "metadata": {
        "id": "n2KdNecHy-JX"
      }
    },
    {
      "cell_type": "code",
      "source": [
        "raw_data = np.loadtxt('./기후통계분석_복습.csv',\n",
        "                      delimiter = ',',\n",
        "                      dtype = 'U',\n",
        "                      skiprows = 8,\n",
        "                      encoding= 'cp949')\n",
        "aryInfo(raw_data)"
      ],
      "metadata": {
        "id": "3M9hRcexrWo2",
        "colab": {
          "base_uri": "https://localhost:8080/"
        },
        "outputId": "367ca404-d54c-4215-b3e4-51b09189bb6c"
      },
      "execution_count": null,
      "outputs": [
        {
          "output_type": "stream",
          "name": "stdout",
          "text": [
            "type -  <class 'numpy.ndarray'>\n",
            "shape -  (41383, 5)\n",
            "dimension -  2\n",
            "dtype -  <U10\n",
            "\n",
            "data - \n",
            " [['1907-10-01' '108' '13.5' '7.9' '20.7']\n",
            " ['1907-10-02' '108' '16.2' '7.9' '22']\n",
            " ['1907-10-03' '108' '16.2' '13.1' '21.3']\n",
            " ...\n",
            " ['2022-03-22' '108' '7.1' '1.1' '13.6']\n",
            " ['2022-03-23' '108' '6.2' '4.9' '8.2']\n",
            " ['2022-03-24' '108' '8.2' '3.9' '12.4']]\n"
          ]
        }
      ]
    },
    {
      "cell_type": "code",
      "source": [
        "# 최고기온 결측치 있는 rows -20으로 값 대체해서 진행\n",
        "for row in raw_data :\n",
        "  if row[-1] == '' :\n",
        "    row[-1] = -20\n",
        "\n",
        "temps = raw_data[:,-1].astype(float)\n",
        "idx = temps.argmax()\n",
        "print(raw_data[idx,:])"
      ],
      "metadata": {
        "colab": {
          "base_uri": "https://localhost:8080/"
        },
        "id": "VmpmFqZFzW_Y",
        "outputId": "b3ea1db9-583f-4ff4-805e-44a13b0dc4e2"
      },
      "execution_count": null,
      "outputs": [
        {
          "output_type": "stream",
          "name": "stdout",
          "text": [
            "['2018-08-01' '108' '33.6' '27.8' '39.6']\n"
          ]
        }
      ]
    },
    {
      "cell_type": "code",
      "source": [
        ""
      ],
      "metadata": {
        "id": "oA3odMw9zz8K"
      },
      "execution_count": null,
      "outputs": []
    }
  ]
}