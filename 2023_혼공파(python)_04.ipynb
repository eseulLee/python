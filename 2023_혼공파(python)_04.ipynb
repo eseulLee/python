{
  "nbformat": 4,
  "nbformat_minor": 0,
  "metadata": {
    "colab": {
      "provenance": [],
      "authorship_tag": "ABX9TyMs1YqliBcrFMPCsdJ+fVMt",
      "include_colab_link": true
    },
    "kernelspec": {
      "name": "python3",
      "display_name": "Python 3"
    },
    "language_info": {
      "name": "python"
    }
  },
  "cells": [
    {
      "cell_type": "markdown",
      "metadata": {
        "id": "view-in-github",
        "colab_type": "text"
      },
      "source": [
        "<a href=\"https://colab.research.google.com/github/eseulLee/python/blob/main/2023_%ED%98%BC%EA%B3%B5%ED%8C%8C(python)_04.ipynb\" target=\"_parent\"><img src=\"https://colab.research.google.com/assets/colab-badge.svg\" alt=\"Open In Colab\"/></a>"
      ]
    },
    {
      "cell_type": "markdown",
      "source": [
        "## 04-1. 리스트와 반복문\n",
        "\n",
        "### 리스트에 요소 추가하기\n",
        "- 리스트명.append(요소)\n",
        "- 리스트명.insert(위치, 요소)"
      ],
      "metadata": {
        "id": "VzAM-4iENvat"
      }
    },
    {
      "cell_type": "code",
      "execution_count": 2,
      "metadata": {
        "colab": {
          "base_uri": "https://localhost:8080/"
        },
        "id": "3ZHBVT3INZuS",
        "outputId": "f9ef6ba7-f997-4f2a-87c3-922324c8c092"
      },
      "outputs": [
        {
          "output_type": "stream",
          "name": "stdout",
          "text": [
            "# 리스트 뒤 요소 추가\n",
            "[1, 2, 3, 4, 5]\n",
            "\n",
            "# 리스트 중간에 요소 추가\n",
            "[1, 2, 10, 3, 4, 5]\n"
          ]
        }
      ],
      "source": [
        "list_a = [1,2,3]\n",
        "\n",
        "# 리스트 뒤에 요소 추가\n",
        "list_a.append(4)\n",
        "list_a.append(5)\n",
        "print(\"# 리스트 뒤 요소 추가\")\n",
        "print(list_a)\n",
        "print()\n",
        "\n",
        "# 리스트 중간에 요소 추가\n",
        "list_a.insert(2, 10)\n",
        "print(\"# 리스트 중간에 요소 추가\")\n",
        "print(list_a)\n"
      ]
    },
    {
      "cell_type": "markdown",
      "source": [
        "- 한 번에 여러 요소 추가: extend()\n",
        "    - 매개변수로 리스트 입력"
      ],
      "metadata": {
        "id": "LLybS23uQ5hl"
      }
    },
    {
      "cell_type": "code",
      "source": [
        "list_a = [1, 2, 3]\n",
        "list_a.extend([4, 5, 6])\n",
        "\n",
        "print(list_a)"
      ],
      "metadata": {
        "colab": {
          "base_uri": "https://localhost:8080/"
        },
        "id": "pISeYmpPNuTd",
        "outputId": "84042821-b0ad-4aca-8a37-300837bacb77"
      },
      "execution_count": 3,
      "outputs": [
        {
          "output_type": "stream",
          "name": "stdout",
          "text": [
            "[1, 2, 3, 4, 5, 6]\n"
          ]
        }
      ]
    },
    {
      "cell_type": "markdown",
      "source": [
        "- 비파괴적: 리스트 연결 연산자(+)\n",
        "- 파괴적: append(), insert(), extend() > 리스트에 직접적인 영향"
      ],
      "metadata": {
        "id": "fP3qXQQhRW_J"
      }
    },
    {
      "cell_type": "markdown",
      "source": [
        "### 리스트 요소 제거\n",
        "#### 인덱스로 제거하기: del 키워드, pop()\n",
        "\n",
        "- del 리스트명[인덱스] : 슬라이싱으로 범위 선택하여 제거 가능\n",
        "- 리스트명.pop(인덱스) : 매개변수 default = -1 (마지막 요소 제거)"
      ],
      "metadata": {
        "id": "4H48SE5KRiHC"
      }
    },
    {
      "cell_type": "code",
      "source": [
        "list_a = [i for i in range(6)]\n",
        "\n",
        "print(\"# 리스트 요소 하나 제거\")\n",
        "# 제거 방법[1] - del 키워드\n",
        "del list_a[1]\n",
        "print(\"del list_a[1]: \", list_a)\n",
        "\n",
        "# 제거 방법[2] - pop()\n",
        "list_a.pop(2)\n",
        "print(\"list_a.pop(2): \", list_a)"
      ],
      "metadata": {
        "colab": {
          "base_uri": "https://localhost:8080/"
        },
        "id": "uVXEkIvwRAea",
        "outputId": "eb7da01e-9903-466a-d20d-17662ac32493"
      },
      "execution_count": 5,
      "outputs": [
        {
          "output_type": "stream",
          "name": "stdout",
          "text": [
            "# 리스트 요소 하나 제거\n",
            "del list_a[1]:  [0, 2, 3, 4, 5]\n",
            "list_a.pop(2):  [0, 2, 4, 5]\n"
          ]
        }
      ]
    },
    {
      "cell_type": "markdown",
      "source": [
        "#### 값으로 제거하기\n",
        "- 리스트.remove(값)"
      ],
      "metadata": {
        "id": "EVeeIcygSdLD"
      }
    },
    {
      "cell_type": "code",
      "source": [
        "list_c = [1, 2, 1, 2]\n",
        "list_c.remove(2)       # 중복값인 경우, 가장 먼저 발견되는 하나만 제거\n",
        "list_c"
      ],
      "metadata": {
        "colab": {
          "base_uri": "https://localhost:8080/"
        },
        "id": "6mZ-oY7pSgPl",
        "outputId": "1cce091e-01ba-4c3a-b1a9-16b0742d69de"
      },
      "execution_count": 6,
      "outputs": [
        {
          "output_type": "execute_result",
          "data": {
            "text/plain": [
              "[1, 1, 2]"
            ]
          },
          "metadata": {},
          "execution_count": 6
        }
      ]
    },
    {
      "cell_type": "markdown",
      "source": [
        "#### 모두 제거하기\n",
        "- 리스트.clear()"
      ],
      "metadata": {
        "id": "O7u_QkFfSymQ"
      }
    },
    {
      "cell_type": "code",
      "source": [
        "list_d = [0, 1, 2, 3, 4, 5]\n",
        "list_d.clear()\n",
        "list_d"
      ],
      "metadata": {
        "colab": {
          "base_uri": "https://localhost:8080/"
        },
        "id": "zkv3TSs0Swgb",
        "outputId": "c196895f-1159-4f72-87c8-8720df4ddf1c"
      },
      "execution_count": 7,
      "outputs": [
        {
          "output_type": "execute_result",
          "data": {
            "text/plain": [
              "[]"
            ]
          },
          "metadata": {},
          "execution_count": 7
        }
      ]
    },
    {
      "cell_type": "markdown",
      "source": [
        "### 리스트 정렬: sort()\n",
        "- 리스트.sort()\n",
        "- default: 오름차순 정렬(reverse = False)"
      ],
      "metadata": {
        "id": "_793Fkl2TCFX"
      }
    },
    {
      "cell_type": "code",
      "source": [
        "list_e = [52, 273, 103, 32, 275, 1 ,7]\n",
        "list_e.sort()\n",
        "list_e"
      ],
      "metadata": {
        "colab": {
          "base_uri": "https://localhost:8080/"
        },
        "id": "3EclJ9uQS6tJ",
        "outputId": "57ef96f2-cac4-45a6-ce11-d7616ec78bcf"
      },
      "execution_count": 8,
      "outputs": [
        {
          "output_type": "execute_result",
          "data": {
            "text/plain": [
              "[1, 7, 32, 52, 103, 273, 275]"
            ]
          },
          "metadata": {},
          "execution_count": 8
        }
      ]
    },
    {
      "cell_type": "code",
      "source": [
        "list_e.sort(reverse = True)\n",
        "list_e"
      ],
      "metadata": {
        "colab": {
          "base_uri": "https://localhost:8080/"
        },
        "id": "Jz6xNMKeTcIE",
        "outputId": "60dcac02-8d65-4c71-87d5-2c19875e625a"
      },
      "execution_count": 10,
      "outputs": [
        {
          "output_type": "execute_result",
          "data": {
            "text/plain": [
              "[275, 273, 103, 52, 32, 7, 1]"
            ]
          },
          "metadata": {},
          "execution_count": 10
        }
      ]
    },
    {
      "cell_type": "markdown",
      "source": [
        "### 중첩 리스트와 중첩 반복문\n",
        "\n",
        "#### 2차원 리스트 + 반복문 2번"
      ],
      "metadata": {
        "id": "O_FBchCtT-cZ"
      }
    },
    {
      "cell_type": "code",
      "source": [
        "list_of_list = [\n",
        "    [1, 2, 3],\n",
        "    [4, 5, 6, 7],\n",
        "    [8, 9]\n",
        "]\n",
        "\n",
        "for items in list_of_list:\n",
        "    for item in items:\n",
        "        print(item)"
      ],
      "metadata": {
        "colab": {
          "base_uri": "https://localhost:8080/"
        },
        "id": "imxIBH1UTeyy",
        "outputId": "43b82ff6-45cf-4fbd-fc8f-687ed6f1b6d7"
      },
      "execution_count": 12,
      "outputs": [
        {
          "output_type": "stream",
          "name": "stdout",
          "text": [
            "1\n",
            "2\n",
            "3\n",
            "4\n",
            "5\n",
            "6\n",
            "7\n",
            "8\n",
            "9\n"
          ]
        }
      ]
    },
    {
      "cell_type": "markdown",
      "source": [
        "### 전개 연산자\n",
        "- 리스트 내용을 전개해서 입력 가능\n",
        "- 리스트 앞에 * 기호 사용\n",
        "- 기본적으로 1. 리스트 내부, 2. 함수의 매개변수 위치에 사용\n",
        "- append() 함수 같이 리스트에 요소 추가시 코드를 **비파괴적**으로 구현 가능"
      ],
      "metadata": {
        "id": "NBKi3NbcUavW"
      }
    },
    {
      "cell_type": "markdown",
      "source": [
        "#### 1. 리스트 내부에 사용하는 경우"
      ],
      "metadata": {
        "id": "MQ8eapL7U0fk"
      }
    },
    {
      "cell_type": "code",
      "source": [
        "a = [1, 2, 3, 4]\n",
        "b = [*a, *a]\n",
        "b"
      ],
      "metadata": {
        "colab": {
          "base_uri": "https://localhost:8080/"
        },
        "id": "UiCCkfPaUzFz",
        "outputId": "ea90b638-22d0-4417-e53f-623f3c45f869"
      },
      "execution_count": 13,
      "outputs": [
        {
          "output_type": "execute_result",
          "data": {
            "text/plain": [
              "[1, 2, 3, 4, 1, 2, 3, 4]"
            ]
          },
          "metadata": {},
          "execution_count": 13
        }
      ]
    },
    {
      "cell_type": "code",
      "source": [
        "# append() 함수 사용시\n",
        "a = [1, 2, 3, 4]\n",
        "a.append(5)\n",
        "a"
      ],
      "metadata": {
        "colab": {
          "base_uri": "https://localhost:8080/"
        },
        "id": "Y7sRVdd9VHw0",
        "outputId": "7c1cfdd3-510f-4fae-ec8b-14d9d33528fc"
      },
      "execution_count": 14,
      "outputs": [
        {
          "output_type": "execute_result",
          "data": {
            "text/plain": [
              "[1, 2, 3, 4, 5]"
            ]
          },
          "metadata": {},
          "execution_count": 14
        }
      ]
    },
    {
      "cell_type": "code",
      "source": [
        "# 전개 연산자 사용시\n",
        "b = [1, 2, 3, 4]\n",
        "c = [*b, 5]\n",
        "print(b)\n",
        "c"
      ],
      "metadata": {
        "colab": {
          "base_uri": "https://localhost:8080/"
        },
        "id": "t0IGY0DcVMho",
        "outputId": "d82b0837-50b6-42a3-ae35-c452a4da8dac"
      },
      "execution_count": 15,
      "outputs": [
        {
          "output_type": "stream",
          "name": "stdout",
          "text": [
            "[1, 2, 3, 4]\n"
          ]
        },
        {
          "output_type": "execute_result",
          "data": {
            "text/plain": [
              "[1, 2, 3, 4, 5]"
            ]
          },
          "metadata": {},
          "execution_count": 15
        }
      ]
    },
    {
      "cell_type": "markdown",
      "source": [
        "#### 2. 함수 매개변수 위치에 사용하는 경우"
      ],
      "metadata": {
        "id": "kGxMJ86YU74f"
      }
    },
    {
      "cell_type": "code",
      "source": [
        "a = [1, 2, 3, 4]\n",
        "print(*a)"
      ],
      "metadata": {
        "colab": {
          "base_uri": "https://localhost:8080/"
        },
        "id": "dmPskZGxU6TO",
        "outputId": "04a86dea-ee98-49c4-ae07-9765561b2fa2"
      },
      "execution_count": 16,
      "outputs": [
        {
          "output_type": "stream",
          "name": "stdout",
          "text": [
            "1 2 3 4\n"
          ]
        }
      ]
    },
    {
      "cell_type": "markdown",
      "source": [
        "## 04-2. 딕셔너리와 반복문"
      ],
      "metadata": {
        "id": "ruOmQ8MlVetJ"
      }
    },
    {
      "cell_type": "code",
      "source": [
        "# 딕셔너리 요소 접근\n",
        "dictionary = {\n",
        "    \"name\" : \"7D 건조 망고\",\n",
        "    \"type\" : \"당절임\",\n",
        "    \"ingredient\" : [\"망고\", \"설탕\", \"메타중아황산나트륨\", \"치자황색소\"],\n",
        "    \"origin\" : \"필리핀\"\n",
        "}\n",
        "\n",
        "# 출력\n",
        "print(\"name: \", dictionary[\"name\"])\n",
        "print(\"type: \", dictionary[\"type\"])\n",
        "print(\"ingredient: \", dictionary[\"ingredient\"])\n",
        "print(\"origin: \", dictionary[\"origin\"])\n",
        "print()\n",
        "\n",
        "# 값 변경\n",
        "dictionary[\"name\"] = \"8D 건조 망고\"\n",
        "print(\"name: \", dictionary[\"name\"])"
      ],
      "metadata": {
        "colab": {
          "base_uri": "https://localhost:8080/"
        },
        "id": "qkqvkTzWVVoh",
        "outputId": "24095e7f-eae0-4996-b65f-73bd0c01421c"
      },
      "execution_count": 20,
      "outputs": [
        {
          "output_type": "stream",
          "name": "stdout",
          "text": [
            "name:  7D 건조 망고\n",
            "type:  당절임\n",
            "ingredient:  ['망고', '설탕', '메타중아황산나트륨', '치자황색소']\n",
            "origin:  필리핀\n",
            "\n",
            "name:  8D 건조 망고\n"
          ]
        }
      ]
    },
    {
      "cell_type": "markdown",
      "source": [
        "### 딕셔너리 값 추가/ 제거"
      ],
      "metadata": {
        "id": "kr3lu5SvXBVt"
      }
    },
    {
      "cell_type": "code",
      "source": [
        "# 값 추가\n",
        "dictionary[\"price\"] = 5000\n",
        "dictionary"
      ],
      "metadata": {
        "colab": {
          "base_uri": "https://localhost:8080/"
        },
        "id": "EyjmSTvQWr7D",
        "outputId": "2df0da22-9a8b-42b6-ce26-93d4c9dd68d5"
      },
      "execution_count": 21,
      "outputs": [
        {
          "output_type": "execute_result",
          "data": {
            "text/plain": [
              "{'name': '8D 건조 망고',\n",
              " 'type': '당절임',\n",
              " 'ingredient': ['망고', '설탕', '메타중아황산나트륨', '치자황색소'],\n",
              " 'origin': '필리핀',\n",
              " 'price': 5000}"
            ]
          },
          "metadata": {},
          "execution_count": 21
        }
      ]
    },
    {
      "cell_type": "code",
      "source": [
        "# 값 제거\n",
        "del dictionary[\"ingredient\"]\n",
        "dictionary"
      ],
      "metadata": {
        "colab": {
          "base_uri": "https://localhost:8080/"
        },
        "id": "f30gafIaXIRx",
        "outputId": "5aa69cdf-f462-4139-a504-ffffcd3a4818"
      },
      "execution_count": 22,
      "outputs": [
        {
          "output_type": "execute_result",
          "data": {
            "text/plain": [
              "{'name': '8D 건조 망고', 'type': '당절임', 'origin': '필리핀', 'price': 5000}"
            ]
          },
          "metadata": {},
          "execution_count": 22
        }
      ]
    },
    {
      "cell_type": "markdown",
      "source": [
        "### 딕셔너리 내부에 키가 있는지 확인\n",
        "\n",
        "#### 1. in 키워드"
      ],
      "metadata": {
        "id": "-CGSVzU8XXZj"
      }
    },
    {
      "cell_type": "code",
      "source": [
        "dictionary = {\n",
        "    \"name\" : \"7D 건조 망고\",\n",
        "    \"type\" : \"당절임\",\n",
        "    \"ingredient\" : [\"망고\", \"설탕\", \"메타중아황산나트륨\", \"치자황색소\"],\n",
        "    \"origin\" : \"필리핀\"\n",
        "}\n",
        "\n",
        "key = input(\"> 접근하고자 하는 키: \")\n",
        "\n",
        "if key in dictionary:\n",
        "    print(dictionary[key])\n",
        "else:\n",
        "    print('존재하지 않는 키에 접근하고 있습니다.')"
      ],
      "metadata": {
        "colab": {
          "base_uri": "https://localhost:8080/"
        },
        "id": "vcyf83SbXLeG",
        "outputId": "0e25dea7-f9c5-4ab7-85eb-67282b5201a2"
      },
      "execution_count": 24,
      "outputs": [
        {
          "output_type": "stream",
          "name": "stdout",
          "text": [
            "> 접근하고자 하는 키: sdf\n",
            "존재하지 않는 키에 접근하고 있습니다.\n"
          ]
        }
      ]
    },
    {
      "cell_type": "markdown",
      "source": [
        "#### 2. get() 함수\n",
        "- 딕셔너리의 키로 값을 추출하는 기능\n",
        "- 딕셔너리[키]를 입력할 때와 같은 기능을 수행하나, 존재하지 않는 키에 접근할 경우 KeyError가 아닌 None 출력"
      ],
      "metadata": {
        "id": "9DkCLLRNX24-"
      }
    },
    {
      "cell_type": "code",
      "source": [
        "dictionary = {\n",
        "    \"name\" : \"7D 건조 망고\",\n",
        "    \"type\" : \"당절임\",\n",
        "    \"ingredient\" : [\"망고\", \"설탕\", \"메타중아황산나트륨\", \"치자황색소\"],\n",
        "    \"origin\" : \"필리핀\"\n",
        "}\n",
        "\n",
        "value = dictionary.get(\"존재하지 않는 키\")\n",
        "print(\"값: \", value)\n",
        "\n",
        "# None 확인 방법 ------> None과 같은지 확인만 하면 됨!\n",
        "if value == None:\n",
        "    print(\"존재하지 않는 키에 접근하였습니다.\")"
      ],
      "metadata": {
        "colab": {
          "base_uri": "https://localhost:8080/"
        },
        "id": "jfntk9HUXyxa",
        "outputId": "0d3020a6-377b-4e6a-da6c-655ee9b4ba1d"
      },
      "execution_count": 25,
      "outputs": [
        {
          "output_type": "stream",
          "name": "stdout",
          "text": [
            "값:  None\n",
            "존재하지 않는 키에 접근하였습니다.\n"
          ]
        }
      ]
    },
    {
      "cell_type": "markdown",
      "source": [
        "### 확인문제 3.\n",
        "숫자 몇 번 등장하는지 출력하는 코드 작성"
      ],
      "metadata": {
        "id": "-IYWhzacaQYM"
      }
    },
    {
      "cell_type": "code",
      "source": [
        "numbers = [1, 2, 6, 8, 4, 3, 2, 1, 9, 5, 4, 9, 7, 2, 1, 3, 5, 4, 8, 9, 7, 2, 3]\n",
        "counter = {}\n",
        "\n",
        "for number in numbers:\n",
        "    if counter.get(number) == None:\n",
        "        counter[number] = 1\n",
        "    else:\n",
        "        counter[number] += 1\n",
        "\n",
        "print(counter)"
      ],
      "metadata": {
        "colab": {
          "base_uri": "https://localhost:8080/"
        },
        "id": "jSpJaNq0YQz8",
        "outputId": "05c892fc-ff99-46cb-ffb0-9e50f3e75962"
      },
      "execution_count": 35,
      "outputs": [
        {
          "output_type": "stream",
          "name": "stdout",
          "text": [
            "{1: 3, 2: 4, 6: 1, 8: 2, 4: 3, 3: 3, 9: 3, 5: 2, 7: 2}\n"
          ]
        }
      ]
    },
    {
      "cell_type": "markdown",
      "source": [
        "파이썬은 아래와 같이 특정 값이 어떤 자료형인지 확인 가능"
      ],
      "metadata": {
        "id": "46b8E3ApcZzD"
      }
    },
    {
      "cell_type": "code",
      "source": [
        "type(\"문자열\") is str  # True\n",
        "type([]) is list       # True\n",
        "type({}) is dict       # True"
      ],
      "metadata": {
        "colab": {
          "base_uri": "https://localhost:8080/"
        },
        "id": "ZpIfhjb6ciee",
        "outputId": "d80df14d-a9cc-489f-8107-f7dc88d30721"
      },
      "execution_count": 36,
      "outputs": [
        {
          "output_type": "execute_result",
          "data": {
            "text/plain": [
              "True"
            ]
          },
          "metadata": {},
          "execution_count": 36
        }
      ]
    },
    {
      "cell_type": "code",
      "source": [
        "character = {\n",
        "    \"name\" : \"가사\",\n",
        "    \"level\": 12,\n",
        "    \"items\": {\n",
        "        \"sword\": \"불꽃의 검\",\n",
        "        \"armor\": \"풀플레이트\",\n",
        "    },\n",
        "    \"skill\": [\"베기\", \"세게 베기\", \"아주 세게 베기\"]\n",
        "}\n",
        "\n",
        "# for 반복문 사용한 출력\n",
        "for key in character:\n",
        "    # print(key, type(character[key]))\n",
        "    key_type = type(character[key])\n",
        "    if key_type in (str, int, float):\n",
        "        print(\"{} : {}\".format(key, character[key]))\n",
        "    elif key_type is list:\n",
        "        for item in character[key]:\n",
        "            print(\"{} : {}\".format(key, item))\n",
        "    elif key_type is dict:\n",
        "        for ikey in character[key]:\n",
        "            print(\"{} : {}\".format(ikey, character[key][ikey]))"
      ],
      "metadata": {
        "colab": {
          "base_uri": "https://localhost:8080/"
        },
        "id": "iACEzl7ecvGr",
        "outputId": "5b92d721-cb4e-4dd5-9351-4b7bfbcf11e9"
      },
      "execution_count": 40,
      "outputs": [
        {
          "output_type": "stream",
          "name": "stdout",
          "text": [
            "name : 가사\n",
            "level : 12\n",
            "sword : 불꽃의 검\n",
            "armor : 풀플레이트\n",
            "skill : 베기\n",
            "skill : 세게 베기\n",
            "skill : 아주 세게 베기\n"
          ]
        }
      ]
    },
    {
      "cell_type": "markdown",
      "source": [
        "## 04-3. 범위 자료형과 while 반복문\n",
        "### 범위: 정수범위 생성시 range()"
      ],
      "metadata": {
        "id": "M6UFcE6kf_mo"
      }
    },
    {
      "cell_type": "code",
      "source": [
        "list(range(5))"
      ],
      "metadata": {
        "colab": {
          "base_uri": "https://localhost:8080/"
        },
        "id": "lo5UFyVrgDJO",
        "outputId": "03f9975a-f4f1-4122-b064-b3d67aa43ead"
      },
      "execution_count": 41,
      "outputs": [
        {
          "output_type": "execute_result",
          "data": {
            "text/plain": [
              "[0, 1, 2, 3, 4]"
            ]
          },
          "metadata": {},
          "execution_count": 41
        }
      ]
    },
    {
      "cell_type": "code",
      "source": [
        "list(range(0, 5))"
      ],
      "metadata": {
        "colab": {
          "base_uri": "https://localhost:8080/"
        },
        "id": "uhh4u4H6gWaN",
        "outputId": "bb8f5e5a-879a-48a8-99c7-1e635754b6d2"
      },
      "execution_count": 42,
      "outputs": [
        {
          "output_type": "execute_result",
          "data": {
            "text/plain": [
              "[0, 1, 2, 3, 4]"
            ]
          },
          "metadata": {},
          "execution_count": 42
        }
      ]
    },
    {
      "cell_type": "code",
      "source": [
        "list(range(5, 10))"
      ],
      "metadata": {
        "colab": {
          "base_uri": "https://localhost:8080/"
        },
        "id": "QGg_YIq6gZPe",
        "outputId": "34f01fce-b8d5-4d84-c022-eac07e80b802"
      },
      "execution_count": 43,
      "outputs": [
        {
          "output_type": "execute_result",
          "data": {
            "text/plain": [
              "[5, 6, 7, 8, 9]"
            ]
          },
          "metadata": {},
          "execution_count": 43
        }
      ]
    },
    {
      "cell_type": "code",
      "source": [
        "list(range(0, 10, 2))"
      ],
      "metadata": {
        "colab": {
          "base_uri": "https://localhost:8080/"
        },
        "id": "tE_NO7cjgaol",
        "outputId": "6599413d-5e82-4f66-d712-aaa6015b939e"
      },
      "execution_count": 44,
      "outputs": [
        {
          "output_type": "execute_result",
          "data": {
            "text/plain": [
              "[0, 2, 4, 6, 8]"
            ]
          },
          "metadata": {},
          "execution_count": 44
        }
      ]
    },
    {
      "cell_type": "code",
      "source": [
        "list(range(0, 10, 3))  # start, end-1, step"
      ],
      "metadata": {
        "colab": {
          "base_uri": "https://localhost:8080/"
        },
        "id": "Uy1QpHF3gccc",
        "outputId": "e8de03c7-ae11-4ab9-bc49-dda18af712e2"
      },
      "execution_count": 45,
      "outputs": [
        {
          "output_type": "execute_result",
          "data": {
            "text/plain": [
              "[0, 3, 6, 9]"
            ]
          },
          "metadata": {},
          "execution_count": 45
        }
      ]
    },
    {
      "cell_type": "markdown",
      "source": [
        "#### range 함수의 매개변수는 **반드시 정수**를 사용해야 함"
      ],
      "metadata": {
        "id": "nFvT7St-gqlw"
      }
    },
    {
      "cell_type": "code",
      "source": [
        "n = 10\n",
        "a = range(0, int(n/2))\n",
        "list(a)"
      ],
      "metadata": {
        "colab": {
          "base_uri": "https://localhost:8080/"
        },
        "id": "cAczpUI3gd29",
        "outputId": "3724d118-bf0d-47b2-cbfb-fdb4c4350518"
      },
      "execution_count": 47,
      "outputs": [
        {
          "output_type": "execute_result",
          "data": {
            "text/plain": [
              "[0, 1, 2, 3, 4]"
            ]
          },
          "metadata": {},
          "execution_count": 47
        }
      ]
    },
    {
      "cell_type": "markdown",
      "source": [
        "위 방법보다 정수 나누기 연산자를 더 많이 사용!"
      ],
      "metadata": {
        "id": "72XbhJrCg04J"
      }
    },
    {
      "cell_type": "code",
      "source": [
        "a = range(0, n//2)\n",
        "list(a)"
      ],
      "metadata": {
        "colab": {
          "base_uri": "https://localhost:8080/"
        },
        "id": "tLUHunNKgxAz",
        "outputId": "df4e785e-0dae-4dc1-f12e-83390e424887"
      },
      "execution_count": 48,
      "outputs": [
        {
          "output_type": "execute_result",
          "data": {
            "text/plain": [
              "[0, 1, 2, 3, 4]"
            ]
          },
          "metadata": {},
          "execution_count": 48
        }
      ]
    },
    {
      "cell_type": "markdown",
      "source": [
        "### for 반복문: 반대로 반복하기 (역반복문)"
      ],
      "metadata": {
        "id": "mSab4no3g-0x"
      }
    },
    {
      "cell_type": "markdown",
      "source": [
        "1. range() 함수의 매개변수를 3개 사용"
      ],
      "metadata": {
        "id": "5S5UiewxhVXj"
      }
    },
    {
      "cell_type": "code",
      "source": [
        "for i in range(4, 0 -1, -1):\n",
        "    print(\"현재 반복 변수: \",i)"
      ],
      "metadata": {
        "colab": {
          "base_uri": "https://localhost:8080/"
        },
        "id": "QiQIvVIlg8Rs",
        "outputId": "98b51d6d-61c1-4e58-dba1-0bbd74ab02df"
      },
      "execution_count": 50,
      "outputs": [
        {
          "output_type": "stream",
          "name": "stdout",
          "text": [
            "현재 반복 변수:  4\n",
            "현재 반복 변수:  3\n",
            "현재 반복 변수:  2\n",
            "현재 반복 변수:  1\n",
            "현재 반복 변수:  0\n"
          ]
        }
      ]
    },
    {
      "cell_type": "markdown",
      "source": [
        "2. reversed() 함수 사용"
      ],
      "metadata": {
        "id": "oMPAvDijhjPu"
      }
    },
    {
      "cell_type": "code",
      "source": [
        "for i in reversed(range(5)):\n",
        "    print(\"현재 반복 변수: \", i)"
      ],
      "metadata": {
        "colab": {
          "base_uri": "https://localhost:8080/"
        },
        "id": "1f-7k-2fhfLM",
        "outputId": "512b4e30-deca-4954-cf27-7638b96749c9"
      },
      "execution_count": 51,
      "outputs": [
        {
          "output_type": "stream",
          "name": "stdout",
          "text": [
            "현재 반복 변수:  4\n",
            "현재 반복 변수:  3\n",
            "현재 반복 변수:  2\n",
            "현재 반복 변수:  1\n",
            "현재 반복 변수:  0\n"
          ]
        }
      ]
    },
    {
      "cell_type": "markdown",
      "source": [
        "### 중첩반복문으로 피라미드 만들기 (1)"
      ],
      "metadata": {
        "id": "Bdn_E9QDhx6l"
      }
    },
    {
      "cell_type": "code",
      "source": [
        "for i in range(1, 10):\n",
        "    for j in range(i):\n",
        "        print('*', end = '')\n",
        "    print()"
      ],
      "metadata": {
        "colab": {
          "base_uri": "https://localhost:8080/"
        },
        "id": "GSAUlMRQhqFe",
        "outputId": "0534d5e4-fee2-4e68-84df-552f5a49bb30"
      },
      "execution_count": 57,
      "outputs": [
        {
          "output_type": "stream",
          "name": "stdout",
          "text": [
            "*\n",
            "**\n",
            "***\n",
            "****\n",
            "*****\n",
            "******\n",
            "*******\n",
            "********\n",
            "*********\n"
          ]
        }
      ]
    },
    {
      "cell_type": "code",
      "source": [
        "output = \"\"\n",
        "\n",
        "for i in range(1, 10):\n",
        "    for j in range(0, i):\n",
        "        output += \"*\"\n",
        "    output += '\\n'\n",
        "\n",
        "print(output)"
      ],
      "metadata": {
        "colab": {
          "base_uri": "https://localhost:8080/"
        },
        "id": "WE5meUT7h4uS",
        "outputId": "df8a3f37-eb14-41ea-b610-40ed3a21f706"
      },
      "execution_count": 58,
      "outputs": [
        {
          "output_type": "stream",
          "name": "stdout",
          "text": [
            "*\n",
            "**\n",
            "***\n",
            "****\n",
            "*****\n",
            "******\n",
            "*******\n",
            "********\n",
            "*********\n",
            "\n"
          ]
        }
      ]
    },
    {
      "cell_type": "markdown",
      "source": [
        "### 중첩 반복문으로 피라미드 만들기 (2)"
      ],
      "metadata": {
        "id": "L86F5Dhtioaj"
      }
    },
    {
      "cell_type": "code",
      "source": [
        "output = \"\"\n",
        "\n",
        "for i in range(1, 15):\n",
        "    for j in range(14, i, -1):\n",
        "        output += ' '\n",
        "    for k in range(0, 2 * i -1):\n",
        "        output += '*'\n",
        "    output += '\\n'\n",
        "\n",
        "print(output)\n",
        ""
      ],
      "metadata": {
        "colab": {
          "base_uri": "https://localhost:8080/"
        },
        "id": "BiLUCVa7iqBZ",
        "outputId": "96f8832f-5f9a-420a-c549-ce6197b3b528"
      },
      "execution_count": 60,
      "outputs": [
        {
          "output_type": "stream",
          "name": "stdout",
          "text": [
            "             *\n",
            "            ***\n",
            "           *****\n",
            "          *******\n",
            "         *********\n",
            "        ***********\n",
            "       *************\n",
            "      ***************\n",
            "     *****************\n",
            "    *******************\n",
            "   *********************\n",
            "  ***********************\n",
            " *************************\n",
            "***************************\n",
            "\n"
          ]
        }
      ]
    },
    {
      "cell_type": "code",
      "source": [],
      "metadata": {
        "id": "AOfDadvDjQDj"
      },
      "execution_count": null,
      "outputs": []
    }
  ]
}