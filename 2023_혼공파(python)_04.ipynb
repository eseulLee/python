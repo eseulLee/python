{
  "nbformat": 4,
  "nbformat_minor": 0,
  "metadata": {
    "colab": {
      "provenance": [],
      "authorship_tag": "ABX9TyNUTTgBYa6uvbmOvZoLNiIE",
      "include_colab_link": true
    },
    "kernelspec": {
      "name": "python3",
      "display_name": "Python 3"
    },
    "language_info": {
      "name": "python"
    }
  },
  "cells": [
    {
      "cell_type": "markdown",
      "metadata": {
        "id": "view-in-github",
        "colab_type": "text"
      },
      "source": [
        "<a href=\"https://colab.research.google.com/github/eseulLee/python/blob/main/2023_%ED%98%BC%EA%B3%B5%ED%8C%8C(python)_04.ipynb\" target=\"_parent\"><img src=\"https://colab.research.google.com/assets/colab-badge.svg\" alt=\"Open In Colab\"/></a>"
      ]
    },
    {
      "cell_type": "markdown",
      "source": [
        "## 04-1. 리스트와 반복문\n",
        "\n",
        "### 리스트에 요소 추가하기\n",
        "- 리스트명.append(요소)\n",
        "- 리스트명.insert(위치, 요소)"
      ],
      "metadata": {
        "id": "VzAM-4iENvat"
      }
    },
    {
      "cell_type": "code",
      "execution_count": null,
      "metadata": {
        "colab": {
          "base_uri": "https://localhost:8080/"
        },
        "id": "3ZHBVT3INZuS",
        "outputId": "f9ef6ba7-f997-4f2a-87c3-922324c8c092"
      },
      "outputs": [
        {
          "output_type": "stream",
          "name": "stdout",
          "text": [
            "# 리스트 뒤 요소 추가\n",
            "[1, 2, 3, 4, 5]\n",
            "\n",
            "# 리스트 중간에 요소 추가\n",
            "[1, 2, 10, 3, 4, 5]\n"
          ]
        }
      ],
      "source": [
        "list_a = [1,2,3]\n",
        "\n",
        "# 리스트 뒤에 요소 추가\n",
        "list_a.append(4)\n",
        "list_a.append(5)\n",
        "print(\"# 리스트 뒤 요소 추가\")\n",
        "print(list_a)\n",
        "print()\n",
        "\n",
        "# 리스트 중간에 요소 추가\n",
        "list_a.insert(2, 10)\n",
        "print(\"# 리스트 중간에 요소 추가\")\n",
        "print(list_a)\n"
      ]
    },
    {
      "cell_type": "markdown",
      "source": [
        "- 한 번에 여러 요소 추가: extend()\n",
        "    - 매개변수로 리스트 입력"
      ],
      "metadata": {
        "id": "LLybS23uQ5hl"
      }
    },
    {
      "cell_type": "code",
      "source": [
        "list_a = [1, 2, 3]\n",
        "list_a.extend([4, 5, 6])\n",
        "\n",
        "print(list_a)"
      ],
      "metadata": {
        "colab": {
          "base_uri": "https://localhost:8080/"
        },
        "id": "pISeYmpPNuTd",
        "outputId": "84042821-b0ad-4aca-8a37-300837bacb77"
      },
      "execution_count": null,
      "outputs": [
        {
          "output_type": "stream",
          "name": "stdout",
          "text": [
            "[1, 2, 3, 4, 5, 6]\n"
          ]
        }
      ]
    },
    {
      "cell_type": "markdown",
      "source": [
        "- 비파괴적: 리스트 연결 연산자(+)\n",
        "- 파괴적: append(), insert(), extend() > 리스트에 직접적인 영향"
      ],
      "metadata": {
        "id": "fP3qXQQhRW_J"
      }
    },
    {
      "cell_type": "markdown",
      "source": [
        "### 리스트 요소 제거\n",
        "#### 인덱스로 제거하기: del 키워드, pop()\n",
        "\n",
        "- del 리스트명[인덱스] : 슬라이싱으로 범위 선택하여 제거 가능\n",
        "- 리스트명.pop(인덱스) : 매개변수 default = -1 (마지막 요소 제거)"
      ],
      "metadata": {
        "id": "4H48SE5KRiHC"
      }
    },
    {
      "cell_type": "code",
      "source": [
        "list_a = [i for i in range(6)]\n",
        "\n",
        "print(\"# 리스트 요소 하나 제거\")\n",
        "# 제거 방법[1] - del 키워드\n",
        "del list_a[1]\n",
        "print(\"del list_a[1]: \", list_a)\n",
        "\n",
        "# 제거 방법[2] - pop()\n",
        "list_a.pop(2)\n",
        "print(\"list_a.pop(2): \", list_a)"
      ],
      "metadata": {
        "colab": {
          "base_uri": "https://localhost:8080/"
        },
        "id": "uVXEkIvwRAea",
        "outputId": "eb7da01e-9903-466a-d20d-17662ac32493"
      },
      "execution_count": null,
      "outputs": [
        {
          "output_type": "stream",
          "name": "stdout",
          "text": [
            "# 리스트 요소 하나 제거\n",
            "del list_a[1]:  [0, 2, 3, 4, 5]\n",
            "list_a.pop(2):  [0, 2, 4, 5]\n"
          ]
        }
      ]
    },
    {
      "cell_type": "markdown",
      "source": [
        "#### 값으로 제거하기\n",
        "- 리스트.remove(값)"
      ],
      "metadata": {
        "id": "EVeeIcygSdLD"
      }
    },
    {
      "cell_type": "code",
      "source": [
        "list_c = [1, 2, 1, 2]\n",
        "list_c.remove(2)       # 중복값인 경우, 가장 먼저 발견되는 하나만 제거\n",
        "list_c"
      ],
      "metadata": {
        "colab": {
          "base_uri": "https://localhost:8080/"
        },
        "id": "6mZ-oY7pSgPl",
        "outputId": "1cce091e-01ba-4c3a-b1a9-16b0742d69de"
      },
      "execution_count": null,
      "outputs": [
        {
          "output_type": "execute_result",
          "data": {
            "text/plain": [
              "[1, 1, 2]"
            ]
          },
          "metadata": {},
          "execution_count": 6
        }
      ]
    },
    {
      "cell_type": "markdown",
      "source": [
        "#### 모두 제거하기\n",
        "- 리스트.clear()"
      ],
      "metadata": {
        "id": "O7u_QkFfSymQ"
      }
    },
    {
      "cell_type": "code",
      "source": [
        "list_d = [0, 1, 2, 3, 4, 5]\n",
        "list_d.clear()\n",
        "list_d"
      ],
      "metadata": {
        "colab": {
          "base_uri": "https://localhost:8080/"
        },
        "id": "zkv3TSs0Swgb",
        "outputId": "c196895f-1159-4f72-87c8-8720df4ddf1c"
      },
      "execution_count": null,
      "outputs": [
        {
          "output_type": "execute_result",
          "data": {
            "text/plain": [
              "[]"
            ]
          },
          "metadata": {},
          "execution_count": 7
        }
      ]
    },
    {
      "cell_type": "markdown",
      "source": [
        "### 리스트 정렬: sort()\n",
        "- 리스트.sort()\n",
        "- default: 오름차순 정렬(reverse = False)"
      ],
      "metadata": {
        "id": "_793Fkl2TCFX"
      }
    },
    {
      "cell_type": "code",
      "source": [
        "list_e = [52, 273, 103, 32, 275, 1 ,7]\n",
        "list_e.sort()\n",
        "list_e"
      ],
      "metadata": {
        "colab": {
          "base_uri": "https://localhost:8080/"
        },
        "id": "3EclJ9uQS6tJ",
        "outputId": "57ef96f2-cac4-45a6-ce11-d7616ec78bcf"
      },
      "execution_count": null,
      "outputs": [
        {
          "output_type": "execute_result",
          "data": {
            "text/plain": [
              "[1, 7, 32, 52, 103, 273, 275]"
            ]
          },
          "metadata": {},
          "execution_count": 8
        }
      ]
    },
    {
      "cell_type": "code",
      "source": [
        "list_e.sort(reverse = True)\n",
        "list_e"
      ],
      "metadata": {
        "colab": {
          "base_uri": "https://localhost:8080/"
        },
        "id": "Jz6xNMKeTcIE",
        "outputId": "60dcac02-8d65-4c71-87d5-2c19875e625a"
      },
      "execution_count": null,
      "outputs": [
        {
          "output_type": "execute_result",
          "data": {
            "text/plain": [
              "[275, 273, 103, 52, 32, 7, 1]"
            ]
          },
          "metadata": {},
          "execution_count": 10
        }
      ]
    },
    {
      "cell_type": "markdown",
      "source": [
        "### 중첩 리스트와 중첩 반복문\n",
        "\n",
        "#### 2차원 리스트 + 반복문 2번"
      ],
      "metadata": {
        "id": "O_FBchCtT-cZ"
      }
    },
    {
      "cell_type": "code",
      "source": [
        "list_of_list = [\n",
        "    [1, 2, 3],\n",
        "    [4, 5, 6, 7],\n",
        "    [8, 9]\n",
        "]\n",
        "\n",
        "for items in list_of_list:\n",
        "    for item in items:\n",
        "        print(item)"
      ],
      "metadata": {
        "colab": {
          "base_uri": "https://localhost:8080/"
        },
        "id": "imxIBH1UTeyy",
        "outputId": "43b82ff6-45cf-4fbd-fc8f-687ed6f1b6d7"
      },
      "execution_count": null,
      "outputs": [
        {
          "output_type": "stream",
          "name": "stdout",
          "text": [
            "1\n",
            "2\n",
            "3\n",
            "4\n",
            "5\n",
            "6\n",
            "7\n",
            "8\n",
            "9\n"
          ]
        }
      ]
    },
    {
      "cell_type": "markdown",
      "source": [
        "### 전개 연산자\n",
        "- 리스트 내용을 전개해서 입력 가능\n",
        "- 리스트 앞에 * 기호 사용\n",
        "- 기본적으로 1. 리스트 내부, 2. 함수의 매개변수 위치에 사용\n",
        "- append() 함수 같이 리스트에 요소 추가시 코드를 **비파괴적**으로 구현 가능"
      ],
      "metadata": {
        "id": "NBKi3NbcUavW"
      }
    },
    {
      "cell_type": "markdown",
      "source": [
        "#### 1. 리스트 내부에 사용하는 경우"
      ],
      "metadata": {
        "id": "MQ8eapL7U0fk"
      }
    },
    {
      "cell_type": "code",
      "source": [
        "a = [1, 2, 3, 4]\n",
        "b = [*a, *a]\n",
        "b"
      ],
      "metadata": {
        "colab": {
          "base_uri": "https://localhost:8080/"
        },
        "id": "UiCCkfPaUzFz",
        "outputId": "ea90b638-22d0-4417-e53f-623f3c45f869"
      },
      "execution_count": null,
      "outputs": [
        {
          "output_type": "execute_result",
          "data": {
            "text/plain": [
              "[1, 2, 3, 4, 1, 2, 3, 4]"
            ]
          },
          "metadata": {},
          "execution_count": 13
        }
      ]
    },
    {
      "cell_type": "code",
      "source": [
        "# append() 함수 사용시\n",
        "a = [1, 2, 3, 4]\n",
        "a.append(5)\n",
        "a"
      ],
      "metadata": {
        "colab": {
          "base_uri": "https://localhost:8080/"
        },
        "id": "Y7sRVdd9VHw0",
        "outputId": "7c1cfdd3-510f-4fae-ec8b-14d9d33528fc"
      },
      "execution_count": null,
      "outputs": [
        {
          "output_type": "execute_result",
          "data": {
            "text/plain": [
              "[1, 2, 3, 4, 5]"
            ]
          },
          "metadata": {},
          "execution_count": 14
        }
      ]
    },
    {
      "cell_type": "code",
      "source": [
        "# 전개 연산자 사용시\n",
        "b = [1, 2, 3, 4]\n",
        "c = [*b, 5]\n",
        "print(b)\n",
        "c"
      ],
      "metadata": {
        "colab": {
          "base_uri": "https://localhost:8080/"
        },
        "id": "t0IGY0DcVMho",
        "outputId": "d82b0837-50b6-42a3-ae35-c452a4da8dac"
      },
      "execution_count": null,
      "outputs": [
        {
          "output_type": "stream",
          "name": "stdout",
          "text": [
            "[1, 2, 3, 4]\n"
          ]
        },
        {
          "output_type": "execute_result",
          "data": {
            "text/plain": [
              "[1, 2, 3, 4, 5]"
            ]
          },
          "metadata": {},
          "execution_count": 15
        }
      ]
    },
    {
      "cell_type": "markdown",
      "source": [
        "#### 2. 함수 매개변수 위치에 사용하는 경우"
      ],
      "metadata": {
        "id": "kGxMJ86YU74f"
      }
    },
    {
      "cell_type": "code",
      "source": [
        "a = [1, 2, 3, 4]\n",
        "print(*a)"
      ],
      "metadata": {
        "colab": {
          "base_uri": "https://localhost:8080/"
        },
        "id": "dmPskZGxU6TO",
        "outputId": "04a86dea-ee98-49c4-ae07-9765561b2fa2"
      },
      "execution_count": null,
      "outputs": [
        {
          "output_type": "stream",
          "name": "stdout",
          "text": [
            "1 2 3 4\n"
          ]
        }
      ]
    },
    {
      "cell_type": "markdown",
      "source": [
        "## 04-2. 딕셔너리와 반복문"
      ],
      "metadata": {
        "id": "ruOmQ8MlVetJ"
      }
    },
    {
      "cell_type": "code",
      "source": [
        "# 딕셔너리 요소 접근\n",
        "dictionary = {\n",
        "    \"name\" : \"7D 건조 망고\",\n",
        "    \"type\" : \"당절임\",\n",
        "    \"ingredient\" : [\"망고\", \"설탕\", \"메타중아황산나트륨\", \"치자황색소\"],\n",
        "    \"origin\" : \"필리핀\"\n",
        "}\n",
        "\n",
        "# 출력\n",
        "print(\"name: \", dictionary[\"name\"])\n",
        "print(\"type: \", dictionary[\"type\"])\n",
        "print(\"ingredient: \", dictionary[\"ingredient\"])\n",
        "print(\"origin: \", dictionary[\"origin\"])\n",
        "print()\n",
        "\n",
        "# 값 변경\n",
        "dictionary[\"name\"] = \"8D 건조 망고\"\n",
        "print(\"name: \", dictionary[\"name\"])"
      ],
      "metadata": {
        "colab": {
          "base_uri": "https://localhost:8080/"
        },
        "id": "qkqvkTzWVVoh",
        "outputId": "24095e7f-eae0-4996-b65f-73bd0c01421c"
      },
      "execution_count": null,
      "outputs": [
        {
          "output_type": "stream",
          "name": "stdout",
          "text": [
            "name:  7D 건조 망고\n",
            "type:  당절임\n",
            "ingredient:  ['망고', '설탕', '메타중아황산나트륨', '치자황색소']\n",
            "origin:  필리핀\n",
            "\n",
            "name:  8D 건조 망고\n"
          ]
        }
      ]
    },
    {
      "cell_type": "markdown",
      "source": [
        "### 딕셔너리 값 추가/ 제거"
      ],
      "metadata": {
        "id": "kr3lu5SvXBVt"
      }
    },
    {
      "cell_type": "code",
      "source": [
        "# 값 추가\n",
        "dictionary[\"price\"] = 5000\n",
        "dictionary"
      ],
      "metadata": {
        "colab": {
          "base_uri": "https://localhost:8080/"
        },
        "id": "EyjmSTvQWr7D",
        "outputId": "2df0da22-9a8b-42b6-ce26-93d4c9dd68d5"
      },
      "execution_count": null,
      "outputs": [
        {
          "output_type": "execute_result",
          "data": {
            "text/plain": [
              "{'name': '8D 건조 망고',\n",
              " 'type': '당절임',\n",
              " 'ingredient': ['망고', '설탕', '메타중아황산나트륨', '치자황색소'],\n",
              " 'origin': '필리핀',\n",
              " 'price': 5000}"
            ]
          },
          "metadata": {},
          "execution_count": 21
        }
      ]
    },
    {
      "cell_type": "code",
      "source": [
        "# 값 제거\n",
        "del dictionary[\"ingredient\"]\n",
        "dictionary"
      ],
      "metadata": {
        "colab": {
          "base_uri": "https://localhost:8080/"
        },
        "id": "f30gafIaXIRx",
        "outputId": "5aa69cdf-f462-4139-a504-ffffcd3a4818"
      },
      "execution_count": null,
      "outputs": [
        {
          "output_type": "execute_result",
          "data": {
            "text/plain": [
              "{'name': '8D 건조 망고', 'type': '당절임', 'origin': '필리핀', 'price': 5000}"
            ]
          },
          "metadata": {},
          "execution_count": 22
        }
      ]
    },
    {
      "cell_type": "markdown",
      "source": [
        "### 딕셔너리 내부에 키가 있는지 확인\n",
        "\n",
        "#### 1. in 키워드"
      ],
      "metadata": {
        "id": "-CGSVzU8XXZj"
      }
    },
    {
      "cell_type": "code",
      "source": [
        "dictionary = {\n",
        "    \"name\" : \"7D 건조 망고\",\n",
        "    \"type\" : \"당절임\",\n",
        "    \"ingredient\" : [\"망고\", \"설탕\", \"메타중아황산나트륨\", \"치자황색소\"],\n",
        "    \"origin\" : \"필리핀\"\n",
        "}\n",
        "\n",
        "key = input(\"> 접근하고자 하는 키: \")\n",
        "\n",
        "if key in dictionary:\n",
        "    print(dictionary[key])\n",
        "else:\n",
        "    print('존재하지 않는 키에 접근하고 있습니다.')"
      ],
      "metadata": {
        "colab": {
          "base_uri": "https://localhost:8080/"
        },
        "id": "vcyf83SbXLeG",
        "outputId": "0e25dea7-f9c5-4ab7-85eb-67282b5201a2"
      },
      "execution_count": null,
      "outputs": [
        {
          "output_type": "stream",
          "name": "stdout",
          "text": [
            "> 접근하고자 하는 키: sdf\n",
            "존재하지 않는 키에 접근하고 있습니다.\n"
          ]
        }
      ]
    },
    {
      "cell_type": "markdown",
      "source": [
        "#### 2. get() 함수\n",
        "- 딕셔너리의 키로 값을 추출하는 기능\n",
        "- 딕셔너리[키]를 입력할 때와 같은 기능을 수행하나, 존재하지 않는 키에 접근할 경우 KeyError가 아닌 None 출력"
      ],
      "metadata": {
        "id": "9DkCLLRNX24-"
      }
    },
    {
      "cell_type": "code",
      "source": [
        "dictionary = {\n",
        "    \"name\" : \"7D 건조 망고\",\n",
        "    \"type\" : \"당절임\",\n",
        "    \"ingredient\" : [\"망고\", \"설탕\", \"메타중아황산나트륨\", \"치자황색소\"],\n",
        "    \"origin\" : \"필리핀\"\n",
        "}\n",
        "\n",
        "value = dictionary.get(\"존재하지 않는 키\")\n",
        "print(\"값: \", value)\n",
        "\n",
        "# None 확인 방법 ------> None과 같은지 확인만 하면 됨!\n",
        "if value == None:\n",
        "    print(\"존재하지 않는 키에 접근하였습니다.\")"
      ],
      "metadata": {
        "colab": {
          "base_uri": "https://localhost:8080/"
        },
        "id": "jfntk9HUXyxa",
        "outputId": "0d3020a6-377b-4e6a-da6c-655ee9b4ba1d"
      },
      "execution_count": null,
      "outputs": [
        {
          "output_type": "stream",
          "name": "stdout",
          "text": [
            "값:  None\n",
            "존재하지 않는 키에 접근하였습니다.\n"
          ]
        }
      ]
    },
    {
      "cell_type": "markdown",
      "source": [
        "### 확인문제 3.\n",
        "숫자 몇 번 등장하는지 출력하는 코드 작성"
      ],
      "metadata": {
        "id": "-IYWhzacaQYM"
      }
    },
    {
      "cell_type": "code",
      "source": [
        "numbers = [1, 2, 6, 8, 4, 3, 2, 1, 9, 5, 4, 9, 7, 2, 1, 3, 5, 4, 8, 9, 7, 2, 3]\n",
        "counter = {}\n",
        "\n",
        "for number in numbers:\n",
        "    if counter.get(number) == None:\n",
        "        counter[number] = 1\n",
        "    else:\n",
        "        counter[number] += 1\n",
        "\n",
        "print(counter)"
      ],
      "metadata": {
        "colab": {
          "base_uri": "https://localhost:8080/"
        },
        "id": "jSpJaNq0YQz8",
        "outputId": "05c892fc-ff99-46cb-ffb0-9e50f3e75962"
      },
      "execution_count": null,
      "outputs": [
        {
          "output_type": "stream",
          "name": "stdout",
          "text": [
            "{1: 3, 2: 4, 6: 1, 8: 2, 4: 3, 3: 3, 9: 3, 5: 2, 7: 2}\n"
          ]
        }
      ]
    },
    {
      "cell_type": "markdown",
      "source": [
        "파이썬은 아래와 같이 특정 값이 어떤 자료형인지 확인 가능"
      ],
      "metadata": {
        "id": "46b8E3ApcZzD"
      }
    },
    {
      "cell_type": "code",
      "source": [
        "type(\"문자열\") is str  # True\n",
        "type([]) is list       # True\n",
        "type({}) is dict       # True"
      ],
      "metadata": {
        "colab": {
          "base_uri": "https://localhost:8080/"
        },
        "id": "ZpIfhjb6ciee",
        "outputId": "d80df14d-a9cc-489f-8107-f7dc88d30721"
      },
      "execution_count": null,
      "outputs": [
        {
          "output_type": "execute_result",
          "data": {
            "text/plain": [
              "True"
            ]
          },
          "metadata": {},
          "execution_count": 36
        }
      ]
    },
    {
      "cell_type": "code",
      "source": [
        "character = {\n",
        "    \"name\" : \"가사\",\n",
        "    \"level\": 12,\n",
        "    \"items\": {\n",
        "        \"sword\": \"불꽃의 검\",\n",
        "        \"armor\": \"풀플레이트\",\n",
        "    },\n",
        "    \"skill\": [\"베기\", \"세게 베기\", \"아주 세게 베기\"]\n",
        "}\n",
        "\n",
        "# for 반복문 사용한 출력\n",
        "for key in character:\n",
        "    # print(key, type(character[key]))\n",
        "    key_type = type(character[key])\n",
        "    if key_type in (str, int, float):\n",
        "        print(\"{} : {}\".format(key, character[key]))\n",
        "    elif key_type is list:\n",
        "        for item in character[key]:\n",
        "            print(\"{} : {}\".format(key, item))\n",
        "    elif key_type is dict:\n",
        "        for ikey in character[key]:\n",
        "            print(\"{} : {}\".format(ikey, character[key][ikey]))"
      ],
      "metadata": {
        "colab": {
          "base_uri": "https://localhost:8080/"
        },
        "id": "iACEzl7ecvGr",
        "outputId": "5b92d721-cb4e-4dd5-9351-4b7bfbcf11e9"
      },
      "execution_count": null,
      "outputs": [
        {
          "output_type": "stream",
          "name": "stdout",
          "text": [
            "name : 가사\n",
            "level : 12\n",
            "sword : 불꽃의 검\n",
            "armor : 풀플레이트\n",
            "skill : 베기\n",
            "skill : 세게 베기\n",
            "skill : 아주 세게 베기\n"
          ]
        }
      ]
    },
    {
      "cell_type": "markdown",
      "source": [
        "## 04-3. 범위 자료형과 while 반복문\n",
        "### 범위: 정수범위 생성시 range()"
      ],
      "metadata": {
        "id": "M6UFcE6kf_mo"
      }
    },
    {
      "cell_type": "code",
      "source": [
        "list(range(5))"
      ],
      "metadata": {
        "colab": {
          "base_uri": "https://localhost:8080/"
        },
        "id": "lo5UFyVrgDJO",
        "outputId": "03f9975a-f4f1-4122-b064-b3d67aa43ead"
      },
      "execution_count": null,
      "outputs": [
        {
          "output_type": "execute_result",
          "data": {
            "text/plain": [
              "[0, 1, 2, 3, 4]"
            ]
          },
          "metadata": {},
          "execution_count": 41
        }
      ]
    },
    {
      "cell_type": "code",
      "source": [
        "list(range(0, 5))"
      ],
      "metadata": {
        "colab": {
          "base_uri": "https://localhost:8080/"
        },
        "id": "uhh4u4H6gWaN",
        "outputId": "bb8f5e5a-879a-48a8-99c7-1e635754b6d2"
      },
      "execution_count": null,
      "outputs": [
        {
          "output_type": "execute_result",
          "data": {
            "text/plain": [
              "[0, 1, 2, 3, 4]"
            ]
          },
          "metadata": {},
          "execution_count": 42
        }
      ]
    },
    {
      "cell_type": "code",
      "source": [
        "list(range(5, 10))"
      ],
      "metadata": {
        "colab": {
          "base_uri": "https://localhost:8080/"
        },
        "id": "QGg_YIq6gZPe",
        "outputId": "34f01fce-b8d5-4d84-c022-eac07e80b802"
      },
      "execution_count": null,
      "outputs": [
        {
          "output_type": "execute_result",
          "data": {
            "text/plain": [
              "[5, 6, 7, 8, 9]"
            ]
          },
          "metadata": {},
          "execution_count": 43
        }
      ]
    },
    {
      "cell_type": "code",
      "source": [
        "list(range(0, 10, 2))"
      ],
      "metadata": {
        "colab": {
          "base_uri": "https://localhost:8080/"
        },
        "id": "tE_NO7cjgaol",
        "outputId": "6599413d-5e82-4f66-d712-aaa6015b939e"
      },
      "execution_count": null,
      "outputs": [
        {
          "output_type": "execute_result",
          "data": {
            "text/plain": [
              "[0, 2, 4, 6, 8]"
            ]
          },
          "metadata": {},
          "execution_count": 44
        }
      ]
    },
    {
      "cell_type": "code",
      "source": [
        "list(range(0, 10, 3))  # start, end-1, step"
      ],
      "metadata": {
        "colab": {
          "base_uri": "https://localhost:8080/"
        },
        "id": "Uy1QpHF3gccc",
        "outputId": "e8de03c7-ae11-4ab9-bc49-dda18af712e2"
      },
      "execution_count": null,
      "outputs": [
        {
          "output_type": "execute_result",
          "data": {
            "text/plain": [
              "[0, 3, 6, 9]"
            ]
          },
          "metadata": {},
          "execution_count": 45
        }
      ]
    },
    {
      "cell_type": "markdown",
      "source": [
        "#### range 함수의 매개변수는 **반드시 정수**를 사용해야 함"
      ],
      "metadata": {
        "id": "nFvT7St-gqlw"
      }
    },
    {
      "cell_type": "code",
      "source": [
        "n = 10\n",
        "a = range(0, int(n/2))\n",
        "list(a)"
      ],
      "metadata": {
        "colab": {
          "base_uri": "https://localhost:8080/"
        },
        "id": "cAczpUI3gd29",
        "outputId": "3724d118-bf0d-47b2-cbfb-fdb4c4350518"
      },
      "execution_count": null,
      "outputs": [
        {
          "output_type": "execute_result",
          "data": {
            "text/plain": [
              "[0, 1, 2, 3, 4]"
            ]
          },
          "metadata": {},
          "execution_count": 47
        }
      ]
    },
    {
      "cell_type": "markdown",
      "source": [
        "위 방법보다 정수 나누기 연산자를 더 많이 사용!"
      ],
      "metadata": {
        "id": "72XbhJrCg04J"
      }
    },
    {
      "cell_type": "code",
      "source": [
        "a = range(0, n//2)\n",
        "list(a)"
      ],
      "metadata": {
        "colab": {
          "base_uri": "https://localhost:8080/"
        },
        "id": "tLUHunNKgxAz",
        "outputId": "df4e785e-0dae-4dc1-f12e-83390e424887"
      },
      "execution_count": null,
      "outputs": [
        {
          "output_type": "execute_result",
          "data": {
            "text/plain": [
              "[0, 1, 2, 3, 4]"
            ]
          },
          "metadata": {},
          "execution_count": 48
        }
      ]
    },
    {
      "cell_type": "markdown",
      "source": [
        "### for 반복문: 반대로 반복하기 (역반복문)"
      ],
      "metadata": {
        "id": "mSab4no3g-0x"
      }
    },
    {
      "cell_type": "markdown",
      "source": [
        "1. range() 함수의 매개변수를 3개 사용"
      ],
      "metadata": {
        "id": "5S5UiewxhVXj"
      }
    },
    {
      "cell_type": "code",
      "source": [
        "for i in range(4, 0 -1, -1):\n",
        "    print(\"현재 반복 변수: \",i)"
      ],
      "metadata": {
        "colab": {
          "base_uri": "https://localhost:8080/"
        },
        "id": "QiQIvVIlg8Rs",
        "outputId": "98b51d6d-61c1-4e58-dba1-0bbd74ab02df"
      },
      "execution_count": null,
      "outputs": [
        {
          "output_type": "stream",
          "name": "stdout",
          "text": [
            "현재 반복 변수:  4\n",
            "현재 반복 변수:  3\n",
            "현재 반복 변수:  2\n",
            "현재 반복 변수:  1\n",
            "현재 반복 변수:  0\n"
          ]
        }
      ]
    },
    {
      "cell_type": "markdown",
      "source": [
        "2. reversed() 함수 사용"
      ],
      "metadata": {
        "id": "oMPAvDijhjPu"
      }
    },
    {
      "cell_type": "code",
      "source": [
        "for i in reversed(range(5)):\n",
        "    print(\"현재 반복 변수: \", i)"
      ],
      "metadata": {
        "colab": {
          "base_uri": "https://localhost:8080/"
        },
        "id": "1f-7k-2fhfLM",
        "outputId": "512b4e30-deca-4954-cf27-7638b96749c9"
      },
      "execution_count": null,
      "outputs": [
        {
          "output_type": "stream",
          "name": "stdout",
          "text": [
            "현재 반복 변수:  4\n",
            "현재 반복 변수:  3\n",
            "현재 반복 변수:  2\n",
            "현재 반복 변수:  1\n",
            "현재 반복 변수:  0\n"
          ]
        }
      ]
    },
    {
      "cell_type": "markdown",
      "source": [
        "### 중첩반복문으로 피라미드 만들기 (1)"
      ],
      "metadata": {
        "id": "Bdn_E9QDhx6l"
      }
    },
    {
      "cell_type": "code",
      "source": [
        "for i in range(1, 10):\n",
        "    for j in range(i):\n",
        "        print('*', end = '')\n",
        "    print()"
      ],
      "metadata": {
        "colab": {
          "base_uri": "https://localhost:8080/"
        },
        "id": "GSAUlMRQhqFe",
        "outputId": "0534d5e4-fee2-4e68-84df-552f5a49bb30"
      },
      "execution_count": null,
      "outputs": [
        {
          "output_type": "stream",
          "name": "stdout",
          "text": [
            "*\n",
            "**\n",
            "***\n",
            "****\n",
            "*****\n",
            "******\n",
            "*******\n",
            "********\n",
            "*********\n"
          ]
        }
      ]
    },
    {
      "cell_type": "code",
      "source": [
        "output = \"\"\n",
        "\n",
        "for i in range(1, 10):\n",
        "    for j in range(0, i):\n",
        "        output += \"*\"\n",
        "    output += '\\n'\n",
        "\n",
        "print(output)"
      ],
      "metadata": {
        "colab": {
          "base_uri": "https://localhost:8080/"
        },
        "id": "WE5meUT7h4uS",
        "outputId": "df8a3f37-eb14-41ea-b610-40ed3a21f706"
      },
      "execution_count": null,
      "outputs": [
        {
          "output_type": "stream",
          "name": "stdout",
          "text": [
            "*\n",
            "**\n",
            "***\n",
            "****\n",
            "*****\n",
            "******\n",
            "*******\n",
            "********\n",
            "*********\n",
            "\n"
          ]
        }
      ]
    },
    {
      "cell_type": "markdown",
      "source": [
        "### 중첩 반복문으로 피라미드 만들기 (2)"
      ],
      "metadata": {
        "id": "L86F5Dhtioaj"
      }
    },
    {
      "cell_type": "code",
      "source": [
        "output = \"\"\n",
        "\n",
        "for i in range(1, 15):\n",
        "    for j in range(14, i, -1):\n",
        "        output += ' '\n",
        "    for k in range(0, 2 * i -1):\n",
        "        output += '*'\n",
        "    output += '\\n'\n",
        "\n",
        "print(output)\n"
      ],
      "metadata": {
        "colab": {
          "base_uri": "https://localhost:8080/"
        },
        "id": "BiLUCVa7iqBZ",
        "outputId": "96f8832f-5f9a-420a-c549-ce6197b3b528"
      },
      "execution_count": null,
      "outputs": [
        {
          "output_type": "stream",
          "name": "stdout",
          "text": [
            "             *\n",
            "            ***\n",
            "           *****\n",
            "          *******\n",
            "         *********\n",
            "        ***********\n",
            "       *************\n",
            "      ***************\n",
            "     *****************\n",
            "    *******************\n",
            "   *********************\n",
            "  ***********************\n",
            " *************************\n",
            "***************************\n",
            "\n"
          ]
        }
      ]
    },
    {
      "cell_type": "markdown",
      "source": [
        "### while 반복문\n",
        "\n",
        "#### 1. while 반복문: for 반복문처럼 사용하기"
      ],
      "metadata": {
        "id": "oFSJb5eMfLjZ"
      }
    },
    {
      "cell_type": "code",
      "source": [
        "i = 0\n",
        "while i < 10:\n",
        "    print(\"{}번째 반복입니다.\".format(i))\n",
        "    i += 1"
      ],
      "metadata": {
        "id": "AOfDadvDjQDj",
        "colab": {
          "base_uri": "https://localhost:8080/"
        },
        "outputId": "460a0d1c-14d8-4ab0-a7e1-6f29321b5387"
      },
      "execution_count": 1,
      "outputs": [
        {
          "output_type": "stream",
          "name": "stdout",
          "text": [
            "0번째 반복입니다.\n",
            "1번째 반복입니다.\n",
            "2번째 반복입니다.\n",
            "3번째 반복입니다.\n",
            "4번째 반복입니다.\n",
            "5번째 반복입니다.\n",
            "6번째 반복입니다.\n",
            "7번째 반복입니다.\n",
            "8번째 반복입니다.\n",
            "9번째 반복입니다.\n"
          ]
        }
      ]
    },
    {
      "cell_type": "markdown",
      "source": [
        "#### 2. while 반복문: 상태를 기반으로 반복하기"
      ],
      "metadata": {
        "id": "NN15MxisgXU9"
      }
    },
    {
      "cell_type": "code",
      "source": [
        "list_test = [1, 2, 1, 2]\n",
        "value = 2\n",
        "\n",
        "# list_test 내부에 value 가 있다면 반복\n",
        "while value in list_test:\n",
        "    list_test.remove(value)     # 리스트명.remove(값)\n",
        "\n",
        "print(list_test)"
      ],
      "metadata": {
        "colab": {
          "base_uri": "https://localhost:8080/"
        },
        "id": "QiBXWkTUfebu",
        "outputId": "541837dd-97de-4a99-a842-1cd10fe6d55c"
      },
      "execution_count": 2,
      "outputs": [
        {
          "output_type": "stream",
          "name": "stdout",
          "text": [
            "[1, 1]\n"
          ]
        }
      ]
    },
    {
      "cell_type": "markdown",
      "source": [
        "#### 3. while 반복문: 시간을 기반으로 반복하기\n",
        "\n",
        "- 유닉스 타임(Unix Time): 세계 표준시(UTC)로 1970년 1월 1일 0시 0분 0초를 기준으로 몇 초가 지났는지를 정수로 나타낸 것"
      ],
      "metadata": {
        "id": "1emtVarsgqD8"
      }
    },
    {
      "cell_type": "code",
      "source": [
        "import time"
      ],
      "metadata": {
        "id": "F_eIfR-agodG"
      },
      "execution_count": 3,
      "outputs": []
    },
    {
      "cell_type": "code",
      "source": [
        "time.time()"
      ],
      "metadata": {
        "colab": {
          "base_uri": "https://localhost:8080/"
        },
        "id": "ZXYS-mUpg9iQ",
        "outputId": "fb0fb339-a042-4737-9558-425c27f4e509"
      },
      "execution_count": 4,
      "outputs": [
        {
          "output_type": "execute_result",
          "data": {
            "text/plain": [
              "1695128219.1503737"
            ]
          },
          "metadata": {},
          "execution_count": 4
        }
      ]
    },
    {
      "cell_type": "code",
      "source": [
        "number = 0\n",
        "\n",
        "# 5초 동안 반복\n",
        "target_tick = time.time() + 5\n",
        "while time.time() < target_tick:\n",
        "    number += 1\n",
        "\n",
        "print(\"5초 동안 {}번 반복했습니다.\".format(number))"
      ],
      "metadata": {
        "colab": {
          "base_uri": "https://localhost:8080/"
        },
        "id": "Mx0tjHLWg-xi",
        "outputId": "d1766b41-34a3-4e45-9c23-0b06d5aff126"
      },
      "execution_count": 5,
      "outputs": [
        {
          "output_type": "stream",
          "name": "stdout",
          "text": [
            "5초 동안 24280064번 반복했습니다.\n"
          ]
        }
      ]
    },
    {
      "cell_type": "markdown",
      "source": [
        "#### 4. while 반복문: break 키워드/continue 키워드\n",
        "- break: 반복문을 벗어날 때 사용하는 키워드. 일반적으로 무한 반복문을 만들고, 내부 반복을 벗어날 때 많이 사용\n",
        "- continue: 현재 반복을 생략하고, 다음 반복으로 넘어갈 때 사용하는 키워드"
      ],
      "metadata": {
        "id": "zYrrfuh0hX4j"
      }
    },
    {
      "cell_type": "code",
      "source": [
        "i = 0\n",
        "\n",
        "# 무한 반복\n",
        "while True:\n",
        "    print(\"{}번째 반복문입니다.\".format(i))\n",
        "    i += 1\n",
        "    input_text = input(\"> 종료하시겠습니까?(y/n): \")\n",
        "    if input_text in (\"y\", \"Y\"):\n",
        "        print(\"반복을 종료합니다.\")\n",
        "        break"
      ],
      "metadata": {
        "colab": {
          "base_uri": "https://localhost:8080/"
        },
        "id": "kaHrf6TYhQ7D",
        "outputId": "c133e71e-951a-40ba-bb59-3e79c4ffe2d9"
      },
      "execution_count": 6,
      "outputs": [
        {
          "output_type": "stream",
          "name": "stdout",
          "text": [
            "0번째 반복문입니다.\n",
            "> 종료하시겠습니까?(y/n): n\n",
            "1번째 반복문입니다.\n",
            "> 종료하시겠습니까?(y/n): j\n",
            "2번째 반복문입니다.\n",
            "> 종료하시겠습니까?(y/n): d\n",
            "3번째 반복문입니다.\n",
            "> 종료하시겠습니까?(y/n): k\n",
            "4번째 반복문입니다.\n",
            "> 종료하시겠습니까?(y/n): y\n",
            "반복을 종료합니다.\n"
          ]
        }
      ]
    },
    {
      "cell_type": "code",
      "source": [
        "numbers = [5, 15, 6, 20, 7, 25]\n",
        "\n",
        "for number in numbers:\n",
        "    if number < 10:\n",
        "        continue\n",
        "    print(number)"
      ],
      "metadata": {
        "colab": {
          "base_uri": "https://localhost:8080/"
        },
        "id": "DssxqtqdiAl8",
        "outputId": "7e802814-7d39-4a9d-928b-d1baf63091e4"
      },
      "execution_count": 7,
      "outputs": [
        {
          "output_type": "stream",
          "name": "stdout",
          "text": [
            "15\n",
            "20\n",
            "25\n"
          ]
        }
      ]
    },
    {
      "cell_type": "markdown",
      "source": [
        "### 확인문제"
      ],
      "metadata": {
        "id": "oebjeDWTiqK1"
      }
    },
    {
      "cell_type": "markdown",
      "source": [
        "#### 1. 키와 값으로 이루어진 각 리스트를 조합해 하나의 딕셔너리 만들기"
      ],
      "metadata": {
        "id": "1015lxYeisu3"
      }
    },
    {
      "cell_type": "code",
      "source": [
        "key_list = [\"name\", \"hp\", \"mp\", \"level\"]\n",
        "value_list = [\"기사\", 200, 30, 5]\n",
        "character = {}\n",
        "# len(key_list), len(value_list)  > 4, 4\n",
        "\n",
        "for i in range(len(key_list)):\n",
        "    character[key_list[i]] = value_list[i]\n",
        "\n",
        "print(character)"
      ],
      "metadata": {
        "colab": {
          "base_uri": "https://localhost:8080/"
        },
        "id": "nEZ5UFsTiNjl",
        "outputId": "c8af857e-b50d-4c37-f258-3aa4c4ecec8b"
      },
      "execution_count": 9,
      "outputs": [
        {
          "output_type": "stream",
          "name": "stdout",
          "text": [
            "{'name': '기사', 'hp': 200, 'mp': 30, 'level': 5}\n"
          ]
        }
      ]
    },
    {
      "cell_type": "markdown",
      "source": [
        "#### 2. 1부터 숫자를 하나씩 더할 때, 몇을 더할 때 1)1000, 2) 10000 을 넘는지 구하기"
      ],
      "metadata": {
        "id": "Z9Wqa2PwjJDb"
      }
    },
    {
      "cell_type": "code",
      "source": [
        "limit_1 = 1000\n",
        "limit_2 = 10000\n",
        "i = 1\n",
        "sum_value = 0\n",
        "\n",
        "while sum_value < limit_1:\n",
        "    sum_value += i\n",
        "    i += 1\n",
        "\n",
        "print(\"{}을 더할 때 {}을 넘으며 그때의 값은 {}입니다.\".format(i-1, limit_1, sum_value))"
      ],
      "metadata": {
        "colab": {
          "base_uri": "https://localhost:8080/"
        },
        "id": "Bo5BJ1eujHvT",
        "outputId": "e5eb981d-a0e9-4544-e178-e77eeb48bb60"
      },
      "execution_count": 12,
      "outputs": [
        {
          "output_type": "stream",
          "name": "stdout",
          "text": [
            "45을 더할 때 1000을 넘으며 그때의 값은 1035입니다.\n"
          ]
        }
      ]
    },
    {
      "cell_type": "markdown",
      "source": [
        "#### 3. 1~100까지의 숫자 중, 어떤 숫자를 곱했을 때 최대가 되는지 구하기\n",
        "단, a+b = 100"
      ],
      "metadata": {
        "id": "4c5-kRKEk2Pi"
      }
    },
    {
      "cell_type": "code",
      "source": [
        "max_value = 0\n",
        "a = 0\n",
        "b = 0\n",
        "\n",
        "for i in range(1, 101):\n",
        "    j = 100-i\n",
        "\n",
        "    # 최대값 구하기\n",
        "    if (i * j) >= max_value:\n",
        "        max_value = i*j\n",
        "        a = i\n",
        "        b = j\n",
        "\n",
        "print(\"최대가 되는 경우: {} * {} = {}\".format(a, b, max_value))"
      ],
      "metadata": {
        "colab": {
          "base_uri": "https://localhost:8080/"
        },
        "id": "txGhDcNLkt5Q",
        "outputId": "151f669e-f536-4da8-82f0-593120a8fb01"
      },
      "execution_count": 14,
      "outputs": [
        {
          "output_type": "stream",
          "name": "stdout",
          "text": [
            "최대가 되는 경우: 50 * 50 = 2500\n"
          ]
        }
      ]
    },
    {
      "cell_type": "markdown",
      "source": [
        "## 04-4. 문자열, 리스트, 딕셔너리와 관련된 기본 함수\\\n",
        "\n",
        "- 리스트에 적용할 수 있는 기본 함수: min(), max(), sum()\n",
        "- 리스트 뒤집기: reversed() → 비파괴적\n",
        "- 현재 인덱스가 몇번째인지 확인: enumerate()\n",
        "- 딕셔너리로 쉽게 반복문 작성하기: items()\n",
        "- 리스트 안에 for문 사용하기: 리스트 내포"
      ],
      "metadata": {
        "id": "8ZPt5GMplwYx"
      }
    },
    {
      "cell_type": "code",
      "source": [
        "temp = reversed([1, 2, 3, 4, 5, 6])\n",
        "\n",
        "for i in temp:\n",
        "    print(\"첫 번째 반복문: {}\".format(i))\n",
        "\n",
        "for i in temp:\n",
        "    print(\"두 번째 반복문: {}\".format(i))"
      ],
      "metadata": {
        "colab": {
          "base_uri": "https://localhost:8080/"
        },
        "id": "-HnqRh4Xlii2",
        "outputId": "b4eaea9d-a448-41f4-e1e8-ac86ced2f2aa"
      },
      "execution_count": 15,
      "outputs": [
        {
          "output_type": "stream",
          "name": "stdout",
          "text": [
            "첫 번째 반복문: 6\n",
            "첫 번째 반복문: 5\n",
            "첫 번째 반복문: 4\n",
            "첫 번째 반복문: 3\n",
            "첫 번째 반복문: 2\n",
            "첫 번째 반복문: 1\n"
          ]
        }
      ]
    },
    {
      "cell_type": "markdown",
      "source": [
        "#### 왜 \"두 번째 반복문\"은 실행되지 않았을까?\n",
        "> - reversed() 함수의 결과가 **제너레이터**이기 때문\n",
        "> - reversed() 함수와 반복문 조합시, for 구문 내부에 reversed() 함수를 곧바로 넣어 사용"
      ],
      "metadata": {
        "id": "4Qlli38vmonj"
      }
    },
    {
      "cell_type": "code",
      "source": [
        "numbers = [1, 2, 3, 4, 5, 6]\n",
        "\n",
        "for i in reversed(numbers):\n",
        "    print(\"첫 번째 반복문: {}\".format(i))\n",
        "\n",
        "for i in reversed(numbers):\n",
        "    print(\"두 번째 반복문: {}\".format(i))"
      ],
      "metadata": {
        "colab": {
          "base_uri": "https://localhost:8080/"
        },
        "id": "VkzxP5zBmnyv",
        "outputId": "0d7a2f9b-7474-4236-897c-66ef6cc9523c"
      },
      "execution_count": 16,
      "outputs": [
        {
          "output_type": "stream",
          "name": "stdout",
          "text": [
            "첫 번째 반복문: 6\n",
            "첫 번째 반복문: 5\n",
            "첫 번째 반복문: 4\n",
            "첫 번째 반복문: 3\n",
            "첫 번째 반복문: 2\n",
            "첫 번째 반복문: 1\n",
            "두 번째 반복문: 6\n",
            "두 번째 반복문: 5\n",
            "두 번째 반복문: 4\n",
            "두 번째 반복문: 3\n",
            "두 번째 반복문: 2\n",
            "두 번째 반복문: 1\n"
          ]
        }
      ]
    },
    {
      "cell_type": "markdown",
      "source": [
        "### enumerate() 함수와 반복문 조합"
      ],
      "metadata": {
        "id": "oJSA95q7nUsc"
      }
    },
    {
      "cell_type": "code",
      "source": [
        "example_list = [\"요소A\", \"요소B\", \"요소C\"]\n",
        "\n",
        "print(\"# 단순 출력\")\n",
        "print(example_list)\n",
        "print()\n",
        "\n",
        "print(\"# enumerate() 함수 적용해 출력\")\n",
        "print(enumerate(example_list))\n",
        "print()\n",
        "\n",
        "print(\"# list() 함수로 강제 변환하여 출력\")\n",
        "print(list(enumerate(example_list)))\n",
        "print()\n",
        "\n",
        "print(\"# for 반복문과 enumerate() 함수 조합해 사용\")\n",
        "for i, value in enumerate(example_list):\n",
        "    print(\"{}번째 요소는 {}입니다.\".format(i, value))"
      ],
      "metadata": {
        "colab": {
          "base_uri": "https://localhost:8080/"
        },
        "id": "BxHgZgY5nOq6",
        "outputId": "a65e0e89-87f0-4ff1-e501-1f521b0295ae"
      },
      "execution_count": 20,
      "outputs": [
        {
          "output_type": "stream",
          "name": "stdout",
          "text": [
            "# 단순 출력\n",
            "['요소A', '요소B', '요소C']\n",
            "\n",
            "# enumerate() 함수 적용해 출력\n",
            "<enumerate object at 0x7a677ce12b80>\n",
            "\n",
            "# list() 함수로 강제 변환하여 출력\n",
            "[(0, '요소A'), (1, '요소B'), (2, '요소C')]\n",
            "\n",
            "# for 반복문과 enumerate() 함수 조합해 사용\n",
            "0번째 요소는 요소A입니다.\n",
            "1번째 요소는 요소B입니다.\n",
            "2번째 요소는 요소C입니다.\n"
          ]
        }
      ]
    },
    {
      "cell_type": "markdown",
      "source": [
        "### 딕셔너리의 items() 함수와 반복문 조합하기"
      ],
      "metadata": {
        "id": "Oc6B0FzzoVtE"
      }
    },
    {
      "cell_type": "code",
      "source": [
        "example_dict = {\n",
        "    \"키A\": \"값A\",\n",
        "    \"키B\": \"값B\",\n",
        "    \"키C\": \"값C\"\n",
        "}\n",
        "\n",
        "print(\"# 딕셔너리의 items() 함수\")\n",
        "print(\"items(): \", example_dict.items())\n",
        "print()\n",
        "\n",
        "# for반복문과 items() 함수 조합해서 사용\n",
        "print(\"# 딕셔너리의 items() 함수와 반복문 조합\")\n",
        "for key, element in example_dict.items():\n",
        "    print(\"dictionary[{}] = {}\".format(key, element))"
      ],
      "metadata": {
        "colab": {
          "base_uri": "https://localhost:8080/"
        },
        "id": "LDNlJRB2ngJ7",
        "outputId": "f16b7fb4-f128-41f7-c5fb-ac8ff3fac808"
      },
      "execution_count": 22,
      "outputs": [
        {
          "output_type": "stream",
          "name": "stdout",
          "text": [
            "# 딕셔너리의 items() 함수\n",
            "items():  dict_items([('키A', '값A'), ('키B', '값B'), ('키C', '값C')])\n",
            "\n",
            "# 딕셔너리의 items() 함수와 반복문 조합\n",
            "dictionary[키A] = 값A\n",
            "dictionary[키B] = 값B\n",
            "dictionary[키C] = 값C\n"
          ]
        }
      ]
    },
    {
      "cell_type": "markdown",
      "source": [
        "### 리스트 내포 (List Comprehensions)\n",
        "- 리스트 이름 = [표현식 for 반복자 in 반복할 수 있는 것]\n",
        "- 리스트 이름 = [표현식 for 반복자 in 반복할 수 있는 것 if 조건문]"
      ],
      "metadata": {
        "id": "4inqvPa6pEAH"
      }
    },
    {
      "cell_type": "code",
      "source": [
        "array = []\n",
        "\n",
        "for i in range(0, 20, 2):\n",
        "    array.append(i * i)\n",
        "\n",
        "print(array)"
      ],
      "metadata": {
        "colab": {
          "base_uri": "https://localhost:8080/"
        },
        "id": "JhPbJ9ymowOQ",
        "outputId": "1169ef02-6866-4cfc-b427-8ddda60c012c"
      },
      "execution_count": 23,
      "outputs": [
        {
          "output_type": "stream",
          "name": "stdout",
          "text": [
            "[0, 4, 16, 36, 64, 100, 144, 196, 256, 324]\n"
          ]
        }
      ]
    },
    {
      "cell_type": "code",
      "source": [
        "# 한줄로 작성하기\n",
        "array = [ i*i for i in range(0, 20, 2)]\n",
        "print(array)"
      ],
      "metadata": {
        "colab": {
          "base_uri": "https://localhost:8080/"
        },
        "id": "QwpwnzJxpOIn",
        "outputId": "f2fe8cc3-22f4-46ed-887c-df23ebdf4522"
      },
      "execution_count": 25,
      "outputs": [
        {
          "output_type": "stream",
          "name": "stdout",
          "text": [
            "[0, 4, 16, 36, 64, 100, 144, 196, 256, 324]\n"
          ]
        }
      ]
    },
    {
      "cell_type": "code",
      "source": [
        "# 조건을 활용한 리스트 내포\n",
        "array = [\"사과\", \"자두\", \"초콜릿\", \"바나나\", \"체리\"]\n",
        "output = [ fruit for fruit in array if fruit != \"초콜릿\"]\n",
        "\n",
        "print(output)"
      ],
      "metadata": {
        "colab": {
          "base_uri": "https://localhost:8080/"
        },
        "id": "NkftAilqpVxt",
        "outputId": "188151ed-ead1-498b-c9a2-769c58067db6"
      },
      "execution_count": 26,
      "outputs": [
        {
          "output_type": "stream",
          "name": "stdout",
          "text": [
            "['사과', '자두', '바나나', '체리']\n"
          ]
        }
      ]
    },
    {
      "cell_type": "code",
      "source": [
        "\n"
      ],
      "metadata": {
        "id": "mnyzqPfap1Ya"
      },
      "execution_count": null,
      "outputs": []
    }
  ]
}