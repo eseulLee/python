{
 "cells": [
  {
   "cell_type": "markdown",
   "id": "fbe71ae8",
   "metadata": {},
   "source": [
    "## 1. 1에서 200까지 모든 3의 배수 합계 계산 (while문)"
   ]
  },
  {
   "cell_type": "code",
   "execution_count": 5,
   "id": "6c3ef6a2",
   "metadata": {},
   "outputs": [
    {
     "name": "stdout",
     "output_type": "stream",
     "text": [
      "6633\n"
     ]
    }
   ],
   "source": [
    "result = 0\n",
    "num = 1\n",
    "while num <= 200 :\n",
    "    if num % 3 == 0:\n",
    "        result += num\n",
    "    num += 1\n",
    "\n",
    "print(result)"
   ]
  },
  {
   "cell_type": "code",
   "execution_count": 20,
   "id": "8d59293e",
   "metadata": {},
   "outputs": [
    {
     "name": "stdout",
     "output_type": "stream",
     "text": [
      "6633\n"
     ]
    }
   ],
   "source": [
    "result = 0\n",
    "num = 3\n",
    "while num <= 200:\n",
    "    result += num\n",
    "    num += 3\n",
    "print(result)"
   ]
  },
  {
   "cell_type": "markdown",
   "id": "8caa5b73",
   "metadata": {},
   "source": [
    "## 2. 1에서 10까지 출력하되 3의 배수는 건너뛰기 (for문)"
   ]
  },
  {
   "cell_type": "code",
   "execution_count": 6,
   "id": "952c63ad",
   "metadata": {},
   "outputs": [
    {
     "name": "stdout",
     "output_type": "stream",
     "text": [
      "1\n",
      "2\n",
      "4\n",
      "5\n",
      "7\n",
      "8\n",
      "10\n"
     ]
    }
   ],
   "source": [
    "for i in range(1,11):\n",
    "    if i % 3:\n",
    "        print(i)"
   ]
  },
  {
   "cell_type": "markdown",
   "id": "4038ca15",
   "metadata": {},
   "source": [
    "## 3. 이중 루프 사용하여 삼각형 출력\n",
    "```\n",
    "            *\n",
    "           **\n",
    "          ***\n",
    "         ****\n",
    "        *****\n",
    "       ******\n",
    "      *******\n",
    "     ********\n",
    "    *********\n",
    "   **********\n",
    " ```\n",
    " "
   ]
  },
  {
   "cell_type": "code",
   "execution_count": 16,
   "id": "11430ed9",
   "metadata": {
    "scrolled": false
   },
   "outputs": [
    {
     "name": "stdout",
     "output_type": "stream",
     "text": [
      "         *\n",
      "        **\n",
      "       ***\n",
      "      ****\n",
      "     *****\n",
      "    ******\n",
      "   *******\n",
      "  ********\n",
      " *********\n",
      "**********\n"
     ]
    }
   ],
   "source": [
    "for x in range(1, 11):\n",
    "    print(' ' * (10 - x), end='')\n",
    "    for y in range(x):\n",
    "        print('*', end='')\n",
    "    print()"
   ]
  },
  {
   "cell_type": "markdown",
   "id": "2f6f4201",
   "metadata": {},
   "source": [
    "sol"
   ]
  },
  {
   "cell_type": "code",
   "execution_count": 22,
   "id": "6bc7a8d5",
   "metadata": {
    "collapsed": true
   },
   "outputs": [
    {
     "name": "stdout",
     "output_type": "stream",
     "text": [
      "         *\n",
      "        **\n",
      "       ***\n",
      "      ****\n",
      "     *****\n",
      "    ******\n",
      "   *******\n",
      "  ********\n",
      " *********\n",
      "**********\n"
     ]
    }
   ],
   "source": [
    "for y in range(1, 11):\n",
    "    for s in range(10-y):\n",
    "        print(' ', end = '')\n",
    "    for x in range(y):\n",
    "        print('*', end = '')\n",
    "    print()"
   ]
  },
  {
   "cell_type": "markdown",
   "id": "34f98a87",
   "metadata": {},
   "source": [
    "## 4. 이중 루프 사용하여 다음 삼각형 출력\n",
    "```\n",
    "            *\n",
    "           ***\n",
    "          *****\n",
    "         *******\n",
    "        *********\n",
    "       ***********\n",
    "      *************\n",
    "     ***************\n",
    "    *****************\n",
    "   *******************\n",
    "```"
   ]
  },
  {
   "cell_type": "code",
   "execution_count": 19,
   "id": "5cc3a028",
   "metadata": {},
   "outputs": [
    {
     "name": "stdout",
     "output_type": "stream",
     "text": [
      "         *\n",
      "        ***\n",
      "       *****\n",
      "      *******\n",
      "     *********\n",
      "    ***********\n",
      "   *************\n",
      "  ***************\n",
      " *****************\n",
      "*******************\n"
     ]
    }
   ],
   "source": [
    "for x in range(1, 11):\n",
    "    print(' ' * (10 - x), end='')\n",
    "    for y in range(2*x-1):\n",
    "        print('*', end='')\n",
    "    print()"
   ]
  },
  {
   "cell_type": "markdown",
   "id": "57e721b7",
   "metadata": {},
   "source": [
    "sol"
   ]
  },
  {
   "cell_type": "code",
   "execution_count": 23,
   "id": "56c23d2d",
   "metadata": {
    "collapsed": true
   },
   "outputs": [
    {
     "name": "stdout",
     "output_type": "stream",
     "text": [
      "         *\n",
      "        ***\n",
      "       *****\n",
      "      *******\n",
      "     *********\n",
      "    ***********\n",
      "   *************\n",
      "  ***************\n",
      " *****************\n",
      "*******************\n"
     ]
    }
   ],
   "source": [
    "for y in range(1, 11):\n",
    "    for s in range(10-y):\n",
    "        print(' ', end = '')\n",
    "    for x in range(y*2-1):\n",
    "        print('*', end = '')\n",
    "    print()"
   ]
  }
 ],
 "metadata": {
  "kernelspec": {
   "display_name": "eseul_pycaret",
   "language": "python",
   "name": "pycaret"
  },
  "language_info": {
   "codemirror_mode": {
    "name": "ipython",
    "version": 3
   },
   "file_extension": ".py",
   "mimetype": "text/x-python",
   "name": "python",
   "nbconvert_exporter": "python",
   "pygments_lexer": "ipython3",
   "version": "3.8.13"
  }
 },
 "nbformat": 4,
 "nbformat_minor": 5
}
