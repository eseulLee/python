{
 "cells": [
  {
   "cell_type": "markdown",
   "id": "6455b69b",
   "metadata": {},
   "source": [
    "## 불변 자료 집합, 튜플(tuple)\n",
    "- 값의 집합이라는 점에서 리스트와 유사하지만, 초기화한 후 편집할 수 없다는 점이 차이\n",
    "- 그래서 튜플을 **상수 리스트**라고도 부름"
   ]
  },
  {
   "cell_type": "code",
   "execution_count": 6,
   "id": "cd8d59f0",
   "metadata": {},
   "outputs": [
    {
     "name": "stdout",
     "output_type": "stream",
     "text": [
      "총점 :  452\n",
      "평균 :  90.4\n"
     ]
    }
   ],
   "source": [
    "score = (88, 95, 70, 100, 99)\n",
    "sum_ = 0\n",
    "for s in score:\n",
    "    sum_ += s\n",
    "print(\"총점 : \", sum_)\n",
    "print(\"평균 : \", sum_/len(score))"
   ]
  },
  {
   "cell_type": "markdown",
   "id": "1d16dea4",
   "metadata": {},
   "source": [
    "요소가 하나밖에 없는 튜플은 일반 변수와 구분되지 않아 **값 다음에 여분의 콤마(,)를 찍어** 튜플임을 표시"
   ]
  },
  {
   "cell_type": "code",
   "execution_count": 7,
   "id": "20239f30",
   "metadata": {},
   "outputs": [
    {
     "name": "stdout",
     "output_type": "stream",
     "text": [
      "(2,)\n",
      "2\n"
     ]
    }
   ],
   "source": [
    "tu = 2,\n",
    "value = 2\n",
    "print(tu)\n",
    "print(value)"
   ]
  },
  {
   "cell_type": "code",
   "execution_count": 5,
   "id": "8875daed",
   "metadata": {},
   "outputs": [
    {
     "name": "stdout",
     "output_type": "stream",
     "text": [
      "4\n",
      "(2, 3, 4)\n",
      "(1, 2, 3, 4, 5, 6, 7)\n",
      "(1, 2, 3, 4, 5, 1, 2, 3, 4, 5)\n"
     ]
    }
   ],
   "source": [
    "tu = 1, 2, 3, 4, 5  # 괄호 없이 가능\n",
    "print(tu[3])\n",
    "print(tu[1:4])\n",
    "print(tu + (6, 7))\n",
    "print(tu * 2)\n",
    "# tu[1] = 100   TypeError: 'tuple' object does not support item assignment\n",
    "# del tu[1]     TypeError: 'tuple' object doesn't support item deletion"
   ]
  },
  {
   "cell_type": "markdown",
   "id": "707fb00c",
   "metadata": {},
   "source": [
    "### Tuple Unpacking"
   ]
  },
  {
   "cell_type": "code",
   "execution_count": 9,
   "id": "1624b647",
   "metadata": {},
   "outputs": [
    {
     "name": "stdout",
     "output_type": "stream",
     "text": [
      "이순신\n",
      "김유신\n",
      "강감찬\n"
     ]
    }
   ],
   "source": [
    "tu = \"이순신\", \"김유신\", \"강감찬\"\n",
    "lee, kim, kang = tu\n",
    "print(lee)\n",
    "print(kim)\n",
    "print(kang)"
   ]
  },
  {
   "cell_type": "markdown",
   "id": "bc9ae9a1",
   "metadata": {},
   "source": [
    "### Swap"
   ]
  },
  {
   "cell_type": "code",
   "execution_count": 11,
   "id": "1030f839",
   "metadata": {},
   "outputs": [
    {
     "name": "stdout",
     "output_type": "stream",
     "text": [
      "12 34\n",
      "34 12\n"
     ]
    }
   ],
   "source": [
    "a, b = 12, 34\n",
    "print(a, b)\n",
    "a, b = b, a   # 하나씩 순서대로 대입하는 것이 아닌 우변을 모두 평가한 후 한꺼번에 대입\n",
    "print(a, b)"
   ]
  },
  {
   "cell_type": "markdown",
   "id": "4bac8ed7",
   "metadata": {},
   "source": [
    "튜플을 사용하면 리턴값을 여러개 반환할 수 있음!!"
   ]
  },
  {
   "cell_type": "code",
   "execution_count": 13,
   "id": "5867fec7",
   "metadata": {},
   "outputs": [
    {
     "name": "stdout",
     "output_type": "stream",
     "text": [
      "지금은 0시 30분입니다.\n",
      "(0, 30)\n"
     ]
    }
   ],
   "source": [
    "import time\n",
    "\n",
    "def gettime():\n",
    "    now = time.localtime()\n",
    "    return now.tm_hour, now.tm_min\n",
    "\n",
    "result = gettime()\n",
    "print(\"지금은 %d시 %d분입니다.\" % (result[0], result[1]))\n",
    "print(result)"
   ]
  },
  {
   "cell_type": "code",
   "execution_count": 14,
   "id": "533a3254",
   "metadata": {},
   "outputs": [
    {
     "name": "stdout",
     "output_type": "stream",
     "text": [
      "지금은 0시 30분입니다.\n"
     ]
    }
   ],
   "source": [
    "hour, min = gettime()\n",
    "print(\"지금은 %d시 %d분입니다.\" % (hour, min))"
   ]
  },
  {
   "cell_type": "markdown",
   "id": "7d781a0a",
   "metadata": {},
   "source": [
    "나눗셈의 몫과 나머지를 튜플로 묶어 리턴하는 내장함수 **divmod()**"
   ]
  },
  {
   "cell_type": "code",
   "execution_count": 15,
   "id": "8953c53c",
   "metadata": {},
   "outputs": [
    {
     "name": "stdout",
     "output_type": "stream",
     "text": [
      "몫 2\n",
      "나머지 1\n"
     ]
    }
   ],
   "source": [
    "d, m = divmod(7, 3)\n",
    "print(\"몫\", d)\n",
    "print(\"나머지\", m)"
   ]
  },
  {
   "cell_type": "markdown",
   "id": "13f2c4a3",
   "metadata": {},
   "source": [
    "---\n",
    "# 🤔 튜플을 사용하는 이유\n",
    "- 비용의 차이\n",
    "    - 리스트는 변경 가능성을 항상 대비해야 하므로 더 많은 메모리를 사용하고 속도도 느린 반면, 튜플은 값의 집합만 표현할 뿐 바뀔 일이 없으므로 내부 구조가 훨씬 단순하고 읽는 속도도 빠름\n",
    "- 편집할 수 없기 때문에 안정적\n",
    "    - 리스트는 실수나 불의의 사고로 언제든지 값이 바뀔 수 있지만, 튜플은 한번 정해지면 절대로 바꿀 수 없어 실수할 위험이 없음\n",
    "    - 데이터베이스에서 읽었거나 네트워크로 받은 정보는 단순히 참조만 하면 될 뿐 편집할 일이 없으므로 리스트보다 튜플로 받는 것이 더 안전\n",
    "    \n",
    "- 튜플은 값이 고정적이어서 **사전의 키**로 사용할 수 있고, **가변 인수 전달**에도 사용됨\n",
    "---\n"
   ]
  },
  {
   "cell_type": "markdown",
   "id": "14bf77b4",
   "metadata": {},
   "source": [
    "## 연습문제\n",
    "\n",
    "### 1. score 리스트에 성적값 8개 저장하고 총점, 평균 출력"
   ]
  },
  {
   "cell_type": "code",
   "execution_count": 18,
   "id": "885f4a6e",
   "metadata": {},
   "outputs": [
    {
     "name": "stdout",
     "output_type": "stream",
     "text": [
      "총점 :  648\n",
      "평균 :  81.0\n"
     ]
    }
   ],
   "source": [
    "score = [85, 95, 100, 76, 84, 49, 60, 99]\n",
    "sum_ = sum(score)\n",
    "print('총점 : ', sum_)\n",
    "print('평균 : ', sum_/len(score))"
   ]
  },
  {
   "cell_type": "markdown",
   "id": "9833c10d",
   "metadata": {},
   "source": [
    "### 2. score = [88, 95, 70, 100, 99] 리스트에서 2번 학생의 성적을 0점으로 변경"
   ]
  },
  {
   "cell_type": "code",
   "execution_count": 19,
   "id": "7bd951da",
   "metadata": {},
   "outputs": [
    {
     "name": "stdout",
     "output_type": "stream",
     "text": [
      "[85, 0, 100, 76, 84, 49, 60, 99]\n"
     ]
    }
   ],
   "source": [
    "score[1] = 0\n",
    "print(score)"
   ]
  },
  {
   "cell_type": "markdown",
   "id": "d30dddd6",
   "metadata": {},
   "source": [
    "### 3. list comprehension을 사용하여 1에서 100 사이의 짝수로 구성된 리스트 생성"
   ]
  },
  {
   "cell_type": "code",
   "execution_count": 20,
   "id": "b4ec100a",
   "metadata": {},
   "outputs": [
    {
     "name": "stdout",
     "output_type": "stream",
     "text": [
      "[2, 4, 6, 8, 10, 12, 14, 16, 18, 20, 22, 24, 26, 28, 30, 32, 34, 36, 38, 40, 42, 44, 46, 48, 50, 52, 54, 56, 58, 60, 62, 64, 66, 68, 70, 72, 74, 76, 78, 80, 82, 84, 86, 88, 90, 92, 94, 96, 98, 100]\n"
     ]
    }
   ],
   "source": [
    "result3 = [n for n in range(1, 101) if n % 2 == 0]\n",
    "print(result3)"
   ]
  },
  {
   "cell_type": "markdown",
   "id": "8f62709e",
   "metadata": {},
   "source": [
    "### 4. [n*n for n in range(1, 10) if n % 3 == 0] 구문을 평이한 루프와 조건문, 연산식으로 풀어서 작성"
   ]
  },
  {
   "cell_type": "code",
   "execution_count": 21,
   "id": "de9086fc",
   "metadata": {},
   "outputs": [
    {
     "name": "stdout",
     "output_type": "stream",
     "text": [
      "[3, 6, 9]\n"
     ]
    }
   ],
   "source": [
    "result4 = []\n",
    "for n in range(1, 10):\n",
    "    if n % 3 == 0:\n",
    "        result4.append(n)\n",
    "        \n",
    "print(result4)"
   ]
  },
  {
   "cell_type": "markdown",
   "id": "d6fb2066",
   "metadata": {},
   "source": [
    "### 7. 사용자로부터 5개의 성적을 입력받아 리스트에 저장한 후 오름차순으로 정렬하여 출력"
   ]
  },
  {
   "cell_type": "code",
   "execution_count": 23,
   "id": "8b0fb145",
   "metadata": {},
   "outputs": [
    {
     "name": "stdout",
     "output_type": "stream",
     "text": [
      "60\n",
      "75\n",
      "40\n",
      "95\n",
      "80\n",
      "[40, 60, 75, 80, 95]\n"
     ]
    }
   ],
   "source": [
    "score =[int(input()) for _ in range(5)]\n",
    "score.sort()\n",
    "print(score)"
   ]
  }
 ],
 "metadata": {
  "kernelspec": {
   "display_name": "eseul_pycaret",
   "language": "python",
   "name": "pycaret"
  },
  "language_info": {
   "codemirror_mode": {
    "name": "ipython",
    "version": 3
   },
   "file_extension": ".py",
   "mimetype": "text/x-python",
   "name": "python",
   "nbconvert_exporter": "python",
   "pygments_lexer": "ipython3",
   "version": "3.8.13"
  }
 },
 "nbformat": 4,
 "nbformat_minor": 5
}
