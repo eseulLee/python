{
 "cells": [
  {
   "cell_type": "markdown",
   "id": "b9af45dd",
   "metadata": {},
   "source": [
    "## 키와 값의 쌍, Dictionary\n",
    "- 사전(dictionary)은 키와 값의 쌍을 저장하는 대용량의 자료구조\n",
    "- 해시 알고리즘을 사용하여 일대일로 대응되는 특성이 있어 **맵**이라고도 부르고 관련된 키와 값의 쌍이라고 해서 **연관배열**이라고도 부름\n",
    "- 키는 값을 찾는 기준이기 때문에 중복되지 않는 고유의 값을 가져야 하지만 값은 중복되어도 상관 없음\n",
    "- **키는 읽기 전용이어서 변경할 수 없으며 그래서 튜플은 키로 쓸 수 있지만 리스트는 불가**\n",
    "- 사전은 빠른 검색을 위해 키로부터 저장하는 위치를 결정하며 최대한 찾기 쉬운 위치에 저장하기 때문에 순서를 유지하지 않음"
   ]
  },
  {
   "cell_type": "code",
   "execution_count": 2,
   "id": "2800070d",
   "metadata": {},
   "outputs": [
    {
     "name": "stdout",
     "output_type": "stream",
     "text": [
      "소년\n",
      "책\n"
     ]
    }
   ],
   "source": [
    "dic = {'boy':'소년', 'school':'학교', 'book':'책', 'friend':'친구'}\n",
    "print(dic['boy'])\n",
    "print(dic['book'])"
   ]
  },
  {
   "cell_type": "code",
   "execution_count": 3,
   "id": "ac840e9d",
   "metadata": {},
   "outputs": [
    {
     "ename": "KeyError",
     "evalue": "'student'",
     "output_type": "error",
     "traceback": [
      "\u001b[1;31m---------------------------------------------------------------------------\u001b[0m",
      "\u001b[1;31mKeyError\u001b[0m                                  Traceback (most recent call last)",
      "Input \u001b[1;32mIn [3]\u001b[0m, in \u001b[0;36m<cell line: 1>\u001b[1;34m()\u001b[0m\n\u001b[1;32m----> 1\u001b[0m \u001b[38;5;28mprint\u001b[39m(\u001b[43mdic\u001b[49m\u001b[43m[\u001b[49m\u001b[38;5;124;43m'\u001b[39;49m\u001b[38;5;124;43mstudent\u001b[39;49m\u001b[38;5;124;43m'\u001b[39;49m\u001b[43m]\u001b[49m)\n",
      "\u001b[1;31mKeyError\u001b[0m: 'student'"
     ]
    }
   ],
   "source": [
    "print(dic['student'])"
   ]
  },
  {
   "cell_type": "markdown",
   "id": "672d44a6",
   "metadata": {},
   "source": [
    "- 위의 경우처럼 찾는 키가 없으면 키가 없다는 예외가 발생하게 됨 > 예외 처리 구문 사용해야 함\n",
    "- 예외 처리 구문으로 감싸는 게 불편한 경우, **get 메서드**로 값을 찾는다!\n",
    "\n",
    "#### get 메서드\n",
    "- 키가 없을 때 에러를 발생시키는 대신 **None**을 리턴\n",
    "- 두 번째 인수로 대신 돌려줄 디폴트값 지정 가능"
   ]
  },
  {
   "cell_type": "code",
   "execution_count": 7,
   "id": "83669833",
   "metadata": {},
   "outputs": [
    {
     "name": "stdout",
     "output_type": "stream",
     "text": [
      "Help on built-in function get:\n",
      "\n",
      "get(key, default=None, /) method of builtins.dict instance\n",
      "    Return the value for key if key is in the dictionary, else default.\n",
      "\n"
     ]
    }
   ],
   "source": [
    "help(dic.get)"
   ]
  },
  {
   "cell_type": "code",
   "execution_count": 8,
   "id": "5d2949a3",
   "metadata": {},
   "outputs": [
    {
     "name": "stdout",
     "output_type": "stream",
     "text": [
      "None\n",
      "사전에 없는 단어입니다.\n"
     ]
    }
   ],
   "source": [
    "dic = {'boy':'소년', 'school':'학교', 'book':'책', 'friend':'친구'}\n",
    "print(dic.get('student'))\n",
    "print(dic.get('student', '사전에 없는 단어입니다.'))"
   ]
  },
  {
   "cell_type": "code",
   "execution_count": 9,
   "id": "8e47efc7",
   "metadata": {},
   "outputs": [
    {
     "name": "stdout",
     "output_type": "stream",
     "text": [
      "사전에 없는 단어입니다.\n"
     ]
    }
   ],
   "source": [
    "dic = {'boy':'소년', 'school':'학교', 'book':'책', 'friend':'친구'}\n",
    "if 'student' in dic:\n",
    "    print('사전에 있는 단어입니다.')\n",
    "else:\n",
    "    print('사전에 없는 단어입니다.')"
   ]
  },
  {
   "cell_type": "markdown",
   "id": "adbddb28",
   "metadata": {},
   "source": [
    "## 사전 관리\n",
    "- 사전은 **변경 가능한 자료형**이어서 실행 중에 삽입, 삭제, 수정 등의 편집 자유롭게 가능\n",
    "- [] 괄호와 대입문 주로 사용"
   ]
  },
  {
   "cell_type": "code",
   "execution_count": 10,
   "id": "70581058",
   "metadata": {},
   "outputs": [
    {
     "name": "stdout",
     "output_type": "stream",
     "text": [
      "{'boy': '남자애', 'school': '학교', 'friend': '친구', 'girl': '소녀'}\n"
     ]
    }
   ],
   "source": [
    "dic = {'boy':'소년', 'school':'학교', 'book':'책', 'friend':'친구'}\n",
    "dic['boy'] = '남자애'  # key 이미 존재: 값 대치(변경)\n",
    "dic['girl'] = '소녀'   # key 존재 X : 새로운 요소 추가\n",
    "del dic['book']        \n",
    "print(dic)"
   ]
  },
  {
   "cell_type": "markdown",
   "id": "8dd41996",
   "metadata": {},
   "source": [
    "사전의 모든 요소를 삭제하여 완전히 비울 때는 clear 메서드 사용"
   ]
  },
  {
   "cell_type": "code",
   "execution_count": 12,
   "id": "ad6b2815",
   "metadata": {},
   "outputs": [
    {
     "name": "stdout",
     "output_type": "stream",
     "text": [
      "{}\n"
     ]
    }
   ],
   "source": [
    "dic.clear()\n",
    "print(dic)"
   ]
  },
  {
   "cell_type": "markdown",
   "id": "89b9f94a",
   "metadata": {},
   "source": [
    "### 사전의 키, 값 목록\n",
    "- dict_keys, dict_values, dict_items 라는 리스트 객체 리턴\n",
    "- dict_* 객체: 리스트처럼 순회 기능하여 값을 순서대로 읽을 수 있음"
   ]
  },
  {
   "cell_type": "code",
   "execution_count": 15,
   "id": "cde7e3ef",
   "metadata": {},
   "outputs": [
    {
     "name": "stdout",
     "output_type": "stream",
     "text": [
      "dict_keys(['boy', 'school', 'book', 'friend'])\n",
      "dict_values(['소년', '학교', '책', '친구'])\n",
      "dict_items([('boy', '소년'), ('school', '학교'), ('book', '책'), ('friend', '친구')])\n"
     ]
    }
   ],
   "source": [
    "dic = {'boy':'소년', 'school':'학교', 'book':'책', 'friend':'친구'}\n",
    "print(dic.keys())\n",
    "print(dic.values())\n",
    "print(dic.items())"
   ]
  },
  {
   "cell_type": "code",
   "execution_count": 16,
   "id": "427ccb35",
   "metadata": {},
   "outputs": [
    {
     "name": "stdout",
     "output_type": "stream",
     "text": [
      "boy\n",
      "school\n",
      "book\n",
      "friend\n"
     ]
    }
   ],
   "source": [
    "dic = {'boy':'소년', 'school':'학교', 'book':'책', 'friend':'친구'}\n",
    "keylist = dic.keys()\n",
    "for key in keylist:\n",
    "    print(key)"
   ]
  },
  {
   "cell_type": "markdown",
   "id": "034b236a",
   "metadata": {},
   "source": [
    "- dict_* 객체의 경우, 진자 리스트가 아니어서 append, insert 등의 편집 함수를 호출할 수 없음\n",
    "- 리스트로 만들고 싶은 경우에는 list() 함수 사용"
   ]
  },
  {
   "cell_type": "markdown",
   "id": "bebcb459",
   "metadata": {},
   "source": [
    "### 사전 병합, update\n",
    "- 중복된 키가 있으면 **병합되는 키 값이 적용**"
   ]
  },
  {
   "cell_type": "code",
   "execution_count": 17,
   "id": "3560b481",
   "metadata": {},
   "outputs": [
    {
     "name": "stdout",
     "output_type": "stream",
     "text": [
      "{'boy': '소년', 'school': '학교', 'book': '서적', 'student': '학생', 'teacher': '선생님'}\n"
     ]
    }
   ],
   "source": [
    "dic = {'boy':'소년', 'school':'학교', 'book':'책'}\n",
    "dic2 = {'student':'학생', 'teacher':'선생님', 'book':'서적'}\n",
    "dic.update(dic2)\n",
    "print(dic)"
   ]
  },
  {
   "cell_type": "markdown",
   "id": "c0fb7f81",
   "metadata": {},
   "source": [
    "### 2차원 리스트 > 사전 변환\n",
    "- 리스트에 중복되는 키가 있으면 **뒤쪽에 있는 키의 값이 적용**"
   ]
  },
  {
   "cell_type": "code",
   "execution_count": 18,
   "id": "01b9d271",
   "metadata": {},
   "outputs": [
    {
     "name": "stdout",
     "output_type": "stream",
     "text": [
      "{'boy': '소년', 'school': '학교', 'book': '책'}\n"
     ]
    }
   ],
   "source": [
    "li = [['boy','소년'],['school','학교'], ['book', '책']]\n",
    "dic = dict(li)\n",
    "print(dic)"
   ]
  },
  {
   "cell_type": "markdown",
   "id": "df81f3ee",
   "metadata": {},
   "source": [
    "### 사전 활용) 노래 가사에 등장하는 알파벳 출현 횟수 구하기"
   ]
  },
  {
   "cell_type": "code",
   "execution_count": 20,
   "id": "c57d6030",
   "metadata": {},
   "outputs": [
    {
     "name": "stdout",
     "output_type": "stream",
     "text": [
      "{'b': 4, 'y': 5, 't': 9, 'h': 9, 'e': 22, 'r': 12, 'i': 10, 'v': 2, 's': 10, 'o': 10, 'f': 2, 'a': 12, 'l': 5, 'n': 13, 'w': 12, 'd': 6, 'p': 2, 'm': 3, 'z': 1, 'c': 3, 'k': 1, 'u': 3, 'q': 1, 'g': 4}\n"
     ]
    }
   ],
   "source": [
    "song = \"\"\"by the rivers of babylon, there we sat down\n",
    "yeah we wept, when we remember zion.\n",
    "when the wicked carried us away in captivity\n",
    "required from us a song\n",
    "now how shall we sing the lord's song in a strange land\"\"\"\n",
    "\n",
    "alphabet = dict()\n",
    "for c in song:\n",
    "    if c.isalpha() == False:\n",
    "        continue\n",
    "    c = c.lower()\n",
    "    if c not in alphabet:\n",
    "        alphabet[c] = 1\n",
    "    else:\n",
    "        alphabet[c] += 1\n",
    "\n",
    "print(alphabet)"
   ]
  },
  {
   "cell_type": "markdown",
   "id": "cd03c18d",
   "metadata": {},
   "source": [
    "사전은 검색하기 편한 위치에 저장하기 때문에 순서가 없는 컬렉션이어서 보기가 어렵다..!  \n",
    "\n",
    "알파벳순으로 정렬해서 출력하려면 별도의 출력코드가 필요!"
   ]
  },
  {
   "cell_type": "code",
   "execution_count": 21,
   "id": "78deca39",
   "metadata": {},
   "outputs": [
    {
     "name": "stdout",
     "output_type": "stream",
     "text": [
      "a => 12\n",
      "b => 4\n",
      "c => 3\n",
      "d => 6\n",
      "e => 22\n",
      "f => 2\n",
      "g => 4\n",
      "h => 9\n",
      "i => 10\n",
      "k => 1\n",
      "l => 5\n",
      "m => 3\n",
      "n => 13\n",
      "o => 10\n",
      "p => 2\n",
      "q => 1\n",
      "r => 12\n",
      "s => 10\n",
      "t => 9\n",
      "u => 3\n",
      "v => 2\n",
      "w => 12\n",
      "y => 5\n",
      "z => 1\n"
     ]
    }
   ],
   "source": [
    "key = list(alphabet.keys())\n",
    "key.sort()\n",
    "for c in key:\n",
    "    num = alphabet[c]\n",
    "    print(c, \"=>\", num)"
   ]
  },
  {
   "cell_type": "markdown",
   "id": "2a53b08e",
   "metadata": {},
   "source": [
    "위의 경우, j와 x는 문자열에 없어서 결과 목록에 아예 나타나지 않음..\n",
    "\n",
    "a~z 까지 순회하며 각 알파벳의 등장 횟수 조사 (안 쓰인 것까지!)"
   ]
  },
  {
   "cell_type": "code",
   "execution_count": 22,
   "id": "cb242e05",
   "metadata": {},
   "outputs": [
    {
     "name": "stdout",
     "output_type": "stream",
     "text": [
      "a => 12\n",
      "b => 4\n",
      "c => 3\n",
      "d => 6\n",
      "e => 22\n",
      "f => 2\n",
      "g => 4\n",
      "h => 9\n",
      "i => 10\n",
      "j => 0\n",
      "k => 1\n",
      "l => 5\n",
      "m => 3\n",
      "n => 13\n",
      "o => 10\n",
      "p => 2\n",
      "q => 1\n",
      "r => 12\n",
      "s => 10\n",
      "t => 9\n",
      "u => 3\n",
      "v => 2\n",
      "w => 12\n",
      "x => 0\n",
      "y => 5\n",
      "z => 1\n"
     ]
    }
   ],
   "source": [
    "for code in range(ord('a'), ord('z') +1):\n",
    "    c = chr(code)\n",
    "    num = alphabet.get(c, 0)\n",
    "    print(c, '=>', num)"
   ]
  }
 ],
 "metadata": {
  "kernelspec": {
   "display_name": "eseul_pycaret",
   "language": "python",
   "name": "pycaret"
  },
  "language_info": {
   "codemirror_mode": {
    "name": "ipython",
    "version": 3
   },
   "file_extension": ".py",
   "mimetype": "text/x-python",
   "name": "python",
   "nbconvert_exporter": "python",
   "pygments_lexer": "ipython3",
   "version": "3.8.13"
  }
 },
 "nbformat": 4,
 "nbformat_minor": 5
}
