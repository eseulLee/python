{
 "cells": [
  {
   "cell_type": "markdown",
   "id": "4238efaf",
   "metadata": {},
   "source": [
    "## 8.2 문자열 메서드"
   ]
  },
  {
   "cell_type": "markdown",
   "id": "27b22d52",
   "metadata": {},
   "source": [
    "### 8.2.1. 검색"
   ]
  },
  {
   "cell_type": "code",
   "execution_count": 7,
   "id": "39f6de12",
   "metadata": {},
   "outputs": [
    {
     "name": "stdout",
     "output_type": "stream",
     "text": [
      "18\n",
      "4\n",
      "9\n",
      "8\n",
      "11\n",
      "2\n"
     ]
    }
   ],
   "source": [
    "s = 'python programming'\n",
    "print(len(s))\n",
    "print(s.find('o'))\n",
    "print(s.rfind('o'))   # r : rear\n",
    "print(s.index('r'))\n",
    "print(s.rindex('r'))\n",
    "print(s.count('n'))"
   ]
  },
  {
   "cell_type": "markdown",
   "id": "35e16b37",
   "metadata": {},
   "source": [
    "### 8.2.2. 조사"
   ]
  },
  {
   "cell_type": "code",
   "execution_count": 9,
   "id": "625fee57",
   "metadata": {},
   "outputs": [
    {
     "name": "stdout",
     "output_type": "stream",
     "text": [
      "True\n",
      "False\n",
      "True\n",
      "True\n"
     ]
    }
   ],
   "source": [
    "s = 'python programming'\n",
    "print('a' in s)\n",
    "print('z' in s)\n",
    "print('pro' in s)\n",
    "print('x' not in s)"
   ]
  },
  {
   "cell_type": "code",
   "execution_count": 11,
   "id": "f332145c",
   "metadata": {},
   "outputs": [
    {
     "name": "stdout",
     "output_type": "stream",
     "text": [
      "홍가입니다.\n",
      "그림 파일입니다.\n"
     ]
    }
   ],
   "source": [
    "name = '홍길동'\n",
    "if name.startswith('홍'):\n",
    "    print('홍가입니다.')\n",
    "if name.startswith('길'):\n",
    "    print('길가입니다.')\n",
    "    \n",
    "file = 'girl.jpg'\n",
    "if file.endswith('.jpg'):\n",
    "    print('그림 파일입니다.')"
   ]
  },
  {
   "cell_type": "code",
   "execution_count": 17,
   "id": "1f128fa3",
   "metadata": {},
   "outputs": [
    {
     "ename": "SyntaxError",
     "evalue": "invalid character in identifier (2463175134.py, line 1)",
     "output_type": "error",
     "traceback": [
      "\u001b[1;36m  Input \u001b[1;32mIn [17]\u001b[1;36m\u001b[0m\n\u001b[1;33m    3²\u001b[0m\n\u001b[1;37m     ^\u001b[0m\n\u001b[1;31mSyntaxError\u001b[0m\u001b[1;31m:\u001b[0m invalid character in identifier\n"
     ]
    }
   ],
   "source": [
    "3²"
   ]
  },
  {
   "cell_type": "markdown",
   "id": "8b70d62e",
   "metadata": {},
   "source": [
    "### 8.2.3. 변경"
   ]
  },
  {
   "cell_type": "code",
   "execution_count": 27,
   "id": "64dc6635",
   "metadata": {},
   "outputs": [
    {
     "name": "stdout",
     "output_type": "stream",
     "text": [
      "good morning, my love kim.\n",
      "GOOD MORNING, MY LOVE KIM.\n",
      "good mOrning, my love KIM.\n",
      "GOOD MoRNING, MY LOVE kim.\n",
      "Good morning, my love kim.\n",
      "Good Morning, My Love Kim.\n"
     ]
    }
   ],
   "source": [
    "s = 'good mOrning, my love KIM.'\n",
    "print(s.lower())\n",
    "print(s.upper())\n",
    "print(s)\n",
    "\n",
    "print(s.swapcase())\n",
    "print(s.capitalize())\n",
    "print(s.title())"
   ]
  },
  {
   "cell_type": "code",
   "execution_count": 30,
   "id": "3373e4ac",
   "metadata": {},
   "outputs": [
    {
     "name": "stdout",
     "output_type": "stream",
     "text": [
      "사과를 영어로 하면? : Apple\n",
      "맞췄습니다!\n"
     ]
    }
   ],
   "source": [
    "quiz = input('사과를 영어로 하면? : ')\n",
    "if quiz.lower() == 'apple':\n",
    "    print('맞췄습니다!')"
   ]
  },
  {
   "cell_type": "code",
   "execution_count": 32,
   "id": "072cfbb2",
   "metadata": {
    "scrolled": true
   },
   "outputs": [
    {
     "name": "stdout",
     "output_type": "stream",
     "text": [
      "   eseul   님\n",
      "eseul   님\n",
      "   eseul님\n",
      "eseul님\n"
     ]
    }
   ],
   "source": [
    "s = \"   eseul   \"\n",
    "print(s + '님')\n",
    "print(s.lstrip() + '님')\n",
    "print(s.rstrip() + '님')\n",
    "print(s.strip() + '님')"
   ]
  },
  {
   "cell_type": "markdown",
   "id": "bce660bb",
   "metadata": {},
   "source": [
    "### 8.2.4. 분할"
   ]
  },
  {
   "cell_type": "code",
   "execution_count": 33,
   "id": "5e4fca14",
   "metadata": {},
   "outputs": [
    {
     "name": "stdout",
     "output_type": "stream",
     "text": [
      "['짜장면', '짬뽕', '탕수육']\n",
      "['서울', '대전', '대구', '부산']\n",
      "서울 찍고 대전 찍고 대구 찍고 부산 찍고 "
     ]
    }
   ],
   "source": [
    "s1 = '짜장면 짬뽕 탕수육'\n",
    "print(s1.split())\n",
    "\n",
    "s2 = '서울>>대전>>대구>>부산'\n",
    "city = s2.split('>>')\n",
    "print(city)\n",
    "for c in city:\n",
    "    print(c, '찍고', end=' ')"
   ]
  },
  {
   "cell_type": "code",
   "execution_count": 34,
   "id": "245f9ca1",
   "metadata": {
    "scrolled": true
   },
   "outputs": [
    {
     "name": "stdout",
     "output_type": "stream",
     "text": [
      "['강나루 건너서', '밀밭 길을', '', '구름에 달 가듯이', '가는 나그네', '', '길은 외줄기', '남도 삼백리', '', '술 익는 마을마다', '타는 저녁놀', '', '구름에 달 가듯이', '가는 나그네']\n",
      "강나루 건너서\n",
      "밀밭 길을\n",
      "\n",
      "구름에 달 가듯이\n",
      "가는 나그네\n",
      "\n",
      "길은 외줄기\n",
      "남도 삼백리\n",
      "\n",
      "술 익는 마을마다\n",
      "타는 저녁놀\n",
      "\n",
      "구름에 달 가듯이\n",
      "가는 나그네\n"
     ]
    }
   ],
   "source": [
    "traveler = \"\"\"강나루 건너서\\n밀밭 길을\\n\\n구름에 달 가듯이\\n가는 나그네\\n\n",
    "길은 외줄기\\n남도 삼백리\\n\\n술 익는 마을마다\\n타는 저녁놀\\n\n",
    "구름에 달 가듯이\\n가는 나그네\"\"\"\n",
    "\n",
    "poet = traveler.splitlines()\n",
    "print(poet)\n",
    "\n",
    "for line in poet:\n",
    "    print(line)"
   ]
  },
  {
   "cell_type": "code",
   "execution_count": 35,
   "id": "aae2f1c1",
   "metadata": {},
   "outputs": [
    {
     "name": "stdout",
     "output_type": "stream",
     "text": [
      "안._.녕._.하._.세._.요\n"
     ]
    }
   ],
   "source": [
    "s = '._.'\n",
    "print(s.join('안녕하세요'))"
   ]
  },
  {
   "cell_type": "markdown",
   "id": "44a8ed26",
   "metadata": {},
   "source": [
    "### 8.2.5. 대체"
   ]
  },
  {
   "cell_type": "code",
   "execution_count": 38,
   "id": "8ae55185",
   "metadata": {
    "scrolled": true
   },
   "outputs": [
    {
     "name": "stdout",
     "output_type": "stream",
     "text": [
      "hello world\n",
      "hi world\n"
     ]
    }
   ],
   "source": [
    "a = 'hello world'\n",
    "print(a)\n",
    "print(a.replace('hello','hi'))"
   ]
  },
  {
   "cell_type": "code",
   "execution_count": 39,
   "id": "f78d6edc",
   "metadata": {},
   "outputs": [
    {
     "name": "stdout",
     "output_type": "stream",
     "text": [
      "안녕하세요~                        \n",
      "                        안녕하세요~\n",
      "            안녕하세요~            \n"
     ]
    }
   ],
   "source": [
    "message = '안녕하세요~'\n",
    "print(message.ljust(30))\n",
    "print(message.rjust(30))\n",
    "print(message.center(30))"
   ]
  }
 ],
 "metadata": {
  "kernelspec": {
   "display_name": "eseul_pycaret",
   "language": "python",
   "name": "pycaret"
  },
  "language_info": {
   "codemirror_mode": {
    "name": "ipython",
    "version": 3
   },
   "file_extension": ".py",
   "mimetype": "text/x-python",
   "name": "python",
   "nbconvert_exporter": "python",
   "pygments_lexer": "ipython3",
   "version": "3.8.13"
  }
 },
 "nbformat": 4,
 "nbformat_minor": 5
}
