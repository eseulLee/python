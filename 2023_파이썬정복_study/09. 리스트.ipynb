{
 "cells": [
  {
   "cell_type": "markdown",
   "id": "5b611e9f",
   "metadata": {},
   "source": [
    "### 리스트 요소/원소 대체"
   ]
  },
  {
   "cell_type": "code",
   "execution_count": 5,
   "id": "3abdb724",
   "metadata": {},
   "outputs": [
    {
     "name": "stdout",
     "output_type": "stream",
     "text": [
      "[0, 1, 20, 30, 40, 5, 6, 7, 8, 9]\n",
      "[0, 1, 20, 30, 40, 5, 90, 91, 92, 93, 94, 8, 9]\n"
     ]
    }
   ],
   "source": [
    "nums = list(range(10))  # [0, 1, 2, 3, 4, 5, 6, 7, 8, 9]\n",
    "nums[2:5] = [20, 30, 40]\n",
    "print(nums)\n",
    "nums[6:8] = [90, 91, 92, 93, 94] # 개수 다른 경우도 대체 가능\n",
    "print(nums)"
   ]
  },
  {
   "cell_type": "markdown",
   "id": "8c7cfa9e",
   "metadata": {},
   "source": [
    "### 리스트 요소 삭제"
   ]
  },
  {
   "cell_type": "code",
   "execution_count": 7,
   "id": "be3ba282",
   "metadata": {},
   "outputs": [
    {
     "name": "stdout",
     "output_type": "stream",
     "text": [
      "[0, 1, 5, 6, 7, 8, 9]\n",
      "[0, 1, 5, 6, 8, 9]\n"
     ]
    }
   ],
   "source": [
    "nums = list(range(10))\n",
    "nums[2:5] = []  # 값을 빈 리스트[]로 대체시 삭제 효과\n",
    "print(nums)\n",
    "del nums[4]     # 요소 한 개 삭제\n",
    "print(nums)"
   ]
  },
  {
   "cell_type": "markdown",
   "id": "d70f1358",
   "metadata": {},
   "source": [
    "### 리스트 요소 연결"
   ]
  },
  {
   "cell_type": "code",
   "execution_count": 9,
   "id": "f32ee3aa",
   "metadata": {},
   "outputs": [
    {
     "name": "stdout",
     "output_type": "stream",
     "text": [
      "[1, 2, 3, 4, 5, 10, 11]\n",
      "[10, 11, 10, 11, 10, 11]\n"
     ]
    }
   ],
   "source": [
    "list1 = [1, 2, 3, 4, 5]\n",
    "list2 = [10, 11]\n",
    "listadd = list1 + list2\n",
    "print(listadd)\n",
    "listmulti = list2 * 3\n",
    "print(listmulti)"
   ]
  },
  {
   "cell_type": "markdown",
   "id": "83fac31e",
   "metadata": {},
   "source": [
    "### 2차원 리스트 (성적 처리 예시)\n",
    "각 학생의 총점, 평균과 전체 학생의 평균 구하기"
   ]
  },
  {
   "cell_type": "code",
   "execution_count": 15,
   "id": "300fb1a7",
   "metadata": {},
   "outputs": [
    {
     "name": "stdout",
     "output_type": "stream",
     "text": [
      "총점  354, 평균  88.50\n",
      "총점  275, 평균  68.75\n",
      "총점  328, 평균  82.00\n",
      "\n",
      "전체평균 79.75\n"
     ]
    }
   ],
   "source": [
    "score = [\n",
    "    [88, 76, 92, 98],\n",
    "    [65, 70, 58, 82],\n",
    "    [82, 80, 78, 88]\n",
    "]\n",
    "\n",
    "total = 0\n",
    "totalsub = 0\n",
    "\n",
    "for student in score:\n",
    "    sum_ = 0\n",
    "    for subject in student:\n",
    "        sum_ += subject\n",
    "    subjects = len(student)\n",
    "    print(\"총점 %4d, 평균 %6.2f\" % (sum_, sum_/subjects))\n",
    "    total += sum_\n",
    "    totalsub += subjects\n",
    "print(\"\\n전체평균 %.2f\" % (total/totalsub))"
   ]
  },
  {
   "cell_type": "markdown",
   "id": "8424581f",
   "metadata": {},
   "source": [
    "### List Comprehension\n",
    "연습) 1~10의 값 중 3의 배수만 골라 그 제곱 값으로 구성된 리스트 만들기"
   ]
  },
  {
   "cell_type": "code",
   "execution_count": 19,
   "id": "aad81d90",
   "metadata": {
    "scrolled": true
   },
   "outputs": [
    {
     "name": "stdout",
     "output_type": "stream",
     "text": [
      "[9, 36, 81]\n"
     ]
    }
   ],
   "source": [
    "lst = [n**2 for n in range(1, 11) if n % 3 == 0]\n",
    "\n",
    "print(lst)"
   ]
  },
  {
   "cell_type": "markdown",
   "id": "616e8389",
   "metadata": {},
   "source": [
    "### 삽입"
   ]
  },
  {
   "cell_type": "code",
   "execution_count": 20,
   "id": "81413b4c",
   "metadata": {},
   "outputs": [
    {
     "name": "stdout",
     "output_type": "stream",
     "text": [
      "[1, 2, 90, 91, 92, 3, 4]\n"
     ]
    }
   ],
   "source": [
    "nums = [1, 2, 3, 4]\n",
    "nums[2:2] = [90, 91, 92]\n",
    "print(nums)"
   ]
  },
  {
   "cell_type": "code",
   "execution_count": 21,
   "id": "f90c9da7",
   "metadata": {},
   "outputs": [
    {
     "name": "stdout",
     "output_type": "stream",
     "text": [
      "[1, 2, [90, 91, 92], 4]\n"
     ]
    }
   ],
   "source": [
    "nums = [1, 2, 3, 4]\n",
    "nums[2] = [90, 91, 92]\n",
    "print(nums)"
   ]
  },
  {
   "cell_type": "markdown",
   "id": "21161c52",
   "metadata": {},
   "source": [
    "### 리스트 병합"
   ]
  },
  {
   "cell_type": "code",
   "execution_count": 22,
   "id": "e0495ad0",
   "metadata": {},
   "outputs": [
    {
     "name": "stdout",
     "output_type": "stream",
     "text": [
      "[1, 2, 3, 4, 5, 10, 11]\n"
     ]
    }
   ],
   "source": [
    "list1 = [1, 2, 3, 4, 5]\n",
    "list2 = [10, 11]\n",
    "list1.extend(list2)\n",
    "print(list1)"
   ]
  },
  {
   "cell_type": "markdown",
   "id": "763bbca2",
   "metadata": {},
   "source": [
    "### 삭제"
   ]
  },
  {
   "cell_type": "code",
   "execution_count": 23,
   "id": "a3f0e4be",
   "metadata": {},
   "outputs": [
    {
     "name": "stdout",
     "output_type": "stream",
     "text": [
      "[88, 95, 70, 99, 80, 78, 50]\n",
      "[88, 95, 99, 80, 78, 50]\n",
      "[88, 78, 50]\n"
     ]
    }
   ],
   "source": [
    "score = [88, 95, 70, 100, 99, 80, 78, 50]\n",
    "score.remove(100)  # 요소값 직접 삭제\n",
    "print(score)\n",
    "del(score[2])      # 순서값 지정하여 삭제. del score[2]로도 호출 가능\n",
    "print(score)\n",
    "score[1:4] = []\n",
    "print(score)       # 요소 여러 개 삭제. del score[1:4] 로도 가능"
   ]
  },
  {
   "cell_type": "markdown",
   "id": "e774f0bb",
   "metadata": {},
   "source": [
    "### pop"
   ]
  },
  {
   "cell_type": "code",
   "execution_count": 24,
   "id": "fcdf711b",
   "metadata": {},
   "outputs": [
    {
     "name": "stdout",
     "output_type": "stream",
     "text": [
      "99\n",
      "100\n",
      "95\n",
      "[88, 70]\n"
     ]
    }
   ],
   "source": [
    "score = [88, 95, 70, 100, 99]\n",
    "print(score.pop())\n",
    "print(score.pop())\n",
    "print(score.pop(1))\n",
    "print(score)"
   ]
  },
  {
   "cell_type": "markdown",
   "id": "2f51b368",
   "metadata": {},
   "source": [
    "### 검색"
   ]
  },
  {
   "cell_type": "code",
   "execution_count": 27,
   "id": "380f77f5",
   "metadata": {},
   "outputs": [
    {
     "name": "stdout",
     "output_type": "stream",
     "text": [
      "만점 받은 학생은 3번입니다.\n",
      "만점자 수는 1명입니다.\n"
     ]
    }
   ],
   "source": [
    "score = [88, 95, 70, 100, 99, 80, 78, 50]\n",
    "perfect = score.index(100)\n",
    "print(\"만점 받은 학생은 %d번입니다.\" % perfect)\n",
    "pernum = score.count(100)\n",
    "print(\"만점자 수는 %d명입니다.\" % pernum)"
   ]
  },
  {
   "cell_type": "markdown",
   "id": "1b398ca9",
   "metadata": {},
   "source": [
    "### in/ not in"
   ]
  },
  {
   "cell_type": "code",
   "execution_count": 28,
   "id": "1803a2ee",
   "metadata": {},
   "outputs": [
    {
     "name": "stdout",
     "output_type": "stream",
     "text": [
      "결제하시겠습니까? yes\n",
      "구입해주셔서 감사합니다!\n"
     ]
    }
   ],
   "source": [
    "ans = input(\"결제하시겠습니까? \")\n",
    "if ans in ['yes', 'y', 'ok', '네', '좋아요']:\n",
    "    print(\"구입해주셔서 감사합니다!\")\n",
    "else:\n",
    "    print('안녕히 가세요.')"
   ]
  },
  {
   "cell_type": "markdown",
   "id": "5119d43d",
   "metadata": {},
   "source": [
    "### 정렬"
   ]
  },
  {
   "cell_type": "code",
   "execution_count": 30,
   "id": "3d88a864",
   "metadata": {},
   "outputs": [
    {
     "name": "stdout",
     "output_type": "stream",
     "text": [
      "[70, 88, 95, 99, 100]\n",
      "[99, 100, 70, 95, 88]\n"
     ]
    }
   ],
   "source": [
    "score = [88, 95, 70, 100, 99]\n",
    "score.sort() # default: reverse=False > 오름차순 정렬 reverse=True시 내림차순 정렬\n",
    "print(score)\n",
    "\n",
    "score = [88, 95, 70, 100, 99]\n",
    "score.reverse()  # 원 리스트의 요소의 순서를 반대로 뒤집음\n",
    "print(score)"
   ]
  },
  {
   "cell_type": "markdown",
   "id": "10279435",
   "metadata": {},
   "source": [
    "### key 인수 사용"
   ]
  },
  {
   "cell_type": "code",
   "execution_count": 31,
   "id": "de360bfd",
   "metadata": {},
   "outputs": [
    {
     "name": "stdout",
     "output_type": "stream",
     "text": [
      "['CHINA', 'Korea', 'america', 'japan']\n",
      "['america', 'CHINA', 'japan', 'Korea']\n"
     ]
    }
   ],
   "source": [
    "country = [\"Korea\", \"japan\", \"CHINA\", \"america\"]\n",
    "country.sort()\n",
    "print(country)\n",
    "country.sort(key = str.lower) # 비교할 때만 잠시 소문자로 바뀔 뿐 요소 자체가 바뀌는 것은 아님\n",
    "print(country)"
   ]
  },
  {
   "cell_type": "markdown",
   "id": "4cf7ac08",
   "metadata": {},
   "source": [
    "### sorted 함수"
   ]
  },
  {
   "cell_type": "code",
   "execution_count": 32,
   "id": "affdc9b5",
   "metadata": {},
   "outputs": [
    {
     "name": "stdout",
     "output_type": "stream",
     "text": [
      "[88, 95, 70, 100, 99]\n",
      "[70, 88, 95, 99, 100]\n"
     ]
    }
   ],
   "source": [
    "score = [88, 95, 70, 100, 99]\n",
    "score2 = sorted(score)\n",
    "print(score)\n",
    "print(score2)"
   ]
  }
 ],
 "metadata": {
  "kernelspec": {
   "display_name": "eseul_pycaret",
   "language": "python",
   "name": "pycaret"
  },
  "language_info": {
   "codemirror_mode": {
    "name": "ipython",
    "version": 3
   },
   "file_extension": ".py",
   "mimetype": "text/x-python",
   "name": "python",
   "nbconvert_exporter": "python",
   "pygments_lexer": "ipython3",
   "version": "3.8.13"
  }
 },
 "nbformat": 4,
 "nbformat_minor": 5
}
