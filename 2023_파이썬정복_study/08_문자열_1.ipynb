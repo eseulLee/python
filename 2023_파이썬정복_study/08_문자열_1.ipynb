{
 "cells": [
  {
   "cell_type": "markdown",
   "id": "8f511762",
   "metadata": {},
   "source": [
    "### Width"
   ]
  },
  {
   "cell_type": "code",
   "execution_count": 1,
   "id": "c169f78a",
   "metadata": {},
   "outputs": [
    {
     "name": "stdout",
     "output_type": "stream",
     "text": [
      "###123###\n",
      "###  123###\n",
      "###       123###\n",
      "###123###\n"
     ]
    }
   ],
   "source": [
    "value = 123\n",
    "print('###%d###' % value)\n",
    "print('###%5d###' % value)\n",
    "print('###%10d###' % value)\n",
    "print('###%1d###' % value)"
   ]
  },
  {
   "cell_type": "markdown",
   "id": "c6de649d",
   "metadata": {},
   "source": [
    "### Align"
   ]
  },
  {
   "cell_type": "code",
   "execution_count": 2,
   "id": "f6c15756",
   "metadata": {},
   "outputs": [
    {
     "name": "stdout",
     "output_type": "stream",
     "text": [
      "가격:30원\n",
      "가격:13500원\n",
      "가격:2000원\n",
      "가격:     30원\n",
      "가격:  13500원\n",
      "가격:   2000원\n"
     ]
    }
   ],
   "source": [
    "price = [30, 13500, 2000]\n",
    "\n",
    "for p in price:\n",
    "    print(\"가격:%d원\"  % p)\n",
    "for p in price:\n",
    "    print(\"가격:%7d원\" % p)"
   ]
  },
  {
   "cell_type": "markdown",
   "id": "4910e6eb",
   "metadata": {},
   "source": [
    "### Numalign"
   ]
  },
  {
   "cell_type": "code",
   "execution_count": 5,
   "id": "0bf3ed6d",
   "metadata": {},
   "outputs": [
    {
     "name": "stdout",
     "output_type": "stream",
     "text": [
      "가격:30     원\n",
      "가격:13500  원\n",
      "가격:2000   원\n"
     ]
    }
   ],
   "source": [
    "price = [30, 13500, 2000]\n",
    "for p in price:\n",
    "    print(\"가격:%-7d원\" % p)"
   ]
  },
  {
   "cell_type": "markdown",
   "id": "e473d90d",
   "metadata": {},
   "source": [
    "### Precision"
   ]
  },
  {
   "cell_type": "code",
   "execution_count": 6,
   "id": "0d151905",
   "metadata": {},
   "outputs": [
    {
     "name": "stdout",
     "output_type": "stream",
     "text": [
      "  3.141593\n",
      "3.14159265\n",
      "   3.14159\n",
      "      3.14\n"
     ]
    }
   ],
   "source": [
    "pie = 3.14159265\n",
    "print(\"%10f\" % pie)   # 별 다른 지정이 없는 겨우, 소수점 6자리까지 반올림하여 표시\n",
    "print(\"%10.8f\" % pie)\n",
    "print(\"%10.5f\" % pie)\n",
    "print(\"%10.2f\" % pie)"
   ]
  },
  {
   "cell_type": "markdown",
   "id": "a9dd5a6c",
   "metadata": {},
   "source": [
    "### {}.format 메서드 사용"
   ]
  },
  {
   "cell_type": "code",
   "execution_count": 7,
   "id": "b77090a6",
   "metadata": {},
   "outputs": [
    {
     "name": "stdout",
     "output_type": "stream",
     "text": [
      "이름:Jack, 나이:16, 키:162.5\n"
     ]
    }
   ],
   "source": [
    "name = 'Jack'\n",
    "age = 16\n",
    "height = 162.5\n",
    "print(\"이름:{}, 나이:{}, 키:{}\".format(name, age, height))"
   ]
  },
  {
   "cell_type": "code",
   "execution_count": 8,
   "id": "11c1958f",
   "metadata": {},
   "outputs": [
    {
     "name": "stdout",
     "output_type": "stream",
     "text": [
      "이름:Jack, 나이:16, 키:162.5\n"
     ]
    }
   ],
   "source": [
    "name = 'Jack'\n",
    "age = 16\n",
    "height = 162.5\n",
    "print(\"이름:{2}, 나이:{0}, 키:{1}\".format(age, height, name))"
   ]
  },
  {
   "cell_type": "code",
   "execution_count": 10,
   "id": "33c9980a",
   "metadata": {},
   "outputs": [
    {
     "name": "stdout",
     "output_type": "stream",
     "text": [
      "이름:Woo, 나이:20, 키:160.9\n"
     ]
    }
   ],
   "source": [
    "print(\"이름:{name}, 나이:{age}, 키:{height}\".format(name = 'Woo', age = 20, height = 160.9))"
   ]
  },
  {
   "cell_type": "markdown",
   "id": "8d51f347",
   "metadata": {},
   "source": [
    "### 사전에 저장된 값 출력"
   ]
  },
  {
   "cell_type": "code",
   "execution_count": 11,
   "id": "1b029146",
   "metadata": {},
   "outputs": [
    {
     "name": "stdout",
     "output_type": "stream",
     "text": [
      "이름:Han, 나이:15, 키:158.7\n"
     ]
    }
   ],
   "source": [
    "boy = {\"name\":\"Han\", \"age\":15, \"height\":158.7}\n",
    "print(\"이름:{0[name]}, 나이:{0[age]}, 키:{0[height]}\".format(boy))"
   ]
  },
  {
   "cell_type": "markdown",
   "id": "84538afa",
   "metadata": {},
   "source": [
    "### 인수 타입 지정"
   ]
  },
  {
   "cell_type": "code",
   "execution_count": 12,
   "id": "3f58f4d3",
   "metadata": {},
   "outputs": [
    {
     "name": "stdout",
     "output_type": "stream",
     "text": [
      "이름:Han, 나이:15, 키:158.700000\n"
     ]
    }
   ],
   "source": [
    "name = \"Han\"\n",
    "age = 15\n",
    "height = 158.7\n",
    "print(\"이름:{0:s}, 나이:{1:d}, 키:{2:f}\".format(name, age, height))"
   ]
  },
  {
   "cell_type": "markdown",
   "id": "86f165c8",
   "metadata": {},
   "source": [
    "### Width, Precision"
   ]
  },
  {
   "cell_type": "code",
   "execution_count": 13,
   "id": "fa134e77",
   "metadata": {},
   "outputs": [
    {
     "name": "stdout",
     "output_type": "stream",
     "text": [
      "이름:Han       , 나이:   15, 키:  158.70\n"
     ]
    }
   ],
   "source": [
    "name = \"Han\"\n",
    "age = 15\n",
    "height = 158.7\n",
    "print(\"이름:{0:10s}, 나이:{1:5d}, 키:{2:8.2f}\".format(name, age, height))"
   ]
  },
  {
   "cell_type": "markdown",
   "id": "08fdeb1b",
   "metadata": {},
   "source": [
    "### Align"
   ]
  },
  {
   "cell_type": "code",
   "execution_count": 15,
   "id": "84d236c5",
   "metadata": {},
   "outputs": [
    {
     "name": "stdout",
     "output_type": "stream",
     "text": [
      "이름:   Han    , 나이:   15, 키:158.70  \n"
     ]
    }
   ],
   "source": [
    "name = \"Han\"\n",
    "age = 15\n",
    "height = 158.7\n",
    "print(\"이름:{0:^10s}, 나이:{1:>5d}, 키:{2:<8.2f}\".format(name, age, height))"
   ]
  },
  {
   "cell_type": "code",
   "execution_count": 16,
   "id": "6c0582a9",
   "metadata": {},
   "outputs": [
    {
     "name": "stdout",
     "output_type": "stream",
     "text": [
      "이름:$$$Han$$$$, 나이:00015, 키:158.70!!\n"
     ]
    }
   ],
   "source": [
    "name = \"Han\"\n",
    "age = 15\n",
    "height = 158.7\n",
    "print(\"이름:{0:$^10s}, 나이:{1:0>5d}, 키:{2:!<8.2f}\".format(name, age, height))"
   ]
  },
  {
   "cell_type": "markdown",
   "id": "e46a1795",
   "metadata": {},
   "source": [
    "## 연습문제"
   ]
  },
  {
   "cell_type": "markdown",
   "id": "8da07f02",
   "metadata": {},
   "source": [
    "### 2. universe를 한 행에 한 글자씩 출력"
   ]
  },
  {
   "cell_type": "code",
   "execution_count": 18,
   "id": "7b1e0a97",
   "metadata": {},
   "outputs": [
    {
     "name": "stdout",
     "output_type": "stream",
     "text": [
      "u\n",
      "n\n",
      "i\n",
      "v\n",
      "e\n",
      "r\n",
      "s\n",
      "e\n"
     ]
    }
   ],
   "source": [
    "s = \"universe\"\n",
    "for x in s:\n",
    "    print(x)"
   ]
  },
  {
   "cell_type": "markdown",
   "id": "eaa9b3a9",
   "metadata": {},
   "source": [
    "### 3. \"차종:코란도C, 제조사:쌍용, 배기량:1998\" 문자열에서 제조사만 추출"
   ]
  },
  {
   "cell_type": "code",
   "execution_count": 19,
   "id": "7be7c263",
   "metadata": {},
   "outputs": [
    {
     "name": "stdout",
     "output_type": "stream",
     "text": [
      "쌍용\n"
     ]
    }
   ],
   "source": [
    "s = \"차종:코란도C, 제조사:쌍용, 배기량:1998\"\n",
    "print(s[13:15])"
   ]
  },
  {
   "cell_type": "markdown",
   "id": "2447193c",
   "metadata": {},
   "source": [
    "### 5. 도메인이 .kr로 끝나는 한국 도메인인지 확인하는 코드 작성"
   ]
  },
  {
   "cell_type": "code",
   "execution_count": 22,
   "id": "905a8f43",
   "metadata": {},
   "outputs": [
    {
     "name": "stdout",
     "output_type": "stream",
     "text": [
      "wwww.naver.com\n",
      "한국 도메인이 아닙니다.\n"
     ]
    }
   ],
   "source": [
    "domain = input()\n",
    "if domain.endswith('.kr'):\n",
    "    print('한국 도메인입니다.')\n",
    "else:\n",
    "    print('한국 도메인이 아닙니다.')"
   ]
  },
  {
   "cell_type": "markdown",
   "id": "feea9fbd",
   "metadata": {},
   "source": [
    "### 6. sosi 문자열에 \"태연, 유리, 수영\" 이름이 저장되어 있다. 각 가수의 이름을 추출하여 \"사랑해\"와 함께 출력"
   ]
  },
  {
   "cell_type": "code",
   "execution_count": 29,
   "id": "a55acd20",
   "metadata": {},
   "outputs": [
    {
     "name": "stdout",
     "output_type": "stream",
     "text": [
      "태연 사랑해💖\n",
      "유리 사랑해💖\n",
      "수영 사랑해💖\n"
     ]
    }
   ],
   "source": [
    "sosi = \"태연, 유리, 수영\"\n",
    "\n",
    "for n in range(3):\n",
    "    print(sosi[4*n:4*n+2] + \" 사랑해💖\")"
   ]
  },
  {
   "cell_type": "code",
   "execution_count": 36,
   "id": "b92256ff",
   "metadata": {},
   "outputs": [
    {
     "name": "stdout",
     "output_type": "stream",
     "text": [
      "태연 사랑해💖\n",
      "유리 사랑해💖\n",
      "수영 사랑해💖\n"
     ]
    }
   ],
   "source": [
    "sosi = \"태연, 유리, 수영\"\n",
    "singer = sosi.split(', ')\n",
    "for s in singer:\n",
    "    print(s + \" 사랑해💖\")"
   ]
  },
  {
   "cell_type": "markdown",
   "id": "da280887",
   "metadata": {},
   "source": [
    "### 7. \"아침에 커피로 시작하고 밥 먹고 커피 마시고 자기 전에도 커피를 마신다.\" 문자열에서 모든 커피를 우유로 바꾸기"
   ]
  },
  {
   "cell_type": "code",
   "execution_count": 37,
   "id": "b8eab4ec",
   "metadata": {},
   "outputs": [
    {
     "name": "stdout",
     "output_type": "stream",
     "text": [
      "아침에 우유로 시작하고 밥 먹고 우유 마시고 자기 전에도 우유를 마신다.\n"
     ]
    }
   ],
   "source": [
    "s = \"아침에 커피로 시작하고 밥 먹고 커피 마시고 자기 전에도 커피를 마신다.\" \n",
    "\n",
    "s = s.replace('커피','우유')\n",
    "print(s)"
   ]
  },
  {
   "cell_type": "markdown",
   "id": "45b97408",
   "metadata": {},
   "source": [
    "### 8. 임의의 주민등록번호 901231-1917983 에서 생년과 성별을 추출하여 \"90년생 남자\"라는 결과 출력"
   ]
  },
  {
   "cell_type": "code",
   "execution_count": 34,
   "id": "38cee799",
   "metadata": {},
   "outputs": [
    {
     "name": "stdout",
     "output_type": "stream",
     "text": [
      "90년생 남자\n"
     ]
    }
   ],
   "source": [
    "n = '901231-1917983'\n",
    "\n",
    "if n[7] in ('1','3'):\n",
    "    print('{}년생 남자'.format(n[:2]))\n",
    "else:\n",
    "    print('{}년생 여자'.format(n[:2]))"
   ]
  },
  {
   "cell_type": "markdown",
   "id": "1e80515d",
   "metadata": {},
   "source": [
    "### 9. total 변수에 총점 356이 저장되어 있고, avg 변수에 평균 89.2785가 저장되어 있다. 두 변수의 값을 한 문자열로 조립하여 출력하되 평균은 반올림하여 소수점 2자리만 출력하라."
   ]
  },
  {
   "cell_type": "code",
   "execution_count": 35,
   "id": "0b94e4a8",
   "metadata": {},
   "outputs": [
    {
     "name": "stdout",
     "output_type": "stream",
     "text": [
      "총점: 356, 평균: 89.28\n"
     ]
    }
   ],
   "source": [
    "total = 356\n",
    "avg = 89.2785\n",
    "\n",
    "print('총점: %d, 평균: %.2f' % (total, avg))"
   ]
  }
 ],
 "metadata": {
  "kernelspec": {
   "display_name": "eseul_pycaret",
   "language": "python",
   "name": "pycaret"
  },
  "language_info": {
   "codemirror_mode": {
    "name": "ipython",
    "version": 3
   },
   "file_extension": ".py",
   "mimetype": "text/x-python",
   "name": "python",
   "nbconvert_exporter": "python",
   "pygments_lexer": "ipython3",
   "version": "3.8.13"
  }
 },
 "nbformat": 4,
 "nbformat_minor": 5
}
