{
 "cells": [
  {
   "cell_type": "code",
   "execution_count": 2,
   "id": "c6013fdb",
   "metadata": {},
   "outputs": [
    {
     "name": "stdout",
     "output_type": "stream",
     "text": [
      "6 45 54\n"
     ]
    }
   ],
   "source": [
    "def intsum(*ints):\n",
    "    summ = 0\n",
    "    for num in ints:\n",
    "        summ += num\n",
    "    return summ\n",
    "\n",
    "print(intsum(1, 2, 3), end=' ')\n",
    "print(intsum(5, 7, 9, 11, 13), end=' ')\n",
    "print(intsum(8, 9, 6, 2, 9, 7, 5, 8))"
   ]
  },
  {
   "cell_type": "code",
   "execution_count": 4,
   "id": "c490497d",
   "metadata": {},
   "outputs": [
    {
     "name": "stdout",
     "output_type": "stream",
     "text": [
      "1 ~ 10 = 25\n",
      "1 ~ 100 = 5050\n"
     ]
    }
   ],
   "source": [
    "def calcstep(begin, end, step = 1):\n",
    "    summ = 0\n",
    "    for num in range(begin, end + 1, step):\n",
    "        summ += num\n",
    "    return summ\n",
    "\n",
    "print(\"1 ~ 10 =\", calcstep(1, 10, 2))\n",
    "print(\"1 ~ 100 =\", calcstep(1, 100))"
   ]
  },
  {
   "cell_type": "code",
   "execution_count": 5,
   "id": "b09e66f5",
   "metadata": {},
   "outputs": [
    {
     "name": "stdout",
     "output_type": "stream",
     "text": [
      "3 ~ 5 = 12\n",
      "3 ~ 5 = 12\n",
      "3 ~ 5 = 12\n",
      "3 ~ 5 = 12\n",
      "3 ~ 5 = 12\n"
     ]
    }
   ],
   "source": [
    "def calcstep(begin, end, step):\n",
    "    summ = 0\n",
    "    for num in range(begin, end + 1, step):\n",
    "        summ += num\n",
    "    return summ\n",
    "\n",
    "print(\"3 ~ 5 =\", calcstep(3, 5, 1))\n",
    "print(\"3 ~ 5 =\", calcstep(begin = 3, end = 5, step = 1))\n",
    "print(\"3 ~ 5 =\", calcstep(step = 1, end = 5, begin = 3))\n",
    "print(\"3 ~ 5 =\", calcstep(3, 5, step = 1))\n",
    "print(\"3 ~ 5 =\", calcstep(3, step = 1, end = 5))"
   ]
  },
  {
   "cell_type": "code",
   "execution_count": 6,
   "id": "4b717bd1",
   "metadata": {},
   "outputs": [
    {
     "name": "stdout",
     "output_type": "stream",
     "text": [
      "3 ~ 5 = 12\n",
      "3 ~ 5 = 12\n"
     ]
    }
   ],
   "source": [
    "def calcstep(**args):\n",
    "    begin = args['begin']\n",
    "    end   = args['end']\n",
    "    step  = args['step']\n",
    "    \n",
    "    summ = 0\n",
    "    for num in range(begin, end + 1, step):\n",
    "        summ += num\n",
    "    return summ\n",
    "\n",
    "print(\"3 ~ 5 =\", calcstep(begin = 3, end = 5, step = 1))\n",
    "print(\"3 ~ 5 =\", calcstep(step = 1, end = 5, begin = 3))"
   ]
  },
  {
   "cell_type": "markdown",
   "id": "d48dadcb",
   "metadata": {},
   "source": [
    "여러 인수 동시 사용"
   ]
  },
  {
   "cell_type": "code",
   "execution_count": 9,
   "id": "f9b8e75b",
   "metadata": {},
   "outputs": [
    {
     "name": "stdout",
     "output_type": "stream",
     "text": [
      "student1\n",
      "총점 : 264\n",
      "평균 : 88.0\n",
      "student2\n",
      "총점 : 209\n"
     ]
    }
   ],
   "source": [
    "def calcscore(name, *score, **option):\n",
    "    print(name)\n",
    "    summ = 0\n",
    "    for s in score:\n",
    "        summ += s\n",
    "    print('총점 :', summ)\n",
    "    if (option['avg'] == True):\n",
    "        print(\"평균 :\", summ / len(score))\n",
    "\n",
    "calcscore('student1', 88, 99, 77, avg = True)\n",
    "calcscore('student2', 66, 68, 75, avg = False)"
   ]
  },
  {
   "cell_type": "code",
   "execution_count": 10,
   "id": "f481c1ed",
   "metadata": {},
   "outputs": [
    {
     "name": "stdout",
     "output_type": "stream",
     "text": [
      "sale 2002926032176\n",
      "global 2002926034480\n"
     ]
    }
   ],
   "source": [
    "price = 1000    \n",
    "\n",
    "def sale():\n",
    "    price = 500 \n",
    "    print('sale', id(price))\n",
    "\n",
    "sale()\n",
    "print('global', id(price))"
   ]
  },
  {
   "cell_type": "code",
   "execution_count": 11,
   "id": "e4a7b79d",
   "metadata": {},
   "outputs": [
    {
     "name": "stdout",
     "output_type": "stream",
     "text": [
      "500\n"
     ]
    }
   ],
   "source": [
    "price = 1000\n",
    "\n",
    "def sale():\n",
    "    global price\n",
    "    price = 500\n",
    "\n",
    "sale()\n",
    "print(price)"
   ]
  },
  {
   "cell_type": "markdown",
   "id": "f6dd6529",
   "metadata": {},
   "source": [
    "docstring"
   ]
  },
  {
   "cell_type": "code",
   "execution_count": 12,
   "id": "7e1a247f",
   "metadata": {},
   "outputs": [
    {
     "name": "stdout",
     "output_type": "stream",
     "text": [
      "Help on function calcsum in module __main__:\n",
      "\n",
      "calcsum(n)\n",
      "    1 ~ n 까지의 합계를 구해 리턴한다.\n",
      "\n"
     ]
    }
   ],
   "source": [
    "def calcsum(n):\n",
    "    \"\"\"1 ~ n 까지의 합계를 구해 리턴한다.\"\"\"\n",
    "    summ = 0\n",
    "    for i in range(n + 1):\n",
    "        summ += i\n",
    "    return summ\n",
    "\n",
    "help(calcsum)"
   ]
  }
 ],
 "metadata": {
  "kernelspec": {
   "display_name": "eseul_pycaret",
   "language": "python",
   "name": "pycaret"
  },
  "language_info": {
   "codemirror_mode": {
    "name": "ipython",
    "version": 3
   },
   "file_extension": ".py",
   "mimetype": "text/x-python",
   "name": "python",
   "nbconvert_exporter": "python",
   "pygments_lexer": "ipython3",
   "version": "3.8.13"
  }
 },
 "nbformat": 4,
 "nbformat_minor": 5
}
