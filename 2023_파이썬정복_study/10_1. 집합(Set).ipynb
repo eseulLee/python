{
 "cells": [
  {
   "cell_type": "markdown",
   "id": "b2f05e6c",
   "metadata": {},
   "source": [
    "- 값을 포함하고 있는지 여부만 중요할 뿐이어서 **키의 중복을 허락하지 않고**, 순서도 별 의미 없음\n",
    "- 집합(set) 생성시 요소가 2개여도 결과적으로는 하나만 저장됨"
   ]
  },
  {
   "cell_type": "code",
   "execution_count": 1,
   "id": "c44bf1f6",
   "metadata": {},
   "outputs": [
    {
     "name": "stdout",
     "output_type": "stream",
     "text": [
      "{'korea', 'japan', 'china'}\n"
     ]
    }
   ],
   "source": [
    "asia = {'korea', 'china', 'japan', 'korea'}\n",
    "print(asia)"
   ]
  },
  {
   "cell_type": "code",
   "execution_count": 3,
   "id": "7fbb2374",
   "metadata": {},
   "outputs": [
    {
     "name": "stdout",
     "output_type": "stream",
     "text": [
      "string     -  {'h', 'u', 'n', 'y', 's', 'a', 'g'}\n",
      "list       -  {56, 34, 12, 78}\n",
      "tuple      -  {'Emily', 'Jack', 'Smith'}\n",
      "dictionary -  {'school', 'book', 'boy'}\n",
      "empty set  -  set()\n"
     ]
    }
   ],
   "source": [
    "print('string     - ', set('sanghyung'))\n",
    "print('list       - ', set([12, 34, 56, 78]))\n",
    "print('tuple      - ', set((\"Emily\", \"Jack\", \"Smith\")))\n",
    "print('dictionary - ', set({'boy':'소년', 'school':'학교','book':'책'}))\n",
    "print('empty set  - ', set())"
   ]
  },
  {
   "cell_type": "markdown",
   "id": "dc5f3a83",
   "metadata": {},
   "source": [
    "- 집합의 경우, 다른 자료형과는 다르게 공집합 생성시 set() 만 가능\n",
    "    - 집합은 사전을 만들 때 쓰는 괄호와 같아서 {}의 경우, 빈 사전을 의미\n",
    "---\n",
    "- 집합은 **수정 가능한 자료형**이기 때문에 언제든지 키를 넣고 뺄 수 있음\n",
    "    - 집합에 원소를 추가할 때는 **add** 메서드를 사용\n",
    "    - 집합에서 원소를 제거할 때는 **remove** 메서드를 사용\n",
    "    - **update** 메서드는 집합끼리 결합하여 합집합 생성"
   ]
  },
  {
   "cell_type": "code",
   "execution_count": 6,
   "id": "08d7ac81",
   "metadata": {},
   "outputs": [
    {
     "name": "stdout",
     "output_type": "stream",
     "text": [
      "{'vietnam', 'korea', 'china'}\n",
      "{'vietnam', 'china', 'singapore', 'hongkong', 'korea'}\n"
     ]
    }
   ],
   "source": [
    "asia = {'korea', 'china', 'japan'}\n",
    "asia.add('vietnam')    # 추가\n",
    "asia.add('china')      # 추가 안됨\n",
    "asia.remove('japan')   # 제거\n",
    "print(asia)\n",
    "\n",
    "asia.update({'singapore', 'hongkong', 'korea'})\n",
    "print(asia)"
   ]
  },
  {
   "cell_type": "markdown",
   "id": "8d83fe7e",
   "metadata": {},
   "source": [
    "## 집합 연산\n",
    "| 연산 | 기호 | 메서드 | 설명 |\n",
    "|------|------|--------|------|\n",
    "|합집합| \\|    | union  | 두 집합의 모든 원소|\n",
    "|교집합| \\&    | intersection  | 두 집합 모두에 있는 원소|\n",
    "|차집합| \\-    | difference  | 왼쪽 집합의 원소 중 오른쪽 집합의 원소를 뺀 것|\n",
    "|배타적 차집합| \\^    | symmetric_difference  | 한쪽 집합에만 있는 원소의 합|"
   ]
  },
  {
   "cell_type": "code",
   "execution_count": 11,
   "id": "d2fee2c6",
   "metadata": {},
   "outputs": [
    {
     "name": "stdout",
     "output_type": "stream",
     "text": [
      "교집합 {12, 6}\n",
      "합집합 {2, 3, 4, 6, 8, 9, 10, 12, 15}\n",
      "차집합 {8, 2, 10, 4}\n",
      "차집합 {9, 3, 15}\n",
      "배타적 차집합 {2, 3, 4, 8, 9, 10, 15}\n"
     ]
    }
   ],
   "source": [
    "twox = {2, 4, 6, 8, 10, 12}\n",
    "threex = {3, 6, 9, 12, 15}\n",
    "\n",
    "print(\"교집합\", twox & threex)\n",
    "print(\"합집합\", twox | threex)\n",
    "print(\"차집합\", twox - threex)\n",
    "print(\"차집합\", threex - twox)\n",
    "print(\"배타적 차집합\", twox ^ threex)"
   ]
  },
  {
   "cell_type": "markdown",
   "id": "6aaea7e0",
   "metadata": {},
   "source": [
    "### 부분 집합 여부 조사\n",
    "\n",
    "| 연산 | 기호 | 메서드 | 설명 |\n",
    "|------|------|--------|------|\n",
    "|부분집합| <=    | issubset  | 왼쪽이 오른쪽의 부분집합인지 조사|\n",
    "|진성 부분집합| <    |   | 부분집합이면서 여분의 원소가 더 있음|\n",
    "|포함집합| >=    | issuperset  | 왼쪽이 오른쪽 집합을 포함하는지 조사|\n",
    "|진성 포함집합| >    |   | 포함집합이면서 여분의 원소가 더 있음|"
   ]
  },
  {
   "cell_type": "code",
   "execution_count": 12,
   "id": "8e71baa9",
   "metadata": {},
   "outputs": [
    {
     "name": "stdout",
     "output_type": "stream",
     "text": [
      "사자는 포유류이다.\n",
      "True\n",
      "True\n",
      "False\n",
      "False\n"
     ]
    }
   ],
   "source": [
    "mammal = {'코끼리', '고릴라', '사자', '고래', '사람', '원숭이', '개'}\n",
    "primate = {'사람', '원숭이', '고릴라'}\n",
    "\n",
    "if '사자' in mammal:\n",
    "    print('사자는 포유류이다.')\n",
    "else:\n",
    "    print('사자는 포유류가 아니다.')\n",
    "    \n",
    "print(primate <= mammal)\n",
    "print(primate <  mammal)\n",
    "print(primate >= mammal)\n",
    "print(primate >  mammal)"
   ]
  },
  {
   "cell_type": "code",
   "execution_count": null,
   "id": "cf34d853",
   "metadata": {},
   "outputs": [],
   "source": []
  },
  {
   "cell_type": "code",
   "execution_count": null,
   "id": "584d7d4d",
   "metadata": {},
   "outputs": [],
   "source": []
  },
  {
   "cell_type": "code",
   "execution_count": null,
   "id": "453e6499",
   "metadata": {},
   "outputs": [],
   "source": []
  },
  {
   "cell_type": "code",
   "execution_count": null,
   "id": "e7dfcb37",
   "metadata": {},
   "outputs": [],
   "source": []
  },
  {
   "cell_type": "code",
   "execution_count": null,
   "id": "72ad3979",
   "metadata": {},
   "outputs": [],
   "source": []
  }
 ],
 "metadata": {
  "kernelspec": {
   "display_name": "eseul_pycaret",
   "language": "python",
   "name": "pycaret"
  },
  "language_info": {
   "codemirror_mode": {
    "name": "ipython",
    "version": 3
   },
   "file_extension": ".py",
   "mimetype": "text/x-python",
   "name": "python",
   "nbconvert_exporter": "python",
   "pygments_lexer": "ipython3",
   "version": "3.8.13"
  }
 },
 "nbformat": 4,
 "nbformat_minor": 5
}
