{
 "cells": [
  {
   "cell_type": "markdown",
   "id": "1e9bf2e7",
   "metadata": {},
   "source": [
    "### 빅분기 실기 작업형 제 1유형\n",
    "- 데이터 전처리(preprocessing) 에 초점이 맞추어져 있음\n",
    "- 주어진 2차원 데이터 세트를 가공하여 최종 결과 출력\n",
    "- 데이터 전처리, 데이터 가공영역 측정"
   ]
  },
  {
   "cell_type": "markdown",
   "id": "e41dce40",
   "metadata": {},
   "source": [
    "## 1. 단순한 데이터 분석\n",
    "\n",
    "### 1.1 Top 10 구하기\n",
    "boston 데이터 세트(boston.csv)의 MEDV 칼럼에 대해서 가장 작은 값부터 순서대로 10개 행을 출력해야 한다. 즉, 오름차순으로 정렬된 MEDV 값에서 Top 10을 구하시오."
   ]
  },
  {
   "cell_type": "code",
   "execution_count": 7,
   "id": "03a99d0e",
   "metadata": {},
   "outputs": [
    {
     "name": "stdout",
     "output_type": "stream",
     "text": [
      "      CRIM    ZN  INDUS  CHAS    NOX     RM   AGE     DIS  RAD  TAX  PTRATIO  \\\n",
      "0  0.00632  18.0   2.31     0  0.538  6.575  65.2  4.0900    1  296     15.3   \n",
      "1  0.02731   0.0   7.07     0  0.469  6.421  78.9  4.9671    2  242     17.8   \n",
      "2  0.02729   0.0   7.07     0  0.469  7.185  61.1  4.9671    2  242     17.8   \n",
      "3  0.03237   0.0   2.18     0  0.458  6.998  45.8  6.0622    3  222     18.7   \n",
      "4  0.06905   0.0   2.18     0  0.458  7.147  54.2  6.0622    3  222     18.7   \n",
      "\n",
      "        B  LSTAT  MEDV  \n",
      "0  396.90   4.98  24.0  \n",
      "1  396.90   9.14  21.6  \n",
      "2  392.83   4.03  34.7  \n",
      "3  394.63   2.94  33.4  \n",
      "4  396.90   5.33  36.2  \n"
     ]
    }
   ],
   "source": [
    "import pandas as pd\n",
    "\n",
    "# (1) file load \n",
    "data = pd.read_csv('bigData-main/boston.csv')\n",
    "\n",
    "print(data.head()) # (2) 파일 형태 확인, MEDV 열 가장 마지막 위치, 수치형 "
   ]
  },
  {
   "cell_type": "code",
   "execution_count": 8,
   "id": "ef414d21",
   "metadata": {},
   "outputs": [
    {
     "name": "stdout",
     "output_type": "stream",
     "text": [
      "         CRIM    ZN  INDUS  CHAS    NOX     RM    AGE     DIS  RAD  TAX  \\\n",
      "398  38.35180   0.0  18.10     0  0.693    NaN  100.0  1.4896   24  666   \n",
      "405  67.92080   0.0  18.10     0  0.693  5.683  100.0  1.4254   24  666   \n",
      "400  25.04610   0.0  18.10     0  0.693  5.987  100.0  1.5888   24  666   \n",
      "399   9.91655   0.0  18.10     0  0.693  5.852   77.8  1.5004   24  666   \n",
      "414  45.74610   0.0  18.10     0  0.693  4.519  100.0  1.6582   24  666   \n",
      "..        ...   ...    ...   ...    ...    ...    ...     ...  ...  ...   \n",
      "166   2.01019   0.0  19.58     0  0.605  7.929   96.2  2.0459    5  403   \n",
      "195   0.01381  80.0   0.46     0  0.422  7.875   32.0  5.6484    4  255   \n",
      "283   0.01501  90.0   1.21     1  0.401  7.923   24.8  5.8850    1  198   \n",
      "225   0.52693   0.0   6.20     0  0.504  8.725   83.0  2.8944    8  307   \n",
      "186   0.05602   0.0   2.46     0  0.488  7.831   53.6  3.1992    3  193   \n",
      "\n",
      "     PTRATIO       B  LSTAT  MEDV  \n",
      "398     20.2  396.90  30.59   5.0  \n",
      "405     20.2  384.97  22.98   5.0  \n",
      "400     20.2  396.90  26.77   5.6  \n",
      "399     20.2  338.16  29.97   6.3  \n",
      "414     20.2   88.27  36.98   7.0  \n",
      "..       ...     ...    ...   ...  \n",
      "166     14.7  369.30   3.70  50.0  \n",
      "195     14.4  394.23   2.97  50.0  \n",
      "283     13.6  395.52   3.16  50.0  \n",
      "225     17.4  382.00   4.63  50.0  \n",
      "186     17.8  392.63   4.45  50.0  \n",
      "\n",
      "[506 rows x 14 columns]\n"
     ]
    }
   ],
   "source": [
    "print(data.sort_values(by='MEDV', ascending=True)) # (3) MEDV 기준으로 정렬 : 오름차순 True(default), 내림차순 False"
   ]
  },
  {
   "cell_type": "code",
   "execution_count": 5,
   "id": "5e065804",
   "metadata": {},
   "outputs": [
    {
     "name": "stdout",
     "output_type": "stream",
     "text": [
      "398    5.0\n",
      "405    5.0\n",
      "400    5.6\n",
      "399    6.3\n",
      "414    7.0\n",
      "489    7.0\n",
      "401    7.2\n",
      "385    7.2\n",
      "415    7.2\n",
      "387    7.4\n",
      "Name: MEDV, dtype: float64\n"
     ]
    }
   ],
   "source": [
    "print(data.sort_values(by='MEDV', ascending=True)['MEDV'].head(10)) # 정렬한 값 중 MEDV 열만, 상위 1개 행만 출력"
   ]
  },
  {
   "cell_type": "markdown",
   "id": "cdf7e0d0",
   "metadata": {},
   "source": [
    "최종 제출 코드"
   ]
  },
  {
   "cell_type": "code",
   "execution_count": 9,
   "id": "d610322e",
   "metadata": {},
   "outputs": [
    {
     "name": "stdout",
     "output_type": "stream",
     "text": [
      "398    5.0\n",
      "405    5.0\n",
      "400    5.6\n",
      "399    6.3\n",
      "414    7.0\n",
      "489    7.0\n",
      "401    7.2\n",
      "385    7.2\n",
      "415    7.2\n",
      "387    7.4\n",
      "Name: MEDV, dtype: float64\n"
     ]
    }
   ],
   "source": [
    "import pandas as pd\n",
    "data = pd.read_csv('bigData-main/boston.csv')\n",
    "print(data.sort_values(by='MEDV', ascending=True)['MEDV'].head(10))"
   ]
  },
  {
   "cell_type": "markdown",
   "id": "9279345b",
   "metadata": {},
   "source": [
    "### 1.2 결측치 확인하기\n",
    "\n",
    "boston 데이터 세트(boston.csv) 의 RM 컬럼에 대한 결측치 처리를 평균 값으로 대치하거나 삭제할 수 있다. RM 칼럼의 결측치를 평균값으로 대치한 후에 산출된 표준편차 값과 결측치를 삭제한 후에 산출된 표준편차 값의 차이를 구하시오. 단 최종적으로 출력하는 차이는 양수이다.\n",
    "\n",
    "- 문제 유형 분석\n",
    "    - RM 컬럼의 결측치 우선 확인\n",
    "    - 1. 결측치를 RM 칼럼의 평균값으로 대치하고 나서 표준편차 구하기\n",
    "    - 2. 결측치 삭제하고 나서 표준편차 구하기\n",
    "    - 1,2 에서 각각 계산된 표준편차 값을 빼고 절대값 씌우면 최종 결과 산출"
   ]
  },
  {
   "cell_type": "code",
   "execution_count": 10,
   "id": "581a1511",
   "metadata": {},
   "outputs": [],
   "source": [
    "# (1) file load\n",
    "import pandas as pd\n",
    "data = pd.read_csv('bigData-main/boston.csv')"
   ]
  },
  {
   "cell_type": "code",
   "execution_count": 12,
   "id": "c069eba7",
   "metadata": {},
   "outputs": [
    {
     "name": "stdout",
     "output_type": "stream",
     "text": [
      "CRIM        0\n",
      "ZN          0\n",
      "INDUS       0\n",
      "CHAS        0\n",
      "NOX         0\n",
      "RM         15\n",
      "AGE         0\n",
      "DIS         0\n",
      "RAD         0\n",
      "TAX         0\n",
      "PTRATIO     0\n",
      "B           0\n",
      "LSTAT       0\n",
      "MEDV        0\n",
      "dtype: int64\n"
     ]
    }
   ],
   "source": [
    "# (2) data 결측치 확인 > RM 에만 15개의 결측치 확인됨\n",
    "print(data.isnull().sum())"
   ]
  },
  {
   "cell_type": "code",
   "execution_count": 14,
   "id": "f52ee2f9",
   "metadata": {},
   "outputs": [
    {
     "name": "stdout",
     "output_type": "stream",
     "text": [
      "15\n"
     ]
    }
   ],
   "source": [
    "# (3) 결측치가 존재하는 RM 컬럼만 추출해서 copy\n",
    "data_mean = data['RM'].copy()\n",
    "\n",
    "# data_mean 변수의 결측치 개수 확인\n",
    "print(data_mean.isnull().sum())"
   ]
  },
  {
   "cell_type": "code",
   "execution_count": 16,
   "id": "24cf281d",
   "metadata": {},
   "outputs": [
    {
     "name": "stdout",
     "output_type": "stream",
     "text": [
      "0    6.575\n",
      "1    6.421\n",
      "2    7.185\n",
      "3    6.998\n",
      "4    7.147\n",
      "Name: RM, dtype: float64\n",
      "\n",
      "6.285101832993899\n"
     ]
    }
   ],
   "source": [
    "# (4) 신규로 생성된 data_mean 변수 내용 확인하고, 계산한 평균값 rm_mean 변수에 저장\n",
    "print(data_mean.head())\n",
    "print()\n",
    "\n",
    "# data_mean 평균값을 rm_mean 에 저장\n",
    "rm_mean = data_mean.mean()\n",
    "\n",
    "# RM 칼럼의 평균값(rm_mean 변수) 확인\n",
    "print(rm_mean)"
   ]
  },
  {
   "cell_type": "code",
   "execution_count": 18,
   "id": "e27407a0",
   "metadata": {},
   "outputs": [
    {
     "name": "stdout",
     "output_type": "stream",
     "text": [
      "0      6.575000\n",
      "1      6.421000\n",
      "2      7.185000\n",
      "3      6.998000\n",
      "4      7.147000\n",
      "         ...   \n",
      "501    6.593000\n",
      "502    6.285102\n",
      "503    6.976000\n",
      "504    6.794000\n",
      "505    6.030000\n",
      "Name: RM, Length: 506, dtype: float64\n"
     ]
    }
   ],
   "source": [
    "# (5) data_mean 변수에서 평균값으로 결측치 대치\n",
    "print(data_mean.fillna(rm_mean, inplace=False)) # inplace=False 로 원 데이터에 영향X"
   ]
  },
  {
   "cell_type": "code",
   "execution_count": 19,
   "id": "8798373a",
   "metadata": {},
   "outputs": [
    {
     "data": {
      "text/plain": [
       "0"
      ]
     },
     "execution_count": 19,
     "metadata": {},
     "output_type": "execute_result"
    }
   ],
   "source": [
    "# (6) inplace=True 옵션으로 결측치를 평균값으로 대치\n",
    "data_mean.fillna(rm_mean, inplace=True)\n",
    "\n",
    "# 결측치 개수 재확인\n",
    "data_mean.isnull().sum()"
   ]
  },
  {
   "cell_type": "code",
   "execution_count": 21,
   "id": "1d432578",
   "metadata": {},
   "outputs": [
    {
     "name": "stdout",
     "output_type": "stream",
     "text": [
      "15\n",
      "(506,)\n"
     ]
    }
   ],
   "source": [
    "# (7) 결측치 삭제 : data 변수의 RM 칼럼 추출하여 새로운 변수 data_del 생성\n",
    "data_del = data['RM'].copy()\n",
    "\n",
    "# data_del 의 결측치 개수 확인\n",
    "print(data_del.isnull().sum())\n",
    "\n",
    "# data_del 변수의 행/열 구조 확인\n",
    "print(data_del.shape)"
   ]
  },
  {
   "cell_type": "code",
   "execution_count": 22,
   "id": "35cd7c26",
   "metadata": {},
   "outputs": [
    {
     "name": "stdout",
     "output_type": "stream",
     "text": [
      "(491,)\n",
      "0\n"
     ]
    }
   ],
   "source": [
    "# (8) dropna() 함수 사용한 결측치 데이터 삭제, inplace=True 옵션 적용\n",
    "data_del.dropna(inplace=True)\n",
    "\n",
    "print(data_del.shape)\n",
    "print(data_del.isnull().sum())"
   ]
  },
  {
   "cell_type": "code",
   "execution_count": 23,
   "id": "453d4d0a",
   "metadata": {},
   "outputs": [
    {
     "name": "stdout",
     "output_type": "stream",
     "text": [
      "0.6975001826300911\n",
      "0.7080957287241957\n"
     ]
    }
   ],
   "source": [
    "# (9) 결측치 평균값으로 대치된 data_mean 변수와 결측치 삭제된 data_del 변수 각각의 표준편차 구하기\n",
    "print(data_mean.std())\n",
    "\n",
    "print(data_del.std())"
   ]
  },
  {
   "cell_type": "code",
   "execution_count": 24,
   "id": "06a3d835",
   "metadata": {},
   "outputs": [
    {
     "name": "stdout",
     "output_type": "stream",
     "text": [
      "0.010595546094104624\n"
     ]
    }
   ],
   "source": [
    "# (10) 각 표준편차 뺀 후, 결과값에 abs() 함수 사용해서 절대값 취한다.\n",
    "print(abs(data_mean.std() - data_del.std()))"
   ]
  },
  {
   "cell_type": "markdown",
   "id": "20cd2a8b",
   "metadata": {},
   "source": [
    "최종 제출 코드"
   ]
  },
  {
   "cell_type": "code",
   "execution_count": 25,
   "id": "23a3c611",
   "metadata": {},
   "outputs": [
    {
     "name": "stdout",
     "output_type": "stream",
     "text": [
      "0.010595546094104624\n"
     ]
    }
   ],
   "source": [
    "import pandas as pd\n",
    "data = pd.read_csv('bigData-main/boston.csv')\n",
    "\n",
    "data_mean = data.RM.copy()\n",
    "rm_mean = data_mean.mean()\n",
    "data_mean.fillna(rm_mean, inplace=True)\n",
    "\n",
    "data_del = data.RM.copy()\n",
    "data_del.dropna(inplace=True)\n",
    "\n",
    "print(abs(data_mean.std() - data_del.std()))"
   ]
  },
  {
   "cell_type": "markdown",
   "id": "9b7499b6",
   "metadata": {},
   "source": [
    "### 1.3 이상치 확인하기\n",
    "boston 데이터 세트(boston.csv)의 ZN 칼럼을 대상으로 ZN 값의 평균값에서 표준편차의 1.5배보다 크거나 작은 ZN 값의 합계를 구하시오.\n",
    "\n",
    "- 문제 유형 분석\n",
    "    - ZN 칼럼의 평균값과 표준편차를 구한다.\n",
    "    - 평균값에서 1.5*표준편차보다 큰 값들을 구하고, 평균값에서 1.5*표준편차보다 작은 값들을 구한다.\n",
    "    - 최종적으로 구한 값들을 모두 더한 후 출력한다.\n",
    "   "
   ]
  },
  {
   "cell_type": "code",
   "execution_count": 26,
   "id": "d71e2afe",
   "metadata": {},
   "outputs": [],
   "source": [
    "import pandas as pd\n",
    "data = pd.read_csv('bigData-main/boston.csv')"
   ]
  },
  {
   "cell_type": "code",
   "execution_count": 28,
   "id": "5e901783",
   "metadata": {},
   "outputs": [],
   "source": [
    "# ZN 칼럼의 평균값, 표준편차값 구하기\n",
    "zn_mean = data.ZN.mean()\n",
    "zn_std  = data.ZN.std()"
   ]
  },
  {
   "cell_type": "code",
   "execution_count": 29,
   "id": "b754225f",
   "metadata": {},
   "outputs": [
    {
     "name": "stdout",
     "output_type": "stream",
     "text": [
      "46.34731585540892 -23.620043128136192\n"
     ]
    }
   ],
   "source": [
    "# 평균으로부터 1.5*표준편차만큼 떨어진 값 구하기\n",
    "zn_max = zn_mean + (1.5*zn_std)\n",
    "zn_min = zn_mean - (1.5*zn_std)\n",
    "print(zn_max, zn_min)"
   ]
  },
  {
   "cell_type": "code",
   "execution_count": 33,
   "id": "04e8e7af",
   "metadata": {},
   "outputs": [
    {
     "name": "stdout",
     "output_type": "stream",
     "text": [
      "39      75.0\n",
      "40      75.0\n",
      "54      75.0\n",
      "55      90.0\n",
      "56      85.0\n",
      "57     100.0\n",
      "65      80.0\n",
      "66      80.0\n",
      "193     60.0\n",
      "194     60.0\n",
      "195     80.0\n",
      "196     80.0\n",
      "197     80.0\n",
      "198     80.0\n",
      "199     95.0\n",
      "200     95.0\n",
      "201     82.5\n",
      "202     82.5\n",
      "203     95.0\n",
      "204     95.0\n",
      "254     80.0\n",
      "255     80.0\n",
      "256     90.0\n",
      "283     90.0\n",
      "284     90.0\n",
      "285     55.0\n",
      "286     80.0\n",
      "287     52.5\n",
      "288     52.5\n",
      "289     52.5\n",
      "290     80.0\n",
      "291     80.0\n",
      "292     80.0\n",
      "298     70.0\n",
      "299     70.0\n",
      "300     70.0\n",
      "343     55.0\n",
      "344     55.0\n",
      "347     85.0\n",
      "348     80.0\n",
      "351     60.0\n",
      "352     60.0\n",
      "353     90.0\n",
      "354     80.0\n",
      "355     80.0\n",
      "Name: ZN, dtype: float64\n"
     ]
    }
   ],
   "source": [
    "# zn_max 보다 큰 값 찾기\n",
    "zn_max2 = data[data.ZN > zn_max].ZN\n",
    "print(zn_max2)"
   ]
  },
  {
   "cell_type": "code",
   "execution_count": 34,
   "id": "cde6b3b5",
   "metadata": {},
   "outputs": [
    {
     "name": "stdout",
     "output_type": "stream",
     "text": [
      "Empty DataFrame\n",
      "Columns: [CRIM, ZN, INDUS, CHAS, NOX, RM, AGE, DIS, RAD, TAX, PTRATIO, B, LSTAT, MEDV]\n",
      "Index: []\n"
     ]
    }
   ],
   "source": [
    "# zn_min 보다 작은 값 찾기 > 해당 값 없음\n",
    "print(data[data.ZN < zn_min])"
   ]
  },
  {
   "cell_type": "code",
   "execution_count": 35,
   "id": "1f73b4d3",
   "metadata": {},
   "outputs": [
    {
     "name": "stdout",
     "output_type": "stream",
     "text": [
      "3462.5\n"
     ]
    }
   ],
   "source": [
    "# zn_max2 변수값의 합계 구하기\n",
    "print(sum(zn_max2))"
   ]
  },
  {
   "cell_type": "markdown",
   "id": "c985d867",
   "metadata": {},
   "source": [
    "최종 제출 코드"
   ]
  },
  {
   "cell_type": "code",
   "execution_count": 36,
   "id": "5d64ea93",
   "metadata": {},
   "outputs": [
    {
     "name": "stdout",
     "output_type": "stream",
     "text": [
      "3462.5\n"
     ]
    }
   ],
   "source": [
    "import pandas as pd\n",
    "data = pd.read_csv('bigData-main/boston.csv')\n",
    "\n",
    "zn_mean = data.ZN.mean()\n",
    "zn_std  = data.ZN.std()\n",
    "zn_max  = zn_mean + (1.5 * zn_std)\n",
    "zn_min  = zn_mean - (1.5 * zn_std)\n",
    "zn_max2 = data[data.ZN > zn_max].ZN\n",
    "zn_min2 = data[data.ZN < zn_min].ZN\n",
    "print(sum(zn_max2) + sum(zn_min2))"
   ]
  },
  {
   "cell_type": "markdown",
   "id": "b60e8aec",
   "metadata": {},
   "source": [
    "### 1.4 사분위수 구하기\n",
    "boston 데이터 세트(boston.csv)에서 CHAS 칼럼과 RAD 칼럼을 제외한 칼럼에 한해서 칼럼별 IQR(Inter Quantile Range) 값을 구하시오.\n",
    "단, 출력구조는 2열이고 1열은 보스턴 데이터 세트의 컬럼 이름이 표시되어야 한다.\n",
    "\n",
    "- 문제 유형 분석\n",
    "    1. boston 데이터 세트에서 CHAS 칼럼과 RAD 칼럼 삭제\n",
    "    2. 나머지 열들에 대해 IQR 값, 즉 3사분위수 - 1사분위수 계산\n",
    "    3. 데이터 프레임의 Y축에 해당하는 행 이름이 boston 데이터 세트의 칼럼명으로 출력"
   ]
  },
  {
   "cell_type": "code",
   "execution_count": 37,
   "id": "774fca02",
   "metadata": {},
   "outputs": [
    {
     "name": "stdout",
     "output_type": "stream",
     "text": [
      "(506, 14)\n"
     ]
    }
   ],
   "source": [
    "import pandas as pd\n",
    "data = pd.read_csv('bigData-main/boston.csv')\n",
    "\n",
    "print(data.shape)"
   ]
  },
  {
   "cell_type": "code",
   "execution_count": 41,
   "id": "4f6b771b",
   "metadata": {},
   "outputs": [
    {
     "data": {
      "text/html": [
       "<div>\n",
       "<style scoped>\n",
       "    .dataframe tbody tr th:only-of-type {\n",
       "        vertical-align: middle;\n",
       "    }\n",
       "\n",
       "    .dataframe tbody tr th {\n",
       "        vertical-align: top;\n",
       "    }\n",
       "\n",
       "    .dataframe thead th {\n",
       "        text-align: right;\n",
       "    }\n",
       "</style>\n",
       "<table border=\"1\" class=\"dataframe\">\n",
       "  <thead>\n",
       "    <tr style=\"text-align: right;\">\n",
       "      <th></th>\n",
       "      <th>CRIM</th>\n",
       "      <th>ZN</th>\n",
       "      <th>INDUS</th>\n",
       "      <th>NOX</th>\n",
       "      <th>RM</th>\n",
       "      <th>AGE</th>\n",
       "      <th>DIS</th>\n",
       "      <th>TAX</th>\n",
       "      <th>PTRATIO</th>\n",
       "      <th>B</th>\n",
       "      <th>LSTAT</th>\n",
       "      <th>MEDV</th>\n",
       "    </tr>\n",
       "  </thead>\n",
       "  <tbody>\n",
       "    <tr>\n",
       "      <th>0</th>\n",
       "      <td>0.00632</td>\n",
       "      <td>18.0</td>\n",
       "      <td>2.31</td>\n",
       "      <td>0.538</td>\n",
       "      <td>6.575</td>\n",
       "      <td>65.2</td>\n",
       "      <td>4.0900</td>\n",
       "      <td>296</td>\n",
       "      <td>15.3</td>\n",
       "      <td>396.90</td>\n",
       "      <td>4.98</td>\n",
       "      <td>24.0</td>\n",
       "    </tr>\n",
       "    <tr>\n",
       "      <th>1</th>\n",
       "      <td>0.02731</td>\n",
       "      <td>0.0</td>\n",
       "      <td>7.07</td>\n",
       "      <td>0.469</td>\n",
       "      <td>6.421</td>\n",
       "      <td>78.9</td>\n",
       "      <td>4.9671</td>\n",
       "      <td>242</td>\n",
       "      <td>17.8</td>\n",
       "      <td>396.90</td>\n",
       "      <td>9.14</td>\n",
       "      <td>21.6</td>\n",
       "    </tr>\n",
       "    <tr>\n",
       "      <th>2</th>\n",
       "      <td>0.02729</td>\n",
       "      <td>0.0</td>\n",
       "      <td>7.07</td>\n",
       "      <td>0.469</td>\n",
       "      <td>7.185</td>\n",
       "      <td>61.1</td>\n",
       "      <td>4.9671</td>\n",
       "      <td>242</td>\n",
       "      <td>17.8</td>\n",
       "      <td>392.83</td>\n",
       "      <td>4.03</td>\n",
       "      <td>34.7</td>\n",
       "    </tr>\n",
       "    <tr>\n",
       "      <th>3</th>\n",
       "      <td>0.03237</td>\n",
       "      <td>0.0</td>\n",
       "      <td>2.18</td>\n",
       "      <td>0.458</td>\n",
       "      <td>6.998</td>\n",
       "      <td>45.8</td>\n",
       "      <td>6.0622</td>\n",
       "      <td>222</td>\n",
       "      <td>18.7</td>\n",
       "      <td>394.63</td>\n",
       "      <td>2.94</td>\n",
       "      <td>33.4</td>\n",
       "    </tr>\n",
       "    <tr>\n",
       "      <th>4</th>\n",
       "      <td>0.06905</td>\n",
       "      <td>0.0</td>\n",
       "      <td>2.18</td>\n",
       "      <td>0.458</td>\n",
       "      <td>7.147</td>\n",
       "      <td>54.2</td>\n",
       "      <td>6.0622</td>\n",
       "      <td>222</td>\n",
       "      <td>18.7</td>\n",
       "      <td>396.90</td>\n",
       "      <td>5.33</td>\n",
       "      <td>36.2</td>\n",
       "    </tr>\n",
       "    <tr>\n",
       "      <th>...</th>\n",
       "      <td>...</td>\n",
       "      <td>...</td>\n",
       "      <td>...</td>\n",
       "      <td>...</td>\n",
       "      <td>...</td>\n",
       "      <td>...</td>\n",
       "      <td>...</td>\n",
       "      <td>...</td>\n",
       "      <td>...</td>\n",
       "      <td>...</td>\n",
       "      <td>...</td>\n",
       "      <td>...</td>\n",
       "    </tr>\n",
       "    <tr>\n",
       "      <th>501</th>\n",
       "      <td>0.06263</td>\n",
       "      <td>0.0</td>\n",
       "      <td>11.93</td>\n",
       "      <td>0.573</td>\n",
       "      <td>6.593</td>\n",
       "      <td>69.1</td>\n",
       "      <td>2.4786</td>\n",
       "      <td>273</td>\n",
       "      <td>21.0</td>\n",
       "      <td>391.99</td>\n",
       "      <td>9.67</td>\n",
       "      <td>22.4</td>\n",
       "    </tr>\n",
       "    <tr>\n",
       "      <th>502</th>\n",
       "      <td>0.04527</td>\n",
       "      <td>0.0</td>\n",
       "      <td>11.93</td>\n",
       "      <td>0.573</td>\n",
       "      <td>NaN</td>\n",
       "      <td>76.7</td>\n",
       "      <td>2.2875</td>\n",
       "      <td>273</td>\n",
       "      <td>21.0</td>\n",
       "      <td>396.90</td>\n",
       "      <td>9.08</td>\n",
       "      <td>20.6</td>\n",
       "    </tr>\n",
       "    <tr>\n",
       "      <th>503</th>\n",
       "      <td>0.06076</td>\n",
       "      <td>0.0</td>\n",
       "      <td>11.93</td>\n",
       "      <td>0.573</td>\n",
       "      <td>6.976</td>\n",
       "      <td>91.0</td>\n",
       "      <td>2.1675</td>\n",
       "      <td>273</td>\n",
       "      <td>21.0</td>\n",
       "      <td>396.90</td>\n",
       "      <td>5.64</td>\n",
       "      <td>23.9</td>\n",
       "    </tr>\n",
       "    <tr>\n",
       "      <th>504</th>\n",
       "      <td>0.10959</td>\n",
       "      <td>0.0</td>\n",
       "      <td>11.93</td>\n",
       "      <td>0.573</td>\n",
       "      <td>6.794</td>\n",
       "      <td>89.3</td>\n",
       "      <td>2.3889</td>\n",
       "      <td>273</td>\n",
       "      <td>21.0</td>\n",
       "      <td>393.45</td>\n",
       "      <td>6.48</td>\n",
       "      <td>22.0</td>\n",
       "    </tr>\n",
       "    <tr>\n",
       "      <th>505</th>\n",
       "      <td>0.04741</td>\n",
       "      <td>0.0</td>\n",
       "      <td>11.93</td>\n",
       "      <td>0.573</td>\n",
       "      <td>6.030</td>\n",
       "      <td>80.8</td>\n",
       "      <td>2.5050</td>\n",
       "      <td>273</td>\n",
       "      <td>21.0</td>\n",
       "      <td>396.90</td>\n",
       "      <td>7.88</td>\n",
       "      <td>11.9</td>\n",
       "    </tr>\n",
       "  </tbody>\n",
       "</table>\n",
       "<p>506 rows × 12 columns</p>\n",
       "</div>"
      ],
      "text/plain": [
       "        CRIM    ZN  INDUS    NOX     RM   AGE     DIS  TAX  PTRATIO       B  \\\n",
       "0    0.00632  18.0   2.31  0.538  6.575  65.2  4.0900  296     15.3  396.90   \n",
       "1    0.02731   0.0   7.07  0.469  6.421  78.9  4.9671  242     17.8  396.90   \n",
       "2    0.02729   0.0   7.07  0.469  7.185  61.1  4.9671  242     17.8  392.83   \n",
       "3    0.03237   0.0   2.18  0.458  6.998  45.8  6.0622  222     18.7  394.63   \n",
       "4    0.06905   0.0   2.18  0.458  7.147  54.2  6.0622  222     18.7  396.90   \n",
       "..       ...   ...    ...    ...    ...   ...     ...  ...      ...     ...   \n",
       "501  0.06263   0.0  11.93  0.573  6.593  69.1  2.4786  273     21.0  391.99   \n",
       "502  0.04527   0.0  11.93  0.573    NaN  76.7  2.2875  273     21.0  396.90   \n",
       "503  0.06076   0.0  11.93  0.573  6.976  91.0  2.1675  273     21.0  396.90   \n",
       "504  0.10959   0.0  11.93  0.573  6.794  89.3  2.3889  273     21.0  393.45   \n",
       "505  0.04741   0.0  11.93  0.573  6.030  80.8  2.5050  273     21.0  396.90   \n",
       "\n",
       "     LSTAT  MEDV  \n",
       "0     4.98  24.0  \n",
       "1     9.14  21.6  \n",
       "2     4.03  34.7  \n",
       "3     2.94  33.4  \n",
       "4     5.33  36.2  \n",
       "..     ...   ...  \n",
       "501   9.67  22.4  \n",
       "502   9.08  20.6  \n",
       "503   5.64  23.9  \n",
       "504   6.48  22.0  \n",
       "505   7.88  11.9  \n",
       "\n",
       "[506 rows x 12 columns]"
      ]
     },
     "execution_count": 41,
     "metadata": {},
     "output_type": "execute_result"
    }
   ],
   "source": [
    "# CHAS, RAD 칼럼 삭제\n",
    "data.drop(columns = ['CHAS', 'RAD'])"
   ]
  },
  {
   "cell_type": "code",
   "execution_count": 44,
   "id": "73277ee0",
   "metadata": {},
   "outputs": [
    {
     "name": "stdout",
     "output_type": "stream",
     "text": [
      "(506, 12)\n"
     ]
    }
   ],
   "source": [
    "data_col12 = data.drop(columns = ['CHAS', 'RAD'])\n",
    "\n",
    "# data_col12 변수의 행/열 확인\n",
    "print(data_col12.shape)"
   ]
  },
  {
   "cell_type": "code",
   "execution_count": 46,
   "id": "2c8f17be",
   "metadata": {},
   "outputs": [
    {
     "name": "stdout",
     "output_type": "stream",
     "text": [
      "             CRIM          ZN       INDUS         NOX          RM         AGE  \\\n",
      "count  506.000000  506.000000  506.000000  506.000000  491.000000  506.000000   \n",
      "mean     3.613524   11.363636   11.136779    0.554695    6.285102   68.574901   \n",
      "std      8.601545   23.322453    6.860353    0.115878    0.708096   28.148861   \n",
      "min      0.006320    0.000000    0.460000    0.385000    3.561000    2.900000   \n",
      "25%      0.082045    0.000000    5.190000    0.449000    5.886000   45.025000   \n",
      "50%      0.256510    0.000000    9.690000    0.538000    6.209000   77.500000   \n",
      "75%      3.677083   12.500000   18.100000    0.624000    6.622000   94.075000   \n",
      "max     88.976200  100.000000   27.740000    0.871000    8.780000  100.000000   \n",
      "\n",
      "              DIS         TAX     PTRATIO           B       LSTAT        MEDV  \n",
      "count  506.000000  506.000000  506.000000  506.000000  506.000000  506.000000  \n",
      "mean     3.795043  408.237154   18.455534  356.674032   12.653063   22.532806  \n",
      "std      2.105710  168.537116    2.164946   91.294864    7.141062    9.197104  \n",
      "min      1.129600  187.000000   12.600000    0.320000    1.730000    5.000000  \n",
      "25%      2.100175  279.000000   17.400000  375.377500    6.950000   17.025000  \n",
      "50%      3.207450  330.000000   19.050000  391.440000   11.360000   21.200000  \n",
      "75%      5.188425  666.000000   20.200000  396.225000   16.955000   25.000000  \n",
      "max     12.126500  711.000000   22.000000  396.900000   37.970000   50.000000  \n"
     ]
    }
   ],
   "source": [
    "# IQR 구하기 위해 data_col12 변수의 기초통계량 확인\n",
    "data_col12_desc = data_col12.describe()\n",
    "\n",
    "print(data_col12_desc)"
   ]
  },
  {
   "cell_type": "code",
   "execution_count": 48,
   "id": "fd6998df",
   "metadata": {},
   "outputs": [
    {
     "name": "stdout",
     "output_type": "stream",
     "text": [
      "         CRIM    ZN  INDUS    NOX     RM     AGE       DIS    TAX  PTRATIO  \\\n",
      "25%  0.082045   0.0   5.19  0.449  5.886  45.025  2.100175  279.0     17.4   \n",
      "75%  3.677083  12.5  18.10  0.624  6.622  94.075  5.188425  666.0     20.2   \n",
      "\n",
      "            B   LSTAT    MEDV  \n",
      "25%  375.3775   6.950  17.025  \n",
      "75%  396.2250  16.955  25.000  \n"
     ]
    }
   ],
   "source": [
    "# data_col12_desc 에서 4,6번 행 데이터 가져오기\n",
    "print(data_col12_desc.iloc[[4,6]])"
   ]
  },
  {
   "cell_type": "code",
   "execution_count": 50,
   "id": "b7de5dba",
   "metadata": {},
   "outputs": [
    {
     "name": "stdout",
     "output_type": "stream",
     "text": [
      "                25%         75%\n",
      "CRIM       0.082045    3.677083\n",
      "ZN         0.000000   12.500000\n",
      "INDUS      5.190000   18.100000\n",
      "NOX        0.449000    0.624000\n",
      "RM         5.886000    6.622000\n",
      "AGE       45.025000   94.075000\n",
      "DIS        2.100175    5.188425\n",
      "TAX      279.000000  666.000000\n",
      "PTRATIO   17.400000   20.200000\n",
      "B        375.377500  396.225000\n",
      "LSTAT      6.950000   16.955000\n",
      "MEDV      17.025000   25.000000\n"
     ]
    }
   ],
   "source": [
    "# 행/열 구조 바꾸기\n",
    "data_col12_desc_T = data_col12_desc.iloc[[4, 6]].T\n",
    "print(data_col12_desc_T)"
   ]
  },
  {
   "cell_type": "code",
   "execution_count": 51,
   "id": "4bbd01c3",
   "metadata": {},
   "outputs": [
    {
     "name": "stdout",
     "output_type": "stream",
     "text": [
      "CRIM         3.595038\n",
      "ZN          12.500000\n",
      "INDUS       12.910000\n",
      "NOX          0.175000\n",
      "RM           0.736000\n",
      "AGE         49.050000\n",
      "DIS          3.088250\n",
      "TAX        387.000000\n",
      "PTRATIO      2.800000\n",
      "B           20.847500\n",
      "LSTAT       10.005000\n",
      "MEDV         7.975000\n",
      "dtype: float64\n"
     ]
    }
   ],
   "source": [
    "# 3분위수에서 1분위수 빼서 IQR 구하기\n",
    "print(data_col12_desc_T['75%'] - data_col12_desc_T['25%'])"
   ]
  },
  {
   "cell_type": "markdown",
   "id": "cab8e421",
   "metadata": {},
   "source": [
    "최종 제출 코드"
   ]
  },
  {
   "cell_type": "code",
   "execution_count": 53,
   "id": "2d7bec19",
   "metadata": {},
   "outputs": [
    {
     "name": "stdout",
     "output_type": "stream",
     "text": [
      "CRIM         3.595038\n",
      "ZN          12.500000\n",
      "INDUS       12.910000\n",
      "NOX          0.175000\n",
      "RM           0.736000\n",
      "AGE         49.050000\n",
      "DIS          3.088250\n",
      "TAX        387.000000\n",
      "PTRATIO      2.800000\n",
      "B           20.847500\n",
      "LSTAT       10.005000\n",
      "MEDV         7.975000\n",
      "dtype: float64\n"
     ]
    }
   ],
   "source": [
    "import pandas as pd\n",
    "# data load 생략\n",
    "data_col12 = data.drop(columns = ['CHAS', 'RAD'])\n",
    "data_col12_desc = data_col12.describe()\n",
    "data_col12_desc_T = data_col12_desc.iloc[[4,6]].T\n",
    "print(data_col12_desc_T['75%'] - data_col12_desc_T['25%'])"
   ]
  },
  {
   "cell_type": "code",
   "execution_count": 57,
   "id": "4acc4fe2",
   "metadata": {},
   "outputs": [
    {
     "name": "stdout",
     "output_type": "stream",
     "text": [
      "CRIM         3.595038\n",
      "ZN          12.500000\n",
      "INDUS       12.910000\n",
      "NOX          0.175000\n",
      "RM           0.736000\n",
      "AGE         49.050000\n",
      "DIS          3.088250\n",
      "TAX        387.000000\n",
      "PTRATIO      2.800000\n",
      "B           20.847500\n",
      "LSTAT       10.005000\n",
      "MEDV         7.975000\n",
      "dtype: float64\n"
     ]
    }
   ],
   "source": [
    "data_col12 = data.drop(columns = ['CHAS', 'RAD'])\n",
    "iqr = data_col12.quantile(0.75) - data_col12.quantile(.25)\n",
    "print(iqr)"
   ]
  },
  {
   "cell_type": "markdown",
   "id": "0435ac0e",
   "metadata": {},
   "source": [
    "### 1.5 순위 구하기\n",
    "\n",
    "boston 데이터 세트(boston.csv)의 MEDV 컬럼 기준으로 30번째로 큰 값을 1번~29번째로 큰 값에 적용한다. 그리고 MEDV 컬럼의 평균값, 중위값, 최소값, 최대값 순으로 한 줄에 출력하시오.\n",
    "\n",
    "- 문제 유형 분석\n",
    "    - MEDV 컬럼의 30번째로 큰 값을 구한다.\n",
    "    - 1번째부터 29번째로 큰 값을 30번째 큰 값으로 변경한다.\n",
    "    - 이후에 MEDV 컬럼의 평균값, 중위값, 최소값, 최대값을 한 줄에 출력한다."
   ]
  },
  {
   "cell_type": "code",
   "execution_count": 59,
   "id": "a20bae00",
   "metadata": {},
   "outputs": [
    {
     "name": "stdout",
     "output_type": "stream",
     "text": [
      "0    24.0\n",
      "1    21.6\n",
      "2    34.7\n",
      "3    33.4\n",
      "4    36.2\n",
      "Name: MEDV, dtype: float64\n"
     ]
    }
   ],
   "source": [
    "print(data.MEDV.head())"
   ]
  },
  {
   "cell_type": "code",
   "execution_count": 61,
   "id": "6782508d",
   "metadata": {},
   "outputs": [
    {
     "name": "stdout",
     "output_type": "stream",
     "text": [
      "283    50.0\n",
      "225    50.0\n",
      "369    50.0\n",
      "370    50.0\n",
      "371    50.0\n",
      "372    50.0\n",
      "186    50.0\n",
      "204    50.0\n",
      "257    50.0\n",
      "195    50.0\n",
      "166    50.0\n",
      "163    50.0\n",
      "267    50.0\n",
      "162    50.0\n",
      "161    50.0\n",
      "368    50.0\n",
      "262    48.8\n",
      "203    48.5\n",
      "233    48.3\n",
      "228    46.7\n",
      "282    46.0\n",
      "280    45.4\n",
      "224    44.8\n",
      "256    44.0\n",
      "98     43.8\n",
      "268    43.5\n",
      "261    43.1\n",
      "253    42.8\n",
      "202    42.3\n",
      "232    41.7\n",
      "Name: MEDV, dtype: float64\n"
     ]
    }
   ],
   "source": [
    "# MEDV 컬럼 내림차순으로 정렬 후 data_new 변수에 저장\n",
    "data_new = data.MEDV.sort_values(ascending=False)\n",
    "\n",
    "print(data_new.head(30))"
   ]
  },
  {
   "cell_type": "code",
   "execution_count": 62,
   "id": "87c8f31c",
   "metadata": {},
   "outputs": [
    {
     "name": "stdout",
     "output_type": "stream",
     "text": [
      "41.7\n"
     ]
    }
   ],
   "source": [
    "# 30번째 큰 값 확인하기\n",
    "print(data_new.iloc[29])"
   ]
  },
  {
   "cell_type": "code",
   "execution_count": 64,
   "id": "a43a757b",
   "metadata": {},
   "outputs": [
    {
     "data": {
      "text/plain": [
       "283    41.7\n",
       "225    41.7\n",
       "369    41.7\n",
       "370    41.7\n",
       "371    41.7\n",
       "372    41.7\n",
       "186    41.7\n",
       "204    41.7\n",
       "257    41.7\n",
       "195    41.7\n",
       "166    41.7\n",
       "163    41.7\n",
       "267    41.7\n",
       "162    41.7\n",
       "161    41.7\n",
       "368    41.7\n",
       "262    41.7\n",
       "203    41.7\n",
       "233    41.7\n",
       "228    41.7\n",
       "282    41.7\n",
       "280    41.7\n",
       "224    41.7\n",
       "256    41.7\n",
       "98     41.7\n",
       "268    41.7\n",
       "261    41.7\n",
       "253    41.7\n",
       "Name: MEDV, dtype: float64"
      ]
     },
     "execution_count": 64,
     "metadata": {},
     "output_type": "execute_result"
    }
   ],
   "source": [
    "# 1번~29번째(행번호 0~28)로 큰 값 확인 & 30번째 큰 값(41.7)으로 대체\n",
    "data_new.iloc[:28] = data_new.iloc[29]\n",
    "\n",
    "# 1~29번째 큰 값 확인\n",
    "data_new.iloc[:28]"
   ]
  },
  {
   "cell_type": "code",
   "execution_count": 65,
   "id": "3ffaa018",
   "metadata": {},
   "outputs": [
    {
     "name": "stdout",
     "output_type": "stream",
     "text": [
      "22.180830039525684 21.2 5.0 42.3\n"
     ]
    }
   ],
   "source": [
    "# data_new 변수에서 평균값, 중위값, 최소값, 최대값 구하기\n",
    "print(data_new.mean(), data_new.median(), data_new.min(), data_new.max())"
   ]
  },
  {
   "cell_type": "markdown",
   "id": "a7bb1816",
   "metadata": {},
   "source": [
    "최종 제출 코드"
   ]
  },
  {
   "cell_type": "code",
   "execution_count": 66,
   "id": "69859dfd",
   "metadata": {},
   "outputs": [
    {
     "name": "stdout",
     "output_type": "stream",
     "text": [
      "22.180830039525684 21.2 5.0 42.3\n"
     ]
    }
   ],
   "source": [
    "import pandas as pd\n",
    "# data load 생략 pd.read_csv()\n",
    "data_new = data.MEDV.sort_values(ascending=False) # 내림차순\n",
    "data_new.iloc[:28] = data_new.iloc[29]\n",
    "print(data_new.mean(), data_new.median(), data_new.min(), data_new.max())"
   ]
  },
  {
   "cell_type": "markdown",
   "id": "da471394",
   "metadata": {},
   "source": [
    "----\n",
    "\n",
    "## 2. 복잡한 데이터 분석"
   ]
  },
  {
   "cell_type": "markdown",
   "id": "02c19fd9",
   "metadata": {},
   "source": [
    "### 2.1 그룹별 집계/요약하기\n",
    "\n",
    "boston 데이터 세트(boston.csv)의 TAX 칼럼이 TAX 칼럼의 중위값보다 큰 데이터를 대상으로, CHAS 칼럼과 RAD 칼럼 순으로 그룹을 지은 후 각 그룹의 데이터 개수를 구하시오. 단 CHAS, RAD 칼럼별 데이터 개수는 COUNT 라는 칼럼으로 출력합니다.\n",
    "\n",
    "- 문제 유형 분석\n",
    "    - TAX 칼럼 값에서 TAX 칼럼의 중위수보다 큰 값들을 구한다.\n",
    "    - CHAS 칼럼과 RAD 칼럼 순서로 그룹을 짓는다.\n",
    "    - 해당하는 그룹의 데이터 계수 계산한다.\n",
    "   "
   ]
  },
  {
   "cell_type": "code",
   "execution_count": 68,
   "id": "16d749a6",
   "metadata": {},
   "outputs": [],
   "source": [
    "import pandas as pd\n",
    "data = pd.read_csv('bigData-main/boston.csv')"
   ]
  },
  {
   "cell_type": "code",
   "execution_count": 69,
   "id": "a3cd1929",
   "metadata": {},
   "outputs": [
    {
     "data": {
      "text/html": [
       "<div>\n",
       "<style scoped>\n",
       "    .dataframe tbody tr th:only-of-type {\n",
       "        vertical-align: middle;\n",
       "    }\n",
       "\n",
       "    .dataframe tbody tr th {\n",
       "        vertical-align: top;\n",
       "    }\n",
       "\n",
       "    .dataframe thead th {\n",
       "        text-align: right;\n",
       "    }\n",
       "</style>\n",
       "<table border=\"1\" class=\"dataframe\">\n",
       "  <thead>\n",
       "    <tr style=\"text-align: right;\">\n",
       "      <th></th>\n",
       "      <th>CRIM</th>\n",
       "      <th>ZN</th>\n",
       "      <th>INDUS</th>\n",
       "      <th>CHAS</th>\n",
       "      <th>NOX</th>\n",
       "      <th>RM</th>\n",
       "      <th>AGE</th>\n",
       "      <th>DIS</th>\n",
       "      <th>RAD</th>\n",
       "      <th>TAX</th>\n",
       "      <th>PTRATIO</th>\n",
       "      <th>B</th>\n",
       "      <th>LSTAT</th>\n",
       "      <th>MEDV</th>\n",
       "    </tr>\n",
       "  </thead>\n",
       "  <tbody>\n",
       "    <tr>\n",
       "      <th>0</th>\n",
       "      <td>0.00632</td>\n",
       "      <td>18.0</td>\n",
       "      <td>2.31</td>\n",
       "      <td>0</td>\n",
       "      <td>0.538</td>\n",
       "      <td>6.575</td>\n",
       "      <td>65.2</td>\n",
       "      <td>4.0900</td>\n",
       "      <td>1</td>\n",
       "      <td>296</td>\n",
       "      <td>15.3</td>\n",
       "      <td>396.90</td>\n",
       "      <td>4.98</td>\n",
       "      <td>24.0</td>\n",
       "    </tr>\n",
       "    <tr>\n",
       "      <th>1</th>\n",
       "      <td>0.02731</td>\n",
       "      <td>0.0</td>\n",
       "      <td>7.07</td>\n",
       "      <td>0</td>\n",
       "      <td>0.469</td>\n",
       "      <td>6.421</td>\n",
       "      <td>78.9</td>\n",
       "      <td>4.9671</td>\n",
       "      <td>2</td>\n",
       "      <td>242</td>\n",
       "      <td>17.8</td>\n",
       "      <td>396.90</td>\n",
       "      <td>9.14</td>\n",
       "      <td>21.6</td>\n",
       "    </tr>\n",
       "    <tr>\n",
       "      <th>2</th>\n",
       "      <td>0.02729</td>\n",
       "      <td>0.0</td>\n",
       "      <td>7.07</td>\n",
       "      <td>0</td>\n",
       "      <td>0.469</td>\n",
       "      <td>7.185</td>\n",
       "      <td>61.1</td>\n",
       "      <td>4.9671</td>\n",
       "      <td>2</td>\n",
       "      <td>242</td>\n",
       "      <td>17.8</td>\n",
       "      <td>392.83</td>\n",
       "      <td>4.03</td>\n",
       "      <td>34.7</td>\n",
       "    </tr>\n",
       "    <tr>\n",
       "      <th>3</th>\n",
       "      <td>0.03237</td>\n",
       "      <td>0.0</td>\n",
       "      <td>2.18</td>\n",
       "      <td>0</td>\n",
       "      <td>0.458</td>\n",
       "      <td>6.998</td>\n",
       "      <td>45.8</td>\n",
       "      <td>6.0622</td>\n",
       "      <td>3</td>\n",
       "      <td>222</td>\n",
       "      <td>18.7</td>\n",
       "      <td>394.63</td>\n",
       "      <td>2.94</td>\n",
       "      <td>33.4</td>\n",
       "    </tr>\n",
       "    <tr>\n",
       "      <th>4</th>\n",
       "      <td>0.06905</td>\n",
       "      <td>0.0</td>\n",
       "      <td>2.18</td>\n",
       "      <td>0</td>\n",
       "      <td>0.458</td>\n",
       "      <td>7.147</td>\n",
       "      <td>54.2</td>\n",
       "      <td>6.0622</td>\n",
       "      <td>3</td>\n",
       "      <td>222</td>\n",
       "      <td>18.7</td>\n",
       "      <td>396.90</td>\n",
       "      <td>5.33</td>\n",
       "      <td>36.2</td>\n",
       "    </tr>\n",
       "  </tbody>\n",
       "</table>\n",
       "</div>"
      ],
      "text/plain": [
       "      CRIM    ZN  INDUS  CHAS    NOX     RM   AGE     DIS  RAD  TAX  PTRATIO  \\\n",
       "0  0.00632  18.0   2.31     0  0.538  6.575  65.2  4.0900    1  296     15.3   \n",
       "1  0.02731   0.0   7.07     0  0.469  6.421  78.9  4.9671    2  242     17.8   \n",
       "2  0.02729   0.0   7.07     0  0.469  7.185  61.1  4.9671    2  242     17.8   \n",
       "3  0.03237   0.0   2.18     0  0.458  6.998  45.8  6.0622    3  222     18.7   \n",
       "4  0.06905   0.0   2.18     0  0.458  7.147  54.2  6.0622    3  222     18.7   \n",
       "\n",
       "        B  LSTAT  MEDV  \n",
       "0  396.90   4.98  24.0  \n",
       "1  396.90   9.14  21.6  \n",
       "2  392.83   4.03  34.7  \n",
       "3  394.63   2.94  33.4  \n",
       "4  396.90   5.33  36.2  "
      ]
     },
     "execution_count": 69,
     "metadata": {},
     "output_type": "execute_result"
    }
   ],
   "source": [
    "data.head()"
   ]
  },
  {
   "cell_type": "code",
   "execution_count": 71,
   "id": "96033f63",
   "metadata": {},
   "outputs": [
    {
     "name": "stdout",
     "output_type": "stream",
     "text": [
      "330.0\n"
     ]
    }
   ],
   "source": [
    "# TAX 칼럼 중위값 계산\n",
    "tax_median = data.TAX.median()\n",
    "print(tax_median)"
   ]
  },
  {
   "cell_type": "code",
   "execution_count": 72,
   "id": "4755d6f9",
   "metadata": {},
   "outputs": [
    {
     "name": "stdout",
     "output_type": "stream",
     "text": [
      "        CRIM    ZN  INDUS  CHAS    NOX     RM   AGE     DIS  RAD  TAX  \\\n",
      "54   0.01360  75.0   4.00     0  0.410  5.888  47.6  7.3197    3  469   \n",
      "65   0.03584  80.0   3.37     0  0.398  6.290  17.8  6.6115    4  337   \n",
      "66   0.04379  80.0   3.37     0  0.398  5.787  31.1  6.6115    4  337   \n",
      "67   0.05789  12.5   6.07     0  0.409  5.878  21.4  6.4980    4  345   \n",
      "68   0.13554  12.5   6.07     0  0.409  5.594  36.8  6.4980    4  345   \n",
      "..       ...   ...    ...   ...    ...    ...   ...     ...  ...  ...   \n",
      "496  0.28960   0.0   9.69     0  0.585  5.390  72.9  2.7986    6  391   \n",
      "497  0.26838   0.0   9.69     0  0.585    NaN  70.6  2.8927    6  391   \n",
      "498  0.23912   0.0   9.69     0  0.585  6.019  65.3  2.4091    6  391   \n",
      "499  0.17783   0.0   9.69     0  0.585  5.569  73.5  2.3999    6  391   \n",
      "500  0.22438   0.0   9.69     0  0.585  6.027  79.7  2.4982    6  391   \n",
      "\n",
      "     PTRATIO       B  LSTAT  MEDV  \n",
      "54      21.1  396.90  14.80  18.9  \n",
      "65      16.1  396.90   4.67  23.5  \n",
      "66      16.1  396.90  10.24  19.4  \n",
      "67      18.9  396.21   8.10  22.0  \n",
      "68      18.9  396.90  13.09  17.4  \n",
      "..       ...     ...    ...   ...  \n",
      "496     19.2  396.90  21.14  19.7  \n",
      "497     19.2  396.90  14.10  18.3  \n",
      "498     19.2  396.90  12.92  21.2  \n",
      "499     19.2  395.77  15.10  17.5  \n",
      "500     19.2  396.90  14.33  16.8  \n",
      "\n",
      "[250 rows x 14 columns]\n"
     ]
    }
   ],
   "source": [
    "# TAX 칼럼에서 중위값보다 큰 값들만 추출\n",
    "print(data[data.TAX > tax_median])"
   ]
  },
  {
   "cell_type": "code",
   "execution_count": 74,
   "id": "c2586abf",
   "metadata": {},
   "outputs": [
    {
     "name": "stdout",
     "output_type": "stream",
     "text": [
      "     CHAS  RAD\n",
      "54      0    3\n",
      "65      0    4\n",
      "66      0    4\n",
      "67      0    4\n",
      "68      0    4\n",
      "..    ...  ...\n",
      "496     0    6\n",
      "497     0    6\n",
      "498     0    6\n",
      "499     0    6\n",
      "500     0    6\n",
      "\n",
      "[250 rows x 2 columns]\n"
     ]
    }
   ],
   "source": [
    "# TAX 칼럼에서 중위값보다 큰 값을 기준으로 CHAS 칼럼과 RAD 칼럼 추출\n",
    "data_new = data[data.TAX > tax_median][['CHAS', 'RAD']]\n",
    "print(data_new)"
   ]
  },
  {
   "cell_type": "code",
   "execution_count": 76,
   "id": "ddf38773",
   "metadata": {},
   "outputs": [
    {
     "name": "stdout",
     "output_type": "stream",
     "text": [
      "[0 1]\n",
      "[ 3  4  5  6  2  1 24]\n"
     ]
    }
   ],
   "source": [
    "# CHAS 칼럼에 들어있는 값 종류 확인\n",
    "print(data_new.CHAS.unique())\n",
    "\n",
    "# RAD 칼럼에 들어있는 값 종류 확인\n",
    "print(data_new.RAD.unique())"
   ]
  },
  {
   "cell_type": "code",
   "execution_count": 78,
   "id": "e247db37",
   "metadata": {},
   "outputs": [
    {
     "data": {
      "text/plain": [
       "CHAS  RAD\n",
       "0     1        3\n",
       "      2        2\n",
       "      3        5\n",
       "      4       33\n",
       "      5       51\n",
       "      6       17\n",
       "      24     124\n",
       "1     5        7\n",
       "      24       8\n",
       "Name: RAD, dtype: int64"
      ]
     },
     "execution_count": 78,
     "metadata": {},
     "output_type": "execute_result"
    }
   ],
   "source": [
    "data_new.groupby(['CHAS', 'RAD'])['RAD'].count()"
   ]
  },
  {
   "cell_type": "code",
   "execution_count": 80,
   "id": "16203125",
   "metadata": {},
   "outputs": [
    {
     "data": {
      "text/plain": [
       "CHAS  RAD\n",
       "0     1        3\n",
       "      2        2\n",
       "      3        5\n",
       "      4       33\n",
       "      5       51\n",
       "      6       17\n",
       "      24     124\n",
       "1     5        7\n",
       "      24       8\n",
       "Name: CHAS, dtype: int64"
      ]
     },
     "execution_count": 80,
     "metadata": {},
     "output_type": "execute_result"
    }
   ],
   "source": [
    "data_new2 = data_new.groupby(['CHAS', 'RAD'])['CHAS'].count()  # 위와 결과 동일\n",
    "data_new2"
   ]
  },
  {
   "cell_type": "code",
   "execution_count": 83,
   "id": "e1ed3c0f",
   "metadata": {},
   "outputs": [
    {
     "name": "stdout",
     "output_type": "stream",
     "text": [
      "          COUNT\n",
      "CHAS RAD       \n",
      "0    1        3\n",
      "     2        2\n",
      "     3        5\n",
      "     4       33\n",
      "     5       51\n",
      "     6       17\n",
      "     24     124\n",
      "1    5        7\n",
      "     24       8\n"
     ]
    }
   ],
   "source": [
    "type(data_new2)\n",
    "\n",
    "# data_new2 변수를 데이터프레임 타입으로 변경하고 data_new3 로 저장\n",
    "data_new3 = pd.DataFrame(data_new2)\n",
    "\n",
    "# data_new3 변수에서 카운트 연산 수행시의 컬럼명 COUNT 로 정의\n",
    "data_new3.columns = ['COUNT']\n",
    "\n",
    "# 최종 제출가능한 data_new 값 확인\n",
    "print(data_new3)"
   ]
  },
  {
   "cell_type": "markdown",
   "id": "7c10fa92",
   "metadata": {},
   "source": [
    "최종 제출 코드"
   ]
  },
  {
   "cell_type": "code",
   "execution_count": 88,
   "id": "7bc8adf5",
   "metadata": {},
   "outputs": [
    {
     "name": "stdout",
     "output_type": "stream",
     "text": [
      "          COUNT\n",
      "CHAS RAD       \n",
      "0    1        3\n",
      "     2        2\n",
      "     3        5\n",
      "     4       33\n",
      "     5       51\n",
      "     6       17\n",
      "     24     124\n",
      "1    5        7\n",
      "     24       8\n"
     ]
    }
   ],
   "source": [
    "import pandas as pd\n",
    "data = pd.read_csv('bigData-main/boston.csv')\n",
    "\n",
    "tax_median = data.TAX.median()\n",
    "data_new = data[data.TAX > tax_median]\n",
    "data_new2 = pd.DataFrame(data_new.groupby(['CHAS', 'RAD'])['RAD'].count())\n",
    "data_new2.columns = ['COUNT']\n",
    "print(data_new2)"
   ]
  },
  {
   "cell_type": "markdown",
   "id": "173e465c",
   "metadata": {},
   "source": [
    "### 2.2 오름차순 / 내림차순 정렬하기\n",
    "\n",
    "boston 데이터 세트(boston.csv)의 TAX 칼럼을 오름차순으로 정렬한 결과와 내림차순으로 정렬한 결과를 각각 구한다. 그리고 각 순번에 맞는 오름차순 값과 내림차순 값의 차이를 구하여 분산 값을 출력하시오.\n",
    "\n",
    "- 문제 유형 분석\n",
    "    - TAX 칼럼을 기준으로 오름차순으로 정렬한 데이터 세트를 만들고, 내림차순으로 정렬한 데이터 세트를 만든다.\n",
    "    - 첫 번째 오름차순 데이터는 가장 작은 값이 위치하고, 첫 번째 내림차순 데이터는 가장 큰 값이 위치하게 된다.\n",
    "    - 동일한 위치에 있는 오름차순 데이터와 내림차순 데이터의 차이 값에서 분산을 계산한다."
   ]
  },
  {
   "cell_type": "code",
   "execution_count": 91,
   "id": "39c1b81b",
   "metadata": {},
   "outputs": [],
   "source": [
    "data_asc = data.TAX.sort_values(ascending=True)\n",
    "data_desc = data.TAX.sort_values(ascending=False)"
   ]
  },
  {
   "cell_type": "code",
   "execution_count": 94,
   "id": "2f8e50db",
   "metadata": {},
   "outputs": [],
   "source": [
    "# 같은 위치를 만들기 위해 인덱스 재조정 / drop = True : 현재 인덱스 정보 삭제, inplace = True : 즉시 적용\n",
    "data_asc.reset_index(drop=True, inplace=True)\n",
    "data_desc.reset_index(drop=True, inplace=True)"
   ]
  },
  {
   "cell_type": "code",
   "execution_count": 95,
   "id": "a1b0c994",
   "metadata": {},
   "outputs": [
    {
     "name": "stdout",
     "output_type": "stream",
     "text": [
      "0    187\n",
      "1    188\n",
      "2    188\n",
      "3    188\n",
      "4    188\n",
      "Name: TAX, dtype: int64 0    711\n",
      "1    711\n",
      "2    711\n",
      "3    711\n",
      "4    711\n",
      "Name: TAX, dtype: int64\n"
     ]
    }
   ],
   "source": [
    "print(data_asc.head(5), data_desc.head(5))"
   ]
  },
  {
   "cell_type": "code",
   "execution_count": 98,
   "id": "3a717b17",
   "metadata": {},
   "outputs": [
    {
     "name": "stdout",
     "output_type": "stream",
     "text": [
      "   TAX  TAX\n",
      "0  187  711\n",
      "1  188  711\n",
      "2  188  711\n",
      "3  188  711\n",
      "4  188  711\n"
     ]
    }
   ],
   "source": [
    "# data_asc, data_desc 컬럼 단위로 붙이기 > concat()\n",
    "data_concat = pd.concat([data_asc, data_desc], axis=1)\n",
    "print(data_concat.head())"
   ]
  },
  {
   "cell_type": "code",
   "execution_count": 105,
   "id": "855d1eae",
   "metadata": {},
   "outputs": [
    {
     "data": {
      "text/html": [
       "<div>\n",
       "<style scoped>\n",
       "    .dataframe tbody tr th:only-of-type {\n",
       "        vertical-align: middle;\n",
       "    }\n",
       "\n",
       "    .dataframe tbody tr th {\n",
       "        vertical-align: top;\n",
       "    }\n",
       "\n",
       "    .dataframe thead th {\n",
       "        text-align: right;\n",
       "    }\n",
       "</style>\n",
       "<table border=\"1\" class=\"dataframe\">\n",
       "  <thead>\n",
       "    <tr style=\"text-align: right;\">\n",
       "      <th></th>\n",
       "      <th>TAX</th>\n",
       "      <th>TAX</th>\n",
       "      <th>diff</th>\n",
       "    </tr>\n",
       "  </thead>\n",
       "  <tbody>\n",
       "    <tr>\n",
       "      <th>0</th>\n",
       "      <td>187</td>\n",
       "      <td>711</td>\n",
       "      <td>524</td>\n",
       "    </tr>\n",
       "    <tr>\n",
       "      <th>1</th>\n",
       "      <td>188</td>\n",
       "      <td>711</td>\n",
       "      <td>523</td>\n",
       "    </tr>\n",
       "    <tr>\n",
       "      <th>2</th>\n",
       "      <td>188</td>\n",
       "      <td>711</td>\n",
       "      <td>523</td>\n",
       "    </tr>\n",
       "    <tr>\n",
       "      <th>3</th>\n",
       "      <td>188</td>\n",
       "      <td>711</td>\n",
       "      <td>523</td>\n",
       "    </tr>\n",
       "    <tr>\n",
       "      <th>4</th>\n",
       "      <td>188</td>\n",
       "      <td>711</td>\n",
       "      <td>523</td>\n",
       "    </tr>\n",
       "    <tr>\n",
       "      <th>...</th>\n",
       "      <td>...</td>\n",
       "      <td>...</td>\n",
       "      <td>...</td>\n",
       "    </tr>\n",
       "    <tr>\n",
       "      <th>501</th>\n",
       "      <td>711</td>\n",
       "      <td>188</td>\n",
       "      <td>523</td>\n",
       "    </tr>\n",
       "    <tr>\n",
       "      <th>502</th>\n",
       "      <td>711</td>\n",
       "      <td>188</td>\n",
       "      <td>523</td>\n",
       "    </tr>\n",
       "    <tr>\n",
       "      <th>503</th>\n",
       "      <td>711</td>\n",
       "      <td>188</td>\n",
       "      <td>523</td>\n",
       "    </tr>\n",
       "    <tr>\n",
       "      <th>504</th>\n",
       "      <td>711</td>\n",
       "      <td>188</td>\n",
       "      <td>523</td>\n",
       "    </tr>\n",
       "    <tr>\n",
       "      <th>505</th>\n",
       "      <td>711</td>\n",
       "      <td>187</td>\n",
       "      <td>524</td>\n",
       "    </tr>\n",
       "  </tbody>\n",
       "</table>\n",
       "<p>506 rows × 3 columns</p>\n",
       "</div>"
      ],
      "text/plain": [
       "     TAX  TAX  diff\n",
       "0    187  711   524\n",
       "1    188  711   523\n",
       "2    188  711   523\n",
       "3    188  711   523\n",
       "4    188  711   523\n",
       "..   ...  ...   ...\n",
       "501  711  188   523\n",
       "502  711  188   523\n",
       "503  711  188   523\n",
       "504  711  188   523\n",
       "505  711  187   524\n",
       "\n",
       "[506 rows x 3 columns]"
      ]
     },
     "execution_count": 105,
     "metadata": {},
     "output_type": "execute_result"
    }
   ],
   "source": [
    "# 컬럼간 차이 구하기\n",
    "data_concat['diff'] = data_concat.apply(lambda x: abs(x[1] - x[0]), axis=1)\n",
    "data_concat"
   ]
  },
  {
   "cell_type": "code",
   "execution_count": 107,
   "id": "64fabdb0",
   "metadata": {},
   "outputs": [
    {
     "name": "stdout",
     "output_type": "stream",
     "text": [
      "28490.5986459515\n"
     ]
    }
   ],
   "source": [
    "# diff컬럼 분산 구하기\n",
    "print(data_concat['diff'].var())"
   ]
  },
  {
   "cell_type": "markdown",
   "id": "087a5f34",
   "metadata": {},
   "source": [
    "최종 제출 코드"
   ]
  },
  {
   "cell_type": "code",
   "execution_count": 108,
   "id": "55bac0a6",
   "metadata": {},
   "outputs": [
    {
     "name": "stdout",
     "output_type": "stream",
     "text": [
      "28490.5986459515\n"
     ]
    }
   ],
   "source": [
    "import pandas as pd\n",
    "data = pd.read_csv('bigData-main/boston.csv')\n",
    "tax = data.TAX\n",
    "data_asc = tax.sort_values(ascending=True)\n",
    "data_desc = tax.sort_values(ascending=False)\n",
    "data_asc.reset_index(drop=True, inplace=True)\n",
    "data_desc.reset_index(drop=True, inplace=True)\n",
    "data_concat = pd.concat([data_asc, data_desc], axis=1)\n",
    "data_concat['diff'] = abs(data_concat.iloc[:, 0] - data_concat.iloc[:,1])\n",
    "print(data_concat['diff'].var())"
   ]
  },
  {
   "cell_type": "markdown",
   "id": "0af731eb",
   "metadata": {},
   "source": [
    "### 2.3 최대최소 변환하기 (MinMaxScaler)\n",
    "\n",
    "boston 데이터 세트(boston.csv)의 MEDV 컬럼을 최소최대 척도(MinMax Scale)로 변환한 후 0.5보다 큰 값을 가지는 레코드 수를 구하시오.\n",
    "\n",
    "- 문제 유형 분석\n",
    "    - MEDV 컬럼 값들을 최소값 0, 최대값 1의 범위로 변환 == 최소-최대 척도로 변환\n",
    "    - 직접 계산을 수행할 수도 있으나, sklearn 라이브러리 활용하여 MinMaxScaler 함수 호출 가능"
   ]
  },
  {
   "cell_type": "code",
   "execution_count": 109,
   "id": "aec71a43",
   "metadata": {},
   "outputs": [
    {
     "data": {
      "text/html": [
       "<div>\n",
       "<style scoped>\n",
       "    .dataframe tbody tr th:only-of-type {\n",
       "        vertical-align: middle;\n",
       "    }\n",
       "\n",
       "    .dataframe tbody tr th {\n",
       "        vertical-align: top;\n",
       "    }\n",
       "\n",
       "    .dataframe thead th {\n",
       "        text-align: right;\n",
       "    }\n",
       "</style>\n",
       "<table border=\"1\" class=\"dataframe\">\n",
       "  <thead>\n",
       "    <tr style=\"text-align: right;\">\n",
       "      <th></th>\n",
       "      <th>CRIM</th>\n",
       "      <th>ZN</th>\n",
       "      <th>INDUS</th>\n",
       "      <th>CHAS</th>\n",
       "      <th>NOX</th>\n",
       "      <th>RM</th>\n",
       "      <th>AGE</th>\n",
       "      <th>DIS</th>\n",
       "      <th>RAD</th>\n",
       "      <th>TAX</th>\n",
       "      <th>PTRATIO</th>\n",
       "      <th>B</th>\n",
       "      <th>LSTAT</th>\n",
       "      <th>MEDV</th>\n",
       "    </tr>\n",
       "  </thead>\n",
       "  <tbody>\n",
       "    <tr>\n",
       "      <th>0</th>\n",
       "      <td>0.00632</td>\n",
       "      <td>18.0</td>\n",
       "      <td>2.31</td>\n",
       "      <td>0</td>\n",
       "      <td>0.538</td>\n",
       "      <td>6.575</td>\n",
       "      <td>65.2</td>\n",
       "      <td>4.0900</td>\n",
       "      <td>1</td>\n",
       "      <td>296</td>\n",
       "      <td>15.3</td>\n",
       "      <td>396.90</td>\n",
       "      <td>4.98</td>\n",
       "      <td>24.0</td>\n",
       "    </tr>\n",
       "    <tr>\n",
       "      <th>1</th>\n",
       "      <td>0.02731</td>\n",
       "      <td>0.0</td>\n",
       "      <td>7.07</td>\n",
       "      <td>0</td>\n",
       "      <td>0.469</td>\n",
       "      <td>6.421</td>\n",
       "      <td>78.9</td>\n",
       "      <td>4.9671</td>\n",
       "      <td>2</td>\n",
       "      <td>242</td>\n",
       "      <td>17.8</td>\n",
       "      <td>396.90</td>\n",
       "      <td>9.14</td>\n",
       "      <td>21.6</td>\n",
       "    </tr>\n",
       "    <tr>\n",
       "      <th>2</th>\n",
       "      <td>0.02729</td>\n",
       "      <td>0.0</td>\n",
       "      <td>7.07</td>\n",
       "      <td>0</td>\n",
       "      <td>0.469</td>\n",
       "      <td>7.185</td>\n",
       "      <td>61.1</td>\n",
       "      <td>4.9671</td>\n",
       "      <td>2</td>\n",
       "      <td>242</td>\n",
       "      <td>17.8</td>\n",
       "      <td>392.83</td>\n",
       "      <td>4.03</td>\n",
       "      <td>34.7</td>\n",
       "    </tr>\n",
       "    <tr>\n",
       "      <th>3</th>\n",
       "      <td>0.03237</td>\n",
       "      <td>0.0</td>\n",
       "      <td>2.18</td>\n",
       "      <td>0</td>\n",
       "      <td>0.458</td>\n",
       "      <td>6.998</td>\n",
       "      <td>45.8</td>\n",
       "      <td>6.0622</td>\n",
       "      <td>3</td>\n",
       "      <td>222</td>\n",
       "      <td>18.7</td>\n",
       "      <td>394.63</td>\n",
       "      <td>2.94</td>\n",
       "      <td>33.4</td>\n",
       "    </tr>\n",
       "    <tr>\n",
       "      <th>4</th>\n",
       "      <td>0.06905</td>\n",
       "      <td>0.0</td>\n",
       "      <td>2.18</td>\n",
       "      <td>0</td>\n",
       "      <td>0.458</td>\n",
       "      <td>7.147</td>\n",
       "      <td>54.2</td>\n",
       "      <td>6.0622</td>\n",
       "      <td>3</td>\n",
       "      <td>222</td>\n",
       "      <td>18.7</td>\n",
       "      <td>396.90</td>\n",
       "      <td>5.33</td>\n",
       "      <td>36.2</td>\n",
       "    </tr>\n",
       "    <tr>\n",
       "      <th>...</th>\n",
       "      <td>...</td>\n",
       "      <td>...</td>\n",
       "      <td>...</td>\n",
       "      <td>...</td>\n",
       "      <td>...</td>\n",
       "      <td>...</td>\n",
       "      <td>...</td>\n",
       "      <td>...</td>\n",
       "      <td>...</td>\n",
       "      <td>...</td>\n",
       "      <td>...</td>\n",
       "      <td>...</td>\n",
       "      <td>...</td>\n",
       "      <td>...</td>\n",
       "    </tr>\n",
       "    <tr>\n",
       "      <th>501</th>\n",
       "      <td>0.06263</td>\n",
       "      <td>0.0</td>\n",
       "      <td>11.93</td>\n",
       "      <td>0</td>\n",
       "      <td>0.573</td>\n",
       "      <td>6.593</td>\n",
       "      <td>69.1</td>\n",
       "      <td>2.4786</td>\n",
       "      <td>1</td>\n",
       "      <td>273</td>\n",
       "      <td>21.0</td>\n",
       "      <td>391.99</td>\n",
       "      <td>9.67</td>\n",
       "      <td>22.4</td>\n",
       "    </tr>\n",
       "    <tr>\n",
       "      <th>502</th>\n",
       "      <td>0.04527</td>\n",
       "      <td>0.0</td>\n",
       "      <td>11.93</td>\n",
       "      <td>0</td>\n",
       "      <td>0.573</td>\n",
       "      <td>NaN</td>\n",
       "      <td>76.7</td>\n",
       "      <td>2.2875</td>\n",
       "      <td>1</td>\n",
       "      <td>273</td>\n",
       "      <td>21.0</td>\n",
       "      <td>396.90</td>\n",
       "      <td>9.08</td>\n",
       "      <td>20.6</td>\n",
       "    </tr>\n",
       "    <tr>\n",
       "      <th>503</th>\n",
       "      <td>0.06076</td>\n",
       "      <td>0.0</td>\n",
       "      <td>11.93</td>\n",
       "      <td>0</td>\n",
       "      <td>0.573</td>\n",
       "      <td>6.976</td>\n",
       "      <td>91.0</td>\n",
       "      <td>2.1675</td>\n",
       "      <td>1</td>\n",
       "      <td>273</td>\n",
       "      <td>21.0</td>\n",
       "      <td>396.90</td>\n",
       "      <td>5.64</td>\n",
       "      <td>23.9</td>\n",
       "    </tr>\n",
       "    <tr>\n",
       "      <th>504</th>\n",
       "      <td>0.10959</td>\n",
       "      <td>0.0</td>\n",
       "      <td>11.93</td>\n",
       "      <td>0</td>\n",
       "      <td>0.573</td>\n",
       "      <td>6.794</td>\n",
       "      <td>89.3</td>\n",
       "      <td>2.3889</td>\n",
       "      <td>1</td>\n",
       "      <td>273</td>\n",
       "      <td>21.0</td>\n",
       "      <td>393.45</td>\n",
       "      <td>6.48</td>\n",
       "      <td>22.0</td>\n",
       "    </tr>\n",
       "    <tr>\n",
       "      <th>505</th>\n",
       "      <td>0.04741</td>\n",
       "      <td>0.0</td>\n",
       "      <td>11.93</td>\n",
       "      <td>0</td>\n",
       "      <td>0.573</td>\n",
       "      <td>6.030</td>\n",
       "      <td>80.8</td>\n",
       "      <td>2.5050</td>\n",
       "      <td>1</td>\n",
       "      <td>273</td>\n",
       "      <td>21.0</td>\n",
       "      <td>396.90</td>\n",
       "      <td>7.88</td>\n",
       "      <td>11.9</td>\n",
       "    </tr>\n",
       "  </tbody>\n",
       "</table>\n",
       "<p>506 rows × 14 columns</p>\n",
       "</div>"
      ],
      "text/plain": [
       "        CRIM    ZN  INDUS  CHAS    NOX     RM   AGE     DIS  RAD  TAX  \\\n",
       "0    0.00632  18.0   2.31     0  0.538  6.575  65.2  4.0900    1  296   \n",
       "1    0.02731   0.0   7.07     0  0.469  6.421  78.9  4.9671    2  242   \n",
       "2    0.02729   0.0   7.07     0  0.469  7.185  61.1  4.9671    2  242   \n",
       "3    0.03237   0.0   2.18     0  0.458  6.998  45.8  6.0622    3  222   \n",
       "4    0.06905   0.0   2.18     0  0.458  7.147  54.2  6.0622    3  222   \n",
       "..       ...   ...    ...   ...    ...    ...   ...     ...  ...  ...   \n",
       "501  0.06263   0.0  11.93     0  0.573  6.593  69.1  2.4786    1  273   \n",
       "502  0.04527   0.0  11.93     0  0.573    NaN  76.7  2.2875    1  273   \n",
       "503  0.06076   0.0  11.93     0  0.573  6.976  91.0  2.1675    1  273   \n",
       "504  0.10959   0.0  11.93     0  0.573  6.794  89.3  2.3889    1  273   \n",
       "505  0.04741   0.0  11.93     0  0.573  6.030  80.8  2.5050    1  273   \n",
       "\n",
       "     PTRATIO       B  LSTAT  MEDV  \n",
       "0       15.3  396.90   4.98  24.0  \n",
       "1       17.8  396.90   9.14  21.6  \n",
       "2       17.8  392.83   4.03  34.7  \n",
       "3       18.7  394.63   2.94  33.4  \n",
       "4       18.7  396.90   5.33  36.2  \n",
       "..       ...     ...    ...   ...  \n",
       "501     21.0  391.99   9.67  22.4  \n",
       "502     21.0  396.90   9.08  20.6  \n",
       "503     21.0  396.90   5.64  23.9  \n",
       "504     21.0  393.45   6.48  22.0  \n",
       "505     21.0  396.90   7.88  11.9  \n",
       "\n",
       "[506 rows x 14 columns]"
      ]
     },
     "execution_count": 109,
     "metadata": {},
     "output_type": "execute_result"
    }
   ],
   "source": [
    "import pandas as pd\n",
    "from sklearn.preprocessing import MinMaxScaler\n",
    "\n",
    "data = pd.read_csv('bigData-main/boston.csv')\n",
    "data"
   ]
  },
  {
   "cell_type": "code",
   "execution_count": 116,
   "id": "7ce19968",
   "metadata": {},
   "outputs": [
    {
     "name": "stdout",
     "output_type": "stream",
     "text": [
      "<class 'numpy.ndarray'>\n"
     ]
    }
   ],
   "source": [
    "# 모델 객체 생성\n",
    "scaler = MinMaxScaler()\n",
    "\n",
    "# 최소-최대 척도로 변환\n",
    "data_minmax = scaler.fit_transform(data)\n",
    "\n",
    "# data_minmax 변수 데이터 타입 확인\n",
    "print(type(data_minmax))"
   ]
  },
  {
   "cell_type": "markdown",
   "id": "ebba8e3e",
   "metadata": {},
   "source": [
    "numpy.ndarray 타입은 pandas 라이브러리로 데이터 가공불가하므로 데이터 프레임 타입으로 변환"
   ]
  },
  {
   "cell_type": "code",
   "execution_count": 117,
   "id": "73072aac",
   "metadata": {},
   "outputs": [
    {
     "data": {
      "text/html": [
       "<div>\n",
       "<style scoped>\n",
       "    .dataframe tbody tr th:only-of-type {\n",
       "        vertical-align: middle;\n",
       "    }\n",
       "\n",
       "    .dataframe tbody tr th {\n",
       "        vertical-align: top;\n",
       "    }\n",
       "\n",
       "    .dataframe thead th {\n",
       "        text-align: right;\n",
       "    }\n",
       "</style>\n",
       "<table border=\"1\" class=\"dataframe\">\n",
       "  <thead>\n",
       "    <tr style=\"text-align: right;\">\n",
       "      <th></th>\n",
       "      <th>CRIM</th>\n",
       "      <th>ZN</th>\n",
       "      <th>INDUS</th>\n",
       "      <th>CHAS</th>\n",
       "      <th>NOX</th>\n",
       "      <th>RM</th>\n",
       "      <th>AGE</th>\n",
       "      <th>DIS</th>\n",
       "      <th>RAD</th>\n",
       "      <th>TAX</th>\n",
       "      <th>PTRATIO</th>\n",
       "      <th>B</th>\n",
       "      <th>LSTAT</th>\n",
       "      <th>MEDV</th>\n",
       "    </tr>\n",
       "  </thead>\n",
       "  <tbody>\n",
       "    <tr>\n",
       "      <th>0</th>\n",
       "      <td>0.000000</td>\n",
       "      <td>0.18</td>\n",
       "      <td>0.067815</td>\n",
       "      <td>0.0</td>\n",
       "      <td>0.314815</td>\n",
       "      <td>0.577505</td>\n",
       "      <td>0.641607</td>\n",
       "      <td>0.269203</td>\n",
       "      <td>0.000000</td>\n",
       "      <td>0.208015</td>\n",
       "      <td>0.287234</td>\n",
       "      <td>1.000000</td>\n",
       "      <td>0.089680</td>\n",
       "      <td>0.422222</td>\n",
       "    </tr>\n",
       "    <tr>\n",
       "      <th>1</th>\n",
       "      <td>0.000236</td>\n",
       "      <td>0.00</td>\n",
       "      <td>0.242302</td>\n",
       "      <td>0.0</td>\n",
       "      <td>0.172840</td>\n",
       "      <td>0.547998</td>\n",
       "      <td>0.782698</td>\n",
       "      <td>0.348962</td>\n",
       "      <td>0.043478</td>\n",
       "      <td>0.104962</td>\n",
       "      <td>0.553191</td>\n",
       "      <td>1.000000</td>\n",
       "      <td>0.204470</td>\n",
       "      <td>0.368889</td>\n",
       "    </tr>\n",
       "    <tr>\n",
       "      <th>2</th>\n",
       "      <td>0.000236</td>\n",
       "      <td>0.00</td>\n",
       "      <td>0.242302</td>\n",
       "      <td>0.0</td>\n",
       "      <td>0.172840</td>\n",
       "      <td>0.694386</td>\n",
       "      <td>0.599382</td>\n",
       "      <td>0.348962</td>\n",
       "      <td>0.043478</td>\n",
       "      <td>0.104962</td>\n",
       "      <td>0.553191</td>\n",
       "      <td>0.989737</td>\n",
       "      <td>0.063466</td>\n",
       "      <td>0.660000</td>\n",
       "    </tr>\n",
       "  </tbody>\n",
       "</table>\n",
       "</div>"
      ],
      "text/plain": [
       "       CRIM    ZN     INDUS  CHAS       NOX        RM       AGE       DIS  \\\n",
       "0  0.000000  0.18  0.067815   0.0  0.314815  0.577505  0.641607  0.269203   \n",
       "1  0.000236  0.00  0.242302   0.0  0.172840  0.547998  0.782698  0.348962   \n",
       "2  0.000236  0.00  0.242302   0.0  0.172840  0.694386  0.599382  0.348962   \n",
       "\n",
       "        RAD       TAX   PTRATIO         B     LSTAT      MEDV  \n",
       "0  0.000000  0.208015  0.287234  1.000000  0.089680  0.422222  \n",
       "1  0.043478  0.104962  0.553191  1.000000  0.204470  0.368889  \n",
       "2  0.043478  0.104962  0.553191  0.989737  0.063466  0.660000  "
      ]
     },
     "execution_count": 117,
     "metadata": {},
     "output_type": "execute_result"
    }
   ],
   "source": [
    "data_minmax = pd.DataFrame(data_minmax, columns = data.columns)\n",
    "\n",
    "data_minmax.head(3)"
   ]
  },
  {
   "cell_type": "code",
   "execution_count": 118,
   "id": "be69963f",
   "metadata": {},
   "outputs": [
    {
     "name": "stdout",
     "output_type": "stream",
     "text": [
      "count    506.000000\n",
      "mean       0.389618\n",
      "std        0.204380\n",
      "min        0.000000\n",
      "25%        0.267222\n",
      "50%        0.360000\n",
      "75%        0.444444\n",
      "max        1.000000\n",
      "Name: MEDV, dtype: float64\n"
     ]
    }
   ],
   "source": [
    "# data_minmax 변수의 MEDV 컬럼에 대한 기초 통계량 확인\n",
    "print(data_minmax['MEDV'].describe())  # min 0, max 1 로 변환"
   ]
  },
  {
   "cell_type": "code",
   "execution_count": 119,
   "id": "822a9d1f",
   "metadata": {},
   "outputs": [
    {
     "name": "stdout",
     "output_type": "stream",
     "text": [
      "         CRIM    ZN     INDUS  CHAS       NOX        RM       AGE       DIS  \\\n",
      "2    0.000236  0.00  0.242302   0.0  0.172840  0.694386  0.599382  0.348962   \n",
      "3    0.000293  0.00  0.063050   0.0  0.150206  0.658555  0.441813  0.448545   \n",
      "4    0.000705  0.00  0.063050   0.0  0.150206  0.687105  0.528321  0.448545   \n",
      "5    0.000264  0.00  0.063050   0.0  0.150206  0.549722  0.574665  0.448545   \n",
      "39   0.000240  0.75  0.091276   0.0  0.088477  0.581337  0.194645  0.388428   \n",
      "..        ...   ...       ...   ...       ...       ...       ...       ...   \n",
      "370  0.073423  0.00  0.646628   1.0  0.506173  0.662004  0.974253  0.006620   \n",
      "371  0.103698  0.00  0.646628   0.0  0.506173  0.508718  1.000000  0.003592   \n",
      "372  0.092851  0.00  0.646628   1.0  0.582305  0.443380  0.892894  0.000000   \n",
      "407  0.134256  0.00  0.646628   0.0  0.563786  0.392221  1.000000  0.014149   \n",
      "473  0.052159  0.00  0.646628   0.0  0.471193  0.655106  0.666323  0.127609   \n",
      "\n",
      "          RAD       TAX   PTRATIO         B     LSTAT      MEDV  \n",
      "2    0.043478  0.104962  0.553191  0.989737  0.063466  0.660000  \n",
      "3    0.086957  0.066794  0.648936  0.994276  0.033389  0.631111  \n",
      "4    0.086957  0.066794  0.648936  1.000000  0.099338  0.693333  \n",
      "5    0.086957  0.066794  0.648936  0.992990  0.096026  0.526667  \n",
      "39   0.086957  0.124046  0.606383  0.996798  0.071468  0.573333  \n",
      "..        ...       ...       ...       ...       ...       ...  \n",
      "370  1.000000  0.914122  0.808511  0.987770  0.033940  1.000000  \n",
      "371  1.000000  0.914122  0.808511  0.922462  0.215232  1.000000  \n",
      "372  1.000000  0.914122  0.808511  0.876393  0.197296  1.000000  \n",
      "407  1.000000  0.914122  0.808511  0.836578  0.286976  0.508889  \n",
      "473  1.000000  0.914122  0.808511  0.943971  0.274007  0.551111  \n",
      "\n",
      "[106 rows x 14 columns]\n"
     ]
    }
   ],
   "source": [
    "# MEDV 컬럼의 값이 0.5보다 큰 값일 경우 전체 값 출력\n",
    "print(data_minmax[data_minmax.MEDV > 0.5])"
   ]
  },
  {
   "cell_type": "code",
   "execution_count": 120,
   "id": "10dde94b",
   "metadata": {},
   "outputs": [
    {
     "name": "stdout",
     "output_type": "stream",
     "text": [
      "106\n"
     ]
    }
   ],
   "source": [
    "print(data_minmax.loc[data_minmax.MEDV > 0.5, 'MEDV'].count())"
   ]
  },
  {
   "cell_type": "markdown",
   "id": "91124057",
   "metadata": {},
   "source": [
    "최종 제출 코드"
   ]
  },
  {
   "cell_type": "code",
   "execution_count": 121,
   "id": "9ef5b0f2",
   "metadata": {},
   "outputs": [
    {
     "name": "stdout",
     "output_type": "stream",
     "text": [
      "106\n"
     ]
    }
   ],
   "source": [
    "import pandas as pd\n",
    "from sklearn.preprocessing import MinMaxScaler\n",
    "\n",
    "data = pd.read_csv('bigData-main/boston.csv')\n",
    "scaler = MinMaxScaler()\n",
    "data_minmax = scaler.fit_transform(data)\n",
    "data_minmax = pd.DataFrame(data_minmax, columns = data.columns)\n",
    "print(data_minmax.loc[data_minmax.MEDV > .5, 'MEDV'].count())"
   ]
  },
  {
   "cell_type": "markdown",
   "id": "b9c1b96e",
   "metadata": {},
   "source": [
    "### 2.4 빈도값 구하기\n",
    "\n",
    "boston 데이터 세트(boston.csv)의 AGE 칼럼을 소수점 첫 번째 자리에서 반올림하고, 가장 많은 비중을 차지하는 AGE  값과 그 개수를 차례대로 출력하시오. 즉, AGE 칼럼의 최빈값과 그 개수를 출력하시오.\n",
    "\n",
    "- 문제 유형 분석(1)\n",
    "    - AGE 칼럼의 값들을 소수점 첫 번째 자리에서 반올림해서 정수 형태로 변환\n",
    "    - AGE 칼럼을 기준으로 그룹화하여 그룹별 개수를 계산\n",
    "    - AGE 칼럼에서 최빈값이 무엇이고, 해당하는 값이 몇개가 있는지 출력\n",
    "- 문제 유형 분석(2)\n",
    "    - scipy 라이브러리에서 제공하는 mode() 함수 사용 (최빈값 구하기)"
   ]
  },
  {
   "cell_type": "markdown",
   "id": "06c99997",
   "metadata": {},
   "source": [
    "#### [1] 첫번째 방법"
   ]
  },
  {
   "cell_type": "code",
   "execution_count": 122,
   "id": "2df815ec",
   "metadata": {},
   "outputs": [],
   "source": [
    "import pandas as pd\n",
    "data = pd.read_csv('bigData-main/boston.csv')"
   ]
  },
  {
   "cell_type": "code",
   "execution_count": 123,
   "id": "a664c27c",
   "metadata": {},
   "outputs": [
    {
     "name": "stdout",
     "output_type": "stream",
     "text": [
      "0      65.2\n",
      "1      78.9\n",
      "2      61.1\n",
      "3      45.8\n",
      "4      54.2\n",
      "       ... \n",
      "501    69.1\n",
      "502    76.7\n",
      "503    91.0\n",
      "504    89.3\n",
      "505    80.8\n",
      "Name: AGE, Length: 506, dtype: float64\n"
     ]
    }
   ],
   "source": [
    "# data 변수의 AGE 컬럼 확인\n",
    "print(data.AGE)"
   ]
  },
  {
   "cell_type": "code",
   "execution_count": 127,
   "id": "8090f679",
   "metadata": {},
   "outputs": [
    {
     "name": "stdout",
     "output_type": "stream",
     "text": [
      "0      65.0\n",
      "1      79.0\n",
      "2      61.0\n",
      "3      46.0\n",
      "4      54.0\n",
      "       ... \n",
      "501    69.0\n",
      "502    77.0\n",
      "503    91.0\n",
      "504    89.0\n",
      "505    81.0\n",
      "Name: AGE, Length: 506, dtype: float64\n"
     ]
    }
   ],
   "source": [
    "# AGE 컬럼 반올림해서 정수 형태로 만들기\n",
    "data2 = round(data.AGE, 0)\n",
    "print(data2)"
   ]
  },
  {
   "cell_type": "code",
   "execution_count": 131,
   "id": "2b2f6d45",
   "metadata": {},
   "outputs": [
    {
     "name": "stdout",
     "output_type": "stream",
     "text": [
      "<class 'pandas.core.frame.DataFrame'>\n"
     ]
    },
    {
     "data": {
      "text/plain": [
       "AGE\n",
       "3.0       1\n",
       "6.0       3\n",
       "7.0       3\n",
       "8.0       3\n",
       "9.0       1\n",
       "         ..\n",
       "96.0     15\n",
       "97.0     17\n",
       "98.0     19\n",
       "99.0     10\n",
       "100.0    43\n",
       "Name: AGE, Length: 91, dtype: int64"
      ]
     },
     "execution_count": 131,
     "metadata": {},
     "output_type": "execute_result"
    }
   ],
   "source": [
    "# data2 데이터 타입\n",
    "print(type(data2))\n",
    "\n",
    "# 데이터 프레임으로 변환\n",
    "data2 = pd.DataFrame(data2)\n",
    "\n",
    "# data2 변수에서 AGE칼럼으로 그룹화, 그룹별 AGE 컬럼 개수 세기\n",
    "data2.groupby('AGE')['AGE'].count()"
   ]
  },
  {
   "cell_type": "code",
   "execution_count": 134,
   "id": "a978e327",
   "metadata": {},
   "outputs": [
    {
     "name": "stdout",
     "output_type": "stream",
     "text": [
      "<class 'pandas.core.series.Series'>\n",
      "<class 'pandas.core.frame.DataFrame'>\n"
     ]
    }
   ],
   "source": [
    "# 그룹화 결과 data3 에 저장\n",
    "data3 = data2.groupby('AGE')['AGE'].count()\n",
    "\n",
    "# data3 변수의 데이터 타입 확인\n",
    "print(type(data3))\n",
    "\n",
    "# data3 변수를 데이터 프레임 타입으로 변환\n",
    "data3 = data3.to_frame()\n",
    "print(type(data3))"
   ]
  },
  {
   "cell_type": "code",
   "execution_count": 136,
   "id": "e400fcf9",
   "metadata": {},
   "outputs": [
    {
     "name": "stdout",
     "output_type": "stream",
     "text": [
      "Index(['AGE'], dtype='object')\n",
      "     COUNT\n",
      "AGE       \n",
      "3.0      1\n",
      "6.0      3\n",
      "7.0      3\n"
     ]
    }
   ],
   "source": [
    "# data3 변수의 칼럼 이름 확인하기\n",
    "print(data3.columns)\n",
    "\n",
    "# data3 변수의 유일한 컬럼의 이름을 COUNT 로 설정\n",
    "data3.columns = ['COUNT']\n",
    "\n",
    "# data3 변수의 상위 3개 데이터 확인\n",
    "print(data3.head(3))"
   ]
  },
  {
   "cell_type": "code",
   "execution_count": 137,
   "id": "4670d996",
   "metadata": {},
   "outputs": [],
   "source": [
    "# 기존 인덱스(AGE)는 컬럼으로 사용하고, 일련번호를 새로운 인덱스로 저장\n",
    "data3.reset_index(inplace=True)"
   ]
  },
  {
   "cell_type": "code",
   "execution_count": 138,
   "id": "998a1dba",
   "metadata": {},
   "outputs": [
    {
     "data": {
      "text/html": [
       "<div>\n",
       "<style scoped>\n",
       "    .dataframe tbody tr th:only-of-type {\n",
       "        vertical-align: middle;\n",
       "    }\n",
       "\n",
       "    .dataframe tbody tr th {\n",
       "        vertical-align: top;\n",
       "    }\n",
       "\n",
       "    .dataframe thead th {\n",
       "        text-align: right;\n",
       "    }\n",
       "</style>\n",
       "<table border=\"1\" class=\"dataframe\">\n",
       "  <thead>\n",
       "    <tr style=\"text-align: right;\">\n",
       "      <th></th>\n",
       "      <th>AGE</th>\n",
       "      <th>COUNT</th>\n",
       "    </tr>\n",
       "  </thead>\n",
       "  <tbody>\n",
       "    <tr>\n",
       "      <th>0</th>\n",
       "      <td>3.0</td>\n",
       "      <td>1</td>\n",
       "    </tr>\n",
       "    <tr>\n",
       "      <th>1</th>\n",
       "      <td>6.0</td>\n",
       "      <td>3</td>\n",
       "    </tr>\n",
       "    <tr>\n",
       "      <th>2</th>\n",
       "      <td>7.0</td>\n",
       "      <td>3</td>\n",
       "    </tr>\n",
       "  </tbody>\n",
       "</table>\n",
       "</div>"
      ],
      "text/plain": [
       "   AGE  COUNT\n",
       "0  3.0      1\n",
       "1  6.0      3\n",
       "2  7.0      3"
      ]
     },
     "execution_count": 138,
     "metadata": {},
     "output_type": "execute_result"
    }
   ],
   "source": [
    "data3.head(3)"
   ]
  },
  {
   "cell_type": "code",
   "execution_count": 140,
   "id": "0a06cd0a",
   "metadata": {},
   "outputs": [
    {
     "data": {
      "text/html": [
       "<div>\n",
       "<style scoped>\n",
       "    .dataframe tbody tr th:only-of-type {\n",
       "        vertical-align: middle;\n",
       "    }\n",
       "\n",
       "    .dataframe tbody tr th {\n",
       "        vertical-align: top;\n",
       "    }\n",
       "\n",
       "    .dataframe thead th {\n",
       "        text-align: right;\n",
       "    }\n",
       "</style>\n",
       "<table border=\"1\" class=\"dataframe\">\n",
       "  <thead>\n",
       "    <tr style=\"text-align: right;\">\n",
       "      <th></th>\n",
       "      <th>AGE</th>\n",
       "      <th>COUNT</th>\n",
       "    </tr>\n",
       "  </thead>\n",
       "  <tbody>\n",
       "    <tr>\n",
       "      <th>90</th>\n",
       "      <td>100.0</td>\n",
       "      <td>43</td>\n",
       "    </tr>\n",
       "    <tr>\n",
       "      <th>88</th>\n",
       "      <td>98.0</td>\n",
       "      <td>19</td>\n",
       "    </tr>\n",
       "    <tr>\n",
       "      <th>87</th>\n",
       "      <td>97.0</td>\n",
       "      <td>17</td>\n",
       "    </tr>\n",
       "  </tbody>\n",
       "</table>\n",
       "</div>"
      ],
      "text/plain": [
       "      AGE  COUNT\n",
       "90  100.0     43\n",
       "88   98.0     19\n",
       "87   97.0     17"
      ]
     },
     "execution_count": 140,
     "metadata": {},
     "output_type": "execute_result"
    }
   ],
   "source": [
    "# 최빈값 찾기 위해 COUNT 칼럼 기준으로 내림차순 정렬\n",
    "data3.sort_values(by='COUNT', ascending=False, inplace=True)\n",
    "\n",
    "# 상위 3개 행 확인\n",
    "data3.head(3)"
   ]
  },
  {
   "cell_type": "code",
   "execution_count": 143,
   "id": "bc43fe93",
   "metadata": {},
   "outputs": [
    {
     "name": "stdout",
     "output_type": "stream",
     "text": [
      "100.0 43\n"
     ]
    }
   ],
   "source": [
    "# data3 변수의 AGE 칼럼에서 최빈값과 그 개수 출력\n",
    "print(data3.iloc[0,0], data3.iloc[0,1])"
   ]
  },
  {
   "cell_type": "markdown",
   "id": "af66fb48",
   "metadata": {},
   "source": [
    "#### [2] 두번째 방법\n",
    "- scipy 라이브러리 의 mode() 함수 사용하여 최빈값 구하기 가능!\n",
    "- 데이터 load 및 반올림 하는 과정까지는 동일"
   ]
  },
  {
   "cell_type": "code",
   "execution_count": 144,
   "id": "49402d95",
   "metadata": {},
   "outputs": [],
   "source": [
    "from scipy.stats import mode"
   ]
  },
  {
   "cell_type": "code",
   "execution_count": 146,
   "id": "e29a247a",
   "metadata": {},
   "outputs": [
    {
     "name": "stdout",
     "output_type": "stream",
     "text": [
      "ModeResult(mode=array([[100.]]), count=array([[43]]))\n"
     ]
    }
   ],
   "source": [
    "# AGE 컬럼 반올림된 값 : data2\n",
    "\n",
    "print(mode(data2))"
   ]
  },
  {
   "cell_type": "code",
   "execution_count": 151,
   "id": "90e13051",
   "metadata": {},
   "outputs": [
    {
     "name": "stdout",
     "output_type": "stream",
     "text": [
      "[[100.]] [[43]]\n",
      "100 43\n"
     ]
    }
   ],
   "source": [
    "# data2 변수의 최빈값, 최빈값 개수 값만 추출\n",
    "print(mode(data2)[0], mode(data2)[1])\n",
    "print(int(mode(data2)[0]), int(mode(data2)[1]))"
   ]
  },
  {
   "cell_type": "markdown",
   "id": "5b6861a6",
   "metadata": {},
   "source": [
    "최종 제출 코드"
   ]
  },
  {
   "cell_type": "code",
   "execution_count": 159,
   "id": "a00518a5",
   "metadata": {},
   "outputs": [
    {
     "name": "stdout",
     "output_type": "stream",
     "text": [
      "100 43\n"
     ]
    }
   ],
   "source": [
    "import pandas as pd\n",
    "from scipy.stats import mode\n",
    "\n",
    "data = pd.read_csv('bigData-main/boston.csv')\n",
    "data_age = round(data.AGE, 0)\n",
    "print(int(mode(data_age)[0]), int(mode(data_age)[1]))"
   ]
  },
  {
   "cell_type": "markdown",
   "id": "ca953178",
   "metadata": {},
   "source": [
    "\n",
    "### 2.5 표준 변환하기\n",
    "\n",
    "boston 데이터 세트(boston.csv)의 DIS 컬럼을 표준화 척도(Standard Scale)로 변환한 후, 0.4보다 크면서 0.6보다 작은 값들에 대한 평균을 구하시오. 단 소수점 셋째 자리에서 반올림하여 소수점 둘째 자리까지 출력하시오."
   ]
  },
  {
   "cell_type": "code",
   "execution_count": 199,
   "id": "fa22fe58",
   "metadata": {},
   "outputs": [
    {
     "name": "stdout",
     "output_type": "stream",
     "text": [
      "0.48\n"
     ]
    }
   ],
   "source": [
    "import pandas as pd\n",
    "from sklearn.preprocessing import StandardScaler\n",
    "\n",
    "data = pd.read_csv('bigData-main/boston.csv')\n",
    "scaler = StandardScaler()\n",
    "dis_standard = scaler.fit_transform(data[['DIS']])\n",
    "dis_standard = pd.DataFrame(dis_standard, columns = ['DIS'])\n",
    "\n",
    "print(round(dis_standard[(dis_standard.DIS > 0.4) & (dis_standard.DIS < .6)].mean(), 2)[0])"
   ]
  },
  {
   "cell_type": "markdown",
   "id": "2adfcec1",
   "metadata": {},
   "source": [
    "- 문제 유형 분석\n",
    "    - 표준화 척도 변환은 평균이 0 이고 표준편차가 1인 크기로 변경하는 것\n",
    "    - DIS 칼럼의 표준화 척도 변환은 sklearn 라이브러리의 StandardScaler 함수를 사용\n",
    "    - 표준화 척도로 변환한 값이 0.4보다 크면서 0.6보다 작은 값들의 평균값 계산\n",
    "    - 최종 결과는 소수점 셋째 자리에서 반올림해서 소수점 둘째 자리 값으로 출력"
   ]
  },
  {
   "cell_type": "code",
   "execution_count": 181,
   "id": "cc8ec12e",
   "metadata": {},
   "outputs": [],
   "source": [
    "import pandas as pd\n",
    "from sklearn.preprocessing import StandardScaler\n",
    "\n",
    "data = pd.read_csv('bigData-main/boston.csv')"
   ]
  },
  {
   "cell_type": "code",
   "execution_count": 182,
   "id": "1268f00e",
   "metadata": {},
   "outputs": [
    {
     "name": "stdout",
     "output_type": "stream",
     "text": [
      "<class 'numpy.ndarray'>\n"
     ]
    }
   ],
   "source": [
    "scaler = StandardScaler()\n",
    "data_stdd = scaler.fit_transform(data)\n",
    "\n",
    "print(type(data_stdd))"
   ]
  },
  {
   "cell_type": "code",
   "execution_count": 183,
   "id": "25a30b0a",
   "metadata": {},
   "outputs": [],
   "source": [
    "# data_stdd 변수를 데이터 프레임으로 변환\n",
    "data_stdd = pd.DataFrame(data_stdd, columns = data.columns)"
   ]
  },
  {
   "cell_type": "code",
   "execution_count": 188,
   "id": "bb44bc77",
   "metadata": {},
   "outputs": [
    {
     "name": "stdout",
     "output_type": "stream",
     "text": [
      "         CRIM        ZN     INDUS      CHAS       NOX        RM       AGE  \\\n",
      "1   -0.417339 -0.487722 -0.593381 -0.272599 -0.740262  0.192116  0.367166   \n",
      "2   -0.417342 -0.487722 -0.593381 -0.272599 -0.740262  1.272167 -0.265812   \n",
      "13  -0.347230 -0.487722 -0.437258 -0.272599 -0.144217 -0.475140 -0.240919   \n",
      "26  -0.342325 -0.487722 -0.437258 -0.272599 -0.144217 -0.667400  0.772557   \n",
      "78  -0.413947 -0.487722  0.247057 -0.272599 -1.016689 -0.075069 -0.528960   \n",
      "84  -0.414630 -0.487722 -0.969827 -0.272599 -0.913029  0.146879 -0.731655   \n",
      "276 -0.408334  1.229060 -0.689681  3.668398 -0.930305  1.388089 -0.696095   \n",
      "277 -0.413387  1.229060 -0.689681  3.668398 -0.930305  0.764656 -1.457091   \n",
      "280 -0.416354  0.370669 -1.139082 -0.272599 -0.965723  2.169853 -0.144906   \n",
      "322 -0.379654 -0.487722 -0.548149 -0.272599 -0.532942 -0.345082 -0.664090   \n",
      "323 -0.387477 -0.487722 -0.548149 -0.272599 -0.532942 -0.815837  0.203588   \n",
      "324 -0.380824 -0.487722 -0.548149 -0.272599 -0.532942  0.183634 -1.012584   \n",
      "338 -0.416670 -0.487722 -0.867691 -0.272599 -0.342899 -0.319635 -1.112153   \n",
      "339 -0.414120 -0.487722 -0.867691 -0.272599 -0.342899 -0.424248 -0.824113   \n",
      "340 -0.413359 -0.487722 -0.867691 -0.272599 -0.342899 -0.448280 -0.358269   \n",
      "\n",
      "          DIS       RAD       TAX   PTRATIO         B     LSTAT      MEDV  \n",
      "1    0.557160 -0.867883 -0.987329 -0.303094  0.441052 -0.492439 -0.101524  \n",
      "2    0.557160 -0.867883 -0.987329 -0.303094  0.396427 -1.208727  1.324247  \n",
      "13   0.433754 -0.637962 -0.601276  1.176466  0.441052 -0.615792 -0.232129  \n",
      "26   0.421632 -0.637962 -0.601276  1.176466  0.221545  0.302346 -0.645712  \n",
      "78   0.579502 -0.523001 -0.060801  0.113032  0.325926 -0.043883 -0.145059  \n",
      "84   0.467933 -0.752922 -0.957633  0.020560  0.441052 -0.425156  0.148802  \n",
      "276  0.471641 -0.637962 -0.916058 -0.395567  0.357175 -0.925576  1.160990  \n",
      "277  0.507579 -0.637962 -0.916058 -0.395567  0.403225 -1.190505  1.150107  \n",
      "280  0.427669 -0.523001 -1.141751 -1.643945  0.335904 -1.246574  2.488808  \n",
      "322  0.440219 -0.523001 -0.720062  0.529158  0.441052 -0.694290 -0.232129  \n",
      "323  0.440219 -0.523001 -0.720062  0.529158  0.377788 -0.127988 -0.438920  \n",
      "324  0.440219 -0.523001 -0.720062  0.529158  0.441052 -0.915764  0.268523  \n",
      "338  0.483525 -0.523001 -1.094237  0.806576  0.432719 -0.580749 -0.210362  \n",
      "339  0.483525 -0.523001 -1.094237  0.806576  0.441052 -0.408335 -0.384502  \n",
      "340  0.483525 -0.523001 -1.094237  0.806576  0.441052 -0.471413 -0.417153  \n"
     ]
    }
   ],
   "source": [
    "print(data_stdd[(data_stdd['DIS'] > 0.4) & (data_stdd['DIS'] < 0.6)])\n",
    "data_stdd2 = data_stdd[(data_stdd['DIS'] > 0.4) & (data_stdd['DIS'] < 0.6)]"
   ]
  },
  {
   "cell_type": "code",
   "execution_count": 198,
   "id": "2e76544d",
   "metadata": {},
   "outputs": [
    {
     "name": "stdout",
     "output_type": "stream",
     "text": [
      "0.48\n"
     ]
    }
   ],
   "source": [
    "print(round(data_stdd2['DIS'].mean(), 2))"
   ]
  },
  {
   "cell_type": "markdown",
   "id": "c917ec2b",
   "metadata": {},
   "source": [
    "최종 제출 코드"
   ]
  },
  {
   "cell_type": "code",
   "execution_count": 196,
   "id": "575b580d",
   "metadata": {},
   "outputs": [
    {
     "name": "stdout",
     "output_type": "stream",
     "text": [
      "0.48\n"
     ]
    }
   ],
   "source": [
    "import pandas as pd\n",
    "from sklearn.preprocessing import StandardScaler\n",
    "\n",
    "data = pd.read_csv('bigData-main/boston.csv')\n",
    "\n",
    "scaler = StandardScaler()\n",
    "data_stdd = scaler.fit_transform(data)\n",
    "data_stdd = pd.DataFrame(data_stdd, columns = data.columns)\n",
    "data_stdd = data_stdd[(data_stdd.DIS > .4) & (data_stdd.DIS < .6)]\n",
    "\n",
    "print(round(data_stdd.DIS.mean(), 2))"
   ]
  },
  {
   "cell_type": "markdown",
   "id": "f9f9bb3a",
   "metadata": {},
   "source": [
    "### 2.6 유니크한 값 구하기\n",
    "\n",
    "boston 데이터 세트(boston.csv)의 전체 컬럼에 대해서 중복을 제거한 유니크한 값을 구한 후, 컬럼별로 유니크한 값의 개수를 기준으로 평균값을 구하시오.\n",
    "\n",
    "- 문제 유형 분석\n",
    "    - 대상 데이터의 칼럼 이름을 확인하고, 각 컬럼별로 유니크한 값의 종류가 몇 개인지 계산\n",
    "    - 만약 A 라는 칼럼이 '동', '서', '남', '북'이라는 값들로만 구성되어 있다면 유니크한 값은 4개가 됨\n",
    "    - 최종적으로 각 컬럼의 유니크한 값 개수를 기준으로 평균값 계산\n",
    "    - [1] 각 컬럼에 대한 처리를 모든 칼럼에 대해 단순 반복 [2] 반복 작업을 자동화하여 처리하는 방법"
   ]
  },
  {
   "cell_type": "markdown",
   "id": "00064611",
   "metadata": {},
   "source": [
    "#### [1] 첫번째 방법"
   ]
  },
  {
   "cell_type": "code",
   "execution_count": 200,
   "id": "ece9e668",
   "metadata": {},
   "outputs": [
    {
     "name": "stdout",
     "output_type": "stream",
     "text": [
      "Index(['CRIM', 'ZN', 'INDUS', 'CHAS', 'NOX', 'RM', 'AGE', 'DIS', 'RAD', 'TAX',\n",
      "       'PTRATIO', 'B', 'LSTAT', 'MEDV'],\n",
      "      dtype='object')\n"
     ]
    }
   ],
   "source": [
    "import pandas as pd\n",
    "data = pd.read_csv('bigData-main/boston.csv')\n",
    "\n",
    "print(data.columns)"
   ]
  },
  {
   "cell_type": "code",
   "execution_count": 201,
   "id": "a87d9ce9",
   "metadata": {},
   "outputs": [
    {
     "name": "stdout",
     "output_type": "stream",
     "text": [
      "14\n"
     ]
    }
   ],
   "source": [
    "# 컬럼 목록 변수에 저장\n",
    "data_col = data.columns\n",
    "\n",
    "# 변수 안의 개수(컬럼 개수) 구하기\n",
    "print(data_col.size)"
   ]
  },
  {
   "cell_type": "code",
   "execution_count": 202,
   "id": "ad474e71",
   "metadata": {},
   "outputs": [
    {
     "name": "stdout",
     "output_type": "stream",
     "text": [
      "[0 1]\n"
     ]
    }
   ],
   "source": [
    "# CHAS 컬럼에서 유일한 값들의 목록 확인\n",
    "print(data.CHAS.unique())"
   ]
  },
  {
   "cell_type": "code",
   "execution_count": 203,
   "id": "b1fe3e1c",
   "metadata": {},
   "outputs": [
    {
     "name": "stdout",
     "output_type": "stream",
     "text": [
      "   0\n",
      "0  0\n",
      "1  1\n"
     ]
    }
   ],
   "source": [
    "# 데이터 프레임 타입으로 변경\n",
    "print(pd.DataFrame(data['CHAS'].unique()))\n",
    "\n",
    "# 결과 건수 계산\n",
    "print(pd.DataFrame(data['CHAS'].unique()))"
   ]
  },
  {
   "cell_type": "code",
   "execution_count": null,
   "id": "7db89693",
   "metadata": {},
   "outputs": [],
   "source": []
  },
  {
   "cell_type": "code",
   "execution_count": null,
   "id": "f4780765",
   "metadata": {},
   "outputs": [],
   "source": []
  }
 ],
 "metadata": {
  "kernelspec": {
   "display_name": "Python 3 (ipykernel)",
   "language": "python",
   "name": "python3"
  },
  "language_info": {
   "codemirror_mode": {
    "name": "ipython",
    "version": 3
   },
   "file_extension": ".py",
   "mimetype": "text/x-python",
   "name": "python",
   "nbconvert_exporter": "python",
   "pygments_lexer": "ipython3",
   "version": "3.7.13"
  }
 },
 "nbformat": 4,
 "nbformat_minor": 5
}
