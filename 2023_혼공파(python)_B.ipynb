{
  "nbformat": 4,
  "nbformat_minor": 0,
  "metadata": {
    "colab": {
      "provenance": [],
      "authorship_tag": "ABX9TyMKHh47NdrHmDpeFygyReo0",
      "include_colab_link": true
    },
    "kernelspec": {
      "name": "python3",
      "display_name": "Python 3"
    },
    "language_info": {
      "name": "python"
    }
  },
  "cells": [
    {
      "cell_type": "markdown",
      "metadata": {
        "id": "view-in-github",
        "colab_type": "text"
      },
      "source": [
        "<a href=\"https://colab.research.google.com/github/eseulLee/python/blob/main/2023_%ED%98%BC%EA%B3%B5%ED%8C%8C(python)_B.ipynb\" target=\"_parent\"><img src=\"https://colab.research.google.com/assets/colab-badge.svg\" alt=\"Open In Colab\"/></a>"
      ]
    },
    {
      "cell_type": "markdown",
      "source": [
        "## 세트(Set)\n",
        "\n",
        "- 순서에 의미 없음\n",
        "- 중복 허용하지 않음: 세트 내부에 같은 요소를 여러 개 넣어도 중복되는 요소 모두 무시!"
      ],
      "metadata": {
        "id": "ovhvTff4iG9L"
      }
    },
    {
      "cell_type": "code",
      "execution_count": 5,
      "metadata": {
        "colab": {
          "base_uri": "https://localhost:8080/"
        },
        "id": "Z-2damZuiDU4",
        "outputId": "1db9a1a4-4308-4f36-e656-2c9ab391f798"
      },
      "outputs": [
        {
          "output_type": "stream",
          "name": "stdout",
          "text": [
            "{1, 2, 3} {2, 3, 4}\n"
          ]
        }
      ],
      "source": [
        "a = {1, 2, 3}\n",
        "b = {2, 3, 4}\n",
        "print(a, b)"
      ]
    },
    {
      "cell_type": "code",
      "source": [
        "c = {1, 1, 2, 2, 3, 3}\n",
        "c"
      ],
      "metadata": {
        "colab": {
          "base_uri": "https://localhost:8080/"
        },
        "id": "WR9wK6xriYl3",
        "outputId": "c95d8ab0-b37d-41e7-ad8f-28f908dd12c8"
      },
      "execution_count": 2,
      "outputs": [
        {
          "output_type": "execute_result",
          "data": {
            "text/plain": [
              "{1, 2, 3}"
            ]
          },
          "metadata": {},
          "execution_count": 2
        }
      ]
    },
    {
      "cell_type": "markdown",
      "source": [
        "### 연산자\n",
        "- 합집합 ( | )\n",
        "- 교집합 ( & )\n",
        "- 차집합 ( - )\n",
        "- 대칭차집합 ( ^ )"
      ],
      "metadata": {
        "id": "zhdLadjCigyU"
      }
    },
    {
      "cell_type": "code",
      "source": [
        "# 합집합\n",
        "a | b"
      ],
      "metadata": {
        "colab": {
          "base_uri": "https://localhost:8080/"
        },
        "id": "mTbJ7KyxidJ8",
        "outputId": "2b8d199a-3686-4d89-c0c0-00b462fa44bd"
      },
      "execution_count": 6,
      "outputs": [
        {
          "output_type": "execute_result",
          "data": {
            "text/plain": [
              "{1, 2, 3, 4}"
            ]
          },
          "metadata": {},
          "execution_count": 6
        }
      ]
    },
    {
      "cell_type": "code",
      "source": [
        "# 교집합\n",
        "a & b"
      ],
      "metadata": {
        "colab": {
          "base_uri": "https://localhost:8080/"
        },
        "id": "XPjwtmgIiyNb",
        "outputId": "3d6f61c0-36bd-4ecf-cd73-2c753b9fa532"
      },
      "execution_count": 7,
      "outputs": [
        {
          "output_type": "execute_result",
          "data": {
            "text/plain": [
              "{2, 3}"
            ]
          },
          "metadata": {},
          "execution_count": 7
        }
      ]
    },
    {
      "cell_type": "code",
      "source": [
        "# 차집합: 피연산자 순서에 따라 결과 달라짐 주의\n",
        "print(\"a - b = \", a - b)\n",
        "print(\"b - a = \", b - a)"
      ],
      "metadata": {
        "colab": {
          "base_uri": "https://localhost:8080/"
        },
        "id": "8WRjzvMzizOh",
        "outputId": "a4dacdff-219b-4e47-88e2-0097394f8cc9"
      },
      "execution_count": 8,
      "outputs": [
        {
          "output_type": "stream",
          "name": "stdout",
          "text": [
            "a - b =  {1}\n",
            "b - a =  {4}\n"
          ]
        }
      ]
    },
    {
      "cell_type": "code",
      "source": [
        "# 대칭 차집합: 한쪽에만 존재하는 요소들 추출 == 합집합 - 교집합\n",
        "print(a ^ b)"
      ],
      "metadata": {
        "colab": {
          "base_uri": "https://localhost:8080/"
        },
        "id": "FdlBYVoljDnL",
        "outputId": "943c82c2-c318-47d9-f94c-6e6b2306dcd9"
      },
      "execution_count": 9,
      "outputs": [
        {
          "output_type": "stream",
          "name": "stdout",
          "text": [
            "{1, 4}\n"
          ]
        }
      ]
    },
    {
      "cell_type": "code",
      "source": [
        "( a | b ) - ( a & b )"
      ],
      "metadata": {
        "colab": {
          "base_uri": "https://localhost:8080/"
        },
        "id": "vqValFbAjN_3",
        "outputId": "78ff6454-393e-4b5c-db30-1198f53fe334"
      },
      "execution_count": 11,
      "outputs": [
        {
          "output_type": "execute_result",
          "data": {
            "text/plain": [
              "{1, 4}"
            ]
          },
          "metadata": {},
          "execution_count": 11
        }
      ]
    },
    {
      "cell_type": "code",
      "source": [
        "schools = ['가 고등학교', '나 고등학교', '다 고등학교', '가 고등학교', '다 고등학교', '다 고등학교', '라 고등학교']\n",
        "\n",
        "sch_set = set()  # 빈 세트 생성\n",
        "for school in schools:\n",
        "    sch_set.add(school)  # 요소 하나 추가시 add() 함수 사용\n",
        "\n",
        "print(f\"{len(sch_set)}개 학교, {sch_set}\")"
      ],
      "metadata": {
        "colab": {
          "base_uri": "https://localhost:8080/"
        },
        "id": "AkDtMBmgjR_c",
        "outputId": "f4742359-0c90-4ce5-fd0d-762c899e0bc1"
      },
      "execution_count": 12,
      "outputs": [
        {
          "output_type": "stream",
          "name": "stdout",
          "text": [
            "4개 학교, {'나 고등학교', '가 고등학교', '다 고등학교', '라 고등학교'}\n"
          ]
        }
      ]
    },
    {
      "cell_type": "markdown",
      "source": [
        "#### update() 함수\n",
        "- update() : 리스트를 한꺼번에 읽어 들일 수 있어 반복문으로 리스트 요소를 하나씩 불러오지 않아도 됨"
      ],
      "metadata": {
        "id": "78K8M_vcj9fs"
      }
    },
    {
      "cell_type": "code",
      "source": [
        "sch_set = set()\n",
        "sch_set.update(schools)\n",
        "\n",
        "print(f\"{len(sch_set)}개 학교, {sch_set}\")"
      ],
      "metadata": {
        "colab": {
          "base_uri": "https://localhost:8080/"
        },
        "id": "n84p2UVSj1KF",
        "outputId": "741afd73-4367-4969-efb8-8ceae6d58629"
      },
      "execution_count": 13,
      "outputs": [
        {
          "output_type": "stream",
          "name": "stdout",
          "text": [
            "4개 학교, {'나 고등학교', '가 고등학교', '다 고등학교', '라 고등학교'}\n"
          ]
        }
      ]
    },
    {
      "cell_type": "markdown",
      "source": [
        "#### 리스트 set() 함수에 바로 넣기"
      ],
      "metadata": {
        "id": "r743Q6YUkb2A"
      }
    },
    {
      "cell_type": "code",
      "source": [
        "schools = ['가 고등학교', '나 고등학교', '다 고등학교', '가 고등학교', '다 고등학교', '다 고등학교', '라 고등학교']\n",
        "\n",
        "sch_set = set(schools)\n",
        "print(f\"{len(sch_set)}개 학교, {sch_set}\")"
      ],
      "metadata": {
        "colab": {
          "base_uri": "https://localhost:8080/"
        },
        "id": "37lYmBd9kFgT",
        "outputId": "c34a5a29-228e-4577-940d-467930ba6985"
      },
      "execution_count": 14,
      "outputs": [
        {
          "output_type": "stream",
          "name": "stdout",
          "text": [
            "4개 학교, {'나 고등학교', '가 고등학교', '다 고등학교', '라 고등학교'}\n"
          ]
        }
      ]
    },
    {
      "cell_type": "markdown",
      "source": [
        "## 세트 내포(Set comprehension) & 딕셔너리 내포(Dictionary comprehension)"
      ],
      "metadata": {
        "id": "HJFDV-16kpsU"
      }
    },
    {
      "cell_type": "markdown",
      "source": [
        "### 1. List Comprehension"
      ],
      "metadata": {
        "id": "H627BcLHlFoR"
      }
    },
    {
      "cell_type": "code",
      "source": [
        "[ item * item               # (1) 요소로 만들 부분\n",
        " for item in range(0, 10)   # (2) 반복문 부분\n",
        " if item % 2 == 0]          # (3) 조건문 부분"
      ],
      "metadata": {
        "colab": {
          "base_uri": "https://localhost:8080/"
        },
        "id": "iTKFC-_rkl2G",
        "outputId": "00d82232-babc-4337-9184-b2d93d3e9801"
      },
      "execution_count": 15,
      "outputs": [
        {
          "output_type": "execute_result",
          "data": {
            "text/plain": [
              "[0, 4, 16, 36, 64]"
            ]
          },
          "metadata": {},
          "execution_count": 15
        }
      ]
    },
    {
      "cell_type": "markdown",
      "source": [
        "### 2. Set Comprehension"
      ],
      "metadata": {
        "id": "4h7kGW6ClYgQ"
      }
    },
    {
      "cell_type": "code",
      "source": [
        "a = {\n",
        "    item * item\n",
        "    for item in range(0, 10)\n",
        "    if item % 2 == 0\n",
        "}\n",
        "\n",
        "print(\"type(a): \", type(a))\n",
        "print(\"a: \", a)"
      ],
      "metadata": {
        "colab": {
          "base_uri": "https://localhost:8080/"
        },
        "id": "Rk8WKJHMlXIq",
        "outputId": "44820b02-d6b1-4f1c-a83c-f72086d4b8be"
      },
      "execution_count": 16,
      "outputs": [
        {
          "output_type": "stream",
          "name": "stdout",
          "text": [
            "type(a):  <class 'set'>\n",
            "a:  {0, 64, 4, 36, 16}\n"
          ]
        }
      ]
    },
    {
      "cell_type": "markdown",
      "source": [
        "### 3. Dictionary Comprehension"
      ],
      "metadata": {
        "id": "DGcFZIASlkxy"
      }
    },
    {
      "cell_type": "code",
      "source": [
        "a = {\n",
        "    f\"키_{item}\": item * item\n",
        "    for item in range(0, 10)\n",
        "    if item % 2 == 0\n",
        "}\n",
        "\n",
        "print(\"type(a): \", type(a))\n",
        "print(\"a: \", a)"
      ],
      "metadata": {
        "colab": {
          "base_uri": "https://localhost:8080/"
        },
        "id": "i823tKA-ljPf",
        "outputId": "8501c327-0de0-4205-a53c-680dfd158290"
      },
      "execution_count": 17,
      "outputs": [
        {
          "output_type": "stream",
          "name": "stdout",
          "text": [
            "type(a):  <class 'dict'>\n",
            "a:  {'키_0': 0, '키_2': 4, '키_4': 16, '키_6': 36, '키_8': 64}\n"
          ]
        }
      ]
    },
    {
      "cell_type": "markdown",
      "source": [
        "## 제너레이터 표현식\n",
        "\n",
        "- 리스트 내포의 괄호를 소괄호()로 변경"
      ],
      "metadata": {
        "id": "z6ZaVS-bl5iU"
      }
    },
    {
      "cell_type": "code",
      "source": [
        "a = (\n",
        "    item * item\n",
        "    for item in range(0, 10)\n",
        "    if item % 2 == 0\n",
        ")\n",
        "\n",
        "print(\"type(a): \", type(a))\n",
        "print(\"a: \", a)"
      ],
      "metadata": {
        "colab": {
          "base_uri": "https://localhost:8080/"
        },
        "id": "G34HtSrqlvbU",
        "outputId": "5f1ab5ee-c8ad-4859-9a92-4fd89bd65ffe"
      },
      "execution_count": 18,
      "outputs": [
        {
          "output_type": "stream",
          "name": "stdout",
          "text": [
            "type(a):  <class 'generator'>\n",
            "a:  <generator object <genexpr> at 0x7e33e8ac19a0>\n"
          ]
        }
      ]
    },
    {
      "cell_type": "markdown",
      "source": [
        "- 함수의 괄호로 둘러싸인 경우, 다음처럼 () 괄호를 사용하지 않아도 제너레이터 표현식으로 인식"
      ],
      "metadata": {
        "id": "Zh-lGOo-mRWw"
      }
    },
    {
      "cell_type": "code",
      "source": [
        "print(\n",
        "    item * item\n",
        "    for item in range(0, 10)\n",
        "    if item % 2 == 0\n",
        ")"
      ],
      "metadata": {
        "colab": {
          "base_uri": "https://localhost:8080/"
        },
        "id": "5QDxAqVdmLBq",
        "outputId": "365b866b-ac0b-4563-d247-ddbeb0cdc36a"
      },
      "execution_count": 19,
      "outputs": [
        {
          "output_type": "stream",
          "name": "stdout",
          "text": [
            "<generator object <genexpr> at 0x7e33e8ac1700>\n"
          ]
        }
      ]
    },
    {
      "cell_type": "markdown",
      "source": [
        "### 리스트 내포를 제너레이터 표현식으로 대체하면 안되는 경우"
      ],
      "metadata": {
        "id": "dA7HlBCGmko0"
      }
    },
    {
      "cell_type": "markdown",
      "source": [
        "#### 1. 미리 처리해 두고 요청이 있을 때 곧바로 데이터를 응답해야 하는 상황\n",
        "\n",
        "- 리스트 내포와 제너레이터 표현식은 처리되는 시점이 다름\n",
        "    - 리스트 내포: 리스트 내포 코드를 **사용하는 시점**에 처리가 일어남\n",
        "    - 제너레이터 표현식: **제너레이터를 활용하는 시점**에 처리가 일어남\n",
        "- 따라서, 미리 처리해두고 요청이 있을 때 곧바로 데이터를 응답해야 하는 상황에는 **리스트 내포**를 사용해야 함"
      ],
      "metadata": {
        "id": "wUGzop_3mpZa"
      }
    },
    {
      "cell_type": "code",
      "source": [
        "# 리스트 내포\n",
        "original = [1, 2, 3, 4, 5, 6]\n",
        "list_comp = [str(i) for i in original]  # 처리 일어남\n",
        "print(\", \".join(list_comp))"
      ],
      "metadata": {
        "colab": {
          "base_uri": "https://localhost:8080/"
        },
        "id": "O1ZlC7UcmcbS",
        "outputId": "136eddd3-d4fe-4998-b0a4-b814cd82991f"
      },
      "execution_count": 22,
      "outputs": [
        {
          "output_type": "stream",
          "name": "stdout",
          "text": [
            "1, 2, 3, 4, 5, 6\n"
          ]
        }
      ]
    },
    {
      "cell_type": "code",
      "source": [
        "# 제너레이터 표현식\n",
        "original = [1, 2, 3, 4, 5, 6]\n",
        "gen_exp = (str(i) for i in original)\n",
        "print(\", \".join(gen_exp))                # 처리 일어남"
      ],
      "metadata": {
        "colab": {
          "base_uri": "https://localhost:8080/"
        },
        "id": "juLkPcH_nIUn",
        "outputId": "7bb0df0f-e1ad-4aab-b9f1-d702c23de117"
      },
      "execution_count": 23,
      "outputs": [
        {
          "output_type": "stream",
          "name": "stdout",
          "text": [
            "1, 2, 3, 4, 5, 6\n"
          ]
        }
      ]
    },
    {
      "cell_type": "markdown",
      "source": [
        "#### 2. 원본의 변경이 반영되면 안 되는 상황\n",
        "\n",
        "- 리스트 내포: 원본 변경 시점 **전**에 처리가 일어나므로 원본 변경 반영 X\n",
        "- 제너레이터 표현식: 원본 변경 시점 **이후**에 처리가 일어나므로 원본 변경 반영 O\n",
        "- 따라서, 원본 변경이 예측되고, 이것이 반영되면 안되는 상황인 경우 제너레이터 표현식 사용하면 안됨"
      ],
      "metadata": {
        "id": "Sdle0O9TnY2X"
      }
    },
    {
      "cell_type": "code",
      "source": [
        "original = [1, 2, 3, 4, 5]\n",
        "list_comp = [str(i) for i in original]\n",
        "gen_exp = (str(i) for i in original)\n",
        "\n",
        "# 원본 변경\n",
        "original[0] = 100\n",
        "\n",
        "print(\", \".join(list_comp))\n",
        "print(\", \".join(gen_exp))"
      ],
      "metadata": {
        "colab": {
          "base_uri": "https://localhost:8080/"
        },
        "id": "SxSxg0aunUeK",
        "outputId": "81a5f8e7-8fef-4ca9-f17b-2a0af3781d12"
      },
      "execution_count": 24,
      "outputs": [
        {
          "output_type": "stream",
          "name": "stdout",
          "text": [
            "1, 2, 3, 4, 5\n",
            "100, 2, 3, 4, 5\n"
          ]
        }
      ]
    }
  ]
}