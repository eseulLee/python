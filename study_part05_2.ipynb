{
 "cells": [
  {
   "cell_type": "markdown",
   "id": "ccda53e2",
   "metadata": {},
   "source": [
    "## 분류 모델 수행하기"
   ]
  },
  {
   "cell_type": "markdown",
   "id": "0893b3e3",
   "metadata": {},
   "source": [
    "### 2.1 데이터 탐색하기\n",
    "\n",
    "#### 데이터 가져오기"
   ]
  },
  {
   "cell_type": "code",
   "execution_count": 2,
   "id": "f24b01d7",
   "metadata": {},
   "outputs": [],
   "source": [
    "import pandas as pd"
   ]
  },
  {
   "cell_type": "code",
   "execution_count": 9,
   "id": "50f14f30",
   "metadata": {},
   "outputs": [
    {
     "name": "stdout",
     "output_type": "stream",
     "text": [
      "   PassengerId  티켓등급                                               승객이름  \\\n",
      "0            1     3                            Braund, Mr. Owen Harris   \n",
      "1            2     1  Cumings, Mrs. John Bradley (Florence Briggs Th...   \n",
      "2            3     3                             Heikkinen, Miss. Laina   \n",
      "3            4     1       Futrelle, Mrs. Jacques Heath (Lily May Peel)   \n",
      "4            5     3                           Allen, Mr. William Henry   \n",
      "\n",
      "       성별    나이  형제자매배우자수  부모자식수              티켓번호     운임요금  객실번호 선착장  \n",
      "0    male  22.0         1      0         A/5 21171   7.2500   NaN   S  \n",
      "1  female  38.0         1      0          PC 17599  71.2833   C85   C  \n",
      "2  female  26.0         0      0  STON/O2. 3101282   7.9250   NaN   S  \n",
      "3  female  35.0         1      0            113803  53.1000  C123   S  \n",
      "4    male  35.0         0      0            373450   8.0500   NaN   S  \n",
      "   PassengerId  티켓등급                                          승객이름      성별  \\\n",
      "0          892     3                              Kelly, Mr. James    male   \n",
      "1          893     3              Wilkes, Mrs. James (Ellen Needs)  female   \n",
      "2          894     2                     Myles, Mr. Thomas Francis    male   \n",
      "3          895     3                              Wirz, Mr. Albert    male   \n",
      "4          896     3  Hirvonen, Mrs. Alexander (Helga E Lindqvist)  female   \n",
      "\n",
      "     나이  형제자매배우자수  부모자식수     티켓번호     운임요금 객실번호 선착장  \n",
      "0  34.5         0      0   330911   7.8292  NaN   Q  \n",
      "1  47.0         1      0   363272   7.0000  NaN   S  \n",
      "2  62.0         0      0   240276   9.6875  NaN   Q  \n",
      "3  27.0         0      0   315154   8.6625  NaN   S  \n",
      "4  22.0         1      1  3101298  12.2875  NaN   S  \n",
      "   PassengerId  Survived\n",
      "0            1         0\n",
      "1            2         1\n",
      "2            3         1\n",
      "3            4         1\n",
      "4            5         0\n"
     ]
    }
   ],
   "source": [
    "X_train = pd.read_csv('./bigData-main/titanic_x_train.csv', encoding='cp949')\n",
    "X_test  = pd.read_csv('./bigData-main/titanic_x_test.csv', encoding='cp949')\n",
    "y_train = pd.read_csv('./bigData-main/titanic_y_train.csv', encoding='cp949')\n",
    "\n",
    "print(X_train.head()) # NaN 있음\n",
    "print(X_test.head())  # NaN 있음\n",
    "print(y_train.head()) # PassengerId, Survived"
   ]
  },
  {
   "cell_type": "markdown",
   "id": "6e6435b4",
   "metadata": {},
   "source": [
    "#### 행/열 확인하기"
   ]
  },
  {
   "cell_type": "code",
   "execution_count": 10,
   "id": "7fd83ac3",
   "metadata": {},
   "outputs": [
    {
     "name": "stdout",
     "output_type": "stream",
     "text": [
      "(891, 11) (418, 11) (891, 2)\n"
     ]
    }
   ],
   "source": [
    "print(X_train.shape, X_test.shape, y_train.shape)"
   ]
  },
  {
   "cell_type": "markdown",
   "id": "e4a23e75",
   "metadata": {},
   "source": [
    "#### 요약정보 확인하기\n",
    "\n",
    "- 나이, 객실번호, 선착장 컬럼 결측치 확인"
   ]
  },
  {
   "cell_type": "code",
   "execution_count": 11,
   "id": "9cebfeee",
   "metadata": {},
   "outputs": [
    {
     "name": "stdout",
     "output_type": "stream",
     "text": [
      "<class 'pandas.core.frame.DataFrame'>\n",
      "RangeIndex: 891 entries, 0 to 890\n",
      "Data columns (total 11 columns):\n",
      " #   Column       Non-Null Count  Dtype  \n",
      "---  ------       --------------  -----  \n",
      " 0   PassengerId  891 non-null    int64  \n",
      " 1   티켓등급         891 non-null    int64  \n",
      " 2   승객이름         891 non-null    object \n",
      " 3   성별           891 non-null    object \n",
      " 4   나이           714 non-null    float64\n",
      " 5   형제자매배우자수     891 non-null    int64  \n",
      " 6   부모자식수        891 non-null    int64  \n",
      " 7   티켓번호         891 non-null    object \n",
      " 8   운임요금         891 non-null    float64\n",
      " 9   객실번호         204 non-null    object \n",
      " 10  선착장          889 non-null    object \n",
      "dtypes: float64(2), int64(4), object(5)\n",
      "memory usage: 76.7+ KB\n"
     ]
    }
   ],
   "source": [
    "X_train.info()"
   ]
  },
  {
   "cell_type": "code",
   "execution_count": 12,
   "id": "0b414d85",
   "metadata": {},
   "outputs": [
    {
     "name": "stdout",
     "output_type": "stream",
     "text": [
      "<class 'pandas.core.frame.DataFrame'>\n",
      "RangeIndex: 418 entries, 0 to 417\n",
      "Data columns (total 11 columns):\n",
      " #   Column       Non-Null Count  Dtype  \n",
      "---  ------       --------------  -----  \n",
      " 0   PassengerId  418 non-null    int64  \n",
      " 1   티켓등급         418 non-null    int64  \n",
      " 2   승객이름         418 non-null    object \n",
      " 3   성별           418 non-null    object \n",
      " 4   나이           332 non-null    float64\n",
      " 5   형제자매배우자수     418 non-null    int64  \n",
      " 6   부모자식수        418 non-null    int64  \n",
      " 7   티켓번호         418 non-null    object \n",
      " 8   운임요금         417 non-null    float64\n",
      " 9   객실번호         91 non-null     object \n",
      " 10  선착장          418 non-null    object \n",
      "dtypes: float64(2), int64(4), object(5)\n",
      "memory usage: 36.0+ KB\n"
     ]
    }
   ],
   "source": [
    "X_test.info()"
   ]
  },
  {
   "cell_type": "code",
   "execution_count": 13,
   "id": "4db65690",
   "metadata": {},
   "outputs": [
    {
     "name": "stdout",
     "output_type": "stream",
     "text": [
      "<class 'pandas.core.frame.DataFrame'>\n",
      "RangeIndex: 891 entries, 0 to 890\n",
      "Data columns (total 2 columns):\n",
      " #   Column       Non-Null Count  Dtype\n",
      "---  ------       --------------  -----\n",
      " 0   PassengerId  891 non-null    int64\n",
      " 1   Survived     891 non-null    int64\n",
      "dtypes: int64(2)\n",
      "memory usage: 14.0 KB\n"
     ]
    }
   ],
   "source": [
    "y_train.info()"
   ]
  },
  {
   "cell_type": "code",
   "execution_count": 18,
   "id": "df0042f9",
   "metadata": {},
   "outputs": [
    {
     "name": "stdout",
     "output_type": "stream",
     "text": [
      "2\n",
      "['male' 'female']\n",
      "4\n",
      "['S' 'C' 'Q' nan]\n"
     ]
    }
   ],
   "source": [
    "print(X_train['성별'].unique().size)\n",
    "print(X_train['성별'].unique())\n",
    "\n",
    "print(X_train['선착장'].unique().size)\n",
    "print(X_train['선착장'].unique())\n",
    "print()"
   ]
  },
  {
   "cell_type": "code",
   "execution_count": null,
   "id": "3ba217ea",
   "metadata": {},
   "outputs": [],
   "source": []
  },
  {
   "cell_type": "code",
   "execution_count": null,
   "id": "f3faf3fe",
   "metadata": {},
   "outputs": [],
   "source": []
  },
  {
   "cell_type": "code",
   "execution_count": null,
   "id": "fc5aa312",
   "metadata": {},
   "outputs": [],
   "source": []
  },
  {
   "cell_type": "code",
   "execution_count": null,
   "id": "8a3a6448",
   "metadata": {},
   "outputs": [],
   "source": []
  },
  {
   "cell_type": "code",
   "execution_count": null,
   "id": "5757e397",
   "metadata": {},
   "outputs": [],
   "source": []
  },
  {
   "cell_type": "code",
   "execution_count": null,
   "id": "e25208a6",
   "metadata": {},
   "outputs": [],
   "source": []
  },
  {
   "cell_type": "code",
   "execution_count": null,
   "id": "3e75cf9d",
   "metadata": {},
   "outputs": [],
   "source": []
  },
  {
   "cell_type": "code",
   "execution_count": null,
   "id": "a4bf058d",
   "metadata": {},
   "outputs": [],
   "source": []
  }
 ],
 "metadata": {
  "kernelspec": {
   "display_name": "Python 3 (ipykernel)",
   "language": "python",
   "name": "python3"
  },
  "language_info": {
   "codemirror_mode": {
    "name": "ipython",
    "version": 3
   },
   "file_extension": ".py",
   "mimetype": "text/x-python",
   "name": "python",
   "nbconvert_exporter": "python",
   "pygments_lexer": "ipython3",
   "version": "3.7.13"
  }
 },
 "nbformat": 4,
 "nbformat_minor": 5
}
