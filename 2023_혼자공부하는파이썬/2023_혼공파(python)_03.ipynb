{
  "nbformat": 4,
  "nbformat_minor": 0,
  "metadata": {
    "colab": {
      "provenance": [],
      "authorship_tag": "ABX9TyMLrgKtdDfz5PgQiI4ndGIn",
      "include_colab_link": true
    },
    "kernelspec": {
      "name": "python3",
      "display_name": "Python 3"
    },
    "language_info": {
      "name": "python"
    }
  },
  "cells": [
    {
      "cell_type": "markdown",
      "metadata": {
        "id": "view-in-github",
        "colab_type": "text"
      },
      "source": [
        "<a href=\"https://colab.research.google.com/github/eseulLee/python/blob/main/2023_%ED%98%BC%EA%B3%B5%ED%8C%8C(python)_03.ipynb\" target=\"_parent\"><img src=\"https://colab.research.google.com/assets/colab-badge.svg\" alt=\"Open In Colab\"/></a>"
      ]
    },
    {
      "cell_type": "markdown",
      "source": [
        "## 날짜/시간 활용"
      ],
      "metadata": {
        "id": "GkKJk-XaDWbo"
      }
    },
    {
      "cell_type": "code",
      "execution_count": 6,
      "metadata": {
        "id": "yA3mw-g6C_sY"
      },
      "outputs": [],
      "source": [
        "import datetime as dt\n",
        "\n",
        "now = dt.datetime.now()"
      ]
    },
    {
      "cell_type": "code",
      "source": [
        "print(now.year, \"년\")\n",
        "print(now.month, \"월\")\n",
        "print(now.day, \"일\")\n",
        "print(now.hour, \"시\")\n",
        "print(now.minute, \"분\")\n",
        "print(now.second, \"초\")"
      ],
      "metadata": {
        "colab": {
          "base_uri": "https://localhost:8080/"
        },
        "id": "QnTWPnwGDdie",
        "outputId": "7b6a8933-9682-4a3c-b287-5ce311a01bbd"
      },
      "execution_count": 7,
      "outputs": [
        {
          "output_type": "stream",
          "name": "stdout",
          "text": [
            "2023 년\n",
            "9 월\n",
            "18 일\n",
            "11 시\n",
            "34 분\n",
            "38 초\n"
          ]
        }
      ]
    },
    {
      "cell_type": "code",
      "source": [
        "print(\"{}년 {}월 {}일 {}시 {}분 {}초\".format(\n",
        "    now.year,\n",
        "    now.month,\n",
        "    now.day,\n",
        "    now.hour,\n",
        "    now.minute,\n",
        "    now.second\n",
        "))"
      ],
      "metadata": {
        "colab": {
          "base_uri": "https://localhost:8080/"
        },
        "id": "ZV6BiIWcDyX6",
        "outputId": "4e557b89-ab73-4f8c-b603-11c45a2dcd8e"
      },
      "execution_count": 4,
      "outputs": [
        {
          "output_type": "stream",
          "name": "stdout",
          "text": [
            "2023년 9월 18일 11시 30분 9초\n"
          ]
        }
      ]
    },
    {
      "cell_type": "markdown",
      "source": [
        "### 오전/오후 구분하는 프로그램"
      ],
      "metadata": {
        "id": "pWb3UWnIEGsw"
      }
    },
    {
      "cell_type": "code",
      "source": [
        "now = dt.datetime.now()\n",
        "\n",
        "if now.hour < 12:\n",
        "    print(\"현재 시간은 {}시로 오전입니다.\".format(now.hour))\n",
        "elif now.hour >= 12:\n",
        "    print(\"현재 시간은 {}시로 오후입니다.\".format(now.hour))"
      ],
      "metadata": {
        "colab": {
          "base_uri": "https://localhost:8080/"
        },
        "id": "uwIQhwUOEBm4",
        "outputId": "5a23e56f-2a65-4811-a5d8-831d8e1a5fff"
      },
      "execution_count": 5,
      "outputs": [
        {
          "output_type": "stream",
          "name": "stdout",
          "text": [
            "현재 시간은 11시로 오전입니다.\n"
          ]
        }
      ]
    },
    {
      "cell_type": "markdown",
      "source": [
        "### 계절 구분하는 프로그램"
      ],
      "metadata": {
        "id": "n3tprAc8EqZC"
      }
    },
    {
      "cell_type": "code",
      "source": [
        "if 3 <= now.month <= 5:\n",
        "    print(\"이번 달은 {}월로 봄입니다.\".format(now.month))\n",
        "elif 6 <= now.month <= 8:\n",
        "    print(\"이번 달은 {}월로 여름입니다.\".format(now.month))\n",
        "elif 9 <= now.month <= 11:\n",
        "    print(\"이번 달은 {}월로 가을입니다.\".format(now.month))\n",
        "elif (now.month == 12) or (1 <= now.month <= 2):\n",
        "    print(\"이번 달은 {}월로 겨울입니다.\".format(now.month))\n",
        "else:\n",
        "    print(\"1~12월 중에서만 입력 가능합니다.\")"
      ],
      "metadata": {
        "colab": {
          "base_uri": "https://localhost:8080/"
        },
        "id": "x8qjJqa_Eeg-",
        "outputId": "92d7e1aa-6d39-46e0-a3cb-30cc3c17013c"
      },
      "execution_count": 8,
      "outputs": [
        {
          "output_type": "stream",
          "name": "stdout",
          "text": [
            "이번 달은 9월로 가을입니다.\n"
          ]
        }
      ]
    },
    {
      "cell_type": "markdown",
      "source": [
        "### 끝자리로 짝수/홀수 구분하기"
      ],
      "metadata": {
        "id": "9PUvQJMzFbY_"
      }
    },
    {
      "cell_type": "code",
      "source": [
        "num = input(\"정수 입력 > \")\n",
        "\n",
        "# 마지막 자리 추출\n",
        "last_char = num[-1]\n",
        "\n",
        "# 숫자로 변환\n",
        "last_num = int(last_char)\n",
        "\n",
        "# 짝수 확인\n",
        "if last_num == 0 \\\n",
        "    or last_num == 2 \\\n",
        "    or last_num == 4 \\\n",
        "    or last_num == 6 \\\n",
        "    or last_num == 8:\n",
        "    print(\"짝수입니다.\")\n",
        "\n",
        "# 홀수 확인\n",
        "if last_num == 1 \\\n",
        "    or last_num == 3 \\\n",
        "    or last_num == 5 \\\n",
        "    or last_num == 7 \\\n",
        "    or last_num == 9:\n",
        "    print(\"홀수입니다.\")"
      ],
      "metadata": {
        "colab": {
          "base_uri": "https://localhost:8080/"
        },
        "id": "I6vo4LuBFTWP",
        "outputId": "b2b3a170-13f9-42c5-f542-a0e43d76af48"
      },
      "execution_count": 9,
      "outputs": [
        {
          "output_type": "stream",
          "name": "stdout",
          "text": [
            "정수 입력 > 13541123\n",
            "홀수입니다.\n"
          ]
        }
      ]
    },
    {
      "cell_type": "markdown",
      "source": [
        "### in 연산자 활용한 짝수/홀수 구분"
      ],
      "metadata": {
        "id": "BfBT5gDLGHfw"
      }
    },
    {
      "cell_type": "code",
      "source": [
        "num = input(\"정수 입력 > \")\n",
        "last_char = num[-1]\n",
        "\n",
        "if last_char in \"02468\" :\n",
        "    print(\"짝수입니다.\")\n",
        "\n",
        "if last_char in \"13579\" :\n",
        "    print(\"홀수입니다.\")"
      ],
      "metadata": {
        "colab": {
          "base_uri": "https://localhost:8080/"
        },
        "id": "-KO7VweAGJZ4",
        "outputId": "272970d0-03f2-4b9f-dd82-65dfad7b8aa7"
      },
      "execution_count": 10,
      "outputs": [
        {
          "output_type": "stream",
          "name": "stdout",
          "text": [
            "정수 입력 > 668435132\n",
            "짝수입니다.\n"
          ]
        }
      ]
    },
    {
      "cell_type": "markdown",
      "source": [
        "컴퓨터는 모든 것을 숫자로 계산하기 때문에 문자열 연산보다 숫자 연산이 조금 더 빠름\n",
        "\n",
        "### 나머지 연산자 활용한 짝수/홀수 구분"
      ],
      "metadata": {
        "id": "cXH1e3dcGcF8"
      }
    },
    {
      "cell_type": "code",
      "source": [
        "num = int(input(\"정수 입력 > \"))\n",
        "\n",
        "if num % 2 == 0 :\n",
        "    print(\"짝수입니다.\")\n",
        "\n",
        "elif num % 2 == 1 :\n",
        "    print(\"홀수입니다.\")\n"
      ],
      "metadata": {
        "colab": {
          "base_uri": "https://localhost:8080/"
        },
        "id": "GiySSIMrGiOO",
        "outputId": "e7b7a470-a2cf-47ed-f115-9d5c78808dbb"
      },
      "execution_count": 11,
      "outputs": [
        {
          "output_type": "stream",
          "name": "stdout",
          "text": [
            "정수 입력 > 8765413213\n",
            "홀수입니다.\n"
          ]
        }
      ]
    },
    {
      "cell_type": "markdown",
      "source": [
        "## 03-2. if~else와 elif 구문\n",
        "\n",
        "### False로 변환되는 값\n",
        "- None\n",
        "- 숫자 0, 0.0\n",
        "- 빈 컨테이너(빈 문자열, 빈 바이트열, 빈 리스트, 빈 튜플, 빈 딕셔너리 등)\n"
      ],
      "metadata": {
        "id": "uh0a_zo1HFa8"
      }
    },
    {
      "cell_type": "markdown",
      "source": [
        "### pass 키워드\n",
        "- 일단 프로그래밍의 전체 골격을 잡아 놓고 내부에서 처리할 내요은 추후 만들겠다는 의도\n",
        "- 이때의 골격은 일반적으로 조건문, 반복문, 함수, 클래스 등의 기본 구문 의미"
      ],
      "metadata": {
        "id": "AEV81IN1IK2T"
      }
    },
    {
      "cell_type": "code",
      "source": [
        "num = int(input(\"정수 입력 > \"))\n",
        "\n",
        "if num > 0 :\n",
        "    pass\n",
        "else:\n",
        "    pass\n"
      ],
      "metadata": {
        "colab": {
          "base_uri": "https://localhost:8080/"
        },
        "id": "Wg9ZOK37GzlK",
        "outputId": "8f665c97-42ce-4fe6-84a7-056fcdebbc07"
      },
      "execution_count": 12,
      "outputs": [
        {
          "name": "stdout",
          "output_type": "stream",
          "text": [
            "정수 입력 > 123\n"
          ]
        }
      ]
    },
    {
      "cell_type": "markdown",
      "source": [
        "### raise NotImplementedError\n",
        "\n",
        "- 아직 구현하지 않은 부분에 대해 오류 강제 발생"
      ],
      "metadata": {
        "id": "LVUIC1yEIruV"
      }
    },
    {
      "cell_type": "code",
      "source": [
        "num = int(input(\"정수 입력 > \"))\n",
        "\n",
        "if num > 0 :\n",
        "    # 아직 미구현상태 입니다.\n",
        "    raise NotImplementedError\n",
        "else:\n",
        "    # 아직 미구현상태 입니다.\n",
        "    raise NotImplementedError\n"
      ],
      "metadata": {
        "colab": {
          "base_uri": "https://localhost:8080/",
          "height": 278
        },
        "id": "Jt9yR2D1Inh1",
        "outputId": "c36aedf8-b9d5-4e87-b3b0-b6bc72b3f4fa"
      },
      "execution_count": 13,
      "outputs": [
        {
          "name": "stdout",
          "output_type": "stream",
          "text": [
            "정수 입력 > 1513\n"
          ]
        },
        {
          "output_type": "error",
          "ename": "NotImplementedError",
          "evalue": "ignored",
          "traceback": [
            "\u001b[0;31m---------------------------------------------------------------------------\u001b[0m",
            "\u001b[0;31mNotImplementedError\u001b[0m                       Traceback (most recent call last)",
            "\u001b[0;32m<ipython-input-13-1c26a5da16ed>\u001b[0m in \u001b[0;36m<cell line: 3>\u001b[0;34m()\u001b[0m\n\u001b[1;32m      3\u001b[0m \u001b[0;32mif\u001b[0m \u001b[0mnum\u001b[0m \u001b[0;34m>\u001b[0m \u001b[0;36m0\u001b[0m \u001b[0;34m:\u001b[0m\u001b[0;34m\u001b[0m\u001b[0;34m\u001b[0m\u001b[0m\n\u001b[1;32m      4\u001b[0m     \u001b[0;31m# 아직 미구현상태 입니다.\u001b[0m\u001b[0;34m\u001b[0m\u001b[0;34m\u001b[0m\u001b[0m\n\u001b[0;32m----> 5\u001b[0;31m     \u001b[0;32mraise\u001b[0m \u001b[0mNotImplementedError\u001b[0m\u001b[0;34m\u001b[0m\u001b[0;34m\u001b[0m\u001b[0m\n\u001b[0m\u001b[1;32m      6\u001b[0m \u001b[0;32melse\u001b[0m\u001b[0;34m:\u001b[0m\u001b[0;34m\u001b[0m\u001b[0;34m\u001b[0m\u001b[0m\n\u001b[1;32m      7\u001b[0m     \u001b[0;31m# 아직 미구현상태 입니다.\u001b[0m\u001b[0;34m\u001b[0m\u001b[0;34m\u001b[0m\u001b[0m\n",
            "\u001b[0;31mNotImplementedError\u001b[0m: "
          ]
        }
      ]
    },
    {
      "cell_type": "markdown",
      "source": [
        "### 도전문제\n",
        "\n",
        "#### 1. 간단한 대화 프로그램"
      ],
      "metadata": {
        "id": "7YZ6fqWhMCOk"
      }
    },
    {
      "cell_type": "code",
      "source": [
        "word = input(\"입력: \")\n",
        "\n",
        "if word in (\"안녕\", \"안녕하세요.\"):\n",
        "    print(\"안녕하세요.\")\n",
        "elif \"지금 몇 시\" in word :\n",
        "    print(\"지금은 {}시입니다.\".format(now.hour))\n",
        "else:\n",
        "    print(word)"
      ],
      "metadata": {
        "colab": {
          "base_uri": "https://localhost:8080/"
        },
        "id": "4bb1c6yRMErf",
        "outputId": "178197f2-262c-42f1-ac9f-c7a1c58bf67a"
      },
      "execution_count": 17,
      "outputs": [
        {
          "output_type": "stream",
          "name": "stdout",
          "text": [
            "입력: 메롱\n",
            "메롱\n"
          ]
        }
      ]
    },
    {
      "cell_type": "markdown",
      "source": [
        "#### 2. 나누어 떨어지는 숫자"
      ],
      "metadata": {
        "id": "WS0pI3P7Mk6L"
      }
    },
    {
      "cell_type": "code",
      "source": [
        "num = int(input(\"정수를 입력해주세요: \"))\n",
        "\n",
        "for i in range(2, 6):\n",
        "    if num % i == 0:\n",
        "        print(\"{}은 {}(으)로 나누어 떨어지는 숫자입니다.\".format(num, i))\n",
        "    else:\n",
        "        print(\"{}은 {}(으)로 나누어 떨어지는 숫자가 아닙니다.\".format(num, i))"
      ],
      "metadata": {
        "colab": {
          "base_uri": "https://localhost:8080/"
        },
        "id": "SoYLj1j7Mxq6",
        "outputId": "2675cef4-4773-4f3f-e3de-3b5458f6e0ae"
      },
      "execution_count": 19,
      "outputs": [
        {
          "output_type": "stream",
          "name": "stdout",
          "text": [
            "정수를 입력해주세요: 68543213\n",
            "68543213은 2(으)로 나누어 떨어지는 숫자가 아닙니다.\n",
            "68543213은 3(으)로 나누어 떨어지는 숫자가 아닙니다.\n",
            "68543213은 4(으)로 나누어 떨어지는 숫자가 아닙니다.\n",
            "68543213은 5(으)로 나누어 떨어지는 숫자가 아닙니다.\n"
          ]
        }
      ]
    }
  ]
}