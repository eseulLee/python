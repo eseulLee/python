{
  "nbformat": 4,
  "nbformat_minor": 0,
  "metadata": {
    "colab": {
      "provenance": [],
      "authorship_tag": "ABX9TyOLIhVr8nv32UfV6Zfq34v9",
      "include_colab_link": true
    },
    "kernelspec": {
      "name": "python3",
      "display_name": "Python 3"
    },
    "language_info": {
      "name": "python"
    }
  },
  "cells": [
    {
      "cell_type": "markdown",
      "metadata": {
        "id": "view-in-github",
        "colab_type": "text"
      },
      "source": [
        "<a href=\"https://colab.research.google.com/github/eseulLee/python/blob/main/2023_%ED%98%BC%EA%B3%B5%ED%8C%8C(python)_07.ipynb\" target=\"_parent\"><img src=\"https://colab.research.google.com/assets/colab-badge.svg\" alt=\"Open In Colab\"/></a>"
      ]
    },
    {
      "cell_type": "markdown",
      "source": [
        "## 07-1. 표준 모듈"
      ],
      "metadata": {
        "id": "qy02UG4NnT9l"
      }
    },
    {
      "cell_type": "markdown",
      "source": [
        "### 모듈 사용의 기본: math 모듈"
      ],
      "metadata": {
        "id": "xwG8nkrMncAI"
      }
    },
    {
      "cell_type": "code",
      "execution_count": 1,
      "metadata": {
        "id": "MsUxv9t1nRiP"
      },
      "outputs": [],
      "source": [
        "import math"
      ]
    },
    {
      "cell_type": "code",
      "source": [
        "math.sin(1)"
      ],
      "metadata": {
        "colab": {
          "base_uri": "https://localhost:8080/"
        },
        "id": "mKvmVW-gng5e",
        "outputId": "7ef3cfa5-4fb8-4d70-e749-889866fb1696"
      },
      "execution_count": 2,
      "outputs": [
        {
          "output_type": "execute_result",
          "data": {
            "text/plain": [
              "0.8414709848078965"
            ]
          },
          "metadata": {},
          "execution_count": 2
        }
      ]
    },
    {
      "cell_type": "code",
      "source": [
        "math.cos(1)"
      ],
      "metadata": {
        "colab": {
          "base_uri": "https://localhost:8080/"
        },
        "id": "XX15pzHRnk-O",
        "outputId": "13edc862-382c-4871-8eb5-5559f0f95edd"
      },
      "execution_count": 3,
      "outputs": [
        {
          "output_type": "execute_result",
          "data": {
            "text/plain": [
              "0.5403023058681398"
            ]
          },
          "metadata": {},
          "execution_count": 3
        }
      ]
    },
    {
      "cell_type": "code",
      "source": [
        "math.tan(1)"
      ],
      "metadata": {
        "colab": {
          "base_uri": "https://localhost:8080/"
        },
        "id": "eLGVaozlnpcW",
        "outputId": "0e81c342-aa20-4e48-eaed-7d98a18ecf86"
      },
      "execution_count": 4,
      "outputs": [
        {
          "output_type": "execute_result",
          "data": {
            "text/plain": [
              "1.5574077246549023"
            ]
          },
          "metadata": {},
          "execution_count": 4
        }
      ]
    },
    {
      "cell_type": "code",
      "source": [
        "math.floor(2.5) # 내림"
      ],
      "metadata": {
        "colab": {
          "base_uri": "https://localhost:8080/"
        },
        "id": "jxAUpEj0nqwd",
        "outputId": "0a473902-e1ae-406c-b27f-0a182190012b"
      },
      "execution_count": 5,
      "outputs": [
        {
          "output_type": "execute_result",
          "data": {
            "text/plain": [
              "2"
            ]
          },
          "metadata": {},
          "execution_count": 5
        }
      ]
    },
    {
      "cell_type": "code",
      "source": [
        "math.ceil(2.5) # 올림"
      ],
      "metadata": {
        "colab": {
          "base_uri": "https://localhost:8080/"
        },
        "id": "0l1dDrEPnsub",
        "outputId": "addcde04-c944-4f2e-f031-3074d0afaa15"
      },
      "execution_count": 6,
      "outputs": [
        {
          "output_type": "execute_result",
          "data": {
            "text/plain": [
              "3"
            ]
          },
          "metadata": {},
          "execution_count": 6
        }
      ]
    },
    {
      "cell_type": "markdown",
      "source": [
        "#### from 구문"
      ],
      "metadata": {
        "id": "SkRn-4IuoG_i"
      }
    },
    {
      "cell_type": "code",
      "source": [
        "from math import sin, cos, tan, floor, ceil\n",
        "\n",
        "sin(1)"
      ],
      "metadata": {
        "colab": {
          "base_uri": "https://localhost:8080/"
        },
        "id": "gu2fARx7nuiu",
        "outputId": "0cc9b7b2-7688-44da-a85b-22a81644ccc2"
      },
      "execution_count": 7,
      "outputs": [
        {
          "output_type": "execute_result",
          "data": {
            "text/plain": [
              "0.8414709848078965"
            ]
          },
          "metadata": {},
          "execution_count": 7
        }
      ]
    },
    {
      "cell_type": "code",
      "source": [
        "cos(1)"
      ],
      "metadata": {
        "colab": {
          "base_uri": "https://localhost:8080/"
        },
        "id": "9Zzaq3FBoNF3",
        "outputId": "f029ae93-d150-4baf-d6b6-1628d975025b"
      },
      "execution_count": 8,
      "outputs": [
        {
          "output_type": "execute_result",
          "data": {
            "text/plain": [
              "0.5403023058681398"
            ]
          },
          "metadata": {},
          "execution_count": 8
        }
      ]
    },
    {
      "cell_type": "code",
      "source": [
        "tan(1)"
      ],
      "metadata": {
        "colab": {
          "base_uri": "https://localhost:8080/"
        },
        "id": "_fEDJISToNyv",
        "outputId": "ee232442-e00a-448a-e405-59d4f8971b03"
      },
      "execution_count": 9,
      "outputs": [
        {
          "output_type": "execute_result",
          "data": {
            "text/plain": [
              "1.5574077246549023"
            ]
          },
          "metadata": {},
          "execution_count": 9
        }
      ]
    },
    {
      "cell_type": "code",
      "source": [
        "ceil(2.5)"
      ],
      "metadata": {
        "colab": {
          "base_uri": "https://localhost:8080/"
        },
        "id": "xKMHB8cToOeF",
        "outputId": "404ba076-2bb1-474c-b8a8-fcb655d2066f"
      },
      "execution_count": 12,
      "outputs": [
        {
          "output_type": "execute_result",
          "data": {
            "text/plain": [
              "3"
            ]
          },
          "metadata": {},
          "execution_count": 12
        }
      ]
    },
    {
      "cell_type": "code",
      "source": [
        "floor(2.5)"
      ],
      "metadata": {
        "colab": {
          "base_uri": "https://localhost:8080/"
        },
        "id": "UmWvBdtyoPGG",
        "outputId": "58ce33af-c556-4f2d-eeae-1f4ff55e7324"
      },
      "execution_count": 13,
      "outputs": [
        {
          "output_type": "execute_result",
          "data": {
            "text/plain": [
              "2"
            ]
          },
          "metadata": {},
          "execution_count": 13
        }
      ]
    },
    {
      "cell_type": "markdown",
      "source": [
        "#### as 구문"
      ],
      "metadata": {
        "id": "oQVixw2_oT15"
      }
    },
    {
      "cell_type": "code",
      "source": [
        "import math as m\n",
        "\n",
        "m.sin(1)"
      ],
      "metadata": {
        "colab": {
          "base_uri": "https://localhost:8080/"
        },
        "id": "zWmzy7B1oPqk",
        "outputId": "5a70e94c-3efa-4638-a31a-0b274f000d0c"
      },
      "execution_count": 14,
      "outputs": [
        {
          "output_type": "execute_result",
          "data": {
            "text/plain": [
              "0.8414709848078965"
            ]
          },
          "metadata": {},
          "execution_count": 14
        }
      ]
    },
    {
      "cell_type": "code",
      "source": [
        "m.cos(1)"
      ],
      "metadata": {
        "colab": {
          "base_uri": "https://localhost:8080/"
        },
        "id": "0L-Ov4k1sep9",
        "outputId": "872c793d-dbc8-4085-bc96-b13080f73d7b"
      },
      "execution_count": 15,
      "outputs": [
        {
          "output_type": "execute_result",
          "data": {
            "text/plain": [
              "0.5403023058681398"
            ]
          },
          "metadata": {},
          "execution_count": 15
        }
      ]
    },
    {
      "cell_type": "code",
      "source": [
        "m.tan(1)"
      ],
      "metadata": {
        "colab": {
          "base_uri": "https://localhost:8080/"
        },
        "id": "SpDr1J6usfXD",
        "outputId": "372dd843-6f62-4d29-faf9-eff0a727a93b"
      },
      "execution_count": 16,
      "outputs": [
        {
          "output_type": "execute_result",
          "data": {
            "text/plain": [
              "1.5574077246549023"
            ]
          },
          "metadata": {},
          "execution_count": 16
        }
      ]
    },
    {
      "cell_type": "code",
      "source": [
        "m.floor(2.5)"
      ],
      "metadata": {
        "colab": {
          "base_uri": "https://localhost:8080/"
        },
        "id": "JeWsyEwashRL",
        "outputId": "891ef2a7-65ef-49cb-ba52-34cc236bd65f"
      },
      "execution_count": 17,
      "outputs": [
        {
          "output_type": "execute_result",
          "data": {
            "text/plain": [
              "2"
            ]
          },
          "metadata": {},
          "execution_count": 17
        }
      ]
    },
    {
      "cell_type": "code",
      "source": [
        "m.ceil(2.5)"
      ],
      "metadata": {
        "colab": {
          "base_uri": "https://localhost:8080/"
        },
        "id": "Gwa8UV25sjCb",
        "outputId": "cf9ea42c-07d2-46b0-fa97-161709857564"
      },
      "execution_count": 18,
      "outputs": [
        {
          "output_type": "execute_result",
          "data": {
            "text/plain": [
              "3"
            ]
          },
          "metadata": {},
          "execution_count": 18
        }
      ]
    },
    {
      "cell_type": "markdown",
      "source": [
        "### random 모듈\n",
        "- 랜덤한 값 생성시 사용하는 모듈"
      ],
      "metadata": {
        "id": "fNbNl-MasmEn"
      }
    },
    {
      "cell_type": "code",
      "source": [
        "import random\n",
        "print(\"# random 모듈\")\n",
        "\n",
        "# random(): 0.0 <= x < 1.0 사이의 float 리턴\n",
        "print('- random(): ', random.random())\n",
        "\n",
        "# uniform(min, max): 지정한 범위 사이의 float 리턴\n",
        "print('- uniform(10, 20): ', random.uniform(10, 20))\n",
        "\n",
        "# randrange(): 지정한 범위의 int 리턴\n",
        "# - randrange(max): 0부터 max 사이의 값 리턴\n",
        "# - randrange(min, max): min부터 max 사이의 값 리턴\n",
        "print('- randrange(10): ', random.randrange(10))\n",
        "\n",
        "# choice(list): 리스트 내부에 있는 요소를 랜덤하게 리턴\n",
        "print('- choice([1, 2, 3, 4, 5]): ', random.choice([1, 2, 3, 4, 5]))\n",
        "\n",
        "# shuffle(list): 리스트 요소들을 랜덤하게 섞음\n",
        "print(\"- shuffle([1, 2, 3, 4, 5]): \", random.shuffle([1, 2, 3, 4, 5]))\n",
        "\n",
        "# sample(list, k=<숫자>): 리스트 요소 중에 k개 뽑기\n",
        "print('- sample([1, 2, 3, 4, 5], k=2): ', random.sample([1, 2, 3, 4, 5], k=2))"
      ],
      "metadata": {
        "colab": {
          "base_uri": "https://localhost:8080/"
        },
        "id": "jIWJM1pwsjvz",
        "outputId": "4b87803c-77f4-4574-dda8-7ed92a9090e2"
      },
      "execution_count": 20,
      "outputs": [
        {
          "output_type": "stream",
          "name": "stdout",
          "text": [
            "# random 모듈\n",
            "- random():  0.6592814704900949\n",
            "- uniform(10, 20):  19.896679758541516\n",
            "- randrange(10):  5\n",
            "- choice([1, 2, 3, 4, 5]):  2\n",
            "- shuffle([1, 2, 3, 4, 5]):  None\n",
            "- sample([1, 2, 3, 4, 5], k=2):  [5, 2]\n"
          ]
        }
      ]
    },
    {
      "cell_type": "markdown",
      "source": [
        "### sys 모듈\n",
        "- 시스템과 관련된 정보 가지고 있는 모듈\n",
        "- 명령 매개변수를 받을 때 많이 사용"
      ],
      "metadata": {
        "id": "95KT9BkPt4nn"
      }
    },
    {
      "cell_type": "code",
      "source": [
        "import sys\n",
        "\n",
        "print(sys.argv) # 명령 매개변수(프로그램을 실행할 때 추가로 입력하는 값들 의미)\n",
        "print(\"---\")\n",
        "\n",
        "# 컴퓨터 환경과 관련된 정보 출력\n",
        "print(\"getwindowsversion: \", sys.getwindowsversion)\n",
        "print('---')\n",
        "print(\"copyright: \", sys.copyright)\n",
        "print('---')\n",
        "print(\"version: \", sys.version)\n",
        "\n",
        "# 프로그램 강제 종료\n",
        "sys.exit()"
      ],
      "metadata": {
        "id": "_GJr53shtLgS"
      },
      "execution_count": null,
      "outputs": []
    },
    {
      "cell_type": "markdown",
      "source": [
        "### os 모듈\n",
        "- 운영체제와 관련된 기능 가진 모듈\n",
        "- 새로운 폴더 만들거나 폴더 내부 파일목록 확인시 활용 가능"
      ],
      "metadata": {
        "id": "Qfoy1yVlu-BW"
      }
    },
    {
      "cell_type": "code",
      "source": [
        "import os\n",
        "\n",
        "print(\"현재 운영체제: \", os.name)\n",
        "print(\"현재 폴더: \", os.getcwd())\n",
        "print(\"현재 폴더 내부의 요소: \", os.listdir())\n",
        "\n",
        "# 폴더 생성 및 제거 (폴더 비어있을 때만 제거 가능)\n",
        "os.mkdir(\"hello\")\n",
        "os.rmdir(\"hello\")\n",
        "\n",
        "# 파일 생성 + 파일 이름 변경\n",
        "with open(\"original.txt\", \"w\") as file:\n",
        "    file.write(\"hello\")\n",
        "os.rename(\"original.txt\", \"new.txt\")\n",
        "\n",
        "# 파일 제거\n",
        "os.remove(\"new.txt\")\n",
        "# os.unlink(\"new.txt\")  # 같은 기능\n",
        "\n",
        "# 시스템 명령어 실행\n",
        "os.system(\"dir\")"
      ],
      "metadata": {
        "colab": {
          "base_uri": "https://localhost:8080/"
        },
        "id": "K_M1CBHVvDhn",
        "outputId": "e0da4150-9595-4cae-a001-a0c0d52b7ed6"
      },
      "execution_count": 31,
      "outputs": [
        {
          "output_type": "stream",
          "name": "stdout",
          "text": [
            "현재 운영체제:  posix\n",
            "현재 폴더:  /content\n",
            "현재 폴더 내부의 요소:  ['.config', '.ipynb_checkpoints', 'sample_data']\n"
          ]
        },
        {
          "output_type": "execute_result",
          "data": {
            "text/plain": [
              "0"
            ]
          },
          "metadata": {},
          "execution_count": 31
        }
      ]
    },
    {
      "cell_type": "markdown",
      "source": [
        "### datetime 모듈\n",
        "- date(날짜), time(시간)과 관련된 모듈\n",
        "- 날짜 형식을 만들 때 자주 사용되는 코드\n",
        "- strftime() 함수: 시간을 형식에 맞춰 출력 가능(단, 한국어 등의 문자는 매개변수에 넣을 수 없음)"
      ],
      "metadata": {
        "id": "dejWPGwHwi5E"
      }
    },
    {
      "cell_type": "code",
      "source": [
        "import datetime\n",
        "\n",
        "# 현재 시각 구하고 출력\n",
        "print(\"# 현재 시각 출력\")\n",
        "now = datetime.datetime.now()\n",
        "print(now.year, \"년\")\n",
        "print(now.month, \"월\")\n",
        "print(now.day, \"일\")\n",
        "print(now.hour, \"시\")\n",
        "print(now.minute, \"분\")\n",
        "print(now.second, \"초\")\n",
        "print()\n",
        "\n",
        "# 시간 출력 방법\n",
        "print(\"# 시간을 포맷에 맞춰 출력\")\n",
        "output_a = now.strftime(\"%Y.%m.%d %H:%M:%S\")\n",
        "output_b = \"{}년 {}월 {}일 {}시 {}분 {}초\".format(now.year,\\\n",
        "                                            now.month,\\\n",
        "                                            now.day,\\\n",
        "                                            now.hour,\\\n",
        "                                            now.minute,\\\n",
        "                                            now.second)\n",
        "output_c = now.strftime(\"%Y{} %m{} %d{} %H{} %M{} %S{}\".format(*\"년월일시분초\"))\n",
        "print(output_a)\n",
        "print(output_b)\n",
        "print(output_c)\n",
        "print()"
      ],
      "metadata": {
        "colab": {
          "base_uri": "https://localhost:8080/"
        },
        "id": "yNUNVZOwvKem",
        "outputId": "abdf4ec9-edae-44b1-dbd8-06d7a1556f2b"
      },
      "execution_count": 35,
      "outputs": [
        {
          "output_type": "stream",
          "name": "stdout",
          "text": [
            "# 현재 시각 출력\n",
            "2023 년\n",
            "9 월\n",
            "28 일\n",
            "7 시\n",
            "52 분\n",
            "19 초\n",
            "\n",
            "# 시간을 포맷에 맞춰 출력\n",
            "2023.09.28 07:52:19\n",
            "2023년 9월 28일 7시 52분 19초\n",
            "2023년 09월 28일 07시 52분 19초\n",
            "\n"
          ]
        }
      ]
    },
    {
      "cell_type": "markdown",
      "source": [
        "#### 시간 처리하기\n",
        "- timedelta() 함수: 특정 시간의 이전 또는 이후 구하기 가능(시간계산)\n",
        "    - 단, 1년 후, 2년 후 등의 몇 년 후를 구하는 기능은 없음\n",
        "- replace() 함수 이용하여 아예 날짜 값 교체 가능"
      ],
      "metadata": {
        "id": "xqdy6Pe8x_FZ"
      }
    },
    {
      "cell_type": "code",
      "source": [
        "import datetime\n",
        "now = datetime.datetime.now()\n",
        "\n",
        "# 특정 시간 이후의 시간 구하기\n",
        "print(\"# datetime.timedelta로 시간 더하기\")\n",
        "after = now + datetime.timedelta(\\\n",
        "                                 weeks = 1, \\\n",
        "                                 days = 1, \\\n",
        "                                 hours = 1, \\\n",
        "                                 minutes = 1, \\\n",
        "                                 seconds = 1)\n",
        "print(after.strftime(\"%Y{} %m{} %d{} %H{} %M{} %S{}\").format(*\"년월일시분초\"))\n",
        "print()\n",
        "\n",
        "# 특정 시간 요소 교체\n",
        "print(\"# now.replace()로 1년 더하기\")\n",
        "output = now.replace(year = (now.year + 1))\n",
        "print(output.strftime(\"%Y{} %m{} %d{} %H{} %M{} %S{}\").format(*\"년월일시분초\"))"
      ],
      "metadata": {
        "colab": {
          "base_uri": "https://localhost:8080/"
        },
        "id": "xRB3NZSLw26o",
        "outputId": "3d128e95-81ff-4d02-9caf-abb74286cacc"
      },
      "execution_count": 37,
      "outputs": [
        {
          "output_type": "stream",
          "name": "stdout",
          "text": [
            "# datetime.timedelta로 시간 더하기\n",
            "2023년 10월 06일 08시 57분 58초\n",
            "\n",
            "# now.replace()로 1년 더하기\n",
            "2024년 09월 28일 07시 56분 57초\n"
          ]
        }
      ]
    },
    {
      "cell_type": "markdown",
      "source": [
        "### time 모듈\n",
        "- 시간 관련 기능 다룰 때 사용\n",
        "- 날짜와 관련된 처리도 가능하나, 그런 경우 datetime 모듈을 사용하는 경우가 더 많음\n",
        "\n",
        "- 사용 예시\n",
        "    1. 유닉스 타임(1970년 1월 1일 0시 0분 0초를 기준으로 계산한 시간 단위)을 구할 때\n",
        "    2. 특정 시간 동안 코드 진행을 정지할 때\n",
        "        - time.sleep() 함수: 특정 시간 동안 코드 진행 정지할 때 사용하는 함수\n",
        "            - 매개변수에는 정지하고 싶은 시간을 **초 단위**로 입력"
      ],
      "metadata": {
        "id": "DRfj0L0hy5BX"
      }
    },
    {
      "cell_type": "code",
      "source": [
        "import time\n",
        "\n",
        "print(\"지금부터 5초 동안 정지합니다!\")\n",
        "time.sleep(5)\n",
        "print(\"프로그램을 종료합니다.\")"
      ],
      "metadata": {
        "colab": {
          "base_uri": "https://localhost:8080/"
        },
        "id": "WSdiFUobyail",
        "outputId": "771ac52d-47af-40f2-cda7-0eb79d88d6a1"
      },
      "execution_count": 1,
      "outputs": [
        {
          "output_type": "stream",
          "name": "stdout",
          "text": [
            "지금부터 5초 동안 정지합니다!\n",
            "프로그램을 종료합니다.\n"
          ]
        }
      ]
    },
    {
      "cell_type": "markdown",
      "source": [
        "### urllib 모듈\n",
        "\n",
        "- URL을 다루는 라이브러리"
      ],
      "metadata": {
        "id": "QJZgFys4IAoc"
      }
    },
    {
      "cell_type": "code",
      "source": [
        "from urllib import request\n",
        "\n",
        "# urlopen() 함수로 구글 메인 페이지 읽기\n",
        "target = request.urlopen(\"https://google.com\")\n",
        "output = target.read()\n",
        "\n",
        "print(output)"
      ],
      "metadata": {
        "colab": {
          "base_uri": "https://localhost:8080/"
        },
        "id": "4z1IheqmH8ca",
        "outputId": "ece145d0-3030-4e0c-f00d-ce0c36901c0a"
      },
      "execution_count": 2,
      "outputs": [
        {
          "output_type": "stream",
          "name": "stdout",
          "text": [
            "b'<!doctype html><html itemscope=\"\" itemtype=\"http://schema.org/WebPage\" lang=\"zh-TW\"><head><meta content=\"text/html; charset=UTF-8\" http-equiv=\"Content-Type\"><meta content=\"/logos/doodles/2023/teachers-day-2023-sep-28-6753651837109943-law.gif\" itemprop=\"image\"><meta content=\"2023 &#25945;&#24107;&#31680;\" property=\"twitter:title\"><meta content=\"&#25945;&#24107;&#31680;&#24555;&#27138;! #GoogleDoodle\" property=\"twitter:description\"><meta content=\"&#25945;&#24107;&#31680;&#24555;&#27138;! #GoogleDoodle\" property=\"og:description\"><meta content=\"summary_large_image\" property=\"twitter:card\"><meta content=\"@GoogleDoodles\" property=\"twitter:site\"><meta content=\"https://www.google.com/logos/doodles/2023/teachers-day-2023-sep-28-6753651837109943-2xa.gif\" property=\"twitter:image\"><meta content=\"https://www.google.com/logos/doodles/2023/teachers-day-2023-sep-28-6753651837109943-2xa.gif\" property=\"og:image\"><meta content=\"920\" property=\"og:image:width\"><meta content=\"400\" property=\"og:image:height\"><meta content=\"https://www.google.com/logos/doodles/2023/teachers-day-2023-sep-28-6753651837109943-2xa.gif\" property=\"og:url\"><meta content=\"video.other\" property=\"og:type\"><title>Google</title><script nonce=\"S64BEhY_HbR1izetDbVgCQ\">(function(){var _g={kEI:\\'j4kVZc_GC5r9-Qah0pjICA\\',kEXPI:\\'0,18168,1347300,206,2415,2389,2316,383,246,5,1129120,1804,1195940,380747,16114,28684,22431,1361,12320,17579,4998,15066,2009,38444,2872,2891,3926,214,7614,606,30668,19390,10632,2614,13491,230,20583,4,42766,14636,2215,4437,22604,6633,7596,1,42154,2,39761,5679,1021,31121,4568,6259,23418,1252,33064,2,2,1,24626,2006,8155,23351,872,19634,7,1922,9779,42459,20198,20137,14,82,7651,11753,802,8377,18960,855,4548,3030,15816,1804,22837,10260,7421,6564,1635,13492,13207,7768,146,12742,3,9,5400,5206802,6820,109,2,196,2,572,5994194,98,2806428,141,795,28559,537,6,20721445,3220020,579,4060200,36928,2356,175,4428,3,684,269,1395097,338513,23420757,3326,8258,1215,8408,2880,1597,1085,9138,1965,4337,9,25,1634,2012,3412,2979,2225,817,877,3,2078,6,1860,2311,3442,3999,1435,4,440,3236,302,41,661,2125,513,1365,2452,2808,879,224,487,509,480,153,922,301,19,3,4374,2,123,846,101,1467,706,1360,5,4165,40,83,230,200,8,1727,737,275,612,378,2,17,59,1699,47,323,908,163,195,874,3,603,3,248,807,625,2,6,343,419,203,530,94,101,60,10,658,192,1650,1186,1,9,216,1087,379,7,1,8,59,688,4,11,492,215,759,7,1,8,235,116,130,764,17,756,5,8,21,24,2,163,1,1409,121,116,1182,1010,229,1230,654,458,7,1,8,410,2,3,2,2,2,79,406,95,503,43,418,517,344,722,632,377,61,669,78,113,486,4,2392,1613,969\\',kBL:\\'n9cD\\',kOPI:89978449};(function(){var a;(null==(a=window.google)?0:a.stvsc)?google.kEI=_g.kEI:window.google=_g;}).call(this);})();(function(){google.sn=\\'webhp\\';google.kHL=\\'zh-TW\\';})();(function(){\\nvar h=this||self;function l(){return void 0!==window.google&&void 0!==window.google.kOPI&&0!==window.google.kOPI?window.google.kOPI:null};var m,n=[];function p(a){for(var b;a&&(!a.getAttribute||!(b=a.getAttribute(\"eid\")));)a=a.parentNode;return b||m}function q(a){for(var b=null;a&&(!a.getAttribute||!(b=a.getAttribute(\"leid\")));)a=a.parentNode;return b}function r(a){/^http:/i.test(a)&&\"https:\"===window.location.protocol&&(google.ml&&google.ml(Error(\"a\"),!1,{src:a,glmm:1}),a=\"\");return a}\\nfunction t(a,b,c,d,k){var e=\"\";-1===b.search(\"&ei=\")&&(e=\"&ei=\"+p(d),-1===b.search(\"&lei=\")&&(d=q(d))&&(e+=\"&lei=\"+d));d=\"\";var g=-1===b.search(\"&cshid=\")&&\"slh\"!==a,f=[];f.push([\"zx\",Date.now().toString()]);h._cshid&&g&&f.push([\"cshid\",h._cshid]);c=c();null!=c&&f.push([\"opi\",c.toString()]);for(c=0;c<f.length;c++){if(0===c||0<c)d+=\"&\";d+=f[c][0]+\"=\"+f[c][1]}return\"/\"+(k||\"gen_204\")+\"?atyp=i&ct=\"+String(a)+\"&cad=\"+(b+e+d)};m=google.kEI;google.getEI=p;google.getLEI=q;google.ml=function(){return null};google.log=function(a,b,c,d,k,e){e=void 0===e?l:e;c||(c=t(a,b,e,d,k));if(c=r(c)){a=new Image;var g=n.length;n[g]=a;a.onerror=a.onload=a.onabort=function(){delete n[g]};a.src=c}};google.logUrl=function(a,b){b=void 0===b?l:b;return t(\"\",a,b)};}).call(this);(function(){google.y={};google.sy=[];google.x=function(a,b){if(a)var c=a.id;else{do c=Math.random();while(google.y[c])}google.y[c]=[a,b];return!1};google.sx=function(a){google.sy.push(a)};google.lm=[];google.plm=function(a){google.lm.push.apply(google.lm,a)};google.lq=[];google.load=function(a,b,c){google.lq.push([[a],b,c])};google.loadAll=function(a,b){google.lq.push([a,b])};google.bx=!1;google.lx=function(){};var d=[];google.fce=function(a,b,c,e){d.push([a,b,c,e])};google.qce=d;}).call(this);google.f={};(function(){\\ndocument.documentElement.addEventListener(\"submit\",function(b){var a;if(a=b.target){var c=a.getAttribute(\"data-submitfalse\");a=\"1\"===c||\"q\"===c&&!a.elements.q.value?!0:!1}else a=!1;a&&(b.preventDefault(),b.stopPropagation())},!0);document.documentElement.addEventListener(\"click\",function(b){var a;a:{for(a=b.target;a&&a!==document.documentElement;a=a.parentElement)if(\"A\"===a.tagName){a=\"1\"===a.getAttribute(\"data-nohref\");break a}a=!1}a&&b.preventDefault()},!0);}).call(this);</script><style>#gbar,#guser{font-size:13px;padding-top:1px !important;}#gbar{height:22px}#guser{padding-bottom:7px !important;text-align:right}.gbh,.gbd{border-top:1px solid #c9d7f1;font-size:1px}.gbh{height:0;position:absolute;top:24px;width:100%}@media all{.gb1{height:22px;margin-right:.5em;vertical-align:top}#gbar{float:left}}a.gb1,a.gb4{text-decoration:underline !important}a.gb1,a.gb4{color:#00c !important}.gbi .gb4{color:#dd8e27 !important}.gbf .gb4{color:#900 !important}\\n</style><style>body,td,a,p,.h{font-family:arial,sans-serif}body{margin:0;overflow-y:scroll}#gog{padding:3px 8px 0}td{line-height:.8em}.gac_m td{line-height:17px}form{margin-bottom:20px}.h{color:#1967d2}em{color:#c5221f;font-style:normal;font-weight:normal}a em{text-decoration:underline}.lst{height:25px;width:496px}.gsfi,.lst{font:18px arial,sans-serif}.gsfs{font:17px arial,sans-serif}.ds{display:inline-box;display:inline-block;margin:3px 0 4px;margin-left:4px}input{font-family:inherit}body{background:#fff;color:#000}a{color:#681da8;text-decoration:none}a:hover,a:active{text-decoration:underline}.fl a{color:#1967d2}a:visited{color:#681da8}.sblc{padding-top:5px}.sblc a{display:block;margin:2px 0;margin-left:13px;font-size:11px}.lsbb{background:#f8f9fa;border:solid 1px;border-color:#dadce0 #70757a #70757a #dadce0;height:30px}.lsbb{display:block}#WqQANb a{display:inline-block;margin:0 12px}.lsb{background:url(/images/nav_logo229.png) 0 -261px repeat-x;color:#000;border:none;cursor:pointer;height:30px;margin:0;outline:0;font:15px arial,sans-serif;vertical-align:top}.lsb:active{background:#dadce0}.lst:focus{outline:none}</style><script nonce=\"S64BEhY_HbR1izetDbVgCQ\">(function(){window.google.erd={jsr:1,bv:1873,de:true};\\nvar h=this||self;var k,l=null!=(k=h.mei)?k:1,n,p=null!=(n=h.sdo)?n:!0,q=0,r,t=google.erd,v=t.jsr;google.ml=function(a,b,d,m,e){e=void 0===e?2:e;b&&(r=a&&a.message);void 0===d&&(d={});d.cad=\"ple_\"+google.ple+\".aple_\"+google.aple;if(google.dl)return google.dl(a,e,d),null;if(0>v){window.console&&console.error(a,d);if(-2===v)throw a;b=!1}else b=!a||!a.message||\"Error loading script\"===a.message||q>=l&&!m?!1:!0;if(!b)return null;q++;d=d||{};b=encodeURIComponent;var c=\"/gen_204?atyp=i&ei=\"+b(google.kEI);google.kEXPI&&(c+=\"&jexpid=\"+b(google.kEXPI));c+=\"&srcpg=\"+b(google.sn)+\"&jsr=\"+b(t.jsr)+\"&bver=\"+\\nb(t.bv);var f=a.lineNumber;void 0!==f&&(c+=\"&line=\"+f);var g=a.fileName;g&&(0<g.indexOf(\"-extension:/\")&&(e=3),c+=\"&script=\"+b(g),f&&g===window.location.href&&(f=document.documentElement.outerHTML.split(\"\\\\n\")[f],c+=\"&cad=\"+b(f?f.substring(0,300):\"No script found.\")));google.ple&&1===google.ple&&(e=2);c+=\"&jsel=\"+e;for(var u in d)c+=\"&\",c+=b(u),c+=\"=\",c+=b(d[u]);c=c+\"&emsg=\"+b(a.name+\": \"+a.message);c=c+\"&jsst=\"+b(a.stack||\"N/A\");12288<=c.length&&(c=c.substr(0,12288));a=c;m||google.log(0,\"\",a);return a};window.onerror=function(a,b,d,m,e){r!==a&&(a=e instanceof Error?e:Error(a),void 0===d||\"lineNumber\"in a||(a.lineNumber=d),void 0===b||\"fileName\"in a||(a.fileName=b),google.ml(a,!1,void 0,!1,\"SyntaxError\"===a.name||\"SyntaxError\"===a.message.substring(0,11)||-1!==a.message.indexOf(\"Script error\")?3:0));r=null;p&&q>=l&&(window.onerror=null)};})();</script></head><body bgcolor=\"#fff\"><script nonce=\"S64BEhY_HbR1izetDbVgCQ\">(function(){var src=\\'/images/nav_logo229.png\\';var iesg=false;document.body.onload = function(){window.n && window.n();if (document.images){new Image().src=src;}\\nif (!iesg){document.f&&document.f.q.focus();document.gbqf&&document.gbqf.q.focus();}\\n}\\n})();</script><div id=\"mngb\"><div id=gbar><nobr><b class=gb1>&#25628;&#23563;</b> <a class=gb1 href=\"https://www.google.com/imghp?hl=zh-TW&tab=wi\">&#22294;&#29255;</a> <a class=gb1 href=\"https://maps.google.com.tw/maps?hl=zh-TW&tab=wl\">&#22320;&#22294;</a> <a class=gb1 href=\"https://play.google.com/?hl=zh-TW&tab=w8\">Play</a> <a class=gb1 href=\"https://www.youtube.com/?tab=w1\">YouTube</a> <a class=gb1 href=\"https://news.google.com/?tab=wn\">&#26032;&#32862;</a> <a class=gb1 href=\"https://mail.google.com/mail/?tab=wm\">Gmail</a> <a class=gb1 href=\"https://drive.google.com/?tab=wo\">&#38642;&#31471;&#30828;&#30879;</a> <a class=gb1 style=\"text-decoration:none\" href=\"https://www.google.com.tw/intl/zh-TW/about/products?tab=wh\"><u>&#26356;&#22810;</u> &raquo;</a></nobr></div><div id=guser width=100%><nobr><span id=gbn class=gbi></span><span id=gbf class=gbf></span><span id=gbe></span><a href=\"http://www.google.com.tw/history/optout?hl=zh-TW\" class=gb4>&#32178;&#38913;&#35352;&#37636;</a> | <a  href=\"/preferences?hl=zh-TW\" class=gb4>&#35373;&#23450;</a> | <a target=_top id=gb_70 href=\"https://accounts.google.com/ServiceLogin?hl=zh-TW&passive=true&continue=https://www.google.com/&ec=GAZAAQ\" class=gb4>&#30331;&#20837;</a></nobr></div><div class=gbh style=left:0></div><div class=gbh style=right:0></div></div><center><br clear=\"all\" id=\"lgpd\"><div id=\"lga\"><a href=\"/search?sca_esv=569153003&amp;ie=UTF-8&amp;q=%E6%95%99%E5%B8%AB%E7%AF%80&amp;oi=ddle&amp;ct=253317371&amp;hl=zh-TW&amp;si=ALGXSlYh1-GEPndq7qMo--O-TPixQtNN4JMroSxgItz5kq0stKVZ_6Fh79Yy-lhfOxVHM-Ll8ael8sMs8kiiNr15IjCwLnC4VnAvQkz5PKuv61CzQTflzvM%3D&amp;sa=X&amp;ved=0ahUKEwiPyvSRvs2BAxWaft4KHSEpBokQPQgD\"><img alt=\"2023 &#25945;&#24107;&#31680;\" border=\"0\" height=\"200\" src=\"/logos/doodles/2023/teachers-day-2023-sep-28-6753651837109943-law.gif\" title=\"2023 &#25945;&#24107;&#31680;\" width=\"460\" id=\"hplogo\"><br></a><br></div><form action=\"/search\" name=\"f\"><table cellpadding=\"0\" cellspacing=\"0\"><tr valign=\"top\"><td width=\"25%\">&nbsp;</td><td align=\"center\" nowrap=\"\"><input name=\"ie\" value=\"ISO-8859-1\" type=\"hidden\"><input value=\"zh-TW\" name=\"hl\" type=\"hidden\"><input name=\"source\" type=\"hidden\" value=\"hp\"><input name=\"biw\" type=\"hidden\"><input name=\"bih\" type=\"hidden\"><div class=\"ds\" style=\"height:32px;margin:4px 0\"><input class=\"lst\" style=\"margin:0;padding:5px 8px 0 6px;vertical-align:top;color:#000\" autocomplete=\"off\" value=\"\" title=\"Google &#25628;&#23563;\" maxlength=\"2048\" name=\"q\" size=\"57\"></div><br style=\"line-height:0\"><span class=\"ds\"><span class=\"lsbb\"><input class=\"lsb\" value=\"Google &#25628;&#23563;\" name=\"btnG\" type=\"submit\"></span></span><span class=\"ds\"><span class=\"lsbb\"><input class=\"lsb\" id=\"tsuid_1\" value=\"&#22909;&#25163;&#27683;\" name=\"btnI\" type=\"submit\"><script nonce=\"S64BEhY_HbR1izetDbVgCQ\">(function(){var id=\\'tsuid_1\\';document.getElementById(id).onclick = function(){if (this.form.q.value){this.checked = 1;if (this.form.iflsig)this.form.iflsig.disabled = false;}\\nelse top.location=\\'/doodles/\\';};})();</script><input value=\"AO6bgOgAAAAAZRWXn2wEmka8GZT41R4c5LquBFmYqzSj\" name=\"iflsig\" type=\"hidden\"></span></span></td><td class=\"fl sblc\" align=\"left\" nowrap=\"\" width=\"25%\"><a href=\"/advanced_search?hl=zh-TW&amp;authuser=0\">&#36914;&#38542;&#25628;&#23563;</a></td></tr></table><input id=\"gbv\" name=\"gbv\" type=\"hidden\" value=\"1\"><script nonce=\"S64BEhY_HbR1izetDbVgCQ\">(function(){var a,b=\"1\";if(document&&document.getElementById)if(\"undefined\"!=typeof XMLHttpRequest)b=\"2\";else if(\"undefined\"!=typeof ActiveXObject){var c,d,e=[\"MSXML2.XMLHTTP.6.0\",\"MSXML2.XMLHTTP.3.0\",\"MSXML2.XMLHTTP\",\"Microsoft.XMLHTTP\"];for(c=0;d=e[c++];)try{new ActiveXObject(d),b=\"2\"}catch(h){}}a=b;if(\"2\"==a&&-1==location.search.indexOf(\"&gbv=2\")){var f=google.gbvu,g=document.getElementById(\"gbv\");g&&(g.value=a);f&&window.setTimeout(function(){location.href=f},0)};}).call(this);</script></form><div id=\"gac_scont\"></div><div style=\"font-size:83%;min-height:3.5em\"><br></div><span id=\"footer\"><div style=\"font-size:10pt\"><div style=\"margin:19px auto;text-align:center\" id=\"WqQANb\"><a href=\"/intl/zh-TW/ads/\">&#24291;&#21578;</a><a href=\"http://www.google.com.tw/intl/zh-TW/services/\">&#21830;&#26989;&#35299;&#27770;&#26041;&#26696;</a><a href=\"/intl/zh-TW/about.html\">&#38364;&#26044; Google</a><a href=\"https://www.google.com/setprefdomain?prefdom=TW&amp;prev=https://www.google.com.tw/&amp;sig=K_MgRbQ117hK6Ze5AeMo38CLFjc5A%3D\">Google.com.tw</a></div></div><p style=\"font-size:8pt;color:#70757a\">&copy; 2023 - <a href=\"/intl/zh-TW/policies/privacy/\">&#38577;&#31169;&#27402;</a> - <a href=\"/intl/zh-TW/policies/terms/\">&#26381;&#21209;&#26781;&#27454;</a></p></span></center><script nonce=\"S64BEhY_HbR1izetDbVgCQ\">(function(){window.google.cdo={height:757,width:1440};(function(){var a=window.innerWidth,b=window.innerHeight;if(!a||!b){var c=window.document,d=\"CSS1Compat\"==c.compatMode?c.documentElement:c.body;a=d.clientWidth;b=d.clientHeight}\\nif(a&&b&&(a!=google.cdo.width||b!=google.cdo.height)){var e=google,f=e.log,g=\"/client_204?&atyp=i&biw=\"+a+\"&bih=\"+b+\"&ei=\"+google.kEI,h=\"\",k=[],l=void 0!==window.google&&void 0!==window.google.kOPI&&0!==window.google.kOPI?window.google.kOPI:null;null!=l&&k.push([\"opi\",l.toString()]);for(var m=0;m<k.length;m++){if(0===m||0<m)h+=\"&\";h+=k[m][0]+\"=\"+k[m][1]}f.call(e,\"\",\"\",g+h)};}).call(this);})();</script> <script nonce=\"S64BEhY_HbR1izetDbVgCQ\">(function(){google.xjs={ck:\\'xjs.hp.HwF-tQPmHmU.L.X.O\\',cs:\\'ACT90oH-0HBf9aK9EVg5vjzMnZIgsZeJRQ\\',cssopt:false,csss:\\'ACT90oF0nWNoNHeatRJXaqUs5pnMrYulig\\',excm:[],sepcss:false};google.actx={context:\\'url: \\\\x22/xjs/_/js/k\\\\x3dxjs.s.zh_TW.WDk8ldIKaAs.O/am\\\\x3dCAAAAAAAAAAAAAAAAgCgBsIhAAAgQCAAAgAAIAAAAQlEEMAAAAEAACIBAAAJAIQABBAHtgAAEhAHAAAAAICwDwAAAAAAABYAAQBSE8CAELAICAAAAIAcAAAPADEIsAAAAAAAAAAAAAAELEEwuCABABAAAAAAAAAAAAAAAKSyiQM/d\\\\x3d1/ed\\\\x3d1/dg\\\\x3d2/rs\\\\x3dACT90oEOP_d7B3zghBsQ7-GDwzC8zGnfvQ/ee\\\\x3dcEt90b:ws9Tlc;qddgKe:x4FYXe,d7YSfd;yxTchf:KUM7Z;dtl0hd:lLQWFe;eHDfl:ofjVkb;qaS3gd:yiLg6e;nAFL3:NTMZac,s39S4;oGtAuc:sOXFj;iFQyKf:vfuNJf,QIhFr;SNUn3:ZwDk9d,x8cHvb;io8t5d:sgY6Zb;Oj465e:KG2eXe,KG2eXe;Erl4fe:FloWmf,FloWmf;JsbNhc:Xd8iUd;sP4Vbe:VwDzFe;kMFpHd:OTA3Ae;uY49fb:COQbmf;Pjplud:PoEs9b,EEDORb;QGR0gd:Mlhmy;a56pNe:JEfCwb;Me32dd:MEeYgc;wR5FRb:TtcOte,O1Gjze;pXdRYb:JKoKVe;dIoSBb:ZgGg9b;EmZ2Bf:zr1jrb;NSEoX:lazG7b;eBAeSb:Ck63tb;WCEKNd:I46Hvd;wV5Pjc:L8KGxe;EVNhjf:pw70Gc;sTsDMc:kHVSUb;wQlYve:aLUfP;zOsCQe:Ko78Df;KcokUb:KiuZBf;YV5bee:IvPZ6d;kbAm9d:MkHyGd;ZWEUA:afR4Cf;g8nkx:U4MzKc;lzgfYb:PI40bd;w9w86d:VvLVQd;GleZL:J1A7Od;bcPXSc:gSZLJb;JXS8fb:Qj0suc;IoGlCf:b5lhvb;VN6jIc:ddQyuf;vfVwPd:lcrkwe;ESrPQc:mNTJvc;pNsl2d:j9Yuyc;VGRfx:VFqbr;BjwMce:cXX2Wb;R9Ulx:CR7Ufe;kY7VAf:d91TEb;xBbsrc:NEW1Qc;KpRAue:Tia57b;jY0zg:Q6tNgc;coJ8e:j4Ca9b;oSUNyd:fTfGO,fTfGO,pnvXVc;SMDL4c:fTfGO,pnvXVc;aZ61od:arTwJ;ZrFutb:W4Cdfc;K8vqCc:MyIcle;NPKaK:SdcwHb;LBgRLc:XVMNvd,SdcwHb;rQSrae:C6D5Fc;kCQyJ:ueyPK;KQzWid:mB4wNe;EABSZ:MXZt9d;qavrXe:zQzcXe,mYbt1d;TxfV6d:YORN0b;UDrY1c:eps46d;F9mqte:UoRcbe;Nyt6ic:jn2sGd;w3bZCb:ZPGaIb;G0KhTb:LIaoZ;XUezZ:sa7lqb;aAJE9c:WHW6Ef;V2HTTe:RolTY;Wfmdue:g3MJlb;imqimf:jKGL2e;BgS6mb:fidj5d;UVmjEd:EesRsb;z97YGf:oug9te;AfeaP:TkrAjf;eBZ5Nd:audvde;CxXAWb:YyRLvc;SLtqO:Kh1xYe;tosKvd:ZCqP3;VOcgDe:YquhTb;uuQkY:u2V3ud;WDGyFe:jcVOxd;trZL0b:qY8PFe;VxQ32b:k0XsBb;DULqB:RKfG5c;Np8Qkd:Dpx6qc;qZx2Fc:j0xrE;cFTWae:gT8qnd;gaub4:TN6bMe;DpcR3d:zL72xf;hjRo6e:F62sG;yGxLoc:FmAr0c;oUlnpc:RagDlc;R2kc8b:ALJqWb;pj82le:mg5CW;dLlj2:Qqt3Gf;qGV2uc:HHi04c;gtVSi:ekUOYd;UyG7Kb:wQd0G;LsNahb:ucGLNb;xbe2wc:wbTLEd;Q1Ow7b:x5CSu;bFZ6gf:RsDQqe;okUaUd:wItadb;G6wU6e:hezEbd;uknmt:GkPrzb;U96pRd:FsR04;PqHfGe:im2cZe;Fmv9Nc:O1Tzwc;hK67qb:QWEO5b;BMxAGc:E5bFse;R4IIIb:QWfeKf;whEZac:F4AmNb;tH4IIe:Ymry6;lkq0A:JyBE3e;daB6be:lMxGPd;LEikZe:byfTOb,lsjVmc/m\\\\x3dcdos,d,cEt90b,SNUn3,qddgKe,sTsDMc,dtl0hd,eHDfl\\\\x22\\\\njs_row_key: \\\\x22xjs.s.zh_TW.WDk8ldIKaAs.O\\\\x22\\\\ntrusted_resource_url {\\\\n  private_do_not_access_or_else_trusted_resource_url_wrapped_value: \\\\x22/xjs/_/js/k\\\\x3dxjs.s.zh_TW.WDk8ldIKaAs.O/am\\\\x3dCAAAAAAAAAAAAAAAAgCgBsIhAAAgQCAAAgAAIAAAAQlEEMAAAAEAACIBAAAJAIQABBAHtgAAEhAHAAAAAICwDwAAAAAAABYAAQBSE8CAELAICAAAAIAcAAAPADEIsAAAAAAAAAAAAAAELEEwuCABABAAAAAAAAAAAAAAAKSyiQM/d\\\\x3d1/ed\\\\x3d1/dg\\\\x3d2/rs\\\\x3dACT90oEOP_d7B3zghBsQ7-GDwzC8zGnfvQ/ee\\\\x3dcEt90b:ws9Tlc;qddgKe:x4FYXe,d7YSfd;yxTchf:KUM7Z;dtl0hd:lLQWFe;eHDfl:ofjVkb;qaS3gd:yiLg6e;nAFL3:NTMZac,s39S4;oGtAuc:sOXFj;iFQyKf:vfuNJf,QIhFr;SNUn3:ZwDk9d,x8cHvb;io8t5d:sgY6Zb;Oj465e:KG2eXe,KG2eXe;Erl4fe:FloWmf,FloWmf;JsbNhc:Xd8iUd;sP4Vbe:VwDzFe;kMFpHd:OTA3Ae;uY49fb:COQbmf;Pjplud:PoEs9b,EEDORb;QGR0gd:Mlhmy;a56pNe:JEfCwb;Me32dd:MEeYgc;wR5FRb:TtcOte,O1Gjze;pXdRYb:JKoKVe;dIoSBb:ZgGg9b;EmZ2Bf:zr1jrb;NSEoX:lazG7b;eBAeSb:Ck63tb;WCEKNd:I46Hvd;wV5Pjc:L8KGxe;EVNhjf:pw70Gc;sTsDMc:kHVSUb;wQlYve:aLUfP;zOsCQe:Ko78Df;KcokUb:KiuZBf;YV5bee:IvPZ6d;kbAm9d:MkHyGd;ZWEUA:afR4Cf;g8nkx:U4MzKc;lzgfYb:PI40bd;w9w86d:VvLVQd;GleZL:J1A7Od;bcPXSc:gSZLJb;JXS8fb:Qj0suc;IoGlCf:b5lhvb;VN6jIc:ddQyuf;vfVwPd:lcrkwe;ESrPQc:mNTJvc;pNsl2d:j9Yuyc;VGRfx:VFqbr;BjwMce:cXX2Wb;R9Ulx:CR7Ufe;kY7VAf:d91TEb;xBbsrc:NEW1Qc;KpRAue:Tia57b;jY0zg:Q6tNgc;coJ8e:j4Ca9b;oSUNyd:fTfGO,fTfGO,pnvXVc;SMDL4c:fTfGO,pnvXVc;aZ61od:arTwJ;ZrFutb:W4Cdfc;K8vqCc:MyIcle;NPKaK:SdcwHb;LBgRLc:XVMNvd,SdcwHb;rQSrae:C6D5Fc;kCQyJ:ueyPK;KQzWid:mB4wNe;EABSZ:MXZt9d;qavrXe:zQzcXe,mYbt1d;TxfV6d:YORN0b;UDrY1c:eps46d;F9mqte:UoRcbe;Nyt6ic:jn2sGd;w3bZCb:ZPGaIb;G0KhTb:LIaoZ;XUezZ:sa7lqb;aAJE9c:WHW6Ef;V2HTTe:RolTY;Wfmdue:g3MJlb;imqimf:jKGL2e;BgS6mb:fidj5d;UVmjEd:EesRsb;z97YGf:oug9te;AfeaP:TkrAjf;eBZ5Nd:audvde;CxXAWb:YyRLvc;SLtqO:Kh1xYe;tosKvd:ZCqP3;VOcgDe:YquhTb;uuQkY:u2V3ud;WDGyFe:jcVOxd;trZL0b:qY8PFe;VxQ32b:k0XsBb;DULqB:RKfG5c;Np8Qkd:Dpx6qc;qZx2Fc:j0xrE;cFTWae:gT8qnd;gaub4:TN6bMe;DpcR3d:zL72xf;hjRo6e:F62sG;yGxLoc:FmAr0c;oUlnpc:RagDlc;R2kc8b:ALJqWb;pj82le:mg5CW;dLlj2:Qqt3Gf;qGV2uc:HHi04c;gtVSi:ekUOYd;UyG7Kb:wQd0G;LsNahb:ucGLNb;xbe2wc:wbTLEd;Q1Ow7b:x5CSu;bFZ6gf:RsDQqe;okUaUd:wItadb;G6wU6e:hezEbd;uknmt:GkPrzb;U96pRd:FsR04;PqHfGe:im2cZe;Fmv9Nc:O1Tzwc;hK67qb:QWEO5b;BMxAGc:E5bFse;R4IIIb:QWfeKf;whEZac:F4AmNb;tH4IIe:Ymry6;lkq0A:JyBE3e;daB6be:lMxGPd;LEikZe:byfTOb,lsjVmc/m\\\\x3dcdos,d,cEt90b,SNUn3,qddgKe,sTsDMc,dtl0hd,eHDfl\\\\x22\\\\n}\\\\ncombined_signature: \\\\x22ACT90oGcbAuMjgp2qMpBSi7Mv60vVPEBaQ\\\\x22\\\\ncss_row_key: \\\\x22xjs.s.goc2HVv8PuM.L.X.O\\\\x22\\\\ncss_signature: \\\\x22ACT90oFbke4lGE1KFix3UAKqlJvvJ0zdlA\\\\x22\\\\nactive_mods: \\\\x22CAAAAAAAAAAAAAAAAgCgBsIhAAAgQCAAAgAAIAAAAQlEEMAAAAEAACIBAAAJAIQABBAHtgAAEhAHAAAAAICwDwAAAAAAABYAAQBSE8CAELAICAAAAIAcAAAPADEIsAAAAAAAAAAAAAAELEEwuCABABAAAAAAAAAAAAAAAKSyiQM\\\\x22\\\\n\\',sig:\\'L-VZEvU6C7w\\'};})();</script>     <script nonce=\"S64BEhY_HbR1izetDbVgCQ\">(function(){var u=\\'/xjs/_/js/k\\\\x3dxjs.hp.en.pe7cXP9MYYw.O/am\\\\x3dAAAAAAAAAAAAAAAgAAAAAAAUABAgAAAAAAAAAAQAoCMAABYA4AI/d\\\\x3d1/ed\\\\x3d1/rs\\\\x3dACT90oGEqqUlg5JiC9FSo3D1MG5-c2nhuA/m\\\\x3dsb_he,d,cEt90b,SNUn3,qddgKe,sTsDMc,dtl0hd,eHDfl\\';var amd=0;\\nvar e=this||self,f=function(a){return a};var g;var h=function(a){this.g=a};h.prototype.toString=function(){return this.g+\"\"};var k={};var l=function(){var a=document;var b=\"SCRIPT\";\"application/xhtml+xml\"===a.contentType&&(b=b.toLowerCase());return a.createElement(b)};\\nfunction m(a,b){a.src=b instanceof h&&b.constructor===h?b.g:\"type_error:TrustedResourceUrl\";var c,d;(c=(b=null==(d=(c=(a.ownerDocument&&a.ownerDocument.defaultView||window).document).querySelector)?void 0:d.call(c,\"script[nonce]\"))?b.nonce||b.getAttribute(\"nonce\")||\"\":\"\")&&a.setAttribute(\"nonce\",c)};function n(a){a=null===a?\"null\":void 0===a?\"undefined\":a;if(void 0===g){var b=null;var c=e.trustedTypes;if(c&&c.createPolicy){try{b=c.createPolicy(\"goog#html\",{createHTML:f,createScript:f,createScriptURL:f})}catch(d){e.console&&e.console.error(d.message)}g=b}else g=b}a=(b=g)?b.createScriptURL(a):a;return new h(a,k)};void 0===google.ps&&(google.ps=[]);function p(){var a=u,b=function(){};google.lx=google.stvsc?b:function(){q(a);google.lx=b};google.bx||google.lx()}function r(a,b){b&&m(a,n(b));var c=a.onload;a.onload=function(d){c&&c(d);google.ps=google.ps.filter(function(t){return a!==t})};google.ps.push(a);document.body.appendChild(a)}google.as=r;function q(a){google.timers&&google.timers.load&&google.tick&&google.tick(\"load\",\"xjsls\");var b=l();b.onerror=function(){google.ple=1};b.onload=function(){google.ple=0};google.xjsus=void 0;r(b,a);google.aple=-1;google.psa=!0};google.xjsu=u;e._F_jsUrl=u;setTimeout(function(){0<amd?google.caft(function(){return p()},amd):p()},0);})();window._ = window._ || {};window._DumpException = _._DumpException = function(e){throw e;};window._s = window._s || {};_s._DumpException = _._DumpException;window._qs = window._qs || {};_qs._DumpException = _._DumpException;(function(){window._F_toggles=[1,0,0,8,1310721,32832,0,65536,9120,192938072];})();function _F_installCss(c){}\\n(function(){google.jl={blt:\\'none\\',chnk:0,dw:false,dwu:true,emtn:0,end:0,ico:false,ikb:0,ine:false,injs:\\'none\\',injt:0,injth:0,injv2:false,lls:\\'default\\',pdt:0,rep:0,snet:true,strt:0,ubm:false,uwp:true};})();(function(){var pmc=\\'{\\\\x22d\\\\x22:{},\\\\x22sb_he\\\\x22:{\\\\x22agen\\\\x22:true,\\\\x22cgen\\\\x22:true,\\\\x22client\\\\x22:\\\\x22heirloom-hp\\\\x22,\\\\x22dh\\\\x22:true,\\\\x22ds\\\\x22:\\\\x22\\\\x22,\\\\x22fl\\\\x22:true,\\\\x22host\\\\x22:\\\\x22google.com\\\\x22,\\\\x22jsonp\\\\x22:true,\\\\x22msgs\\\\x22:{\\\\x22cibl\\\\x22:\\\\x22\\\\\\\\u6e05\\\\\\\\u9664\\\\\\\\u641c\\\\\\\\u5c0b\\\\x22,\\\\x22dym\\\\x22:\\\\x22\\\\\\\\u4f60\\\\\\\\u662f\\\\\\\\u4e0d\\\\\\\\u662f\\\\\\\\u8981\\\\\\\\u67e5\\\\\\\\uff1a\\\\x22,\\\\x22lcky\\\\x22:\\\\x22\\\\\\\\u597d\\\\\\\\u624b\\\\\\\\u6c23\\\\x22,\\\\x22lml\\\\x22:\\\\x22\\\\\\\\u77ad\\\\\\\\u89e3\\\\\\\\u8a73\\\\\\\\u60c5\\\\x22,\\\\x22psrc\\\\x22:\\\\x22\\\\\\\\u5df2\\\\\\\\u5f9e\\\\\\\\u60a8\\\\\\\\u7684\\\\\\\\u300c\\\\\\\\u003Ca href\\\\x3d\\\\\\\\\\\\x22/history\\\\\\\\\\\\x22\\\\\\\\u003E\\\\\\\\u7db2\\\\\\\\u9801\\\\\\\\u8a18\\\\\\\\u9304\\\\\\\\u003C/a\\\\\\\\u003E\\\\\\\\u300d\\\\\\\\u4e2d\\\\\\\\u79fb\\\\\\\\u9664\\\\\\\\u9019\\\\\\\\u7b46\\\\\\\\u641c\\\\\\\\u5c0b\\\\\\\\u8a18\\\\\\\\u9304\\\\x22,\\\\x22psrl\\\\x22:\\\\x22\\\\\\\\u79fb\\\\\\\\u9664\\\\x22,\\\\x22sbit\\\\x22:\\\\x22\\\\\\\\u4ee5\\\\\\\\u5716\\\\\\\\u641c\\\\\\\\u5c0b\\\\x22,\\\\x22srch\\\\x22:\\\\x22Google \\\\\\\\u641c\\\\\\\\u5c0b\\\\x22},\\\\x22ovr\\\\x22:{},\\\\x22pq\\\\x22:\\\\x22\\\\x22,\\\\x22rfs\\\\x22:[],\\\\x22sbas\\\\x22:\\\\x220 3px 8px 0 rgba(0,0,0,0.2),0 0 0 1px rgba(0,0,0,0.08)\\\\x22,\\\\x22stok\\\\x22:\\\\x22KuET8Br6ZEzOUCrnpyX9yDNzLs8\\\\x22}}\\';google.pmc=JSON.parse(pmc);})();(function(){var b=function(a){var c=0;return function(){return c<a.length?{done:!1,value:a[c++]}:{done:!0}}};\\nvar e=this||self;var g,h;a:{for(var k=[\"CLOSURE_FLAGS\"],l=e,n=0;n<k.length;n++)if(l=l[k[n]],null==l){h=null;break a}h=l}var p=h&&h[610401301];g=null!=p?p:!1;var q,r=e.navigator;q=r?r.userAgentData||null:null;function t(a){return g?q?q.brands.some(function(c){return(c=c.brand)&&-1!=c.indexOf(a)}):!1:!1}function u(a){var c;a:{if(c=e.navigator)if(c=c.userAgent)break a;c=\"\"}return-1!=c.indexOf(a)};function v(){return g?!!q&&0<q.brands.length:!1}function w(){return u(\"Safari\")&&!(x()||(v()?0:u(\"Coast\"))||(v()?0:u(\"Opera\"))||(v()?0:u(\"Edge\"))||(v()?t(\"Microsoft Edge\"):u(\"Edg/\"))||(v()?t(\"Opera\"):u(\"OPR\"))||u(\"Firefox\")||u(\"FxiOS\")||u(\"Silk\")||u(\"Android\"))}function x(){return v()?t(\"Chromium\"):(u(\"Chrome\")||u(\"CriOS\"))&&!(v()?0:u(\"Edge\"))||u(\"Silk\")}function y(){return u(\"Android\")&&!(x()||u(\"Firefox\")||u(\"FxiOS\")||(v()?0:u(\"Opera\"))||u(\"Silk\"))};var z=v()?!1:u(\"Trident\")||u(\"MSIE\");y();x();w();var A=!z&&!w(),D=function(a){if(/-[a-z]/.test(\"ved\"))return null;if(A&&a.dataset){if(y()&&!(\"ved\"in a.dataset))return null;a=a.dataset.ved;return void 0===a?null:a}return a.getAttribute(\"data-\"+\"ved\".replace(/([A-Z])/g,\"-$1\").toLowerCase())};var E=[],F=null;function G(a){a=a.target;var c=performance.now(),f=[],H=f.concat,d=E;if(!(d instanceof Array)){var m=\"undefined\"!=typeof Symbol&&Symbol.iterator&&d[Symbol.iterator];if(m)d=m.call(d);else if(\"number\"==typeof d.length)d={next:b(d)};else throw Error(\"a`\"+String(d));for(var B=[];!(m=d.next()).done;)B.push(m.value);d=B}E=H.call(f,d,[c]);if(a&&a instanceof HTMLElement)if(a===F){if(c=4<=E.length)c=5>(E[E.length-1]-E[E.length-4])/1E3;if(c){c=google.getEI(a);a.hasAttribute(\"data-ved\")?f=a?D(a)||\"\":\"\":f=(f=\\na.closest(\"[data-ved]\"))?D(f)||\"\":\"\";f=f||\"\";if(a.hasAttribute(\"jsname\"))a=a.getAttribute(\"jsname\");else{var C;a=null==(C=a.closest(\"[jsname]\"))?void 0:C.getAttribute(\"jsname\")}google.log(\"rcm\",\"&ei=\"+c+\"&ved=\"+f+\"&jsname=\"+(a||\"\"))}}else F=a,E=[c]}window.document.addEventListener(\"DOMContentLoaded\",function(){document.body.addEventListener(\"click\",G)});}).call(this);</script></body></html>'\n"
          ]
        }
      ]
    },
    {
      "cell_type": "markdown",
      "source": [
        "### operator.itemgetter() 함수\n",
        "\n",
        "- 특정 요소를 추출하는 함수를 만드는 함수\n",
        "- 코드를 읽으면서 바로 이해 가능\n",
        "- 람다 함수를 사용한 것보다 코드 읽는 것이 쉬움\n",
        "    - itemgetter() 함수가 무엇인지 몰라도 코드와 함수 이름만 봐도 '어떠한 기능을 하겠다'고 생각 가능!"
      ],
      "metadata": {
        "id": "g-rEUeyDInDI"
      }
    },
    {
      "cell_type": "code",
      "source": [
        "# 기존\n",
        "books = [{\n",
        "    \"제목\": \"혼자 공부하는 파이썬\",\n",
        "    \"가격\": 10000\n",
        "}, {\n",
        "    \"제목\": \"혼자 공부하는 머신러닝+딥러닝\",\n",
        "    \"가격\": 26000\n",
        "}, {\n",
        "    \"제목\": \"혼자 공부하는 자바스크립트\",\n",
        "    \"가격\": 24000\n",
        "}]\n",
        "\n",
        "def price_func(book):\n",
        "    return book[\"가격\"]\n",
        "\n",
        "print(min(books, key = price_func))\n",
        "print(min(books, key = lambda book: book['가격']))"
      ],
      "metadata": {
        "colab": {
          "base_uri": "https://localhost:8080/"
        },
        "id": "EC3-0OFlIVHQ",
        "outputId": "7ffe1498-27a2-40ca-d3d9-3fd33dd9f000"
      },
      "execution_count": 3,
      "outputs": [
        {
          "output_type": "stream",
          "name": "stdout",
          "text": [
            "{'제목': '혼자 공부하는 파이썬', '가격': 10000}\n",
            "{'제목': '혼자 공부하는 파이썬', '가격': 10000}\n"
          ]
        }
      ]
    },
    {
      "cell_type": "code",
      "source": [
        "# key 매개변수를 itemgetter() 함수로 변경\n",
        "from operator import itemgetter\n",
        "\n",
        "books = [{\n",
        "    \"제목\": \"혼자 공부하는 파이썬\",\n",
        "    \"가격\": 10000\n",
        "}, {\n",
        "    \"제목\": \"혼자 공부하는 머신러닝+딥러닝\",\n",
        "    \"가격\": 26000\n",
        "}, {\n",
        "    \"제목\": \"혼자 공부하는 자바스크립트\",\n",
        "    \"가격\": 24000\n",
        "}]\n",
        "\n",
        "print(\"# 가장 저렴한 책\")\n",
        "print(min(books, key = itemgetter(\"가격\")))\n",
        "print()\n",
        "\n",
        "print(\"# 가장 비싼 책\")\n",
        "print(max(books, key = itemgetter(\"가격\")))"
      ],
      "metadata": {
        "colab": {
          "base_uri": "https://localhost:8080/"
        },
        "id": "LS4x5rgRN6w_",
        "outputId": "82d56904-d92d-4256-db70-c1da15fd13b2"
      },
      "execution_count": 4,
      "outputs": [
        {
          "output_type": "stream",
          "name": "stdout",
          "text": [
            "# 가장 저렴한 책\n",
            "{'제목': '혼자 공부하는 파이썬', '가격': 10000}\n",
            "\n",
            "# 가장 비싼 책\n",
            "{'제목': '혼자 공부하는 머신러닝+딥러닝', '가격': 26000}\n"
          ]
        }
      ]
    },
    {
      "cell_type": "markdown",
      "source": [
        "## 07-2. 외부 모듈"
      ],
      "metadata": {
        "id": "9vSAMEC7v7An"
      }
    },
    {
      "cell_type": "code",
      "source": [
        "# 외부 모듈 설치\n",
        "!pip install beautifulsoup4"
      ],
      "metadata": {
        "colab": {
          "base_uri": "https://localhost:8080/"
        },
        "id": "_1UyL67jOMqZ",
        "outputId": "7b9b1894-62d6-4b69-98e9-47ee6d8e4128"
      },
      "execution_count": 3,
      "outputs": [
        {
          "output_type": "stream",
          "name": "stdout",
          "text": [
            "Requirement already satisfied: beautifulsoup4 in /usr/local/lib/python3.10/dist-packages (4.11.2)\n",
            "Requirement already satisfied: soupsieve>1.2 in /usr/local/lib/python3.10/dist-packages (from beautifulsoup4) (2.5)\n"
          ]
        }
      ]
    },
    {
      "cell_type": "markdown",
      "source": [
        "### Beautiful Soup 모듈\n",
        "\n",
        "- 웹 페이지 분석 모듈"
      ],
      "metadata": {
        "id": "riC2zwKKyqdz"
      }
    },
    {
      "cell_type": "markdown",
      "source": [
        "#### 기상청 날씨 가져오기\n",
        "\n",
        "- select() 함수: 태그 여러개 선택할 때\n",
        "- select_one() 함수: 태그 하나만 선택할 때"
      ],
      "metadata": {
        "id": "n4b5RBsuyx7T"
      }
    },
    {
      "cell_type": "code",
      "source": [
        "from urllib import request\n",
        "from bs4 import BeautifulSoup\n",
        "\n",
        "# urlopen() 함수로 기상청의 전국 날씨 읽기\n",
        "target = request.urlopen(\"http://www.kma.go.kr/weather/forecast/mid-term-rss3.jsp?stnId=108\")\n",
        "\n",
        "# BeautifulSoup 사용해 웹 페이지 분석\n",
        "soup = BeautifulSoup(target, \"html.parser\")\n",
        "\n",
        "# location 태그 찾기\n",
        "for location in soup.select(\"location\"):\n",
        "    # 내부의 city, wf, tmn, tmx 태그 찾아 출력\n",
        "    print(\"도시: \", location.select_one(\"city\").string)\n",
        "    print(\"날씨: \", location.select_one(\"wf\").string)\n",
        "    print(\"최저기온: \", location.select_one(\"tmn\").string)\n",
        "    print(\"최고기온: \", location.select_one(\"tmx\").string)\n",
        "    print()"
      ],
      "metadata": {
        "colab": {
          "base_uri": "https://localhost:8080/"
        },
        "id": "RMkiPysKwI_M",
        "outputId": "658cc173-1c93-49b3-c60a-ff5fc1ff7d3c"
      },
      "execution_count": 6,
      "outputs": [
        {
          "output_type": "stream",
          "name": "stderr",
          "text": [
            "/usr/local/lib/python3.10/dist-packages/bs4/builder/__init__.py:545: XMLParsedAsHTMLWarning: It looks like you're parsing an XML document using an HTML parser. If this really is an HTML document (maybe it's XHTML?), you can ignore or filter this warning. If it's XML, you should know that using an XML parser will be more reliable. To parse this document as XML, make sure you have the lxml package installed, and pass the keyword argument `features=\"xml\"` into the BeautifulSoup constructor.\n",
            "  warnings.warn(\n"
          ]
        },
        {
          "output_type": "stream",
          "name": "stdout",
          "text": [
            "도시:  서울\n",
            "날씨:  맑음\n",
            "최저기온:  13\n",
            "최고기온:  24\n",
            "\n",
            "도시:  인천\n",
            "날씨:  맑음\n",
            "최저기온:  15\n",
            "최고기온:  22\n",
            "\n",
            "도시:  수원\n",
            "날씨:  맑음\n",
            "최저기온:  12\n",
            "최고기온:  23\n",
            "\n",
            "도시:  파주\n",
            "날씨:  맑음\n",
            "최저기온:  9\n",
            "최고기온:  23\n",
            "\n",
            "도시:  이천\n",
            "날씨:  맑음\n",
            "최저기온:  9\n",
            "최고기온:  23\n",
            "\n",
            "도시:  평택\n",
            "날씨:  맑음\n",
            "최저기온:  11\n",
            "최고기온:  23\n",
            "\n",
            "도시:  춘천\n",
            "날씨:  맑음\n",
            "최저기온:  10\n",
            "최고기온:  23\n",
            "\n",
            "도시:  원주\n",
            "날씨:  맑음\n",
            "최저기온:  10\n",
            "최고기온:  22\n",
            "\n",
            "도시:  강릉\n",
            "날씨:  맑음\n",
            "최저기온:  14\n",
            "최고기온:  23\n",
            "\n",
            "도시:  대전\n",
            "날씨:  맑음\n",
            "최저기온:  11\n",
            "최고기온:  23\n",
            "\n",
            "도시:  세종\n",
            "날씨:  맑음\n",
            "최저기온:  11\n",
            "최고기온:  23\n",
            "\n",
            "도시:  홍성\n",
            "날씨:  맑음\n",
            "최저기온:  11\n",
            "최고기온:  23\n",
            "\n",
            "도시:  청주\n",
            "날씨:  맑음\n",
            "최저기온:  12\n",
            "최고기온:  23\n",
            "\n",
            "도시:  충주\n",
            "날씨:  맑음\n",
            "최저기온:  10\n",
            "최고기온:  23\n",
            "\n",
            "도시:  영동\n",
            "날씨:  맑음\n",
            "최저기온:  9\n",
            "최고기온:  23\n",
            "\n",
            "도시:  광주\n",
            "날씨:  맑음\n",
            "최저기온:  13\n",
            "최고기온:  24\n",
            "\n",
            "도시:  목포\n",
            "날씨:  맑음\n",
            "최저기온:  15\n",
            "최고기온:  24\n",
            "\n",
            "도시:  여수\n",
            "날씨:  맑음\n",
            "최저기온:  16\n",
            "최고기온:  24\n",
            "\n",
            "도시:  순천\n",
            "날씨:  맑음\n",
            "최저기온:  13\n",
            "최고기온:  25\n",
            "\n",
            "도시:  광양\n",
            "날씨:  맑음\n",
            "최저기온:  13\n",
            "최고기온:  25\n",
            "\n",
            "도시:  나주\n",
            "날씨:  맑음\n",
            "최저기온:  11\n",
            "최고기온:  24\n",
            "\n",
            "도시:  전주\n",
            "날씨:  맑음\n",
            "최저기온:  12\n",
            "최고기온:  24\n",
            "\n",
            "도시:  군산\n",
            "날씨:  맑음\n",
            "최저기온:  12\n",
            "최고기온:  23\n",
            "\n",
            "도시:  정읍\n",
            "날씨:  맑음\n",
            "최저기온:  12\n",
            "최고기온:  23\n",
            "\n",
            "도시:  남원\n",
            "날씨:  맑음\n",
            "최저기온:  10\n",
            "최고기온:  24\n",
            "\n",
            "도시:  고창\n",
            "날씨:  맑음\n",
            "최저기온:  11\n",
            "최고기온:  23\n",
            "\n",
            "도시:  무주\n",
            "날씨:  맑음\n",
            "최저기온:  9\n",
            "최고기온:  23\n",
            "\n",
            "도시:  부산\n",
            "날씨:  맑음\n",
            "최저기온:  16\n",
            "최고기온:  25\n",
            "\n",
            "도시:  울산\n",
            "날씨:  맑음\n",
            "최저기온:  13\n",
            "최고기온:  23\n",
            "\n",
            "도시:  창원\n",
            "날씨:  맑음\n",
            "최저기온:  14\n",
            "최고기온:  24\n",
            "\n",
            "도시:  진주\n",
            "날씨:  맑음\n",
            "최저기온:  11\n",
            "최고기온:  25\n",
            "\n",
            "도시:  거창\n",
            "날씨:  맑음\n",
            "최저기온:  8\n",
            "최고기온:  23\n",
            "\n",
            "도시:  통영\n",
            "날씨:  맑음\n",
            "최저기온:  15\n",
            "최고기온:  25\n",
            "\n",
            "도시:  대구\n",
            "날씨:  맑음\n",
            "최저기온:  12\n",
            "최고기온:  24\n",
            "\n",
            "도시:  안동\n",
            "날씨:  맑음\n",
            "최저기온:  10\n",
            "최고기온:  23\n",
            "\n",
            "도시:  포항\n",
            "날씨:  맑음\n",
            "최저기온:  14\n",
            "최고기온:  23\n",
            "\n",
            "도시:  경주\n",
            "날씨:  맑음\n",
            "최저기온:  11\n",
            "최고기온:  24\n",
            "\n",
            "도시:  울진\n",
            "날씨:  맑음\n",
            "최저기온:  12\n",
            "최고기온:  22\n",
            "\n",
            "도시:  울릉도\n",
            "날씨:  맑음\n",
            "최저기온:  17\n",
            "최고기온:  22\n",
            "\n",
            "도시:  제주\n",
            "날씨:  맑음\n",
            "최저기온:  18\n",
            "최고기온:  23\n",
            "\n",
            "도시:  서귀포\n",
            "날씨:  맑음\n",
            "최저기온:  18\n",
            "최고기온:  25\n",
            "\n"
          ]
        }
      ]
    },
    {
      "cell_type": "markdown",
      "source": [
        "### Flask 모듈\n",
        "\n",
        "- Django: 다양한 기능을 제공하는 웹 개발 프레임워크\n",
        "- Flask: 작은 기능만 제공하는 웹 개발 프레임워크"
      ],
      "metadata": {
        "id": "5Ch3te0J0xpK"
      }
    },
    {
      "cell_type": "code",
      "source": [
        "!pip install flask"
      ],
      "metadata": {
        "colab": {
          "base_uri": "https://localhost:8080/"
        },
        "id": "ezmKpQ7Uy4S0",
        "outputId": "92fe418c-841d-4493-91a8-7132ac26ec27"
      },
      "execution_count": 7,
      "outputs": [
        {
          "output_type": "stream",
          "name": "stdout",
          "text": [
            "Requirement already satisfied: flask in /usr/local/lib/python3.10/dist-packages (2.2.5)\n",
            "Requirement already satisfied: Werkzeug>=2.2.2 in /usr/local/lib/python3.10/dist-packages (from flask) (2.3.7)\n",
            "Requirement already satisfied: Jinja2>=3.0 in /usr/local/lib/python3.10/dist-packages (from flask) (3.1.2)\n",
            "Requirement already satisfied: itsdangerous>=2.0 in /usr/local/lib/python3.10/dist-packages (from flask) (2.1.2)\n",
            "Requirement already satisfied: click>=8.0 in /usr/local/lib/python3.10/dist-packages (from flask) (8.1.7)\n",
            "Requirement already satisfied: MarkupSafe>=2.0 in /usr/local/lib/python3.10/dist-packages (from Jinja2>=3.0->flask) (2.1.3)\n"
          ]
        }
      ]
    },
    {
      "cell_type": "code",
      "source": [
        " !pip install flask-ngrok"
      ],
      "metadata": {
        "colab": {
          "base_uri": "https://localhost:8080/"
        },
        "id": "hDkco0Ba4v_a",
        "outputId": "1590d236-366f-4976-f9cd-4287d741a1ac"
      },
      "execution_count": 14,
      "outputs": [
        {
          "output_type": "stream",
          "name": "stdout",
          "text": [
            "Collecting flask-ngrok\n",
            "  Downloading flask_ngrok-0.0.25-py3-none-any.whl (3.1 kB)\n",
            "Requirement already satisfied: Flask>=0.8 in /usr/local/lib/python3.10/dist-packages (from flask-ngrok) (2.2.5)\n",
            "Requirement already satisfied: requests in /usr/local/lib/python3.10/dist-packages (from flask-ngrok) (2.31.0)\n",
            "Requirement already satisfied: Werkzeug>=2.2.2 in /usr/local/lib/python3.10/dist-packages (from Flask>=0.8->flask-ngrok) (2.3.7)\n",
            "Requirement already satisfied: Jinja2>=3.0 in /usr/local/lib/python3.10/dist-packages (from Flask>=0.8->flask-ngrok) (3.1.2)\n",
            "Requirement already satisfied: itsdangerous>=2.0 in /usr/local/lib/python3.10/dist-packages (from Flask>=0.8->flask-ngrok) (2.1.2)\n",
            "Requirement already satisfied: click>=8.0 in /usr/local/lib/python3.10/dist-packages (from Flask>=0.8->flask-ngrok) (8.1.7)\n",
            "Requirement already satisfied: charset-normalizer<4,>=2 in /usr/local/lib/python3.10/dist-packages (from requests->flask-ngrok) (3.2.0)\n",
            "Requirement already satisfied: idna<4,>=2.5 in /usr/local/lib/python3.10/dist-packages (from requests->flask-ngrok) (3.4)\n",
            "Requirement already satisfied: urllib3<3,>=1.21.1 in /usr/local/lib/python3.10/dist-packages (from requests->flask-ngrok) (2.0.4)\n",
            "Requirement already satisfied: certifi>=2017.4.17 in /usr/local/lib/python3.10/dist-packages (from requests->flask-ngrok) (2023.7.22)\n",
            "Requirement already satisfied: MarkupSafe>=2.0 in /usr/local/lib/python3.10/dist-packages (from Jinja2>=3.0->Flask>=0.8->flask-ngrok) (2.1.3)\n",
            "Installing collected packages: flask-ngrok\n",
            "Successfully installed flask-ngrok-0.0.25\n"
          ]
        }
      ]
    },
    {
      "cell_type": "code",
      "source": [
        "from flask import Flask\n",
        "from flask_ngrok import run_with_ngrok\n",
        "\n",
        "app = Flask(__name__)\n",
        "run_with_ngrok(app)\n",
        "\n",
        "@app.route('/') # 데코레이터\n",
        "def hello():\n",
        "\n",
        "    # urlopen() 함수로 기상청의 전국 날씨 읽기\n",
        "    target = request.urlopen(\"http://www.kma.go.kr/weather/forecast/mid-term-rss3.jsp?stnId=108\")\n",
        "\n",
        "    # BeautifulSoup 사용해 웹 페이지 분석\n",
        "    soup = BeautifulSoup(target, \"html.parser\")\n",
        "\n",
        "    # location 태그 찾기\n",
        "    output = \"\"\n",
        "    for location in soup.select(\"location\"):\n",
        "        # 내부의 city, wf, tmn, tmx 태그 찾아 출력\n",
        "        output += \"<h3>{}</h3>\".format(location.select_one(\"city\").string)\n",
        "        output += \"날씨: {}<br/>\".format(location.select_one(\"wf\").string)\n",
        "        output += \"최저/최고 기온: {}/{}\"\\\n",
        "                    .format(location.select_one(\"tmn\").string,\\\n",
        "                            location.select_one(\"tmx\").string)\n",
        "        output += \"<hr/>\"\n",
        "    return output"
      ],
      "metadata": {
        "id": "L9yDCdog07u1"
      },
      "execution_count": 18,
      "outputs": []
    },
    {
      "cell_type": "code",
      "source": [
        "if __name__ == '__main__':\n",
        "     app.run()"
      ],
      "metadata": {
        "colab": {
          "base_uri": "https://localhost:8080/"
        },
        "id": "SF5Kp5pA7SUD",
        "outputId": "f476980d-01bf-4d05-dcb7-22b718abef1d"
      },
      "execution_count": 19,
      "outputs": [
        {
          "output_type": "stream",
          "name": "stdout",
          "text": [
            " * Serving Flask app '__main__'\n",
            " * Debug mode: off\n"
          ]
        },
        {
          "output_type": "stream",
          "name": "stderr",
          "text": [
            "INFO:werkzeug:\u001b[31m\u001b[1mWARNING: This is a development server. Do not use it in a production deployment. Use a production WSGI server instead.\u001b[0m\n",
            " * Running on http://127.0.0.1:5000\n",
            "INFO:werkzeug:\u001b[33mPress CTRL+C to quit\u001b[0m\n"
          ]
        },
        {
          "output_type": "stream",
          "name": "stdout",
          "text": [
            " * Running on http://429b-34-32-183-114.ngrok.io\n",
            " * Traffic stats available on http://127.0.0.1:4040\n"
          ]
        },
        {
          "output_type": "stream",
          "name": "stderr",
          "text": [
            "/usr/local/lib/python3.10/dist-packages/bs4/builder/__init__.py:545: XMLParsedAsHTMLWarning: It looks like you're parsing an XML document using an HTML parser. If this really is an HTML document (maybe it's XHTML?), you can ignore or filter this warning. If it's XML, you should know that using an XML parser will be more reliable. To parse this document as XML, make sure you have the lxml package installed, and pass the keyword argument `features=\"xml\"` into the BeautifulSoup constructor.\n",
            "  warnings.warn(\n",
            "INFO:werkzeug:127.0.0.1 - - [29/Sep/2023 03:13:54] \"GET / HTTP/1.1\" 200 -\n",
            "INFO:werkzeug:127.0.0.1 - - [29/Sep/2023 03:13:55] \"\u001b[33mGET /favicon.ico HTTP/1.1\u001b[0m\" 404 -\n",
            "INFO:werkzeug:127.0.0.1 - - [29/Sep/2023 03:16:33] \"GET / HTTP/1.1\" 200 -\n",
            "INFO:werkzeug:127.0.0.1 - - [29/Sep/2023 03:16:34] \"\u001b[33mGET /favicon.ico HTTP/1.1\u001b[0m\" 404 -\n",
            "INFO:werkzeug:127.0.0.1 - - [29/Sep/2023 03:19:54] \"GET / HTTP/1.1\" 200 -\n",
            "INFO:werkzeug:127.0.0.1 - - [29/Sep/2023 03:19:55] \"\u001b[33mGET /favicon.ico HTTP/1.1\u001b[0m\" 404 -\n"
          ]
        }
      ]
    },
    {
      "cell_type": "code",
      "source": [
        "!pip install kora\n",
        "from kora import console\n",
        "console.start()  # and click link"
      ],
      "metadata": {
        "id": "n_SdI20M1NVO"
      },
      "execution_count": null,
      "outputs": []
    },
    {
      "cell_type": "code",
      "source": [
        "# colab 에서의 flask 실행 pass"
      ],
      "metadata": {
        "id": "FgotJZqj3GZN"
      },
      "execution_count": 21,
      "outputs": []
    },
    {
      "cell_type": "markdown",
      "source": [
        "### 함수 데코레이터\n",
        "\n",
        "- 대상 함수의 앞뒤에 꾸밀 부가적인 내용, 혹은 반복할 내용을 데코레이터로 정의해 손쉽게 사용할 수 있도록 한 것"
      ],
      "metadata": {
        "id": "qEhzdLd5-tsy"
      }
    },
    {
      "cell_type": "code",
      "source": [
        "def test(function):\n",
        "    def wrapper():\n",
        "        print(\"인사가 시작되었습니다.\")\n",
        "        function()\n",
        "        print(\"인사가 종료되었습니다.\")\n",
        "    return wrapper\n",
        "\n",
        "# 데코레이터 붙여 함수 만들기\n",
        "@test\n",
        "def hello():\n",
        "    print(\"hello\")\n",
        "\n",
        "hello()"
      ],
      "metadata": {
        "colab": {
          "base_uri": "https://localhost:8080/"
        },
        "id": "OobV6uxw6Gwo",
        "outputId": "9d245b09-d5e0-4065-a1bb-625e28afde14"
      },
      "execution_count": 22,
      "outputs": [
        {
          "output_type": "stream",
          "name": "stdout",
          "text": [
            "인사가 시작되었습니다.\n",
            "hello\n",
            "인사가 종료되었습니다.\n"
          ]
        }
      ]
    },
    {
      "cell_type": "code",
      "source": [
        "from functools import wraps\n",
        "\n",
        "# 함수로 데코레이터 생성\n",
        "def test1(function):\n",
        "    @wraps(function)\n",
        "    def wrapper(*arg, **kwargs):        # 가변 매개변수와 키워드 가변 매개변수 사용\n",
        "        print(\"인사가 시작되었습니다.\")\n",
        "        function(*arg, **kwargs)\n",
        "        print(\"인사가 종료되었습니다.\")\n",
        "    return wrapper"
      ],
      "metadata": {
        "id": "T0h3I0dQ_Lh7"
      },
      "execution_count": 26,
      "outputs": []
    },
    {
      "cell_type": "code",
      "source": [
        "@test1\n",
        "def hello2():\n",
        "    print(\"hello\")\n",
        "\n",
        "hello2()"
      ],
      "metadata": {
        "colab": {
          "base_uri": "https://localhost:8080/"
        },
        "id": "aiENWrSF_skx",
        "outputId": "556b6a9b-89ff-4c86-8599-7c149a137df5"
      },
      "execution_count": 27,
      "outputs": [
        {
          "output_type": "stream",
          "name": "stdout",
          "text": [
            "인사가 시작되었습니다.\n",
            "hello\n",
            "인사가 종료되었습니다.\n"
          ]
        }
      ]
    },
    {
      "cell_type": "markdown",
      "source": [
        "## 07-3. 모듈 만들기"
      ],
      "metadata": {
        "id": "swTtlmNvAG08"
      }
    },
    {
      "cell_type": "markdown",
      "source": [
        "### 모듈 만들기"
      ],
      "metadata": {
        "id": "NmFo9JCcJHV3"
      }
    },
    {
      "cell_type": "markdown",
      "source": [
        "```python\n",
        "# test_module.py\n",
        "PI = 3.141592\n",
        "\n",
        "def number_input():\n",
        "    output = input(\"숫자 입력> \")\n",
        "    return float(output)\n",
        "\n",
        "def get_circumference(radius):\n",
        "    return 2 * PI * radius\n",
        "\n",
        "def get_circle_area(radius):\n",
        "    return PI * radius * radius\n",
        "```"
      ],
      "metadata": {
        "id": "6sM9Yk_kfM2D"
      }
    },
    {
      "cell_type": "code",
      "source": [
        "import test_module as test"
      ],
      "metadata": {
        "id": "wknHW81n_znI"
      },
      "execution_count": 30,
      "outputs": []
    },
    {
      "cell_type": "code",
      "source": [
        "radius = test.number_input()\n",
        "\n",
        "print(test.get_circumference(radius))\n",
        "print(test.get_circle_area(radius))"
      ],
      "metadata": {
        "colab": {
          "base_uri": "https://localhost:8080/"
        },
        "id": "jDuYO2dBIve8",
        "outputId": "dd4995d5-7c1a-4894-d182-a124844942fc"
      },
      "execution_count": 31,
      "outputs": [
        {
          "output_type": "stream",
          "name": "stdout",
          "text": [
            "숫자 입력> 10\n",
            "62.83184\n",
            "314.1592\n"
          ]
        }
      ]
    },
    {
      "cell_type": "markdown",
      "source": [
        "### \\_\\_name\\_\\_ == \"\\_\\_main\\_\\_\" 의 의미"
      ],
      "metadata": {
        "id": "VqVeuxrlJLad"
      }
    },
    {
      "cell_type": "markdown",
      "source": [
        "#### \\_\\_name\\_\\_\n",
        "\n",
        "- 엔트리 포인트(entry point) or main: 프로그램의 진입점\n",
        "- 이 엔트리 포인트 또는 메인 내부에서의 \\_\\_name\\_\\_은 \"\\_\\_main\\_\\_\""
      ],
      "metadata": {
        "id": "SSo52Xg9JYyM"
      }
    },
    {
      "cell_type": "code",
      "source": [
        "__name__"
      ],
      "metadata": {
        "colab": {
          "base_uri": "https://localhost:8080/",
          "height": 35
        },
        "id": "pkbMJ0sjJDdC",
        "outputId": "09fbd2ed-879b-4302-8e3e-43e0330c8a16"
      },
      "execution_count": 33,
      "outputs": [
        {
          "output_type": "execute_result",
          "data": {
            "text/plain": [
              "'__main__'"
            ],
            "application/vnd.google.colaboratory.intrinsic+json": {
              "type": "string"
            }
          },
          "metadata": {},
          "execution_count": 33
        }
      ]
    },
    {
      "cell_type": "markdown",
      "source": [
        "#### 모듈의 \\_\\_name\\_\\_\n",
        "\n",
        "- 엔트리 포인트가 아니지만 엔트리 포인트 파일 내에서 import 되었기 때문에 모듈 내 코드가 실행됨\n",
        "- 모듈 내부에서 \\_\\_name\\_\\_을 출력하면 모듈의 이름을 나타냄"
      ],
      "metadata": {
        "id": "60XfxdnVJ1n3"
      }
    },
    {
      "cell_type": "code",
      "source": [
        "import test_module\n",
        "\n",
        "print(\"# 메인의 __name__ 출력하기\")\n",
        "print(__name__)"
      ],
      "metadata": {
        "colab": {
          "base_uri": "https://localhost:8080/"
        },
        "id": "TuDzMuVFJh6c",
        "outputId": "5b948044-adad-40b4-c77e-ca02a7a7f062"
      },
      "execution_count": 40,
      "outputs": [
        {
          "output_type": "stream",
          "name": "stdout",
          "text": [
            "# 메인의 __name__ 출력하기\n",
            "__main__\n"
          ]
        }
      ]
    },
    {
      "cell_type": "code",
      "source": [
        "test_module.__name__"
      ],
      "metadata": {
        "colab": {
          "base_uri": "https://localhost:8080/",
          "height": 35
        },
        "id": "bp9wC-RCKHJq",
        "outputId": "21604aef-a229-4da0-8971-c2c194deb525"
      },
      "execution_count": 41,
      "outputs": [
        {
          "output_type": "execute_result",
          "data": {
            "text/plain": [
              "'test_module'"
            ],
            "application/vnd.google.colaboratory.intrinsic+json": {
              "type": "string"
            }
          },
          "metadata": {},
          "execution_count": 41
        }
      ]
    },
    {
      "cell_type": "markdown",
      "source": [
        "#### \\_\\_name\\_\\_ 활용하기\n",
        "\n",
        "- 엔트리 포인트 파일 내부에서는 \\_\\_name\\_\\_ 이 \"\"\\_\\_main\\_\\_\" 이라는 값을 가짐\n",
        "- 이를 활용해 현재 파일이 모듈로 실행되는지, 엔트리 포인트로 실행되는지 확인 가능"
      ],
      "metadata": {
        "id": "mWSjDjJWLZYC"
      }
    },
    {
      "cell_type": "code",
      "source": [
        "import test_module_1 as test\n",
        "\n",
        "radius = test.number_input()\n",
        "print(test.get_circumference(radius))\n",
        "print(test.get_circle_area(radius))"
      ],
      "metadata": {
        "colab": {
          "base_uri": "https://localhost:8080/"
        },
        "id": "TMMOHjZuLVNt",
        "outputId": "64ab48fe-67da-44f6-827c-667c7e9ccd91"
      },
      "execution_count": 42,
      "outputs": [
        {
          "output_type": "stream",
          "name": "stdout",
          "text": [
            "get_circumference(10):  62.83184\n",
            "get_circle_area(10):  314.1592\n",
            "숫자 입력> 10\n",
            "62.83184\n",
            "314.1592\n"
          ]
        }
      ]
    },
    {
      "cell_type": "markdown",
      "source": [
        "엔트리 포인트 확인 모듈 만들기\n",
        "\n",
        "```python\n",
        "# test_module_1.py\n",
        "PI = 3.141592\n",
        "\n",
        "def number_input():\n",
        "    output = input(\"숫자 입력> \")\n",
        "    return float(output)\n",
        "\n",
        "def get_circumference(radius):\n",
        "    return 2 * PI * radius\n",
        "\n",
        "def get_circle_area(radius):\n",
        "    return PI * radius * radius\n",
        "\n",
        "# 활용 예: 현재 파일이 엔트리 포인트인지 확인 후, 엔트리 포인트일 때만 실행\n",
        "if __name == \"__main__\":\n",
        "    print(\"get_circumference(10): \", get_circumference(10))\n",
        "    print(\"get_circle_area(10): \", get_circle_area(10))\n",
        "```"
      ],
      "metadata": {
        "id": "j6ixvMRgMS3g"
      }
    },
    {
      "cell_type": "markdown",
      "source": [
        "### 패키지\n",
        "- 모듈이 모여서 구조를 이룬 게 패키지!"
      ],
      "metadata": {
        "id": "1wy6qxT2fzeA"
      }
    },
    {
      "cell_type": "markdown",
      "source": [
        "#### 패키지 만들기 (1)\n",
        "\n",
        "```python\n",
        "# ./test_package/module_a.py\n",
        "variable_a = \"a 모듈의 변수\"\n",
        "```\n",
        "\n",
        "```python\n",
        "# ./test_package/module_b.py\n",
        "variable_b = \"b 모듈의 변수\"\n",
        "```"
      ],
      "metadata": {
        "id": "HKMHJrhDgJzu"
      }
    },
    {
      "cell_type": "code",
      "source": [
        "import test_package.module_a as a\n",
        "import test_package.module_b as b\n",
        "\n",
        "print(a.variable_a)\n",
        "print(b.variable_b)"
      ],
      "metadata": {
        "colab": {
          "base_uri": "https://localhost:8080/"
        },
        "id": "rbccs1oFMM-S",
        "outputId": "90e4e5db-b47b-4fbe-f1b5-05cb9ee1d60f"
      },
      "execution_count": 48,
      "outputs": [
        {
          "output_type": "stream",
          "name": "stdout",
          "text": [
            "a 모듈의 변수\n",
            "b 모듈의 변수\n"
          ]
        }
      ]
    },
    {
      "cell_type": "markdown",
      "source": [
        "### \\_\\_init\\_\\_.py 파일\n",
        "\n",
        "- 패키지를 읽을 때 어떤 처리를 수행해야 하거나 패키지 내부의 모듈들을 한꺼번에 가져오고 싶을 때 패키지 폴더 내부에 \\_\\_init\\_\\_.py 파일 만들어 사용\n",
        "- 해당 폴더가 패키지임을 알려주고, 패키지와 관련된 초기화 처리를 하는 파일\n",
        "- 해당 파일에 \\_\\_all\\_\\_이라는 이름의 리스트를 생성하는데, 이 리스트에 지정한 모듈들이 from <패키지 이름> import * 를 할 때 전부 읽어 들여짐"
      ],
      "metadata": {
        "id": "ntdFUH-7gsIH"
      }
    },
    {
      "cell_type": "markdown",
      "source": [
        "#### 패키지 만들기 (2)\n",
        "\n",
        "```python\n",
        "# ./test_package/__init__.py\n",
        "\n",
        "# \"from test_package import *\"로 모듈 읽어들일 때 가져올 모듈\n",
        "__all__ = [\"module_a\", \"module_b\"] # * 사용 시 읽어들일 모듈 목록\n",
        "\n",
        "# 패키지를 읽어들일 때 처리 작성도 가능\n",
        "print(\"test_package를 읽어 들였습니다.\")\n",
        "```"
      ],
      "metadata": {
        "id": "559qZva0hPz9"
      }
    },
    {
      "cell_type": "code",
      "source": [
        "from test_package import *\n",
        "\n",
        "print(a.variable_a)\n",
        "print(b.variable_b)"
      ],
      "metadata": {
        "colab": {
          "base_uri": "https://localhost:8080/"
        },
        "id": "jQEwFtc-go9j",
        "outputId": "da499a56-51e6-4df2-ffa1-dd91afc4cfad"
      },
      "execution_count": 49,
      "outputs": [
        {
          "output_type": "stream",
          "name": "stdout",
          "text": [
            "a 모듈의 변수\n",
            "b 모듈의 변수\n"
          ]
        }
      ]
    },
    {
      "cell_type": "markdown",
      "source": [
        "python 3.3  이전 버전에서는 \\_\\_init\\_\\_.py 파일이 무조건 있어야 패키지로 작동했지만, 이후 버전에서는 \\_\\_init\\_\\_.py 파일이 없어도 폴더 내부에 파이썬 파일이 들어 있기만 하면 패키지로 작동"
      ],
      "metadata": {
        "id": "qsFLjbSEiYrg"
      }
    },
    {
      "cell_type": "markdown",
      "source": [
        "### 인터넷 이미지 저장"
      ],
      "metadata": {
        "id": "wTVITS6kkBCz"
      }
    },
    {
      "cell_type": "code",
      "source": [
        "from urllib import request\n",
        "\n",
        "target = request.urlopen(\"https://www.hanbit.co.kr/images/common/logo_hanbit.png\")\n",
        "output = target.read()\n",
        "print(output)\n",
        "\n",
        "# write binary[바이너리 쓰기] 모드로\n",
        "file = open(\"output.png\", \"wb\")  # 단순 \"w\"의 경우, str을 넣기 때문에 error\n",
        "file.write(output)\n",
        "file.close()"
      ],
      "metadata": {
        "colab": {
          "base_uri": "https://localhost:8080/"
        },
        "id": "veWgOUc4h2mi",
        "outputId": "d4afe5c7-c391-43ea-a09f-611042800012"
      },
      "execution_count": 52,
      "outputs": [
        {
          "output_type": "stream",
          "name": "stdout",
          "text": [
            "b'\\x89PNG\\r\\n\\x1a\\n\\x00\\x00\\x00\\rIHDR\\x00\\x00\\x01\\x04\\x00\\x00\\x00,\\x08\\x06\\x00\\x00\\x00\\x83\\x80\\xc6\\xe5\\x00\\x00\\x00\\x19tEXtSoftware\\x00Adobe ImageReadyq\\xc9e<\\x00\\x00\\x0f/IDATx\\xda\\xec]\\ttU\\xc5\\x19\\xfe\\xb3\\x11 D\\x11\\x13\\x0cF\\x08\\x11\\x14KEA\\xf6M\\xd0\\xd6\\xa3\\xb8\\xe1\\x12W\\x8a\\xa8\\xc7R\\xac\\xb5`\\x05\\xad\\xed\\xa9\\xbbb\\x17\\n\\xd4\\xa5Pj\\x05\\x11+4*\\n\\x15\\xc4\\xca\\xa2\\xf6\\x00Q\\x9b`+\\xa2\\xa0$\\x10%l\\x91%\\t!\\x81\\xd0\\xff\\xcb\\xfb\\x9f\\x99\\xdc\\xdc\\xfb\\xee\\xf2\\xeeM^\\xc2\\xfc\\xe7\\xcc\\xbb\\xef\\xbe\\x99;3w\\x96o\\xfem\\xe6\\xc5\\x1d;v\\x8c4i\\xd2\\xa4\\t\\x94\\x88\\x8f\\xb8\\xb88O\\x0fg,\\x9a\\x93\\xc4\\x97\\x81\\x1cFr\\xe8\\xcb\\xe1L\\x0e\\x99\\x1cN\\x94$U\\x1c\\xf6s\\xd8\\xcc\\xe13\\x0e\\x1fpXUr\\xfd\\x8f\\x8bt\\xd3k\\xd2\\x14[\\x04\\xe6 \\xae\\xf6\\xc3% 0\\x10\\xf4\\xe4\\xcb\\x04\\x0e7rH\\xf7P\\xf6z\\x0e\\xf38\\xccep8\\xa4\\xbbB\\x93\\xa6f\\x08\\x08\\x0c\\x04g\\xf1e*\\x87\\xd1`,|\\xa8\\xc3^\\x0e\\xbf\\xe30\\x93\\x81\\xe1\\xb0\\xee\\x12M\\x9a\\x9a\\x01 0\\x10\\xb4\\xe2\\xcb\\xc3\\x1c&sH\\n\\xa0.[8\\xdc\\xc1\\xa0\\xb0Fw\\x8b&M1\\x0c\\x08\\x0c\\x06\\xd9|Y\\xc8\\xa1\\x7f\\xc0\\xf5\\xa9\\xe1\\xf0\\x18\\x87G\\x18\\x18\\xb4\\xa6S\\x93\\xa6X\\x03\\x04\\x06\\x83\\xf3\\xf8\\xb2\\x8cC\\xc7F\\xac\\xd7\"\\x0ec\\x19\\x14\\xaat\\x17i\\xd2\\x14#\\x80\\xc0`\\x00\\xab\\xc1J\\x0e\\'4A\\xdd\\xfe\\xc9\\xe1\\x1a\\r\\n\\x9a45. $Zp\\x06\\xdd\\xf9\\xb2\\xbc\\x89\\xc0\\x00t\\x19\\x87\\xbfr\\xb8\\xc5\\x8f\\xcc\\xbaeu\\xfd\\x03_r\\xe4\\xf6\\xd2/\\x8b\\n7\\xb6\\xb4\\xce\\xe4w\\xfc$\\xdc_\\xfc~]\\xf5\\xf0\\xd6\\xe4\\x85\\x12M\\xc0\\xa05_r9\\xa45q\\xdd\\xc6r]\\xf2\\x98Kx\\xc6\\x87\\xbc\\xf0.Y\\xf2\\xbd\\x95\\xc3\\t\\xb6\\x9a/#\\xe4\\xf6$\\x9ed\\xfb\\x0c\\xf1\\x88\\xeb#\\xb7\\xb9\\x1c_l\\x91O\\x1f%\\x9f\\x15f`\\xc4i\\x907|7\\x8a\\xa2\\x98\\xcc]\\xa8\\xce\\xff\\xc3\\x0b\\xa0$\\xf3\\xe5N\\x0f\\x8f\\xe6s\\x9d\\xd7\\x18\\xf2\\n\\xeb\\x806p\\\\o\\x93\\xb2\\xc6\\x90\\x98\\xab9~\\x86\\x83\\xba\\x01\\xe8>\\x91\\xdbu\\xfc\\xcc\\x8d\\xf2;\\xf2\\xce\\x97\\xdf\\xe7\\xf1\\xef\\xb7\\x1a\\x9e\\xeb\\xc6\\x97+\\x02\\x18\\x9b\\x7f\\xe3\\xb2\\x0eX\\xd4\\xb5-_\\xc6Q\\xc8\\x12w\\x8e\\xf4I\\x19\\x85\\xfcp ~\\xcf\\xe1gK#\\xbc\\xebby\\x16\\x94\\xcdi\\x0b\\xad\\xda\\xceG\\xfa\\x92\\xcbYb\\n\\x08\\x142+\\x9e\\x1b#\\x805\\x8dAa%\\x83\\xc2F\\x87\\x83:\\x85\\xcc\\xad *\\x08\\xa4r\\xba\\xf6&i*\\xb9Q*]\\xd4\\xedj\\x0e\\x13\\xe5{\\x01\\x87b\\x8bt\\x00\\x83\\xe9\\xf2\\xfd6\\x0e\\x1b]N\\xd4T\\xbe\\xbc\\xef i\\xaa\\xf2L\\x81\\x83\\xf4\\x0f\\xf2\\xfb\\xbe\\xa9\\xdc\\xb7Q\\xea\\xe9\\x86frpk\\x1d\\x9a\\xa2\\x8c\\xb1\\x19\\x0e\\xd2\\xc7+\\x80^\\xe8\\xa2\\x9c^\\x1e\\xdf\\xc9\\x8e0i\\x0f\\x98\\xf4\\xd5p\\xbe\\xfc\\x9dB\\xcey*\\x01$:\\xcaXx\\x80\\xd3\\x8d\\xe7\\xb6_\\xe4\\xb1\\xec)\\x01\\xcc\\xcf784\\x04\\x04\\x9e|X\\xcd\\xee\\x8e\\xf4\\xe4\\x80\\xb4\\x0c\\x1a\\x95\\x99E\\xfb\\xab\\xaa\\xe8\\xa5\\xaf6\\xd1\\x9e\\xc3!\\xbf\"h!\\xae\\xea\\xd2\\x8d\\xfatH\\xa7\\xa2\\xb2\\x834\\x9f\\xe3\\xaaj\\x8eRZr\\x1bj\\x93h*\\x99\\xd0\\x91\\x9a\\x1a\\xdaYYA5\\xd6\\xee\\xd3\\x98\\xc8\\xb3\\xb8^#\\x1cZ\\x1e\\x16(\\xe8jE\\xefY\\xfc\\xfe\\x08\\x85L\\xab\\xb1F\\t\\x1e\\x06\\x80\\x93\\xf4\\x1d4\\x83\\xec\\xab\\xc8\\x06+\\xdc\\xdb\\x02\\xac \\xf8\\xd5\\xac\\xe5\\xb0]V\\xf4a\\x1c\\xda\\t\\xc7\\xb0\\x90\\xd3\\xc71(,\\x8cu\\x91a\\xaa\\x0c@S\\xba\\x84\\x81\\xe0\\x85!\\x17}w\\x7fs\\xf6\\x99t\\xc1\\x8a\\xd7\\xa8\\xfcH5\\xdd\\x7fv?\\x9a\\xf8\\xbd:\\xeepDF&\\xdd\\xf2\\xc1\\n:z\\xac\\x86\\xa6\\xf7;\\x9f\\x86v\\xecd\\x9agQ\\xf9A\\xfa\\xc9\\xdawi\\xc3\\xb7{\\xac\\x8a\\x1d.\\x93|\\xf1q:\\xd6\\x8e\\x82\\xf5v2&e\\xc0\\x81\\xaa\\x1dp\"F\\xb6\\xb5\\\\\\xb8\\x1e\\xd7\\xecf3iGL\\xbeW|\\xcak\\x97\\x01\\x0c\\xc0\\xc1<\\xaf\\x80\\x01\\x80\\xe16\\x9e\\xf0;\\x944\\xed\\x85\\x1b\\x1a\\'?=\\xcd\\xbf-\\xb3\\x12=\"\\xd0=\\xd1\\x88\\x86\\n\\x81c\\x99m\\t\\x08\\xbc\\ncO\\xc2\\xc5\\x91r\\xb8\\xa9k\\x8fz\\xf7\\x9dSRiHz\\x06\\xbd\\xb3c;\\xdd\\x94]?\\xee\\xa2N]j\\xb9\\x03p\\x10\\xe3\\xd7\\xbdKkG]O\\'$5\\x14\\xdf\\xb38\\x8f\\xf9\\xc3.\\xa6a\\xcb\\xffA\\x07\\xaa-\\x8d\\n\\x0f8\\x04\\x84%.YJ\\x95\\xd6E\\xd1\\xb8\\xafp\\xe7Z\\x89\\x1bQ)fy\\xc0\\x1c\\xe4K\\xef\\x08+\\x13D\\xa4_A\\x04P\\x81\\x9d\\x9f{\\xc8e9\\xd5-\\x1ct7\\xf1;\\x06\\xf5~\\xc3D<\\x01}\\x0e`\\xe5\\xb2\\x0e\\x19\\xdaw\\x1f\\xf7\\xd5\\xed\\xa2\\xeb\\xb9@\\xb8\\x86\\xeb\\x04H\\xdc\\xf4\\xd3*\\x9f8\\x9a\\xaev\\x1c\\xc2\\x04[!5\\xa9\\xa1x\\x9e\\x10\\x1f_{m\\x9d\\xd0\\x90\\xb1\\xa8\\x15\\x15\\x98q*=\\\\I\\xb9E[\\xe8\\xf6\\xee=M\\xf3Mo\\xdd\\x86\\xb9\\x8d\\x1e4\\xeb\\x8b\\xffZJ*0\\x83\\xb2\\xd8\\xf0\\xb1Mc=o\\xf1\\xf2\\xf1\\xc2\"Wp\\x9a\\x8a\\x00\\x06\\xc4)M\\xc0\\xa2\\xe2\\x9d\\xae\\xe4\\xf08\\x87\\xef\\x1b\\xa2\\x7f\\xcd\\xf1p(\\x9b\\xc9\\xef\\xfb\\xb1\\xcb|\\xbf\\xe1\\x0b\\xd8\\xb9\\xdd\\xfclG\\x93\\xf8G\\xf9\\xf2\\x1b\\xb9\\xbd2\\xac\\x8c:\\xcei\\x84\\xf2}\\xba\\x11\\x0c\\x94\\xf1Y\\xc3\\xed\\xf7\\xa4\\x00B\\x98\\xfb}>\\x96^$Q\\xb8\\x03\\xb0:9A\\x16\\x94\\xb7\\xa7\\xc4\\x12\\x10@C;\\x9e\\x1a\\t\\x10@c9\\xb8\\x1d\\xdcW\\x89N\\x04\\r\\x9f$\\xbfm\\xa3\\x90\\x15\\xe5\\xf7\\xdcA%>\\xbd\\x1eX\\xfa}\\x16q\\xa7\\t;\\xef\\x07\\x08\\x00u\\x07@z\\x93\\xf6\\xc8V\\xa2\\xb7r\\xf8HV\\x9d\\x04\\x89\\x1f\\xcb\\xcf|\\xc1\\xd7\\xb7\\x84\\x03\\x82F~\\x0b\\x06f\\x84b\\xb6\\x0b \\xa4\\xc3\\xf2\\xc0i\\x8d{LT\\xeb\\xd3\\x1e\\x8d\\x05\\xa15M\\xf9n\\'\\xaa}j\\xf1\\\\L\\xe9\\x10\\xceW\\xe4\\xcf@hwe\\xe4M\\x8d\\xa7\\xb4nc\\x97\\xc5\\xe5\\x1c&9\\x9c8\\x90M^\\xe4p\\x83I4X\\xb6_@\\xc6\\xe3t\\xd7\\xfa\\xc4\\x82M\\xe2|V[\\xd4\\x05u\\x9e\\x1e\\x05\\x08\\xdc, \\x80\\xad\\xe5\\x03\\xa9\\xa12\\xb0Rd\\xd3\\'\\xb8\\x0ee\\x9c~\\x10\\x7f\\xbf_\\xb8\\x87xy\\xeeL5=\\xa7\\x01\\x10\\x82\\x13\\xb8\\xc2\\xc4\\x04\\xb6C\\xf9\\xde\\xc9D\\x04k\\xae\\x80\\xd0\\xda\\xc2\\xba\\xe4\\x85\\x0e\\x18@\\xb5\\xcc\\xa2}\\xec\\xb8\\xc9\\x83\\xb1\\n\\x08\\x17\\x06]PjRd\\xf3\\x7fi\\x95\\xedf\\xc7n\\xcc\\xc9d\\xb2\\xd8\\xf0\\xb5\\x83\\xe2\\xa6)`\\x00e\\xd9K\\x82\\xdc\\x00\\xbd\\xd12\\xc1N\\x82\\xcc\\x0c[6w\\xeeV\\x9b\\xfc\\xa6r\\xbap\\x05\\xf38\\xfd\\xcb\\x8d\\xd8G\\x00\\xb0\\x89&\\xbf\\xe3L\\tl!\\x7f\\x96\\xeb\\xb3KaK\\xc1\\t\\\\\\xcd\\xf5=M\\xda\\x00\\xc0\\xd0_Qx\\xc1\\xcf\\x04\\xf2\\xe3J\\x0b{\\xf87\\xca\\xf7SM\\x00A]\\xd5v\\xdb\\xd4\\xbd\\'\\xd7C}~2\\x97\\x99\\xdbDc\\xfd~\\t~P\\xb6\\xa1]T\\xd6\\x16~\\x02\\xafGx\\xf6&\\x17\\xdcD\\x93\\x01\\xc29A\\x17\\x04sd$*(\\xdd\\xed(\\x1b\\x0e_\\xdb\\xac\\xa8\\xa7S\\x9d\\x83\\r4\\xb8\\x83Ug \\x8e\\x87%\\xe5i\\x0ewQH\\xe1\\x07s\\xa3\\x9dG\\xa4\\xaa_\\xc1$lL@xF\\x00\\x01\\xab\\xc9&\\n\\x99M\\xe1\\xe0\\xf4\\x89\\x8d>\\xa5X\\x80q\\x1a\\xbf3\\xfa\\x19\\x8a\\xc9sE\\x84\\xc9\\x14\\xdd\\x83\\x19\\x15\\x1b\\xc4\\x1d#\\x85\\xf5\\n\\xd5Fg-\\x13\\x82\\x98\\x96\\xa5\\xdc\\xb7\\xa3\\x96Io\\xc9X\\xc3x\\xba\\x96\\xdb{\"\\xb7\\xcdL\\x0b\\x11\\xf6^\\xb9\\x85\\x19}Q\\xac\\x02\\xc2YA\\x16\\xd2*>\\x81\\xae\\xcb:\\xc32\\x1e\\xfe\\n/o\\xfd\\xdcIV0e,\\xb5Is\\x19\\xd5\\x99N\\xa7\\x19=\\x03\\xf9\\xfe\\x18w\\xcc\\x14Aj\\xb0\\xdf\\xa3\\xc5&\\x1c\\xcd\\x0e\\xcb[9\\x8f\\x91\\x16q\\x83\\xa2\\x10\\x17\\xd2e\\xf2\\x8e2D\\xc5\\x8b\\x97\\x9e\\x1b:\":\\x98\\xb0\\x1e\\xa6\\x03D+~\\xef-6\"\\x03Y\\x88\\x0c{\\x1d\\x94\\tqF\\xed\\xd8R\\x07\\xef\\x0c_\\x92\\x14\\x13`\\xf1C\\xcfS\\xe0\\xd3\\x90.3\\x8c\\xa9\\xfd\\\\\\xef\\x87\\x14\\xd1p\\x06\\xc4Q\\xbe\\xbe*\\xed\\x99&}x\\xb9\\xf2\\xd8l~nS\\xac\\x02\\x82\\'\\xe5\\xc6\\x92\\xe2\\xad\\xb4\\xa6$\\xb4`\\xdf\\xfb\\xd1\\xfb4k\\xd0\\x85\\x94`\\xd8(\\x15\\xcf\\xf7\\x8f\\xf6\\x1eD\\xa7\\xb6M1\\xcd\\xa3\\xba\\xa6\\x86\\xee\\xf9\\xf0=\\xdaV\\xeeH\\x9cr\\xb2\\xebR]\\x91\\xfem\\xb1z\\x1e\\xe2\\x0e\\xcb\\xa3\\x90r\\xee\\x04\\xc9wg\\x84<\\xcf\\xa5:\\xcf\\xb42\\x93\\xf8q\\x01\\xf5\\xcf\\x18\\n\\xc6\\xd3.L\\xf00\\x1ci#2\\x18\\xe9d\\x87\\xe2\\x02\\xe8s3\\xd7e\\x07\\x80~b\\x00\\xef\\xba\\x98\\xeb\\xf2p\\x80m9S\\xc4\\xbb{\\xe4~\\xb8\\x043zS\\xf4X^\\x16\\x89\\x85\\xb20F\\xbdNG\\x02\\x84\\x14/9>X\\xb0\\x96\\x0e\\x1d=R\\xfb})\\xc0ag1]\\x98\\xd1\\xb9\\xfe\\xecLI\\xa5\\xd5\\xfc;\\x82\\x91\\xe0\\xa0\\x08\\x87\\xa4\\x92C\\xe5N\\x8bt\\xc2rV9L\\xaf\\x0e:;S\\xe46\\x07\\xecqK!\\xb5\\xa32\\r\\x831M\\xe1\\xbev\\x91\\xa6z\\x9c\\'&9\\xb7\\xd1\\n\\n\\xf9\\x85\\xc07\\xc1\\xb8\\x8d\\xb8@\\xc4\\xb8\\x05Qp\\xa4=(\\xc0\\xad\\x05\\x89\\xd1<\\x1cgx\\xdfx\\x93S\\xd5\\x90\\xe6@\\x95\\xb9\\xc3Q\\xf5\\xb1\\x1a*\\xab\\xf6}\\x87s\\xbe\\xf2\\xfdG\\x14\\xf2\\xd36\\xa2,\\x1au\\x80\\xdc~%\\xce?n\\t\\xf6\\xf8\\x19.\\x9fq\\xab\\x95_\\':\\x0e\\'4I@\\x0e\\xca\\xcf\\xa7\\x1c>S\\xa8\\xb4I\\x17\\x11\\xa1NR\\xe2\\xbb\\x1bD\\x93.\\xca\\xf7\\x1a%n#\\xb7a\\x95O\\x13\\xab\\xbdI\\x7f\\xe1\\xb7o\\x9b\\t0`\\x97\\xf0r\\xae3\\xda\\xb1\\xa7\\xb4)\\x16\\x93\\xcd>\\x99\\xb9\\xc1\\xc1\\xb5\\xf7i\\xeegZ\\x01B\\xb9\\x17.\\xe1\\x89>\\x83\\xe9\\xee\\xbc5\\xb5\\xae\\xcbWu\\xeeF#2\\x1a\\xea\\xa0\\x8a+\\xca\\xe8\\xbe\\xb3\\xfb\\xd2\\xe8\\xce\\xa7\\x9b\\xe6\\x01\\xef\\xc4\\t\\xebV\\xd2\\xaa\\x92b\\xd7\\xb2\\x9b\\x05-\\x93\\xd5\\x0bb@\\x0ew\\x0c\\xcel|<\\xec\"\\xca\\xf7\\x00\\x82\\x97\\x94\\x95n\\xb6\\xc7\\x8e/u\"\\x13+\\x83\\xbav\\xe3\\x95\\x0c\\xee\\n\\xc3\\x04\\xda&\\xa2K\\xb1\\xa1\\x8cu\\xe4\\xd0\\x83\\x92\\xf3\\xbdU\\x00\\xa1\\xd2#k\\xfc\\xa8\\x89\\xe83\\xd0\\x00\\xb0*]\\xa4\\xc4\\x19\\xb5\\xee\\x9ac(*\\xfc\\xd6Jd\\x8d2\\xdfK\\xfd\\xc8G<\\x15\\xb7Z\\x01\\xc2n/\\x800*\\xb3+\\r?e3-\\xff\\xba\\x88~\\xdbw\\xa8\\xe9\\xa9\\xabP\\x18B\\xbf0$\\xbdS\\xadG\\xa2\\x91\\xe0\\xce<g\\xf0\\x0fh\\xc8\\xb2E\\xb4\\xab\\xd2\\xf6\\x00\\xe6]\\x0e\\x1a\\x0c\\xb6xX\\x19r\\x85e\\x83\\x02q\\x92x\\xe0\\xb55\\xe8K\\xa0G\\xf8S#\\x8d\\x11u\\xe3\\x15v=\\xceU\\xea|N\\x84\\x8e\\x83\\x99\\xf0\\x97\\x0e\\xf2\\x0f\\xaf\\x1a\\xb0\\xb7;\\x01\\x04\\xc8\\xd4\\x05\\xc7\\xd1\\x1c\\xbd\\xc4G?\\x84\\xd7\\xc3[\\xbe\\xa3\\xf53Q\\xa8\\xc1V\\xe7\\xa6\\xa00 @\\xdb\\xd95\\xa8B\\xc0A\\xc0u\\xf9\\xce\\x1e\\xbdL\\xe3S\\x12\\x93h\\xcc\\xe9g\\xd1\\xf4\\x8d\\xf9\\xb6J*\\x87(\\xfa\\x9ahy\\xe7\\x88\\x12\\xcch\\xfe\"\\x01\\x8c\\xf1.\\xb7<\\xdb\\xa1.\\xb8\\x8ev\\xd0:{|\\xfe\\x0c~v\\xb3\\xe1g\\x00\\x82\\x9b}\\t\\xc9\\x0e\\xd3\\x17R}\\xad\\xfb\\xe2(V\\xf9\\xe6\\xa0_\\x19(\\xc1\\x0fB;\\xb5\\xc8\\x03\\x81\\xc3\\x80\\x00\\x9b\\xf6%A\\x16\\xf4\\xe1\\xde\\x9dt\\'\\xf5\\xb2\\x8c\\xef\\x7f\\xb2\\xa3\\xed\\x00\\xf9N\\xcb\\xe3\\x89\\xf5:O\\xb0w(\\xe4\\x92=TD\\x88J\\x01\\xbfW\\xed\\xec\\xf8\\x1e\\t>\\xed\\xcb\\xb8\\xdcU\\xa2\\xbbx\\x83\\xcb\\xf9&\\x02\\x00\\xc4\\x8b.\\x03u\\xc4N\\xc3l8\\x14Ez&@\\x16w1\\x1d\\xbf;J\\xa3\\xa1b\\x0bp\\x80B\\xbb\\xaf|\\xdf)\\xe3.\\x12U\\xc6\\x12 \\xe0\\xec\\xc4\\xfb\\x82,h\\xbf\\x8d\\'bZrk\\xdb1\\xeb\\xd0K\\xb1\\x9e\\xf8 \\xac\\xf9\\xdcFjOLj\\x98s.\\x96\\xf0\\x9c\\x9871\\xd1R\\x95t\\xf0\\xe0{V\\xd2\\x1bm\\xfdp^yN\\xb9\\x87\\xc2\\xb3\\x8fO\\xf5\\x83\\x19sr\\x04\\x80\\x82\\xcfD\\xd8ob\\t\\xb7\\xdf\\x97\\xcd|\\xb2\\xae\\xa0\\xfa\\xfb=\\xfc\\xa2Re\\x8c\\xe5\\n\\xb7ilK\\xf54\\xa7\\xe5\\xc6\\xd3\\x9cb\\x9dC\\x80\\xf7[\\x19\\x05\\xe8I\\xd6\\xbeUr\\xc4\\xf8=\\x87m\\x01r\\xa9\\xd3\\xb2d/C\\xd8\\x86^\\xc6\\x9d\\xd1X>\\xf7\\xfdL~\\x1b@u\\x16\\x8d0M\\xb1x\\x1e6\\xdc.M)g+\\xe2\\x06\\xd8\\xe2f\\r\\x08\\xb2\\xb3\\xb5\\x904\\xb9\\x03\\x04\\xfc\\x9dZ\\xc6\\xa29@\\xb9\\xc0Pl`ZF\\xc4\\xf8\\xf5{l-2\\xf3]\\x14\\xd7SA\\xe7y\\x1e\\xdf\\x0b\\x1e|a%\\xd4Q\\x87\\x03p0\\x83\\xd1y\\xb2\\xca#\\xf4r\\xf0\\x18\\x90\\x10\\xa2\\xcd\\xab\\xb2*\\x1b-\\x17\\xa9nD\\xa5\\x18\\xa1\\xb0\\xa9\\xb4DO1\\xd3\\x05\\x0b{\\x87~\\x1eA\\xd7\\xd1\\x18TAu&\\xf9\\xf5F\\x0e\\x014+(@\\xc09\\n9Y\\xdd-\\xe3\\xcb\\x8eT\\xdb\\xb9.\\xe7\\xd9\\x9d\\x85\\x10\\xc0\\xear\\x87\\xc7\\xe7\\xfe\\xc3\\x17\\x84\\x07\\xe5L\\x02\\xe4\\x03\\xffu#\\x8b\\x84\\xcdI\\xb0\\x1e,\\x15\\xd1\\xa6\\xc5P\\xc0\\x1e\\x81-\\x81\\xc0\\x05\\x8en\\xe2>\\xda%\\x8b\\x96\\xa9\\xc8\\x00.a=s\\to\\x93\\xcd\\xa9In)9!\\x81\\xfe\\xd8\\xef|\\xea`\\xa1#\\xd8Wu\\xb8\\xd6\\x0f\\xc1f{\\xf4\\xd4f\\xda\\xf1\\xb0:\\x8c3\\x01\\x03\\x10\\xac\\x1eP&\\xbe\\xe6\"\\xbf\"\\x1f\\xf5!\\x05z^j\\xb2\\x04\\x04!\\x1cU\\xf6C\\xb28W\\xf1\\xa9\\xff}\\xcc\\x13\\xbb\\xfe\\xd8\\xce\\xdf\\x1bri\\xbfk\\xfd*J\\x94\\xd3\\x93\\xbe\\xd3\\x0b\\xf0$?\\xadm;za\\xcb\\xc6\\xda`$\\xf8(|\\xba\\xaf\\xf4;\\xf7g\\x0bz\\x9fL\\xbc\\r\\x9b\\x01[\\x08\\x96h5\\xd5\\xf7\\x06\\x03\\x9b\\x08\\x87\\x9e\\xf0\\xd1\\xe00\\x8d\\xe6r\\xda\\x1c\\x87\\x9e~\\x85-m\\xf5\\xb59!\\x1a{!n\\xf0\\x98/|\\x03.\\x08\\xb0\\xea\\xb3\\xb8n\\xb3<\\xae\\xces\\xad\\x80\\xddp\\x0c\\xbb\\xfa;\\xbck\\x83>\\x94\\xb5w=@`.!\\x9f\\xb9\\x04l\\r6=\\x88$/\\x82\\x9c\\xff\\xaf\\x1d\\xdb\\xcd_\\xfe\\xe0\\xfe\\xda\\xe0\\x910I&D\\xf9_\\x8f9\\x11v\":%\\xfc\\xef\\xc2\\xe4(\\xc0\\x00\\x87i\\xfc\\x94\\xf3\\x98\\xcdq\\xf0\\x8c\\xccU@\\xe1\\n\\x17\\xa00\\xc8p\\xbe@4\\x84-\\xd4\\xe3#\\xc4\\xff\\x85\\xcb\\x9a\\xe1C9vg \\x04\\xe5\\x97\\x9fM\\xc1\\xfe\\x9d@F#cg\\x1bj\\x84\\xbfG0\\xdb\\xcb\\xf0\\x80 k,\\xfc7\\xc3\\xbdN\\xff\\x93!\\x02\\xa5\\x90\\xc7\\xcd[\\n\\xa5\\xb9\\x00\\x03(4W\\x18\\xc0\\xe0\\x16\\x9e\\x14\\x0bdu\\xa8\\xc2\\xe4\\xf7\\x08\\n\\xc9\\xd4\\xd0\\xc1\\xca+\\xd9\\xed\\x1c\\xf5\\xebx/3\\xcb\\x15L\\xa9NV\\x89hN\\x14*wX\\x86Wjl\\xbf\\x81\\xa3\\x01\\xbf\\x8f9 \\xf0\\x04\\xacd.\\x01\\x03v-5\\xed\\xbf7\\xcd\\x8f\\xe2_\\x9b\\xa0\\x90\\xd8\\xe0c]\\xb69\\x04\\x03\\xb8J/\\xb0\\x02\\x03\\x85e\\x04(\\\\C!\\x0b\\xc8\\xcd\\n(`K\\xecS&\\x03aC\\x00\\xedkvJTI\\x00e\\x95\\x9a\\xb0\\xcc\\xc3=L\\x86p\\xbd\\xb68d\\xcb\\xc7\\xb4$\\xd1\\x8a\\xdf\\x07\\xa72\\xb5\\x0f\\xba\\x1c\\xfdg\\xaf\\xc1\\xe9\\x0e:\\x99\\x81\\x81!-t5/\\n(\\xe0\\xf4\\xe2\\x1c\\xbfv\\r\\x1e\\x0f\\xd4\\x84\\xfe&\\x81\\xd5\\x8d\\x9f\\x03\\xe7\\xd6Vn\\x8b\\xf9\\xb9#\\x8dUg\\xfdw\\xf0\\xc1\\x82Bo\\'\\xe7\\x07\\n(\\xfc\\x8c\\xc3\\x9f5\\x18hjJ\\xb2\\x05\\x04\\x01\\x05(g\\xa0\\xdd\\xec\\x1fp}\\xc0^?\\xc6\\xe1\\x91(\\x95\\x88\\x9a4i\\n\\n\\x10\\x04\\x14\\xc0\\xfe<L!?\\xf8\\xa4\\x00\\xea\\x02\\xb9\\xf0\\x0e\\x06\\x825\\xba[4i\\x8aq@P\\x80\\x01\\x87\\xb1\\xc2I\\x08v\\xd28\\x1f\\xea\\x80\\x83:q\\x80\\xc9L\\x06\\x83\\xc3\\xbaK4ijF\\x80\\xa0\\x00\\x03Lk8\\x84\\x04N#^\\xccS\\xf0\\x9d\\x86\\x86}\\x1e\\x03A\\x85\\xee\\nM\\x9a\\x9a1 (\\xc0\\x00\\xf1\\x01\\x9b1FRh\\xef7\\xbc\\xa9\\xa0Y\\r\\x1f`\\n%\\x19l\\xa78\\xf4\\xe33\\x0e\\x1fpX\\xc5 P\\xa4\\x9b_\\x93\\xa6\\x18\\x05\\x04M\\x9a4i\\x02\\xfd_\\x80\\x01\\x00\\xed$ky]PVU\\x00\\x00\\x00\\x00IEND\\xaeB`\\x82'\n"
          ]
        }
      ]
    },
    {
      "cell_type": "markdown",
      "source": [
        "output.png\n",
        "\n",
        "![image.png](data:image/png;base64,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)"
      ],
      "metadata": {
        "id": "Dh6xPk8UkcAV"
      }
    },
    {
      "cell_type": "code",
      "source": [],
      "metadata": {
        "id": "QjoCiXVfkM_L"
      },
      "execution_count": null,
      "outputs": []
    }
  ]
}