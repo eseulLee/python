{
 "cells": [
  {
   "cell_type": "markdown",
   "id": "7ecd4ce3",
   "metadata": {},
   "source": [
    "## 데이터 타입 및 변수 "
   ]
  },
  {
   "cell_type": "markdown",
   "id": "fb2121d4",
   "metadata": {},
   "source": [
    "### tuple\n",
    "1. 소괄호() 사용\n",
    "2. 데이터 수정, 추가 삭제 불가\n",
    "3. indexing O"
   ]
  },
  {
   "cell_type": "code",
   "execution_count": 1,
   "id": "3ca15905",
   "metadata": {},
   "outputs": [
    {
     "name": "stdout",
     "output_type": "stream",
     "text": [
      "('aa', 'bb', 'cc', 'dd')\n",
      "<class 'tuple'>\n",
      "indexing -  bb bb\n"
     ]
    }
   ],
   "source": [
    "A_tup = ('aa', 'bb', 'cc', 'dd')\n",
    "print(A_tup)\n",
    "print(type(A_tup))\n",
    "print('indexing - ', A_tup[1], A_tup[-3])"
   ]
  },
  {
   "cell_type": "markdown",
   "id": "61df6025",
   "metadata": {},
   "source": [
    "### list\n",
    "1. 대괄호[] 사용\n",
    "2. 데이터 수정, 추가 삭제 가능\n",
    "3. indexing & slicing O\n",
    "4. +,* 가능(리스트 자체로 연산) /,- 연산 X"
   ]
  },
  {
   "cell_type": "code",
   "execution_count": 2,
   "id": "96adbec6",
   "metadata": {},
   "outputs": [
    {
     "name": "stdout",
     "output_type": "stream",
     "text": [
      "['aa', 'dd', 'cc', 'bb']\n",
      "<class 'list'>\n",
      "indexing -  cc aa\n",
      "slicing  -  ['dd', 'cc']\n"
     ]
    }
   ],
   "source": [
    "A_lst = ['aa', 'dd', 'cc', 'bb']\n",
    "print(A_lst)\n",
    "print(type(A_lst))\n",
    "print('indexing - ', A_lst[2], A_lst[-4])\n",
    "print('slicing  - ', A_lst[1:3])"
   ]
  },
  {
   "cell_type": "code",
   "execution_count": 3,
   "id": "87c8928c",
   "metadata": {},
   "outputs": [
    {
     "name": "stdout",
     "output_type": "stream",
     "text": [
      "['aa', 'dd', 'cc', 'bb', 'aa', 'dd', 'cc', 'bb']\n",
      "['aa', 'dd', 'cc', 'bb', 'aa', 'dd', 'cc', 'bb', 'aa', 'dd', 'cc', 'bb']\n"
     ]
    }
   ],
   "source": [
    "# list 사칙연산\n",
    "print(A_lst + A_lst) # list 뒤에 이어 붙음\n",
    "print(A_lst * 3) # list 3번 반복\n",
    "# print(A_lst - A_lst) -- error"
   ]
  },
  {
   "cell_type": "code",
   "execution_count": 4,
   "id": "84c0248f",
   "metadata": {},
   "outputs": [
    {
     "name": "stdout",
     "output_type": "stream",
     "text": [
      "['aa', 'dd', 'hello', 'bb']\n"
     ]
    }
   ],
   "source": [
    "# 데이터 수정\n",
    "A_lst[2] = 'hello'\n",
    "print(A_lst)"
   ]
  },
  {
   "cell_type": "code",
   "execution_count": 6,
   "id": "0df8e333",
   "metadata": {},
   "outputs": [
    {
     "name": "stdout",
     "output_type": "stream",
     "text": [
      "['aa', 'bb', 'dd', 'hello']\n"
     ]
    }
   ],
   "source": [
    "# 데이터 삭제\n",
    "del A_lst[2]\n",
    "print(A_lst)"
   ]
  },
  {
   "cell_type": "code",
   "execution_count": 7,
   "id": "c8e233b7",
   "metadata": {},
   "outputs": [
    {
     "name": "stdout",
     "output_type": "stream",
     "text": [
      "['aa', 'bb', 'dd', 'hello', 'ee']\n"
     ]
    }
   ],
   "source": [
    "# 데이터 추가\n",
    "A_lst.append('ee')\n",
    "print(A_lst)"
   ]
  },
  {
   "cell_type": "code",
   "execution_count": 8,
   "id": "e941c08c",
   "metadata": {},
   "outputs": [
    {
     "name": "stdout",
     "output_type": "stream",
     "text": [
      "['aa', 'bb', 'cc', 'dd', 'hello', 'ee']\n",
      "['ee', 'aa', 'bb', 'cc', 'dd', 'hello', 'ee']\n"
     ]
    }
   ],
   "source": [
    "# 내가 원하는 위치에 데이터 추가\n",
    "A_lst.insert(2, 'cc')\n",
    "print(A_lst)\n",
    "A_lst.insert(0, 'ee')\n",
    "print(A_lst)"
   ]
  },
  {
   "cell_type": "code",
   "execution_count": 9,
   "id": "3ae9e1f3",
   "metadata": {},
   "outputs": [
    {
     "name": "stdout",
     "output_type": "stream",
     "text": [
      "2\n"
     ]
    }
   ],
   "source": [
    "# 데이터 개수 세기\n",
    "print(A_lst.count('ee'))"
   ]
  },
  {
   "cell_type": "code",
   "execution_count": 10,
   "id": "474bc6ba",
   "metadata": {},
   "outputs": [
    {
     "name": "stdout",
     "output_type": "stream",
     "text": [
      "['aa', 'bb', 'cc', 'dd', 'hello', 'ee']\n"
     ]
    }
   ],
   "source": [
    "# 데이터 지정해서 삭제\n",
    "A_lst.remove('ee')\n",
    "print(A_lst)  # remove : 가장 앞에 위치한 해당 데이터 삭제됨"
   ]
  },
  {
   "cell_type": "code",
   "execution_count": 11,
   "id": "36333304",
   "metadata": {},
   "outputs": [
    {
     "name": "stdout",
     "output_type": "stream",
     "text": [
      "['aa', 'bb', 'cc', 'dd', 'hello']\n"
     ]
    }
   ],
   "source": [
    "# 가장 마지막에 있는 값 삭제\n",
    "A_lst.pop()\n",
    "print(A_lst)"
   ]
  },
  {
   "cell_type": "code",
   "execution_count": 12,
   "id": "21c9e79a",
   "metadata": {},
   "outputs": [
    {
     "name": "stdout",
     "output_type": "stream",
     "text": [
      "['aa', 'bb', 'cc', 'dd', 'hello']\n"
     ]
    }
   ],
   "source": [
    "# 데이터 정렬 ( sort 사용시 변수값에 즉시 반영되므로 주의 )\n",
    "A_lst.sort()\n",
    "print(A_lst)"
   ]
  },
  {
   "cell_type": "markdown",
   "id": "aed3ee5b",
   "metadata": {},
   "source": [
    "### dictionary\n",
    "1. key, value 쌍으로 이루어져 있음\n",
    "2. 중괄호 {} 사용, key:value 쌍 구분 기호는 세미콜론(,)\n",
    "3. 데이터 수정, 추가 삭제 가능\n",
    "4. 순서 존재 X , key 값으로 접근 "
   ]
  },
  {
   "cell_type": "code",
   "execution_count": 13,
   "id": "883a32ea",
   "metadata": {},
   "outputs": [
    {
     "name": "stdout",
     "output_type": "stream",
     "text": [
      "{'first': 'aa', 'second': 'dd', 'third': 'cc', 'forth': 'bb'}\n",
      "<class 'dict'>\n"
     ]
    }
   ],
   "source": [
    "A_dict = {'first'  : 'aa',\n",
    "          'second' : 'dd',\n",
    "          'third'  : 'cc',\n",
    "          'forth'  : 'bb'}\n",
    "print(A_dict)\n",
    "print(type(A_dict))"
   ]
  },
  {
   "cell_type": "code",
   "execution_count": 14,
   "id": "e9537058",
   "metadata": {},
   "outputs": [
    {
     "name": "stdout",
     "output_type": "stream",
     "text": [
      "dd\n"
     ]
    }
   ],
   "source": [
    "# key 로 value 가져오기\n",
    "print(A_dict['second'])"
   ]
  },
  {
   "cell_type": "code",
   "execution_count": 15,
   "id": "bbcb1a40",
   "metadata": {},
   "outputs": [
    {
     "name": "stdout",
     "output_type": "stream",
     "text": [
      "{'first': 'aa', 'second': 'dd', 'third': 'cc', 'forth': 'bb', 'fifth': 'ff'}\n"
     ]
    }
   ],
   "source": [
    "# 데이터 추가\n",
    "A_dict['fifth'] =  'ff'\n",
    "print(A_dict)"
   ]
  },
  {
   "cell_type": "code",
   "execution_count": 16,
   "id": "fda2845c",
   "metadata": {},
   "outputs": [
    {
     "name": "stdout",
     "output_type": "stream",
     "text": [
      "{'first': 'aa', 'second': 'dd', 'third': 'cc', 'forth': 'bb', 'fifth': 'ee'}\n"
     ]
    }
   ],
   "source": [
    "# 데이터 수정 : 동일 키 존재하는 경우 마지막 추가된 키:값만 살아남아 결론적으로 데이터 수정 발생\n",
    "A_dict['fifth'] = 'ee'\n",
    "print(A_dict)"
   ]
  },
  {
   "cell_type": "code",
   "execution_count": 17,
   "id": "d1a7d9c2",
   "metadata": {},
   "outputs": [
    {
     "name": "stdout",
     "output_type": "stream",
     "text": [
      "{'first': 'aa', 'third': 'cc'}\n",
      "{'first': 'aa', 'third': 'cc', 'second': 'hello'}\n"
     ]
    }
   ],
   "source": [
    "# 데이터 삭제\n",
    "del A_dict['second']\n",
    "del A_dict['forth']\n",
    "del A_dict['fifth']\n",
    "print(A_dict)\n",
    "\n",
    "A_dict['second'] = 'hello'\n",
    "print(A_dict)"
   ]
  },
  {
   "cell_type": "markdown",
   "id": "3025837f",
   "metadata": {},
   "source": [
    "### set\n",
    "1. 중복된 데이터 없음\n",
    "2. 데이터 간 순서 없음\n",
    "3. set(), 중괄호{} 사용"
   ]
  },
  {
   "cell_type": "code",
   "execution_count": 18,
   "id": "997f3224",
   "metadata": {},
   "outputs": [
    {
     "name": "stdout",
     "output_type": "stream",
     "text": [
      "{'l', 'o', 'h', 'e'} {'h', 'i'}\n"
     ]
    }
   ],
   "source": [
    "hello = set(\"hello\")\n",
    "hi = set(['h','i'])\n",
    "print(hello, hi) # hello 의 경우, l 이 중복되므로 한개 삭제됨"
   ]
  },
  {
   "cell_type": "code",
   "execution_count": 20,
   "id": "e07bac06",
   "metadata": {},
   "outputs": [
    {
     "name": "stdout",
     "output_type": "stream",
     "text": [
      "{'h'}\n",
      "{'h'}\n"
     ]
    }
   ],
   "source": [
    "# 교집합 연산\n",
    "intersection01 = hello.intersection(hi)\n",
    "print(intersection01)\n",
    "intersection02 = hello & hi\n",
    "print(intersection02)"
   ]
  },
  {
   "cell_type": "code",
   "execution_count": 21,
   "id": "868804cd",
   "metadata": {},
   "outputs": [
    {
     "name": "stdout",
     "output_type": "stream",
     "text": [
      "{'l', 'e', '!', 'i', 'o', 'h'}\n",
      "{'l', 'e', '!', 'i', 'o', 'h'}\n"
     ]
    }
   ],
   "source": [
    "# 합집합 연산\n",
    "union01 = hello.union(hi)\n",
    "print(union01)\n",
    "union02 = hello | hi\n",
    "print(union02)"
   ]
  },
  {
   "cell_type": "code",
   "execution_count": 22,
   "id": "e07c5326",
   "metadata": {},
   "outputs": [
    {
     "name": "stdout",
     "output_type": "stream",
     "text": [
      "{'l', 'o', 'e', '!'}\n",
      "{'l', 'o', 'e', '!'}\n",
      "{'i'}\n",
      "{'i'}\n"
     ]
    }
   ],
   "source": [
    "# 차집합 연산 : 순서에 유의\n",
    "diff01 = hello.difference(hi)\n",
    "print(diff01)\n",
    "diff02 = hello - hi\n",
    "print(diff02)\n",
    "diff03 = hi.difference(hello)\n",
    "print(diff03)\n",
    "diff04 = hi - hello\n",
    "print(diff04)"
   ]
  },
  {
   "cell_type": "code",
   "execution_count": 23,
   "id": "3ac1ff93",
   "metadata": {},
   "outputs": [
    {
     "name": "stdout",
     "output_type": "stream",
     "text": [
      "{'e', '!', 'o', 'l', 'h'}\n"
     ]
    }
   ],
   "source": [
    "# 원소 추가 > 순서 없으므로 임의의 위치에 들어가게 된다!\n",
    "hello.add('!')    # 하나의 원소 추가\n",
    "print(hello)"
   ]
  },
  {
   "cell_type": "code",
   "execution_count": 24,
   "id": "df702a3b",
   "metadata": {},
   "outputs": [
    {
     "name": "stdout",
     "output_type": "stream",
     "text": [
      "{'e', '!', 'o', 'w', 'l', 'h'}\n"
     ]
    }
   ],
   "source": [
    "hello.update(['w','o','w'])  # 여러 개의 원소 한꺼번에 추가\n",
    "print(hello)      # w 두개여서 하나만 들어가게 됨"
   ]
  },
  {
   "cell_type": "code",
   "execution_count": 25,
   "id": "34b0e38b",
   "metadata": {},
   "outputs": [
    {
     "name": "stdout",
     "output_type": "stream",
     "text": [
      "{'e', '!', 'o', 'l', 'h'}\n"
     ]
    }
   ],
   "source": [
    "hello.remove('w')  # 원소 삭제\n",
    "print(hello)"
   ]
  },
  {
   "cell_type": "markdown",
   "id": "7c734f1f",
   "metadata": {},
   "source": [
    "## 산술 연산자"
   ]
  },
  {
   "cell_type": "code",
   "execution_count": 26,
   "id": "7dcbe175",
   "metadata": {},
   "outputs": [
    {
     "name": "stdout",
     "output_type": "stream",
     "text": [
      "몫 구하기(//)    - 0\n",
      "나머지 구하기(%) - 2\n"
     ]
    }
   ],
   "source": [
    "print('몫 구하기(//)    -', 2 // 5)\n",
    "print('나머지 구하기(%) -', 2 %  5)"
   ]
  },
  {
   "cell_type": "code",
   "execution_count": 28,
   "id": "74b92930",
   "metadata": {},
   "outputs": [
    {
     "name": "stdout",
     "output_type": "stream",
     "text": [
      "지수 승(2^5) -  32\n"
     ]
    }
   ],
   "source": [
    "print('지수 승(2^5) - ', 2 ** 5)"
   ]
  },
  {
   "cell_type": "markdown",
   "id": "1e9ad99c",
   "metadata": {},
   "source": [
    "## 비교 연산자\n",
    "< , <= , > , >= , ==, !="
   ]
  },
  {
   "cell_type": "markdown",
   "id": "ea7ddf84",
   "metadata": {},
   "source": [
    "## 논리 연산자"
   ]
  },
  {
   "cell_type": "code",
   "execution_count": 29,
   "id": "6446da50",
   "metadata": {},
   "outputs": [],
   "source": [
    "A = 90\n",
    "B = 70"
   ]
  },
  {
   "cell_type": "code",
   "execution_count": 31,
   "id": "92aaaf47",
   "metadata": {},
   "outputs": [
    {
     "name": "stdout",
     "output_type": "stream",
     "text": [
      "False\n",
      "False\n",
      "True\n"
     ]
    }
   ],
   "source": [
    "# AND 연산자\n",
    "print((A > 80) and (B > 80))\n",
    "print((A > 70) and (B > 70))\n",
    "print((A > 60) and (B > 60))  # 둘다 True 여야 True"
   ]
  },
  {
   "cell_type": "code",
   "execution_count": 32,
   "id": "758d0b40",
   "metadata": {},
   "outputs": [
    {
     "name": "stdout",
     "output_type": "stream",
     "text": [
      "True\n",
      "False\n"
     ]
    }
   ],
   "source": [
    "# OR 연산자\n",
    "print((A > 80) or (B > 80))   # 둘 중 하나라도 True 이면 True\n",
    "print((A > 90) or (B > 90))"
   ]
  },
  {
   "cell_type": "code",
   "execution_count": 34,
   "id": "2f687343",
   "metadata": {},
   "outputs": [
    {
     "name": "stdout",
     "output_type": "stream",
     "text": [
      "True\n",
      "False\n"
     ]
    }
   ],
   "source": [
    "# NOT 연산자\n",
    "print(not (A > 90))    # True  이면 False\n",
    "print(not (A > 80))    # False 이면 True"
   ]
  },
  {
   "cell_type": "markdown",
   "id": "00fcf0bd",
   "metadata": {},
   "source": [
    "## 문자열 가공\n",
    "\n",
    "### 01. 문자열 합체 : +"
   ]
  },
  {
   "cell_type": "code",
   "execution_count": 38,
   "id": "c8b89ea6",
   "metadata": {},
   "outputs": [
    {
     "data": {
      "text/plain": [
       "'I AM SUPERMAN!'"
      ]
     },
     "execution_count": 38,
     "metadata": {},
     "output_type": "execute_result"
    }
   ],
   "source": [
    "'I ' + 'AM ' + 'SUPERMAN!'  # 결합했을 때의 가독성을 위해 문자열 내에 공백 추가"
   ]
  },
  {
   "cell_type": "code",
   "execution_count": 39,
   "id": "ec516e98",
   "metadata": {},
   "outputs": [
    {
     "data": {
      "text/plain": [
       "'I AM SUPERMAN!'"
      ]
     },
     "execution_count": 39,
     "metadata": {},
     "output_type": "execute_result"
    }
   ],
   "source": [
    "# 문자열을 변수에 담아 변수로 문자열 결합\n",
    "나 = 'I '\n",
    "는 = 'AM '\n",
    "슈퍼맨 = 'SUPERMAN!'\n",
    "나+는+슈퍼맨"
   ]
  },
  {
   "cell_type": "markdown",
   "id": "556a18e8",
   "metadata": {},
   "source": [
    "### 02. 사이사이 끼어들기 : join\n",
    "'끼어들 변수'.join(끼어들 대상)"
   ]
  },
  {
   "cell_type": "code",
   "execution_count": 40,
   "id": "7069352a",
   "metadata": {},
   "outputs": [
    {
     "data": {
      "text/plain": [
       "'S-U-P-E-R-M-A-N-!'"
      ]
     },
     "execution_count": 40,
     "metadata": {},
     "output_type": "execute_result"
    }
   ],
   "source": [
    "'-'.join('SUPERMAN!')"
   ]
  },
  {
   "cell_type": "code",
   "execution_count": 41,
   "id": "3e697d1f",
   "metadata": {},
   "outputs": [
    {
     "data": {
      "text/plain": [
       "'A*B*C'"
      ]
     },
     "execution_count": 41,
     "metadata": {},
     "output_type": "execute_result"
    }
   ],
   "source": [
    "# 변수로 정의 후 JOIN 사용\n",
    "X = '*'\n",
    "Y = 'ABC'\n",
    "X.join(Y)"
   ]
  },
  {
   "cell_type": "markdown",
   "id": "94967bd0",
   "metadata": {},
   "source": [
    "### 03. 문자열 복제하기 : *\n",
    "- 문자열에서의 곱셈(*)연산자는 문자열을 곱하는 수만큼 반복해서 나열"
   ]
  },
  {
   "cell_type": "code",
   "execution_count": 42,
   "id": "ac94d3a7",
   "metadata": {},
   "outputs": [
    {
     "data": {
      "text/plain": [
       "'AAAAA'"
      ]
     },
     "execution_count": 42,
     "metadata": {},
     "output_type": "execute_result"
    }
   ],
   "source": [
    "'A' * 5"
   ]
  },
  {
   "cell_type": "markdown",
   "id": "71f533f8",
   "metadata": {},
   "source": [
    "### 04. 문자 추출하기 : [ ]"
   ]
  },
  {
   "cell_type": "code",
   "execution_count": 45,
   "id": "423b2392",
   "metadata": {},
   "outputs": [
    {
     "name": "stdout",
     "output_type": "stream",
     "text": [
      "A\n",
      "G\n"
     ]
    }
   ],
   "source": [
    "string = 'ABCDEFG'\n",
    "\n",
    "print(string[0])\n",
    "print(string[6])\n",
    "# print(string[7]) -- error : string index out of range"
   ]
  },
  {
   "cell_type": "code",
   "execution_count": 47,
   "id": "c24e766b",
   "metadata": {},
   "outputs": [
    {
     "name": "stdout",
     "output_type": "stream",
     "text": [
      "G\n",
      "A\n"
     ]
    }
   ],
   "source": [
    "# 역방향 인덱스 사용 : 역방향은 -1부터 시작 (정방향은 0부터 시작)\n",
    "print(string[-1])\n",
    "print(string[-7])\n",
    "# print(string[-8]) -- error : string index out of range"
   ]
  },
  {
   "cell_type": "markdown",
   "id": "0ea4f768",
   "metadata": {},
   "source": [
    "### 05. 문자열 추출하기 : [ : : ]\n",
    "\n",
    "str [ start_num : end_num : step ]\n",
    "- 끝 위치 이전까지 데이터 추출 주의"
   ]
  },
  {
   "cell_type": "code",
   "execution_count": 48,
   "id": "b65f1c59",
   "metadata": {},
   "outputs": [
    {
     "data": {
      "text/plain": [
       "'CDE'"
      ]
     },
     "execution_count": 48,
     "metadata": {},
     "output_type": "execute_result"
    }
   ],
   "source": [
    "string[2:5] # 2,3,4 출력 (5 제외)"
   ]
  },
  {
   "cell_type": "code",
   "execution_count": 49,
   "id": "7e9bea67",
   "metadata": {},
   "outputs": [
    {
     "data": {
      "text/plain": [
       "'ADG'"
      ]
     },
     "execution_count": 49,
     "metadata": {},
     "output_type": "execute_result"
    }
   ],
   "source": [
    "string[::3] # 처음부터 끝까지 3칸씩 건너서 추출"
   ]
  },
  {
   "cell_type": "code",
   "execution_count": 50,
   "id": "71fdad97",
   "metadata": {},
   "outputs": [
    {
     "data": {
      "text/plain": [
       "'ECA'"
      ]
     },
     "execution_count": 50,
     "metadata": {},
     "output_type": "execute_result"
    }
   ],
   "source": [
    "string[4::-2]  # 4번째부터 끝까지 역방향으로 2칸씩 이동하면서 추출 ABCD\"E\"FG"
   ]
  },
  {
   "cell_type": "code",
   "execution_count": 51,
   "id": "789ff43b",
   "metadata": {},
   "outputs": [
    {
     "data": {
      "text/plain": [
       "'GD'"
      ]
     },
     "execution_count": 51,
     "metadata": {},
     "output_type": "execute_result"
    }
   ],
   "source": [
    "string[6:2:-3] # 6번째부터 3번째까지 -3칸씩 이동하면서 추출"
   ]
  },
  {
   "cell_type": "markdown",
   "id": "ddb597de",
   "metadata": {},
   "source": [
    "### 06. 문자열 길이재기 : len"
   ]
  },
  {
   "cell_type": "code",
   "execution_count": 52,
   "id": "7550dacf",
   "metadata": {},
   "outputs": [
    {
     "data": {
      "text/plain": [
       "7"
      ]
     },
     "execution_count": 52,
     "metadata": {},
     "output_type": "execute_result"
    }
   ],
   "source": [
    "len(string)"
   ]
  },
  {
   "cell_type": "markdown",
   "id": "b2c07294",
   "metadata": {},
   "source": [
    "### 07. 문자열 분리하기 : split\n",
    "문자열/변수.split('분리할 구분자')"
   ]
  },
  {
   "cell_type": "code",
   "execution_count": 53,
   "id": "186cadac",
   "metadata": {},
   "outputs": [
    {
     "data": {
      "text/plain": [
       "['I', 'AM', 'SUPERMAN!']"
      ]
     },
     "execution_count": 53,
     "metadata": {},
     "output_type": "execute_result"
    }
   ],
   "source": [
    "sm = 'I AM SUPERMAN!'\n",
    "sm.split(' ')"
   ]
  },
  {
   "cell_type": "code",
   "execution_count": 54,
   "id": "aef2f969",
   "metadata": {},
   "outputs": [
    {
     "data": {
      "text/plain": [
       "['010', '1234', '5678']"
      ]
     },
     "execution_count": 54,
     "metadata": {},
     "output_type": "execute_result"
    }
   ],
   "source": [
    "phone_num = '010-1234-5678'\n",
    "phone_num.split('-')"
   ]
  },
  {
   "cell_type": "markdown",
   "id": "726af152",
   "metadata": {},
   "source": [
    "### 08. 문자열 교체하기 : replace\n",
    "문자열/변수.replace('변경 전 단어', '변경 후 단어')"
   ]
  },
  {
   "cell_type": "code",
   "execution_count": 55,
   "id": "5b09745c",
   "metadata": {},
   "outputs": [
    {
     "data": {
      "text/plain": [
       "'I AM BATMAN!'"
      ]
     },
     "execution_count": 55,
     "metadata": {},
     "output_type": "execute_result"
    }
   ],
   "source": [
    "sm.replace('SUPERMAN', 'BATMAN')"
   ]
  },
  {
   "cell_type": "markdown",
   "id": "29b230a5",
   "metadata": {},
   "source": [
    "### 09. 문자열 위치 찾기 : find, index\n",
    "- find() : 찾을 문자열 없는 경우 -1 리턴\n",
    "- index() : 찾을 문자열 없는 경우 오류 발생"
   ]
  },
  {
   "cell_type": "code",
   "execution_count": 59,
   "id": "dc2839ec",
   "metadata": {},
   "outputs": [
    {
     "data": {
      "text/plain": [
       "'동해물과 백두산이 마르고 닳도록 \\n하나님이 보우하사 우리나라 만세 \\n무궁화 삼천리 화려 강산 \\n대한 사람 대한으로 길이 보전하세'"
      ]
     },
     "execution_count": 59,
     "metadata": {},
     "output_type": "execute_result"
    }
   ],
   "source": [
    "애국가 = '''동해물과 백두산이 마르고 닳도록 \n",
    "하나님이 보우하사 우리나라 만세 \n",
    "무궁화 삼천리 화려 강산 \n",
    "대한 사람 대한으로 길이 보전하세'''\n",
    "\n",
    "애국가"
   ]
  },
  {
   "cell_type": "code",
   "execution_count": 64,
   "id": "3bfb4e26",
   "metadata": {},
   "outputs": [
    {
     "name": "stdout",
     "output_type": "stream",
     "text": [
      "29\n",
      "19\n",
      "-1\n"
     ]
    }
   ],
   "source": [
    "print(애국가.find('우리나라'))\n",
    "print(애국가.index('하나님'))\n",
    "print(애국가.find('한라산'))   # 존재하지 않는다는 의미로 -1 리턴\n",
    "# print(애국가.index('한라산')) -- error : substring not found"
   ]
  },
  {
   "cell_type": "markdown",
   "id": "eec3d4e4",
   "metadata": {},
   "source": [
    "### 10. 문자열 개수 세기 : count\n",
    "문자열/변수.count('카운트할 단어')"
   ]
  },
  {
   "cell_type": "code",
   "execution_count": 65,
   "id": "a2eae1d9",
   "metadata": {},
   "outputs": [
    {
     "data": {
      "text/plain": [
       "2"
      ]
     },
     "execution_count": 65,
     "metadata": {},
     "output_type": "execute_result"
    }
   ],
   "source": [
    "애국가.count('대한')"
   ]
  },
  {
   "cell_type": "markdown",
   "id": "beaa0272",
   "metadata": {},
   "source": [
    "### 11. 첫 문자를 대문자로! : capitalize, title"
   ]
  },
  {
   "cell_type": "code",
   "execution_count": 67,
   "id": "9ed2e35e",
   "metadata": {},
   "outputs": [
    {
     "data": {
      "text/plain": [
       "'i aM SuperMan!'"
      ]
     },
     "execution_count": 67,
     "metadata": {},
     "output_type": "execute_result"
    }
   ],
   "source": [
    "superman = 'i aM SuperMan!'\n",
    "superman"
   ]
  },
  {
   "cell_type": "code",
   "execution_count": 68,
   "id": "a5230fb0",
   "metadata": {},
   "outputs": [
    {
     "data": {
      "text/plain": [
       "'I am superman!'"
      ]
     },
     "execution_count": 68,
     "metadata": {},
     "output_type": "execute_result"
    }
   ],
   "source": [
    "superman.capitalize()  # 문자열의 가장 첫 문자인 I 만 대문자, 나머지는 다 소문자로 변경"
   ]
  },
  {
   "cell_type": "code",
   "execution_count": 69,
   "id": "b64dd779",
   "metadata": {},
   "outputs": [
    {
     "data": {
      "text/plain": [
       "'I Am Superman!'"
      ]
     },
     "execution_count": 69,
     "metadata": {},
     "output_type": "execute_result"
    }
   ],
   "source": [
    "superman.title()       # 띄어쓰기로 구분된 i, aM, SuperMan! 문자열 대상으로 각 문자열 첫 글자만 대문자 변경"
   ]
  },
  {
   "cell_type": "markdown",
   "id": "56aac1eb",
   "metadata": {},
   "source": [
    "### 12. 싹 대문자로/소문자로 바꿔! : upper / lower"
   ]
  },
  {
   "cell_type": "code",
   "execution_count": 71,
   "id": "89fa819f",
   "metadata": {},
   "outputs": [
    {
     "data": {
      "text/plain": [
       "'I AM SUPERMAN!'"
      ]
     },
     "execution_count": 71,
     "metadata": {},
     "output_type": "execute_result"
    }
   ],
   "source": [
    "superman.upper()"
   ]
  },
  {
   "cell_type": "code",
   "execution_count": 73,
   "id": "abf80785",
   "metadata": {},
   "outputs": [
    {
     "data": {
      "text/plain": [
       "'i am superman!'"
      ]
     },
     "execution_count": 73,
     "metadata": {},
     "output_type": "execute_result"
    }
   ],
   "source": [
    "superman.lower()"
   ]
  }
 ],
 "metadata": {
  "kernelspec": {
   "display_name": "Python 3 (ipykernel)",
   "language": "python",
   "name": "python3"
  },
  "language_info": {
   "codemirror_mode": {
    "name": "ipython",
    "version": 3
   },
   "file_extension": ".py",
   "mimetype": "text/x-python",
   "name": "python",
   "nbconvert_exporter": "python",
   "pygments_lexer": "ipython3",
   "version": "3.7.13"
  }
 },
 "nbformat": 4,
 "nbformat_minor": 5
}
