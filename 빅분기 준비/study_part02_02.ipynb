{
 "cells": [
  {
   "cell_type": "markdown",
   "id": "207af388",
   "metadata": {},
   "source": [
    "# 2.1 if, for, while"
   ]
  },
  {
   "cell_type": "markdown",
   "id": "698442a1",
   "metadata": {},
   "source": [
    "## if 문\n",
    "- if ~ elif ~ else\n",
    "- 인덴트 주의"
   ]
  },
  {
   "cell_type": "code",
   "execution_count": 2,
   "id": "1766e119",
   "metadata": {},
   "outputs": [
    {
     "name": "stdout",
     "output_type": "stream",
     "text": [
      "C 학점\n",
      "공부하자..\n"
     ]
    }
   ],
   "source": [
    "score = 72\n",
    "\n",
    "if score >= 90 :\n",
    "    print(\"A 학점\")\n",
    "    print(\"good job!!!\")\n",
    "elif score >= 80 :\n",
    "    print('B 학점')\n",
    "    print('분발합시다~')\n",
    "elif score >= 70 :\n",
    "    print('C 학점')\n",
    "    print('공부하자..')\n",
    "else :\n",
    "    print('D 학점')\n",
    "    print('TnT')"
   ]
  },
  {
   "cell_type": "markdown",
   "id": "b5574a8b",
   "metadata": {},
   "source": [
    "## for 문"
   ]
  },
  {
   "cell_type": "code",
   "execution_count": 3,
   "id": "ddeb3a44",
   "metadata": {},
   "outputs": [
    {
     "name": "stdout",
     "output_type": "stream",
     "text": [
      "korean\n",
      "science\n",
      "math\n",
      "english\n"
     ]
    }
   ],
   "source": [
    "subjects = ['korean','science','math','english']\n",
    "\n",
    "for n in subjects :\n",
    "    print(n)"
   ]
  },
  {
   "cell_type": "markdown",
   "id": "599ad889",
   "metadata": {},
   "source": [
    "### break : 반복문을 멈추고 밖으로 나가라는 의미의 키워드\n",
    "- if, for, while 에서 모두 사용됨\n"
   ]
  },
  {
   "cell_type": "code",
   "execution_count": 8,
   "id": "5232400a",
   "metadata": {},
   "outputs": [
    {
     "name": "stdout",
     "output_type": "stream",
     "text": [
      "korean\n",
      "science\n",
      "\n",
      ">>> english 수행되지 않음\n"
     ]
    }
   ],
   "source": [
    "for n in subjects :\n",
    "    if n == 'math' :\n",
    "        break\n",
    "    print(n)\n",
    "\n",
    "print('\\n>>> english 수행되지 않음')"
   ]
  },
  {
   "cell_type": "markdown",
   "id": "5057f4f0",
   "metadata": {},
   "source": [
    "### continue : 가던 길을 멈추고 다음 길로 계속 가야 함을 의미 != break"
   ]
  },
  {
   "cell_type": "code",
   "execution_count": 9,
   "id": "6fb74c7d",
   "metadata": {},
   "outputs": [
    {
     "name": "stdout",
     "output_type": "stream",
     "text": [
      "korean\n",
      "science\n",
      "english\n",
      "\n",
      ">>> english 수행\n"
     ]
    }
   ],
   "source": [
    "for n in subjects :\n",
    "    if n == 'math' :\n",
    "        continue\n",
    "    print(n)\n",
    "    \n",
    "print('\\n>>> english 수행')"
   ]
  },
  {
   "cell_type": "markdown",
   "id": "84e481e3",
   "metadata": {},
   "source": [
    "## while 문\n",
    "- 조건을 만족하면 무한히 반복해 내용 처리\n",
    "- 조건이 만족하지 않게 하거나, 반복을 종료시켜야 하는 별도의 조건 필요할 수 있음 주의"
   ]
  },
  {
   "cell_type": "code",
   "execution_count": 10,
   "id": "e22141b8",
   "metadata": {},
   "outputs": [
    {
     "name": "stdout",
     "output_type": "stream",
     "text": [
      "1\n",
      "2\n",
      "3\n",
      "4\n",
      "5\n",
      "6\n",
      "7\n",
      "8\n",
      "9\n",
      "10\n"
     ]
    }
   ],
   "source": [
    "num = 0\n",
    "\n",
    "while num < 10 :\n",
    "    num += 1\n",
    "    print(num)"
   ]
  },
  {
   "cell_type": "markdown",
   "id": "f5618ccd",
   "metadata": {},
   "source": [
    "### while 문에서도 if 문과 비슷하게 else 문 사용 가능\n",
    "- while 문의 조건식이 틀리면 최종적으로 else 문 수행 내용 실행"
   ]
  },
  {
   "cell_type": "code",
   "execution_count": 11,
   "id": "43c40183",
   "metadata": {},
   "outputs": [
    {
     "name": "stdout",
     "output_type": "stream",
     "text": [
      "1\n",
      "2\n",
      "3\n",
      "4\n",
      "5\n",
      "6\n",
      "7\n",
      "8\n",
      "9\n",
      "10\n",
      "끝\n"
     ]
    }
   ],
   "source": [
    "num = 0\n",
    "\n",
    "while num < 10 :\n",
    "    num += 1\n",
    "    print(num)\n",
    "else :\n",
    "    print(\"끝\")"
   ]
  },
  {
   "cell_type": "code",
   "execution_count": 12,
   "id": "1a3936d1",
   "metadata": {},
   "outputs": [
    {
     "name": "stdout",
     "output_type": "stream",
     "text": [
      "1\n",
      "2\n",
      "3\n",
      "4\n",
      "5\n",
      "6\n",
      "7\n",
      "8\n",
      "9\n",
      "10\n",
      "끝\n"
     ]
    }
   ],
   "source": [
    "num = 0\n",
    "\n",
    "while num < 10 :\n",
    "    num += 1\n",
    "    print(num)\n",
    "print(\"끝\")"
   ]
  },
  {
   "cell_type": "markdown",
   "id": "49a37e5b",
   "metadata": {},
   "source": [
    "## function\n",
    "\n",
    "### 01. 내장 함수\n",
    "- print() : 화면 출력\n",
    "- type()  : 데이터나 변수의 데이터타입 반환\n",
    "- int()   : 정수형 데이터 타입으로 변환\n",
    "- float() : 실수형 데이터 타입으로 변환\n",
    "- str()   : 문자열 데이터 타입으로 변환\n",
    "- sum()   : 값들의 합계 반환\n",
    "- len()   : 길이 구하기\n",
    "- list()  : 새로운 리스트 데이터 타입 생성\n",
    "- tuple() : 새로운 튜플 데이터 타입 생성\n",
    "- dict()  : 새로운 딕셔너리 데이터 타입 생성\n",
    "- round() : 반올림 값 구하기\n",
    "- max()   : 최대값 구하기\n",
    "- min()   : 최소값 구하기\n",
    "- abs()   : 절대값 구하기"
   ]
  },
  {
   "cell_type": "markdown",
   "id": "e6651af9",
   "metadata": {},
   "source": [
    "### 02. 외장 함수\n",
    "- import 사용"
   ]
  },
  {
   "cell_type": "code",
   "execution_count": 13,
   "id": "a081113e",
   "metadata": {},
   "outputs": [
    {
     "data": {
      "text/plain": [
       "0.7551327162762964"
      ]
     },
     "execution_count": 13,
     "metadata": {},
     "output_type": "execute_result"
    }
   ],
   "source": [
    "import random\n",
    "random.random()"
   ]
  },
  {
   "cell_type": "markdown",
   "id": "cc172d6e",
   "metadata": {},
   "source": [
    "### 03. 사용자 정의 함수\n",
    "- def 키워드 사용"
   ]
  },
  {
   "cell_type": "markdown",
   "id": "f4000274",
   "metadata": {},
   "source": [
    "1. 매개변수가 없는 경우 함수만 호출하면 일정 값만 출력됨"
   ]
  },
  {
   "cell_type": "code",
   "execution_count": 14,
   "id": "2f3fad3e",
   "metadata": {},
   "outputs": [],
   "source": [
    "def who() :\n",
    "    print(\"it's me !\")"
   ]
  },
  {
   "cell_type": "code",
   "execution_count": 16,
   "id": "4488f410",
   "metadata": {},
   "outputs": [
    {
     "name": "stdout",
     "output_type": "stream",
     "text": [
      "it's me !\n"
     ]
    }
   ],
   "source": [
    "who()  # 매개변수(입력값) 없이 사용"
   ]
  },
  {
   "cell_type": "markdown",
   "id": "d7308e42",
   "metadata": {},
   "source": [
    "2. return 없이 print 만 있는 경우 : 변수값에 저장되지 않음"
   ]
  },
  {
   "cell_type": "code",
   "execution_count": 18,
   "id": "433fa1ac",
   "metadata": {},
   "outputs": [],
   "source": [
    "def my_sqrt(num) :\n",
    "    print( num * num )"
   ]
  },
  {
   "cell_type": "code",
   "execution_count": 19,
   "id": "5e254f86",
   "metadata": {},
   "outputs": [
    {
     "name": "stdout",
     "output_type": "stream",
     "text": [
      "100\n"
     ]
    }
   ],
   "source": [
    "my_sqrt(10)"
   ]
  },
  {
   "cell_type": "code",
   "execution_count": 20,
   "id": "003d547c",
   "metadata": {},
   "outputs": [
    {
     "name": "stdout",
     "output_type": "stream",
     "text": [
      "100\n"
     ]
    }
   ],
   "source": [
    "tmp_ = my_sqrt(10)"
   ]
  },
  {
   "cell_type": "code",
   "execution_count": 21,
   "id": "72bc0ee9",
   "metadata": {},
   "outputs": [],
   "source": [
    "tmp_ # 출력값 없음"
   ]
  },
  {
   "cell_type": "markdown",
   "id": "47ef8f6c",
   "metadata": {},
   "source": [
    "3. return 으로 내뱉는 값 설정하여 변수에 값 할당해보기"
   ]
  },
  {
   "cell_type": "code",
   "execution_count": 22,
   "id": "89b41c18",
   "metadata": {},
   "outputs": [],
   "source": [
    "def cubed(num) :\n",
    "    return num*num*num"
   ]
  },
  {
   "cell_type": "code",
   "execution_count": 23,
   "id": "97211b6d",
   "metadata": {},
   "outputs": [
    {
     "data": {
      "text/plain": [
       "125"
      ]
     },
     "execution_count": 23,
     "metadata": {},
     "output_type": "execute_result"
    }
   ],
   "source": [
    "cubed(5)"
   ]
  },
  {
   "cell_type": "code",
   "execution_count": 24,
   "id": "e1825e00",
   "metadata": {},
   "outputs": [],
   "source": [
    "tmp_ = cubed(5)"
   ]
  },
  {
   "cell_type": "code",
   "execution_count": 25,
   "id": "a4c4a87e",
   "metadata": {},
   "outputs": [
    {
     "data": {
      "text/plain": [
       "125"
      ]
     },
     "execution_count": 25,
     "metadata": {},
     "output_type": "execute_result"
    }
   ],
   "source": [
    "tmp_"
   ]
  },
  {
   "cell_type": "markdown",
   "id": "f3d6d742",
   "metadata": {},
   "source": [
    "# 2.2 library\n",
    "\n",
    "- pandas, numpy, sklearn"
   ]
  },
  {
   "cell_type": "markdown",
   "id": "c5d6f2c7",
   "metadata": {},
   "source": [
    "## 01. pandas\n",
    "\n",
    "- 행과 열로 구성된 1차원, 2차원의 데이터를 다룸"
   ]
  },
  {
   "cell_type": "code",
   "execution_count": 26,
   "id": "5a3eb18a",
   "metadata": {},
   "outputs": [],
   "source": [
    "import pandas as pd"
   ]
  },
  {
   "cell_type": "markdown",
   "id": "aa1a5d02",
   "metadata": {},
   "source": [
    "### pandas 데이터 타입 : Series, DataFrame"
   ]
  },
  {
   "cell_type": "code",
   "execution_count": 30,
   "id": "5acceb6d",
   "metadata": {},
   "outputs": [
    {
     "name": "stdout",
     "output_type": "stream",
     "text": [
      "<class 'pandas.core.series.Series'>\n"
     ]
    },
    {
     "data": {
      "text/plain": [
       "0    홍길동\n",
       "1    이순신\n",
       "2    유관순\n",
       "3    윤봉길\n",
       "dtype: object"
      ]
     },
     "metadata": {},
     "output_type": "display_data"
    }
   ],
   "source": [
    "lst_var = ['홍길동', '이순신', '유관순', '윤봉길']\n",
    "series_ = pd.Series(lst_var)\n",
    "\n",
    "print(type(series_))\n",
    "display(series_)"
   ]
  },
  {
   "cell_type": "code",
   "execution_count": 29,
   "id": "668ddc61",
   "metadata": {},
   "outputs": [
    {
     "name": "stdout",
     "output_type": "stream",
     "text": [
      "<class 'pandas.core.frame.DataFrame'>\n"
     ]
    },
    {
     "data": {
      "text/html": [
       "<div>\n",
       "<style scoped>\n",
       "    .dataframe tbody tr th:only-of-type {\n",
       "        vertical-align: middle;\n",
       "    }\n",
       "\n",
       "    .dataframe tbody tr th {\n",
       "        vertical-align: top;\n",
       "    }\n",
       "\n",
       "    .dataframe thead th {\n",
       "        text-align: right;\n",
       "    }\n",
       "</style>\n",
       "<table border=\"1\" class=\"dataframe\">\n",
       "  <thead>\n",
       "    <tr style=\"text-align: right;\">\n",
       "      <th></th>\n",
       "      <th>0</th>\n",
       "      <th>1</th>\n",
       "      <th>2</th>\n",
       "    </tr>\n",
       "  </thead>\n",
       "  <tbody>\n",
       "    <tr>\n",
       "      <th>0</th>\n",
       "      <td>홍길동</td>\n",
       "      <td>29</td>\n",
       "      <td>여</td>\n",
       "    </tr>\n",
       "    <tr>\n",
       "      <th>1</th>\n",
       "      <td>이순신</td>\n",
       "      <td>24</td>\n",
       "      <td>남</td>\n",
       "    </tr>\n",
       "    <tr>\n",
       "      <th>2</th>\n",
       "      <td>유관순</td>\n",
       "      <td>38</td>\n",
       "      <td>남</td>\n",
       "    </tr>\n",
       "    <tr>\n",
       "      <th>3</th>\n",
       "      <td>윤봉길</td>\n",
       "      <td>31</td>\n",
       "      <td>여</td>\n",
       "    </tr>\n",
       "  </tbody>\n",
       "</table>\n",
       "</div>"
      ],
      "text/plain": [
       "     0   1  2\n",
       "0  홍길동  29  여\n",
       "1  이순신  24  남\n",
       "2  유관순  38  남\n",
       "3  윤봉길  31  여"
      ]
     },
     "metadata": {},
     "output_type": "display_data"
    }
   ],
   "source": [
    "lst_var = (['홍길동',29,'여'],\n",
    "           ['이순신',24,'남'],\n",
    "           ['유관순',38,'남'],\n",
    "           ['윤봉길',31,'여'])\n",
    "\n",
    "# list를 데이터 프레임 타입으로 변경\n",
    "df_ = pd.DataFrame(lst_var)\n",
    "\n",
    "print(type(df_))\n",
    "display(df_)"
   ]
  },
  {
   "cell_type": "markdown",
   "id": "0f98e1b7",
   "metadata": {},
   "source": [
    "### index, columns 변경"
   ]
  },
  {
   "cell_type": "code",
   "execution_count": 31,
   "id": "2c243350",
   "metadata": {},
   "outputs": [
    {
     "data": {
      "text/html": [
       "<div>\n",
       "<style scoped>\n",
       "    .dataframe tbody tr th:only-of-type {\n",
       "        vertical-align: middle;\n",
       "    }\n",
       "\n",
       "    .dataframe tbody tr th {\n",
       "        vertical-align: top;\n",
       "    }\n",
       "\n",
       "    .dataframe thead th {\n",
       "        text-align: right;\n",
       "    }\n",
       "</style>\n",
       "<table border=\"1\" class=\"dataframe\">\n",
       "  <thead>\n",
       "    <tr style=\"text-align: right;\">\n",
       "      <th></th>\n",
       "      <th>0</th>\n",
       "      <th>1</th>\n",
       "      <th>2</th>\n",
       "    </tr>\n",
       "  </thead>\n",
       "  <tbody>\n",
       "    <tr>\n",
       "      <th>1번</th>\n",
       "      <td>홍길동</td>\n",
       "      <td>29</td>\n",
       "      <td>여</td>\n",
       "    </tr>\n",
       "    <tr>\n",
       "      <th>2번</th>\n",
       "      <td>이순신</td>\n",
       "      <td>24</td>\n",
       "      <td>남</td>\n",
       "    </tr>\n",
       "    <tr>\n",
       "      <th>3번</th>\n",
       "      <td>유관순</td>\n",
       "      <td>38</td>\n",
       "      <td>남</td>\n",
       "    </tr>\n",
       "    <tr>\n",
       "      <th>4번</th>\n",
       "      <td>윤봉길</td>\n",
       "      <td>31</td>\n",
       "      <td>여</td>\n",
       "    </tr>\n",
       "  </tbody>\n",
       "</table>\n",
       "</div>"
      ],
      "text/plain": [
       "      0   1  2\n",
       "1번  홍길동  29  여\n",
       "2번  이순신  24  남\n",
       "3번  유관순  38  남\n",
       "4번  윤봉길  31  여"
      ]
     },
     "execution_count": 31,
     "metadata": {},
     "output_type": "execute_result"
    }
   ],
   "source": [
    "df_.index = ['1번','2번','3번','4번']\n",
    "df_"
   ]
  },
  {
   "cell_type": "code",
   "execution_count": 32,
   "id": "14f44bdd",
   "metadata": {},
   "outputs": [
    {
     "data": {
      "text/html": [
       "<div>\n",
       "<style scoped>\n",
       "    .dataframe tbody tr th:only-of-type {\n",
       "        vertical-align: middle;\n",
       "    }\n",
       "\n",
       "    .dataframe tbody tr th {\n",
       "        vertical-align: top;\n",
       "    }\n",
       "\n",
       "    .dataframe thead th {\n",
       "        text-align: right;\n",
       "    }\n",
       "</style>\n",
       "<table border=\"1\" class=\"dataframe\">\n",
       "  <thead>\n",
       "    <tr style=\"text-align: right;\">\n",
       "      <th></th>\n",
       "      <th>이름</th>\n",
       "      <th>나이</th>\n",
       "      <th>성별</th>\n",
       "    </tr>\n",
       "  </thead>\n",
       "  <tbody>\n",
       "    <tr>\n",
       "      <th>1번</th>\n",
       "      <td>홍길동</td>\n",
       "      <td>29</td>\n",
       "      <td>여</td>\n",
       "    </tr>\n",
       "    <tr>\n",
       "      <th>2번</th>\n",
       "      <td>이순신</td>\n",
       "      <td>24</td>\n",
       "      <td>남</td>\n",
       "    </tr>\n",
       "    <tr>\n",
       "      <th>3번</th>\n",
       "      <td>유관순</td>\n",
       "      <td>38</td>\n",
       "      <td>남</td>\n",
       "    </tr>\n",
       "    <tr>\n",
       "      <th>4번</th>\n",
       "      <td>윤봉길</td>\n",
       "      <td>31</td>\n",
       "      <td>여</td>\n",
       "    </tr>\n",
       "  </tbody>\n",
       "</table>\n",
       "</div>"
      ],
      "text/plain": [
       "     이름  나이 성별\n",
       "1번  홍길동  29  여\n",
       "2번  이순신  24  남\n",
       "3번  유관순  38  남\n",
       "4번  윤봉길  31  여"
      ]
     },
     "execution_count": 32,
     "metadata": {},
     "output_type": "execute_result"
    }
   ],
   "source": [
    "df_.columns = ['이름','나이','성별']\n",
    "df_"
   ]
  },
  {
   "cell_type": "markdown",
   "id": "f540ac00",
   "metadata": {},
   "source": [
    "### 일부 열/행 값 추출 : [ ]"
   ]
  },
  {
   "cell_type": "code",
   "execution_count": 33,
   "id": "a09d9096",
   "metadata": {},
   "outputs": [
    {
     "data": {
      "text/plain": [
       "1번    29\n",
       "2번    24\n",
       "3번    38\n",
       "4번    31\n",
       "Name: 나이, dtype: int64"
      ]
     },
     "execution_count": 33,
     "metadata": {},
     "output_type": "execute_result"
    }
   ],
   "source": [
    "# 열 값 추출\n",
    "df_['나이']"
   ]
  },
  {
   "cell_type": "markdown",
   "id": "690d3aca",
   "metadata": {},
   "source": [
    "행 값 추출시,\n",
    "- index num의 경우 : [시작위치:끝위치+1]\n",
    "- index name 의 경우 : [시작위치:끝위치]"
   ]
  },
  {
   "cell_type": "code",
   "execution_count": 34,
   "id": "7c9cb3a0",
   "metadata": {
    "scrolled": true
   },
   "outputs": [
    {
     "data": {
      "text/html": [
       "<div>\n",
       "<style scoped>\n",
       "    .dataframe tbody tr th:only-of-type {\n",
       "        vertical-align: middle;\n",
       "    }\n",
       "\n",
       "    .dataframe tbody tr th {\n",
       "        vertical-align: top;\n",
       "    }\n",
       "\n",
       "    .dataframe thead th {\n",
       "        text-align: right;\n",
       "    }\n",
       "</style>\n",
       "<table border=\"1\" class=\"dataframe\">\n",
       "  <thead>\n",
       "    <tr style=\"text-align: right;\">\n",
       "      <th></th>\n",
       "      <th>이름</th>\n",
       "      <th>나이</th>\n",
       "      <th>성별</th>\n",
       "    </tr>\n",
       "  </thead>\n",
       "  <tbody>\n",
       "    <tr>\n",
       "      <th>2번</th>\n",
       "      <td>이순신</td>\n",
       "      <td>24</td>\n",
       "      <td>남</td>\n",
       "    </tr>\n",
       "    <tr>\n",
       "      <th>3번</th>\n",
       "      <td>유관순</td>\n",
       "      <td>38</td>\n",
       "      <td>남</td>\n",
       "    </tr>\n",
       "  </tbody>\n",
       "</table>\n",
       "</div>"
      ],
      "text/plain": [
       "     이름  나이 성별\n",
       "2번  이순신  24  남\n",
       "3번  유관순  38  남"
      ]
     },
     "execution_count": 34,
     "metadata": {},
     "output_type": "execute_result"
    }
   ],
   "source": [
    "# 행 값 추출\n",
    "df_[1:3]"
   ]
  },
  {
   "cell_type": "code",
   "execution_count": 35,
   "id": "06471048",
   "metadata": {},
   "outputs": [
    {
     "data": {
      "text/html": [
       "<div>\n",
       "<style scoped>\n",
       "    .dataframe tbody tr th:only-of-type {\n",
       "        vertical-align: middle;\n",
       "    }\n",
       "\n",
       "    .dataframe tbody tr th {\n",
       "        vertical-align: top;\n",
       "    }\n",
       "\n",
       "    .dataframe thead th {\n",
       "        text-align: right;\n",
       "    }\n",
       "</style>\n",
       "<table border=\"1\" class=\"dataframe\">\n",
       "  <thead>\n",
       "    <tr style=\"text-align: right;\">\n",
       "      <th></th>\n",
       "      <th>이름</th>\n",
       "      <th>나이</th>\n",
       "      <th>성별</th>\n",
       "    </tr>\n",
       "  </thead>\n",
       "  <tbody>\n",
       "    <tr>\n",
       "      <th>2번</th>\n",
       "      <td>이순신</td>\n",
       "      <td>24</td>\n",
       "      <td>남</td>\n",
       "    </tr>\n",
       "    <tr>\n",
       "      <th>3번</th>\n",
       "      <td>유관순</td>\n",
       "      <td>38</td>\n",
       "      <td>남</td>\n",
       "    </tr>\n",
       "  </tbody>\n",
       "</table>\n",
       "</div>"
      ],
      "text/plain": [
       "     이름  나이 성별\n",
       "2번  이순신  24  남\n",
       "3번  유관순  38  남"
      ]
     },
     "execution_count": 35,
     "metadata": {},
     "output_type": "execute_result"
    }
   ],
   "source": [
    "df_['2번':'3번']"
   ]
  },
  {
   "cell_type": "markdown",
   "id": "32135658",
   "metadata": {},
   "source": [
    "### 파일 읽고 쓰기\n",
    "- pd.read_csv(), pd.to_csv()"
   ]
  },
  {
   "cell_type": "code",
   "execution_count": null,
   "id": "f484d8f0",
   "metadata": {},
   "outputs": [],
   "source": [
    "# 코드 예시로 실행은 X\n",
    "\n",
    "dataset = pd.read_csv('data/train.csv')\n",
    "dataset"
   ]
  },
  {
   "cell_type": "code",
   "execution_count": null,
   "id": "e7e550c7",
   "metadata": {},
   "outputs": [],
   "source": [
    "# 코드 예시로 실행은 X\n",
    "\n",
    "dataset.to_csv('data/12345.csv')"
   ]
  },
  {
   "cell_type": "markdown",
   "id": "e951917a",
   "metadata": {},
   "source": [
    "## 02. sklearn\n",
    "\n",
    "- 머신러닝(기계학습) 수행할 수 있는 라이브러리\n",
    "- scikit-learn 의 약자\n",
    "\n",
    "### sklearn 라이브러리/ 패키지\n",
    "- preprocessing : StandardScaler, MinMaxScaler, RobustScaler, OneHotEncoder, LabelEncoder, ...\n",
    "- model_selection : train_test_split, cross_validation, learning_curve, validation_curve, GridSearchCV, ...\n",
    "- linear_model : LogisticRegression, Perceptron, ...\n",
    "- tree : DecisionTreeClassifier, ..."
   ]
  },
  {
   "cell_type": "code",
   "execution_count": 37,
   "id": "615b098d",
   "metadata": {},
   "outputs": [],
   "source": [
    "# 함수 import\n",
    "from sklearn.model_selection import train_test_split\n",
    "from sklearn.tree            import DecisionTreeClassifier"
   ]
  },
  {
   "cell_type": "markdown",
   "id": "2f1317be",
   "metadata": {},
   "source": [
    "## 03. numpy\n",
    "\n",
    "- 벡터, 행렬 등 수치 연산 수행하는 선형대수 라이브러리"
   ]
  },
  {
   "cell_type": "code",
   "execution_count": 39,
   "id": "5e7fd12c",
   "metadata": {},
   "outputs": [
    {
     "data": {
      "text/plain": [
       "array([[0., 0., 0.],\n",
       "       [0., 0., 0.]])"
      ]
     },
     "execution_count": 39,
     "metadata": {},
     "output_type": "execute_result"
    }
   ],
   "source": [
    "import numpy as np\n",
    "\n",
    "np.zeros((2,3))      # 2행 3열 모두 0으로 채우기"
   ]
  },
  {
   "cell_type": "code",
   "execution_count": 42,
   "id": "35555a81",
   "metadata": {},
   "outputs": [
    {
     "data": {
      "text/plain": [
       "array([[1., 1., 1.],\n",
       "       [1., 1., 1.]])"
      ]
     },
     "execution_count": 42,
     "metadata": {},
     "output_type": "execute_result"
    }
   ],
   "source": [
    "np.ones((2,3))       # 2행 3열 모두 1로 채우기"
   ]
  },
  {
   "cell_type": "code",
   "execution_count": 44,
   "id": "d494c80c",
   "metadata": {},
   "outputs": [
    {
     "data": {
      "text/plain": [
       "array([[10, 10, 10],\n",
       "       [10, 10, 10]])"
      ]
     },
     "execution_count": 44,
     "metadata": {},
     "output_type": "execute_result"
    }
   ],
   "source": [
    "np.full((2,3), 10)   # 2행 3열 특정 수(10)로 채우기"
   ]
  },
  {
   "cell_type": "code",
   "execution_count": 50,
   "id": "ce7aa5d9",
   "metadata": {},
   "outputs": [
    {
     "data": {
      "text/plain": [
       "array([ 0,  1,  2,  3,  4,  5,  6,  7,  8,  9, 10, 11, 12, 13, 14, 15, 16,\n",
       "       17, 18, 19])"
      ]
     },
     "execution_count": 50,
     "metadata": {},
     "output_type": "execute_result"
    }
   ],
   "source": [
    "np.array(range(20))  # 0부터 20개의 숫자 만들기 > shape : (20, )"
   ]
  },
  {
   "cell_type": "code",
   "execution_count": 52,
   "id": "2ebdc556",
   "metadata": {},
   "outputs": [
    {
     "data": {
      "text/plain": [
       "array([[ 0,  1,  2,  3,  4],\n",
       "       [ 5,  6,  7,  8,  9],\n",
       "       [10, 11, 12, 13, 14],\n",
       "       [15, 16, 17, 18, 19]])"
      ]
     },
     "execution_count": 52,
     "metadata": {},
     "output_type": "execute_result"
    }
   ],
   "source": [
    "np.array(range(20)).reshape(4,5)   # 0부터 20개의 숫자로 4행 5열의 행렬 만들기"
   ]
  },
  {
   "cell_type": "markdown",
   "id": "b6734c58",
   "metadata": {},
   "source": [
    "# 2.3 내장 함수 활용"
   ]
  },
  {
   "cell_type": "code",
   "execution_count": 55,
   "id": "43b295d9",
   "metadata": {},
   "outputs": [],
   "source": [
    "data = {\n",
    "    '나이' : [20, 23, 49, 38, 32, 29, 25, 30, 32, 26],\n",
    "    '성별' : ['male','female','male','female','female','female','female','female','male', np.nan]\n",
    "       }"
   ]
  },
  {
   "cell_type": "code",
   "execution_count": 56,
   "id": "4a409dd8",
   "metadata": {},
   "outputs": [
    {
     "data": {
      "text/html": [
       "<div>\n",
       "<style scoped>\n",
       "    .dataframe tbody tr th:only-of-type {\n",
       "        vertical-align: middle;\n",
       "    }\n",
       "\n",
       "    .dataframe tbody tr th {\n",
       "        vertical-align: top;\n",
       "    }\n",
       "\n",
       "    .dataframe thead th {\n",
       "        text-align: right;\n",
       "    }\n",
       "</style>\n",
       "<table border=\"1\" class=\"dataframe\">\n",
       "  <thead>\n",
       "    <tr style=\"text-align: right;\">\n",
       "      <th></th>\n",
       "      <th>나이</th>\n",
       "      <th>성별</th>\n",
       "    </tr>\n",
       "  </thead>\n",
       "  <tbody>\n",
       "    <tr>\n",
       "      <th>0</th>\n",
       "      <td>20</td>\n",
       "      <td>male</td>\n",
       "    </tr>\n",
       "    <tr>\n",
       "      <th>1</th>\n",
       "      <td>23</td>\n",
       "      <td>female</td>\n",
       "    </tr>\n",
       "    <tr>\n",
       "      <th>2</th>\n",
       "      <td>49</td>\n",
       "      <td>male</td>\n",
       "    </tr>\n",
       "    <tr>\n",
       "      <th>3</th>\n",
       "      <td>38</td>\n",
       "      <td>female</td>\n",
       "    </tr>\n",
       "    <tr>\n",
       "      <th>4</th>\n",
       "      <td>32</td>\n",
       "      <td>female</td>\n",
       "    </tr>\n",
       "    <tr>\n",
       "      <th>5</th>\n",
       "      <td>29</td>\n",
       "      <td>female</td>\n",
       "    </tr>\n",
       "    <tr>\n",
       "      <th>6</th>\n",
       "      <td>25</td>\n",
       "      <td>female</td>\n",
       "    </tr>\n",
       "    <tr>\n",
       "      <th>7</th>\n",
       "      <td>30</td>\n",
       "      <td>female</td>\n",
       "    </tr>\n",
       "    <tr>\n",
       "      <th>8</th>\n",
       "      <td>32</td>\n",
       "      <td>male</td>\n",
       "    </tr>\n",
       "    <tr>\n",
       "      <th>9</th>\n",
       "      <td>26</td>\n",
       "      <td>NaN</td>\n",
       "    </tr>\n",
       "  </tbody>\n",
       "</table>\n",
       "</div>"
      ],
      "text/plain": [
       "   나이      성별\n",
       "0  20    male\n",
       "1  23  female\n",
       "2  49    male\n",
       "3  38  female\n",
       "4  32  female\n",
       "5  29  female\n",
       "6  25  female\n",
       "7  30  female\n",
       "8  32    male\n",
       "9  26     NaN"
      ]
     },
     "execution_count": 56,
     "metadata": {},
     "output_type": "execute_result"
    }
   ],
   "source": [
    "data_frm = pd.DataFrame(data)\n",
    "data_frm"
   ]
  },
  {
   "cell_type": "markdown",
   "id": "10bcc31a",
   "metadata": {},
   "source": [
    "## 숫자 계산 함수\n",
    "\n",
    "### - 합계 : sum()"
   ]
  },
  {
   "cell_type": "code",
   "execution_count": 57,
   "id": "d8cbde51",
   "metadata": {},
   "outputs": [
    {
     "data": {
      "text/plain": [
       "0    20\n",
       "1    23\n",
       "2    49\n",
       "3    38\n",
       "4    32\n",
       "5    29\n",
       "6    25\n",
       "7    30\n",
       "8    32\n",
       "9    26\n",
       "Name: 나이, dtype: int64"
      ]
     },
     "execution_count": 57,
     "metadata": {},
     "output_type": "execute_result"
    }
   ],
   "source": [
    "data_frm['나이']"
   ]
  },
  {
   "cell_type": "code",
   "execution_count": 58,
   "id": "e3ab163d",
   "metadata": {},
   "outputs": [
    {
     "data": {
      "text/plain": [
       "304"
      ]
     },
     "execution_count": 58,
     "metadata": {},
     "output_type": "execute_result"
    }
   ],
   "source": [
    "data_frm['나이'].sum()"
   ]
  },
  {
   "cell_type": "code",
   "execution_count": 59,
   "id": "76571ae5",
   "metadata": {},
   "outputs": [
    {
     "data": {
      "text/plain": [
       "304"
      ]
     },
     "execution_count": 59,
     "metadata": {},
     "output_type": "execute_result"
    }
   ],
   "source": [
    "sum(data_frm['나이'])"
   ]
  },
  {
   "cell_type": "markdown",
   "id": "20da4566",
   "metadata": {},
   "source": [
    "### - 최대값 : max()"
   ]
  },
  {
   "cell_type": "code",
   "execution_count": 61,
   "id": "f4156306",
   "metadata": {},
   "outputs": [
    {
     "data": {
      "text/plain": [
       "49"
      ]
     },
     "execution_count": 61,
     "metadata": {},
     "output_type": "execute_result"
    }
   ],
   "source": [
    "data_frm['나이'].max()"
   ]
  },
  {
   "cell_type": "code",
   "execution_count": 62,
   "id": "f94ebab2",
   "metadata": {},
   "outputs": [
    {
     "data": {
      "text/plain": [
       "49"
      ]
     },
     "execution_count": 62,
     "metadata": {},
     "output_type": "execute_result"
    }
   ],
   "source": [
    "max(data_frm['나이'])"
   ]
  },
  {
   "cell_type": "markdown",
   "id": "cb4ba88f",
   "metadata": {},
   "source": [
    "### - 최소값 : min()"
   ]
  },
  {
   "cell_type": "code",
   "execution_count": 63,
   "id": "9f727fb8",
   "metadata": {},
   "outputs": [
    {
     "data": {
      "text/plain": [
       "20"
      ]
     },
     "execution_count": 63,
     "metadata": {},
     "output_type": "execute_result"
    }
   ],
   "source": [
    "data_frm['나이'].min()"
   ]
  },
  {
   "cell_type": "code",
   "execution_count": 64,
   "id": "acdbdb30",
   "metadata": {},
   "outputs": [
    {
     "data": {
      "text/plain": [
       "20"
      ]
     },
     "execution_count": 64,
     "metadata": {},
     "output_type": "execute_result"
    }
   ],
   "source": [
    "min(data_frm['나이'])"
   ]
  },
  {
   "cell_type": "markdown",
   "id": "992ed298",
   "metadata": {},
   "source": [
    "### - 평균 : mean()"
   ]
  },
  {
   "cell_type": "code",
   "execution_count": 65,
   "id": "21c404b9",
   "metadata": {},
   "outputs": [
    {
     "data": {
      "text/plain": [
       "30.4"
      ]
     },
     "execution_count": 65,
     "metadata": {},
     "output_type": "execute_result"
    }
   ],
   "source": [
    "data_frm['나이'].mean()"
   ]
  },
  {
   "cell_type": "code",
   "execution_count": 67,
   "id": "977ec8f7",
   "metadata": {},
   "outputs": [],
   "source": [
    "# mean(data_frm['나이']) -- error"
   ]
  },
  {
   "cell_type": "markdown",
   "id": "1a57d27f",
   "metadata": {},
   "source": [
    "### - 중위값 : median()"
   ]
  },
  {
   "cell_type": "code",
   "execution_count": 68,
   "id": "4d185a1d",
   "metadata": {},
   "outputs": [
    {
     "data": {
      "text/plain": [
       "29.5"
      ]
     },
     "execution_count": 68,
     "metadata": {},
     "output_type": "execute_result"
    }
   ],
   "source": [
    "data_frm['나이'].median()"
   ]
  },
  {
   "cell_type": "markdown",
   "id": "44e2d5b7",
   "metadata": {},
   "source": [
    "### - 분산 : var()"
   ]
  },
  {
   "cell_type": "code",
   "execution_count": 69,
   "id": "debeba8e",
   "metadata": {},
   "outputs": [
    {
     "data": {
      "text/plain": [
       "69.15555555555557"
      ]
     },
     "execution_count": 69,
     "metadata": {},
     "output_type": "execute_result"
    }
   ],
   "source": [
    "data_frm['나이'].var()"
   ]
  },
  {
   "cell_type": "markdown",
   "id": "872d1608",
   "metadata": {},
   "source": [
    "### - 표준편차 : std()"
   ]
  },
  {
   "cell_type": "code",
   "execution_count": 70,
   "id": "bf79c5e1",
   "metadata": {},
   "outputs": [
    {
     "data": {
      "text/plain": [
       "8.315981935740094"
      ]
     },
     "execution_count": 70,
     "metadata": {},
     "output_type": "execute_result"
    }
   ],
   "source": [
    "data_frm['나이'].std()"
   ]
  },
  {
   "cell_type": "markdown",
   "id": "f6f96a66",
   "metadata": {},
   "source": [
    "### - 거듭제곱 : pow()\n",
    "- 숫자 데이터의 지수값 즉, 거듭제곱값 계산"
   ]
  },
  {
   "cell_type": "code",
   "execution_count": 71,
   "id": "a8e42b25",
   "metadata": {},
   "outputs": [
    {
     "data": {
      "text/plain": [
       "0      8000\n",
       "1     12167\n",
       "2    117649\n",
       "3     54872\n",
       "4     32768\n",
       "5     24389\n",
       "6     15625\n",
       "7     27000\n",
       "8     32768\n",
       "9     17576\n",
       "Name: 나이, dtype: int64"
      ]
     },
     "execution_count": 71,
     "metadata": {},
     "output_type": "execute_result"
    }
   ],
   "source": [
    "pow(data_frm['나이'], 3)"
   ]
  },
  {
   "cell_type": "markdown",
   "id": "f5327500",
   "metadata": {},
   "source": [
    "### - 사분위수 : quentile()"
   ]
  },
  {
   "cell_type": "code",
   "execution_count": 73,
   "id": "5bb08eb7",
   "metadata": {},
   "outputs": [
    {
     "data": {
      "text/plain": [
       "나이    25.25\n",
       "Name: 0.25, dtype: float64"
      ]
     },
     "execution_count": 73,
     "metadata": {},
     "output_type": "execute_result"
    }
   ],
   "source": [
    "data_frm.quantile(.25)   # 1사분위수"
   ]
  },
  {
   "cell_type": "code",
   "execution_count": 74,
   "id": "c0fc75c8",
   "metadata": {},
   "outputs": [
    {
     "data": {
      "text/plain": [
       "나이    29.5\n",
       "Name: 0.5, dtype: float64"
      ]
     },
     "execution_count": 74,
     "metadata": {},
     "output_type": "execute_result"
    }
   ],
   "source": [
    "data_frm.quantile(.5)   # 2사분위수"
   ]
  },
  {
   "cell_type": "code",
   "execution_count": 75,
   "id": "183af8d9",
   "metadata": {},
   "outputs": [
    {
     "data": {
      "text/plain": [
       "나이    32.0\n",
       "Name: 0.75, dtype: float64"
      ]
     },
     "execution_count": 75,
     "metadata": {},
     "output_type": "execute_result"
    }
   ],
   "source": [
    "data_frm.quantile(.75)   # 3사분위수"
   ]
  },
  {
   "cell_type": "code",
   "execution_count": 76,
   "id": "8c3f5210",
   "metadata": {},
   "outputs": [
    {
     "data": {
      "text/plain": [
       "나이    49.0\n",
       "Name: 1.0, dtype: float64"
      ]
     },
     "execution_count": 76,
     "metadata": {},
     "output_type": "execute_result"
    }
   ],
   "source": [
    "data_frm.quantile(1)     # 4사분위수"
   ]
  },
  {
   "cell_type": "markdown",
   "id": "0ea3ad16",
   "metadata": {},
   "source": [
    "### - 반올림 구하기 : round()"
   ]
  },
  {
   "cell_type": "code",
   "execution_count": 79,
   "id": "d9056457",
   "metadata": {},
   "outputs": [
    {
     "data": {
      "text/plain": [
       "0    3.0\n",
       "1    3.0\n",
       "2    7.0\n",
       "3    5.0\n",
       "4    5.0\n",
       "5    4.0\n",
       "6    4.0\n",
       "7    4.0\n",
       "8    5.0\n",
       "9    4.0\n",
       "Name: 나이, dtype: float64"
      ]
     },
     "execution_count": 79,
     "metadata": {},
     "output_type": "execute_result"
    }
   ],
   "source": [
    "round(data_frm['나이'] / 7)  # default : 소수점 첫째 자리에서 반올림"
   ]
  },
  {
   "cell_type": "code",
   "execution_count": 80,
   "id": "68dcbf6c",
   "metadata": {},
   "outputs": [
    {
     "data": {
      "text/plain": [
       "0    2.86\n",
       "1    3.29\n",
       "2    7.00\n",
       "3    5.43\n",
       "4    4.57\n",
       "5    4.14\n",
       "6    3.57\n",
       "7    4.29\n",
       "8    4.57\n",
       "9    3.71\n",
       "Name: 나이, dtype: float64"
      ]
     },
     "execution_count": 80,
     "metadata": {},
     "output_type": "execute_result"
    }
   ],
   "source": [
    "round(data_frm['나이'] / 7, 2)"
   ]
  },
  {
   "cell_type": "code",
   "execution_count": 83,
   "id": "e51a15cc",
   "metadata": {},
   "outputs": [
    {
     "name": "stdout",
     "output_type": "stream",
     "text": [
      "ceil  :  124\n",
      "floor :  123\n"
     ]
    }
   ],
   "source": [
    "import math\n",
    "\n",
    "print('ceil  : ', math.ceil(123.456))\n",
    "print('floor : ', math.floor(123.456))"
   ]
  },
  {
   "cell_type": "markdown",
   "id": "dda6d4fb",
   "metadata": {},
   "source": [
    "## shape 관련 함수\n",
    "\n",
    "### - 모양 구하기 : shape\n",
    "- 괄호 없이 DataFrame.shape 으로 사용"
   ]
  },
  {
   "cell_type": "code",
   "execution_count": 85,
   "id": "a3032389",
   "metadata": {},
   "outputs": [
    {
     "data": {
      "text/plain": [
       "((10, 2), (10,))"
      ]
     },
     "execution_count": 85,
     "metadata": {},
     "output_type": "execute_result"
    }
   ],
   "source": [
    "data_frm.shape, data_frm['나이'].shape"
   ]
  },
  {
   "cell_type": "markdown",
   "id": "ee899856",
   "metadata": {},
   "source": [
    "### - 길이 구하기 : len( )"
   ]
  },
  {
   "cell_type": "code",
   "execution_count": 91,
   "id": "136219fe",
   "metadata": {},
   "outputs": [
    {
     "name": "stdout",
     "output_type": "stream",
     "text": [
      "데이터프레임 - 원소개수 :  10\n",
      "문자열 - 문자개수(길이) :  8\n",
      "문자열 - 문자개수(길이) :  10\n"
     ]
    }
   ],
   "source": [
    "print('데이터프레임 - 원소개수 : ', len(data_frm))\n",
    "print('문자열 - 문자개수(길이) : ', len('Superman'))\n",
    "print('문자열 - 문자개수(길이) : ', len('1234567890'))\n",
    "# print('숫자 - 길이             : ', len(123)) -- error"
   ]
  },
  {
   "cell_type": "markdown",
   "id": "939a6f5b",
   "metadata": {},
   "source": [
    "### - 크기 구하기 : size\n",
    "- 데이터 변수 안에 들어 있는 값들의 개수 출력"
   ]
  },
  {
   "cell_type": "code",
   "execution_count": 92,
   "id": "773dfa14",
   "metadata": {
    "scrolled": true
   },
   "outputs": [
    {
     "data": {
      "text/plain": [
       "20"
      ]
     },
     "execution_count": 92,
     "metadata": {},
     "output_type": "execute_result"
    }
   ],
   "source": [
    "data_frm.size"
   ]
  },
  {
   "cell_type": "markdown",
   "id": "ae458d25",
   "metadata": {},
   "source": [
    "### - 상위 데이터 가져오기 : head( )"
   ]
  },
  {
   "cell_type": "code",
   "execution_count": 93,
   "id": "ed759e7a",
   "metadata": {},
   "outputs": [
    {
     "data": {
      "text/html": [
       "<div>\n",
       "<style scoped>\n",
       "    .dataframe tbody tr th:only-of-type {\n",
       "        vertical-align: middle;\n",
       "    }\n",
       "\n",
       "    .dataframe tbody tr th {\n",
       "        vertical-align: top;\n",
       "    }\n",
       "\n",
       "    .dataframe thead th {\n",
       "        text-align: right;\n",
       "    }\n",
       "</style>\n",
       "<table border=\"1\" class=\"dataframe\">\n",
       "  <thead>\n",
       "    <tr style=\"text-align: right;\">\n",
       "      <th></th>\n",
       "      <th>나이</th>\n",
       "      <th>성별</th>\n",
       "    </tr>\n",
       "  </thead>\n",
       "  <tbody>\n",
       "    <tr>\n",
       "      <th>0</th>\n",
       "      <td>20</td>\n",
       "      <td>male</td>\n",
       "    </tr>\n",
       "    <tr>\n",
       "      <th>1</th>\n",
       "      <td>23</td>\n",
       "      <td>female</td>\n",
       "    </tr>\n",
       "    <tr>\n",
       "      <th>2</th>\n",
       "      <td>49</td>\n",
       "      <td>male</td>\n",
       "    </tr>\n",
       "    <tr>\n",
       "      <th>3</th>\n",
       "      <td>38</td>\n",
       "      <td>female</td>\n",
       "    </tr>\n",
       "    <tr>\n",
       "      <th>4</th>\n",
       "      <td>32</td>\n",
       "      <td>female</td>\n",
       "    </tr>\n",
       "  </tbody>\n",
       "</table>\n",
       "</div>"
      ],
      "text/plain": [
       "   나이      성별\n",
       "0  20    male\n",
       "1  23  female\n",
       "2  49    male\n",
       "3  38  female\n",
       "4  32  female"
      ]
     },
     "execution_count": 93,
     "metadata": {},
     "output_type": "execute_result"
    }
   ],
   "source": [
    "data_frm.head()"
   ]
  },
  {
   "cell_type": "code",
   "execution_count": 94,
   "id": "fb50f5e1",
   "metadata": {},
   "outputs": [
    {
     "data": {
      "text/html": [
       "<div>\n",
       "<style scoped>\n",
       "    .dataframe tbody tr th:only-of-type {\n",
       "        vertical-align: middle;\n",
       "    }\n",
       "\n",
       "    .dataframe tbody tr th {\n",
       "        vertical-align: top;\n",
       "    }\n",
       "\n",
       "    .dataframe thead th {\n",
       "        text-align: right;\n",
       "    }\n",
       "</style>\n",
       "<table border=\"1\" class=\"dataframe\">\n",
       "  <thead>\n",
       "    <tr style=\"text-align: right;\">\n",
       "      <th></th>\n",
       "      <th>나이</th>\n",
       "      <th>성별</th>\n",
       "    </tr>\n",
       "  </thead>\n",
       "  <tbody>\n",
       "    <tr>\n",
       "      <th>0</th>\n",
       "      <td>20</td>\n",
       "      <td>male</td>\n",
       "    </tr>\n",
       "    <tr>\n",
       "      <th>1</th>\n",
       "      <td>23</td>\n",
       "      <td>female</td>\n",
       "    </tr>\n",
       "  </tbody>\n",
       "</table>\n",
       "</div>"
      ],
      "text/plain": [
       "   나이      성별\n",
       "0  20    male\n",
       "1  23  female"
      ]
     },
     "execution_count": 94,
     "metadata": {},
     "output_type": "execute_result"
    }
   ],
   "source": [
    "data_frm.head(2)"
   ]
  },
  {
   "cell_type": "markdown",
   "id": "a5b80373",
   "metadata": {},
   "source": [
    "### - 하위 데이터 가져오기 : tail( )"
   ]
  },
  {
   "cell_type": "code",
   "execution_count": 95,
   "id": "484b9567",
   "metadata": {},
   "outputs": [
    {
     "data": {
      "text/html": [
       "<div>\n",
       "<style scoped>\n",
       "    .dataframe tbody tr th:only-of-type {\n",
       "        vertical-align: middle;\n",
       "    }\n",
       "\n",
       "    .dataframe tbody tr th {\n",
       "        vertical-align: top;\n",
       "    }\n",
       "\n",
       "    .dataframe thead th {\n",
       "        text-align: right;\n",
       "    }\n",
       "</style>\n",
       "<table border=\"1\" class=\"dataframe\">\n",
       "  <thead>\n",
       "    <tr style=\"text-align: right;\">\n",
       "      <th></th>\n",
       "      <th>나이</th>\n",
       "      <th>성별</th>\n",
       "    </tr>\n",
       "  </thead>\n",
       "  <tbody>\n",
       "    <tr>\n",
       "      <th>5</th>\n",
       "      <td>29</td>\n",
       "      <td>female</td>\n",
       "    </tr>\n",
       "    <tr>\n",
       "      <th>6</th>\n",
       "      <td>25</td>\n",
       "      <td>female</td>\n",
       "    </tr>\n",
       "    <tr>\n",
       "      <th>7</th>\n",
       "      <td>30</td>\n",
       "      <td>female</td>\n",
       "    </tr>\n",
       "    <tr>\n",
       "      <th>8</th>\n",
       "      <td>32</td>\n",
       "      <td>male</td>\n",
       "    </tr>\n",
       "    <tr>\n",
       "      <th>9</th>\n",
       "      <td>26</td>\n",
       "      <td>NaN</td>\n",
       "    </tr>\n",
       "  </tbody>\n",
       "</table>\n",
       "</div>"
      ],
      "text/plain": [
       "   나이      성별\n",
       "5  29  female\n",
       "6  25  female\n",
       "7  30  female\n",
       "8  32    male\n",
       "9  26     NaN"
      ]
     },
     "execution_count": 95,
     "metadata": {},
     "output_type": "execute_result"
    }
   ],
   "source": [
    "data_frm.tail()"
   ]
  },
  {
   "cell_type": "code",
   "execution_count": 96,
   "id": "d1cbdcdb",
   "metadata": {},
   "outputs": [
    {
     "data": {
      "text/html": [
       "<div>\n",
       "<style scoped>\n",
       "    .dataframe tbody tr th:only-of-type {\n",
       "        vertical-align: middle;\n",
       "    }\n",
       "\n",
       "    .dataframe tbody tr th {\n",
       "        vertical-align: top;\n",
       "    }\n",
       "\n",
       "    .dataframe thead th {\n",
       "        text-align: right;\n",
       "    }\n",
       "</style>\n",
       "<table border=\"1\" class=\"dataframe\">\n",
       "  <thead>\n",
       "    <tr style=\"text-align: right;\">\n",
       "      <th></th>\n",
       "      <th>나이</th>\n",
       "      <th>성별</th>\n",
       "    </tr>\n",
       "  </thead>\n",
       "  <tbody>\n",
       "    <tr>\n",
       "      <th>8</th>\n",
       "      <td>32</td>\n",
       "      <td>male</td>\n",
       "    </tr>\n",
       "    <tr>\n",
       "      <th>9</th>\n",
       "      <td>26</td>\n",
       "      <td>NaN</td>\n",
       "    </tr>\n",
       "  </tbody>\n",
       "</table>\n",
       "</div>"
      ],
      "text/plain": [
       "   나이    성별\n",
       "8  32  male\n",
       "9  26   NaN"
      ]
     },
     "execution_count": 96,
     "metadata": {},
     "output_type": "execute_result"
    }
   ],
   "source": [
    "data_frm.tail(2)"
   ]
  },
  {
   "cell_type": "markdown",
   "id": "ad3e1faf",
   "metadata": {},
   "source": [
    "### - 열 이름 구하기 : columns"
   ]
  },
  {
   "cell_type": "code",
   "execution_count": 97,
   "id": "1cb356c5",
   "metadata": {},
   "outputs": [
    {
     "data": {
      "text/plain": [
       "Index(['나이', '성별'], dtype='object')"
      ]
     },
     "execution_count": 97,
     "metadata": {},
     "output_type": "execute_result"
    }
   ],
   "source": [
    "data_frm.columns"
   ]
  },
  {
   "cell_type": "markdown",
   "id": "bf7fbfe2",
   "metadata": {},
   "source": [
    "### - 행 이름 구하기 : index"
   ]
  },
  {
   "cell_type": "code",
   "execution_count": 98,
   "id": "186b0110",
   "metadata": {},
   "outputs": [
    {
     "data": {
      "text/plain": [
       "RangeIndex(start=0, stop=10, step=1)"
      ]
     },
     "execution_count": 98,
     "metadata": {},
     "output_type": "execute_result"
    }
   ],
   "source": [
    "data_frm.index"
   ]
  },
  {
   "cell_type": "markdown",
   "id": "8b156031",
   "metadata": {},
   "source": [
    "## 데이터 요약 관련 함수\n",
    "\n",
    "### - 값의 개수 세기 : value_counts( )"
   ]
  },
  {
   "cell_type": "code",
   "execution_count": 100,
   "id": "be93c25c",
   "metadata": {},
   "outputs": [
    {
     "data": {
      "text/plain": [
       "female    6\n",
       "male      3\n",
       "Name: 성별, dtype: int64"
      ]
     },
     "execution_count": 100,
     "metadata": {},
     "output_type": "execute_result"
    }
   ],
   "source": [
    "data_frm['성별'].value_counts()"
   ]
  },
  {
   "cell_type": "markdown",
   "id": "d73a19b3",
   "metadata": {},
   "source": [
    "### - 중복 제거하기 : unique( )"
   ]
  },
  {
   "cell_type": "code",
   "execution_count": 101,
   "id": "da89f7b1",
   "metadata": {},
   "outputs": [
    {
     "data": {
      "text/plain": [
       "array(['male', 'female', nan], dtype=object)"
      ]
     },
     "execution_count": 101,
     "metadata": {},
     "output_type": "execute_result"
    }
   ],
   "source": [
    "data_frm['성별'].unique()"
   ]
  },
  {
   "cell_type": "markdown",
   "id": "3c6e816f",
   "metadata": {},
   "source": [
    "### - null 여부 확인하기 : isnull( )"
   ]
  },
  {
   "cell_type": "code",
   "execution_count": 102,
   "id": "e093c387",
   "metadata": {},
   "outputs": [
    {
     "data": {
      "text/html": [
       "<div>\n",
       "<style scoped>\n",
       "    .dataframe tbody tr th:only-of-type {\n",
       "        vertical-align: middle;\n",
       "    }\n",
       "\n",
       "    .dataframe tbody tr th {\n",
       "        vertical-align: top;\n",
       "    }\n",
       "\n",
       "    .dataframe thead th {\n",
       "        text-align: right;\n",
       "    }\n",
       "</style>\n",
       "<table border=\"1\" class=\"dataframe\">\n",
       "  <thead>\n",
       "    <tr style=\"text-align: right;\">\n",
       "      <th></th>\n",
       "      <th>나이</th>\n",
       "      <th>성별</th>\n",
       "    </tr>\n",
       "  </thead>\n",
       "  <tbody>\n",
       "    <tr>\n",
       "      <th>0</th>\n",
       "      <td>False</td>\n",
       "      <td>False</td>\n",
       "    </tr>\n",
       "    <tr>\n",
       "      <th>1</th>\n",
       "      <td>False</td>\n",
       "      <td>False</td>\n",
       "    </tr>\n",
       "    <tr>\n",
       "      <th>2</th>\n",
       "      <td>False</td>\n",
       "      <td>False</td>\n",
       "    </tr>\n",
       "    <tr>\n",
       "      <th>3</th>\n",
       "      <td>False</td>\n",
       "      <td>False</td>\n",
       "    </tr>\n",
       "    <tr>\n",
       "      <th>4</th>\n",
       "      <td>False</td>\n",
       "      <td>False</td>\n",
       "    </tr>\n",
       "    <tr>\n",
       "      <th>5</th>\n",
       "      <td>False</td>\n",
       "      <td>False</td>\n",
       "    </tr>\n",
       "    <tr>\n",
       "      <th>6</th>\n",
       "      <td>False</td>\n",
       "      <td>False</td>\n",
       "    </tr>\n",
       "    <tr>\n",
       "      <th>7</th>\n",
       "      <td>False</td>\n",
       "      <td>False</td>\n",
       "    </tr>\n",
       "    <tr>\n",
       "      <th>8</th>\n",
       "      <td>False</td>\n",
       "      <td>False</td>\n",
       "    </tr>\n",
       "    <tr>\n",
       "      <th>9</th>\n",
       "      <td>False</td>\n",
       "      <td>True</td>\n",
       "    </tr>\n",
       "  </tbody>\n",
       "</table>\n",
       "</div>"
      ],
      "text/plain": [
       "      나이     성별\n",
       "0  False  False\n",
       "1  False  False\n",
       "2  False  False\n",
       "3  False  False\n",
       "4  False  False\n",
       "5  False  False\n",
       "6  False  False\n",
       "7  False  False\n",
       "8  False  False\n",
       "9  False   True"
      ]
     },
     "execution_count": 102,
     "metadata": {},
     "output_type": "execute_result"
    }
   ],
   "source": [
    "data_frm.isnull()"
   ]
  },
  {
   "cell_type": "code",
   "execution_count": 103,
   "id": "4d678f4f",
   "metadata": {},
   "outputs": [
    {
     "data": {
      "text/plain": [
       "0    False\n",
       "1    False\n",
       "2    False\n",
       "3    False\n",
       "4    False\n",
       "5    False\n",
       "6    False\n",
       "7    False\n",
       "8    False\n",
       "9     True\n",
       "Name: 성별, dtype: bool"
      ]
     },
     "execution_count": 103,
     "metadata": {},
     "output_type": "execute_result"
    }
   ],
   "source": [
    "data_frm['성별'].isnull()"
   ]
  },
  {
   "cell_type": "code",
   "execution_count": 104,
   "id": "12bbebe2",
   "metadata": {},
   "outputs": [
    {
     "data": {
      "text/plain": [
       "1"
      ]
     },
     "execution_count": 104,
     "metadata": {},
     "output_type": "execute_result"
    }
   ],
   "source": [
    "sum(data_frm['성별'].isnull())  # 성별 데이터의 null 개수 세기"
   ]
  },
  {
   "cell_type": "markdown",
   "id": "11333f88",
   "metadata": {},
   "source": [
    "### - 개수 세기 : count( )"
   ]
  },
  {
   "cell_type": "code",
   "execution_count": 106,
   "id": "61d8d8d2",
   "metadata": {},
   "outputs": [
    {
     "data": {
      "text/plain": [
       "나이    10\n",
       "성별     9\n",
       "dtype: int64"
      ]
     },
     "execution_count": 106,
     "metadata": {},
     "output_type": "execute_result"
    }
   ],
   "source": [
    "data_frm.count()   # data_frm 의 열별 값의 개수 세기 > null 값은 count 에 포함되지 않음"
   ]
  },
  {
   "cell_type": "code",
   "execution_count": 107,
   "id": "e3365637",
   "metadata": {},
   "outputs": [
    {
     "data": {
      "text/plain": [
       "2"
      ]
     },
     "execution_count": 107,
     "metadata": {},
     "output_type": "execute_result"
    }
   ],
   "source": [
    "'I am Superman!'.count('a')"
   ]
  },
  {
   "cell_type": "markdown",
   "id": "2773e582",
   "metadata": {},
   "source": [
    "### - 정보 조회하기 : info( )"
   ]
  },
  {
   "cell_type": "code",
   "execution_count": 108,
   "id": "eb57e9fd",
   "metadata": {},
   "outputs": [
    {
     "name": "stdout",
     "output_type": "stream",
     "text": [
      "<class 'pandas.core.frame.DataFrame'>\n",
      "RangeIndex: 10 entries, 0 to 9\n",
      "Data columns (total 2 columns):\n",
      " #   Column  Non-Null Count  Dtype \n",
      "---  ------  --------------  ----- \n",
      " 0   나이      10 non-null     int64 \n",
      " 1   성별      9 non-null      object\n",
      "dtypes: int64(1), object(1)\n",
      "memory usage: 288.0+ bytes\n"
     ]
    }
   ],
   "source": [
    "data_frm.info()"
   ]
  },
  {
   "cell_type": "markdown",
   "id": "8fed5bfc",
   "metadata": {},
   "source": [
    "### - 데이터 표현하기 : describe( )\n",
    "- 숫자형 데이터 타입에 대해서만 처리"
   ]
  },
  {
   "cell_type": "code",
   "execution_count": 110,
   "id": "80e75c35",
   "metadata": {},
   "outputs": [
    {
     "data": {
      "text/html": [
       "<div>\n",
       "<style scoped>\n",
       "    .dataframe tbody tr th:only-of-type {\n",
       "        vertical-align: middle;\n",
       "    }\n",
       "\n",
       "    .dataframe tbody tr th {\n",
       "        vertical-align: top;\n",
       "    }\n",
       "\n",
       "    .dataframe thead th {\n",
       "        text-align: right;\n",
       "    }\n",
       "</style>\n",
       "<table border=\"1\" class=\"dataframe\">\n",
       "  <thead>\n",
       "    <tr style=\"text-align: right;\">\n",
       "      <th></th>\n",
       "      <th>나이</th>\n",
       "    </tr>\n",
       "  </thead>\n",
       "  <tbody>\n",
       "    <tr>\n",
       "      <th>count</th>\n",
       "      <td>10.000000</td>\n",
       "    </tr>\n",
       "    <tr>\n",
       "      <th>mean</th>\n",
       "      <td>30.400000</td>\n",
       "    </tr>\n",
       "    <tr>\n",
       "      <th>std</th>\n",
       "      <td>8.315982</td>\n",
       "    </tr>\n",
       "    <tr>\n",
       "      <th>min</th>\n",
       "      <td>20.000000</td>\n",
       "    </tr>\n",
       "    <tr>\n",
       "      <th>25%</th>\n",
       "      <td>25.250000</td>\n",
       "    </tr>\n",
       "    <tr>\n",
       "      <th>50%</th>\n",
       "      <td>29.500000</td>\n",
       "    </tr>\n",
       "    <tr>\n",
       "      <th>75%</th>\n",
       "      <td>32.000000</td>\n",
       "    </tr>\n",
       "    <tr>\n",
       "      <th>max</th>\n",
       "      <td>49.000000</td>\n",
       "    </tr>\n",
       "  </tbody>\n",
       "</table>\n",
       "</div>"
      ],
      "text/plain": [
       "              나이\n",
       "count  10.000000\n",
       "mean   30.400000\n",
       "std     8.315982\n",
       "min    20.000000\n",
       "25%    25.250000\n",
       "50%    29.500000\n",
       "75%    32.000000\n",
       "max    49.000000"
      ]
     },
     "execution_count": 110,
     "metadata": {},
     "output_type": "execute_result"
    }
   ],
   "source": [
    "data_frm.describe()    # 성별 데이터는 숫자형 데이터가 아니므로 describe() 로 확인 불가"
   ]
  },
  {
   "cell_type": "markdown",
   "id": "cdf7d41d",
   "metadata": {},
   "source": [
    "## 데이터 변형 관련 함수\n",
    "\n",
    "### - 열과 행 위치 바꾸기 : transpose( ), T   >> 두개 결과 동일"
   ]
  },
  {
   "cell_type": "code",
   "execution_count": 111,
   "id": "040a7a6a",
   "metadata": {},
   "outputs": [
    {
     "data": {
      "text/html": [
       "<div>\n",
       "<style scoped>\n",
       "    .dataframe tbody tr th:only-of-type {\n",
       "        vertical-align: middle;\n",
       "    }\n",
       "\n",
       "    .dataframe tbody tr th {\n",
       "        vertical-align: top;\n",
       "    }\n",
       "\n",
       "    .dataframe thead th {\n",
       "        text-align: right;\n",
       "    }\n",
       "</style>\n",
       "<table border=\"1\" class=\"dataframe\">\n",
       "  <thead>\n",
       "    <tr style=\"text-align: right;\">\n",
       "      <th></th>\n",
       "      <th>나이</th>\n",
       "      <th>성별</th>\n",
       "    </tr>\n",
       "  </thead>\n",
       "  <tbody>\n",
       "    <tr>\n",
       "      <th>0</th>\n",
       "      <td>20</td>\n",
       "      <td>male</td>\n",
       "    </tr>\n",
       "    <tr>\n",
       "      <th>1</th>\n",
       "      <td>23</td>\n",
       "      <td>female</td>\n",
       "    </tr>\n",
       "    <tr>\n",
       "      <th>2</th>\n",
       "      <td>49</td>\n",
       "      <td>male</td>\n",
       "    </tr>\n",
       "    <tr>\n",
       "      <th>3</th>\n",
       "      <td>38</td>\n",
       "      <td>female</td>\n",
       "    </tr>\n",
       "    <tr>\n",
       "      <th>4</th>\n",
       "      <td>32</td>\n",
       "      <td>female</td>\n",
       "    </tr>\n",
       "    <tr>\n",
       "      <th>5</th>\n",
       "      <td>29</td>\n",
       "      <td>female</td>\n",
       "    </tr>\n",
       "    <tr>\n",
       "      <th>6</th>\n",
       "      <td>25</td>\n",
       "      <td>female</td>\n",
       "    </tr>\n",
       "    <tr>\n",
       "      <th>7</th>\n",
       "      <td>30</td>\n",
       "      <td>female</td>\n",
       "    </tr>\n",
       "    <tr>\n",
       "      <th>8</th>\n",
       "      <td>32</td>\n",
       "      <td>male</td>\n",
       "    </tr>\n",
       "    <tr>\n",
       "      <th>9</th>\n",
       "      <td>26</td>\n",
       "      <td>NaN</td>\n",
       "    </tr>\n",
       "  </tbody>\n",
       "</table>\n",
       "</div>"
      ],
      "text/plain": [
       "   나이      성별\n",
       "0  20    male\n",
       "1  23  female\n",
       "2  49    male\n",
       "3  38  female\n",
       "4  32  female\n",
       "5  29  female\n",
       "6  25  female\n",
       "7  30  female\n",
       "8  32    male\n",
       "9  26     NaN"
      ]
     },
     "execution_count": 111,
     "metadata": {},
     "output_type": "execute_result"
    }
   ],
   "source": [
    "data_frm"
   ]
  },
  {
   "cell_type": "code",
   "execution_count": 112,
   "id": "9689cc77",
   "metadata": {},
   "outputs": [
    {
     "data": {
      "text/html": [
       "<div>\n",
       "<style scoped>\n",
       "    .dataframe tbody tr th:only-of-type {\n",
       "        vertical-align: middle;\n",
       "    }\n",
       "\n",
       "    .dataframe tbody tr th {\n",
       "        vertical-align: top;\n",
       "    }\n",
       "\n",
       "    .dataframe thead th {\n",
       "        text-align: right;\n",
       "    }\n",
       "</style>\n",
       "<table border=\"1\" class=\"dataframe\">\n",
       "  <thead>\n",
       "    <tr style=\"text-align: right;\">\n",
       "      <th></th>\n",
       "      <th>0</th>\n",
       "      <th>1</th>\n",
       "      <th>2</th>\n",
       "      <th>3</th>\n",
       "      <th>4</th>\n",
       "      <th>5</th>\n",
       "      <th>6</th>\n",
       "      <th>7</th>\n",
       "      <th>8</th>\n",
       "      <th>9</th>\n",
       "    </tr>\n",
       "  </thead>\n",
       "  <tbody>\n",
       "    <tr>\n",
       "      <th>나이</th>\n",
       "      <td>20</td>\n",
       "      <td>23</td>\n",
       "      <td>49</td>\n",
       "      <td>38</td>\n",
       "      <td>32</td>\n",
       "      <td>29</td>\n",
       "      <td>25</td>\n",
       "      <td>30</td>\n",
       "      <td>32</td>\n",
       "      <td>26</td>\n",
       "    </tr>\n",
       "    <tr>\n",
       "      <th>성별</th>\n",
       "      <td>male</td>\n",
       "      <td>female</td>\n",
       "      <td>male</td>\n",
       "      <td>female</td>\n",
       "      <td>female</td>\n",
       "      <td>female</td>\n",
       "      <td>female</td>\n",
       "      <td>female</td>\n",
       "      <td>male</td>\n",
       "      <td>NaN</td>\n",
       "    </tr>\n",
       "  </tbody>\n",
       "</table>\n",
       "</div>"
      ],
      "text/plain": [
       "       0       1     2       3       4       5       6       7     8    9\n",
       "나이    20      23    49      38      32      29      25      30    32   26\n",
       "성별  male  female  male  female  female  female  female  female  male  NaN"
      ]
     },
     "execution_count": 112,
     "metadata": {},
     "output_type": "execute_result"
    }
   ],
   "source": [
    "data_frm.transpose()"
   ]
  },
  {
   "cell_type": "code",
   "execution_count": 113,
   "id": "0772aa9a",
   "metadata": {},
   "outputs": [
    {
     "data": {
      "text/html": [
       "<div>\n",
       "<style scoped>\n",
       "    .dataframe tbody tr th:only-of-type {\n",
       "        vertical-align: middle;\n",
       "    }\n",
       "\n",
       "    .dataframe tbody tr th {\n",
       "        vertical-align: top;\n",
       "    }\n",
       "\n",
       "    .dataframe thead th {\n",
       "        text-align: right;\n",
       "    }\n",
       "</style>\n",
       "<table border=\"1\" class=\"dataframe\">\n",
       "  <thead>\n",
       "    <tr style=\"text-align: right;\">\n",
       "      <th></th>\n",
       "      <th>0</th>\n",
       "      <th>1</th>\n",
       "      <th>2</th>\n",
       "      <th>3</th>\n",
       "      <th>4</th>\n",
       "      <th>5</th>\n",
       "      <th>6</th>\n",
       "      <th>7</th>\n",
       "      <th>8</th>\n",
       "      <th>9</th>\n",
       "    </tr>\n",
       "  </thead>\n",
       "  <tbody>\n",
       "    <tr>\n",
       "      <th>나이</th>\n",
       "      <td>20</td>\n",
       "      <td>23</td>\n",
       "      <td>49</td>\n",
       "      <td>38</td>\n",
       "      <td>32</td>\n",
       "      <td>29</td>\n",
       "      <td>25</td>\n",
       "      <td>30</td>\n",
       "      <td>32</td>\n",
       "      <td>26</td>\n",
       "    </tr>\n",
       "    <tr>\n",
       "      <th>성별</th>\n",
       "      <td>male</td>\n",
       "      <td>female</td>\n",
       "      <td>male</td>\n",
       "      <td>female</td>\n",
       "      <td>female</td>\n",
       "      <td>female</td>\n",
       "      <td>female</td>\n",
       "      <td>female</td>\n",
       "      <td>male</td>\n",
       "      <td>NaN</td>\n",
       "    </tr>\n",
       "  </tbody>\n",
       "</table>\n",
       "</div>"
      ],
      "text/plain": [
       "       0       1     2       3       4       5       6       7     8    9\n",
       "나이    20      23    49      38      32      29      25      30    32   26\n",
       "성별  male  female  male  female  female  female  female  female  male  NaN"
      ]
     },
     "execution_count": 113,
     "metadata": {},
     "output_type": "execute_result"
    }
   ],
   "source": [
    "data_frm.T"
   ]
  },
  {
   "cell_type": "markdown",
   "id": "b019a3d7",
   "metadata": {},
   "source": [
    "### - 행/열 이름으로 데이터 가져오기 : loc\n",
    "\n",
    "기본구조 : 데이터.loc[행 이름, 열 이름]\n",
    "- 행만 : 데이터.loc[행 이름]\n",
    "- 열만 : 데이터.loc[ : , 열 이름]\n",
    "- 행/열 : 데이터.loc[행 이름, 열 이름]"
   ]
  },
  {
   "cell_type": "code",
   "execution_count": 115,
   "id": "61302028",
   "metadata": {},
   "outputs": [
    {
     "data": {
      "text/html": [
       "<div>\n",
       "<style scoped>\n",
       "    .dataframe tbody tr th:only-of-type {\n",
       "        vertical-align: middle;\n",
       "    }\n",
       "\n",
       "    .dataframe tbody tr th {\n",
       "        vertical-align: top;\n",
       "    }\n",
       "\n",
       "    .dataframe thead th {\n",
       "        text-align: right;\n",
       "    }\n",
       "</style>\n",
       "<table border=\"1\" class=\"dataframe\">\n",
       "  <thead>\n",
       "    <tr style=\"text-align: right;\">\n",
       "      <th></th>\n",
       "      <th>나이</th>\n",
       "      <th>성별</th>\n",
       "    </tr>\n",
       "  </thead>\n",
       "  <tbody>\n",
       "    <tr>\n",
       "      <th>0</th>\n",
       "      <td>20</td>\n",
       "      <td>male</td>\n",
       "    </tr>\n",
       "    <tr>\n",
       "      <th>1</th>\n",
       "      <td>23</td>\n",
       "      <td>female</td>\n",
       "    </tr>\n",
       "    <tr>\n",
       "      <th>2</th>\n",
       "      <td>49</td>\n",
       "      <td>male</td>\n",
       "    </tr>\n",
       "    <tr>\n",
       "      <th>3</th>\n",
       "      <td>38</td>\n",
       "      <td>female</td>\n",
       "    </tr>\n",
       "    <tr>\n",
       "      <th>4</th>\n",
       "      <td>32</td>\n",
       "      <td>female</td>\n",
       "    </tr>\n",
       "    <tr>\n",
       "      <th>5</th>\n",
       "      <td>29</td>\n",
       "      <td>female</td>\n",
       "    </tr>\n",
       "    <tr>\n",
       "      <th>6</th>\n",
       "      <td>25</td>\n",
       "      <td>female</td>\n",
       "    </tr>\n",
       "    <tr>\n",
       "      <th>7</th>\n",
       "      <td>30</td>\n",
       "      <td>female</td>\n",
       "    </tr>\n",
       "    <tr>\n",
       "      <th>8</th>\n",
       "      <td>32</td>\n",
       "      <td>male</td>\n",
       "    </tr>\n",
       "    <tr>\n",
       "      <th>9</th>\n",
       "      <td>26</td>\n",
       "      <td>NaN</td>\n",
       "    </tr>\n",
       "  </tbody>\n",
       "</table>\n",
       "</div>"
      ],
      "text/plain": [
       "   나이      성별\n",
       "0  20    male\n",
       "1  23  female\n",
       "2  49    male\n",
       "3  38  female\n",
       "4  32  female\n",
       "5  29  female\n",
       "6  25  female\n",
       "7  30  female\n",
       "8  32    male\n",
       "9  26     NaN"
      ]
     },
     "execution_count": 115,
     "metadata": {},
     "output_type": "execute_result"
    }
   ],
   "source": [
    "data_frm"
   ]
  },
  {
   "cell_type": "code",
   "execution_count": 114,
   "id": "d3226404",
   "metadata": {},
   "outputs": [
    {
     "data": {
      "text/plain": [
       "나이        38\n",
       "성별    female\n",
       "Name: 3, dtype: object"
      ]
     },
     "execution_count": 114,
     "metadata": {},
     "output_type": "execute_result"
    }
   ],
   "source": [
    "data_frm.loc[3]"
   ]
  },
  {
   "cell_type": "code",
   "execution_count": 116,
   "id": "57f2105a",
   "metadata": {},
   "outputs": [
    {
     "data": {
      "text/html": [
       "<div>\n",
       "<style scoped>\n",
       "    .dataframe tbody tr th:only-of-type {\n",
       "        vertical-align: middle;\n",
       "    }\n",
       "\n",
       "    .dataframe tbody tr th {\n",
       "        vertical-align: top;\n",
       "    }\n",
       "\n",
       "    .dataframe thead th {\n",
       "        text-align: right;\n",
       "    }\n",
       "</style>\n",
       "<table border=\"1\" class=\"dataframe\">\n",
       "  <thead>\n",
       "    <tr style=\"text-align: right;\">\n",
       "      <th></th>\n",
       "      <th>나이</th>\n",
       "      <th>성별</th>\n",
       "    </tr>\n",
       "  </thead>\n",
       "  <tbody>\n",
       "    <tr>\n",
       "      <th>3</th>\n",
       "      <td>38</td>\n",
       "      <td>female</td>\n",
       "    </tr>\n",
       "    <tr>\n",
       "      <th>4</th>\n",
       "      <td>32</td>\n",
       "      <td>female</td>\n",
       "    </tr>\n",
       "    <tr>\n",
       "      <th>5</th>\n",
       "      <td>29</td>\n",
       "      <td>female</td>\n",
       "    </tr>\n",
       "    <tr>\n",
       "      <th>6</th>\n",
       "      <td>25</td>\n",
       "      <td>female</td>\n",
       "    </tr>\n",
       "    <tr>\n",
       "      <th>7</th>\n",
       "      <td>30</td>\n",
       "      <td>female</td>\n",
       "    </tr>\n",
       "  </tbody>\n",
       "</table>\n",
       "</div>"
      ],
      "text/plain": [
       "   나이      성별\n",
       "3  38  female\n",
       "4  32  female\n",
       "5  29  female\n",
       "6  25  female\n",
       "7  30  female"
      ]
     },
     "execution_count": 116,
     "metadata": {},
     "output_type": "execute_result"
    }
   ],
   "source": [
    "data_frm.loc[3:7]"
   ]
  },
  {
   "cell_type": "code",
   "execution_count": 117,
   "id": "7b381e74",
   "metadata": {},
   "outputs": [
    {
     "data": {
      "text/plain": [
       "0      male\n",
       "1    female\n",
       "2      male\n",
       "3    female\n",
       "4    female\n",
       "5    female\n",
       "6    female\n",
       "7    female\n",
       "8      male\n",
       "9       NaN\n",
       "Name: 성별, dtype: object"
      ]
     },
     "execution_count": 117,
     "metadata": {},
     "output_type": "execute_result"
    }
   ],
   "source": [
    "data_frm.loc[:,'성별']"
   ]
  },
  {
   "cell_type": "code",
   "execution_count": 118,
   "id": "d5ffdf14",
   "metadata": {},
   "outputs": [
    {
     "data": {
      "text/html": [
       "<div>\n",
       "<style scoped>\n",
       "    .dataframe tbody tr th:only-of-type {\n",
       "        vertical-align: middle;\n",
       "    }\n",
       "\n",
       "    .dataframe tbody tr th {\n",
       "        vertical-align: top;\n",
       "    }\n",
       "\n",
       "    .dataframe thead th {\n",
       "        text-align: right;\n",
       "    }\n",
       "</style>\n",
       "<table border=\"1\" class=\"dataframe\">\n",
       "  <thead>\n",
       "    <tr style=\"text-align: right;\">\n",
       "      <th></th>\n",
       "      <th>나이</th>\n",
       "      <th>성별</th>\n",
       "    </tr>\n",
       "  </thead>\n",
       "  <tbody>\n",
       "    <tr>\n",
       "      <th>0</th>\n",
       "      <td>20</td>\n",
       "      <td>male</td>\n",
       "    </tr>\n",
       "    <tr>\n",
       "      <th>1</th>\n",
       "      <td>23</td>\n",
       "      <td>female</td>\n",
       "    </tr>\n",
       "    <tr>\n",
       "      <th>2</th>\n",
       "      <td>49</td>\n",
       "      <td>male</td>\n",
       "    </tr>\n",
       "    <tr>\n",
       "      <th>3</th>\n",
       "      <td>38</td>\n",
       "      <td>female</td>\n",
       "    </tr>\n",
       "    <tr>\n",
       "      <th>4</th>\n",
       "      <td>32</td>\n",
       "      <td>female</td>\n",
       "    </tr>\n",
       "    <tr>\n",
       "      <th>5</th>\n",
       "      <td>29</td>\n",
       "      <td>female</td>\n",
       "    </tr>\n",
       "    <tr>\n",
       "      <th>6</th>\n",
       "      <td>25</td>\n",
       "      <td>female</td>\n",
       "    </tr>\n",
       "    <tr>\n",
       "      <th>7</th>\n",
       "      <td>30</td>\n",
       "      <td>female</td>\n",
       "    </tr>\n",
       "    <tr>\n",
       "      <th>8</th>\n",
       "      <td>32</td>\n",
       "      <td>male</td>\n",
       "    </tr>\n",
       "    <tr>\n",
       "      <th>9</th>\n",
       "      <td>26</td>\n",
       "      <td>NaN</td>\n",
       "    </tr>\n",
       "  </tbody>\n",
       "</table>\n",
       "</div>"
      ],
      "text/plain": [
       "   나이      성별\n",
       "0  20    male\n",
       "1  23  female\n",
       "2  49    male\n",
       "3  38  female\n",
       "4  32  female\n",
       "5  29  female\n",
       "6  25  female\n",
       "7  30  female\n",
       "8  32    male\n",
       "9  26     NaN"
      ]
     },
     "execution_count": 118,
     "metadata": {},
     "output_type": "execute_result"
    }
   ],
   "source": [
    "data_frm.loc[:,['나이','성별']]"
   ]
  },
  {
   "cell_type": "code",
   "execution_count": 119,
   "id": "f15dd396",
   "metadata": {},
   "outputs": [
    {
     "data": {
      "text/plain": [
       "3    female\n",
       "4    female\n",
       "5    female\n",
       "6    female\n",
       "7    female\n",
       "Name: 성별, dtype: object"
      ]
     },
     "execution_count": 119,
     "metadata": {},
     "output_type": "execute_result"
    }
   ],
   "source": [
    "data_frm.loc[3:7, '성별']"
   ]
  },
  {
   "cell_type": "markdown",
   "id": "17c32159",
   "metadata": {},
   "source": [
    "fancy : boolean indexing"
   ]
  },
  {
   "cell_type": "code",
   "execution_count": 122,
   "id": "7ab254ec",
   "metadata": {},
   "outputs": [
    {
     "data": {
      "text/plain": [
       "0     True\n",
       "1    False\n",
       "2     True\n",
       "3    False\n",
       "4    False\n",
       "5    False\n",
       "6    False\n",
       "7    False\n",
       "8     True\n",
       "9    False\n",
       "Name: 성별, dtype: bool"
      ]
     },
     "execution_count": 122,
     "metadata": {},
     "output_type": "execute_result"
    }
   ],
   "source": [
    "data_frm['성별'] == 'male'"
   ]
  },
  {
   "cell_type": "code",
   "execution_count": 123,
   "id": "037ac13c",
   "metadata": {},
   "outputs": [
    {
     "data": {
      "text/html": [
       "<div>\n",
       "<style scoped>\n",
       "    .dataframe tbody tr th:only-of-type {\n",
       "        vertical-align: middle;\n",
       "    }\n",
       "\n",
       "    .dataframe tbody tr th {\n",
       "        vertical-align: top;\n",
       "    }\n",
       "\n",
       "    .dataframe thead th {\n",
       "        text-align: right;\n",
       "    }\n",
       "</style>\n",
       "<table border=\"1\" class=\"dataframe\">\n",
       "  <thead>\n",
       "    <tr style=\"text-align: right;\">\n",
       "      <th></th>\n",
       "      <th>나이</th>\n",
       "      <th>성별</th>\n",
       "    </tr>\n",
       "  </thead>\n",
       "  <tbody>\n",
       "    <tr>\n",
       "      <th>0</th>\n",
       "      <td>20</td>\n",
       "      <td>male</td>\n",
       "    </tr>\n",
       "    <tr>\n",
       "      <th>2</th>\n",
       "      <td>49</td>\n",
       "      <td>male</td>\n",
       "    </tr>\n",
       "    <tr>\n",
       "      <th>8</th>\n",
       "      <td>32</td>\n",
       "      <td>male</td>\n",
       "    </tr>\n",
       "  </tbody>\n",
       "</table>\n",
       "</div>"
      ],
      "text/plain": [
       "   나이    성별\n",
       "0  20  male\n",
       "2  49  male\n",
       "8  32  male"
      ]
     },
     "execution_count": 123,
     "metadata": {},
     "output_type": "execute_result"
    }
   ],
   "source": [
    "data_frm.loc[data_frm['성별'] == 'male']"
   ]
  },
  {
   "cell_type": "markdown",
   "id": "d55316e1",
   "metadata": {},
   "source": [
    "### - 행/열 위치값으로 데이터 가져오기 : iloc\n",
    "\n",
    "기본구조 : 데이터.iloc[ 행 위치 , 열 위치 ]\n",
    "\n",
    "- 행만 : 데이터.iloc[행 위치]\n",
    "- 열만 : 데이터.iloc[ : , 열 위치]\n",
    "- 행/열 : 데이터.iloc[행 위치, 열 위치]"
   ]
  },
  {
   "cell_type": "code",
   "execution_count": 124,
   "id": "11354706",
   "metadata": {},
   "outputs": [
    {
     "data": {
      "text/html": [
       "<div>\n",
       "<style scoped>\n",
       "    .dataframe tbody tr th:only-of-type {\n",
       "        vertical-align: middle;\n",
       "    }\n",
       "\n",
       "    .dataframe tbody tr th {\n",
       "        vertical-align: top;\n",
       "    }\n",
       "\n",
       "    .dataframe thead th {\n",
       "        text-align: right;\n",
       "    }\n",
       "</style>\n",
       "<table border=\"1\" class=\"dataframe\">\n",
       "  <thead>\n",
       "    <tr style=\"text-align: right;\">\n",
       "      <th></th>\n",
       "      <th>나이</th>\n",
       "      <th>성별</th>\n",
       "    </tr>\n",
       "  </thead>\n",
       "  <tbody>\n",
       "    <tr>\n",
       "      <th>0</th>\n",
       "      <td>20</td>\n",
       "      <td>male</td>\n",
       "    </tr>\n",
       "    <tr>\n",
       "      <th>1</th>\n",
       "      <td>23</td>\n",
       "      <td>female</td>\n",
       "    </tr>\n",
       "    <tr>\n",
       "      <th>2</th>\n",
       "      <td>49</td>\n",
       "      <td>male</td>\n",
       "    </tr>\n",
       "    <tr>\n",
       "      <th>3</th>\n",
       "      <td>38</td>\n",
       "      <td>female</td>\n",
       "    </tr>\n",
       "    <tr>\n",
       "      <th>4</th>\n",
       "      <td>32</td>\n",
       "      <td>female</td>\n",
       "    </tr>\n",
       "    <tr>\n",
       "      <th>5</th>\n",
       "      <td>29</td>\n",
       "      <td>female</td>\n",
       "    </tr>\n",
       "    <tr>\n",
       "      <th>6</th>\n",
       "      <td>25</td>\n",
       "      <td>female</td>\n",
       "    </tr>\n",
       "    <tr>\n",
       "      <th>7</th>\n",
       "      <td>30</td>\n",
       "      <td>female</td>\n",
       "    </tr>\n",
       "    <tr>\n",
       "      <th>8</th>\n",
       "      <td>32</td>\n",
       "      <td>male</td>\n",
       "    </tr>\n",
       "    <tr>\n",
       "      <th>9</th>\n",
       "      <td>26</td>\n",
       "      <td>NaN</td>\n",
       "    </tr>\n",
       "  </tbody>\n",
       "</table>\n",
       "</div>"
      ],
      "text/plain": [
       "   나이      성별\n",
       "0  20    male\n",
       "1  23  female\n",
       "2  49    male\n",
       "3  38  female\n",
       "4  32  female\n",
       "5  29  female\n",
       "6  25  female\n",
       "7  30  female\n",
       "8  32    male\n",
       "9  26     NaN"
      ]
     },
     "execution_count": 124,
     "metadata": {},
     "output_type": "execute_result"
    }
   ],
   "source": [
    "data_frm"
   ]
  },
  {
   "cell_type": "code",
   "execution_count": 125,
   "id": "c8c8d257",
   "metadata": {},
   "outputs": [
    {
     "data": {
      "text/plain": [
       "나이        38\n",
       "성별    female\n",
       "Name: 3, dtype: object"
      ]
     },
     "execution_count": 125,
     "metadata": {},
     "output_type": "execute_result"
    }
   ],
   "source": [
    "data_frm.iloc[3]"
   ]
  },
  {
   "cell_type": "code",
   "execution_count": 126,
   "id": "162fece1",
   "metadata": {},
   "outputs": [
    {
     "data": {
      "text/html": [
       "<div>\n",
       "<style scoped>\n",
       "    .dataframe tbody tr th:only-of-type {\n",
       "        vertical-align: middle;\n",
       "    }\n",
       "\n",
       "    .dataframe tbody tr th {\n",
       "        vertical-align: top;\n",
       "    }\n",
       "\n",
       "    .dataframe thead th {\n",
       "        text-align: right;\n",
       "    }\n",
       "</style>\n",
       "<table border=\"1\" class=\"dataframe\">\n",
       "  <thead>\n",
       "    <tr style=\"text-align: right;\">\n",
       "      <th></th>\n",
       "      <th>나이</th>\n",
       "      <th>성별</th>\n",
       "    </tr>\n",
       "  </thead>\n",
       "  <tbody>\n",
       "    <tr>\n",
       "      <th>4</th>\n",
       "      <td>32</td>\n",
       "      <td>female</td>\n",
       "    </tr>\n",
       "    <tr>\n",
       "      <th>5</th>\n",
       "      <td>29</td>\n",
       "      <td>female</td>\n",
       "    </tr>\n",
       "    <tr>\n",
       "      <th>6</th>\n",
       "      <td>25</td>\n",
       "      <td>female</td>\n",
       "    </tr>\n",
       "    <tr>\n",
       "      <th>7</th>\n",
       "      <td>30</td>\n",
       "      <td>female</td>\n",
       "    </tr>\n",
       "  </tbody>\n",
       "</table>\n",
       "</div>"
      ],
      "text/plain": [
       "   나이      성별\n",
       "4  32  female\n",
       "5  29  female\n",
       "6  25  female\n",
       "7  30  female"
      ]
     },
     "execution_count": 126,
     "metadata": {},
     "output_type": "execute_result"
    }
   ],
   "source": [
    "data_frm.iloc[4:8]    # loc 와는 다르게 행 위치가 4부터 7까지 값을 가져오게 됨"
   ]
  },
  {
   "cell_type": "code",
   "execution_count": 127,
   "id": "79de7520",
   "metadata": {},
   "outputs": [
    {
     "data": {
      "text/plain": [
       "0      male\n",
       "1    female\n",
       "2      male\n",
       "3    female\n",
       "4    female\n",
       "5    female\n",
       "6    female\n",
       "7    female\n",
       "8      male\n",
       "9       NaN\n",
       "Name: 성별, dtype: object"
      ]
     },
     "execution_count": 127,
     "metadata": {},
     "output_type": "execute_result"
    }
   ],
   "source": [
    "data_frm.iloc[:,1]"
   ]
  },
  {
   "cell_type": "code",
   "execution_count": 128,
   "id": "11ccb2de",
   "metadata": {},
   "outputs": [
    {
     "data": {
      "text/html": [
       "<div>\n",
       "<style scoped>\n",
       "    .dataframe tbody tr th:only-of-type {\n",
       "        vertical-align: middle;\n",
       "    }\n",
       "\n",
       "    .dataframe tbody tr th {\n",
       "        vertical-align: top;\n",
       "    }\n",
       "\n",
       "    .dataframe thead th {\n",
       "        text-align: right;\n",
       "    }\n",
       "</style>\n",
       "<table border=\"1\" class=\"dataframe\">\n",
       "  <thead>\n",
       "    <tr style=\"text-align: right;\">\n",
       "      <th></th>\n",
       "      <th>나이</th>\n",
       "      <th>성별</th>\n",
       "    </tr>\n",
       "  </thead>\n",
       "  <tbody>\n",
       "    <tr>\n",
       "      <th>0</th>\n",
       "      <td>20</td>\n",
       "      <td>male</td>\n",
       "    </tr>\n",
       "    <tr>\n",
       "      <th>1</th>\n",
       "      <td>23</td>\n",
       "      <td>female</td>\n",
       "    </tr>\n",
       "    <tr>\n",
       "      <th>2</th>\n",
       "      <td>49</td>\n",
       "      <td>male</td>\n",
       "    </tr>\n",
       "    <tr>\n",
       "      <th>3</th>\n",
       "      <td>38</td>\n",
       "      <td>female</td>\n",
       "    </tr>\n",
       "    <tr>\n",
       "      <th>4</th>\n",
       "      <td>32</td>\n",
       "      <td>female</td>\n",
       "    </tr>\n",
       "    <tr>\n",
       "      <th>5</th>\n",
       "      <td>29</td>\n",
       "      <td>female</td>\n",
       "    </tr>\n",
       "    <tr>\n",
       "      <th>6</th>\n",
       "      <td>25</td>\n",
       "      <td>female</td>\n",
       "    </tr>\n",
       "    <tr>\n",
       "      <th>7</th>\n",
       "      <td>30</td>\n",
       "      <td>female</td>\n",
       "    </tr>\n",
       "    <tr>\n",
       "      <th>8</th>\n",
       "      <td>32</td>\n",
       "      <td>male</td>\n",
       "    </tr>\n",
       "    <tr>\n",
       "      <th>9</th>\n",
       "      <td>26</td>\n",
       "      <td>NaN</td>\n",
       "    </tr>\n",
       "  </tbody>\n",
       "</table>\n",
       "</div>"
      ],
      "text/plain": [
       "   나이      성별\n",
       "0  20    male\n",
       "1  23  female\n",
       "2  49    male\n",
       "3  38  female\n",
       "4  32  female\n",
       "5  29  female\n",
       "6  25  female\n",
       "7  30  female\n",
       "8  32    male\n",
       "9  26     NaN"
      ]
     },
     "execution_count": 128,
     "metadata": {},
     "output_type": "execute_result"
    }
   ],
   "source": [
    "data_frm.iloc[:,0:2]"
   ]
  },
  {
   "cell_type": "code",
   "execution_count": 129,
   "id": "5d1684e3",
   "metadata": {},
   "outputs": [
    {
     "data": {
      "text/plain": [
       "'male'"
      ]
     },
     "execution_count": 129,
     "metadata": {},
     "output_type": "execute_result"
    }
   ],
   "source": [
    "data_frm.iloc[2,1]"
   ]
  },
  {
   "cell_type": "code",
   "execution_count": 130,
   "id": "433e8905",
   "metadata": {},
   "outputs": [
    {
     "data": {
      "text/plain": [
       "3    female\n",
       "4    female\n",
       "5    female\n",
       "6    female\n",
       "Name: 성별, dtype: object"
      ]
     },
     "execution_count": 130,
     "metadata": {},
     "output_type": "execute_result"
    }
   ],
   "source": [
    "data_frm.iloc[3:7, 1]"
   ]
  },
  {
   "cell_type": "markdown",
   "id": "2f8b59f1",
   "metadata": {},
   "source": [
    "### - 값 정렬하기 : sort_values( )\n",
    "- ascending = False : 내림차순 / True (or 생략) : 오름차순"
   ]
  },
  {
   "cell_type": "code",
   "execution_count": 131,
   "id": "3a7561a3",
   "metadata": {},
   "outputs": [
    {
     "data": {
      "text/html": [
       "<div>\n",
       "<style scoped>\n",
       "    .dataframe tbody tr th:only-of-type {\n",
       "        vertical-align: middle;\n",
       "    }\n",
       "\n",
       "    .dataframe tbody tr th {\n",
       "        vertical-align: top;\n",
       "    }\n",
       "\n",
       "    .dataframe thead th {\n",
       "        text-align: right;\n",
       "    }\n",
       "</style>\n",
       "<table border=\"1\" class=\"dataframe\">\n",
       "  <thead>\n",
       "    <tr style=\"text-align: right;\">\n",
       "      <th></th>\n",
       "      <th>나이</th>\n",
       "      <th>성별</th>\n",
       "    </tr>\n",
       "  </thead>\n",
       "  <tbody>\n",
       "    <tr>\n",
       "      <th>0</th>\n",
       "      <td>20</td>\n",
       "      <td>male</td>\n",
       "    </tr>\n",
       "    <tr>\n",
       "      <th>1</th>\n",
       "      <td>23</td>\n",
       "      <td>female</td>\n",
       "    </tr>\n",
       "    <tr>\n",
       "      <th>6</th>\n",
       "      <td>25</td>\n",
       "      <td>female</td>\n",
       "    </tr>\n",
       "    <tr>\n",
       "      <th>9</th>\n",
       "      <td>26</td>\n",
       "      <td>NaN</td>\n",
       "    </tr>\n",
       "    <tr>\n",
       "      <th>5</th>\n",
       "      <td>29</td>\n",
       "      <td>female</td>\n",
       "    </tr>\n",
       "    <tr>\n",
       "      <th>7</th>\n",
       "      <td>30</td>\n",
       "      <td>female</td>\n",
       "    </tr>\n",
       "    <tr>\n",
       "      <th>4</th>\n",
       "      <td>32</td>\n",
       "      <td>female</td>\n",
       "    </tr>\n",
       "    <tr>\n",
       "      <th>8</th>\n",
       "      <td>32</td>\n",
       "      <td>male</td>\n",
       "    </tr>\n",
       "    <tr>\n",
       "      <th>3</th>\n",
       "      <td>38</td>\n",
       "      <td>female</td>\n",
       "    </tr>\n",
       "    <tr>\n",
       "      <th>2</th>\n",
       "      <td>49</td>\n",
       "      <td>male</td>\n",
       "    </tr>\n",
       "  </tbody>\n",
       "</table>\n",
       "</div>"
      ],
      "text/plain": [
       "   나이      성별\n",
       "0  20    male\n",
       "1  23  female\n",
       "6  25  female\n",
       "9  26     NaN\n",
       "5  29  female\n",
       "7  30  female\n",
       "4  32  female\n",
       "8  32    male\n",
       "3  38  female\n",
       "2  49    male"
      ]
     },
     "execution_count": 131,
     "metadata": {},
     "output_type": "execute_result"
    }
   ],
   "source": [
    "data_frm.sort_values('나이')   # 나이 기준 오름차순 정렬"
   ]
  },
  {
   "cell_type": "code",
   "execution_count": 132,
   "id": "6f2b3478",
   "metadata": {},
   "outputs": [
    {
     "data": {
      "text/html": [
       "<div>\n",
       "<style scoped>\n",
       "    .dataframe tbody tr th:only-of-type {\n",
       "        vertical-align: middle;\n",
       "    }\n",
       "\n",
       "    .dataframe tbody tr th {\n",
       "        vertical-align: top;\n",
       "    }\n",
       "\n",
       "    .dataframe thead th {\n",
       "        text-align: right;\n",
       "    }\n",
       "</style>\n",
       "<table border=\"1\" class=\"dataframe\">\n",
       "  <thead>\n",
       "    <tr style=\"text-align: right;\">\n",
       "      <th></th>\n",
       "      <th>나이</th>\n",
       "      <th>성별</th>\n",
       "    </tr>\n",
       "  </thead>\n",
       "  <tbody>\n",
       "    <tr>\n",
       "      <th>2</th>\n",
       "      <td>49</td>\n",
       "      <td>male</td>\n",
       "    </tr>\n",
       "    <tr>\n",
       "      <th>3</th>\n",
       "      <td>38</td>\n",
       "      <td>female</td>\n",
       "    </tr>\n",
       "    <tr>\n",
       "      <th>4</th>\n",
       "      <td>32</td>\n",
       "      <td>female</td>\n",
       "    </tr>\n",
       "    <tr>\n",
       "      <th>8</th>\n",
       "      <td>32</td>\n",
       "      <td>male</td>\n",
       "    </tr>\n",
       "    <tr>\n",
       "      <th>7</th>\n",
       "      <td>30</td>\n",
       "      <td>female</td>\n",
       "    </tr>\n",
       "    <tr>\n",
       "      <th>5</th>\n",
       "      <td>29</td>\n",
       "      <td>female</td>\n",
       "    </tr>\n",
       "    <tr>\n",
       "      <th>9</th>\n",
       "      <td>26</td>\n",
       "      <td>NaN</td>\n",
       "    </tr>\n",
       "    <tr>\n",
       "      <th>6</th>\n",
       "      <td>25</td>\n",
       "      <td>female</td>\n",
       "    </tr>\n",
       "    <tr>\n",
       "      <th>1</th>\n",
       "      <td>23</td>\n",
       "      <td>female</td>\n",
       "    </tr>\n",
       "    <tr>\n",
       "      <th>0</th>\n",
       "      <td>20</td>\n",
       "      <td>male</td>\n",
       "    </tr>\n",
       "  </tbody>\n",
       "</table>\n",
       "</div>"
      ],
      "text/plain": [
       "   나이      성별\n",
       "2  49    male\n",
       "3  38  female\n",
       "4  32  female\n",
       "8  32    male\n",
       "7  30  female\n",
       "5  29  female\n",
       "9  26     NaN\n",
       "6  25  female\n",
       "1  23  female\n",
       "0  20    male"
      ]
     },
     "execution_count": 132,
     "metadata": {},
     "output_type": "execute_result"
    }
   ],
   "source": [
    "data_frm.sort_values('나이', ascending=False)   # 나이 기준 내림차순 정렬"
   ]
  },
  {
   "cell_type": "markdown",
   "id": "f68018fa",
   "metadata": {},
   "source": [
    "두 개 이상의 컬럼 기준으로 정렬"
   ]
  },
  {
   "cell_type": "code",
   "execution_count": 133,
   "id": "eb38d34b",
   "metadata": {},
   "outputs": [
    {
     "data": {
      "text/html": [
       "<div>\n",
       "<style scoped>\n",
       "    .dataframe tbody tr th:only-of-type {\n",
       "        vertical-align: middle;\n",
       "    }\n",
       "\n",
       "    .dataframe tbody tr th {\n",
       "        vertical-align: top;\n",
       "    }\n",
       "\n",
       "    .dataframe thead th {\n",
       "        text-align: right;\n",
       "    }\n",
       "</style>\n",
       "<table border=\"1\" class=\"dataframe\">\n",
       "  <thead>\n",
       "    <tr style=\"text-align: right;\">\n",
       "      <th></th>\n",
       "      <th>나이</th>\n",
       "      <th>성별</th>\n",
       "    </tr>\n",
       "  </thead>\n",
       "  <tbody>\n",
       "    <tr>\n",
       "      <th>0</th>\n",
       "      <td>20</td>\n",
       "      <td>male</td>\n",
       "    </tr>\n",
       "    <tr>\n",
       "      <th>1</th>\n",
       "      <td>23</td>\n",
       "      <td>female</td>\n",
       "    </tr>\n",
       "    <tr>\n",
       "      <th>6</th>\n",
       "      <td>25</td>\n",
       "      <td>female</td>\n",
       "    </tr>\n",
       "    <tr>\n",
       "      <th>9</th>\n",
       "      <td>26</td>\n",
       "      <td>NaN</td>\n",
       "    </tr>\n",
       "    <tr>\n",
       "      <th>5</th>\n",
       "      <td>29</td>\n",
       "      <td>female</td>\n",
       "    </tr>\n",
       "    <tr>\n",
       "      <th>7</th>\n",
       "      <td>30</td>\n",
       "      <td>female</td>\n",
       "    </tr>\n",
       "    <tr>\n",
       "      <th>4</th>\n",
       "      <td>32</td>\n",
       "      <td>female</td>\n",
       "    </tr>\n",
       "    <tr>\n",
       "      <th>8</th>\n",
       "      <td>32</td>\n",
       "      <td>male</td>\n",
       "    </tr>\n",
       "    <tr>\n",
       "      <th>3</th>\n",
       "      <td>38</td>\n",
       "      <td>female</td>\n",
       "    </tr>\n",
       "    <tr>\n",
       "      <th>2</th>\n",
       "      <td>49</td>\n",
       "      <td>male</td>\n",
       "    </tr>\n",
       "  </tbody>\n",
       "</table>\n",
       "</div>"
      ],
      "text/plain": [
       "   나이      성별\n",
       "0  20    male\n",
       "1  23  female\n",
       "6  25  female\n",
       "9  26     NaN\n",
       "5  29  female\n",
       "7  30  female\n",
       "4  32  female\n",
       "8  32    male\n",
       "3  38  female\n",
       "2  49    male"
      ]
     },
     "execution_count": 133,
     "metadata": {},
     "output_type": "execute_result"
    }
   ],
   "source": [
    "data_frm.sort_values(['나이','성별'])   # 나이, 성별 기준으로 오름차순 정렬 : 나이로 우선 정렬 후 성별로 정렬"
   ]
  },
  {
   "cell_type": "markdown",
   "id": "294b3ee3",
   "metadata": {},
   "source": [
    "### - 결측치 메꾸기 : fillna( )"
   ]
  },
  {
   "cell_type": "code",
   "execution_count": 134,
   "id": "5a737cce",
   "metadata": {},
   "outputs": [
    {
     "data": {
      "text/html": [
       "<div>\n",
       "<style scoped>\n",
       "    .dataframe tbody tr th:only-of-type {\n",
       "        vertical-align: middle;\n",
       "    }\n",
       "\n",
       "    .dataframe tbody tr th {\n",
       "        vertical-align: top;\n",
       "    }\n",
       "\n",
       "    .dataframe thead th {\n",
       "        text-align: right;\n",
       "    }\n",
       "</style>\n",
       "<table border=\"1\" class=\"dataframe\">\n",
       "  <thead>\n",
       "    <tr style=\"text-align: right;\">\n",
       "      <th></th>\n",
       "      <th>나이</th>\n",
       "      <th>성별</th>\n",
       "      <th>성별2</th>\n",
       "    </tr>\n",
       "  </thead>\n",
       "  <tbody>\n",
       "    <tr>\n",
       "      <th>0</th>\n",
       "      <td>20</td>\n",
       "      <td>male</td>\n",
       "      <td>male</td>\n",
       "    </tr>\n",
       "    <tr>\n",
       "      <th>1</th>\n",
       "      <td>23</td>\n",
       "      <td>female</td>\n",
       "      <td>female</td>\n",
       "    </tr>\n",
       "    <tr>\n",
       "      <th>2</th>\n",
       "      <td>49</td>\n",
       "      <td>male</td>\n",
       "      <td>male</td>\n",
       "    </tr>\n",
       "    <tr>\n",
       "      <th>3</th>\n",
       "      <td>38</td>\n",
       "      <td>female</td>\n",
       "      <td>female</td>\n",
       "    </tr>\n",
       "    <tr>\n",
       "      <th>4</th>\n",
       "      <td>32</td>\n",
       "      <td>female</td>\n",
       "      <td>female</td>\n",
       "    </tr>\n",
       "    <tr>\n",
       "      <th>5</th>\n",
       "      <td>29</td>\n",
       "      <td>female</td>\n",
       "      <td>female</td>\n",
       "    </tr>\n",
       "    <tr>\n",
       "      <th>6</th>\n",
       "      <td>25</td>\n",
       "      <td>female</td>\n",
       "      <td>female</td>\n",
       "    </tr>\n",
       "    <tr>\n",
       "      <th>7</th>\n",
       "      <td>30</td>\n",
       "      <td>female</td>\n",
       "      <td>female</td>\n",
       "    </tr>\n",
       "    <tr>\n",
       "      <th>8</th>\n",
       "      <td>32</td>\n",
       "      <td>male</td>\n",
       "      <td>male</td>\n",
       "    </tr>\n",
       "    <tr>\n",
       "      <th>9</th>\n",
       "      <td>26</td>\n",
       "      <td>NaN</td>\n",
       "      <td>male</td>\n",
       "    </tr>\n",
       "  </tbody>\n",
       "</table>\n",
       "</div>"
      ],
      "text/plain": [
       "   나이      성별     성별2\n",
       "0  20    male    male\n",
       "1  23  female  female\n",
       "2  49    male    male\n",
       "3  38  female  female\n",
       "4  32  female  female\n",
       "5  29  female  female\n",
       "6  25  female  female\n",
       "7  30  female  female\n",
       "8  32    male    male\n",
       "9  26     NaN    male"
      ]
     },
     "execution_count": 134,
     "metadata": {},
     "output_type": "execute_result"
    }
   ],
   "source": [
    "data_frm['성별2'] = data_frm['성별'].fillna('male')\n",
    "data_frm"
   ]
  },
  {
   "cell_type": "markdown",
   "id": "4c64338a",
   "metadata": {},
   "source": [
    "### - 결측치 삭제하기 : dropna( )"
   ]
  },
  {
   "cell_type": "code",
   "execution_count": 137,
   "id": "faaf9d7b",
   "metadata": {},
   "outputs": [
    {
     "data": {
      "text/html": [
       "<div>\n",
       "<style scoped>\n",
       "    .dataframe tbody tr th:only-of-type {\n",
       "        vertical-align: middle;\n",
       "    }\n",
       "\n",
       "    .dataframe tbody tr th {\n",
       "        vertical-align: top;\n",
       "    }\n",
       "\n",
       "    .dataframe thead th {\n",
       "        text-align: right;\n",
       "    }\n",
       "</style>\n",
       "<table border=\"1\" class=\"dataframe\">\n",
       "  <thead>\n",
       "    <tr style=\"text-align: right;\">\n",
       "      <th></th>\n",
       "      <th>나이</th>\n",
       "      <th>성별</th>\n",
       "      <th>성별2</th>\n",
       "    </tr>\n",
       "  </thead>\n",
       "  <tbody>\n",
       "    <tr>\n",
       "      <th>0</th>\n",
       "      <td>20</td>\n",
       "      <td>male</td>\n",
       "      <td>male</td>\n",
       "    </tr>\n",
       "    <tr>\n",
       "      <th>1</th>\n",
       "      <td>23</td>\n",
       "      <td>female</td>\n",
       "      <td>female</td>\n",
       "    </tr>\n",
       "    <tr>\n",
       "      <th>2</th>\n",
       "      <td>49</td>\n",
       "      <td>male</td>\n",
       "      <td>male</td>\n",
       "    </tr>\n",
       "    <tr>\n",
       "      <th>3</th>\n",
       "      <td>38</td>\n",
       "      <td>female</td>\n",
       "      <td>female</td>\n",
       "    </tr>\n",
       "    <tr>\n",
       "      <th>4</th>\n",
       "      <td>32</td>\n",
       "      <td>female</td>\n",
       "      <td>female</td>\n",
       "    </tr>\n",
       "    <tr>\n",
       "      <th>5</th>\n",
       "      <td>29</td>\n",
       "      <td>female</td>\n",
       "      <td>female</td>\n",
       "    </tr>\n",
       "    <tr>\n",
       "      <th>6</th>\n",
       "      <td>25</td>\n",
       "      <td>female</td>\n",
       "      <td>female</td>\n",
       "    </tr>\n",
       "    <tr>\n",
       "      <th>7</th>\n",
       "      <td>30</td>\n",
       "      <td>female</td>\n",
       "      <td>female</td>\n",
       "    </tr>\n",
       "    <tr>\n",
       "      <th>8</th>\n",
       "      <td>32</td>\n",
       "      <td>male</td>\n",
       "      <td>male</td>\n",
       "    </tr>\n",
       "  </tbody>\n",
       "</table>\n",
       "</div>"
      ],
      "text/plain": [
       "   나이      성별     성별2\n",
       "0  20    male    male\n",
       "1  23  female  female\n",
       "2  49    male    male\n",
       "3  38  female  female\n",
       "4  32  female  female\n",
       "5  29  female  female\n",
       "6  25  female  female\n",
       "7  30  female  female\n",
       "8  32    male    male"
      ]
     },
     "execution_count": 137,
     "metadata": {},
     "output_type": "execute_result"
    }
   ],
   "source": [
    "data_frm2 = data_frm.dropna()\n",
    "data_frm2"
   ]
  },
  {
   "cell_type": "markdown",
   "id": "136a173a",
   "metadata": {},
   "source": [
    "### - 행/열 제거하기 : drop( ) > 데이터에 바로 적용 X , 새로운 변수 정의 필요"
   ]
  },
  {
   "cell_type": "code",
   "execution_count": 138,
   "id": "e04cc96a",
   "metadata": {},
   "outputs": [
    {
     "data": {
      "text/html": [
       "<div>\n",
       "<style scoped>\n",
       "    .dataframe tbody tr th:only-of-type {\n",
       "        vertical-align: middle;\n",
       "    }\n",
       "\n",
       "    .dataframe tbody tr th {\n",
       "        vertical-align: top;\n",
       "    }\n",
       "\n",
       "    .dataframe thead th {\n",
       "        text-align: right;\n",
       "    }\n",
       "</style>\n",
       "<table border=\"1\" class=\"dataframe\">\n",
       "  <thead>\n",
       "    <tr style=\"text-align: right;\">\n",
       "      <th></th>\n",
       "      <th>나이</th>\n",
       "      <th>성별</th>\n",
       "      <th>성별2</th>\n",
       "    </tr>\n",
       "  </thead>\n",
       "  <tbody>\n",
       "    <tr>\n",
       "      <th>1</th>\n",
       "      <td>23</td>\n",
       "      <td>female</td>\n",
       "      <td>female</td>\n",
       "    </tr>\n",
       "    <tr>\n",
       "      <th>3</th>\n",
       "      <td>38</td>\n",
       "      <td>female</td>\n",
       "      <td>female</td>\n",
       "    </tr>\n",
       "    <tr>\n",
       "      <th>5</th>\n",
       "      <td>29</td>\n",
       "      <td>female</td>\n",
       "      <td>female</td>\n",
       "    </tr>\n",
       "    <tr>\n",
       "      <th>7</th>\n",
       "      <td>30</td>\n",
       "      <td>female</td>\n",
       "      <td>female</td>\n",
       "    </tr>\n",
       "    <tr>\n",
       "      <th>9</th>\n",
       "      <td>26</td>\n",
       "      <td>NaN</td>\n",
       "      <td>male</td>\n",
       "    </tr>\n",
       "  </tbody>\n",
       "</table>\n",
       "</div>"
      ],
      "text/plain": [
       "   나이      성별     성별2\n",
       "1  23  female  female\n",
       "3  38  female  female\n",
       "5  29  female  female\n",
       "7  30  female  female\n",
       "9  26     NaN    male"
      ]
     },
     "execution_count": 138,
     "metadata": {},
     "output_type": "execute_result"
    }
   ],
   "source": [
    "# 짝수 인덱스 행 삭제\n",
    "data_frm.drop(index = [0,2,4,6,8])"
   ]
  },
  {
   "cell_type": "code",
   "execution_count": 140,
   "id": "73b6d471",
   "metadata": {},
   "outputs": [
    {
     "data": {
      "text/html": [
       "<div>\n",
       "<style scoped>\n",
       "    .dataframe tbody tr th:only-of-type {\n",
       "        vertical-align: middle;\n",
       "    }\n",
       "\n",
       "    .dataframe tbody tr th {\n",
       "        vertical-align: top;\n",
       "    }\n",
       "\n",
       "    .dataframe thead th {\n",
       "        text-align: right;\n",
       "    }\n",
       "</style>\n",
       "<table border=\"1\" class=\"dataframe\">\n",
       "  <thead>\n",
       "    <tr style=\"text-align: right;\">\n",
       "      <th></th>\n",
       "      <th>나이</th>\n",
       "      <th>성별2</th>\n",
       "    </tr>\n",
       "  </thead>\n",
       "  <tbody>\n",
       "    <tr>\n",
       "      <th>0</th>\n",
       "      <td>20</td>\n",
       "      <td>male</td>\n",
       "    </tr>\n",
       "    <tr>\n",
       "      <th>1</th>\n",
       "      <td>23</td>\n",
       "      <td>female</td>\n",
       "    </tr>\n",
       "    <tr>\n",
       "      <th>2</th>\n",
       "      <td>49</td>\n",
       "      <td>male</td>\n",
       "    </tr>\n",
       "    <tr>\n",
       "      <th>3</th>\n",
       "      <td>38</td>\n",
       "      <td>female</td>\n",
       "    </tr>\n",
       "    <tr>\n",
       "      <th>4</th>\n",
       "      <td>32</td>\n",
       "      <td>female</td>\n",
       "    </tr>\n",
       "    <tr>\n",
       "      <th>5</th>\n",
       "      <td>29</td>\n",
       "      <td>female</td>\n",
       "    </tr>\n",
       "    <tr>\n",
       "      <th>6</th>\n",
       "      <td>25</td>\n",
       "      <td>female</td>\n",
       "    </tr>\n",
       "    <tr>\n",
       "      <th>7</th>\n",
       "      <td>30</td>\n",
       "      <td>female</td>\n",
       "    </tr>\n",
       "    <tr>\n",
       "      <th>8</th>\n",
       "      <td>32</td>\n",
       "      <td>male</td>\n",
       "    </tr>\n",
       "    <tr>\n",
       "      <th>9</th>\n",
       "      <td>26</td>\n",
       "      <td>male</td>\n",
       "    </tr>\n",
       "  </tbody>\n",
       "</table>\n",
       "</div>"
      ],
      "text/plain": [
       "   나이     성별2\n",
       "0  20    male\n",
       "1  23  female\n",
       "2  49    male\n",
       "3  38  female\n",
       "4  32  female\n",
       "5  29  female\n",
       "6  25  female\n",
       "7  30  female\n",
       "8  32    male\n",
       "9  26    male"
      ]
     },
     "execution_count": 140,
     "metadata": {},
     "output_type": "execute_result"
    }
   ],
   "source": [
    "data_frm.drop(columns=['성별'])"
   ]
  },
  {
   "cell_type": "code",
   "execution_count": 141,
   "id": "fe72debe",
   "metadata": {},
   "outputs": [
    {
     "data": {
      "text/html": [
       "<div>\n",
       "<style scoped>\n",
       "    .dataframe tbody tr th:only-of-type {\n",
       "        vertical-align: middle;\n",
       "    }\n",
       "\n",
       "    .dataframe tbody tr th {\n",
       "        vertical-align: top;\n",
       "    }\n",
       "\n",
       "    .dataframe thead th {\n",
       "        text-align: right;\n",
       "    }\n",
       "</style>\n",
       "<table border=\"1\" class=\"dataframe\">\n",
       "  <thead>\n",
       "    <tr style=\"text-align: right;\">\n",
       "      <th></th>\n",
       "      <th>나이</th>\n",
       "      <th>성별</th>\n",
       "      <th>성별2</th>\n",
       "    </tr>\n",
       "  </thead>\n",
       "  <tbody>\n",
       "    <tr>\n",
       "      <th>0</th>\n",
       "      <td>20</td>\n",
       "      <td>male</td>\n",
       "      <td>male</td>\n",
       "    </tr>\n",
       "    <tr>\n",
       "      <th>1</th>\n",
       "      <td>23</td>\n",
       "      <td>female</td>\n",
       "      <td>female</td>\n",
       "    </tr>\n",
       "    <tr>\n",
       "      <th>2</th>\n",
       "      <td>49</td>\n",
       "      <td>male</td>\n",
       "      <td>male</td>\n",
       "    </tr>\n",
       "    <tr>\n",
       "      <th>3</th>\n",
       "      <td>38</td>\n",
       "      <td>female</td>\n",
       "      <td>female</td>\n",
       "    </tr>\n",
       "    <tr>\n",
       "      <th>4</th>\n",
       "      <td>32</td>\n",
       "      <td>female</td>\n",
       "      <td>female</td>\n",
       "    </tr>\n",
       "    <tr>\n",
       "      <th>5</th>\n",
       "      <td>29</td>\n",
       "      <td>female</td>\n",
       "      <td>female</td>\n",
       "    </tr>\n",
       "    <tr>\n",
       "      <th>6</th>\n",
       "      <td>25</td>\n",
       "      <td>female</td>\n",
       "      <td>female</td>\n",
       "    </tr>\n",
       "    <tr>\n",
       "      <th>7</th>\n",
       "      <td>30</td>\n",
       "      <td>female</td>\n",
       "      <td>female</td>\n",
       "    </tr>\n",
       "    <tr>\n",
       "      <th>8</th>\n",
       "      <td>32</td>\n",
       "      <td>male</td>\n",
       "      <td>male</td>\n",
       "    </tr>\n",
       "    <tr>\n",
       "      <th>9</th>\n",
       "      <td>26</td>\n",
       "      <td>NaN</td>\n",
       "      <td>male</td>\n",
       "    </tr>\n",
       "  </tbody>\n",
       "</table>\n",
       "</div>"
      ],
      "text/plain": [
       "   나이      성별     성별2\n",
       "0  20    male    male\n",
       "1  23  female  female\n",
       "2  49    male    male\n",
       "3  38  female  female\n",
       "4  32  female  female\n",
       "5  29  female  female\n",
       "6  25  female  female\n",
       "7  30  female  female\n",
       "8  32    male    male\n",
       "9  26     NaN    male"
      ]
     },
     "execution_count": 141,
     "metadata": {},
     "output_type": "execute_result"
    }
   ],
   "source": [
    "data_frm   # 위의 행/열 drop 반영되지 않음 확인"
   ]
  },
  {
   "cell_type": "markdown",
   "id": "05a5d19e",
   "metadata": {},
   "source": [
    "### - 값 바꾸기 : replace( )"
   ]
  },
  {
   "cell_type": "code",
   "execution_count": 142,
   "id": "4f3f1f16",
   "metadata": {},
   "outputs": [],
   "source": [
    "# 성별 데이터의 female > F , male > M 으로 교체 >> 성별2 컬럼에\n",
    "data_frm['성별2'] = data_frm['성별'].replace('female', 'F').replace('male','M')"
   ]
  },
  {
   "cell_type": "code",
   "execution_count": 143,
   "id": "20177f6e",
   "metadata": {},
   "outputs": [
    {
     "data": {
      "text/html": [
       "<div>\n",
       "<style scoped>\n",
       "    .dataframe tbody tr th:only-of-type {\n",
       "        vertical-align: middle;\n",
       "    }\n",
       "\n",
       "    .dataframe tbody tr th {\n",
       "        vertical-align: top;\n",
       "    }\n",
       "\n",
       "    .dataframe thead th {\n",
       "        text-align: right;\n",
       "    }\n",
       "</style>\n",
       "<table border=\"1\" class=\"dataframe\">\n",
       "  <thead>\n",
       "    <tr style=\"text-align: right;\">\n",
       "      <th></th>\n",
       "      <th>나이</th>\n",
       "      <th>성별</th>\n",
       "      <th>성별2</th>\n",
       "    </tr>\n",
       "  </thead>\n",
       "  <tbody>\n",
       "    <tr>\n",
       "      <th>0</th>\n",
       "      <td>20</td>\n",
       "      <td>male</td>\n",
       "      <td>M</td>\n",
       "    </tr>\n",
       "    <tr>\n",
       "      <th>1</th>\n",
       "      <td>23</td>\n",
       "      <td>female</td>\n",
       "      <td>F</td>\n",
       "    </tr>\n",
       "    <tr>\n",
       "      <th>2</th>\n",
       "      <td>49</td>\n",
       "      <td>male</td>\n",
       "      <td>M</td>\n",
       "    </tr>\n",
       "    <tr>\n",
       "      <th>3</th>\n",
       "      <td>38</td>\n",
       "      <td>female</td>\n",
       "      <td>F</td>\n",
       "    </tr>\n",
       "    <tr>\n",
       "      <th>4</th>\n",
       "      <td>32</td>\n",
       "      <td>female</td>\n",
       "      <td>F</td>\n",
       "    </tr>\n",
       "    <tr>\n",
       "      <th>5</th>\n",
       "      <td>29</td>\n",
       "      <td>female</td>\n",
       "      <td>F</td>\n",
       "    </tr>\n",
       "    <tr>\n",
       "      <th>6</th>\n",
       "      <td>25</td>\n",
       "      <td>female</td>\n",
       "      <td>F</td>\n",
       "    </tr>\n",
       "    <tr>\n",
       "      <th>7</th>\n",
       "      <td>30</td>\n",
       "      <td>female</td>\n",
       "      <td>F</td>\n",
       "    </tr>\n",
       "    <tr>\n",
       "      <th>8</th>\n",
       "      <td>32</td>\n",
       "      <td>male</td>\n",
       "      <td>M</td>\n",
       "    </tr>\n",
       "    <tr>\n",
       "      <th>9</th>\n",
       "      <td>26</td>\n",
       "      <td>NaN</td>\n",
       "      <td>NaN</td>\n",
       "    </tr>\n",
       "  </tbody>\n",
       "</table>\n",
       "</div>"
      ],
      "text/plain": [
       "   나이      성별  성별2\n",
       "0  20    male    M\n",
       "1  23  female    F\n",
       "2  49    male    M\n",
       "3  38  female    F\n",
       "4  32  female    F\n",
       "5  29  female    F\n",
       "6  25  female    F\n",
       "7  30  female    F\n",
       "8  32    male    M\n",
       "9  26     NaN  NaN"
      ]
     },
     "execution_count": 143,
     "metadata": {},
     "output_type": "execute_result"
    }
   ],
   "source": [
    "data_frm"
   ]
  },
  {
   "cell_type": "code",
   "execution_count": 146,
   "id": "b270deeb",
   "metadata": {},
   "outputs": [
    {
     "data": {
      "text/html": [
       "<div>\n",
       "<style scoped>\n",
       "    .dataframe tbody tr th:only-of-type {\n",
       "        vertical-align: middle;\n",
       "    }\n",
       "\n",
       "    .dataframe tbody tr th {\n",
       "        vertical-align: top;\n",
       "    }\n",
       "\n",
       "    .dataframe thead th {\n",
       "        text-align: right;\n",
       "    }\n",
       "</style>\n",
       "<table border=\"1\" class=\"dataframe\">\n",
       "  <thead>\n",
       "    <tr style=\"text-align: right;\">\n",
       "      <th></th>\n",
       "      <th>나이</th>\n",
       "      <th>성별</th>\n",
       "      <th>성별2</th>\n",
       "      <th>성별2_dict</th>\n",
       "    </tr>\n",
       "  </thead>\n",
       "  <tbody>\n",
       "    <tr>\n",
       "      <th>0</th>\n",
       "      <td>20</td>\n",
       "      <td>male</td>\n",
       "      <td>M</td>\n",
       "      <td>M</td>\n",
       "    </tr>\n",
       "    <tr>\n",
       "      <th>1</th>\n",
       "      <td>23</td>\n",
       "      <td>female</td>\n",
       "      <td>F</td>\n",
       "      <td>F</td>\n",
       "    </tr>\n",
       "    <tr>\n",
       "      <th>2</th>\n",
       "      <td>49</td>\n",
       "      <td>male</td>\n",
       "      <td>M</td>\n",
       "      <td>M</td>\n",
       "    </tr>\n",
       "    <tr>\n",
       "      <th>3</th>\n",
       "      <td>38</td>\n",
       "      <td>female</td>\n",
       "      <td>F</td>\n",
       "      <td>F</td>\n",
       "    </tr>\n",
       "    <tr>\n",
       "      <th>4</th>\n",
       "      <td>32</td>\n",
       "      <td>female</td>\n",
       "      <td>F</td>\n",
       "      <td>F</td>\n",
       "    </tr>\n",
       "    <tr>\n",
       "      <th>5</th>\n",
       "      <td>29</td>\n",
       "      <td>female</td>\n",
       "      <td>F</td>\n",
       "      <td>F</td>\n",
       "    </tr>\n",
       "    <tr>\n",
       "      <th>6</th>\n",
       "      <td>25</td>\n",
       "      <td>female</td>\n",
       "      <td>F</td>\n",
       "      <td>F</td>\n",
       "    </tr>\n",
       "    <tr>\n",
       "      <th>7</th>\n",
       "      <td>30</td>\n",
       "      <td>female</td>\n",
       "      <td>F</td>\n",
       "      <td>F</td>\n",
       "    </tr>\n",
       "    <tr>\n",
       "      <th>8</th>\n",
       "      <td>32</td>\n",
       "      <td>male</td>\n",
       "      <td>M</td>\n",
       "      <td>M</td>\n",
       "    </tr>\n",
       "    <tr>\n",
       "      <th>9</th>\n",
       "      <td>26</td>\n",
       "      <td>NaN</td>\n",
       "      <td>NaN</td>\n",
       "      <td>NaN</td>\n",
       "    </tr>\n",
       "  </tbody>\n",
       "</table>\n",
       "</div>"
      ],
      "text/plain": [
       "   나이      성별  성별2 성별2_dict\n",
       "0  20    male    M        M\n",
       "1  23  female    F        F\n",
       "2  49    male    M        M\n",
       "3  38  female    F        F\n",
       "4  32  female    F        F\n",
       "5  29  female    F        F\n",
       "6  25  female    F        F\n",
       "7  30  female    F        F\n",
       "8  32    male    M        M\n",
       "9  26     NaN  NaN      NaN"
      ]
     },
     "execution_count": 146,
     "metadata": {},
     "output_type": "execute_result"
    }
   ],
   "source": [
    "data_frm['성별2_dict'] = data_frm['성별'].replace({'female':'F', 'male':'M'})\n",
    "data_frm"
   ]
  },
  {
   "cell_type": "code",
   "execution_count": null,
   "id": "31b9ef95",
   "metadata": {},
   "outputs": [],
   "source": []
  },
  {
   "cell_type": "code",
   "execution_count": null,
   "id": "2cbf2c56",
   "metadata": {},
   "outputs": [],
   "source": []
  },
  {
   "cell_type": "code",
   "execution_count": null,
   "id": "a136c1ce",
   "metadata": {},
   "outputs": [],
   "source": []
  },
  {
   "cell_type": "code",
   "execution_count": null,
   "id": "3a45a758",
   "metadata": {},
   "outputs": [],
   "source": []
  }
 ],
 "metadata": {
  "kernelspec": {
   "display_name": "Python 3 (ipykernel)",
   "language": "python",
   "name": "python3"
  },
  "language_info": {
   "codemirror_mode": {
    "name": "ipython",
    "version": 3
   },
   "file_extension": ".py",
   "mimetype": "text/x-python",
   "name": "python",
   "nbconvert_exporter": "python",
   "pygments_lexer": "ipython3",
   "version": "3.7.13"
  }
 },
 "nbformat": 4,
 "nbformat_minor": 5
}
