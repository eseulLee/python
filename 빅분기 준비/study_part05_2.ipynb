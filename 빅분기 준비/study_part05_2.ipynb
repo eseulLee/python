{
 "cells": [
  {
   "cell_type": "markdown",
   "id": "3c8567eb",
   "metadata": {},
   "source": [
    "## 분류 모델 수행하기"
   ]
  },
  {
   "cell_type": "markdown",
   "id": "19f2e25e",
   "metadata": {},
   "source": [
    "### 2.1 데이터 탐색하기\n",
    "\n",
    "#### 데이터 가져오기"
   ]
  },
  {
   "cell_type": "code",
   "execution_count": 33,
   "id": "72a877ca",
   "metadata": {},
   "outputs": [],
   "source": [
    "import pandas as pd"
   ]
  },
  {
   "cell_type": "code",
   "execution_count": 74,
   "id": "bb9706a5",
   "metadata": {},
   "outputs": [
    {
     "name": "stdout",
     "output_type": "stream",
     "text": [
      "   PassengerId  티켓등급                                               승객이름  \\\n",
      "0            1     3                            Braund, Mr. Owen Harris   \n",
      "1            2     1  Cumings, Mrs. John Bradley (Florence Briggs Th...   \n",
      "2            3     3                             Heikkinen, Miss. Laina   \n",
      "3            4     1       Futrelle, Mrs. Jacques Heath (Lily May Peel)   \n",
      "4            5     3                           Allen, Mr. William Henry   \n",
      "\n",
      "       성별    나이  형제자매배우자수  부모자식수              티켓번호     운임요금  객실번호 선착장  \n",
      "0    male  22.0         1      0         A/5 21171   7.2500   NaN   S  \n",
      "1  female  38.0         1      0          PC 17599  71.2833   C85   C  \n",
      "2  female  26.0         0      0  STON/O2. 3101282   7.9250   NaN   S  \n",
      "3  female  35.0         1      0            113803  53.1000  C123   S  \n",
      "4    male  35.0         0      0            373450   8.0500   NaN   S  \n",
      "   PassengerId  티켓등급                                          승객이름      성별  \\\n",
      "0          892     3                              Kelly, Mr. James    male   \n",
      "1          893     3              Wilkes, Mrs. James (Ellen Needs)  female   \n",
      "2          894     2                     Myles, Mr. Thomas Francis    male   \n",
      "3          895     3                              Wirz, Mr. Albert    male   \n",
      "4          896     3  Hirvonen, Mrs. Alexander (Helga E Lindqvist)  female   \n",
      "\n",
      "     나이  형제자매배우자수  부모자식수     티켓번호     운임요금 객실번호 선착장  \n",
      "0  34.5         0      0   330911   7.8292  NaN   Q  \n",
      "1  47.0         1      0   363272   7.0000  NaN   S  \n",
      "2  62.0         0      0   240276   9.6875  NaN   Q  \n",
      "3  27.0         0      0   315154   8.6625  NaN   S  \n",
      "4  22.0         1      1  3101298  12.2875  NaN   S  \n",
      "   PassengerId  Survived\n",
      "0            1         0\n",
      "1            2         1\n",
      "2            3         1\n",
      "3            4         1\n",
      "4            5         0\n"
     ]
    }
   ],
   "source": [
    "X_train = pd.read_csv('./bigData-main/titanic_x_train.csv', encoding='cp949')\n",
    "X_test  = pd.read_csv('./bigData-main/titanic_x_test.csv', encoding='cp949')\n",
    "y_train = pd.read_csv('./bigData-main/titanic_y_train.csv', encoding='cp949')\n",
    "\n",
    "print(X_train.head()) # NaN 있음\n",
    "print(X_test.head())  # NaN 있음\n",
    "print(y_train.head()) # PassengerId, Survived"
   ]
  },
  {
   "cell_type": "markdown",
   "id": "7d8429c7",
   "metadata": {},
   "source": [
    "#### 행/열 확인하기"
   ]
  },
  {
   "cell_type": "code",
   "execution_count": 75,
   "id": "dfb7fc43",
   "metadata": {},
   "outputs": [
    {
     "name": "stdout",
     "output_type": "stream",
     "text": [
      "(891, 11) (418, 11) (891, 2)\n"
     ]
    }
   ],
   "source": [
    "print(X_train.shape, X_test.shape, y_train.shape)"
   ]
  },
  {
   "cell_type": "markdown",
   "id": "4398b31a",
   "metadata": {},
   "source": [
    "#### 요약정보 확인하기\n",
    "\n",
    "- 나이, 객실번호, 선착장 컬럼 결측치 확인\n",
    "- object : 승객이름, 성별, 티켓번호, 객실번호, 선착장 > 범주형 변수인지 확인 필요"
   ]
  },
  {
   "cell_type": "code",
   "execution_count": 76,
   "id": "d52be78f",
   "metadata": {},
   "outputs": [
    {
     "name": "stdout",
     "output_type": "stream",
     "text": [
      "<class 'pandas.core.frame.DataFrame'>\n",
      "RangeIndex: 891 entries, 0 to 890\n",
      "Data columns (total 11 columns):\n",
      " #   Column       Non-Null Count  Dtype  \n",
      "---  ------       --------------  -----  \n",
      " 0   PassengerId  891 non-null    int64  \n",
      " 1   티켓등급         891 non-null    int64  \n",
      " 2   승객이름         891 non-null    object \n",
      " 3   성별           891 non-null    object \n",
      " 4   나이           714 non-null    float64\n",
      " 5   형제자매배우자수     891 non-null    int64  \n",
      " 6   부모자식수        891 non-null    int64  \n",
      " 7   티켓번호         891 non-null    object \n",
      " 8   운임요금         891 non-null    float64\n",
      " 9   객실번호         204 non-null    object \n",
      " 10  선착장          889 non-null    object \n",
      "dtypes: float64(2), int64(4), object(5)\n",
      "memory usage: 76.7+ KB\n"
     ]
    }
   ],
   "source": [
    "X_train.info()"
   ]
  },
  {
   "cell_type": "code",
   "execution_count": 77,
   "id": "b1802767",
   "metadata": {},
   "outputs": [
    {
     "name": "stdout",
     "output_type": "stream",
     "text": [
      "<class 'pandas.core.frame.DataFrame'>\n",
      "RangeIndex: 418 entries, 0 to 417\n",
      "Data columns (total 11 columns):\n",
      " #   Column       Non-Null Count  Dtype  \n",
      "---  ------       --------------  -----  \n",
      " 0   PassengerId  418 non-null    int64  \n",
      " 1   티켓등급         418 non-null    int64  \n",
      " 2   승객이름         418 non-null    object \n",
      " 3   성별           418 non-null    object \n",
      " 4   나이           332 non-null    float64\n",
      " 5   형제자매배우자수     418 non-null    int64  \n",
      " 6   부모자식수        418 non-null    int64  \n",
      " 7   티켓번호         418 non-null    object \n",
      " 8   운임요금         417 non-null    float64\n",
      " 9   객실번호         91 non-null     object \n",
      " 10  선착장          418 non-null    object \n",
      "dtypes: float64(2), int64(4), object(5)\n",
      "memory usage: 36.0+ KB\n"
     ]
    }
   ],
   "source": [
    "X_test.info()"
   ]
  },
  {
   "cell_type": "code",
   "execution_count": 78,
   "id": "966fc935",
   "metadata": {},
   "outputs": [
    {
     "name": "stdout",
     "output_type": "stream",
     "text": [
      "<class 'pandas.core.frame.DataFrame'>\n",
      "RangeIndex: 891 entries, 0 to 890\n",
      "Data columns (total 2 columns):\n",
      " #   Column       Non-Null Count  Dtype\n",
      "---  ------       --------------  -----\n",
      " 0   PassengerId  891 non-null    int64\n",
      " 1   Survived     891 non-null    int64\n",
      "dtypes: int64(2)\n",
      "memory usage: 14.0 KB\n"
     ]
    }
   ],
   "source": [
    "y_train.info()"
   ]
  },
  {
   "cell_type": "code",
   "execution_count": 79,
   "id": "f9166bfc",
   "metadata": {},
   "outputs": [
    {
     "data": {
      "text/plain": [
       "Index(['승객이름', '성별', '티켓번호', '객실번호', '선착장'], dtype='object')"
      ]
     },
     "execution_count": 79,
     "metadata": {},
     "output_type": "execute_result"
    }
   ],
   "source": [
    "X_train.select_dtypes(include = object).columns"
   ]
  },
  {
   "cell_type": "code",
   "execution_count": 80,
   "id": "87fb91cc",
   "metadata": {},
   "outputs": [
    {
     "name": "stdout",
     "output_type": "stream",
     "text": [
      "성별     -  2\n",
      "['male' 'female'] \n",
      "\n",
      "선착장   -  4\n",
      "['S' 'C' 'Q' nan] \n",
      "\n",
      "승객번호 -  891\n",
      "티켓번호 -  681\n",
      "객실번호 -  147\n"
     ]
    }
   ],
   "source": [
    "print('성별     - ', X_train['성별'].unique().size)\n",
    "print(X_train['성별'].unique(),'\\n')\n",
    "\n",
    "print('선착장   - ', X_train['선착장'].unique().size)\n",
    "print(X_train['선착장'].unique(), '\\n')\n",
    "\n",
    "print('승객번호 - ', X_train['승객이름'].nunique())\n",
    "print('티켓번호 - ', X_train['티켓번호'].nunique())\n",
    "print('객실번호 - ', X_train['객실번호'].nunique())"
   ]
  },
  {
   "cell_type": "markdown",
   "id": "b01ec66a",
   "metadata": {},
   "source": [
    "- 성별, 선착장 : 10개 이하의 값 종류 > 범주형 데이터\n",
    "- 승객이름, 티켓번호, 객실번호 : 수백 개의 값을 가짐 > 범주를 갖지 않는 문자열 값"
   ]
  },
  {
   "cell_type": "markdown",
   "id": "a74b8638",
   "metadata": {},
   "source": [
    "#### 기초 통계량 확인하기"
   ]
  },
  {
   "cell_type": "code",
   "execution_count": 81,
   "id": "2718c056",
   "metadata": {},
   "outputs": [
    {
     "name": "stdout",
     "output_type": "stream",
     "text": [
      "       PassengerId        티켓등급          나이    형제자매배우자수       부모자식수        운임요금\n",
      "count   891.000000  891.000000  714.000000  891.000000  891.000000  891.000000\n",
      "mean    446.000000    2.308642   29.699118    0.523008    0.381594   32.204208\n",
      "std     257.353842    0.836071   14.526497    1.102743    0.806057   49.693429\n",
      "min       1.000000    1.000000    0.420000    0.000000    0.000000    0.000000\n",
      "25%     223.500000    2.000000   20.125000    0.000000    0.000000    7.910400\n",
      "50%     446.000000    3.000000   28.000000    0.000000    0.000000   14.454200\n",
      "75%     668.500000    3.000000   38.000000    1.000000    0.000000   31.000000\n",
      "max     891.000000    3.000000   80.000000    8.000000    6.000000  512.329200\n"
     ]
    }
   ],
   "source": [
    "print(X_train.describe())"
   ]
  },
  {
   "cell_type": "markdown",
   "id": "92d008d4",
   "metadata": {},
   "source": [
    "#### 독립변수 - 종속변수 관계 확인하기\n",
    "\n",
    "- 독립변수의 영향도와 추세 파악"
   ]
  },
  {
   "cell_type": "code",
   "execution_count": 82,
   "id": "7eec347d",
   "metadata": {},
   "outputs": [],
   "source": [
    "# X_train, y_train 을 세로 방향으로 결합 후, data 변수에 저장\n",
    "data = pd.concat([X_train, y_train], axis=1)"
   ]
  },
  {
   "cell_type": "code",
   "execution_count": 83,
   "id": "0aa87ce2",
   "metadata": {},
   "outputs": [
    {
     "name": "stdout",
     "output_type": "stream",
     "text": [
      "성별\n",
      "female    0.742038\n",
      "male      0.188908\n",
      "Name: Survived, dtype: float64\n",
      "\n",
      ">>>> 여성이 남성보다 생존율이 높음 확인\n"
     ]
    }
   ],
   "source": [
    "# '성별' 컬럼에 따라 Survived 평균값 계산\n",
    "print(data.groupby('성별')['Survived'].mean())\n",
    "print('\\n>>>> 여성이 남성보다 생존율이 높음 확인')"
   ]
  },
  {
   "cell_type": "code",
   "execution_count": 84,
   "id": "239dee47",
   "metadata": {},
   "outputs": [
    {
     "name": "stdout",
     "output_type": "stream",
     "text": [
      "티켓등급\n",
      "1    0.629630\n",
      "2    0.472826\n",
      "3    0.242363\n",
      "Name: Survived, dtype: float64\n",
      "\n",
      ">>>> 티켓등급이 높을수록 생존율이 높음 예상\n"
     ]
    }
   ],
   "source": [
    "# '티켓등급' 컬럼에 따라 Survived 평균값 계산\n",
    "print(data.groupby('티켓등급')['Survived'].mean())\n",
    "print('\\n>>>> 티켓등급이 높을수록 생존율이 높음 예상')"
   ]
  },
  {
   "cell_type": "code",
   "execution_count": 85,
   "id": "dfcce644",
   "metadata": {},
   "outputs": [
    {
     "name": "stdout",
     "output_type": "stream",
     "text": [
      "선착장\n",
      "C    0.553571\n",
      "Q    0.389610\n",
      "S    0.336957\n",
      "Name: Survived, dtype: float64\n",
      "\n",
      ">>>> C 선착장에 탑승한 승객의 생존율이 가장 높음 확인\n"
     ]
    }
   ],
   "source": [
    "# '선착장' 컬럼에 따라 Survived 평균값 계산\n",
    "print(data.groupby('선착장')['Survived'].mean())\n",
    "print('\\n>>>> C 선착장에 탑승한 승객의 생존율이 가장 높음 확인')"
   ]
  },
  {
   "cell_type": "markdown",
   "id": "828d69b0",
   "metadata": {},
   "source": [
    "'성별', '티켓등급', '선착장' 컬럼들은 최종적으로 분류해야 하는 Survived 컬럼과 명확한 관계가 있으므로, 데이터 분석 대상에 반드시 포함!"
   ]
  },
  {
   "cell_type": "markdown",
   "id": "02e8f8f8",
   "metadata": {},
   "source": [
    "### 데이터 전처리\n",
    "\n",
    "#### 불필요한 컬럼 삭제"
   ]
  },
  {
   "cell_type": "code",
   "execution_count": 86,
   "id": "2033833b",
   "metadata": {},
   "outputs": [],
   "source": [
    "# 테스트 데이터의 PassengerId 값은 x_test_passenger_id 변수에 저장\n",
    "x_test_passenger_id = X_test.PassengerId"
   ]
  },
  {
   "cell_type": "code",
   "execution_count": 87,
   "id": "1b8780c9",
   "metadata": {},
   "outputs": [],
   "source": [
    "# X_train, y_train, X_test 에서 PassengerId 컬럼 삭제\n",
    "X_train = X_train.drop(columns = ['PassengerId'])\n",
    "X_test  = X_test.drop(columns = ['PassengerId'])\n",
    "y_train = y_train.drop(columns = ['PassengerId'])"
   ]
  },
  {
   "cell_type": "code",
   "execution_count": 88,
   "id": "6cd0ed9f",
   "metadata": {},
   "outputs": [
    {
     "name": "stdout",
     "output_type": "stream",
     "text": [
      "   Survived\n",
      "0         0\n",
      "1         1\n",
      "2         1\n",
      "3         1\n",
      "4         0\n"
     ]
    }
   ],
   "source": [
    "print(y_train.head()) # PassengerId 컬럼 삭제 확인"
   ]
  },
  {
   "cell_type": "markdown",
   "id": "86d6b625",
   "metadata": {},
   "source": [
    "문자형 데이터인 '티켓번호' 칼럼은 681건의 중복 제거된 값을 가지고 있으므로, 이는 전체 대비 50%가 넘는 데이터로 분석 대상에서 삭제 처리"
   ]
  },
  {
   "cell_type": "code",
   "execution_count": 89,
   "id": "8b8ad320",
   "metadata": {},
   "outputs": [],
   "source": [
    "# print(X_train['티켓번호'].nunique())  > 681\n",
    "\n",
    "# 학습 데이터 및 테스트 데이터에서 '티켓번호' 컬럼 삭제\n",
    "X_train = X_train.drop(columns = ['티켓번호'])\n",
    "X_test  = X_test.drop(columns = ['티켓번호'])"
   ]
  },
  {
   "cell_type": "markdown",
   "id": "77eede4b",
   "metadata": {},
   "source": [
    "문자형 데이터인 '승객이름' 컬럼은 전체 데이터 건수만큼 서로 다른 값을 가지게 되기 때문에, 단순한 데이터 분석을 위해 삭제 처리 진행\n",
    "- 이름을 구성하는 세가지 요소(성, 호칭, 이름)를 분리하여 패턴화할 수도 있으나, 간단한 데이터 분석을 위해 편의상 삭제"
   ]
  },
  {
   "cell_type": "code",
   "execution_count": 90,
   "id": "dbee6198",
   "metadata": {},
   "outputs": [],
   "source": [
    "# 학습 데이터와 테스트 데이터에서 '승객이름' 컬럼 삭제\n",
    "X_train = X_train.drop(columns = ['승객이름'])\n",
    "X_test  = X_test.drop(columns = ['승객이름'])"
   ]
  },
  {
   "cell_type": "markdown",
   "id": "dfb6113c",
   "metadata": {},
   "source": [
    "### 결측치 처리"
   ]
  },
  {
   "cell_type": "code",
   "execution_count": 91,
   "id": "2ea7158c",
   "metadata": {},
   "outputs": [
    {
     "name": "stdout",
     "output_type": "stream",
     "text": [
      "177\n",
      "687\n",
      "2\n"
     ]
    }
   ],
   "source": [
    "# '나이', '객실번호', '선착장' 컬럼의 결측치 개수 세기\n",
    "print(X_train['나이'].isnull().sum())\n",
    "print(X_train['객실번호'].isnull().sum())\n",
    "print(X_train['선착장'].isnull().sum())"
   ]
  },
  {
   "cell_type": "markdown",
   "id": "8ec8937f",
   "metadata": {},
   "source": [
    "나이 컬럼과 Survived 컬럼의 상관성 확인\n",
    "- 상관관계가 약 -0.08 로 매우 낮아 분석대상에서 제외"
   ]
  },
  {
   "cell_type": "code",
   "execution_count": 92,
   "id": "7f7e9b8e",
   "metadata": {},
   "outputs": [
    {
     "name": "stdout",
     "output_type": "stream",
     "text": [
      "                나이  Survived\n",
      "나이        1.000000 -0.077221\n",
      "Survived -0.077221  1.000000\n"
     ]
    }
   ],
   "source": [
    "print(data[['나이', 'Survived']].corr())"
   ]
  },
  {
   "cell_type": "code",
   "execution_count": 93,
   "id": "e5937d60",
   "metadata": {},
   "outputs": [],
   "source": [
    "# '나이' 컬럼 삭제\n",
    "X_train = X_train.drop(columns = ['나이'])\n",
    "X_test  = X_test.drop(columns = ['나이'])"
   ]
  },
  {
   "cell_type": "markdown",
   "id": "6da47ae3",
   "metadata": {},
   "source": [
    "객실번호 결측치 687건, nunique = 148건 으로 대부분의 데이터가 서로 상이한 값이고 결측치 처리 어려우므로 분석대상에서 제외"
   ]
  },
  {
   "cell_type": "code",
   "execution_count": 94,
   "id": "2b500dde",
   "metadata": {},
   "outputs": [],
   "source": [
    "# '객실번호' 컬럼 삭제\n",
    "X_train = X_train.drop(columns = ['객실번호'])\n",
    "X_test  = X_test.drop(columns = ['객실번호'])"
   ]
  },
  {
   "cell_type": "markdown",
   "id": "59f57178",
   "metadata": {},
   "source": [
    "선착장 컬럼은 결측치 2건으로, 가장 많은 비율을 차지하는 값으로 적용 > S 값으로 대치"
   ]
  },
  {
   "cell_type": "code",
   "execution_count": 95,
   "id": "3bf56d6f",
   "metadata": {},
   "outputs": [
    {
     "name": "stdout",
     "output_type": "stream",
     "text": [
      "선착장\n",
      "C    168\n",
      "Q     77\n",
      "S    644\n",
      "Name: 선착장, dtype: int64\n"
     ]
    }
   ],
   "source": [
    "print(X_train.groupby('선착장')['선착장'].count())"
   ]
  },
  {
   "cell_type": "code",
   "execution_count": 96,
   "id": "ada54d93",
   "metadata": {},
   "outputs": [
    {
     "name": "stdout",
     "output_type": "stream",
     "text": [
      "0\n"
     ]
    }
   ],
   "source": [
    "X_train['선착장'] = X_train['선착장'].fillna('S')\n",
    "\n",
    "print(X_train['선착장'].isnull().sum())"
   ]
  },
  {
   "cell_type": "code",
   "execution_count": 97,
   "id": "8876dd71",
   "metadata": {},
   "outputs": [
    {
     "name": "stdout",
     "output_type": "stream",
     "text": [
      "0\n"
     ]
    }
   ],
   "source": [
    "print(X_test['선착장'].isnull().sum())  # 테스트 데이터 결측치 0건으로 pass"
   ]
  },
  {
   "cell_type": "markdown",
   "id": "6544b054",
   "metadata": {},
   "source": [
    "#### 범주형 변수 인코딩\n",
    "\n",
    "- '성별' 컬럼 연속형 변수로 변환 >> male : 0, female : 1"
   ]
  },
  {
   "cell_type": "code",
   "execution_count": 98,
   "id": "79b80b3b",
   "metadata": {},
   "outputs": [],
   "source": [
    "X_train['성별'] = X_train['성별'].replace('male', 0).replace('female', 1)\n",
    "X_test['성별']  = X_test['성별'].replace('male', 0).replace('female', 1)"
   ]
  },
  {
   "cell_type": "markdown",
   "id": "a68b56ae",
   "metadata": {},
   "source": [
    "- '선착장' 컬럼 연속형 변수로 변환 >> 세가지 종류의 데이터로 구성, 원핫인코딩 수행 >> pd.get_dummies() 사용"
   ]
  },
  {
   "cell_type": "code",
   "execution_count": 99,
   "id": "4f3e41a8",
   "metadata": {},
   "outputs": [
    {
     "name": "stdout",
     "output_type": "stream",
     "text": [
      "   티켓등급  성별  형제자매배우자수  부모자식수     운임요금 선착장  선착장Q  선착장S\n",
      "0     3   0         1      0   7.2500   S     0     1\n",
      "1     1   1         1      0  71.2833   C     0     0\n",
      "2     3   1         0      0   7.9250   S     0     1\n",
      "3     1   1         1      0  53.1000   S     0     1\n",
      "4     3   0         0      0   8.0500   S     0     1\n"
     ]
    }
   ],
   "source": [
    "선착장_dummy = pd.get_dummies(X_train['선착장'], drop_first = True).rename(columns = {'Q' : '선착장Q', 'S' : '선착장S'})\n",
    "\n",
    "# 기존 X_train 우측에 변수 덧붙여 X_train 에 다시 저장\n",
    "X_train = pd.concat([X_train, 선착장_dummy], axis=1)\n",
    "\n",
    "# X_train 의 상위 5개 행 확인\n",
    "print(X_train.head())"
   ]
  },
  {
   "cell_type": "code",
   "execution_count": 100,
   "id": "8be2276f",
   "metadata": {},
   "outputs": [],
   "source": [
    "# 학습데이터에서 '선착장' 컬럼 삭제\n",
    "X_train = X_train.drop(columns = ['선착장'])"
   ]
  },
  {
   "cell_type": "markdown",
   "id": "77bbaa5c",
   "metadata": {},
   "source": [
    "테스트 데이터도 동일하게 진행 : '선착장' 컬럼 원핫인코딩 수행 > 기존 컬럼 삭제"
   ]
  },
  {
   "cell_type": "code",
   "execution_count": 101,
   "id": "ecfbd48d",
   "metadata": {},
   "outputs": [
    {
     "data": {
      "text/html": [
       "<div>\n",
       "<style scoped>\n",
       "    .dataframe tbody tr th:only-of-type {\n",
       "        vertical-align: middle;\n",
       "    }\n",
       "\n",
       "    .dataframe tbody tr th {\n",
       "        vertical-align: top;\n",
       "    }\n",
       "\n",
       "    .dataframe thead th {\n",
       "        text-align: right;\n",
       "    }\n",
       "</style>\n",
       "<table border=\"1\" class=\"dataframe\">\n",
       "  <thead>\n",
       "    <tr style=\"text-align: right;\">\n",
       "      <th></th>\n",
       "      <th>티켓등급</th>\n",
       "      <th>성별</th>\n",
       "      <th>형제자매배우자수</th>\n",
       "      <th>부모자식수</th>\n",
       "      <th>운임요금</th>\n",
       "      <th>선착장Q</th>\n",
       "      <th>선착장S</th>\n",
       "    </tr>\n",
       "  </thead>\n",
       "  <tbody>\n",
       "    <tr>\n",
       "      <th>0</th>\n",
       "      <td>3</td>\n",
       "      <td>0</td>\n",
       "      <td>0</td>\n",
       "      <td>0</td>\n",
       "      <td>7.8292</td>\n",
       "      <td>1</td>\n",
       "      <td>0</td>\n",
       "    </tr>\n",
       "    <tr>\n",
       "      <th>1</th>\n",
       "      <td>3</td>\n",
       "      <td>1</td>\n",
       "      <td>1</td>\n",
       "      <td>0</td>\n",
       "      <td>7.0000</td>\n",
       "      <td>0</td>\n",
       "      <td>1</td>\n",
       "    </tr>\n",
       "    <tr>\n",
       "      <th>2</th>\n",
       "      <td>2</td>\n",
       "      <td>0</td>\n",
       "      <td>0</td>\n",
       "      <td>0</td>\n",
       "      <td>9.6875</td>\n",
       "      <td>1</td>\n",
       "      <td>0</td>\n",
       "    </tr>\n",
       "    <tr>\n",
       "      <th>3</th>\n",
       "      <td>3</td>\n",
       "      <td>0</td>\n",
       "      <td>0</td>\n",
       "      <td>0</td>\n",
       "      <td>8.6625</td>\n",
       "      <td>0</td>\n",
       "      <td>1</td>\n",
       "    </tr>\n",
       "    <tr>\n",
       "      <th>4</th>\n",
       "      <td>3</td>\n",
       "      <td>1</td>\n",
       "      <td>1</td>\n",
       "      <td>1</td>\n",
       "      <td>12.2875</td>\n",
       "      <td>0</td>\n",
       "      <td>1</td>\n",
       "    </tr>\n",
       "  </tbody>\n",
       "</table>\n",
       "</div>"
      ],
      "text/plain": [
       "   티켓등급  성별  형제자매배우자수  부모자식수     운임요금  선착장Q  선착장S\n",
       "0     3   0         0      0   7.8292     1     0\n",
       "1     3   1         1      0   7.0000     0     1\n",
       "2     2   0         0      0   9.6875     1     0\n",
       "3     3   0         0      0   8.6625     0     1\n",
       "4     3   1         1      1  12.2875     0     1"
      ]
     },
     "execution_count": 101,
     "metadata": {},
     "output_type": "execute_result"
    }
   ],
   "source": [
    "선착장_dummy = pd.get_dummies(X_test['선착장'], drop_first = True).rename(columns = {'Q':'선착장Q', 'S':'선착장S'})\n",
    "X_test = pd.concat([X_test, 선착장_dummy], axis=1)\n",
    "X_test = X_test.drop(columns = ['선착장'])\n",
    "X_test.head()"
   ]
  },
  {
   "cell_type": "markdown",
   "id": "6c64f1fa",
   "metadata": {},
   "source": [
    "#### 파생변수 만들기\n",
    "\n",
    "- '형재자매배우자수' 컬럼과 '부모자식수' 컬럼으로 '가족수' 라는 파생변수 생성"
   ]
  },
  {
   "cell_type": "code",
   "execution_count": 105,
   "id": "a8c5377a",
   "metadata": {},
   "outputs": [
    {
     "name": "stdout",
     "output_type": "stream",
     "text": [
      "   형제자매배우자수  부모자식수  가족수\n",
      "0         1      0    1\n",
      "1         1      0    1\n",
      "2         0      0    0\n",
      "3         1      0    1\n",
      "4         0      0    0\n",
      "5         0      0    0\n",
      "6         0      0    0\n",
      "7         3      1    4\n",
      "8         0      2    2\n",
      "9         1      0    1\n"
     ]
    }
   ],
   "source": [
    "X_train['가족수'] = X_train['형제자매배우자수'] + X_train['부모자식수']\n",
    "print(X_train[['형제자매배우자수', '부모자식수', '가족수']].head(10))"
   ]
  },
  {
   "cell_type": "markdown",
   "id": "fcc85b36",
   "metadata": {},
   "source": [
    "기존 2개의 컬럼 (형제자매배우자수, 부모자식수) 삭제"
   ]
  },
  {
   "cell_type": "code",
   "execution_count": 106,
   "id": "8c123178",
   "metadata": {},
   "outputs": [],
   "source": [
    "X_train = X_train.drop(columns = ['형제자매배우자수', '부모자식수'])"
   ]
  },
  {
   "cell_type": "markdown",
   "id": "ba3d7220",
   "metadata": {},
   "source": [
    "테스트 데이터도 동일하게 진행"
   ]
  },
  {
   "cell_type": "code",
   "execution_count": 108,
   "id": "3cfe3277",
   "metadata": {},
   "outputs": [
    {
     "data": {
      "text/html": [
       "<div>\n",
       "<style scoped>\n",
       "    .dataframe tbody tr th:only-of-type {\n",
       "        vertical-align: middle;\n",
       "    }\n",
       "\n",
       "    .dataframe tbody tr th {\n",
       "        vertical-align: top;\n",
       "    }\n",
       "\n",
       "    .dataframe thead th {\n",
       "        text-align: right;\n",
       "    }\n",
       "</style>\n",
       "<table border=\"1\" class=\"dataframe\">\n",
       "  <thead>\n",
       "    <tr style=\"text-align: right;\">\n",
       "      <th></th>\n",
       "      <th>티켓등급</th>\n",
       "      <th>성별</th>\n",
       "      <th>운임요금</th>\n",
       "      <th>선착장Q</th>\n",
       "      <th>선착장S</th>\n",
       "      <th>가족수</th>\n",
       "    </tr>\n",
       "  </thead>\n",
       "  <tbody>\n",
       "    <tr>\n",
       "      <th>0</th>\n",
       "      <td>3</td>\n",
       "      <td>0</td>\n",
       "      <td>7.8292</td>\n",
       "      <td>1</td>\n",
       "      <td>0</td>\n",
       "      <td>0</td>\n",
       "    </tr>\n",
       "    <tr>\n",
       "      <th>1</th>\n",
       "      <td>3</td>\n",
       "      <td>1</td>\n",
       "      <td>7.0000</td>\n",
       "      <td>0</td>\n",
       "      <td>1</td>\n",
       "      <td>1</td>\n",
       "    </tr>\n",
       "    <tr>\n",
       "      <th>2</th>\n",
       "      <td>2</td>\n",
       "      <td>0</td>\n",
       "      <td>9.6875</td>\n",
       "      <td>1</td>\n",
       "      <td>0</td>\n",
       "      <td>0</td>\n",
       "    </tr>\n",
       "    <tr>\n",
       "      <th>3</th>\n",
       "      <td>3</td>\n",
       "      <td>0</td>\n",
       "      <td>8.6625</td>\n",
       "      <td>0</td>\n",
       "      <td>1</td>\n",
       "      <td>0</td>\n",
       "    </tr>\n",
       "    <tr>\n",
       "      <th>4</th>\n",
       "      <td>3</td>\n",
       "      <td>1</td>\n",
       "      <td>12.2875</td>\n",
       "      <td>0</td>\n",
       "      <td>1</td>\n",
       "      <td>2</td>\n",
       "    </tr>\n",
       "  </tbody>\n",
       "</table>\n",
       "</div>"
      ],
      "text/plain": [
       "   티켓등급  성별     운임요금  선착장Q  선착장S  가족수\n",
       "0     3   0   7.8292     1     0    0\n",
       "1     3   1   7.0000     0     1    1\n",
       "2     2   0   9.6875     1     0    0\n",
       "3     3   0   8.6625     0     1    0\n",
       "4     3   1  12.2875     0     1    2"
      ]
     },
     "execution_count": 108,
     "metadata": {},
     "output_type": "execute_result"
    }
   ],
   "source": [
    "X_test['가족수'] = X_test['형제자매배우자수'] + X_test['부모자식수']\n",
    "X_test = X_test.drop(columns = ['형제자매배우자수', '부모자식수'])\n",
    "X_test.head()"
   ]
  },
  {
   "cell_type": "markdown",
   "id": "b6b27e78",
   "metadata": {},
   "source": [
    "### 2.3 학습 및 평가\n",
    "\n",
    "#### 데이터 분리"
   ]
  },
  {
   "cell_type": "code",
   "execution_count": 109,
   "id": "8d6870e6",
   "metadata": {},
   "outputs": [
    {
     "name": "stdout",
     "output_type": "stream",
     "text": [
      "(712, 6) (179, 6) (712, 1) (179, 1)\n"
     ]
    }
   ],
   "source": [
    "from sklearn.model_selection import train_test_split\n",
    "\n",
    "X_TRAIN, X_VAL, Y_TRAIN, Y_VAL = train_test_split(X_train, y_train, test_size = .2, random_state = 42)\n",
    "\n",
    "print(X_TRAIN.shape, X_VAL.shape, Y_TRAIN.shape, Y_VAL.shape)"
   ]
  },
  {
   "cell_type": "markdown",
   "id": "cda43263",
   "metadata": {},
   "source": [
    "#### 데이터 학습 및 하이퍼 파라미터 튜닝"
   ]
  },
  {
   "cell_type": "code",
   "execution_count": 111,
   "id": "b030d11a",
   "metadata": {},
   "outputs": [],
   "source": [
    "from xgboost import XGBClassifier"
   ]
  },
  {
   "cell_type": "markdown",
   "id": "119a7a3a",
   "metadata": {},
   "source": [
    "#### [1] XGBClassifier 기본값으로 모델 학습"
   ]
  },
  {
   "cell_type": "code",
   "execution_count": 112,
   "id": "590a5b23",
   "metadata": {},
   "outputs": [
    {
     "name": "stderr",
     "output_type": "stream",
     "text": [
      "C:\\Users\\dltmf\\anaconda3\\envs\\tensorEvn\\lib\\site-packages\\xgboost\\sklearn.py:1224: UserWarning: The use of label encoder in XGBClassifier is deprecated and will be removed in a future release. To remove this warning, do the following: 1) Pass option use_label_encoder=False when constructing XGBClassifier object; and 2) Encode your labels (y) as integers starting with 0, i.e. 0, 1, 2, ..., [num_class - 1].\n",
      "  warnings.warn(label_encoder_deprecation_msg, UserWarning)\n",
      "C:\\Users\\dltmf\\anaconda3\\envs\\tensorEvn\\lib\\site-packages\\sklearn\\preprocessing\\_label.py:98: DataConversionWarning: A column-vector y was passed when a 1d array was expected. Please change the shape of y to (n_samples, ), for example using ravel().\n",
      "  y = column_or_1d(y, warn=True)\n",
      "C:\\Users\\dltmf\\anaconda3\\envs\\tensorEvn\\lib\\site-packages\\sklearn\\preprocessing\\_label.py:133: DataConversionWarning: A column-vector y was passed when a 1d array was expected. Please change the shape of y to (n_samples, ), for example using ravel().\n",
      "  y = column_or_1d(y, warn=True)\n"
     ]
    },
    {
     "data": {
      "text/plain": [
       "XGBClassifier(base_score=0.5, booster='gbtree', colsample_bylevel=1,\n",
       "              colsample_bynode=1, colsample_bytree=1, enable_categorical=False,\n",
       "              eval_metric='error', gamma=0, gpu_id=-1, importance_type=None,\n",
       "              interaction_constraints='', learning_rate=0.300000012,\n",
       "              max_delta_step=0, max_depth=6, min_child_weight=1, missing=nan,\n",
       "              monotone_constraints='()', n_estimators=100, n_jobs=8,\n",
       "              num_parallel_tree=1, predictor='auto', random_state=42,\n",
       "              reg_alpha=0, reg_lambda=1, scale_pos_weight=1, subsample=1,\n",
       "              tree_method='exact', validate_parameters=1, verbosity=None)"
      ]
     },
     "execution_count": 112,
     "metadata": {},
     "output_type": "execute_result"
    }
   ],
   "source": [
    "model1 = XGBClassifier(eval_metric = 'error', random_state = 42) # eval_metric : 분류 모델로 학습을 수행하는 경우 작성하는 대표값\n",
    "model1.fit(X_TRAIN, Y_TRAIN)"
   ]
  },
  {
   "cell_type": "markdown",
   "id": "814b7c7d",
   "metadata": {},
   "source": [
    "#### [2] 하이퍼 파라미터 주입하여 모델 학습\n",
    "\n",
    "- 대표적인 하이퍼 파라미터 : n_estimators, max_depth"
   ]
  },
  {
   "cell_type": "code",
   "execution_count": 113,
   "id": "3b0d9fc1",
   "metadata": {},
   "outputs": [
    {
     "data": {
      "text/plain": [
       "XGBClassifier(base_score=0.5, booster='gbtree', colsample_bylevel=1,\n",
       "              colsample_bynode=1, colsample_bytree=1, enable_categorical=False,\n",
       "              eval_metric='error', gamma=0, gpu_id=-1, importance_type=None,\n",
       "              interaction_constraints='', learning_rate=0.300000012,\n",
       "              max_delta_step=0, max_depth=5, min_child_weight=1, missing=nan,\n",
       "              monotone_constraints='()', n_estimators=100, n_jobs=8,\n",
       "              num_parallel_tree=1, predictor='auto', random_state=42,\n",
       "              reg_alpha=0, reg_lambda=1, scale_pos_weight=1, subsample=1,\n",
       "              tree_method='exact', validate_parameters=1, verbosity=None)"
      ]
     },
     "execution_count": 113,
     "metadata": {},
     "output_type": "execute_result"
    }
   ],
   "source": [
    "model2 = XGBClassifier(n_estimators = 100, max_depth = 5, eval_metric = 'error', random_state = 42)\n",
    "model2.fit(X_TRAIN, Y_TRAIN)"
   ]
  },
  {
   "cell_type": "markdown",
   "id": "2e2c03d3",
   "metadata": {},
   "source": [
    "#### 결과 예측하기"
   ]
  },
  {
   "cell_type": "code",
   "execution_count": 120,
   "id": "b00c221b",
   "metadata": {},
   "outputs": [
    {
     "name": "stdout",
     "output_type": "stream",
     "text": [
      "   Survived\n",
      "0         0\n",
      "1         1\n",
      "2         0\n",
      "3         0\n",
      "4         1\n",
      "5         0\n",
      "6         0\n",
      "7         0\n",
      "8         1\n",
      "9         0\n"
     ]
    }
   ],
   "source": [
    "y_pred1 = pd.DataFrame(model1.predict(X_test), columns = ['Survived'])\n",
    "y_pred2 = pd.DataFrame(model2.predict(X_test), columns = ['Survived'])\n",
    "\n",
    "print(pd.DataFrame(y_pred1).head(10))"
   ]
  },
  {
   "cell_type": "markdown",
   "id": "1904164e",
   "metadata": {},
   "source": [
    "- 만약 승객이 사망할 확률을 구해야 하는 경우 : pd.DataFrame(model.predict_proba(x_test))[0]\n",
    "- 승객이 생존할 확률을 구해야 하는 경우 : pd.DataFrame(model_predict_proba(x_test))[1]\n",
    "\n",
    "ROC 평가지표 계산하기 위해 X_VAL 검증용 세트에 대응되는 Y_VAL 값 예측"
   ]
  },
  {
   "cell_type": "code",
   "execution_count": 117,
   "id": "3e9f69f8",
   "metadata": {},
   "outputs": [],
   "source": [
    "Y_VAL_PRED1 = pd.DataFrame(model1.predict(X_VAL), columns = ['Survived'])\n",
    "Y_VAL_PRED2 = pd.DataFrame(model2.predict(X_VAL), columns = ['Survived'])"
   ]
  },
  {
   "cell_type": "markdown",
   "id": "05789afa",
   "metadata": {},
   "source": [
    "#### 모델 평가하기\n",
    "\n",
    "- 채점 기준인 roc_auc_score 함수 이용하여 모델 평가 수행"
   ]
  },
  {
   "cell_type": "code",
   "execution_count": 121,
   "id": "e2cdba07",
   "metadata": {},
   "outputs": [],
   "source": [
    "from sklearn.metrics import roc_auc_score"
   ]
  },
  {
   "cell_type": "code",
   "execution_count": 123,
   "id": "b1ae24e3",
   "metadata": {},
   "outputs": [
    {
     "name": "stdout",
     "output_type": "stream",
     "text": [
      "0.7866795366795367\n",
      "0.7942084942084942\n"
     ]
    }
   ],
   "source": [
    "# 평가지표 결과 비교\n",
    "print(roc_auc_score(Y_VAL, Y_VAL_PRED1))\n",
    "print(roc_auc_score(Y_VAL, Y_VAL_PRED2))  # 두번째 모델을 최종 모델로 선정"
   ]
  },
  {
   "cell_type": "markdown",
   "id": "aa5c8bb6",
   "metadata": {},
   "source": [
    "### 2.4 결과 제출하기\n",
    "\n",
    "- 최종데이터 : PassengerId 변수와 y_test 세트의 예측값(y_pred2) 함께 출력"
   ]
  },
  {
   "cell_type": "code",
   "execution_count": 129,
   "id": "5f009b1a",
   "metadata": {},
   "outputs": [],
   "source": [
    "final = pd.concat([x_test_passenger_id, y_pred2], axis=1)\n",
    "final.to_csv('data/12345.csv', index=False) # 행번호 저장하지 않으므로 index=False 필수"
   ]
  },
  {
   "cell_type": "code",
   "execution_count": 131,
   "id": "0dd8e634",
   "metadata": {},
   "outputs": [
    {
     "data": {
      "text/html": [
       "<div>\n",
       "<style scoped>\n",
       "    .dataframe tbody tr th:only-of-type {\n",
       "        vertical-align: middle;\n",
       "    }\n",
       "\n",
       "    .dataframe tbody tr th {\n",
       "        vertical-align: top;\n",
       "    }\n",
       "\n",
       "    .dataframe thead th {\n",
       "        text-align: right;\n",
       "    }\n",
       "</style>\n",
       "<table border=\"1\" class=\"dataframe\">\n",
       "  <thead>\n",
       "    <tr style=\"text-align: right;\">\n",
       "      <th></th>\n",
       "      <th>PassengerId</th>\n",
       "      <th>Survived</th>\n",
       "    </tr>\n",
       "  </thead>\n",
       "  <tbody>\n",
       "    <tr>\n",
       "      <th>0</th>\n",
       "      <td>892</td>\n",
       "      <td>0</td>\n",
       "    </tr>\n",
       "    <tr>\n",
       "      <th>1</th>\n",
       "      <td>893</td>\n",
       "      <td>1</td>\n",
       "    </tr>\n",
       "    <tr>\n",
       "      <th>2</th>\n",
       "      <td>894</td>\n",
       "      <td>0</td>\n",
       "    </tr>\n",
       "    <tr>\n",
       "      <th>3</th>\n",
       "      <td>895</td>\n",
       "      <td>0</td>\n",
       "    </tr>\n",
       "    <tr>\n",
       "      <th>4</th>\n",
       "      <td>896</td>\n",
       "      <td>1</td>\n",
       "    </tr>\n",
       "  </tbody>\n",
       "</table>\n",
       "</div>"
      ],
      "text/plain": [
       "   PassengerId  Survived\n",
       "0          892         0\n",
       "1          893         1\n",
       "2          894         0\n",
       "3          895         0\n",
       "4          896         1"
      ]
     },
     "execution_count": 131,
     "metadata": {},
     "output_type": "execute_result"
    }
   ],
   "source": [
    "# 저장된 파일 재확인\n",
    "pd.read_csv('data/12345.csv').head()"
   ]
  }
 ],
 "metadata": {
  "kernelspec": {
   "display_name": "Python 3 (ipykernel)",
   "language": "python",
   "name": "python3"
  },
  "language_info": {
   "codemirror_mode": {
    "name": "ipython",
    "version": 3
   },
   "file_extension": ".py",
   "mimetype": "text/x-python",
   "name": "python",
   "nbconvert_exporter": "python",
   "pygments_lexer": "ipython3",
   "version": "3.7.13"
  }
 },
 "nbformat": 4,
 "nbformat_minor": 5
}
