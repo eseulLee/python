{
 "cells": [
  {
   "cell_type": "markdown",
   "id": "3b9a21ca",
   "metadata": {},
   "source": [
    "### 암기 없이 파이썬 키워드 찾는 방법!\n",
    "\n",
    "**1. 모듈명 찾기**\n",
    "- dir 키워드 사용"
   ]
  },
  {
   "cell_type": "code",
   "execution_count": 1,
   "id": "04c288e6",
   "metadata": {},
   "outputs": [
    {
     "name": "stdout",
     "output_type": "stream",
     "text": [
      "['__SKLEARN_SETUP__', '__all__', '__builtins__', '__cached__', '__check_build', '__doc__', '__file__', '__loader__', '__name__', '__package__', '__path__', '__spec__', '__version__', '_config', '_distributor_init', 'base', 'clone', 'config_context', 'exceptions', 'externals', 'get_config', 'logger', 'logging', 'os', 'random', 'set_config', 'setup_module', 'show_versions', 'sys', 'utils']\n"
     ]
    }
   ],
   "source": [
    "import sklearn\n",
    "\n",
    "# sklearn 패키지 모듈 확인하기\n",
    "print(dir(sklearn))"
   ]
  },
  {
   "cell_type": "markdown",
   "id": "824ca776",
   "metadata": {},
   "source": [
    "**2. 함수명 찾기**"
   ]
  },
  {
   "cell_type": "code",
   "execution_count": 3,
   "id": "ba97a07c",
   "metadata": {},
   "outputs": [
    {
     "name": "stdout",
     "output_type": "stream",
     "text": [
      "['Binarizer', 'FunctionTransformer', 'KBinsDiscretizer', 'KernelCenterer', 'LabelBinarizer', 'LabelEncoder', 'MaxAbsScaler', 'MinMaxScaler', 'MultiLabelBinarizer', 'Normalizer', 'OneHotEncoder', 'OrdinalEncoder', 'PolynomialFeatures', 'PowerTransformer', 'QuantileTransformer', 'RobustScaler', 'SplineTransformer', 'StandardScaler', '__all__', '__builtins__', '__cached__', '__doc__', '__file__', '__loader__', '__name__', '__package__', '__path__', '__spec__', '_csr_polynomial_expansion', '_data', '_discretization', '_encoders', '_function_transformer', '_label', '_polynomial', 'add_dummy_feature', 'binarize', 'label_binarize', 'maxabs_scale', 'minmax_scale', 'normalize', 'power_transform', 'quantile_transform', 'robust_scale', 'scale']\n"
     ]
    }
   ],
   "source": [
    "import sklearn.preprocessing\n",
    "\n",
    "# preprocessing 모듈에 있는 함수명 확인하기\n",
    "print(dir(sklearn.preprocessing))"
   ]
  },
  {
   "cell_type": "markdown",
   "id": "d09b6706",
   "metadata": {},
   "source": [
    "**3. 함수의 파라미터 확인하기**\n",
    "- help 키워드 사용"
   ]
  },
  {
   "cell_type": "code",
   "execution_count": 4,
   "id": "f9e313e8",
   "metadata": {
    "scrolled": true
   },
   "outputs": [
    {
     "name": "stdout",
     "output_type": "stream",
     "text": [
      "Help on class StandardScaler in module sklearn.preprocessing._data:\n",
      "\n",
      "class StandardScaler(sklearn.base._OneToOneFeatureMixin, sklearn.base.TransformerMixin, sklearn.base.BaseEstimator)\n",
      " |  StandardScaler(*, copy=True, with_mean=True, with_std=True)\n",
      " |  \n",
      " |  Standardize features by removing the mean and scaling to unit variance.\n",
      " |  \n",
      " |  The standard score of a sample `x` is calculated as:\n",
      " |  \n",
      " |      z = (x - u) / s\n",
      " |  \n",
      " |  where `u` is the mean of the training samples or zero if `with_mean=False`,\n",
      " |  and `s` is the standard deviation of the training samples or one if\n",
      " |  `with_std=False`.\n",
      " |  \n",
      " |  Centering and scaling happen independently on each feature by computing\n",
      " |  the relevant statistics on the samples in the training set. Mean and\n",
      " |  standard deviation are then stored to be used on later data using\n",
      " |  :meth:`transform`.\n",
      " |  \n",
      " |  Standardization of a dataset is a common requirement for many\n",
      " |  machine learning estimators: they might behave badly if the\n",
      " |  individual features do not more or less look like standard normally\n",
      " |  distributed data (e.g. Gaussian with 0 mean and unit variance).\n",
      " |  \n",
      " |  For instance many elements used in the objective function of\n",
      " |  a learning algorithm (such as the RBF kernel of Support Vector\n",
      " |  Machines or the L1 and L2 regularizers of linear models) assume that\n",
      " |  all features are centered around 0 and have variance in the same\n",
      " |  order. If a feature has a variance that is orders of magnitude larger\n",
      " |  that others, it might dominate the objective function and make the\n",
      " |  estimator unable to learn from other features correctly as expected.\n",
      " |  \n",
      " |  This scaler can also be applied to sparse CSR or CSC matrices by passing\n",
      " |  `with_mean=False` to avoid breaking the sparsity structure of the data.\n",
      " |  \n",
      " |  Read more in the :ref:`User Guide <preprocessing_scaler>`.\n",
      " |  \n",
      " |  Parameters\n",
      " |  ----------\n",
      " |  copy : bool, default=True\n",
      " |      If False, try to avoid a copy and do inplace scaling instead.\n",
      " |      This is not guaranteed to always work inplace; e.g. if the data is\n",
      " |      not a NumPy array or scipy.sparse CSR matrix, a copy may still be\n",
      " |      returned.\n",
      " |  \n",
      " |  with_mean : bool, default=True\n",
      " |      If True, center the data before scaling.\n",
      " |      This does not work (and will raise an exception) when attempted on\n",
      " |      sparse matrices, because centering them entails building a dense\n",
      " |      matrix which in common use cases is likely to be too large to fit in\n",
      " |      memory.\n",
      " |  \n",
      " |  with_std : bool, default=True\n",
      " |      If True, scale the data to unit variance (or equivalently,\n",
      " |      unit standard deviation).\n",
      " |  \n",
      " |  Attributes\n",
      " |  ----------\n",
      " |  scale_ : ndarray of shape (n_features,) or None\n",
      " |      Per feature relative scaling of the data to achieve zero mean and unit\n",
      " |      variance. Generally this is calculated using `np.sqrt(var_)`. If a\n",
      " |      variance is zero, we can't achieve unit variance, and the data is left\n",
      " |      as-is, giving a scaling factor of 1. `scale_` is equal to `None`\n",
      " |      when `with_std=False`.\n",
      " |  \n",
      " |      .. versionadded:: 0.17\n",
      " |         *scale_*\n",
      " |  \n",
      " |  mean_ : ndarray of shape (n_features,) or None\n",
      " |      The mean value for each feature in the training set.\n",
      " |      Equal to ``None`` when ``with_mean=False``.\n",
      " |  \n",
      " |  var_ : ndarray of shape (n_features,) or None\n",
      " |      The variance for each feature in the training set. Used to compute\n",
      " |      `scale_`. Equal to ``None`` when ``with_std=False``.\n",
      " |  \n",
      " |  n_features_in_ : int\n",
      " |      Number of features seen during :term:`fit`.\n",
      " |  \n",
      " |      .. versionadded:: 0.24\n",
      " |  \n",
      " |  feature_names_in_ : ndarray of shape (`n_features_in_`,)\n",
      " |      Names of features seen during :term:`fit`. Defined only when `X`\n",
      " |      has feature names that are all strings.\n",
      " |  \n",
      " |      .. versionadded:: 1.0\n",
      " |  \n",
      " |  n_samples_seen_ : int or ndarray of shape (n_features,)\n",
      " |      The number of samples processed by the estimator for each feature.\n",
      " |      If there are no missing samples, the ``n_samples_seen`` will be an\n",
      " |      integer, otherwise it will be an array of dtype int. If\n",
      " |      `sample_weights` are used it will be a float (if no missing data)\n",
      " |      or an array of dtype float that sums the weights seen so far.\n",
      " |      Will be reset on new calls to fit, but increments across\n",
      " |      ``partial_fit`` calls.\n",
      " |  \n",
      " |  See Also\n",
      " |  --------\n",
      " |  scale : Equivalent function without the estimator API.\n",
      " |  \n",
      " |  :class:`~sklearn.decomposition.PCA` : Further removes the linear\n",
      " |      correlation across features with 'whiten=True'.\n",
      " |  \n",
      " |  Notes\n",
      " |  -----\n",
      " |  NaNs are treated as missing values: disregarded in fit, and maintained in\n",
      " |  transform.\n",
      " |  \n",
      " |  We use a biased estimator for the standard deviation, equivalent to\n",
      " |  `numpy.std(x, ddof=0)`. Note that the choice of `ddof` is unlikely to\n",
      " |  affect model performance.\n",
      " |  \n",
      " |  For a comparison of the different scalers, transformers, and normalizers,\n",
      " |  see :ref:`examples/preprocessing/plot_all_scaling.py\n",
      " |  <sphx_glr_auto_examples_preprocessing_plot_all_scaling.py>`.\n",
      " |  \n",
      " |  Examples\n",
      " |  --------\n",
      " |  >>> from sklearn.preprocessing import StandardScaler\n",
      " |  >>> data = [[0, 0], [0, 0], [1, 1], [1, 1]]\n",
      " |  >>> scaler = StandardScaler()\n",
      " |  >>> print(scaler.fit(data))\n",
      " |  StandardScaler()\n",
      " |  >>> print(scaler.mean_)\n",
      " |  [0.5 0.5]\n",
      " |  >>> print(scaler.transform(data))\n",
      " |  [[-1. -1.]\n",
      " |   [-1. -1.]\n",
      " |   [ 1.  1.]\n",
      " |   [ 1.  1.]]\n",
      " |  >>> print(scaler.transform([[2, 2]]))\n",
      " |  [[3. 3.]]\n",
      " |  \n",
      " |  Method resolution order:\n",
      " |      StandardScaler\n",
      " |      sklearn.base._OneToOneFeatureMixin\n",
      " |      sklearn.base.TransformerMixin\n",
      " |      sklearn.base.BaseEstimator\n",
      " |      builtins.object\n",
      " |  \n",
      " |  Methods defined here:\n",
      " |  \n",
      " |  __init__(self, *, copy=True, with_mean=True, with_std=True)\n",
      " |      Initialize self.  See help(type(self)) for accurate signature.\n",
      " |  \n",
      " |  fit(self, X, y=None, sample_weight=None)\n",
      " |      Compute the mean and std to be used for later scaling.\n",
      " |      \n",
      " |      Parameters\n",
      " |      ----------\n",
      " |      X : {array-like, sparse matrix} of shape (n_samples, n_features)\n",
      " |          The data used to compute the mean and standard deviation\n",
      " |          used for later scaling along the features axis.\n",
      " |      \n",
      " |      y : None\n",
      " |          Ignored.\n",
      " |      \n",
      " |      sample_weight : array-like of shape (n_samples,), default=None\n",
      " |          Individual weights for each sample.\n",
      " |      \n",
      " |          .. versionadded:: 0.24\n",
      " |             parameter *sample_weight* support to StandardScaler.\n",
      " |      \n",
      " |      Returns\n",
      " |      -------\n",
      " |      self : object\n",
      " |          Fitted scaler.\n",
      " |  \n",
      " |  inverse_transform(self, X, copy=None)\n",
      " |      Scale back the data to the original representation.\n",
      " |      \n",
      " |      Parameters\n",
      " |      ----------\n",
      " |      X : {array-like, sparse matrix} of shape (n_samples, n_features)\n",
      " |          The data used to scale along the features axis.\n",
      " |      copy : bool, default=None\n",
      " |          Copy the input X or not.\n",
      " |      \n",
      " |      Returns\n",
      " |      -------\n",
      " |      X_tr : {ndarray, sparse matrix} of shape (n_samples, n_features)\n",
      " |          Transformed array.\n",
      " |  \n",
      " |  partial_fit(self, X, y=None, sample_weight=None)\n",
      " |      Online computation of mean and std on X for later scaling.\n",
      " |      \n",
      " |      All of X is processed as a single batch. This is intended for cases\n",
      " |      when :meth:`fit` is not feasible due to very large number of\n",
      " |      `n_samples` or because X is read from a continuous stream.\n",
      " |      \n",
      " |      The algorithm for incremental mean and std is given in Equation 1.5a,b\n",
      " |      in Chan, Tony F., Gene H. Golub, and Randall J. LeVeque. \"Algorithms\n",
      " |      for computing the sample variance: Analysis and recommendations.\"\n",
      " |      The American Statistician 37.3 (1983): 242-247:\n",
      " |      \n",
      " |      Parameters\n",
      " |      ----------\n",
      " |      X : {array-like, sparse matrix} of shape (n_samples, n_features)\n",
      " |          The data used to compute the mean and standard deviation\n",
      " |          used for later scaling along the features axis.\n",
      " |      \n",
      " |      y : None\n",
      " |          Ignored.\n",
      " |      \n",
      " |      sample_weight : array-like of shape (n_samples,), default=None\n",
      " |          Individual weights for each sample.\n",
      " |      \n",
      " |          .. versionadded:: 0.24\n",
      " |             parameter *sample_weight* support to StandardScaler.\n",
      " |      \n",
      " |      Returns\n",
      " |      -------\n",
      " |      self : object\n",
      " |          Fitted scaler.\n",
      " |  \n",
      " |  transform(self, X, copy=None)\n",
      " |      Perform standardization by centering and scaling.\n",
      " |      \n",
      " |      Parameters\n",
      " |      ----------\n",
      " |      X : {array-like, sparse matrix of shape (n_samples, n_features)\n",
      " |          The data used to scale along the features axis.\n",
      " |      copy : bool, default=None\n",
      " |          Copy the input X or not.\n",
      " |      \n",
      " |      Returns\n",
      " |      -------\n",
      " |      X_tr : {ndarray, sparse matrix} of shape (n_samples, n_features)\n",
      " |          Transformed array.\n",
      " |  \n",
      " |  ----------------------------------------------------------------------\n",
      " |  Methods inherited from sklearn.base._OneToOneFeatureMixin:\n",
      " |  \n",
      " |  get_feature_names_out(self, input_features=None)\n",
      " |      Get output feature names for transformation.\n",
      " |      \n",
      " |      Parameters\n",
      " |      ----------\n",
      " |      input_features : array-like of str or None, default=None\n",
      " |          Input features.\n",
      " |      \n",
      " |          - If `input_features` is `None`, then `feature_names_in_` is\n",
      " |            used as feature names in. If `feature_names_in_` is not defined,\n",
      " |            then names are generated: `[x0, x1, ..., x(n_features_in_)]`.\n",
      " |          - If `input_features` is an array-like, then `input_features` must\n",
      " |            match `feature_names_in_` if `feature_names_in_` is defined.\n",
      " |      \n",
      " |      Returns\n",
      " |      -------\n",
      " |      feature_names_out : ndarray of str objects\n",
      " |          Same as input features.\n",
      " |  \n",
      " |  ----------------------------------------------------------------------\n",
      " |  Data descriptors inherited from sklearn.base._OneToOneFeatureMixin:\n",
      " |  \n",
      " |  __dict__\n",
      " |      dictionary for instance variables (if defined)\n",
      " |  \n",
      " |  __weakref__\n",
      " |      list of weak references to the object (if defined)\n",
      " |  \n",
      " |  ----------------------------------------------------------------------\n",
      " |  Methods inherited from sklearn.base.TransformerMixin:\n",
      " |  \n",
      " |  fit_transform(self, X, y=None, **fit_params)\n",
      " |      Fit to data, then transform it.\n",
      " |      \n",
      " |      Fits transformer to `X` and `y` with optional parameters `fit_params`\n",
      " |      and returns a transformed version of `X`.\n",
      " |      \n",
      " |      Parameters\n",
      " |      ----------\n",
      " |      X : array-like of shape (n_samples, n_features)\n",
      " |          Input samples.\n",
      " |      \n",
      " |      y :  array-like of shape (n_samples,) or (n_samples, n_outputs),                 default=None\n",
      " |          Target values (None for unsupervised transformations).\n",
      " |      \n",
      " |      **fit_params : dict\n",
      " |          Additional fit parameters.\n",
      " |      \n",
      " |      Returns\n",
      " |      -------\n",
      " |      X_new : ndarray array of shape (n_samples, n_features_new)\n",
      " |          Transformed array.\n",
      " |  \n",
      " |  ----------------------------------------------------------------------\n",
      " |  Methods inherited from sklearn.base.BaseEstimator:\n",
      " |  \n",
      " |  __getstate__(self)\n",
      " |  \n",
      " |  __repr__(self, N_CHAR_MAX=700)\n",
      " |      Return repr(self).\n",
      " |  \n",
      " |  __setstate__(self, state)\n",
      " |  \n",
      " |  get_params(self, deep=True)\n",
      " |      Get parameters for this estimator.\n",
      " |      \n",
      " |      Parameters\n",
      " |      ----------\n",
      " |      deep : bool, default=True\n",
      " |          If True, will return the parameters for this estimator and\n",
      " |          contained subobjects that are estimators.\n",
      " |      \n",
      " |      Returns\n",
      " |      -------\n",
      " |      params : dict\n",
      " |          Parameter names mapped to their values.\n",
      " |  \n",
      " |  set_params(self, **params)\n",
      " |      Set the parameters of this estimator.\n",
      " |      \n",
      " |      The method works on simple estimators as well as on nested objects\n",
      " |      (such as :class:`~sklearn.pipeline.Pipeline`). The latter have\n",
      " |      parameters of the form ``<component>__<parameter>`` so that it's\n",
      " |      possible to update each component of a nested object.\n",
      " |      \n",
      " |      Parameters\n",
      " |      ----------\n",
      " |      **params : dict\n",
      " |          Estimator parameters.\n",
      " |      \n",
      " |      Returns\n",
      " |      -------\n",
      " |      self : estimator instance\n",
      " |          Estimator instance.\n",
      "\n",
      "None\n"
     ]
    }
   ],
   "source": [
    "from sklearn.preprocessing import StandardScaler\n",
    "\n",
    "# StandardScaler 함수에 대한 자세한 내용 확인하기\n",
    "print(help(StandardScaler))"
   ]
  },
  {
   "cell_type": "markdown",
   "id": "3075e6f1",
   "metadata": {},
   "source": [
    "## 1. 데이터 분석 연습하기\n",
    "\n",
    "### 1.1 데이터 탐색하기\n",
    "\n",
    "#### Data load"
   ]
  },
  {
   "cell_type": "code",
   "execution_count": 136,
   "id": "8ffe18d0",
   "metadata": {},
   "outputs": [
    {
     "name": "stdout",
     "output_type": "stream",
     "text": [
      "   cust_id      총구매액     최대구매액       환불금액   주구매상품 주구매지점  내점일수   내점당구매건수  \\\n",
      "0        0  68282840  11264000  6860000.0      기타   강남점    19  3.894737   \n",
      "1        1   2136000   2136000   300000.0     스포츠   잠실점     2  1.500000   \n",
      "2        2   3197000   1639000        NaN  남성 캐주얼   관악점     2  2.000000   \n",
      "3        3  16077620   4935000        NaN      기타   광주점    18  2.444444   \n",
      "4        4  29050000  24000000        NaN      보석  본  점     2  1.500000   \n",
      "\n",
      "     주말방문비율  구매주기  \n",
      "0  0.527027    17  \n",
      "1  0.000000     1  \n",
      "2  0.000000     1  \n",
      "3  0.318182    16  \n",
      "4  0.000000    85      cust_id       총구매액     최대구매액        환불금액 주구매상품 주구매지점  내점일수    내점당구매건수  \\\n",
      "0     3500   70900400  22000000   4050000.0    골프  부산본점    13   1.461538   \n",
      "1     3501  310533100  38558000  48034700.0   농산물   잠실점    90   2.433333   \n",
      "2     3502  305264140  14825000  30521000.0  가공식품  본  점   101  14.623762   \n",
      "3     3503    7594080   5225000         NaN  주방용품  부산본점     5   2.000000   \n",
      "4     3504    1795790   1411200         NaN   수산품  청량리점     3   2.666667   \n",
      "\n",
      "     주말방문비율  구매주기  \n",
      "0  0.789474    26  \n",
      "1  0.369863     3  \n",
      "2  0.083277     3  \n",
      "3  0.000000    47  \n",
      "4  0.125000     8      cust_id  gender\n",
      "0        0       0\n",
      "1        1       0\n",
      "2        2       1\n",
      "3        3       1\n",
      "4        4       0\n"
     ]
    }
   ],
   "source": [
    "import pandas as pd\n",
    "\n",
    "x_train = pd.read_csv('bigData-main/x_train.csv', encoding='cp949')\n",
    "x_test  = pd.read_csv('bigData-main/x_test.csv', encoding='cp949')\n",
    "y_train = pd.read_csv('bigData-main/y_train.csv', encoding='cp949')\n",
    "\n",
    "print(x_train.head(), x_test.head(), y_train.head())"
   ]
  },
  {
   "cell_type": "markdown",
   "id": "ecf54d40",
   "metadata": {},
   "source": [
    "### tips) 말줄임표로 확인이 어려운 데이터 확인하는 방법\n",
    "1. transpose() 함수를 통해 데이터의 방향을 행에서 열 방향으로 바꾸기"
   ]
  },
  {
   "cell_type": "code",
   "execution_count": 137,
   "id": "b3228953",
   "metadata": {},
   "outputs": [
    {
     "data": {
      "text/html": [
       "<div>\n",
       "<style scoped>\n",
       "    .dataframe tbody tr th:only-of-type {\n",
       "        vertical-align: middle;\n",
       "    }\n",
       "\n",
       "    .dataframe tbody tr th {\n",
       "        vertical-align: top;\n",
       "    }\n",
       "\n",
       "    .dataframe thead th {\n",
       "        text-align: right;\n",
       "    }\n",
       "</style>\n",
       "<table border=\"1\" class=\"dataframe\">\n",
       "  <thead>\n",
       "    <tr style=\"text-align: right;\">\n",
       "      <th></th>\n",
       "      <th>0</th>\n",
       "      <th>1</th>\n",
       "      <th>2</th>\n",
       "      <th>3</th>\n",
       "      <th>4</th>\n",
       "    </tr>\n",
       "  </thead>\n",
       "  <tbody>\n",
       "    <tr>\n",
       "      <th>cust_id</th>\n",
       "      <td>0</td>\n",
       "      <td>1</td>\n",
       "      <td>2</td>\n",
       "      <td>3</td>\n",
       "      <td>4</td>\n",
       "    </tr>\n",
       "    <tr>\n",
       "      <th>총구매액</th>\n",
       "      <td>68282840</td>\n",
       "      <td>2136000</td>\n",
       "      <td>3197000</td>\n",
       "      <td>16077620</td>\n",
       "      <td>29050000</td>\n",
       "    </tr>\n",
       "    <tr>\n",
       "      <th>최대구매액</th>\n",
       "      <td>11264000</td>\n",
       "      <td>2136000</td>\n",
       "      <td>1639000</td>\n",
       "      <td>4935000</td>\n",
       "      <td>24000000</td>\n",
       "    </tr>\n",
       "    <tr>\n",
       "      <th>환불금액</th>\n",
       "      <td>6860000.0</td>\n",
       "      <td>300000.0</td>\n",
       "      <td>NaN</td>\n",
       "      <td>NaN</td>\n",
       "      <td>NaN</td>\n",
       "    </tr>\n",
       "    <tr>\n",
       "      <th>주구매상품</th>\n",
       "      <td>기타</td>\n",
       "      <td>스포츠</td>\n",
       "      <td>남성 캐주얼</td>\n",
       "      <td>기타</td>\n",
       "      <td>보석</td>\n",
       "    </tr>\n",
       "    <tr>\n",
       "      <th>주구매지점</th>\n",
       "      <td>강남점</td>\n",
       "      <td>잠실점</td>\n",
       "      <td>관악점</td>\n",
       "      <td>광주점</td>\n",
       "      <td>본  점</td>\n",
       "    </tr>\n",
       "    <tr>\n",
       "      <th>내점일수</th>\n",
       "      <td>19</td>\n",
       "      <td>2</td>\n",
       "      <td>2</td>\n",
       "      <td>18</td>\n",
       "      <td>2</td>\n",
       "    </tr>\n",
       "    <tr>\n",
       "      <th>내점당구매건수</th>\n",
       "      <td>3.894737</td>\n",
       "      <td>1.5</td>\n",
       "      <td>2.0</td>\n",
       "      <td>2.444444</td>\n",
       "      <td>1.5</td>\n",
       "    </tr>\n",
       "    <tr>\n",
       "      <th>주말방문비율</th>\n",
       "      <td>0.527027</td>\n",
       "      <td>0.0</td>\n",
       "      <td>0.0</td>\n",
       "      <td>0.318182</td>\n",
       "      <td>0.0</td>\n",
       "    </tr>\n",
       "    <tr>\n",
       "      <th>구매주기</th>\n",
       "      <td>17</td>\n",
       "      <td>1</td>\n",
       "      <td>1</td>\n",
       "      <td>16</td>\n",
       "      <td>85</td>\n",
       "    </tr>\n",
       "  </tbody>\n",
       "</table>\n",
       "</div>"
      ],
      "text/plain": [
       "                 0         1        2         3         4\n",
       "cust_id          0         1        2         3         4\n",
       "총구매액      68282840   2136000  3197000  16077620  29050000\n",
       "최대구매액     11264000   2136000  1639000   4935000  24000000\n",
       "환불금액     6860000.0  300000.0      NaN       NaN       NaN\n",
       "주구매상품           기타       스포츠   남성 캐주얼        기타        보석\n",
       "주구매지점          강남점       잠실점      관악점       광주점      본  점\n",
       "내점일수            19         2        2        18         2\n",
       "내점당구매건수   3.894737       1.5      2.0  2.444444       1.5\n",
       "주말방문비율    0.527027       0.0      0.0  0.318182       0.0\n",
       "구매주기            17         1        1        16        85"
      ]
     },
     "execution_count": 137,
     "metadata": {},
     "output_type": "execute_result"
    }
   ],
   "source": [
    "x_train.head().T"
   ]
  },
  {
   "cell_type": "markdown",
   "id": "4223a940",
   "metadata": {},
   "source": [
    "2. 전체 컬럼을 출력하는 옵션 설정하기"
   ]
  },
  {
   "cell_type": "code",
   "execution_count": 138,
   "id": "4d59a51d",
   "metadata": {},
   "outputs": [
    {
     "data": {
      "text/html": [
       "<div>\n",
       "<style scoped>\n",
       "    .dataframe tbody tr th:only-of-type {\n",
       "        vertical-align: middle;\n",
       "    }\n",
       "\n",
       "    .dataframe tbody tr th {\n",
       "        vertical-align: top;\n",
       "    }\n",
       "\n",
       "    .dataframe thead th {\n",
       "        text-align: right;\n",
       "    }\n",
       "</style>\n",
       "<table border=\"1\" class=\"dataframe\">\n",
       "  <thead>\n",
       "    <tr style=\"text-align: right;\">\n",
       "      <th></th>\n",
       "      <th>cust_id</th>\n",
       "      <th>총구매액</th>\n",
       "      <th>최대구매액</th>\n",
       "      <th>환불금액</th>\n",
       "      <th>주구매상품</th>\n",
       "      <th>주구매지점</th>\n",
       "      <th>내점일수</th>\n",
       "      <th>내점당구매건수</th>\n",
       "      <th>주말방문비율</th>\n",
       "      <th>구매주기</th>\n",
       "    </tr>\n",
       "  </thead>\n",
       "  <tbody>\n",
       "    <tr>\n",
       "      <th>0</th>\n",
       "      <td>0</td>\n",
       "      <td>68282840</td>\n",
       "      <td>11264000</td>\n",
       "      <td>6860000.0</td>\n",
       "      <td>기타</td>\n",
       "      <td>강남점</td>\n",
       "      <td>19</td>\n",
       "      <td>3.894737</td>\n",
       "      <td>0.527027</td>\n",
       "      <td>17</td>\n",
       "    </tr>\n",
       "    <tr>\n",
       "      <th>1</th>\n",
       "      <td>1</td>\n",
       "      <td>2136000</td>\n",
       "      <td>2136000</td>\n",
       "      <td>300000.0</td>\n",
       "      <td>스포츠</td>\n",
       "      <td>잠실점</td>\n",
       "      <td>2</td>\n",
       "      <td>1.500000</td>\n",
       "      <td>0.000000</td>\n",
       "      <td>1</td>\n",
       "    </tr>\n",
       "    <tr>\n",
       "      <th>2</th>\n",
       "      <td>2</td>\n",
       "      <td>3197000</td>\n",
       "      <td>1639000</td>\n",
       "      <td>NaN</td>\n",
       "      <td>남성 캐주얼</td>\n",
       "      <td>관악점</td>\n",
       "      <td>2</td>\n",
       "      <td>2.000000</td>\n",
       "      <td>0.000000</td>\n",
       "      <td>1</td>\n",
       "    </tr>\n",
       "    <tr>\n",
       "      <th>3</th>\n",
       "      <td>3</td>\n",
       "      <td>16077620</td>\n",
       "      <td>4935000</td>\n",
       "      <td>NaN</td>\n",
       "      <td>기타</td>\n",
       "      <td>광주점</td>\n",
       "      <td>18</td>\n",
       "      <td>2.444444</td>\n",
       "      <td>0.318182</td>\n",
       "      <td>16</td>\n",
       "    </tr>\n",
       "    <tr>\n",
       "      <th>4</th>\n",
       "      <td>4</td>\n",
       "      <td>29050000</td>\n",
       "      <td>24000000</td>\n",
       "      <td>NaN</td>\n",
       "      <td>보석</td>\n",
       "      <td>본  점</td>\n",
       "      <td>2</td>\n",
       "      <td>1.500000</td>\n",
       "      <td>0.000000</td>\n",
       "      <td>85</td>\n",
       "    </tr>\n",
       "  </tbody>\n",
       "</table>\n",
       "</div>"
      ],
      "text/plain": [
       "   cust_id      총구매액     최대구매액       환불금액   주구매상품 주구매지점  내점일수   내점당구매건수  \\\n",
       "0        0  68282840  11264000  6860000.0      기타   강남점    19  3.894737   \n",
       "1        1   2136000   2136000   300000.0     스포츠   잠실점     2  1.500000   \n",
       "2        2   3197000   1639000        NaN  남성 캐주얼   관악점     2  2.000000   \n",
       "3        3  16077620   4935000        NaN      기타   광주점    18  2.444444   \n",
       "4        4  29050000  24000000        NaN      보석  본  점     2  1.500000   \n",
       "\n",
       "     주말방문비율  구매주기  \n",
       "0  0.527027    17  \n",
       "1  0.000000     1  \n",
       "2  0.000000     1  \n",
       "3  0.318182    16  \n",
       "4  0.000000    85  "
      ]
     },
     "execution_count": 138,
     "metadata": {},
     "output_type": "execute_result"
    }
   ],
   "source": [
    "pd.options.display.max_columns = None\n",
    "\n",
    "x_train.head()"
   ]
  },
  {
   "cell_type": "markdown",
   "id": "ce8972c3",
   "metadata": {},
   "source": [
    "#### 행/열 확인하기"
   ]
  },
  {
   "cell_type": "code",
   "execution_count": 139,
   "id": "58cabc06",
   "metadata": {},
   "outputs": [
    {
     "name": "stdout",
     "output_type": "stream",
     "text": [
      "(3500, 10) (2482, 10) (3500, 2)\n"
     ]
    }
   ],
   "source": [
    "print(x_train.shape, x_test.shape, y_train.shape)"
   ]
  },
  {
   "cell_type": "markdown",
   "id": "83a38e52",
   "metadata": {},
   "source": [
    "#### 요약정보 확인하기\n",
    "\n",
    "- 결측치 확인\n",
    "- 각 컬럼의 데이터타입 확인"
   ]
  },
  {
   "cell_type": "code",
   "execution_count": 140,
   "id": "e33d095f",
   "metadata": {},
   "outputs": [
    {
     "name": "stdout",
     "output_type": "stream",
     "text": [
      "<class 'pandas.core.frame.DataFrame'>\n",
      "RangeIndex: 3500 entries, 0 to 3499\n",
      "Data columns (total 10 columns):\n",
      " #   Column   Non-Null Count  Dtype  \n",
      "---  ------   --------------  -----  \n",
      " 0   cust_id  3500 non-null   int64  \n",
      " 1   총구매액     3500 non-null   int64  \n",
      " 2   최대구매액    3500 non-null   int64  \n",
      " 3   환불금액     1205 non-null   float64\n",
      " 4   주구매상품    3500 non-null   object \n",
      " 5   주구매지점    3500 non-null   object \n",
      " 6   내점일수     3500 non-null   int64  \n",
      " 7   내점당구매건수  3500 non-null   float64\n",
      " 8   주말방문비율   3500 non-null   float64\n",
      " 9   구매주기     3500 non-null   int64  \n",
      "dtypes: float64(3), int64(5), object(2)\n",
      "memory usage: 273.6+ KB\n",
      "None\n"
     ]
    }
   ],
   "source": [
    "print(x_train.info())"
   ]
  },
  {
   "cell_type": "code",
   "execution_count": 141,
   "id": "6517c217",
   "metadata": {},
   "outputs": [
    {
     "name": "stdout",
     "output_type": "stream",
     "text": [
      "<class 'pandas.core.frame.DataFrame'>\n",
      "RangeIndex: 2482 entries, 0 to 2481\n",
      "Data columns (total 10 columns):\n",
      " #   Column   Non-Null Count  Dtype  \n",
      "---  ------   --------------  -----  \n",
      " 0   cust_id  2482 non-null   int64  \n",
      " 1   총구매액     2482 non-null   int64  \n",
      " 2   최대구매액    2482 non-null   int64  \n",
      " 3   환불금액     871 non-null    float64\n",
      " 4   주구매상품    2482 non-null   object \n",
      " 5   주구매지점    2482 non-null   object \n",
      " 6   내점일수     2482 non-null   int64  \n",
      " 7   내점당구매건수  2482 non-null   float64\n",
      " 8   주말방문비율   2482 non-null   float64\n",
      " 9   구매주기     2482 non-null   int64  \n",
      "dtypes: float64(3), int64(5), object(2)\n",
      "memory usage: 194.0+ KB\n",
      "None\n"
     ]
    }
   ],
   "source": [
    "print(x_test.info())"
   ]
  },
  {
   "cell_type": "markdown",
   "id": "c02cc036",
   "metadata": {},
   "source": [
    "#### 기초통계량 확인\n",
    "\n",
    "- 데이터 건수, 평균, 최소/최대값, 중위값 등"
   ]
  },
  {
   "cell_type": "code",
   "execution_count": 142,
   "id": "f3db0712",
   "metadata": {},
   "outputs": [
    {
     "data": {
      "text/html": [
       "<div>\n",
       "<style scoped>\n",
       "    .dataframe tbody tr th:only-of-type {\n",
       "        vertical-align: middle;\n",
       "    }\n",
       "\n",
       "    .dataframe tbody tr th {\n",
       "        vertical-align: top;\n",
       "    }\n",
       "\n",
       "    .dataframe thead th {\n",
       "        text-align: right;\n",
       "    }\n",
       "</style>\n",
       "<table border=\"1\" class=\"dataframe\">\n",
       "  <thead>\n",
       "    <tr style=\"text-align: right;\">\n",
       "      <th></th>\n",
       "      <th>cust_id</th>\n",
       "      <th>총구매액</th>\n",
       "      <th>최대구매액</th>\n",
       "      <th>환불금액</th>\n",
       "      <th>내점일수</th>\n",
       "      <th>내점당구매건수</th>\n",
       "      <th>주말방문비율</th>\n",
       "      <th>구매주기</th>\n",
       "    </tr>\n",
       "  </thead>\n",
       "  <tbody>\n",
       "    <tr>\n",
       "      <th>count</th>\n",
       "      <td>3500.000000</td>\n",
       "      <td>3.500000e+03</td>\n",
       "      <td>3.500000e+03</td>\n",
       "      <td>1.205000e+03</td>\n",
       "      <td>3500.000000</td>\n",
       "      <td>3500.000000</td>\n",
       "      <td>3500.000000</td>\n",
       "      <td>3500.000000</td>\n",
       "    </tr>\n",
       "    <tr>\n",
       "      <th>mean</th>\n",
       "      <td>1749.500000</td>\n",
       "      <td>9.191925e+07</td>\n",
       "      <td>1.966424e+07</td>\n",
       "      <td>2.407822e+07</td>\n",
       "      <td>19.253714</td>\n",
       "      <td>2.834963</td>\n",
       "      <td>0.307246</td>\n",
       "      <td>20.958286</td>\n",
       "    </tr>\n",
       "    <tr>\n",
       "      <th>std</th>\n",
       "      <td>1010.507298</td>\n",
       "      <td>1.635065e+08</td>\n",
       "      <td>3.199235e+07</td>\n",
       "      <td>4.746453e+07</td>\n",
       "      <td>27.174942</td>\n",
       "      <td>1.912368</td>\n",
       "      <td>0.289752</td>\n",
       "      <td>24.748682</td>\n",
       "    </tr>\n",
       "    <tr>\n",
       "      <th>min</th>\n",
       "      <td>0.000000</td>\n",
       "      <td>-5.242152e+07</td>\n",
       "      <td>-2.992000e+06</td>\n",
       "      <td>5.600000e+03</td>\n",
       "      <td>1.000000</td>\n",
       "      <td>1.000000</td>\n",
       "      <td>0.000000</td>\n",
       "      <td>0.000000</td>\n",
       "    </tr>\n",
       "    <tr>\n",
       "      <th>25%</th>\n",
       "      <td>874.750000</td>\n",
       "      <td>4.747050e+06</td>\n",
       "      <td>2.875000e+06</td>\n",
       "      <td>2.259000e+06</td>\n",
       "      <td>2.000000</td>\n",
       "      <td>1.666667</td>\n",
       "      <td>0.027291</td>\n",
       "      <td>4.000000</td>\n",
       "    </tr>\n",
       "    <tr>\n",
       "      <th>50%</th>\n",
       "      <td>1749.500000</td>\n",
       "      <td>2.822270e+07</td>\n",
       "      <td>9.837000e+06</td>\n",
       "      <td>7.392000e+06</td>\n",
       "      <td>8.000000</td>\n",
       "      <td>2.333333</td>\n",
       "      <td>0.256410</td>\n",
       "      <td>13.000000</td>\n",
       "    </tr>\n",
       "    <tr>\n",
       "      <th>75%</th>\n",
       "      <td>2624.250000</td>\n",
       "      <td>1.065079e+08</td>\n",
       "      <td>2.296250e+07</td>\n",
       "      <td>2.412000e+07</td>\n",
       "      <td>25.000000</td>\n",
       "      <td>3.375000</td>\n",
       "      <td>0.448980</td>\n",
       "      <td>28.000000</td>\n",
       "    </tr>\n",
       "    <tr>\n",
       "      <th>max</th>\n",
       "      <td>3499.000000</td>\n",
       "      <td>2.323180e+09</td>\n",
       "      <td>7.066290e+08</td>\n",
       "      <td>5.637530e+08</td>\n",
       "      <td>285.000000</td>\n",
       "      <td>22.083333</td>\n",
       "      <td>1.000000</td>\n",
       "      <td>166.000000</td>\n",
       "    </tr>\n",
       "  </tbody>\n",
       "</table>\n",
       "</div>"
      ],
      "text/plain": [
       "           cust_id          총구매액         최대구매액          환불금액         내점일수  \\\n",
       "count  3500.000000  3.500000e+03  3.500000e+03  1.205000e+03  3500.000000   \n",
       "mean   1749.500000  9.191925e+07  1.966424e+07  2.407822e+07    19.253714   \n",
       "std    1010.507298  1.635065e+08  3.199235e+07  4.746453e+07    27.174942   \n",
       "min       0.000000 -5.242152e+07 -2.992000e+06  5.600000e+03     1.000000   \n",
       "25%     874.750000  4.747050e+06  2.875000e+06  2.259000e+06     2.000000   \n",
       "50%    1749.500000  2.822270e+07  9.837000e+06  7.392000e+06     8.000000   \n",
       "75%    2624.250000  1.065079e+08  2.296250e+07  2.412000e+07    25.000000   \n",
       "max    3499.000000  2.323180e+09  7.066290e+08  5.637530e+08   285.000000   \n",
       "\n",
       "           내점당구매건수       주말방문비율         구매주기  \n",
       "count  3500.000000  3500.000000  3500.000000  \n",
       "mean      2.834963     0.307246    20.958286  \n",
       "std       1.912368     0.289752    24.748682  \n",
       "min       1.000000     0.000000     0.000000  \n",
       "25%       1.666667     0.027291     4.000000  \n",
       "50%       2.333333     0.256410    13.000000  \n",
       "75%       3.375000     0.448980    28.000000  \n",
       "max      22.083333     1.000000   166.000000  "
      ]
     },
     "metadata": {},
     "output_type": "display_data"
    },
    {
     "name": "stdout",
     "output_type": "stream",
     "text": [
      "- 값들 간의 차이가 보이므로 스케일링 필요\n"
     ]
    }
   ],
   "source": [
    "display(x_train.describe())\n",
    "print('- 값들 간의 차이가 보이므로 스케일링 필요')"
   ]
  },
  {
   "cell_type": "markdown",
   "id": "aaaf2518",
   "metadata": {},
   "source": [
    "### 1.2 전처리하기\n",
    "\n",
    "#### 불필요한 컬럼 삭제 (cust_id)\n",
    "\n",
    "- 당장에 예측하는 데이터 분석 과정에서는 해당 컬럼이 불필요하므로 삭제 처리 수행\n",
    "- 추후 테스트 데이터의 cust_id 칼럼 값은 최종 제출하는 결과 파일에 포함되어야 하므로 변수에 별도 저장하여 관리"
   ]
  },
  {
   "cell_type": "code",
   "execution_count": 144,
   "id": "51abe5dd",
   "metadata": {},
   "outputs": [],
   "source": [
    "x_test_cust_id = x_test['cust_id']\n",
    "\n",
    "# 삭제 수행 (x_train, x_test, y_train)\n",
    "x_train.drop(columns = 'cust_id', inplace = True)\n",
    "x_test.drop(columns = 'cust_id', inplace = True)\n",
    "y_train.drop(columns = 'cust_id', inplace = True)"
   ]
  },
  {
   "cell_type": "code",
   "execution_count": 146,
   "id": "cca4702e",
   "metadata": {},
   "outputs": [
    {
     "data": {
      "text/plain": [
       "(       총구매액     최대구매액       환불금액   주구매상품 주구매지점  내점일수   내점당구매건수    주말방문비율  구매주기\n",
       " 0  68282840  11264000  6860000.0      기타   강남점    19  3.894737  0.527027    17\n",
       " 1   2136000   2136000   300000.0     스포츠   잠실점     2  1.500000  0.000000     1\n",
       " 2   3197000   1639000        NaN  남성 캐주얼   관악점     2  2.000000  0.000000     1\n",
       " 3  16077620   4935000        NaN      기타   광주점    18  2.444444  0.318182    16\n",
       " 4  29050000  24000000        NaN      보석  본  점     2  1.500000  0.000000    85,\n",
       "         총구매액     최대구매액        환불금액 주구매상품 주구매지점  내점일수    내점당구매건수    주말방문비율  \\\n",
       " 0   70900400  22000000   4050000.0    골프  부산본점    13   1.461538  0.789474   \n",
       " 1  310533100  38558000  48034700.0   농산물   잠실점    90   2.433333  0.369863   \n",
       " 2  305264140  14825000  30521000.0  가공식품  본  점   101  14.623762  0.083277   \n",
       " 3    7594080   5225000         NaN  주방용품  부산본점     5   2.000000  0.000000   \n",
       " 4    1795790   1411200         NaN   수산품  청량리점     3   2.666667  0.125000   \n",
       " \n",
       "    구매주기  \n",
       " 0    26  \n",
       " 1     3  \n",
       " 2     3  \n",
       " 3    47  \n",
       " 4     8  ,\n",
       "    gender\n",
       " 0       0\n",
       " 1       0\n",
       " 2       1\n",
       " 3       1\n",
       " 4       0)"
      ]
     },
     "execution_count": 146,
     "metadata": {},
     "output_type": "execute_result"
    }
   ],
   "source": [
    "x_train.head(), x_test.head(), y_train.head()"
   ]
  },
  {
   "cell_type": "markdown",
   "id": "aee4deef",
   "metadata": {},
   "source": [
    "#### 결측치 처리하기"
   ]
  },
  {
   "cell_type": "code",
   "execution_count": 147,
   "id": "aa07bbc4",
   "metadata": {},
   "outputs": [
    {
     "name": "stdout",
     "output_type": "stream",
     "text": [
      "총구매액          0\n",
      "최대구매액         0\n",
      "환불금액       2295\n",
      "주구매상품         0\n",
      "주구매지점         0\n",
      "내점일수          0\n",
      "내점당구매건수       0\n",
      "주말방문비율        0\n",
      "구매주기          0\n",
      "dtype: int64\n"
     ]
    }
   ],
   "source": [
    "print(x_train.isnull().sum()) # 환불금액 컬럼 2295 개 결측치 확인"
   ]
  },
  {
   "cell_type": "code",
   "execution_count": 148,
   "id": "4abceea8",
   "metadata": {},
   "outputs": [
    {
     "name": "stdout",
     "output_type": "stream",
     "text": [
      "0 0\n"
     ]
    }
   ],
   "source": [
    "# 환불금액 NaN 인 경우 환불 이력 없다고 보고 결측치 0으로 처리\n",
    "x_train['환불금액'] = x_train['환불금액'].fillna(0)\n",
    "x_test['환불금액'] = x_test['환불금액'].fillna(0)\n",
    "\n",
    "# 결측치 제거되었는지 확인\n",
    "print(x_train['환불금액'].isnull().sum(), x_test['환불금액'].isnull().sum())"
   ]
  },
  {
   "cell_type": "markdown",
   "id": "1b6a747d",
   "metadata": {},
   "source": [
    "#### 범주형 변수 인코딩\n",
    "- dtype 이 object 인 주구매상품, 주구매지점 변수 인코딩 필요"
   ]
  },
  {
   "cell_type": "code",
   "execution_count": 149,
   "id": "02edc1f1",
   "metadata": {},
   "outputs": [
    {
     "name": "stdout",
     "output_type": "stream",
     "text": [
      "42 ['기타' '스포츠' '남성 캐주얼' '보석' '디자이너' '시티웨어' '명품' '농산물' '화장품' '골프' '구두' '가공식품'\n",
      " '수산품' '아동' '차/커피' '캐주얼' '섬유잡화' '육류' '축산가공' '젓갈/반찬' '액세서리' '피혁잡화' '일용잡화'\n",
      " '주방가전' '주방용품' '건강식품' '가구' '주류' '모피/피혁' '남성 트랜디' '셔츠' '남성정장' '생활잡화'\n",
      " '트래디셔널' '란제리/내의' '커리어' '침구/수예' '대형가전' '통신/컴퓨터' '식기' '소형가전' '악기']\n",
      "24 ['강남점' '잠실점' '관악점' '광주점' '본  점' '일산점' '대전점' '부산본점' '분당점' '영등포점' '미아점'\n",
      " '청량리점' '안양점' '부평점' '동래점' '포항점' '노원점' '창원점' '센텀시티점' '인천점' '대구점' '전주점'\n",
      " '울산점' '상인점']\n"
     ]
    }
   ],
   "source": [
    "# 데이터 값들과 개수 확인\n",
    "print(x_train['주구매상품'].nunique(), x_train['주구매상품'].unique())\n",
    "print(x_train['주구매지점'].nunique(), x_train['주구매지점'].unique())"
   ]
  },
  {
   "cell_type": "code",
   "execution_count": 150,
   "id": "97afa098",
   "metadata": {},
   "outputs": [
    {
     "name": "stdout",
     "output_type": "stream",
     "text": [
      "41 ['골프' '농산물' '가공식품' '주방용품' '수산품' '화장품' '기타' '스포츠' '디자이너' '시티웨어' '구두' '캐주얼'\n",
      " '명품' '건강식품' '남성정장' '커리어' '남성 캐주얼' '축산가공' '식기' '피혁잡화' '모피/피혁' '섬유잡화'\n",
      " '트래디셔널' '차/커피' '육류' '가구' '아동' '셔츠' '액세서리' '젓갈/반찬' '대형가전' '일용잡화' '통신/컴퓨터'\n",
      " '생활잡화' '주방가전' '란제리/내의' '남성 트랜디' '보석' '주류' '침구/수예' '악기']\n",
      "24 ['부산본점' '잠실점' '본  점' '청량리점' '분당점' '일산점' '대전점' '강남점' '동래점' '영등포점' '부평점'\n",
      " '대구점' '노원점' '광주점' '관악점' '미아점' '창원점' '인천점' '안양점' '상인점' '포항점' '울산점' '전주점'\n",
      " '센텀시티점']\n"
     ]
    }
   ],
   "source": [
    "print(x_test['주구매상품'].nunique(), x_test['주구매상품'].unique())  # label 값이 하나 적음\n",
    "print(x_test['주구매지점'].nunique(), x_test['주구매지점'].unique())"
   ]
  },
  {
   "cell_type": "markdown",
   "id": "1430b493",
   "metadata": {},
   "source": [
    "위의 경우, 각각 42개, 24개의 데이터가 존재하기 때문에 ohe 보다는 le 로 진행"
   ]
  },
  {
   "cell_type": "code",
   "execution_count": 151,
   "id": "3718fb01",
   "metadata": {},
   "outputs": [
    {
     "data": {
      "text/plain": [
       "(array(['가공식품', '가구', '건강식품', '골프', '구두', '기타', '남성 캐주얼', '남성 트랜디', '남성정장',\n",
       "        '농산물', '대형가전', '디자이너', '란제리/내의', '명품', '모피/피혁', '보석', '생활잡화',\n",
       "        '섬유잡화', '셔츠', '소형가전', '수산품', '스포츠', '시티웨어', '식기', '아동', '악기',\n",
       "        '액세서리', '육류', '일용잡화', '젓갈/반찬', '주류', '주방가전', '주방용품', '차/커피',\n",
       "        '축산가공', '침구/수예', '캐주얼', '커리어', '통신/컴퓨터', '트래디셔널', '피혁잡화', '화장품'],\n",
       "       dtype=object),\n",
       " 42)"
      ]
     },
     "execution_count": 151,
     "metadata": {},
     "output_type": "execute_result"
    }
   ],
   "source": [
    "from sklearn.preprocessing import LabelEncoder\n",
    "\n",
    "encoder = LabelEncoder()\n",
    "x_train['주구매상품'] = encoder.fit_transform(x_train['주구매상품'])\n",
    "x_test['주구매상품']  = encoder.transform(x_test['주구매상품']) # label 개수가 달라서 x_train 으로 fit_transform 한 encoder 사용\n",
    "\n",
    "encoder.classes_, encoder.classes_.size"
   ]
  },
  {
   "cell_type": "code",
   "execution_count": 152,
   "id": "6a3c8ddd",
   "metadata": {},
   "outputs": [
    {
     "name": "stdout",
     "output_type": "stream",
     "text": [
      "0     5\n",
      "1    21\n",
      "2     6\n",
      "3     5\n",
      "4    15\n",
      "Name: 주구매상품, dtype: int32 0     3\n",
      "1     9\n",
      "2     0\n",
      "3    32\n",
      "4    20\n",
      "Name: 주구매상품, dtype: int32\n"
     ]
    }
   ],
   "source": [
    "print(x_train['주구매상품'].head(), x_test['주구매상품'].head())"
   ]
  },
  {
   "cell_type": "code",
   "execution_count": 153,
   "id": "108a05f8",
   "metadata": {},
   "outputs": [
    {
     "data": {
      "text/plain": [
       "(array(['강남점', '관악점', '광주점', '노원점', '대구점', '대전점', '동래점', '미아점', '본  점',\n",
       "        '부산본점', '부평점', '분당점', '상인점', '센텀시티점', '안양점', '영등포점', '울산점', '인천점',\n",
       "        '일산점', '잠실점', '전주점', '창원점', '청량리점', '포항점'], dtype=object),\n",
       " 24)"
      ]
     },
     "execution_count": 153,
     "metadata": {},
     "output_type": "execute_result"
    }
   ],
   "source": [
    "encoder2 = LabelEncoder()\n",
    "\n",
    "x_train['주구매지점'] = encoder2.fit_transform(x_train['주구매지점'])\n",
    "x_test['주구매지점']  = encoder2.transform(x_test['주구매지점'])\n",
    "\n",
    "encoder2.classes_ , encoder2.classes_.size"
   ]
  },
  {
   "cell_type": "code",
   "execution_count": 154,
   "id": "215fb896",
   "metadata": {},
   "outputs": [
    {
     "name": "stdout",
     "output_type": "stream",
     "text": [
      "0     0\n",
      "1    19\n",
      "2     1\n",
      "3     2\n",
      "4     8\n",
      "Name: 주구매지점, dtype: int32 0     9\n",
      "1    19\n",
      "2     8\n",
      "3     9\n",
      "4    22\n",
      "Name: 주구매지점, dtype: int32\n"
     ]
    }
   ],
   "source": [
    "print(x_train['주구매지점'].head(), x_test['주구매지점'].head())"
   ]
  },
  {
   "cell_type": "markdown",
   "id": "1f99ce7e",
   "metadata": {},
   "source": [
    "#### 파생변수 만들기"
   ]
  },
  {
   "cell_type": "code",
   "execution_count": 155,
   "id": "96d95708",
   "metadata": {},
   "outputs": [
    {
     "data": {
      "text/plain": [
       "6860000.0"
      ]
     },
     "execution_count": 155,
     "metadata": {},
     "output_type": "execute_result"
    }
   ],
   "source": [
    "x_train.iloc[0]['환불금액']"
   ]
  },
  {
   "cell_type": "code",
   "execution_count": 156,
   "id": "741392b2",
   "metadata": {},
   "outputs": [
    {
     "name": "stdout",
     "output_type": "stream",
     "text": [
      "         환불금액  환불금액_new\n",
      "0   6860000.0         1\n",
      "1    300000.0         1\n",
      "2         0.0         0\n",
      "3         0.0         0\n",
      "4         0.0         0\n",
      "5    462000.0         1\n",
      "6   4582000.0         1\n",
      "7  29524000.0         1\n",
      "8         0.0         0\n",
      "9         0.0         0\n"
     ]
    }
   ],
   "source": [
    "# x_train.head()  >> 환불금액 != 0 : 1 , or not 0\n",
    "\n",
    "def cond_new(x) :\n",
    "    if x > 0 :\n",
    "        return 1\n",
    "    else :\n",
    "        return 0\n",
    "\n",
    "# cond = x_train['환불금액'] > 0\n",
    "\n",
    "# x_train.loc[cond, '환불금액_new'] = 1\n",
    "# x_train.loc[~cond, '환불금액_new'] = 0\n",
    "\n",
    "x_train['환불금액_new'] = x_train['환불금액'].apply(lambda x: cond_new(x))\n",
    "\n",
    "print(x_train[['환불금액', '환불금액_new']].head(10))"
   ]
  },
  {
   "cell_type": "code",
   "execution_count": 157,
   "id": "eaafe8df",
   "metadata": {},
   "outputs": [
    {
     "name": "stdout",
     "output_type": "stream",
     "text": [
      "         환불금액  환불금액_new\n",
      "0   4050000.0         1\n",
      "1  48034700.0         1\n",
      "2  30521000.0         1\n",
      "3         0.0         0\n",
      "4         0.0         0\n",
      "5         0.0         0\n",
      "6  39566000.0         1\n",
      "7         0.0         0\n",
      "8         0.0         0\n",
      "9  23062000.0         1\n",
      "Wall time: 4.99 ms\n"
     ]
    }
   ],
   "source": [
    "%%time\n",
    "# x_test 도 진행\n",
    "\n",
    "# x_test.loc[cond, '환불금액_new'] = 1\n",
    "# x_test.loc[~cond, '환불금액_new'] = 0\n",
    "\n",
    "x_test['환불금액_new'] = x_test['환불금액'].apply(lambda x: cond_new(x))\n",
    "\n",
    "print(x_test[['환불금액', '환불금액_new']].head(10))"
   ]
  },
  {
   "cell_type": "code",
   "execution_count": 158,
   "id": "948920b0",
   "metadata": {},
   "outputs": [],
   "source": [
    "# 기존 컬럼 (환불금액) 삭제\n",
    "x_train.drop(columns = '환불금액', inplace=True)\n",
    "x_test.drop(columns = '환불금액', inplace=True)"
   ]
  },
  {
   "cell_type": "markdown",
   "id": "4639cb98",
   "metadata": {},
   "source": [
    "#### 표준화 크기로 변경하기\n",
    "\n",
    "- 변수 간의 범위가 10e+07 정도로 차이가 나는 것 확인\n",
    "- 종속변수가 범주형이므로 표준화 크기변환 외에 로버스트 크기변환 수행해도 OK"
   ]
  },
  {
   "cell_type": "code",
   "execution_count": 159,
   "id": "d6671b5f",
   "metadata": {},
   "outputs": [
    {
     "data": {
      "text/html": [
       "<div>\n",
       "<style scoped>\n",
       "    .dataframe tbody tr th:only-of-type {\n",
       "        vertical-align: middle;\n",
       "    }\n",
       "\n",
       "    .dataframe tbody tr th {\n",
       "        vertical-align: top;\n",
       "    }\n",
       "\n",
       "    .dataframe thead th {\n",
       "        text-align: right;\n",
       "    }\n",
       "</style>\n",
       "<table border=\"1\" class=\"dataframe\">\n",
       "  <thead>\n",
       "    <tr style=\"text-align: right;\">\n",
       "      <th></th>\n",
       "      <th>count</th>\n",
       "      <th>mean</th>\n",
       "      <th>std</th>\n",
       "      <th>min</th>\n",
       "      <th>25%</th>\n",
       "      <th>50%</th>\n",
       "      <th>75%</th>\n",
       "      <th>max</th>\n",
       "    </tr>\n",
       "  </thead>\n",
       "  <tbody>\n",
       "    <tr>\n",
       "      <th>총구매액</th>\n",
       "      <td>3500.0</td>\n",
       "      <td>9.191925e+07</td>\n",
       "      <td>1.635065e+08</td>\n",
       "      <td>-52421520.0</td>\n",
       "      <td>4.747050e+06</td>\n",
       "      <td>2.822270e+07</td>\n",
       "      <td>1.065079e+08</td>\n",
       "      <td>2.323180e+09</td>\n",
       "    </tr>\n",
       "    <tr>\n",
       "      <th>최대구매액</th>\n",
       "      <td>3500.0</td>\n",
       "      <td>1.966424e+07</td>\n",
       "      <td>3.199235e+07</td>\n",
       "      <td>-2992000.0</td>\n",
       "      <td>2.875000e+06</td>\n",
       "      <td>9.837000e+06</td>\n",
       "      <td>2.296250e+07</td>\n",
       "      <td>7.066290e+08</td>\n",
       "    </tr>\n",
       "    <tr>\n",
       "      <th>주구매상품</th>\n",
       "      <td>3500.0</td>\n",
       "      <td>1.461200e+01</td>\n",
       "      <td>1.301995e+01</td>\n",
       "      <td>0.0</td>\n",
       "      <td>5.000000e+00</td>\n",
       "      <td>9.000000e+00</td>\n",
       "      <td>2.200000e+01</td>\n",
       "      <td>4.100000e+01</td>\n",
       "    </tr>\n",
       "    <tr>\n",
       "      <th>주구매지점</th>\n",
       "      <td>3500.0</td>\n",
       "      <td>1.073429e+01</td>\n",
       "      <td>5.636480e+00</td>\n",
       "      <td>0.0</td>\n",
       "      <td>8.000000e+00</td>\n",
       "      <td>9.000000e+00</td>\n",
       "      <td>1.500000e+01</td>\n",
       "      <td>2.300000e+01</td>\n",
       "    </tr>\n",
       "    <tr>\n",
       "      <th>내점일수</th>\n",
       "      <td>3500.0</td>\n",
       "      <td>1.925371e+01</td>\n",
       "      <td>2.717494e+01</td>\n",
       "      <td>1.0</td>\n",
       "      <td>2.000000e+00</td>\n",
       "      <td>8.000000e+00</td>\n",
       "      <td>2.500000e+01</td>\n",
       "      <td>2.850000e+02</td>\n",
       "    </tr>\n",
       "    <tr>\n",
       "      <th>내점당구매건수</th>\n",
       "      <td>3500.0</td>\n",
       "      <td>2.834963e+00</td>\n",
       "      <td>1.912368e+00</td>\n",
       "      <td>1.0</td>\n",
       "      <td>1.666667e+00</td>\n",
       "      <td>2.333333e+00</td>\n",
       "      <td>3.375000e+00</td>\n",
       "      <td>2.208333e+01</td>\n",
       "    </tr>\n",
       "    <tr>\n",
       "      <th>주말방문비율</th>\n",
       "      <td>3500.0</td>\n",
       "      <td>3.072463e-01</td>\n",
       "      <td>2.897516e-01</td>\n",
       "      <td>0.0</td>\n",
       "      <td>2.729090e-02</td>\n",
       "      <td>2.564103e-01</td>\n",
       "      <td>4.489796e-01</td>\n",
       "      <td>1.000000e+00</td>\n",
       "    </tr>\n",
       "    <tr>\n",
       "      <th>구매주기</th>\n",
       "      <td>3500.0</td>\n",
       "      <td>2.095829e+01</td>\n",
       "      <td>2.474868e+01</td>\n",
       "      <td>0.0</td>\n",
       "      <td>4.000000e+00</td>\n",
       "      <td>1.300000e+01</td>\n",
       "      <td>2.800000e+01</td>\n",
       "      <td>1.660000e+02</td>\n",
       "    </tr>\n",
       "    <tr>\n",
       "      <th>환불금액_new</th>\n",
       "      <td>3500.0</td>\n",
       "      <td>3.442857e-01</td>\n",
       "      <td>4.752027e-01</td>\n",
       "      <td>0.0</td>\n",
       "      <td>0.000000e+00</td>\n",
       "      <td>0.000000e+00</td>\n",
       "      <td>1.000000e+00</td>\n",
       "      <td>1.000000e+00</td>\n",
       "    </tr>\n",
       "  </tbody>\n",
       "</table>\n",
       "</div>"
      ],
      "text/plain": [
       "           count          mean           std         min           25%  \\\n",
       "총구매액      3500.0  9.191925e+07  1.635065e+08 -52421520.0  4.747050e+06   \n",
       "최대구매액     3500.0  1.966424e+07  3.199235e+07  -2992000.0  2.875000e+06   \n",
       "주구매상품     3500.0  1.461200e+01  1.301995e+01         0.0  5.000000e+00   \n",
       "주구매지점     3500.0  1.073429e+01  5.636480e+00         0.0  8.000000e+00   \n",
       "내점일수      3500.0  1.925371e+01  2.717494e+01         1.0  2.000000e+00   \n",
       "내점당구매건수   3500.0  2.834963e+00  1.912368e+00         1.0  1.666667e+00   \n",
       "주말방문비율    3500.0  3.072463e-01  2.897516e-01         0.0  2.729090e-02   \n",
       "구매주기      3500.0  2.095829e+01  2.474868e+01         0.0  4.000000e+00   \n",
       "환불금액_new  3500.0  3.442857e-01  4.752027e-01         0.0  0.000000e+00   \n",
       "\n",
       "                   50%           75%           max  \n",
       "총구매액      2.822270e+07  1.065079e+08  2.323180e+09  \n",
       "최대구매액     9.837000e+06  2.296250e+07  7.066290e+08  \n",
       "주구매상품     9.000000e+00  2.200000e+01  4.100000e+01  \n",
       "주구매지점     9.000000e+00  1.500000e+01  2.300000e+01  \n",
       "내점일수      8.000000e+00  2.500000e+01  2.850000e+02  \n",
       "내점당구매건수   2.333333e+00  3.375000e+00  2.208333e+01  \n",
       "주말방문비율    2.564103e-01  4.489796e-01  1.000000e+00  \n",
       "구매주기      1.300000e+01  2.800000e+01  1.660000e+02  \n",
       "환불금액_new  0.000000e+00  1.000000e+00  1.000000e+00  "
      ]
     },
     "metadata": {},
     "output_type": "display_data"
    }
   ],
   "source": [
    "display(x_train.describe().T)"
   ]
  },
  {
   "cell_type": "code",
   "execution_count": 160,
   "id": "fe35a5de",
   "metadata": {},
   "outputs": [],
   "source": [
    "from sklearn.preprocessing import StandardScaler\n",
    "\n",
    "scaler = StandardScaler()\n",
    "\n",
    "x_train = pd.DataFrame(scaler.fit_transform(x_train), columns = x_train.columns)\n",
    "x_test  = pd.DataFrame(scaler.transform(x_test), columns = x_test.columns) # x_train 으로 수행한 scaler 그대로 적용"
   ]
  },
  {
   "cell_type": "code",
   "execution_count": 161,
   "id": "d5139d86",
   "metadata": {},
   "outputs": [
    {
     "data": {
      "text/html": [
       "<div>\n",
       "<style scoped>\n",
       "    .dataframe tbody tr th:only-of-type {\n",
       "        vertical-align: middle;\n",
       "    }\n",
       "\n",
       "    .dataframe tbody tr th {\n",
       "        vertical-align: top;\n",
       "    }\n",
       "\n",
       "    .dataframe thead th {\n",
       "        text-align: right;\n",
       "    }\n",
       "</style>\n",
       "<table border=\"1\" class=\"dataframe\">\n",
       "  <thead>\n",
       "    <tr style=\"text-align: right;\">\n",
       "      <th></th>\n",
       "      <th>count</th>\n",
       "      <th>mean</th>\n",
       "      <th>std</th>\n",
       "      <th>min</th>\n",
       "      <th>25%</th>\n",
       "      <th>50%</th>\n",
       "      <th>75%</th>\n",
       "      <th>max</th>\n",
       "    </tr>\n",
       "  </thead>\n",
       "  <tbody>\n",
       "    <tr>\n",
       "      <th>총구매액</th>\n",
       "      <td>3500.0</td>\n",
       "      <td>-4.409171e-17</td>\n",
       "      <td>1.000143</td>\n",
       "      <td>-0.882909</td>\n",
       "      <td>-0.533218</td>\n",
       "      <td>-0.389621</td>\n",
       "      <td>0.089237</td>\n",
       "      <td>13.648260</td>\n",
       "    </tr>\n",
       "    <tr>\n",
       "      <th>최대구매액</th>\n",
       "      <td>3500.0</td>\n",
       "      <td>-4.838986e-17</td>\n",
       "      <td>1.000143</td>\n",
       "      <td>-0.708278</td>\n",
       "      <td>-0.524864</td>\n",
       "      <td>-0.307219</td>\n",
       "      <td>0.103110</td>\n",
       "      <td>21.475852</td>\n",
       "    </tr>\n",
       "    <tr>\n",
       "      <th>주구매상품</th>\n",
       "      <td>3500.0</td>\n",
       "      <td>-6.236281e-17</td>\n",
       "      <td>1.000143</td>\n",
       "      <td>-1.122438</td>\n",
       "      <td>-0.738357</td>\n",
       "      <td>-0.431093</td>\n",
       "      <td>0.567518</td>\n",
       "      <td>2.027026</td>\n",
       "    </tr>\n",
       "    <tr>\n",
       "      <th>주구매지점</th>\n",
       "      <td>3500.0</td>\n",
       "      <td>-8.333017e-17</td>\n",
       "      <td>1.000143</td>\n",
       "      <td>-1.904703</td>\n",
       "      <td>-0.485175</td>\n",
       "      <td>-0.307733</td>\n",
       "      <td>0.756913</td>\n",
       "      <td>2.176441</td>\n",
       "    </tr>\n",
       "    <tr>\n",
       "      <th>내점일수</th>\n",
       "      <td>3500.0</td>\n",
       "      <td>2.518303e-16</td>\n",
       "      <td>1.000143</td>\n",
       "      <td>-0.671807</td>\n",
       "      <td>-0.635003</td>\n",
       "      <td>-0.414180</td>\n",
       "      <td>0.211486</td>\n",
       "      <td>9.780490</td>\n",
       "    </tr>\n",
       "    <tr>\n",
       "      <th>내점당구매건수</th>\n",
       "      <td>3500.0</td>\n",
       "      <td>-2.288170e-16</td>\n",
       "      <td>1.000143</td>\n",
       "      <td>-0.959661</td>\n",
       "      <td>-0.611003</td>\n",
       "      <td>-0.262346</td>\n",
       "      <td>0.282432</td>\n",
       "      <td>10.066639</td>\n",
       "    </tr>\n",
       "    <tr>\n",
       "      <th>주말방문비율</th>\n",
       "      <td>3500.0</td>\n",
       "      <td>9.192647e-17</td>\n",
       "      <td>1.000143</td>\n",
       "      <td>-1.060530</td>\n",
       "      <td>-0.966329</td>\n",
       "      <td>-0.175472</td>\n",
       "      <td>0.489224</td>\n",
       "      <td>2.391196</td>\n",
       "    </tr>\n",
       "    <tr>\n",
       "      <th>구매주기</th>\n",
       "      <td>3500.0</td>\n",
       "      <td>-1.220294e-16</td>\n",
       "      <td>1.000143</td>\n",
       "      <td>-0.846966</td>\n",
       "      <td>-0.685318</td>\n",
       "      <td>-0.321610</td>\n",
       "      <td>0.284570</td>\n",
       "      <td>5.861421</td>\n",
       "    </tr>\n",
       "    <tr>\n",
       "      <th>환불금액_new</th>\n",
       "      <td>3500.0</td>\n",
       "      <td>3.445498e-16</td>\n",
       "      <td>1.000143</td>\n",
       "      <td>-0.724606</td>\n",
       "      <td>-0.724606</td>\n",
       "      <td>-0.724606</td>\n",
       "      <td>1.380060</td>\n",
       "      <td>1.380060</td>\n",
       "    </tr>\n",
       "  </tbody>\n",
       "</table>\n",
       "</div>"
      ],
      "text/plain": [
       "           count          mean       std       min       25%       50%  \\\n",
       "총구매액      3500.0 -4.409171e-17  1.000143 -0.882909 -0.533218 -0.389621   \n",
       "최대구매액     3500.0 -4.838986e-17  1.000143 -0.708278 -0.524864 -0.307219   \n",
       "주구매상품     3500.0 -6.236281e-17  1.000143 -1.122438 -0.738357 -0.431093   \n",
       "주구매지점     3500.0 -8.333017e-17  1.000143 -1.904703 -0.485175 -0.307733   \n",
       "내점일수      3500.0  2.518303e-16  1.000143 -0.671807 -0.635003 -0.414180   \n",
       "내점당구매건수   3500.0 -2.288170e-16  1.000143 -0.959661 -0.611003 -0.262346   \n",
       "주말방문비율    3500.0  9.192647e-17  1.000143 -1.060530 -0.966329 -0.175472   \n",
       "구매주기      3500.0 -1.220294e-16  1.000143 -0.846966 -0.685318 -0.321610   \n",
       "환불금액_new  3500.0  3.445498e-16  1.000143 -0.724606 -0.724606 -0.724606   \n",
       "\n",
       "               75%        max  \n",
       "총구매액      0.089237  13.648260  \n",
       "최대구매액     0.103110  21.475852  \n",
       "주구매상품     0.567518   2.027026  \n",
       "주구매지점     0.756913   2.176441  \n",
       "내점일수      0.211486   9.780490  \n",
       "내점당구매건수   0.282432  10.066639  \n",
       "주말방문비율    0.489224   2.391196  \n",
       "구매주기      0.284570   5.861421  \n",
       "환불금액_new  1.380060   1.380060  "
      ]
     },
     "metadata": {},
     "output_type": "display_data"
    },
    {
     "name": "stdout",
     "output_type": "stream",
     "text": [
      ">> 각 변수의 평균값이 0에 가깝고 표준편차는 1에 근접한 값으로 변환\n"
     ]
    }
   ],
   "source": [
    "display(x_train.describe().T)\n",
    "print('>> 각 변수의 평균값이 0에 가깝고 표준편차는 1에 근접한 값으로 변환')"
   ]
  },
  {
   "cell_type": "markdown",
   "id": "54b1b0a5",
   "metadata": {},
   "source": [
    "#### 상관관계 확인\n",
    "- '금액' 이라는 의미가 포함된 '총구매액', '최대구매액', '환불금액_new' 간의 상관성 확인 필요"
   ]
  },
  {
   "cell_type": "code",
   "execution_count": 162,
   "id": "d97489a8",
   "metadata": {},
   "outputs": [
    {
     "data": {
      "text/html": [
       "<div>\n",
       "<style scoped>\n",
       "    .dataframe tbody tr th:only-of-type {\n",
       "        vertical-align: middle;\n",
       "    }\n",
       "\n",
       "    .dataframe tbody tr th {\n",
       "        vertical-align: top;\n",
       "    }\n",
       "\n",
       "    .dataframe thead th {\n",
       "        text-align: right;\n",
       "    }\n",
       "</style>\n",
       "<table border=\"1\" class=\"dataframe\">\n",
       "  <thead>\n",
       "    <tr style=\"text-align: right;\">\n",
       "      <th></th>\n",
       "      <th>총구매액</th>\n",
       "      <th>최대구매액</th>\n",
       "      <th>환불금액_new</th>\n",
       "    </tr>\n",
       "  </thead>\n",
       "  <tbody>\n",
       "    <tr>\n",
       "      <th>총구매액</th>\n",
       "      <td>1.000000</td>\n",
       "      <td>0.700080</td>\n",
       "      <td>0.403357</td>\n",
       "    </tr>\n",
       "    <tr>\n",
       "      <th>최대구매액</th>\n",
       "      <td>0.700080</td>\n",
       "      <td>1.000000</td>\n",
       "      <td>0.330687</td>\n",
       "    </tr>\n",
       "    <tr>\n",
       "      <th>환불금액_new</th>\n",
       "      <td>0.403357</td>\n",
       "      <td>0.330687</td>\n",
       "      <td>1.000000</td>\n",
       "    </tr>\n",
       "  </tbody>\n",
       "</table>\n",
       "</div>"
      ],
      "text/plain": [
       "              총구매액     최대구매액  환불금액_new\n",
       "총구매액      1.000000  0.700080  0.403357\n",
       "최대구매액     0.700080  1.000000  0.330687\n",
       "환불금액_new  0.403357  0.330687  1.000000"
      ]
     },
     "metadata": {},
     "output_type": "display_data"
    },
    {
     "name": "stdout",
     "output_type": "stream",
     "text": [
      ">> 총구매액과 최대구매액 간에 약 70%의 상관관계 확인 > 최대구매액 컬럼 drop\n",
      "    - 상관계수 0.6 이상인 경우 강한 상관관계 존재한다고 할 수 있으므로 다중공선성을 이유로 삭제 진행\n"
     ]
    }
   ],
   "source": [
    "display(x_train[['총구매액','최대구매액','환불금액_new']].corr())\n",
    "print('>> 총구매액과 최대구매액 간에 약 70%의 상관관계 확인 > 최대구매액 컬럼 drop')\n",
    "print('    - 상관계수 0.6 이상인 경우 강한 상관관계 존재한다고 할 수 있으므로 다중공선성을 이유로 삭제 진행')"
   ]
  },
  {
   "cell_type": "code",
   "execution_count": 163,
   "id": "1a59669f",
   "metadata": {},
   "outputs": [],
   "source": [
    "x_train = x_train.drop(columns = '최대구매액')\n",
    "x_test  = x_test.drop(columns = '최대구매액')"
   ]
  },
  {
   "cell_type": "markdown",
   "id": "536a893c",
   "metadata": {},
   "source": [
    "### tips) 데이터의 중간 결과 수시로 백업(backup)하기\n",
    "\n",
    "- 데이터의 분석 방향이 잘못된 경우, 과거에 저장한 결과를 불러와서 다시 데이터 분석 시작 가능\n",
    "- copy() 함수 사용\n",
    "- 만약 copy() 없이 단순 등호로 사용한다면 x_train_backup 에도 x_train의 변경 내용이 같이 적용되는 꼴이 되므로 주의!"
   ]
  },
  {
   "cell_type": "code",
   "execution_count": 164,
   "id": "94d9b839",
   "metadata": {},
   "outputs": [],
   "source": [
    "x_train_backup = x_train.copy()\n",
    "x_test_backup = x_test.copy()"
   ]
  },
  {
   "cell_type": "markdown",
   "id": "f6184823",
   "metadata": {},
   "source": [
    "### 1.3 학습 & 평가\n",
    "\n",
    "#### 데이터 학습시키기\n",
    "\n",
    "- predict() 함수로 추출된 결과는 데이터프레임 형태가 아니므로 반드시 pd.DataFrame() 함수 사용하여 데이터 타입 변경해야 함"
   ]
  },
  {
   "cell_type": "code",
   "execution_count": 172,
   "id": "d6801f8c",
   "metadata": {},
   "outputs": [
    {
     "name": "stdout",
     "output_type": "stream",
     "text": [
      "   gender\n",
      "0       1\n",
      "1       0\n",
      "2       0\n",
      "3       1\n",
      "4       1\n",
      "   gender\n",
      "0       1\n",
      "1       0\n",
      "2       0\n",
      "3       0\n",
      "4       0\n"
     ]
    }
   ],
   "source": [
    "# DecisionTreeClassifier, RandomForestClassifier 사용\n",
    "from sklearn.tree     import DecisionTreeClassifier\n",
    "from sklearn.ensemble import RandomForestClassifier\n",
    "\n",
    "dt_model = DecisionTreeClassifier()\n",
    "rf_model = RandomForestClassifier()\n",
    "\n",
    "dt_model.fit(x_train, y_train)\n",
    "y_test_pred_dt = dt_model.predict(x_test)\n",
    "\n",
    "rf_model.fit(x_train, y_train.gender)\n",
    "y_test_pred_rf = rf_model.predict(x_test)\n",
    "\n",
    "print(pd.DataFrame(y_test_pred_dt, columns = y_train.columns).head())\n",
    "print(pd.DataFrame(y_test_pred_rf, columns = y_train.columns).head())"
   ]
  },
  {
   "cell_type": "markdown",
   "id": "89a87db1",
   "metadata": {},
   "source": [
    "#### Hyper parameter tuning\n",
    "\n",
    "- DecisionTree : max_depth, criterion 등\n",
    "    - max_depth : 트리의 깊이 제한, default = 제한없음\n",
    "    - criterion : 트리 노드 분기하는 조건, default = gini"
   ]
  },
  {
   "cell_type": "code",
   "execution_count": 173,
   "id": "d7e5404c",
   "metadata": {},
   "outputs": [
    {
     "name": "stdout",
     "output_type": "stream",
     "text": [
      "   gender\n",
      "0       1\n",
      "1       0\n",
      "2       0\n",
      "3       0\n",
      "4       0\n"
     ]
    }
   ],
   "source": [
    "model_dt_hpt = DecisionTreeClassifier(max_depth = 10, criterion = 'entropy', random_state = 42)\n",
    "\n",
    "model_dt_hpt.fit(x_train, y_train)\n",
    "y_test_pred_dt_hpt = model_dt_hpt.predict(x_test)\n",
    "\n",
    "print(pd.DataFrame(y_test_pred_dt_hpt, columns = y_train.columns).head())"
   ]
  },
  {
   "cell_type": "markdown",
   "id": "6acffffa",
   "metadata": {},
   "source": [
    "- 하이퍼 파라미터 튜닝으로 최적의 파라미터를 찾기 위해 GridSearchCV() 를 통해 비교하면 좋지만, 시험 환경상 1분 내로 제한되어 있기 때문에 사용이 어려움\n",
    "- 알고 있는 파라미터만 사용하거나, 그냥 하이퍼 파라미터 입력하지 않고 데이터 학습시켜도 괜찮을 듯!"
   ]
  },
  {
   "cell_type": "markdown",
   "id": "61ffcf7c",
   "metadata": {},
   "source": [
    "### plus) GridSearchCV() 함수로 하이퍼 파라미터 튜닝해보기"
   ]
  },
  {
   "cell_type": "code",
   "execution_count": 174,
   "id": "c18b6d9f",
   "metadata": {},
   "outputs": [],
   "source": [
    "from sklearn.model_selection import GridSearchCV\n",
    "from sklearn.pipeline import Pipeline   # 병렬 처리 위한 함수 import"
   ]
  },
  {
   "cell_type": "code",
   "execution_count": 175,
   "id": "692fcda1",
   "metadata": {},
   "outputs": [],
   "source": [
    "# 모델을 대상으로 학습시키는 경우에 활용할 것이므로 model__ 접두사 사용\n",
    "\n",
    "param = {'model__max_depth' : [3,4,5,6],\n",
    "        'model__criterion' : ['gini', 'entropy']}"
   ]
  },
  {
   "cell_type": "code",
   "execution_count": 177,
   "id": "8c76b7c3",
   "metadata": {},
   "outputs": [],
   "source": [
    "# 표준화 크기 변환과 의사결정나무 분류기 동시 수행을 위한 파이프라인 모델 생성\n",
    "pipeline_model = Pipeline([('scaler', StandardScaler()),\n",
    "                          ('model', DecisionTreeClassifier())])\n",
    "\n",
    "# GridSearchCV 함수 사용한 모델 생성\n",
    "grid_model = GridSearchCV(pipeline_model, param_grid = param, cv = 3)"
   ]
  },
  {
   "cell_type": "code",
   "execution_count": 178,
   "id": "ac2319bd",
   "metadata": {},
   "outputs": [
    {
     "name": "stdout",
     "output_type": "stream",
     "text": [
      "GridSearchCV(cv=3,\n",
      "             estimator=Pipeline(steps=[('scaler', StandardScaler()),\n",
      "                                       ('model', DecisionTreeClassifier())]),\n",
      "             param_grid={'model__criterion': ['gini', 'entropy'],\n",
      "                         'model__max_depth': [3, 4, 5, 6]})\n"
     ]
    }
   ],
   "source": [
    "# grid_model 로 학습 진행 > 스케일링과 학습 동시 진행되므로 데이터 스케일링 작업 불필요\n",
    "print(grid_model.fit(x_train, y_train))"
   ]
  },
  {
   "cell_type": "code",
   "execution_count": 179,
   "id": "2cc151cc",
   "metadata": {},
   "outputs": [
    {
     "data": {
      "text/plain": [
       "Pipeline(steps=[('scaler', StandardScaler()),\n",
       "                ('model', DecisionTreeClassifier(max_depth=3))])"
      ]
     },
     "execution_count": 179,
     "metadata": {},
     "output_type": "execute_result"
    }
   ],
   "source": [
    "# 최적 파라미터 확인 및 최상의 모델 변수에 저장\n",
    "best_model = grid_model.best_estimator_\n",
    "best_model"
   ]
  },
  {
   "cell_type": "code",
   "execution_count": 180,
   "id": "5daffb45",
   "metadata": {},
   "outputs": [
    {
     "name": "stdout",
     "output_type": "stream",
     "text": [
      "      gender\n",
      "0          0\n",
      "1          0\n",
      "2          0\n",
      "3          0\n",
      "4          0\n",
      "...      ...\n",
      "2477       1\n",
      "2478       0\n",
      "2479       0\n",
      "2480       0\n",
      "2481       1\n",
      "\n",
      "[2482 rows x 1 columns]\n"
     ]
    }
   ],
   "source": [
    "# best_model 로 x_test 세트에 대응되는 y_test 예측값 계산\n",
    "y_test_pred_grid = best_model.predict(x_test)\n",
    "print(pd.DataFrame(y_test_pred_grid, columns = y_train.columns))"
   ]
  },
  {
   "cell_type": "markdown",
   "id": "85399bd9",
   "metadata": {},
   "source": [
    "#### 결과 예측하기\n",
    "\n",
    "- 문제에서 요구한 값이 성별에 대한 확률값이므로 predict 가 아닌 predict_proba() 사용"
   ]
  },
  {
   "cell_type": "code",
   "execution_count": 181,
   "id": "17f56db2",
   "metadata": {},
   "outputs": [
    {
     "name": "stdout",
     "output_type": "stream",
     "text": [
      "          0         1\n",
      "0  0.200000  0.800000\n",
      "1  1.000000  0.000000\n",
      "2  1.000000  0.000000\n",
      "3  0.548837  0.451163\n",
      "4  0.548837  0.451163\n"
     ]
    }
   ],
   "source": [
    "y_test_dt_hpt_proba = model_dt_hpt.predict_proba(x_test)\n",
    "\n",
    "# 종속변수 0, 1에 대한 확률 확인\n",
    "print(pd.DataFrame(y_test_dt_hpt_proba).head())"
   ]
  },
  {
   "cell_type": "markdown",
   "id": "aead9b42",
   "metadata": {},
   "source": [
    "최종적으로 구해야 하는 확률은 남성이므로, [1] 코드로 남성 성별로 분류된 확률 확인"
   ]
  },
  {
   "cell_type": "code",
   "execution_count": 184,
   "id": "84880ee3",
   "metadata": {},
   "outputs": [
    {
     "name": "stdout",
     "output_type": "stream",
     "text": [
      "0       0.800000\n",
      "1       0.000000\n",
      "2       0.000000\n",
      "3       0.451163\n",
      "4       0.451163\n",
      "          ...   \n",
      "2477    0.462312\n",
      "2478    0.451163\n",
      "2479    0.560000\n",
      "2480    0.000000\n",
      "2481    0.512821\n",
      "Name: 1, Length: 2482, dtype: float64\n"
     ]
    }
   ],
   "source": [
    "print(pd.DataFrame(y_test_dt_hpt_proba)[1])"
   ]
  },
  {
   "cell_type": "code",
   "execution_count": null,
   "id": "f6efc81a",
   "metadata": {},
   "outputs": [],
   "source": [
    "# result 변수에 저장\n",
    "result = pd.DataFrame()"
   ]
  }
 ],
 "metadata": {
  "kernelspec": {
   "display_name": "Python 3 (ipykernel)",
   "language": "python",
   "name": "python3"
  },
  "language_info": {
   "codemirror_mode": {
    "name": "ipython",
    "version": 3
   },
   "file_extension": ".py",
   "mimetype": "text/x-python",
   "name": "python",
   "nbconvert_exporter": "python",
   "pygments_lexer": "ipython3",
   "version": "3.7.13"
  }
 },
 "nbformat": 4,
 "nbformat_minor": 5
}
