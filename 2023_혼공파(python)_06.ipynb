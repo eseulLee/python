{
  "nbformat": 4,
  "nbformat_minor": 0,
  "metadata": {
    "colab": {
      "provenance": [],
      "authorship_tag": "ABX9TyMicK1aBZveT4ai+/js7YPg",
      "include_colab_link": true
    },
    "kernelspec": {
      "name": "python3",
      "display_name": "Python 3"
    },
    "language_info": {
      "name": "python"
    }
  },
  "cells": [
    {
      "cell_type": "markdown",
      "metadata": {
        "id": "view-in-github",
        "colab_type": "text"
      },
      "source": [
        "<a href=\"https://colab.research.google.com/github/eseulLee/python/blob/main/2023_%ED%98%BC%EA%B3%B5%ED%8C%8C(python)_06.ipynb\" target=\"_parent\"><img src=\"https://colab.research.google.com/assets/colab-badge.svg\" alt=\"Open In Colab\"/></a>"
      ]
    },
    {
      "cell_type": "markdown",
      "source": [
        "## 06-1. 구문 오류와 예외\n",
        "- 구문 오류(syntax error): 실행 전 발생하는 오류\n",
        "- 예외(exception) or 런타임 오류(runtime error): 프로그램 실행 중 발생하는 오류"
      ],
      "metadata": {
        "id": "MI5DuFT5IgOr"
      }
    },
    {
      "cell_type": "markdown",
      "source": [
        "### 기본 예외 처리\n",
        "\n",
        "#### 예외 처리 방법\n",
        "1. 조건문 사용\n",
        "2. try 구문 사용"
      ],
      "metadata": {
        "id": "OswPJESbPq0M"
      }
    },
    {
      "cell_type": "code",
      "execution_count": 1,
      "metadata": {
        "colab": {
          "base_uri": "https://localhost:8080/"
        },
        "id": "BWm7l-tpIdG_",
        "outputId": "9a540aad-b475-45c2-e1b3-c031328c2327"
      },
      "outputs": [
        {
          "output_type": "stream",
          "name": "stdout",
          "text": [
            "정수 입력> 7\n",
            "원의 반지름:  7\n",
            "원의 둘레:  43.96\n",
            "원의 넓이:  153.86\n"
          ]
        }
      ],
      "source": [
        "number_input_a = int(input(\"정수 입력> \"))\n",
        "\n",
        "print(\"원의 반지름: \", number_input_a)\n",
        "print(\"원의 둘레: \", 2 * 3.14 * number_input_a)\n",
        "print(\"원의 넓이: \", 3.14 * (number_input_a ** 2))"
      ]
    },
    {
      "cell_type": "code",
      "source": [
        "number_input_a = int(input(\"정수 입력> \"))\n",
        "\n",
        "print(\"원의 반지름: \", number_input_a)\n",
        "print(\"원의 둘레: \", 2 * 3.14 * number_input_a)\n",
        "print(\"원의 넓이: \", 3.14 * (number_input_a ** 2))"
      ],
      "metadata": {
        "colab": {
          "base_uri": "https://localhost:8080/",
          "height": 278
        },
        "id": "LNwe0vY1QCg5",
        "outputId": "3ff790a2-fdde-4cb9-fdd8-3d96b7c9e969"
      },
      "execution_count": 2,
      "outputs": [
        {
          "name": "stdout",
          "output_type": "stream",
          "text": [
            "정수 입력> 7cm\n"
          ]
        },
        {
          "output_type": "error",
          "ename": "ValueError",
          "evalue": "ignored",
          "traceback": [
            "\u001b[0;31m---------------------------------------------------------------------------\u001b[0m",
            "\u001b[0;31mValueError\u001b[0m                                Traceback (most recent call last)",
            "\u001b[0;32m<ipython-input-2-211735a3e116>\u001b[0m in \u001b[0;36m<cell line: 1>\u001b[0;34m()\u001b[0m\n\u001b[0;32m----> 1\u001b[0;31m \u001b[0mnumber_input_a\u001b[0m \u001b[0;34m=\u001b[0m \u001b[0mint\u001b[0m\u001b[0;34m(\u001b[0m\u001b[0minput\u001b[0m\u001b[0;34m(\u001b[0m\u001b[0;34m\"정수 입력> \"\u001b[0m\u001b[0;34m)\u001b[0m\u001b[0;34m)\u001b[0m\u001b[0;34m\u001b[0m\u001b[0;34m\u001b[0m\u001b[0m\n\u001b[0m\u001b[1;32m      2\u001b[0m \u001b[0;34m\u001b[0m\u001b[0m\n\u001b[1;32m      3\u001b[0m \u001b[0mprint\u001b[0m\u001b[0;34m(\u001b[0m\u001b[0;34m\"원의 반지름: \"\u001b[0m\u001b[0;34m,\u001b[0m \u001b[0mnumber_input_a\u001b[0m\u001b[0;34m)\u001b[0m\u001b[0;34m\u001b[0m\u001b[0;34m\u001b[0m\u001b[0m\n\u001b[1;32m      4\u001b[0m \u001b[0mprint\u001b[0m\u001b[0;34m(\u001b[0m\u001b[0;34m\"원의 둘레: \"\u001b[0m\u001b[0;34m,\u001b[0m \u001b[0;36m2\u001b[0m \u001b[0;34m*\u001b[0m \u001b[0;36m3.14\u001b[0m \u001b[0;34m*\u001b[0m \u001b[0mnumber_input_a\u001b[0m\u001b[0;34m)\u001b[0m\u001b[0;34m\u001b[0m\u001b[0;34m\u001b[0m\u001b[0m\n\u001b[1;32m      5\u001b[0m \u001b[0mprint\u001b[0m\u001b[0;34m(\u001b[0m\u001b[0;34m\"원의 넓이: \"\u001b[0m\u001b[0;34m,\u001b[0m \u001b[0;36m3.14\u001b[0m \u001b[0;34m*\u001b[0m \u001b[0;34m(\u001b[0m\u001b[0mnumber_input_a\u001b[0m \u001b[0;34m**\u001b[0m \u001b[0;36m2\u001b[0m\u001b[0;34m)\u001b[0m\u001b[0;34m)\u001b[0m\u001b[0;34m\u001b[0m\u001b[0;34m\u001b[0m\u001b[0m\n",
            "\u001b[0;31mValueError\u001b[0m: invalid literal for int() with base 10: '7cm'"
          ]
        }
      ]
    },
    {
      "cell_type": "markdown",
      "source": [
        "#### 조건문으로 예외 처리"
      ],
      "metadata": {
        "id": "4yIj0FVRQaro"
      }
    },
    {
      "cell_type": "code",
      "source": [
        "user_input_a = input(\"정수 입력> \")\n",
        "\n",
        "# 사용자 입력이 숫자로만 구성되어 있을 때만 가능하도록 예외 처리\n",
        "if user_input_a.isdigit():\n",
        "    number_input_a = int(user_input_a)\n",
        "\n",
        "    print(\"원의 반지름: \", number_input_a)\n",
        "    print(\"원의 둘레: \", 2 * 3.14 * number_input_a)\n",
        "    print(\"원의 넓이: \", 3.14 * (number_input_a ** 2))\n",
        "else:\n",
        "    print(\"정수를 입력하지 않았습니다.\")"
      ],
      "metadata": {
        "colab": {
          "base_uri": "https://localhost:8080/"
        },
        "id": "Sy8uCPgaQWNE",
        "outputId": "0733865f-142f-49fd-8c69-b7c45f4bfc96"
      },
      "execution_count": 4,
      "outputs": [
        {
          "output_type": "stream",
          "name": "stdout",
          "text": [
            "정수 입력> no\n",
            "정수를 입력하지 않았습니다.\n"
          ]
        }
      ]
    },
    {
      "cell_type": "markdown",
      "source": [
        "### try except 구문\n",
        "```python\n",
        "try:\n",
        "    예외가 발생할 가능성이 있는 코드\n",
        "except:\n",
        "    예외가 발생했을 때 실행할 코드\n",
        "```"
      ],
      "metadata": {
        "id": "aps8r_KqQ6dQ"
      }
    },
    {
      "cell_type": "code",
      "source": [
        "try:\n",
        "    number_input_a = int(input(\"정수 입력> \"))  # 예외가 발생할 가능성 있는 구문\n",
        "\n",
        "    print(\"원의 반지름: \", number_input_a)\n",
        "    print(\"원의 둘레: \", 2 * 3.14 * number_input_a)\n",
        "    print(\"원의 넓이: \", 3.14 * (number_input_a ** 2))\n",
        "except:\n",
        "    print(\"Something's wrong! Check your script!\") # 예외 발생시 실행할 구문"
      ],
      "metadata": {
        "colab": {
          "base_uri": "https://localhost:8080/"
        },
        "id": "25nQx4Y_QwVd",
        "outputId": "0e943d0d-bc1c-4f84-b6c4-d1c26b9d4232"
      },
      "execution_count": 7,
      "outputs": [
        {
          "output_type": "stream",
          "name": "stdout",
          "text": [
            "정수 입력> 23ㅇ\n",
            "Something's wrong! Check your script!\n"
          ]
        }
      ]
    },
    {
      "cell_type": "markdown",
      "source": [
        "#### try except 구문과 pass 키워드 조합\n",
        "\n",
        "- 예외처리를 해야하지만, 딱히 중요한 부분이 아닌 경우 일단 프로그램의 강제 종류부터 막자는 목적으로 except 구문에 아무 것도 넣지 않고 try 구문 사용\n",
        "- but, 구문 내부에 아무 것도 넣지 않으면 구문 오류가 발생하므로 이때 **pass 키워드**를 사용\n",
        "\n",
        "```python\n",
        "try:\n",
        "    예외 발생할 가능성 있는 코드\n",
        "except:\n",
        "    pass\n",
        "```"
      ],
      "metadata": {
        "id": "Xd74s6siRrqr"
      }
    },
    {
      "cell_type": "code",
      "source": [
        "list_input_a = [\"52\", \"273\", \"32\", \"스파이\", \"103\"]\n",
        "\n",
        "list_number = []\n",
        "for item in list_input_a:\n",
        "    # 숫자로 변환하여 리스트에 추가\n",
        "    try:\n",
        "        float(item) # 예외 발생 가능 구문\n",
        "        list_number.append(item)\n",
        "    except:\n",
        "        pass\n",
        "\n",
        "print(\"{} 내부에 있는 숫자는\".format(list_input_a))\n",
        "print(\"{} 입니다.\".format(list_number))\n"
      ],
      "metadata": {
        "colab": {
          "base_uri": "https://localhost:8080/"
        },
        "id": "Q7SJ4pL0RlQH",
        "outputId": "872e01d3-f6df-477b-ee47-5354d313419c"
      },
      "execution_count": 8,
      "outputs": [
        {
          "output_type": "stream",
          "name": "stdout",
          "text": [
            "['52', '273', '32', '스파이', '103'] 내부에 있는 숫자는\n",
            "['52', '273', '32', '103'] 입니다.\n"
          ]
        }
      ]
    },
    {
      "cell_type": "markdown",
      "source": [
        "### try except else 구문\n",
        "- 예외가 발생하지 않았을 때 실행할 코드 지정 가능\n",
        "- 이 경우, 예외 발생할 가능성이 있는 코드만 try 구문 내부에 넣고, 나머지를 모두 else 구문에 빼는 경우가 많음\n",
        "\n",
        "```python\n",
        "try:\n",
        "    예외가 발생할 가능성 있는 코드\n",
        "except:\n",
        "    예외 발생시 실행할 코드\n",
        "else:\n",
        "    예외 발생하지 않았을 때 실행할 코드\n",
        "```"
      ],
      "metadata": {
        "id": "1AqTehSsSkJL"
      }
    },
    {
      "cell_type": "code",
      "source": [
        "try:\n",
        "    number_input_a = int(input(\"정수 입력> \"))\n",
        "except:\n",
        "    print(\"정수를 입력하지 않았습니다.\")\n",
        "else:\n",
        "    print(\"원의 반지름: \", number_input_a)\n",
        "    print(\"원의 둘레: \", 2 * 3.14 * number_input_a)\n",
        "    print(\"원의 넓이: \", 3.14 * (number_input_a ** 2))"
      ],
      "metadata": {
        "colab": {
          "base_uri": "https://localhost:8080/"
        },
        "id": "YsraQR_1Se-7",
        "outputId": "f05878b0-d8e8-4bcc-cc27-9bda32d1e9ef"
      },
      "execution_count": 10,
      "outputs": [
        {
          "output_type": "stream",
          "name": "stdout",
          "text": [
            "정수 입력> 7cm\n",
            "정수를 입력하지 않았습니다.\n"
          ]
        }
      ]
    },
    {
      "cell_type": "markdown",
      "source": [
        "### finally 구문\n",
        "- 예외 처리 구문에서 가장 마지막에 사용할 수 있는 구문\n",
        "- 예외가 발생하든 발생하지 않든 무조건 실행할 때 사용하는 코드\n",
        "\n",
        "```python\n",
        "try:\n",
        "    예외가 발생할 가능성 있는 코드\n",
        "except:\n",
        "    예외가 발생했을 때 실행할 코드\n",
        "else:\n",
        "    예외가 발생하지 않았을 때 실행할 코드\n",
        "finally:\n",
        "    무조건 실행할 코드\n",
        "```"
      ],
      "metadata": {
        "id": "nuU7UsxZTJw5"
      }
    },
    {
      "cell_type": "code",
      "source": [
        "try:\n",
        "    number_input_a = int(input(\"정수 입력> \"))\n",
        "\n",
        "    print(\"원의 반지름: \", number_input_a)\n",
        "    print(\"원의 둘레: \", 2 * 3.14 * number_input_a)\n",
        "    print(\"원의 넓이: \", 3.14 * (number_input_a ** 2))\n",
        "except:\n",
        "    print(\"정수를 입력하지 않았습니다.\")\n",
        "else:\n",
        "    print(\"예외가 발생하지 않았습니다.\")\n",
        "finally:\n",
        "    print(\"일단 프로그램이 어떻게든 끝났습니다.^^\")\n"
      ],
      "metadata": {
        "colab": {
          "base_uri": "https://localhost:8080/"
        },
        "id": "d0vaWV1nS_4Y",
        "outputId": "b437d8f5-dafd-4523-da56-c49e2bbcdcdf"
      },
      "execution_count": 11,
      "outputs": [
        {
          "output_type": "stream",
          "name": "stdout",
          "text": [
            "정수 입력> 7\n",
            "원의 반지름:  7\n",
            "원의 둘레:  43.96\n",
            "원의 넓이:  153.86\n",
            "예외가 발생하지 않았습니다.\n",
            "일단 프로그램이 어떻게든 끝났습니다.^^\n"
          ]
        }
      ]
    },
    {
      "cell_type": "code",
      "source": [
        "try:\n",
        "    number_input_a = int(input(\"정수 입력> \"))\n",
        "\n",
        "    print(\"원의 반지름: \", number_input_a)\n",
        "    print(\"원의 둘레: \", 2 * 3.14 * number_input_a)\n",
        "    print(\"원의 넓이: \", 3.14 * (number_input_a ** 2))\n",
        "except:\n",
        "    print(\"정수를 입력하지 않았습니다.\")\n",
        "else:\n",
        "    print(\"예외가 발생하지 않았습니다.\")\n",
        "finally:\n",
        "    print(\"일단 프로그램이 어떻게든 끝났습니다.^^\")\n"
      ],
      "metadata": {
        "colab": {
          "base_uri": "https://localhost:8080/"
        },
        "id": "3FeBRC4NTl7L",
        "outputId": "f377b3db-4d0d-4019-dba3-ad23cd951954"
      },
      "execution_count": 12,
      "outputs": [
        {
          "output_type": "stream",
          "name": "stdout",
          "text": [
            "정수 입력> 7cm\n",
            "정수를 입력하지 않았습니다.\n",
            "일단 프로그램이 어떻게든 끝났습니다.^^\n"
          ]
        }
      ]
    },
    {
      "cell_type": "markdown",
      "source": [
        "#### try, except, finally 구문의 조합\n",
        "\n",
        "- try 구문은 단독으로 사용할 수 없으며, 반드시 except 구문 또는 finally 구문과 함꼐 사용해야 함\n",
        "- else 구문은 반드시 except 구문 뒤에 사용\n",
        "- 사용 가능한 조합\n",
        "    - try + except\n",
        "    - try + except + else\n",
        "    - try + except + finally\n",
        "    - try + except + else + finally\n",
        "    - try + finally"
      ],
      "metadata": {
        "id": "V2xL53KATrhs"
      }
    },
    {
      "cell_type": "markdown",
      "source": [
        "finally 구문 사용해 파일 닫기"
      ],
      "metadata": {
        "id": "o3f-0CF9USIr"
      }
    },
    {
      "cell_type": "code",
      "source": [
        "try:\n",
        "    file = open(\"info.txt\", \"w\")\n",
        "    file.close()\n",
        "except:\n",
        "    print(\"오류 발생!\")\n",
        "\n",
        "print(\"# 파일 제대로 닫혔는지 확인\")\n",
        "print(\"file.closed: \", file.closed)"
      ],
      "metadata": {
        "colab": {
          "base_uri": "https://localhost:8080/"
        },
        "id": "3ysI3AHCT9Jg",
        "outputId": "c2481a2e-c839-4ba3-8b6c-2789149424fe"
      },
      "execution_count": 13,
      "outputs": [
        {
          "output_type": "stream",
          "name": "stdout",
          "text": [
            "# 파일 제대로 닫혔는지 확인\n",
            "file.closed:  True\n"
          ]
        }
      ]
    },
    {
      "cell_type": "code",
      "source": [
        "try:\n",
        "    file = open(\"info.txt\", \"w\")\n",
        "\n",
        "    # 일부러 예외 발생\n",
        "    예외.발생해라()\n",
        "    file.close()\n",
        "except:\n",
        "    print(\"오류 발생!\")\n",
        "\n",
        "print(\"# 파일 제대로 닫혔는지 확인\")\n",
        "print(\"file.closed: \", file.closed)"
      ],
      "metadata": {
        "colab": {
          "base_uri": "https://localhost:8080/"
        },
        "id": "MYtkot4hUgrO",
        "outputId": "59a06f08-4c93-4489-a746-301747a92eee"
      },
      "execution_count": 14,
      "outputs": [
        {
          "output_type": "stream",
          "name": "stdout",
          "text": [
            "오류 발생!\n",
            "# 파일 제대로 닫혔는지 확인\n",
            "file.closed:  False\n"
          ]
        }
      ]
    },
    {
      "cell_type": "code",
      "source": [
        "try:\n",
        "    file = open(\"info.txt\", \"w\")\n",
        "\n",
        "    예외.발생해라()\n",
        "\n",
        "except:\n",
        "    print(\"오류 발생!\")\n",
        "\n",
        "finally:\n",
        "    file.close()\n",
        "\n",
        "print(\"# 파일 제대로 닫혔는지 확인\")\n",
        "print(\"file.closed: \", file.closed)"
      ],
      "metadata": {
        "colab": {
          "base_uri": "https://localhost:8080/"
        },
        "id": "7EEXMUYzUoe6",
        "outputId": "db9c2b8a-1eef-451d-9c03-758bb56ce020"
      },
      "execution_count": 15,
      "outputs": [
        {
          "output_type": "stream",
          "name": "stdout",
          "text": [
            "오류 발생!\n",
            "# 파일 제대로 닫혔는지 확인\n",
            "file.closed:  True\n"
          ]
        }
      ]
    },
    {
      "cell_type": "code",
      "source": [
        "try:\n",
        "    file.open(\"info.txt\", \"w\")\n",
        "\n",
        "    예외.발생해라()\n",
        "except:\n",
        "    print(\"오류 발생!\")\n",
        "\n",
        "file.close()\n",
        "\n",
        "print(\"# 파일 제대로 닫혔는지 확인\")\n",
        "print(\"file.closed: \", file.closed)"
      ],
      "metadata": {
        "colab": {
          "base_uri": "https://localhost:8080/"
        },
        "id": "GgX-CSNPU0QB",
        "outputId": "bca36cc7-2219-4e75-f79f-58efdd37dfc5"
      },
      "execution_count": 16,
      "outputs": [
        {
          "output_type": "stream",
          "name": "stdout",
          "text": [
            "오류 발생!\n",
            "# 파일 제대로 닫혔는지 확인\n",
            "file.closed:  True\n"
          ]
        }
      ]
    },
    {
      "cell_type": "markdown",
      "source": [
        "- 위의 경우처럼 finally 구문 사용 없이 try except 구문이 끝난 후 파일을 닫으면 문제 없음 (결과 동일)\n",
        "- 따라서 파일 처리할 때 무조건 finally 키워드를 사용해야 하는 것은 아님\n",
        "- finally 키워드는 어떤 조건에 무조건 사용해야 하는 것이 아닌, finally 키워드를 사용하면 코드가 깔끔해질 것 같다고 생각되는 경우 사용"
      ],
      "metadata": {
        "id": "fyTgngfLU-U4"
      }
    },
    {
      "cell_type": "markdown",
      "source": [
        "#### try 구문 내부에서 return 키워드 사용하는 경우\n",
        "- finally 구문은 반복문 또는 함수 내부에 있을 때 위력 발휘!\n",
        "- try 구문 중간에서 탈출(return) 해도 finally 구문은 무조건 실행"
      ],
      "metadata": {
        "id": "suApFcv-VSdX"
      }
    },
    {
      "cell_type": "code",
      "source": [
        "def test():\n",
        "    print(\"test() 함수의 첫 줄입니다.\")\n",
        "    try:\n",
        "        print(\"try 구문이 실행되었습니다.\")\n",
        "        return\n",
        "        print(\"try 구문의 return 키워드 뒤입니다.\")\n",
        "    except:\n",
        "        print(\"except 구문이 실행되었습니다.\")\n",
        "    else:\n",
        "        print(\"else 구문이 실행되었습니다.\")\n",
        "    finally:\n",
        "        print(\"finally 구문이 실행되었습니다.\")\n",
        "    print(\"test() 함수의 마지막 줄입니다.\")\n",
        "\n",
        "test()"
      ],
      "metadata": {
        "colab": {
          "base_uri": "https://localhost:8080/"
        },
        "id": "XgGn2OcKU8F3",
        "outputId": "a334fff6-86b2-42c4-f22b-c791df2324e7"
      },
      "execution_count": 17,
      "outputs": [
        {
          "output_type": "stream",
          "name": "stdout",
          "text": [
            "test() 함수의 첫 줄입니다.\n",
            "try 구문이 실행되었습니다.\n",
            "finally 구문이 실행되었습니다.\n"
          ]
        }
      ]
    },
    {
      "cell_type": "code",
      "source": [
        "def write_text_file(filename, text):\n",
        "    try:\n",
        "        file = open(filename, \"w\")\n",
        "        file.write(\"hello\")\n",
        "        return\n",
        "        file.write(text)\n",
        "    except:\n",
        "        print(\"오류 발생!\")\n",
        "    finally:\n",
        "        file.close()\n",
        "\n",
        "write_text_file(\"test.txt\", \"안녕하세요!\")"
      ],
      "metadata": {
        "id": "bylqskiIVsBE"
      },
      "execution_count": 26,
      "outputs": []
    },
    {
      "cell_type": "markdown",
      "source": [
        "#### 반복문과 함께 사용하는 경우\n",
        "- finally 구문은 무조건 실행\n",
        "- 반복문에서 break로 빠져나갈 때도 마찬가지!"
      ],
      "metadata": {
        "id": "glmZfmCFW3Ss"
      }
    },
    {
      "cell_type": "code",
      "source": [
        "print(\"프로그램이 시작되었습니다.\")\n",
        "\n",
        "while True:\n",
        "    try:\n",
        "        print(\"try 구문이 실행되었습니다.\")\n",
        "        break\n",
        "        print(\"try 구문의 break 키워드 뒤입니다.\")\n",
        "    except:\n",
        "        print(\"except 구문이 실행되었습니다.\")\n",
        "    finally:\n",
        "        print(\"finally 구문이 실행되었습니다.\")\n",
        "    print(\"while 구문의 마지막 줄입니다.\")\n",
        "\n",
        "print(\"프로그램이 종료되었습니다.\")"
      ],
      "metadata": {
        "colab": {
          "base_uri": "https://localhost:8080/"
        },
        "id": "EEwQ6OSiW20U",
        "outputId": "ff4dded8-dd4c-47b1-df28-8b7bf253c6d6"
      },
      "execution_count": 27,
      "outputs": [
        {
          "output_type": "stream",
          "name": "stdout",
          "text": [
            "프로그램이 시작되었습니다.\n",
            "try 구문이 실행되었습니다.\n",
            "finally 구문이 실행되었습니다.\n",
            "프로그램이 종료되었습니다.\n"
          ]
        }
      ]
    },
    {
      "cell_type": "markdown",
      "source": [
        "### 확인 문제"
      ],
      "metadata": {
        "id": "fuMtb6WkXgm6"
      }
    },
    {
      "cell_type": "code",
      "source": [
        "numbers = [52, 273, 32, 103, 90, 10, 275]\n",
        "\n",
        "num_1 = int(input(\"# (1) 요소 내부에 있는 값 찾기: \"))\n",
        "print(\"- {}는 {}번째 위치에 있습니다.\".format(num_1, numbers.index(num_1)))\n",
        "print()\n",
        "\n",
        "num_2 = int(input(\"# (2) 요소 내부에 없는 값 찾기: \"))\n",
        "\n",
        "try:\n",
        "    print(\"- {}는 {}번째 위치에 있습니다.\".format(num_2, numbers.index(num_2)))\n",
        "except:\n",
        "    print(\"- 리스트 내부에 없는 값입니다.\")\n",
        "print()\n",
        "\n",
        "print(\"--- 정상적으로 종료되었습니다. ---\")"
      ],
      "metadata": {
        "colab": {
          "base_uri": "https://localhost:8080/"
        },
        "id": "vXrpTDIRWQ7L",
        "outputId": "48c1cc05-4293-4647-d452-c401b44be5b5"
      },
      "execution_count": 31,
      "outputs": [
        {
          "output_type": "stream",
          "name": "stdout",
          "text": [
            "# (1) 요소 내부에 있는 값 찾기: 32\n",
            "- 32는 2번째 위치에 있습니다.\n",
            "\n",
            "# (2) 요소 내부에 없는 값 찾기: 10000\n",
            "- 리스트 내부에 없는 값입니다.\n",
            "\n",
            "--- 정상적으로 종료되었습니다. ---\n"
          ]
        }
      ]
    },
    {
      "cell_type": "markdown",
      "source": [
        "## 06-2. 예외 고급"
      ],
      "metadata": {
        "id": "qiJB5XfoYrT-"
      }
    },
    {
      "cell_type": "markdown",
      "source": [
        "### 예외 객체(exception object)\n",
        "- 예외 정보 저장\n",
        "- 예외 종류 모르는 경우 많음! → **Exception** 사용 (Exception은 클래스!)\n",
        "\n",
        "```python\n",
        "try:\n",
        "    예외가 발생할 가능성 있는 구문\n",
        "except 예외의 종류 as 예외 객체를 활용할 변수 이름:\n",
        "    예외가 발생했을 때 실행할 구문\n",
        "```"
      ],
      "metadata": {
        "id": "41XEYspgY3zm"
      }
    },
    {
      "cell_type": "code",
      "source": [
        "try:\n",
        "    number_input_a = int(input(\"정수 입력> \"))\n",
        "\n",
        "    print(\"원의 반지름: \", number_input_a)\n",
        "    print(\"원의 둘레: \", 2 * 3.14 * number_input_a)\n",
        "    print(\"원의 넓이: \", 3.14 * (number_input_a ** 2))\n",
        "except Exception as exception:\n",
        "    # 예외 객체 출력\n",
        "    print('type(exception): ', type(exception))\n",
        "    print(\"exception: \", exception)\n"
      ],
      "metadata": {
        "colab": {
          "base_uri": "https://localhost:8080/"
        },
        "id": "s7p_OnGxYDLU",
        "outputId": "45c6788d-e5ed-4ad7-b697-b02cf705a788"
      },
      "execution_count": 32,
      "outputs": [
        {
          "output_type": "stream",
          "name": "stdout",
          "text": [
            "정수 입력> yes\n",
            "type(exception):  <class 'ValueError'>\n",
            "exception:  invalid literal for int() with base 10: 'yes'\n"
          ]
        }
      ]
    },
    {
      "cell_type": "markdown",
      "source": [
        "### 예외 구분하기"
      ],
      "metadata": {
        "id": "i5ohayx2Z-E3"
      }
    },
    {
      "cell_type": "markdown",
      "source": [
        "#### 여러 가지 예외가 발생할 수 있는 상황"
      ],
      "metadata": {
        "id": "xWp9Tf8XaADO"
      }
    },
    {
      "cell_type": "code",
      "source": [
        "list_number = [52, 273, 32, 72, 100]\n",
        "\n",
        "def except_test(list):\n",
        "    try:\n",
        "        number_input = int(input(\"정수 입력> \"))\n",
        "        # 리스트 요소 출력\n",
        "        print(\"{}번째 요소: {}\".format(number_input, list_number[number_input]))\n",
        "    except Exception as exception:\n",
        "        # 예외 객체 출력\n",
        "        print(\"type(exception): \", type(exception))\n",
        "        print(\"exception: \", exception)"
      ],
      "metadata": {
        "id": "QwT7LyAqZk2W"
      },
      "execution_count": 34,
      "outputs": []
    },
    {
      "cell_type": "code",
      "source": [
        "except_test(list_number)"
      ],
      "metadata": {
        "colab": {
          "base_uri": "https://localhost:8080/"
        },
        "id": "_aCJy44Saf8g",
        "outputId": "1359e270-3bf4-479c-8b48-2ffdaa2be770"
      },
      "execution_count": 35,
      "outputs": [
        {
          "output_type": "stream",
          "name": "stdout",
          "text": [
            "정수 입력> 2\n",
            "2번째 요소: 32\n"
          ]
        }
      ]
    },
    {
      "cell_type": "code",
      "source": [
        "except_test(list_number)"
      ],
      "metadata": {
        "colab": {
          "base_uri": "https://localhost:8080/"
        },
        "id": "qfnQChjyaiH9",
        "outputId": "2e2835c0-6324-4c98-aef1-d111bb5b7ac0"
      },
      "execution_count": 36,
      "outputs": [
        {
          "output_type": "stream",
          "name": "stdout",
          "text": [
            "정수 입력> none\n",
            "type(exception):  <class 'ValueError'>\n",
            "exception:  invalid literal for int() with base 10: 'none'\n"
          ]
        }
      ]
    },
    {
      "cell_type": "code",
      "source": [
        "except_test(list_number)"
      ],
      "metadata": {
        "colab": {
          "base_uri": "https://localhost:8080/"
        },
        "id": "xwZ1Odruamwy",
        "outputId": "20f77aa3-ee9b-4644-b3d1-cae6766199f8"
      },
      "execution_count": 37,
      "outputs": [
        {
          "output_type": "stream",
          "name": "stdout",
          "text": [
            "정수 입력> 100\n",
            "type(exception):  <class 'IndexError'>\n",
            "exception:  list index out of range\n"
          ]
        }
      ]
    },
    {
      "cell_type": "markdown",
      "source": [
        "#### 예외 구분하기\n",
        "- except 구문 뒤에 예외 종류를 입력하여 예외 구분 가능\n",
        "\n",
        "```python\n",
        "try:\n",
        "    예외가 발생할 가능성 있는 구문\n",
        "except 예외의 종류A:\n",
        "    예외A가 발생했을 때 실행할 구문\n",
        "except 예외의 종류B:\n",
        "    예외B가 발생했을 때 실행할 구문\n",
        "except 예외의 종류C:\n",
        "    예외C가 발생했을 때 실행할 구문\n",
        "\n",
        "```"
      ],
      "metadata": {
        "id": "fdyGRMDRaqhu"
      }
    },
    {
      "cell_type": "code",
      "source": [
        "list_number = [52, 273, 32, 72, 100]\n",
        "\n",
        "def except_case_test(list):\n",
        "    try:\n",
        "        number_input = int(input(\"정수 입력> \"))\n",
        "        # 리스트 요소 출력\n",
        "        print(\"{}번째 요소: {}\".format(number_input, list_number[number_input]))\n",
        "\n",
        "    except ValueError:\n",
        "        # ValueError가 발생하는 경우\n",
        "        print(\"정수를 입력해 주세요!\")\n",
        "    except IndexError:\n",
        "        # IndexError가 발생하는 경우\n",
        "        print(\"리스트의 인덱스를 벗어났습니다.\")"
      ],
      "metadata": {
        "id": "8HJs-dFIanY1"
      },
      "execution_count": 38,
      "outputs": []
    },
    {
      "cell_type": "code",
      "source": [
        "except_case_test(list_number)"
      ],
      "metadata": {
        "colab": {
          "base_uri": "https://localhost:8080/"
        },
        "id": "30iCKojLbQ6t",
        "outputId": "6cd04859-de92-43ec-efc6-5d00a64e0dd0"
      },
      "execution_count": 39,
      "outputs": [
        {
          "output_type": "stream",
          "name": "stdout",
          "text": [
            "정수 입력> yes\n",
            "정수를 입력해 주세요!\n"
          ]
        }
      ]
    },
    {
      "cell_type": "code",
      "source": [
        "except_case_test(list_number)"
      ],
      "metadata": {
        "colab": {
          "base_uri": "https://localhost:8080/"
        },
        "id": "5hWUt2VjbTW7",
        "outputId": "93d54d44-f1df-4df8-e17a-3ab845328d33"
      },
      "execution_count": 40,
      "outputs": [
        {
          "output_type": "stream",
          "name": "stdout",
          "text": [
            "정수 입력> 100\n",
            "리스트의 인덱스를 벗어났습니다.\n"
          ]
        }
      ]
    },
    {
      "cell_type": "markdown",
      "source": [
        "#### 예외 구분 구문과 예외 객체\n",
        "- 각각의 except 구문 뒤에 예외 객체 붙여 활용 가능 (**as 키워드** 사용)"
      ],
      "metadata": {
        "id": "WOtOtRjPbZsO"
      }
    },
    {
      "cell_type": "code",
      "source": [
        "list_number = [52, 273, 32, 72, 100]\n",
        "\n",
        "def except_case_test(list):\n",
        "    try:\n",
        "        number_input = int(input(\"정수 입력> \"))\n",
        "        # 리스트 요소 출력\n",
        "        print(\"{}번째 요소: {}\".format(number_input, list_number[number_input]))\n",
        "\n",
        "    except ValueError as exception:\n",
        "        # ValueError가 발생하는 경우\n",
        "        print(\"정수를 입력해 주세요!\")\n",
        "        print(\"exception: \", exception)\n",
        "    except IndexError as exception:\n",
        "        # IndexError가 발생하는 경우\n",
        "        print(\"리스트의 인덱스를 벗어났습니다.\")\n",
        "        print(\"exception: \", exception)"
      ],
      "metadata": {
        "id": "qgXEExEYbV0Z"
      },
      "execution_count": 41,
      "outputs": []
    },
    {
      "cell_type": "code",
      "source": [
        "except_case_test(list_number)"
      ],
      "metadata": {
        "colab": {
          "base_uri": "https://localhost:8080/"
        },
        "id": "d_urxJlXbpdK",
        "outputId": "010da95b-9559-4329-c80c-33e544b64749"
      },
      "execution_count": 42,
      "outputs": [
        {
          "output_type": "stream",
          "name": "stdout",
          "text": [
            "정수 입력> yes\n",
            "정수를 입력해 주세요!\n",
            "exception:  invalid literal for int() with base 10: 'yes'\n"
          ]
        }
      ]
    },
    {
      "cell_type": "code",
      "source": [
        "except_case_test(list_number)"
      ],
      "metadata": {
        "colab": {
          "base_uri": "https://localhost:8080/"
        },
        "id": "6gEDDWkqbqu3",
        "outputId": "cddba205-ced6-4b9a-cc64-266aafb3eac6"
      },
      "execution_count": 43,
      "outputs": [
        {
          "output_type": "stream",
          "name": "stdout",
          "text": [
            "정수 입력> 100\n",
            "리스트의 인덱스를 벗어났습니다.\n",
            "exception:  list index out of range\n"
          ]
        }
      ]
    },
    {
      "cell_type": "markdown",
      "source": [
        "### 모든 예외 잡기\n",
        "- 예상한 예외(except구문으로 처리한) 외의 예외가 발생하는 경우 프로그램 강제 종료\n",
        "- 이를 해결하기 위해 else 구문처럼 모든 예외의 부모(클래스)인 Exception 을 넣어 프로그램 강제종료 방지"
      ],
      "metadata": {
        "id": "Bzzu_6W1btqm"
      }
    },
    {
      "cell_type": "code",
      "source": [
        "list_number = [52, 273, 32, 72, 100]\n",
        "\n",
        "def except_case_test_2(list):\n",
        "    try:\n",
        "        number_input = int(input(\"정수 입력> \"))\n",
        "        # 리스트 요소 출력\n",
        "        print(\"{}번째 요소: {}\".format(number_input, list_number[number_input]))\n",
        "        # 강제 예외 처리\n",
        "        예외.발생해주세요()\n",
        "    except ValueError as exception:\n",
        "        # ValueError가 발생하는 경우\n",
        "        print(\"정수를 입력해 주세요!\")\n",
        "        print(\"exception: \", exception)\n",
        "    except IndexError as exception:\n",
        "        # IndexError가 발생하는 경우\n",
        "        print(\"리스트의 인덱스를 벗어났습니다.\")\n",
        "        print(\"exception: \", exception)\n",
        "    except Exception as exception:\n",
        "        # 이외의 예외 발생\n",
        "        print(\"미리 파악하지 못한 예외 발생하였습니다.\")\n",
        "        print(type(exception), exception)"
      ],
      "metadata": {
        "id": "Y5wdqxG8brpR"
      },
      "execution_count": 49,
      "outputs": []
    },
    {
      "cell_type": "code",
      "source": [
        "except_case_test_2(list_number)"
      ],
      "metadata": {
        "colab": {
          "base_uri": "https://localhost:8080/"
        },
        "id": "TUnSR94IcMQh",
        "outputId": "86b087d2-80e1-4f95-a313-1ab0fb9ca23e"
      },
      "execution_count": 50,
      "outputs": [
        {
          "output_type": "stream",
          "name": "stdout",
          "text": [
            "정수 입력> 1\n",
            "1번째 요소: 273\n",
            "미리 파악하지 못한 예외 발생하였습니다.\n",
            "<class 'NameError'> name '예외' is not defined\n"
          ]
        }
      ]
    },
    {
      "cell_type": "markdown",
      "source": [
        "### raise 구문\n",
        "\n",
        "- 고의적으로 예외 발생\n",
        "- 프로그램이 아직 구현되지 않은 부분인 경우 주로 사용\n",
        "```python\n",
        "raise 예외 객체\n",
        "```"
      ],
      "metadata": {
        "id": "ByBFzjJEcwep"
      }
    },
    {
      "cell_type": "code",
      "source": [
        "number = input(\"정수 입력> \")\n",
        "number = int(number)\n",
        "\n",
        "if number > 0:\n",
        "    raise NotImplementedError\n",
        "else:\n",
        "    raise NotImplementedError"
      ],
      "metadata": {
        "colab": {
          "base_uri": "https://localhost:8080/",
          "height": 241
        },
        "id": "W-vBPVWhcQ0A",
        "outputId": "41ce832a-e518-493d-ad2e-71e15b7cc243"
      },
      "execution_count": 51,
      "outputs": [
        {
          "name": "stdout",
          "output_type": "stream",
          "text": [
            "정수 입력> 0\n"
          ]
        },
        {
          "output_type": "error",
          "ename": "NotImplementedError",
          "evalue": "ignored",
          "traceback": [
            "\u001b[0;31m---------------------------------------------------------------------------\u001b[0m",
            "\u001b[0;31mNotImplementedError\u001b[0m                       Traceback (most recent call last)",
            "\u001b[0;32m<ipython-input-51-76d174e1b4fa>\u001b[0m in \u001b[0;36m<cell line: 4>\u001b[0;34m()\u001b[0m\n\u001b[1;32m      5\u001b[0m     \u001b[0;32mraise\u001b[0m \u001b[0mNotImplementedError\u001b[0m\u001b[0;34m\u001b[0m\u001b[0;34m\u001b[0m\u001b[0m\n\u001b[1;32m      6\u001b[0m \u001b[0;32melse\u001b[0m\u001b[0;34m:\u001b[0m\u001b[0;34m\u001b[0m\u001b[0;34m\u001b[0m\u001b[0m\n\u001b[0;32m----> 7\u001b[0;31m     \u001b[0;32mraise\u001b[0m \u001b[0mNotImplementedError\u001b[0m\u001b[0;34m\u001b[0m\u001b[0;34m\u001b[0m\u001b[0m\n\u001b[0m",
            "\u001b[0;31mNotImplementedError\u001b[0m: "
          ]
        }
      ]
    },
    {
      "cell_type": "code",
      "source": [
        "0\n"
      ],
      "metadata": {
        "id": "rSilKHQIc-xa"
      },
      "execution_count": null,
      "outputs": []
    }
  ]
}