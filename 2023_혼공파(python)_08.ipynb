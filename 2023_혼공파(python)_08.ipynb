{
  "nbformat": 4,
  "nbformat_minor": 0,
  "metadata": {
    "colab": {
      "provenance": [],
      "toc_visible": true,
      "authorship_tag": "ABX9TyOue6MmnkKidUOZkvHRTaK2",
      "include_colab_link": true
    },
    "kernelspec": {
      "name": "python3",
      "display_name": "Python 3"
    },
    "language_info": {
      "name": "python"
    }
  },
  "cells": [
    {
      "cell_type": "markdown",
      "metadata": {
        "id": "view-in-github",
        "colab_type": "text"
      },
      "source": [
        "<a href=\"https://colab.research.google.com/github/eseulLee/python/blob/main/2023_%ED%98%BC%EA%B3%B5%ED%8C%8C(python)_08.ipynb\" target=\"_parent\"><img src=\"https://colab.research.google.com/assets/colab-badge.svg\" alt=\"Open In Colab\"/></a>"
      ]
    },
    {
      "cell_type": "markdown",
      "source": [
        "## 08-1. 클래스의 기본"
      ],
      "metadata": {
        "id": "2Yz0jiHrlY6k"
      }
    },
    {
      "cell_type": "markdown",
      "source": [
        "### 객체(object)\n",
        "\n",
        "- 여러 가지 속성을 가질 수 있는 대상\n",
        "- 추상화(abstraction)\n",
        "    - 프로그램에서 필요한 요소만을 사용해 객체를 표현하는 것\n",
        "    - 복잡한 자료, 모듈, 시스템 등으로부터 핵심적인 개념 또는 기능을 간추려 내는 것"
      ],
      "metadata": {
        "id": "IdhGbqgZlv76"
      }
    },
    {
      "cell_type": "code",
      "execution_count": 2,
      "metadata": {
        "colab": {
          "base_uri": "https://localhost:8080/"
        },
        "id": "jCSGKXSFlU18",
        "outputId": "3d21e5ea-57cb-42ca-98e4-8e5cfb39b8ec"
      },
      "outputs": [
        {
          "output_type": "stream",
          "name": "stdout",
          "text": [
            "이름\t총점\t평균\n",
            "윤인성\t368\t92.0\n",
            "연하진\t384\t96.0\n",
            "구지연\t356\t89.0\n",
            "나선주\t378\t94.5\n",
            "윤아린\t389\t97.25\n",
            "윤명월\t336\t84.0\n"
          ]
        }
      ],
      "source": [
        "# 학생 리스트 선언 > 객체\n",
        "students = [\n",
        "    {\"name\": \"윤인성\", \"korean\": 87, \"math\": 98, \"english\": 88, \"science\": 95},\n",
        "    {\"name\": \"연하진\", \"korean\": 92, \"math\": 98, \"english\": 96, \"science\": 98},\n",
        "    {\"name\": \"구지연\", \"korean\": 76, \"math\": 96, \"english\": 94, \"science\": 90},\n",
        "    {\"name\": \"나선주\", \"korean\": 98, \"math\": 92, \"english\": 96, \"science\": 92},\n",
        "    {\"name\": \"윤아린\", \"korean\": 95, \"math\": 98, \"english\": 98, \"science\": 98},\n",
        "    {\"name\": \"윤명월\", \"korean\": 64, \"math\": 88, \"english\": 92, \"science\": 92}\n",
        "]\n",
        "\n",
        "# 학생 한 명씩 반복\n",
        "print(\"이름\", \"총점\", \"평균\", sep = '\\t')\n",
        "\n",
        "for student in students:\n",
        "    score_sum = student['korean'] + student['math'] + student['english'] + student['science']\n",
        "    score_average = score_sum / 4\n",
        "\n",
        "    print(student['name'], score_sum, score_average, sep = '\\t')"
      ]
    },
    {
      "cell_type": "markdown",
      "source": [
        "#### 객체를 만드는 함수 (1)"
      ],
      "metadata": {
        "id": "YAywVj2nnKJH"
      }
    },
    {
      "cell_type": "code",
      "source": [
        "def create_student(name, korean, math, english, science):\n",
        "    return {\n",
        "        \"name\": name,\n",
        "        \"korean\": korean,\n",
        "        \"math\": math,\n",
        "        \"english\": english,\n",
        "        \"science\": science\n",
        "    }\n",
        "\n",
        "students = [\n",
        "    create_student(\"윤인성\", 87, 98, 88, 95),\n",
        "    create_student(\"연하진\", 92, 98, 96, 98),\n",
        "    create_student(\"구지연\", 76, 96, 94, 90),\n",
        "    create_student(\"나선주\", 98, 92, 96, 92),\n",
        "    create_student(\"윤아린\", 95, 98, 98, 98),\n",
        "    create_student(\"윤명월\", 64, 88, 92, 92)\n",
        "]\n",
        "\n",
        "print(\"이름\", \"총점\", \"평균\", sep = '\\t')\n",
        "for student in students:\n",
        "    score_sum = student['korean'] + student['math'] + student['english'] + student['science']\n",
        "    score_average = score_sum / 4\n",
        "\n",
        "    print(student['name'], score_sum, score_average, sep = '\\t')"
      ],
      "metadata": {
        "colab": {
          "base_uri": "https://localhost:8080/"
        },
        "id": "liJQgle7mnjC",
        "outputId": "ac9b699e-9bc0-44f9-dce3-51b6c3cce5ec"
      },
      "execution_count": 3,
      "outputs": [
        {
          "output_type": "stream",
          "name": "stdout",
          "text": [
            "이름\t총점\t평균\n",
            "윤인성\t368\t92.0\n",
            "연하진\t384\t96.0\n",
            "구지연\t356\t89.0\n",
            "나선주\t378\t94.5\n",
            "윤아린\t389\t97.25\n",
            "윤명월\t336\t84.0\n"
          ]
        }
      ]
    },
    {
      "cell_type": "markdown",
      "source": [
        "#### 객체를 처리하는 함수 (2)\n",
        "\n",
        "학생을 매개변수로 받는 형태의 함수를 만들어 균형맞추기"
      ],
      "metadata": {
        "id": "W9uo35Fkn-WX"
      }
    },
    {
      "cell_type": "code",
      "source": [
        "# [1] 학생 객체 관련 처리\n",
        "## 딕셔너리 리턴 함수 선언\n",
        "def create_student(name, korean, math, english, science):\n",
        "    return {\n",
        "        \"name\": name,\n",
        "        \"korean\": korean,\n",
        "        \"math\": math,\n",
        "        \"english\": english,\n",
        "        \"science\": science\n",
        "    }\n",
        "\n",
        "## 학생 처리하는 함수 선언\n",
        "def student_get_sum(student):\n",
        "    return student['korean'] + student['math'] + student['english'] + student['science']\n",
        "\n",
        "def student_get_average(student):\n",
        "    return student_get_sum(student) / 4\n",
        "\n",
        "def student_to_string(student):\n",
        "    return \"{}\\t{}\\t{}\".format(\n",
        "        student['name'],\n",
        "        student_get_sum(student),\n",
        "        student_get_average(student))\n",
        "\n",
        "# [2] 객체 활용하는 처리\n",
        "## 학생 리스트 선언\n",
        "students = [\n",
        "    create_student(\"윤인성\", 87, 98, 88, 95),\n",
        "    create_student(\"연하진\", 92, 98, 96, 98),\n",
        "    create_student(\"구지연\", 76, 96, 94, 90),\n",
        "    create_student(\"나선주\", 98, 92, 96, 92),\n",
        "    create_student(\"윤아린\", 95, 98, 98, 98),\n",
        "    create_student(\"윤명월\", 64, 88, 92, 92)\n",
        "]\n",
        "\n",
        "print(\"이름\", \"총점\", \"평균\", sep = '\\t')\n",
        "for student in students:\n",
        "    print(student_to_string(student))"
      ],
      "metadata": {
        "colab": {
          "base_uri": "https://localhost:8080/"
        },
        "id": "ZlDhbTAbnyKR",
        "outputId": "3bdabd6d-baba-418f-d951-d29c0fb0317b"
      },
      "execution_count": 4,
      "outputs": [
        {
          "output_type": "stream",
          "name": "stdout",
          "text": [
            "이름\t총점\t평균\n",
            "윤인성\t368\t92.0\n",
            "연하진\t384\t96.0\n",
            "구지연\t356\t89.0\n",
            "나선주\t378\t94.5\n",
            "윤아린\t389\t97.25\n",
            "윤명월\t336\t84.0\n"
          ]
        }
      ]
    },
    {
      "cell_type": "markdown",
      "source": [
        "- 위의 경우, 학생이라는 객체와 관련된 기능을 위로 올리고, 객체를 사용하는 처리를 아래로 내림\n",
        "- '학생 객체와 관련된 기능'을 별도의 모듈로 빼서 관리 가능\n",
        "- 객체와 관련된 코드를 분리할 수 있게 하는 것이 객체 지향 프로그램(OOP)의 핵심!"
      ],
      "metadata": {
        "id": "JLcHuoSzpFru"
      }
    },
    {
      "cell_type": "markdown",
      "source": [
        "### 클래스 선언하기\n",
        "\n",
        "```python\n",
        "class 클래스 이름:\n",
        "    클래스 내용\n",
        "```\n",
        "\n",
        "만들어진 클래스는 클래스 이름과 같은 함수(**생성자**)를 사용하여 객체 생성\n",
        "```\n",
        "인스턴스 이름(변수 이름) = 클래스 이름() → 생성자 함수\n",
        "```\n",
        "**인스턴스(instance)**: 이러한 클래스를 기반으로 만들어진 객체"
      ],
      "metadata": {
        "id": "vn5Cs9cXpdJ5"
      }
    },
    {
      "cell_type": "code",
      "source": [
        "# 학생 6명 선언\n",
        "# 클래스 선언\n",
        "class Student:\n",
        "    pass\n",
        "\n",
        "# 학생 선언\n",
        "student = Student()\n",
        "\n",
        "# 학생 리스트 선언\n",
        "students = [\n",
        "    Student(),\n",
        "    Student(),\n",
        "    Student(),\n",
        "    Student(),\n",
        "    Student(),\n",
        "    Student()\n",
        "]"
      ],
      "metadata": {
        "id": "mPMKLRB7pBrc"
      },
      "execution_count": 5,
      "outputs": []
    },
    {
      "cell_type": "markdown",
      "source": [
        "### 생성자(constructor)\n",
        "\n",
        "- 클래스 이름과 같은 함수\n",
        "- 클래스 내부에 \\_\\_init\\_\\_ 라는 함수를 만들면 객체를 생성할 때 처리할 내용 작성 가능\n",
        "- 클래스 내부의 함수는 첫 번째 매개변수로 반드시 self 입력\n",
        "    - **self**: '자기 자신'을 나타내는 딕셔너리\n",
        "    - self가 가지고 있는 속성과 기능에 접근할 때는 **self.<식별자>** 형태로 접근\n",
        "\n",
        "```python\n",
        "class 클래스 이름:\n",
        "    def __init__(self, 추가적인 매개변수):\n",
        "        pass\n",
        "```"
      ],
      "metadata": {
        "id": "HGpiiEe7qOgm"
      }
    },
    {
      "cell_type": "markdown",
      "source": [
        "create_student() 함수처럼 구현해보기"
      ],
      "metadata": {
        "id": "bAxIY88Aqzsn"
      }
    },
    {
      "cell_type": "code",
      "source": [
        "# 클래스 선언\n",
        "class Student:\n",
        "    def __init__(self, name, korean, math, english, science):\n",
        "        self.name = name\n",
        "        self.korean = korean\n",
        "        self.math = math\n",
        "        self.english = english\n",
        "        self.science = science\n",
        "\n",
        "# 학생 리스트 선언\n",
        "students = [\n",
        "    Student(\"윤인성\", 87, 98, 88, 95),\n",
        "    Student(\"연하진\", 92, 98, 96, 98),\n",
        "    Student(\"구지연\", 76, 96, 94, 90),\n",
        "    Student(\"나선주\", 98, 92, 96, 92),\n",
        "    Student(\"윤아린\", 95, 98, 98, 98),\n",
        "    Student(\"윤명월\", 64, 88, 92, 92)\n",
        "]\n",
        "\n",
        "# Student 인스턴스의 속성에 접근하는 방법\n",
        "students[0].name\n",
        "students[0].korean\n",
        "students[0].math\n",
        "students[0].english\n",
        "students[0].science"
      ],
      "metadata": {
        "colab": {
          "base_uri": "https://localhost:8080/"
        },
        "id": "BQb8l7ciqMj_",
        "outputId": "77bc05a0-0b5d-4db5-a29a-99f3c98e9247"
      },
      "execution_count": 7,
      "outputs": [
        {
          "output_type": "execute_result",
          "data": {
            "text/plain": [
              "95"
            ]
          },
          "metadata": {},
          "execution_count": 7
        }
      ]
    },
    {
      "cell_type": "markdown",
      "source": [
        "#### 소멸자(destructor)\n",
        "\n",
        "- 생성자와 반대로 인스턴스가 소멸할 때 호출되는 함수\n",
        "- 클래스 내부에 \\_\\_del\\_\\_(self) 형태로 함수 선언하여 생성"
      ],
      "metadata": {
        "id": "IsBnuctnrdCi"
      }
    },
    {
      "cell_type": "code",
      "source": [
        "class Test:\n",
        "    def __init__(self, name):\n",
        "        self.name = name\n",
        "        print(\"{} - 생성되었습니다.\".format(self.name))\n",
        "    def __del__(self):\n",
        "        print(\"{} - 파괴되었습니다.\".format(self.name))\n",
        "\n",
        "test = Test(\"A\")"
      ],
      "metadata": {
        "colab": {
          "base_uri": "https://localhost:8080/"
        },
        "id": "L0tN9FkJrShf",
        "outputId": "ce60ccef-b29e-4be7-96a6-c06eb38bdce8"
      },
      "execution_count": 8,
      "outputs": [
        {
          "output_type": "stream",
          "name": "stdout",
          "text": [
            "A - 생성되었습니다.\n"
          ]
        }
      ]
    },
    {
      "cell_type": "markdown",
      "source": [
        "### 메소드(method)\n",
        "\n",
        "- 클래스가 가지고 있는 함수\n",
        "- 첫 번째 매개변수로 self 입력\n",
        "\n",
        "```python\n",
        "class 클래스 이름:\n",
        "    def 메소드 이름(self, 추가적인 매개변수):\n",
        "        pass\n",
        "```"
      ],
      "metadata": {
        "id": "USRKq1pIsSow"
      }
    },
    {
      "cell_type": "markdown",
      "source": [
        "#### 클래스 내부에 함수(메소드) 선언"
      ],
      "metadata": {
        "id": "IR9NtPILsjeM"
      }
    },
    {
      "cell_type": "code",
      "source": [
        "# 클래스 선언\n",
        "class Student:\n",
        "    def __init__(self, name, korean, math, english, science):\n",
        "        self.name = name\n",
        "        self.korean = korean\n",
        "        self.math = math\n",
        "        self.english = english\n",
        "        self.science = science\n",
        "\n",
        "    def get_sum(self):\n",
        "        return self.korean + self.math + self.english + self.science\n",
        "\n",
        "    def get_average(self):\n",
        "        return self.get_sum() / 4\n",
        "\n",
        "    def to_string(self):\n",
        "        return \"{}\\t{}\\t{}\".format(\\\n",
        "                                   self.name,\\\n",
        "                                   self.get_sum(),\\\n",
        "                                   self.get_average())\n",
        "\n",
        "# 학생 리스트 선언\n",
        "students = [\n",
        "    Student(\"윤인성\", 87, 98, 88, 95),\n",
        "    Student(\"연하진\", 92, 98, 96, 98),\n",
        "    Student(\"구지연\", 76, 96, 94, 90),\n",
        "    Student(\"나선주\", 98, 92, 96, 92),\n",
        "    Student(\"윤아린\", 95, 98, 98, 98),\n",
        "    Student(\"윤명월\", 64, 88, 92, 92)\n",
        "]\n",
        "\n",
        "print(\"이름\", \"총점\", \"평균\", sep = '\\t')\n",
        "for student in students:\n",
        "    print(student.to_string())"
      ],
      "metadata": {
        "colab": {
          "base_uri": "https://localhost:8080/"
        },
        "id": "Apcy9aWJsEDU",
        "outputId": "6cc205d2-3a86-4168-f4d8-5dcd0eee9440"
      },
      "execution_count": 1,
      "outputs": [
        {
          "output_type": "stream",
          "name": "stdout",
          "text": [
            "이름\t총점\t평균\n",
            "윤인성\t368\t92.0\n",
            "연하진\t384\t96.0\n",
            "구지연\t356\t89.0\n",
            "나선주\t378\t94.5\n",
            "윤아린\t389\t97.25\n",
            "윤명월\t336\t84.0\n"
          ]
        }
      ]
    },
    {
      "cell_type": "markdown",
      "source": [
        "## 08-2. 클래스의 추가적인 구문\n",
        "\n",
        "- 상속: 어떤 클래스를 기반으로 그 속성과 기능을 물려받아 새로운 클래스를 만드는 것\n",
        "- isinstance() 함수: 상속 관계에 따라 객체가 어떤 클래스를 기반으로 만들었는지 확인하는 함수\n",
        "- 파이썬이 기본적으로 제공하는 str() 함수 혹은 연사자를 사용하여 클래스의 특정 함수를 호출할 수 있음"
      ],
      "metadata": {
        "id": "YzqULbcHF6FX"
      }
    },
    {
      "cell_type": "markdown",
      "source": [
        "### 어떤 클래스의 인스턴스인지 확인\n",
        "\n",
        "```python\n",
        "isinstance(인스턴스, 클래스)  # True/False 리턴\n",
        "```"
      ],
      "metadata": {
        "id": "hWudKYvwGSiA"
      }
    },
    {
      "cell_type": "code",
      "source": [
        "class Student:\n",
        "    def __init__(self):\n",
        "        pass\n",
        "\n",
        "student = Student()\n",
        "\n",
        "# 인스턴스 확인\n",
        "print(\"isinstance(student, Student): \", isinstance(student, Student))"
      ],
      "metadata": {
        "colab": {
          "base_uri": "https://localhost:8080/"
        },
        "id": "7wnCyKaUFlT9",
        "outputId": "a0d42a6f-a457-46d5-8076-a8c80eee4102"
      },
      "execution_count": 2,
      "outputs": [
        {
          "output_type": "stream",
          "name": "stdout",
          "text": [
            "isinstance(student, Student):  True\n"
          ]
        }
      ]
    },
    {
      "cell_type": "markdown",
      "source": [
        "#### 단순 인스턴스 확인 (isinstance() 함수와 type() 함수로 확인하는 것의 차이)\n",
        "```python\n",
        "type(인스턴스) == 클래스\n",
        "```\n",
        "\n",
        "- Student 클래스는 Human 클래스를 상속\n",
        "- isinstance() 함수는 이러한 상속 관계까지 확인 가능\n",
        "- type() 함수를 사용한 확인은 상속 관계 확인 및 고려 X"
      ],
      "metadata": {
        "id": "W-F38Tl9Gu61"
      }
    },
    {
      "cell_type": "code",
      "source": [
        "class Human:\n",
        "    def __init__(self):\n",
        "        pass\n",
        "class Student(Human):\n",
        "    def __init__(self):\n",
        "        pass\n",
        "\n",
        "student = Student()\n",
        "\n",
        "# 인스턴스 확인\n",
        "print(\"isinstance(student, Human): \", isinstance(student, Human))\n",
        "print(\"type(student) == Human: \", type(student) == Human)"
      ],
      "metadata": {
        "colab": {
          "base_uri": "https://localhost:8080/"
        },
        "id": "vgSKVlMpGkvD",
        "outputId": "cd091248-31d2-4358-8081-43d151b7f99b"
      },
      "execution_count": 5,
      "outputs": [
        {
          "output_type": "stream",
          "name": "stdout",
          "text": [
            "isinstance(student, Human):  True\n",
            "type(student) == Human:  False\n"
          ]
        }
      ]
    },
    {
      "cell_type": "markdown",
      "source": [
        "#### isinstance() 함수 활용"
      ],
      "metadata": {
        "id": "nq91V3DBHqlE"
      }
    },
    {
      "cell_type": "code",
      "source": [
        "# 학생 클래스 선언\n",
        "class Student:\n",
        "    def study(self):\n",
        "        print(\"공부를 합니다.\")\n",
        "\n",
        "# 선생님 클래스 선언\n",
        "class Teacher:\n",
        "    def teach(self):\n",
        "        print(\"학생을 가르칩니다.\")\n",
        "\n",
        "# 교실 내부의 객체 리스트 생성\n",
        "classroom = [Student(), Student(), Teacher(), Student(), Student()]\n",
        "\n",
        "# 반복을 적용하여 적절한 함수 호출\n",
        "for person in classroom:\n",
        "    if isinstance(person, Student):\n",
        "        person.study()\n",
        "    elif isinstance(person, Teacher):\n",
        "        person.teach()"
      ],
      "metadata": {
        "colab": {
          "base_uri": "https://localhost:8080/"
        },
        "id": "Nji_hfwWGsP1",
        "outputId": "8af04ab7-7f87-40da-c8a8-283b87b8c3a5"
      },
      "execution_count": 6,
      "outputs": [
        {
          "output_type": "stream",
          "name": "stdout",
          "text": [
            "공부를 합니다.\n",
            "공부를 합니다.\n",
            "학생을 가르칩니다.\n",
            "공부를 합니다.\n",
            "공부를 합니다.\n"
          ]
        }
      ]
    },
    {
      "cell_type": "markdown",
      "source": [
        "### 특수한 이름의 메소드\n",
        "\n",
        "- \\_\\_<이름>\\_\\_() 형태의 메소드: 특수한 상황에 자동으로 호출"
      ],
      "metadata": {
        "id": "fb_uvc3ZI6VY"
      }
    },
    {
      "cell_type": "markdown",
      "source": [
        "#### \\_\\_str\\_\\_()함수"
      ],
      "metadata": {
        "id": "1gVc_ZKoJMo_"
      }
    },
    {
      "cell_type": "code",
      "source": [
        "# 클래스 선언\n",
        "class Student:\n",
        "    def __init__(self, name, korean, math, english, science):\n",
        "        self.name = name\n",
        "        self.korean = korean\n",
        "        self.math = math\n",
        "        self.english = english\n",
        "        self.science = science\n",
        "\n",
        "    def get_sum(self):\n",
        "        return self.korean + self.math + self.english + self.science\n",
        "\n",
        "    def get_average(self):\n",
        "        return self.get_sum() / 4\n",
        "\n",
        "    def __str__(self):\n",
        "        return \"{}\\t{}\\t{}\".format(\\\n",
        "                                   self.name,\\\n",
        "                                   self.get_sum(),\\\n",
        "                                   self.get_average())\n",
        "\n",
        "# 학생 리스트 선언\n",
        "students = [\n",
        "    Student(\"윤인성\", 87, 98, 88, 95),\n",
        "    Student(\"연하진\", 92, 98, 96, 98),\n",
        "    Student(\"구지연\", 76, 96, 94, 90),\n",
        "    Student(\"나선주\", 98, 92, 96, 92),\n",
        "    Student(\"윤아린\", 95, 98, 98, 98),\n",
        "    Student(\"윤명월\", 64, 88, 92, 92)\n",
        "]\n",
        "\n",
        "print(\"이름\", \"총점\", \"평균\", sep = '\\t')\n",
        "for student in students:\n",
        "    print(str(student))   # str() 함수의 매개변수로 넣으면 student의 __str__() 함수 호출"
      ],
      "metadata": {
        "colab": {
          "base_uri": "https://localhost:8080/"
        },
        "id": "HeMkWnLWIbM1",
        "outputId": "a79176e0-8ccd-487e-d4e1-14e7b560686a"
      },
      "execution_count": 7,
      "outputs": [
        {
          "output_type": "stream",
          "name": "stdout",
          "text": [
            "이름\t총점\t평균\n",
            "윤인성\t368\t92.0\n",
            "연하진\t384\t96.0\n",
            "구지연\t356\t89.0\n",
            "나선주\t378\t94.5\n",
            "윤아린\t389\t97.25\n",
            "윤명월\t336\t84.0\n"
          ]
        }
      ]
    },
    {
      "cell_type": "markdown",
      "source": [
        "#### 크기 비교 함수\n",
        "- eq | equal                 | 같다\n",
        "- ne | not equal             | 다르다\n",
        "- gt | greater than          | 크다\n",
        "- ge | greater than or equal | 크거나 같다\n",
        "- lt | less than             | 작다\n",
        "- le | less than or equal    | 작거나 같다"
      ],
      "metadata": {
        "id": "CBjy8YqFR8w_"
      }
    },
    {
      "cell_type": "code",
      "source": [
        "# 클래스 선언\n",
        "class Student:\n",
        "    def __init__(self, name, korean, math, english, science):\n",
        "        self.name = name\n",
        "        self.korean = korean\n",
        "        self.math = math\n",
        "        self.english = english\n",
        "        self.science = science\n",
        "\n",
        "    def get_sum(self):\n",
        "        return self.korean + self.math + self.english + self.science\n",
        "\n",
        "    def get_average(self):\n",
        "        return self.get_sum() / 4\n",
        "\n",
        "    def __str__(self):\n",
        "        return \"{}\\t{}\\t{}\".format(\\\n",
        "                                   self.name,\\\n",
        "                                   self.get_sum(),\\\n",
        "                                   self.get_average())\n",
        "\n",
        "    def __eq__(self, value):\n",
        "        return self.get_sum() == value.get_sum()\n",
        "    def __ne__(self, value):\n",
        "        return self.get_sum() != value.get_sum()\n",
        "    def __gt__(self, value):\n",
        "        return self.get_sum() > value.get_sum()\n",
        "    def __ge__(self, value):\n",
        "        return self.get_sum() >= value.get_sum()\n",
        "    def __lt__(self, value):\n",
        "        return self.get_sum() < value.get_sum()\n",
        "    def __le__(self, value):\n",
        "        return self.get_sum() <= value.get_sum()\n",
        "\n",
        "# 학생 리스트 선언\n",
        "students = [\n",
        "    Student(\"윤인성\", 87, 98, 88, 95),\n",
        "    Student(\"연하진\", 92, 98, 96, 98),\n",
        "    Student(\"구지연\", 76, 96, 94, 90),\n",
        "    Student(\"나선주\", 98, 92, 96, 92),\n",
        "    Student(\"윤아린\", 95, 98, 98, 98),\n",
        "    Student(\"윤명월\", 64, 88, 92, 92)\n",
        "]\n",
        "\n",
        "# 학생 선언\n",
        "student_a = Student(\"윤인성\", 87,98,88,95)\n",
        "student_b = Student(\"연하진\", 92, 98, 96, 98)\n",
        "\n",
        "\n",
        "print(\"student_a == student_b = \", student_a == student_b)\n",
        "print(\"student_a != student_b = \", student_a != student_b)\n",
        "print(\"student_a >  student_b = \", student_a > student_b)\n",
        "print(\"student_a >= student_b = \", student_a >= student_b)\n",
        "print(\"student_a <  student_b = \", student_a < student_b)\n",
        "print(\"student_a <= student_b = \", student_a <= student_b)"
      ],
      "metadata": {
        "colab": {
          "base_uri": "https://localhost:8080/"
        },
        "id": "F1VVWIteR2sr",
        "outputId": "9a580113-0067-4c5e-8b77-ac481fdcaf09"
      },
      "execution_count": 10,
      "outputs": [
        {
          "output_type": "stream",
          "name": "stdout",
          "text": [
            "student_a == student_b =  False\n",
            "student_a != student_b =  True\n",
            "student_a >  student_b =  False\n",
            "student_a >= student_b =  False\n",
            "student_a <  student_b =  True\n",
            "student_a <= student_b =  True\n"
          ]
        }
      ]
    },
    {
      "cell_type": "markdown",
      "source": [
        "### 클래스 변수와 메소드"
      ],
      "metadata": {
        "id": "0lVUPPo7TuoW"
      }
    },
    {
      "cell_type": "markdown",
      "source": [
        "#### 클래스 변수\n",
        "- class 구문 바로 아래 단계에 변수 선언\n",
        "```python\n",
        "class 클래스 이름:\n",
        "    클래스 변수 = 값\n",
        "```\n",
        "- 클래스 변수에 접근\n",
        "```python\n",
        "클래스 이름.변수 이름\n",
        "```"
      ],
      "metadata": {
        "id": "z1mBR9L8UG68"
      }
    },
    {
      "cell_type": "code",
      "source": [
        "class Student:\n",
        "    count = 0   # 클래스 변수 선언\n",
        "\n",
        "    def __init__(self, name, korean, math, english, science):\n",
        "        # 인스턴스 변수 초기화\n",
        "        self.name = name\n",
        "        self.korean = korean\n",
        "        self.math = math\n",
        "        self.english = english\n",
        "        self.science = science\n",
        "\n",
        "        # 클래스 변수 접근 및 설정\n",
        "        Student.count += 1\n",
        "        print(\"{}번째 학생이 생성되었습니다.\".format(Student.count))\n",
        "\n",
        "# 학생 리스트 선언\n",
        "students = [\n",
        "    Student(\"윤인성\", 87, 98, 88, 95),\n",
        "    Student(\"연하진\", 92, 98, 96, 98),\n",
        "    Student(\"구지연\", 76, 96, 94, 90),\n",
        "    Student(\"나선주\", 98, 92, 96, 92),\n",
        "    Student(\"윤아린\", 95, 98, 98, 98),\n",
        "    Student(\"윤명월\", 64, 88, 92, 92)\n",
        "]\n",
        "\n",
        "print()\n",
        "print(\"현재 생성된 총 학생 수는 {}명입니다.\".format(Student.count))  # 클래스 내부/외부 모두 접근할 때 <클래스 이름.변수 이름>을 사용"
      ],
      "metadata": {
        "colab": {
          "base_uri": "https://localhost:8080/"
        },
        "id": "-DLQdiOISphF",
        "outputId": "3103d72a-6f26-4746-d32b-4bed9b861717"
      },
      "execution_count": 11,
      "outputs": [
        {
          "output_type": "stream",
          "name": "stdout",
          "text": [
            "1번째 학생이 생성되었습니다.\n",
            "2번째 학생이 생성되었습니다.\n",
            "3번째 학생이 생성되었습니다.\n",
            "4번째 학생이 생성되었습니다.\n",
            "5번째 학생이 생성되었습니다.\n",
            "6번째 학생이 생성되었습니다.\n",
            "\n",
            "현재 생성된 총 학생 수는 6명입니다.\n"
          ]
        }
      ]
    },
    {
      "cell_type": "markdown",
      "source": [
        "#### 클래스 함수\n",
        "- 클래스가 가진 함수\n",
        "- '클래스가 가진 기능'이라고 명시적으로 나타냄\n",
        "- @classmethod : **데코레이터**\n",
        "\n",
        "```python\n",
        "class 클래스 이름:\n",
        "    @classmethod\n",
        "    def 클래스 함수(cls, 매개변수):\n",
        "        pass\n",
        "```\n",
        "\n",
        "- 첫 번째 매개변수로 클래스 자체가 들어옴\n",
        "- 일반적으로 cls(그냥 '클래스'라고 읽음)라는 이름의 변수로 선언\n",
        "- 클래스 함수 호출\n",
        "```\n",
        "클래스 이름.함수 이름(매개변수)\n",
        "```"
      ],
      "metadata": {
        "id": "U4NmSmYzV3km"
      }
    },
    {
      "cell_type": "code",
      "source": [
        "class Student:\n",
        "    # 클래스 변수\n",
        "    count = 0\n",
        "    students = []\n",
        "\n",
        "    # 클래스 함수\n",
        "    @classmethod\n",
        "    def print(cls):  # student 클래스에 print() 함수 구현\n",
        "        print(\"------ 학생 목록 ------\")\n",
        "        print(\"이름\\t총점\\t평균\")\n",
        "        for student in cls.students:  # student.students라 해도 무방하나, 여기서는 cls.students 활용\n",
        "            print(str(student))\n",
        "        print(\"------- ------- -------\")\n",
        "\n",
        "    # 인스턴스 함수\n",
        "    def __init__(self, name, korean, math, english, science):\n",
        "        self.name = name\n",
        "        self.korean = korean\n",
        "        self.math = math\n",
        "        self.english = english\n",
        "        self.science = science\n",
        "        Student.count += 1\n",
        "        Student.students.append(self)\n",
        "\n",
        "    def get_sum(self):\n",
        "        return self.korean + self.math + self.english + self.science\n",
        "\n",
        "    def get_average(self):\n",
        "        return self.get_sum() / 4\n",
        "\n",
        "    def __str__(self):\n",
        "        return \"{}\\t{}\\t{}\".format(\\\n",
        "                                   self.name,\\\n",
        "                                   self.get_sum(),\\\n",
        "                                   self.get_average())\n",
        "\n",
        "# 학생 리스트 선언\n",
        "Student(\"윤인성\", 87, 98, 88, 95)\n",
        "Student(\"연하진\", 92, 98, 96, 98)\n",
        "Student(\"구지연\", 76, 96, 94, 90)\n",
        "Student(\"나선주\", 98, 92, 96, 92)\n",
        "Student(\"윤아린\", 95, 98, 98, 98)\n",
        "Student(\"윤명월\", 64, 88, 92, 92)\n",
        "Student(\"김미화\", 82, 86, 98, 88)\n",
        "Student(\"김연화\", 88, 74, 78, 92)\n",
        "Student(\"박아현\", 97, 92, 88, 95)\n",
        "Student(\"서준서\", 45, 52, 72, 78)\n",
        "\n",
        "Student.print()\n"
      ],
      "metadata": {
        "colab": {
          "base_uri": "https://localhost:8080/"
        },
        "id": "6hBMVyvpVCIi",
        "outputId": "da72839c-fd8d-469a-857d-109d981c72bd"
      },
      "execution_count": 1,
      "outputs": [
        {
          "output_type": "stream",
          "name": "stdout",
          "text": [
            "------ 학생 목록 ------\n",
            "이름\t총점\t평균\n",
            "윤인성\t368\t92.0\n",
            "연하진\t384\t96.0\n",
            "구지연\t356\t89.0\n",
            "나선주\t378\t94.5\n",
            "윤아린\t389\t97.25\n",
            "윤명월\t336\t84.0\n",
            "김미화\t354\t88.5\n",
            "김연화\t332\t83.0\n",
            "박아현\t372\t93.0\n",
            "서준서\t247\t61.75\n",
            "------- ------- -------\n"
          ]
        }
      ]
    },
    {
      "cell_type": "markdown",
      "source": [
        "### [more] 가비지 컬렉터"
      ],
      "metadata": {
        "id": "L0KB7jlrSQbg"
      }
    },
    {
      "cell_type": "markdown",
      "source": [
        "#### 1. 변수에 저장하지 않은 경우"
      ],
      "metadata": {
        "id": "3rYrAXRNSWRt"
      }
    },
    {
      "cell_type": "code",
      "source": [
        "class Test:\n",
        "    def __init__(self, name):\n",
        "        self.name = name\n",
        "        print(\"{} - 생성되었습니다.\".format(self.name))\n",
        "    def __del__(self):\n",
        "        print(\"{} - 파괴되었습니다.\".format(self.name))\n",
        "\n",
        "Test(\"A\")\n",
        "Test(\"B\")\n",
        "Test(\"C\")"
      ],
      "metadata": {
        "colab": {
          "base_uri": "https://localhost:8080/"
        },
        "id": "hHcEE6s7PkGQ",
        "outputId": "f7f7daac-231c-4324-e2bd-e8d0f49222d2"
      },
      "execution_count": 3,
      "outputs": [
        {
          "output_type": "stream",
          "name": "stdout",
          "text": [
            "A - 생성되었습니다.\n",
            "A - 파괴되었습니다.\n",
            "B - 생성되었습니다.\n",
            "B - 파괴되었습니다.\n",
            "C - 생성되었습니다.\n"
          ]
        },
        {
          "output_type": "execute_result",
          "data": {
            "text/plain": [
              "<__main__.Test at 0x790ac6e91c00>"
            ]
          },
          "metadata": {},
          "execution_count": 3
        }
      ]
    },
    {
      "cell_type": "markdown",
      "source": [
        "#### 2. 변수에 저장한 경우\n",
        "\n",
        "- 가비지 컬렉터가 프로그램이 종료되는 순간까지 데이터를 메모리에서 제거하지 않음"
      ],
      "metadata": {
        "id": "C0kKM3_xSvBV"
      }
    },
    {
      "cell_type": "code",
      "source": [
        "class Test:\n",
        "    def __init__(self, name):\n",
        "        self.name = name\n",
        "        print(\"{} - 생성되었습니다.\".format(self.name))\n",
        "    def __del__(self):\n",
        "        print(\"{} - 파괴되었습니다.\".format(self.name))\n",
        "\n",
        "a = Test(\"A\")\n",
        "b = Test(\"B\")\n",
        "c = Test(\"C\")"
      ],
      "metadata": {
        "colab": {
          "base_uri": "https://localhost:8080/"
        },
        "id": "gnIPzmpmSlfv",
        "outputId": "a9608ee7-9509-4fd0-b195-d9db1d5495b5"
      },
      "execution_count": 4,
      "outputs": [
        {
          "output_type": "stream",
          "name": "stdout",
          "text": [
            "A - 생성되었습니다.\n",
            "B - 생성되었습니다.\n",
            "C - 생성되었습니다.\n"
          ]
        }
      ]
    },
    {
      "cell_type": "markdown",
      "source": [
        "### [more] 프라이빗 변수와 게터/세터\n",
        "\n",
        "원의 둘레와 넓이를 구하는 객체 지향 프로그램"
      ],
      "metadata": {
        "id": "_0ythwO3UCug"
      }
    },
    {
      "cell_type": "code",
      "source": [
        "import math\n",
        "\n",
        "class Circle:\n",
        "    def __init__(self, radius):\n",
        "        self.radius = radius\n",
        "    def get_circumference(self):\n",
        "        return 2 * math.pi * self.radius\n",
        "    def get_area(self):\n",
        "        return math.pi * (self.radius ** 2)\n",
        "\n",
        "# 원의 둘레와 넓이 구하기\n",
        "circle = Circle(10)\n",
        "print(\"원의 둘레: \", circle.get_circumference())\n",
        "print(\"원의 넓이: \", circle.get_area())"
      ],
      "metadata": {
        "colab": {
          "base_uri": "https://localhost:8080/"
        },
        "id": "DFEcGV2VS9_b",
        "outputId": "c61c1d48-5802-4c88-84e5-6045644d0d1f"
      },
      "execution_count": 5,
      "outputs": [
        {
          "output_type": "stream",
          "name": "stdout",
          "text": [
            "원의 둘레:  62.83185307179586\n",
            "원의 넓이:  314.1592653589793\n"
          ]
        }
      ]
    },
    {
      "cell_type": "code",
      "source": [
        "circle = Circle(10)\n",
        "circle.radius = -2\n",
        "print(\"원의 둘레: \", circle.get_circumference())\n",
        "print(\"원의 넓이: \", circle.get_area())"
      ],
      "metadata": {
        "colab": {
          "base_uri": "https://localhost:8080/"
        },
        "id": "QxbgtTtEUqe6",
        "outputId": "52c3a69d-7fa2-422a-a1d1-aa5078979245"
      },
      "execution_count": 6,
      "outputs": [
        {
          "output_type": "stream",
          "name": "stdout",
          "text": [
            "원의 둘레:  -12.566370614359172\n",
            "원의 넓이:  12.566370614359172\n"
          ]
        }
      ]
    },
    {
      "cell_type": "markdown",
      "source": [
        "- 위의 경우처럼 Circle 클래스의 radius(반지름) 속성에 음수를 넣으면 원의 넓이는 제곱해서 괜찮지만, 둘레는 음수값 나옴(NO!!!!)\n",
        "    - 길이를 음수로 넣는 것을 막는 방법 필요!"
      ],
      "metadata": {
        "id": "VxR0OVIFUz02"
      }
    },
    {
      "cell_type": "markdown",
      "source": [
        "#### 프라이빗 변수\n",
        "- 클래스 내부의 변수를 외부에서 사용하는 것을 막고싶을 때 사용\n",
        "- 선언 형태: ```__<변수 이름>```\n",
        "- 클래스 외부에서 사용하려 할 때 그런 속성은 없다는 오류 출력(AttributeError)"
      ],
      "metadata": {
        "id": "x2WYSMypVArY"
      }
    },
    {
      "cell_type": "code",
      "source": [
        "import math\n",
        "\n",
        "class Circle:\n",
        "    def __init__(self, radius):\n",
        "        self.__radius = radius\n",
        "    def get_circumference(self):\n",
        "        return 2 * math.pi * self.__radius\n",
        "    def get_area(self):\n",
        "        return math.pi * (self.__radius ** 2)\n",
        "\n",
        "# 원의 둘레와 넓이 구하기\n",
        "circle = Circle(10)\n",
        "print(\"# 원의 둘레와 넓이를 구합니다.\")\n",
        "print(\"원의 둘레: \", circle.get_circumference())\n",
        "print(\"원의 넓이: \", circle.get_area())\n",
        "print()\n",
        "\n",
        "# __radius 접근\n",
        "print(\"# __radius에 접근합니다.\")\n",
        "print(circle.__radius)"
      ],
      "metadata": {
        "colab": {
          "base_uri": "https://localhost:8080/",
          "height": 315
        },
        "id": "-JOXYKqtUyar",
        "outputId": "15d00a00-374f-4513-85a7-0c79542b744c"
      },
      "execution_count": 7,
      "outputs": [
        {
          "output_type": "stream",
          "name": "stdout",
          "text": [
            "# 원의 둘레와 넓이를 구합니다.\n",
            "원의 둘레:  62.83185307179586\n",
            "원의 넓이:  314.1592653589793\n",
            "\n",
            "# __radius에 접근합니다.\n"
          ]
        },
        {
          "output_type": "error",
          "ename": "AttributeError",
          "evalue": "ignored",
          "traceback": [
            "\u001b[0;31m---------------------------------------------------------------------------\u001b[0m",
            "\u001b[0;31mAttributeError\u001b[0m                            Traceback (most recent call last)",
            "\u001b[0;32m<ipython-input-7-4781e01051fb>\u001b[0m in \u001b[0;36m<cell line: 20>\u001b[0;34m()\u001b[0m\n\u001b[1;32m     18\u001b[0m \u001b[0;31m# __radius 접근\u001b[0m\u001b[0;34m\u001b[0m\u001b[0;34m\u001b[0m\u001b[0m\n\u001b[1;32m     19\u001b[0m \u001b[0mprint\u001b[0m\u001b[0;34m(\u001b[0m\u001b[0;34m\"# __radius에 접근합니다.\"\u001b[0m\u001b[0;34m)\u001b[0m\u001b[0;34m\u001b[0m\u001b[0;34m\u001b[0m\u001b[0m\n\u001b[0;32m---> 20\u001b[0;31m \u001b[0mprint\u001b[0m\u001b[0;34m(\u001b[0m\u001b[0mcircle\u001b[0m\u001b[0;34m.\u001b[0m\u001b[0m__radius\u001b[0m\u001b[0;34m)\u001b[0m\u001b[0;34m\u001b[0m\u001b[0;34m\u001b[0m\u001b[0m\n\u001b[0m",
            "\u001b[0;31mAttributeError\u001b[0m: 'Circle' object has no attribute '__radius'"
          ]
        }
      ]
    },
    {
      "cell_type": "markdown",
      "source": [
        "#### 게터 & 세터\n",
        "\n",
        "- 프라이빗 변수 값을 추출하거나 변경할 목적으로, 간접적으로 속성에 접근하도록 해주는 함수\n",
        "- 게터를 만들어야만 세터를 사용할 수 있음 주의"
      ],
      "metadata": {
        "id": "Jvv9oYsdVz4D"
      }
    },
    {
      "cell_type": "code",
      "source": [
        "import math\n",
        "\n",
        "class Circle:\n",
        "    def __init__(self, radius):\n",
        "        self.__radius = radius\n",
        "    def get_circumference(self):\n",
        "        return 2 * math.pi * self.__radius\n",
        "    def get_area(self):\n",
        "        return math.pi * (self.__radius ** 2)\n",
        "\n",
        "    # 게터 & 세터 선언\n",
        "    def get_radius(self):\n",
        "        return self.__radius\n",
        "    def set_radius(self, value):\n",
        "        if value <= 0:\n",
        "            raise TypeError(\"길이는 양의 숫자여야 합니다.\")  # __radius 할당값을 양의 숫자로만 한정\n",
        "        self.__radius = value\n",
        "\n",
        "# 원의 둘레와 넓이 구하기\n",
        "circle = Circle(10)\n",
        "print(\"# 원의 둘레와 넓이를 구합니다.\")\n",
        "print(\"원의 둘레: \", circle.get_circumference())\n",
        "print(\"원의 넓이: \", circle.get_area())\n",
        "print()\n",
        "\n",
        "# 간접적으로 __radius 접근\n",
        "print(\"# __radius에 접근합니다.\")\n",
        "print(circle.get_radius())\n",
        "print()\n",
        "\n",
        "# 원의 둘레와 넓이 구하기\n",
        "circle.set_radius(2)\n",
        "print(\"# 반지름을 변경하고 원의 둘레와 넓이를 구합니다.\")\n",
        "print(\"원의 둘레: \", circle.get_circumference())\n",
        "print(\"원의 넓이: \", circle.get_area())\n",
        "\n",
        "# 원의 둘레와 넓이 구하기\n",
        "circle.set_radius(-3)\n",
        "print(\"# 반지름을 변경하고 원의 둘레와 넓이를 구합니다.\")\n",
        "print(\"원의 둘레: \", circle.get_circumference())\n",
        "print(\"원의 넓이: \", circle.get_area())"
      ],
      "metadata": {
        "colab": {
          "base_uri": "https://localhost:8080/",
          "height": 572
        },
        "id": "QYKBGHRJVoWc",
        "outputId": "6eaba1d6-a6b7-4e2e-d61b-6fff2ed1e105"
      },
      "execution_count": 9,
      "outputs": [
        {
          "output_type": "stream",
          "name": "stdout",
          "text": [
            "# 원의 둘레와 넓이를 구합니다.\n",
            "원의 둘레:  62.83185307179586\n",
            "원의 넓이:  314.1592653589793\n",
            "\n",
            "# __radius에 접근합니다.\n",
            "10\n",
            "\n",
            "# 반지름을 변경하고 원의 둘레와 넓이를 구합니다.\n",
            "원의 둘레:  12.566370614359172\n",
            "원의 넓이:  12.566370614359172\n"
          ]
        },
        {
          "output_type": "error",
          "ename": "TypeError",
          "evalue": "ignored",
          "traceback": [
            "\u001b[0;31m---------------------------------------------------------------------------\u001b[0m",
            "\u001b[0;31mTypeError\u001b[0m                                 Traceback (most recent call last)",
            "\u001b[0;32m<ipython-input-9-1eed65a89622>\u001b[0m in \u001b[0;36m<cell line: 38>\u001b[0;34m()\u001b[0m\n\u001b[1;32m     36\u001b[0m \u001b[0;34m\u001b[0m\u001b[0m\n\u001b[1;32m     37\u001b[0m \u001b[0;31m# 원의 둘레와 넓이 구하기\u001b[0m\u001b[0;34m\u001b[0m\u001b[0;34m\u001b[0m\u001b[0m\n\u001b[0;32m---> 38\u001b[0;31m \u001b[0mcircle\u001b[0m\u001b[0;34m.\u001b[0m\u001b[0mset_radius\u001b[0m\u001b[0;34m(\u001b[0m\u001b[0;34m-\u001b[0m\u001b[0;36m3\u001b[0m\u001b[0;34m)\u001b[0m\u001b[0;34m\u001b[0m\u001b[0;34m\u001b[0m\u001b[0m\n\u001b[0m\u001b[1;32m     39\u001b[0m \u001b[0mprint\u001b[0m\u001b[0;34m(\u001b[0m\u001b[0;34m\"# 반지름을 변경하고 원의 둘레와 넓이를 구합니다.\"\u001b[0m\u001b[0;34m)\u001b[0m\u001b[0;34m\u001b[0m\u001b[0;34m\u001b[0m\u001b[0m\n\u001b[1;32m     40\u001b[0m \u001b[0mprint\u001b[0m\u001b[0;34m(\u001b[0m\u001b[0;34m\"원의 둘레: \"\u001b[0m\u001b[0;34m,\u001b[0m \u001b[0mcircle\u001b[0m\u001b[0;34m.\u001b[0m\u001b[0mget_circumference\u001b[0m\u001b[0;34m(\u001b[0m\u001b[0;34m)\u001b[0m\u001b[0;34m)\u001b[0m\u001b[0;34m\u001b[0m\u001b[0;34m\u001b[0m\u001b[0m\n",
            "\u001b[0;32m<ipython-input-9-1eed65a89622>\u001b[0m in \u001b[0;36mset_radius\u001b[0;34m(self, value)\u001b[0m\n\u001b[1;32m     14\u001b[0m     \u001b[0;32mdef\u001b[0m \u001b[0mset_radius\u001b[0m\u001b[0;34m(\u001b[0m\u001b[0mself\u001b[0m\u001b[0;34m,\u001b[0m \u001b[0mvalue\u001b[0m\u001b[0;34m)\u001b[0m\u001b[0;34m:\u001b[0m\u001b[0;34m\u001b[0m\u001b[0;34m\u001b[0m\u001b[0m\n\u001b[1;32m     15\u001b[0m         \u001b[0;32mif\u001b[0m \u001b[0mvalue\u001b[0m \u001b[0;34m<=\u001b[0m \u001b[0;36m0\u001b[0m\u001b[0;34m:\u001b[0m\u001b[0;34m\u001b[0m\u001b[0;34m\u001b[0m\u001b[0m\n\u001b[0;32m---> 16\u001b[0;31m             \u001b[0;32mraise\u001b[0m \u001b[0mTypeError\u001b[0m\u001b[0;34m(\u001b[0m\u001b[0;34m\"길이는 양의 숫자여야 합니다.\"\u001b[0m\u001b[0;34m)\u001b[0m\u001b[0;34m\u001b[0m\u001b[0;34m\u001b[0m\u001b[0m\n\u001b[0m\u001b[1;32m     17\u001b[0m         \u001b[0mself\u001b[0m\u001b[0;34m.\u001b[0m\u001b[0m__radius\u001b[0m \u001b[0;34m=\u001b[0m \u001b[0mvalue\u001b[0m\u001b[0;34m\u001b[0m\u001b[0;34m\u001b[0m\u001b[0m\n\u001b[1;32m     18\u001b[0m \u001b[0;34m\u001b[0m\u001b[0m\n",
            "\u001b[0;31mTypeError\u001b[0m: 길이는 양의 숫자여야 합니다."
          ]
        }
      ]
    },
    {
      "cell_type": "markdown",
      "source": [
        "#### 데코레이터를 사용한 게터와 세터\n",
        "변수 이름과 같은 함수 정의하고, 위에 ```@property```와 ```@<게터 함수 이름>.setter``` 라는 데코레이터 붙이기"
      ],
      "metadata": {
        "id": "8MeV4phNW-rp"
      }
    },
    {
      "cell_type": "code",
      "source": [
        "import math\n",
        "\n",
        "class Circle:\n",
        "    def __init__(self, radius):\n",
        "        self.__radius = radius\n",
        "    def get_circumference(self):\n",
        "        return 2 * math.pi * self.__radius\n",
        "    def get_area(self):\n",
        "        return math.pi * (self.__radius ** 2)\n",
        "\n",
        "    # 게터 & 세터 선언\n",
        "    @property\n",
        "    def radius(self):\n",
        "        return self.__radius\n",
        "    @radius.setter\n",
        "    def radius(self, value):\n",
        "        if value <= 0:\n",
        "            raise TypeError(\"길이는 양의 숫자여야 합니다.\")\n",
        "        self.__radius = value\n",
        "\n",
        "\n",
        "# 원의 둘레와 넓이를 구합니다.\n",
        "print(\"# 데코레이터를 사용한 Getter와 Setter\")\n",
        "circle = Circle(10)\n",
        "print(\"기존 원의 반지름: \", circle.radius)\n",
        "circle.radius = 2\n",
        "print(\"변경된 원의 반지름: \", circle.radius)\n",
        "print()\n",
        "\n",
        "# 강제 예외 발생\n",
        "print(\"# 강제로 예외를 발생시킵니다.\")\n",
        "circle.radius = -10"
      ],
      "metadata": {
        "colab": {
          "base_uri": "https://localhost:8080/",
          "height": 443
        },
        "id": "miFI4rioWhdQ",
        "outputId": "03e3426d-23bb-4829-f6c0-9686581832fe"
      },
      "execution_count": 10,
      "outputs": [
        {
          "output_type": "stream",
          "name": "stdout",
          "text": [
            "# 데코레이터를 사용한 Getter와 Setter\n",
            "기존 원의 반지름:  10\n",
            "변경된 원의 반지름:  2\n",
            "\n",
            "# 강제로 예외를 발생시킵니다.\n"
          ]
        },
        {
          "output_type": "error",
          "ename": "TypeError",
          "evalue": "ignored",
          "traceback": [
            "\u001b[0;31m---------------------------------------------------------------------------\u001b[0m",
            "\u001b[0;31mTypeError\u001b[0m                                 Traceback (most recent call last)",
            "\u001b[0;32m<ipython-input-10-7b0783bf2f2c>\u001b[0m in \u001b[0;36m<cell line: 32>\u001b[0;34m()\u001b[0m\n\u001b[1;32m     30\u001b[0m \u001b[0;31m# 강제 예외 발생\u001b[0m\u001b[0;34m\u001b[0m\u001b[0;34m\u001b[0m\u001b[0m\n\u001b[1;32m     31\u001b[0m \u001b[0mprint\u001b[0m\u001b[0;34m(\u001b[0m\u001b[0;34m\"# 강제로 예외를 발생시킵니다.\"\u001b[0m\u001b[0;34m)\u001b[0m\u001b[0;34m\u001b[0m\u001b[0;34m\u001b[0m\u001b[0m\n\u001b[0;32m---> 32\u001b[0;31m \u001b[0mcircle\u001b[0m\u001b[0;34m.\u001b[0m\u001b[0mradius\u001b[0m \u001b[0;34m=\u001b[0m \u001b[0;34m-\u001b[0m\u001b[0;36m10\u001b[0m\u001b[0;34m\u001b[0m\u001b[0;34m\u001b[0m\u001b[0m\n\u001b[0m",
            "\u001b[0;32m<ipython-input-10-7b0783bf2f2c>\u001b[0m in \u001b[0;36mradius\u001b[0;34m(self, value)\u001b[0m\n\u001b[1;32m     16\u001b[0m     \u001b[0;32mdef\u001b[0m \u001b[0mradius\u001b[0m\u001b[0;34m(\u001b[0m\u001b[0mself\u001b[0m\u001b[0;34m,\u001b[0m \u001b[0mvalue\u001b[0m\u001b[0;34m)\u001b[0m\u001b[0;34m:\u001b[0m\u001b[0;34m\u001b[0m\u001b[0;34m\u001b[0m\u001b[0m\n\u001b[1;32m     17\u001b[0m         \u001b[0;32mif\u001b[0m \u001b[0mvalue\u001b[0m \u001b[0;34m<=\u001b[0m \u001b[0;36m0\u001b[0m\u001b[0;34m:\u001b[0m\u001b[0;34m\u001b[0m\u001b[0;34m\u001b[0m\u001b[0m\n\u001b[0;32m---> 18\u001b[0;31m             \u001b[0;32mraise\u001b[0m \u001b[0mTypeError\u001b[0m\u001b[0;34m(\u001b[0m\u001b[0;34m\"길이는 양의 숫자여야 합니다.\"\u001b[0m\u001b[0;34m)\u001b[0m\u001b[0;34m\u001b[0m\u001b[0;34m\u001b[0m\u001b[0m\n\u001b[0m\u001b[1;32m     19\u001b[0m         \u001b[0mself\u001b[0m\u001b[0;34m.\u001b[0m\u001b[0m__radius\u001b[0m \u001b[0;34m=\u001b[0m \u001b[0mvalue\u001b[0m\u001b[0;34m\u001b[0m\u001b[0;34m\u001b[0m\u001b[0m\n\u001b[1;32m     20\u001b[0m \u001b[0;34m\u001b[0m\u001b[0m\n",
            "\u001b[0;31mTypeError\u001b[0m: 길이는 양의 숫자여야 합니다."
          ]
        }
      ]
    },
    {
      "cell_type": "markdown",
      "source": [
        "### [more] 상속(ingeritance)"
      ],
      "metadata": {
        "id": "V31jIXskYHKB"
      }
    },
    {
      "cell_type": "code",
      "source": [
        "# 부모 클래스 선언\n",
        "class Parent:\n",
        "    def __init__(self):\n",
        "        self.value = \"테스트\"\n",
        "        print(\"Parent 클래스의 __init()__ 메소드가 호출되었습니다.\")\n",
        "    def test(self):\n",
        "        print(\"Parent 클래스의 test() 메소드입니다.\")\n",
        "\n",
        "# 자식 클래스 선언\n",
        "class Child(Parent):\n",
        "    def __init__(self):\n",
        "        super().__init__()  # 부모의 __init__() 함수 호출\n",
        "        print(\"Child 클래스의 __init()__ 메소드가 호출되었습니다.\")\n",
        "\n",
        "# 자식 클래스의 인스턴스 생성하고 부모 메소드 호출\n",
        "child = Child()\n",
        "child.test()\n",
        "print(child.value)"
      ],
      "metadata": {
        "colab": {
          "base_uri": "https://localhost:8080/"
        },
        "id": "MOJfQrgGX6Vq",
        "outputId": "d28776e3-ff45-4ae9-b60b-50f325d7d01a"
      },
      "execution_count": 11,
      "outputs": [
        {
          "output_type": "stream",
          "name": "stdout",
          "text": [
            "Parent 클래스의 __init()__ 메소드가 호출되었습니다.\n",
            "Child 클래스의 __init()__ 메소드가 호출되었습니다.\n",
            "Parent 클래스의 test() 메소드입니다.\n",
            "테스트\n"
          ]
        }
      ]
    },
    {
      "cell_type": "markdown",
      "source": [
        "#### 예외 클래스 만들기\n",
        "\n",
        "- Exception 을 수정해 CustomException 클래스 만들기"
      ],
      "metadata": {
        "id": "G_DLXAQ9bfrr"
      }
    },
    {
      "cell_type": "code",
      "source": [
        "class CustomException(Exception):\n",
        "    def __init__(self):\n",
        "        super().__init__()\n",
        "\n",
        "raise CustomException"
      ],
      "metadata": {
        "colab": {
          "base_uri": "https://localhost:8080/",
          "height": 223
        },
        "id": "mIGqLczCY2DT",
        "outputId": "3a4b8a78-4a3e-403f-d9c2-3d19669211bb"
      },
      "execution_count": 13,
      "outputs": [
        {
          "output_type": "error",
          "ename": "CustomException",
          "evalue": "ignored",
          "traceback": [
            "\u001b[0;31m---------------------------------------------------------------------------\u001b[0m",
            "\u001b[0;31mCustomException\u001b[0m                           Traceback (most recent call last)",
            "\u001b[0;32m<ipython-input-13-a6344edb1dd0>\u001b[0m in \u001b[0;36m<cell line: 5>\u001b[0;34m()\u001b[0m\n\u001b[1;32m      3\u001b[0m         \u001b[0msuper\u001b[0m\u001b[0;34m(\u001b[0m\u001b[0;34m)\u001b[0m\u001b[0;34m.\u001b[0m\u001b[0m__init__\u001b[0m\u001b[0;34m(\u001b[0m\u001b[0;34m)\u001b[0m\u001b[0;34m\u001b[0m\u001b[0;34m\u001b[0m\u001b[0m\n\u001b[1;32m      4\u001b[0m \u001b[0;34m\u001b[0m\u001b[0m\n\u001b[0;32m----> 5\u001b[0;31m \u001b[0;32mraise\u001b[0m \u001b[0mCustomException\u001b[0m\u001b[0;34m\u001b[0m\u001b[0;34m\u001b[0m\u001b[0m\n\u001b[0m",
            "\u001b[0;31mCustomException\u001b[0m: "
          ]
        }
      ]
    },
    {
      "cell_type": "markdown",
      "source": [
        "#### 부모 함수 재정의(오버라이드)\n",
        "\n",
        "- ```__str__()``` 함수는 부모(Exception 클래스)에도 정의되어 있음\n",
        "- 부모에 정의되어 있는 함수를 자식에서 다시 정의하는 것이 **재정의** 또는 **오버라이드(override)**"
      ],
      "metadata": {
        "id": "IziZ9vZWb8Ol"
      }
    },
    {
      "cell_type": "code",
      "source": [
        "class CustomException(Exception):\n",
        "    def __init__(self):\n",
        "        super().__init__()\n",
        "        print(\"### 내가 만든 오류가 생성되었어요! ###\")\n",
        "    def __str__(self):\n",
        "        return \"오류가 발생했어요!\"\n",
        "\n",
        "raise CustomException"
      ],
      "metadata": {
        "colab": {
          "base_uri": "https://localhost:8080/",
          "height": 241
        },
        "id": "qSoLJNedbulG",
        "outputId": "7cb5cd96-cfb5-4a19-fc34-6ea24910214b"
      },
      "execution_count": 14,
      "outputs": [
        {
          "output_type": "stream",
          "name": "stdout",
          "text": [
            "### 내가 만든 오류가 생성되었어요! ###\n"
          ]
        },
        {
          "output_type": "error",
          "ename": "CustomException",
          "evalue": "ignored",
          "traceback": [
            "\u001b[0;31m---------------------------------------------------------------------------\u001b[0m",
            "\u001b[0;31mCustomException\u001b[0m                           Traceback (most recent call last)",
            "\u001b[0;32m<ipython-input-14-b4a0a709c857>\u001b[0m in \u001b[0;36m<cell line: 8>\u001b[0;34m()\u001b[0m\n\u001b[1;32m      6\u001b[0m         \u001b[0;32mreturn\u001b[0m \u001b[0;34m\"오류가 발생했어요!\"\u001b[0m\u001b[0;34m\u001b[0m\u001b[0;34m\u001b[0m\u001b[0m\n\u001b[1;32m      7\u001b[0m \u001b[0;34m\u001b[0m\u001b[0m\n\u001b[0;32m----> 8\u001b[0;31m \u001b[0;32mraise\u001b[0m \u001b[0mCustomException\u001b[0m\u001b[0;34m\u001b[0m\u001b[0;34m\u001b[0m\u001b[0m\n\u001b[0m",
            "\u001b[0;31mCustomException\u001b[0m: 오류가 발생했어요!"
          ]
        }
      ]
    },
    {
      "cell_type": "markdown",
      "source": [
        "#### 부모에 없는 새로운 함수 정의"
      ],
      "metadata": {
        "id": "Mo28wQ0vcj3u"
      }
    },
    {
      "cell_type": "code",
      "source": [
        "class CustomException(Exception):\n",
        "    def __init__(self, message, value):\n",
        "        super().__init__()\n",
        "        self.message = message\n",
        "        self.value = value\n",
        "\n",
        "    def __str__(self):\n",
        "        return self.meesage\n",
        "\n",
        "    def print(self):\n",
        "        print(\"### 오류 정보 ###\")\n",
        "        print(\"메시지: \", self.message)\n",
        "        print(\"값: \", self.value)\n",
        "\n",
        "# 예외 발생시키기\n",
        "try:\n",
        "    raise CustomException(\"딱히 이유 없음\", 273)\n",
        "except CustomException as e:\n",
        "    e.print()"
      ],
      "metadata": {
        "colab": {
          "base_uri": "https://localhost:8080/"
        },
        "id": "yKBpFmtZcPI2",
        "outputId": "90d6f876-dffb-460b-b395-cff5e288ff73"
      },
      "execution_count": 15,
      "outputs": [
        {
          "output_type": "stream",
          "name": "stdout",
          "text": [
            "### 오류 정보 ###\n",
            "메시지:  딱히 이유 없음\n",
            "값:  273\n"
          ]
        }
      ]
    },
    {
      "cell_type": "markdown",
      "source": [
        "## 도전문제"
      ],
      "metadata": {
        "id": "dkoSZznReBkd"
      }
    },
    {
      "cell_type": "markdown",
      "source": [
        "### 1. StudentList 클래스 구현"
      ],
      "metadata": {
        "id": "gOWr5Ce9eDiV"
      }
    },
    {
      "cell_type": "code",
      "source": [
        "class Student:\n",
        "    def __init__(self, name, score):\n",
        "        self.name = name\n",
        "        self.score = score\n",
        "\n",
        "class StudentList:\n",
        "    def __init__(self):\n",
        "        # 구성 사용\n",
        "        self.students = []\n",
        "    def append(self, student):\n",
        "        self.students.append(student)\n",
        "    def get_average(self):\n",
        "        return sum([ student.score for student in self.students]) / len(self.students)\n",
        "    def get_first_by_score(self):\n",
        "        return max(self.students, key = lambda x: x.score)\n",
        "    def get_last_by_score(self):\n",
        "        return min(self.students, key = lambda x: x.score)\n",
        "\n",
        "students = StudentList()\n",
        "students.append(Student(\"구름\", 100))\n",
        "students.append(Student(\"별\", 49))\n",
        "students.append(Student(\"초코\", 81))\n",
        "students.append(Student(\"아지\", 90))\n",
        "\n",
        "print(f\"학급의 평균 점수는 {students.get_average()}점 입니다.\")\n",
        "print(f\"가장 성적이 높은 학생은 {students.get_first_by_score().name}입니다.\")\n",
        "print(f\"가장 성적이 낮은 학생은 {students.get_last_by_score().name}입니다.\")"
      ],
      "metadata": {
        "colab": {
          "base_uri": "https://localhost:8080/"
        },
        "id": "FUwBfkfOdEH5",
        "outputId": "0aa02219-c328-42d4-8184-9aeb9ae634f8"
      },
      "execution_count": 16,
      "outputs": [
        {
          "output_type": "stream",
          "name": "stdout",
          "text": [
            "학급의 평균 점수는 80.0점 입니다.\n",
            "가장 성적이 높은 학생은 구름입니다.\n",
            "가장 성적이 낮은 학생은 별입니다.\n"
          ]
        }
      ]
    },
    {
      "cell_type": "markdown",
      "source": [
        "### 2. 스택(Stack) 구현"
      ],
      "metadata": {
        "id": "V30d3VDTgCK6"
      }
    },
    {
      "cell_type": "code",
      "source": [
        "class Stack:\n",
        "    def __init__(self):\n",
        "        self.list = []\n",
        "    def push(self, item):\n",
        "        self.list.append(item)\n",
        "    def pop(self):\n",
        "        return self.list.pop()\n",
        "\n",
        "stack = Stack()\n",
        "stack.push(10)\n",
        "stack.push(20)\n",
        "stack.push(30)\n",
        "\n",
        "print(stack.pop())\n",
        "print(stack.pop())\n",
        "print(stack.pop())"
      ],
      "metadata": {
        "colab": {
          "base_uri": "https://localhost:8080/"
        },
        "id": "odXoAzepf8hO",
        "outputId": "50cf7a08-2826-41ca-9bc6-00a416b4055c"
      },
      "execution_count": 17,
      "outputs": [
        {
          "output_type": "stream",
          "name": "stdout",
          "text": [
            "30\n",
            "20\n",
            "10\n"
          ]
        }
      ]
    },
    {
      "cell_type": "markdown",
      "source": [
        "### 3. 큐(Queue) 구현"
      ],
      "metadata": {
        "id": "e64gHqR-gw_F"
      }
    },
    {
      "cell_type": "code",
      "source": [
        "class Queue:\n",
        "    def __init__(self):\n",
        "        self.list = []\n",
        "    def enqueue(self, item):\n",
        "        self.list.append(item)\n",
        "    def dequeue(self):\n",
        "        return self.list.pop(0)\n",
        "\n",
        "queue = Queue()\n",
        "queue.enqueue(10)\n",
        "queue.enqueue(20)\n",
        "queue.enqueue(30)\n",
        "\n",
        "print(queue.dequeue())\n",
        "print(queue.dequeue())\n",
        "print(queue.dequeue())"
      ],
      "metadata": {
        "colab": {
          "base_uri": "https://localhost:8080/"
        },
        "id": "1dOmU5nJgutk",
        "outputId": "b3205799-ca3f-45ae-9d5f-9a5ea0702bcb"
      },
      "execution_count": 20,
      "outputs": [
        {
          "output_type": "stream",
          "name": "stdout",
          "text": [
            "10\n",
            "20\n",
            "30\n"
          ]
        }
      ]
    }
  ]
}