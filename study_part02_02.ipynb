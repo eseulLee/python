{
 "cells": [
  {
   "cell_type": "markdown",
   "id": "f389cf51",
   "metadata": {},
   "source": [
    "## if 문\n",
    "- if ~ elif ~ else\n",
    "- 인덴트 주의"
   ]
  },
  {
   "cell_type": "code",
   "execution_count": 2,
   "id": "9bf1b385",
   "metadata": {},
   "outputs": [
    {
     "name": "stdout",
     "output_type": "stream",
     "text": [
      "C 학점\n",
      "공부하자..\n"
     ]
    }
   ],
   "source": [
    "score = 72\n",
    "\n",
    "if score >= 90 :\n",
    "    print(\"A 학점\")\n",
    "    print(\"good job!!!\")\n",
    "elif score >= 80 :\n",
    "    print('B 학점')\n",
    "    print('분발합시다~')\n",
    "elif score >= 70 :\n",
    "    print('C 학점')\n",
    "    print('공부하자..')\n",
    "else :\n",
    "    print('D 학점')\n",
    "    print('TnT')"
   ]
  },
  {
   "cell_type": "markdown",
   "id": "9319c3c4",
   "metadata": {},
   "source": [
    "## for 문"
   ]
  },
  {
   "cell_type": "code",
   "execution_count": 3,
   "id": "71e1e580",
   "metadata": {},
   "outputs": [
    {
     "name": "stdout",
     "output_type": "stream",
     "text": [
      "korean\n",
      "science\n",
      "math\n",
      "english\n"
     ]
    }
   ],
   "source": [
    "subjects = ['korean','science','math','english']\n",
    "\n",
    "for n in subjects :\n",
    "    print(n)"
   ]
  },
  {
   "cell_type": "markdown",
   "id": "1873c4cb",
   "metadata": {},
   "source": [
    "### break : 반복문을 멈추고 밖으로 나가라는 의미의 키워드\n",
    "- if, for, while 에서 모두 사용됨\n"
   ]
  },
  {
   "cell_type": "code",
   "execution_count": 8,
   "id": "04d087b6",
   "metadata": {},
   "outputs": [
    {
     "name": "stdout",
     "output_type": "stream",
     "text": [
      "korean\n",
      "science\n",
      "\n",
      ">>> english 수행되지 않음\n"
     ]
    }
   ],
   "source": [
    "for n in subjects :\n",
    "    if n == 'math' :\n",
    "        break\n",
    "    print(n)\n",
    "\n",
    "print('\\n>>> english 수행되지 않음')"
   ]
  },
  {
   "cell_type": "markdown",
   "id": "b773fa93",
   "metadata": {},
   "source": [
    "### continue : 가던 길을 멈추고 다음 길로 계속 가야 함을 의미 != break"
   ]
  },
  {
   "cell_type": "code",
   "execution_count": 9,
   "id": "8f9404da",
   "metadata": {},
   "outputs": [
    {
     "name": "stdout",
     "output_type": "stream",
     "text": [
      "korean\n",
      "science\n",
      "english\n",
      "\n",
      ">>> english 수행\n"
     ]
    }
   ],
   "source": [
    "for n in subjects :\n",
    "    if n == 'math' :\n",
    "        continue\n",
    "    print(n)\n",
    "    \n",
    "print('\\n>>> english 수행')"
   ]
  },
  {
   "cell_type": "markdown",
   "id": "ee46e45e",
   "metadata": {},
   "source": [
    "## while 문\n",
    "- 조건을 만족하면 무한히 반복해 내용 처리\n",
    "- 조건이 만족ㅎ"
   ]
  },
  {
   "cell_type": "code",
   "execution_count": null,
   "id": "cff236c9",
   "metadata": {},
   "outputs": [],
   "source": []
  },
  {
   "cell_type": "code",
   "execution_count": null,
   "id": "eca51062",
   "metadata": {},
   "outputs": [],
   "source": []
  },
  {
   "cell_type": "code",
   "execution_count": null,
   "id": "e6f74a6a",
   "metadata": {},
   "outputs": [],
   "source": []
  },
  {
   "cell_type": "code",
   "execution_count": null,
   "id": "1b861fcf",
   "metadata": {},
   "outputs": [],
   "source": []
  },
  {
   "cell_type": "code",
   "execution_count": null,
   "id": "b1b28279",
   "metadata": {},
   "outputs": [],
   "source": []
  },
  {
   "cell_type": "code",
   "execution_count": null,
   "id": "68a52048",
   "metadata": {},
   "outputs": [],
   "source": []
  }
 ],
 "metadata": {
  "kernelspec": {
   "display_name": "Python 3 (ipykernel)",
   "language": "python",
   "name": "python3"
  },
  "language_info": {
   "codemirror_mode": {
    "name": "ipython",
    "version": 3
   },
   "file_extension": ".py",
   "mimetype": "text/x-python",
   "name": "python",
   "nbconvert_exporter": "python",
   "pygments_lexer": "ipython3",
   "version": "3.7.13"
  }
 },
 "nbformat": 4,
 "nbformat_minor": 5
}
