{
 "cells": [
  {
   "cell_type": "markdown",
   "id": "398ac0d7",
   "metadata": {},
   "source": [
    "# 2.1 if, for, while"
   ]
  },
  {
   "cell_type": "markdown",
   "id": "0610baa5",
   "metadata": {},
   "source": [
    "## if 문\n",
    "- if ~ elif ~ else\n",
    "- 인덴트 주의"
   ]
  },
  {
   "cell_type": "code",
   "execution_count": 2,
   "id": "0dae1545",
   "metadata": {},
   "outputs": [
    {
     "name": "stdout",
     "output_type": "stream",
     "text": [
      "C 학점\n",
      "공부하자..\n"
     ]
    }
   ],
   "source": [
    "score = 72\n",
    "\n",
    "if score >= 90 :\n",
    "    print(\"A 학점\")\n",
    "    print(\"good job!!!\")\n",
    "elif score >= 80 :\n",
    "    print('B 학점')\n",
    "    print('분발합시다~')\n",
    "elif score >= 70 :\n",
    "    print('C 학점')\n",
    "    print('공부하자..')\n",
    "else :\n",
    "    print('D 학점')\n",
    "    print('TnT')"
   ]
  },
  {
   "cell_type": "markdown",
   "id": "aa90ef27",
   "metadata": {},
   "source": [
    "## for 문"
   ]
  },
  {
   "cell_type": "code",
   "execution_count": 3,
   "id": "9adb9453",
   "metadata": {},
   "outputs": [
    {
     "name": "stdout",
     "output_type": "stream",
     "text": [
      "korean\n",
      "science\n",
      "math\n",
      "english\n"
     ]
    }
   ],
   "source": [
    "subjects = ['korean','science','math','english']\n",
    "\n",
    "for n in subjects :\n",
    "    print(n)"
   ]
  },
  {
   "cell_type": "markdown",
   "id": "805e16eb",
   "metadata": {},
   "source": [
    "### break : 반복문을 멈추고 밖으로 나가라는 의미의 키워드\n",
    "- if, for, while 에서 모두 사용됨\n"
   ]
  },
  {
   "cell_type": "code",
   "execution_count": 8,
   "id": "05977856",
   "metadata": {},
   "outputs": [
    {
     "name": "stdout",
     "output_type": "stream",
     "text": [
      "korean\n",
      "science\n",
      "\n",
      ">>> english 수행되지 않음\n"
     ]
    }
   ],
   "source": [
    "for n in subjects :\n",
    "    if n == 'math' :\n",
    "        break\n",
    "    print(n)\n",
    "\n",
    "print('\\n>>> english 수행되지 않음')"
   ]
  },
  {
   "cell_type": "markdown",
   "id": "519952fe",
   "metadata": {},
   "source": [
    "### continue : 가던 길을 멈추고 다음 길로 계속 가야 함을 의미 != break"
   ]
  },
  {
   "cell_type": "code",
   "execution_count": 9,
   "id": "80fa3cc9",
   "metadata": {},
   "outputs": [
    {
     "name": "stdout",
     "output_type": "stream",
     "text": [
      "korean\n",
      "science\n",
      "english\n",
      "\n",
      ">>> english 수행\n"
     ]
    }
   ],
   "source": [
    "for n in subjects :\n",
    "    if n == 'math' :\n",
    "        continue\n",
    "    print(n)\n",
    "    \n",
    "print('\\n>>> english 수행')"
   ]
  },
  {
   "cell_type": "markdown",
   "id": "6c3393d9",
   "metadata": {},
   "source": [
    "## while 문\n",
    "- 조건을 만족하면 무한히 반복해 내용 처리\n",
    "- 조건이 만족하지 않게 하거나, 반복을 종료시켜야 하는 별도의 조건 필요할 수 있음 주의"
   ]
  },
  {
   "cell_type": "code",
   "execution_count": 10,
   "id": "1534c6d2",
   "metadata": {},
   "outputs": [
    {
     "name": "stdout",
     "output_type": "stream",
     "text": [
      "1\n",
      "2\n",
      "3\n",
      "4\n",
      "5\n",
      "6\n",
      "7\n",
      "8\n",
      "9\n",
      "10\n"
     ]
    }
   ],
   "source": [
    "num = 0\n",
    "\n",
    "while num < 10 :\n",
    "    num += 1\n",
    "    print(num)"
   ]
  },
  {
   "cell_type": "markdown",
   "id": "5c878b14",
   "metadata": {},
   "source": [
    "### while 문에서도 if 문과 비슷하게 else 문 사용 가능\n",
    "- while 문의 조건식이 틀리면 최종적으로 else 문 수행 내용 실행"
   ]
  },
  {
   "cell_type": "code",
   "execution_count": 11,
   "id": "63f05736",
   "metadata": {},
   "outputs": [
    {
     "name": "stdout",
     "output_type": "stream",
     "text": [
      "1\n",
      "2\n",
      "3\n",
      "4\n",
      "5\n",
      "6\n",
      "7\n",
      "8\n",
      "9\n",
      "10\n",
      "끝\n"
     ]
    }
   ],
   "source": [
    "num = 0\n",
    "\n",
    "while num < 10 :\n",
    "    num += 1\n",
    "    print(num)\n",
    "else :\n",
    "    print(\"끝\")"
   ]
  },
  {
   "cell_type": "code",
   "execution_count": 12,
   "id": "52161e18",
   "metadata": {},
   "outputs": [
    {
     "name": "stdout",
     "output_type": "stream",
     "text": [
      "1\n",
      "2\n",
      "3\n",
      "4\n",
      "5\n",
      "6\n",
      "7\n",
      "8\n",
      "9\n",
      "10\n",
      "끝\n"
     ]
    }
   ],
   "source": [
    "num = 0\n",
    "\n",
    "while num < 10 :\n",
    "    num += 1\n",
    "    print(num)\n",
    "print(\"끝\")"
   ]
  },
  {
   "cell_type": "markdown",
   "id": "54828910",
   "metadata": {},
   "source": [
    "## function\n",
    "\n",
    "### 01. 내장 함수\n",
    "- print() : 화면 출력\n",
    "- type()  : 데이터나 변수의 데이터타입 반환\n",
    "- int()   : 정수형 데이터 타입으로 변환\n",
    "- float() : 실수형 데이터 타입으로 변환\n",
    "- str()   : 문자열 데이터 타입으로 변환\n",
    "- sum()   : 값들의 합계 반환\n",
    "- len()   : 길이 구하기\n",
    "- list()  : 새로운 리스트 데이터 타입 생성\n",
    "- tuple() : 새로운 튜플 데이터 타입 생성\n",
    "- dict()  : 새로운 딕셔너리 데이터 타입 생성\n",
    "- round() : 반올림 값 구하기\n",
    "- max()   : 최대값 구하기\n",
    "- min()   : 최소값 구하기\n",
    "- abs()   : 절대값 구하기"
   ]
  },
  {
   "cell_type": "markdown",
   "id": "eb77f029",
   "metadata": {},
   "source": [
    "### 02. 외장 함수\n",
    "- import 사용"
   ]
  },
  {
   "cell_type": "code",
   "execution_count": 13,
   "id": "1d5a9688",
   "metadata": {},
   "outputs": [
    {
     "data": {
      "text/plain": [
       "0.7551327162762964"
      ]
     },
     "execution_count": 13,
     "metadata": {},
     "output_type": "execute_result"
    }
   ],
   "source": [
    "import random\n",
    "random.random()"
   ]
  },
  {
   "cell_type": "markdown",
   "id": "12edc806",
   "metadata": {},
   "source": [
    "### 03. 사용자 정의 함수\n",
    "- def 키워드 사용"
   ]
  },
  {
   "cell_type": "markdown",
   "id": "24849460",
   "metadata": {},
   "source": [
    "1. 매개변수가 없는 경우 함수만 호출하면 일정 값만 출력됨"
   ]
  },
  {
   "cell_type": "code",
   "execution_count": 14,
   "id": "18d6552c",
   "metadata": {},
   "outputs": [],
   "source": [
    "def who() :\n",
    "    print(\"it's me !\")"
   ]
  },
  {
   "cell_type": "code",
   "execution_count": 16,
   "id": "63ecdf36",
   "metadata": {},
   "outputs": [
    {
     "name": "stdout",
     "output_type": "stream",
     "text": [
      "it's me !\n"
     ]
    }
   ],
   "source": [
    "who()  # 매개변수(입력값) 없이 사용"
   ]
  },
  {
   "cell_type": "markdown",
   "id": "5e16cda1",
   "metadata": {},
   "source": [
    "2. return 없이 print 만 있는 경우 : 변수값에 저장되지 않음"
   ]
  },
  {
   "cell_type": "code",
   "execution_count": 18,
   "id": "b559afe6",
   "metadata": {},
   "outputs": [],
   "source": [
    "def my_sqrt(num) :\n",
    "    print( num * num )"
   ]
  },
  {
   "cell_type": "code",
   "execution_count": 19,
   "id": "5c4786c5",
   "metadata": {},
   "outputs": [
    {
     "name": "stdout",
     "output_type": "stream",
     "text": [
      "100\n"
     ]
    }
   ],
   "source": [
    "my_sqrt(10)"
   ]
  },
  {
   "cell_type": "code",
   "execution_count": 20,
   "id": "98beb2b5",
   "metadata": {},
   "outputs": [
    {
     "name": "stdout",
     "output_type": "stream",
     "text": [
      "100\n"
     ]
    }
   ],
   "source": [
    "tmp_ = my_sqrt(10)"
   ]
  },
  {
   "cell_type": "code",
   "execution_count": 21,
   "id": "f07c3d32",
   "metadata": {},
   "outputs": [],
   "source": [
    "tmp_ # 출력값 없음"
   ]
  },
  {
   "cell_type": "markdown",
   "id": "1f26dcc5",
   "metadata": {},
   "source": [
    "3. return 으로 내뱉는 값 설정하여 변수에 값 할당해보기"
   ]
  },
  {
   "cell_type": "code",
   "execution_count": 22,
   "id": "4198fb86",
   "metadata": {},
   "outputs": [],
   "source": [
    "def cubed(num) :\n",
    "    return num*num*num"
   ]
  },
  {
   "cell_type": "code",
   "execution_count": 23,
   "id": "32eaebb2",
   "metadata": {},
   "outputs": [
    {
     "data": {
      "text/plain": [
       "125"
      ]
     },
     "execution_count": 23,
     "metadata": {},
     "output_type": "execute_result"
    }
   ],
   "source": [
    "cubed(5)"
   ]
  },
  {
   "cell_type": "code",
   "execution_count": 24,
   "id": "4467bd0c",
   "metadata": {},
   "outputs": [],
   "source": [
    "tmp_ = cubed(5)"
   ]
  },
  {
   "cell_type": "code",
   "execution_count": 25,
   "id": "46e0d8eb",
   "metadata": {},
   "outputs": [
    {
     "data": {
      "text/plain": [
       "125"
      ]
     },
     "execution_count": 25,
     "metadata": {},
     "output_type": "execute_result"
    }
   ],
   "source": [
    "tmp_"
   ]
  },
  {
   "cell_type": "markdown",
   "id": "f8d98951",
   "metadata": {},
   "source": [
    "# 2.2 library\n",
    "\n",
    "- pandas, numpy, sklearn"
   ]
  },
  {
   "cell_type": "markdown",
   "id": "b6a308d7",
   "metadata": {},
   "source": [
    "## 01. pandas\n",
    "\n",
    "- 행과 열로 구성된 1차원, 2차원의 데이터를 다룸"
   ]
  },
  {
   "cell_type": "code",
   "execution_count": 26,
   "id": "65a4c039",
   "metadata": {},
   "outputs": [],
   "source": [
    "import pandas as pd"
   ]
  },
  {
   "cell_type": "markdown",
   "id": "5d7eea4f",
   "metadata": {},
   "source": [
    "### pandas 데이터 타입 : Series, DataFrame"
   ]
  },
  {
   "cell_type": "code",
   "execution_count": 30,
   "id": "7815dde4",
   "metadata": {},
   "outputs": [
    {
     "name": "stdout",
     "output_type": "stream",
     "text": [
      "<class 'pandas.core.series.Series'>\n"
     ]
    },
    {
     "data": {
      "text/plain": [
       "0    홍길동\n",
       "1    이순신\n",
       "2    유관순\n",
       "3    윤봉길\n",
       "dtype: object"
      ]
     },
     "metadata": {},
     "output_type": "display_data"
    }
   ],
   "source": [
    "lst_var = ['홍길동', '이순신', '유관순', '윤봉길']\n",
    "series_ = pd.Series(lst_var)\n",
    "\n",
    "print(type(series_))\n",
    "display(series_)"
   ]
  },
  {
   "cell_type": "code",
   "execution_count": 29,
   "id": "9c5c433e",
   "metadata": {},
   "outputs": [
    {
     "name": "stdout",
     "output_type": "stream",
     "text": [
      "<class 'pandas.core.frame.DataFrame'>\n"
     ]
    },
    {
     "data": {
      "text/html": [
       "<div>\n",
       "<style scoped>\n",
       "    .dataframe tbody tr th:only-of-type {\n",
       "        vertical-align: middle;\n",
       "    }\n",
       "\n",
       "    .dataframe tbody tr th {\n",
       "        vertical-align: top;\n",
       "    }\n",
       "\n",
       "    .dataframe thead th {\n",
       "        text-align: right;\n",
       "    }\n",
       "</style>\n",
       "<table border=\"1\" class=\"dataframe\">\n",
       "  <thead>\n",
       "    <tr style=\"text-align: right;\">\n",
       "      <th></th>\n",
       "      <th>0</th>\n",
       "      <th>1</th>\n",
       "      <th>2</th>\n",
       "    </tr>\n",
       "  </thead>\n",
       "  <tbody>\n",
       "    <tr>\n",
       "      <th>0</th>\n",
       "      <td>홍길동</td>\n",
       "      <td>29</td>\n",
       "      <td>여</td>\n",
       "    </tr>\n",
       "    <tr>\n",
       "      <th>1</th>\n",
       "      <td>이순신</td>\n",
       "      <td>24</td>\n",
       "      <td>남</td>\n",
       "    </tr>\n",
       "    <tr>\n",
       "      <th>2</th>\n",
       "      <td>유관순</td>\n",
       "      <td>38</td>\n",
       "      <td>남</td>\n",
       "    </tr>\n",
       "    <tr>\n",
       "      <th>3</th>\n",
       "      <td>윤봉길</td>\n",
       "      <td>31</td>\n",
       "      <td>여</td>\n",
       "    </tr>\n",
       "  </tbody>\n",
       "</table>\n",
       "</div>"
      ],
      "text/plain": [
       "     0   1  2\n",
       "0  홍길동  29  여\n",
       "1  이순신  24  남\n",
       "2  유관순  38  남\n",
       "3  윤봉길  31  여"
      ]
     },
     "metadata": {},
     "output_type": "display_data"
    }
   ],
   "source": [
    "lst_var = (['홍길동',29,'여'],\n",
    "           ['이순신',24,'남'],\n",
    "           ['유관순',38,'남'],\n",
    "           ['윤봉길',31,'여'])\n",
    "\n",
    "# list를 데이터 프레임 타입으로 변경\n",
    "df_ = pd.DataFrame(lst_var)\n",
    "\n",
    "print(type(df_))\n",
    "display(df_)"
   ]
  },
  {
   "cell_type": "markdown",
   "id": "54d5f49a",
   "metadata": {},
   "source": [
    "### index, columns 변경"
   ]
  },
  {
   "cell_type": "code",
   "execution_count": 31,
   "id": "089a1e5f",
   "metadata": {},
   "outputs": [
    {
     "data": {
      "text/html": [
       "<div>\n",
       "<style scoped>\n",
       "    .dataframe tbody tr th:only-of-type {\n",
       "        vertical-align: middle;\n",
       "    }\n",
       "\n",
       "    .dataframe tbody tr th {\n",
       "        vertical-align: top;\n",
       "    }\n",
       "\n",
       "    .dataframe thead th {\n",
       "        text-align: right;\n",
       "    }\n",
       "</style>\n",
       "<table border=\"1\" class=\"dataframe\">\n",
       "  <thead>\n",
       "    <tr style=\"text-align: right;\">\n",
       "      <th></th>\n",
       "      <th>0</th>\n",
       "      <th>1</th>\n",
       "      <th>2</th>\n",
       "    </tr>\n",
       "  </thead>\n",
       "  <tbody>\n",
       "    <tr>\n",
       "      <th>1번</th>\n",
       "      <td>홍길동</td>\n",
       "      <td>29</td>\n",
       "      <td>여</td>\n",
       "    </tr>\n",
       "    <tr>\n",
       "      <th>2번</th>\n",
       "      <td>이순신</td>\n",
       "      <td>24</td>\n",
       "      <td>남</td>\n",
       "    </tr>\n",
       "    <tr>\n",
       "      <th>3번</th>\n",
       "      <td>유관순</td>\n",
       "      <td>38</td>\n",
       "      <td>남</td>\n",
       "    </tr>\n",
       "    <tr>\n",
       "      <th>4번</th>\n",
       "      <td>윤봉길</td>\n",
       "      <td>31</td>\n",
       "      <td>여</td>\n",
       "    </tr>\n",
       "  </tbody>\n",
       "</table>\n",
       "</div>"
      ],
      "text/plain": [
       "      0   1  2\n",
       "1번  홍길동  29  여\n",
       "2번  이순신  24  남\n",
       "3번  유관순  38  남\n",
       "4번  윤봉길  31  여"
      ]
     },
     "execution_count": 31,
     "metadata": {},
     "output_type": "execute_result"
    }
   ],
   "source": [
    "df_.index = ['1번','2번','3번','4번']\n",
    "df_"
   ]
  },
  {
   "cell_type": "code",
   "execution_count": 32,
   "id": "787c8be0",
   "metadata": {},
   "outputs": [
    {
     "data": {
      "text/html": [
       "<div>\n",
       "<style scoped>\n",
       "    .dataframe tbody tr th:only-of-type {\n",
       "        vertical-align: middle;\n",
       "    }\n",
       "\n",
       "    .dataframe tbody tr th {\n",
       "        vertical-align: top;\n",
       "    }\n",
       "\n",
       "    .dataframe thead th {\n",
       "        text-align: right;\n",
       "    }\n",
       "</style>\n",
       "<table border=\"1\" class=\"dataframe\">\n",
       "  <thead>\n",
       "    <tr style=\"text-align: right;\">\n",
       "      <th></th>\n",
       "      <th>이름</th>\n",
       "      <th>나이</th>\n",
       "      <th>성별</th>\n",
       "    </tr>\n",
       "  </thead>\n",
       "  <tbody>\n",
       "    <tr>\n",
       "      <th>1번</th>\n",
       "      <td>홍길동</td>\n",
       "      <td>29</td>\n",
       "      <td>여</td>\n",
       "    </tr>\n",
       "    <tr>\n",
       "      <th>2번</th>\n",
       "      <td>이순신</td>\n",
       "      <td>24</td>\n",
       "      <td>남</td>\n",
       "    </tr>\n",
       "    <tr>\n",
       "      <th>3번</th>\n",
       "      <td>유관순</td>\n",
       "      <td>38</td>\n",
       "      <td>남</td>\n",
       "    </tr>\n",
       "    <tr>\n",
       "      <th>4번</th>\n",
       "      <td>윤봉길</td>\n",
       "      <td>31</td>\n",
       "      <td>여</td>\n",
       "    </tr>\n",
       "  </tbody>\n",
       "</table>\n",
       "</div>"
      ],
      "text/plain": [
       "     이름  나이 성별\n",
       "1번  홍길동  29  여\n",
       "2번  이순신  24  남\n",
       "3번  유관순  38  남\n",
       "4번  윤봉길  31  여"
      ]
     },
     "execution_count": 32,
     "metadata": {},
     "output_type": "execute_result"
    }
   ],
   "source": [
    "df_.columns = ['이름','나이','성별']\n",
    "df_"
   ]
  },
  {
   "cell_type": "markdown",
   "id": "b9848747",
   "metadata": {},
   "source": [
    "### 일부 열/행 값 추출 : [ ]"
   ]
  },
  {
   "cell_type": "code",
   "execution_count": 33,
   "id": "5bffb50a",
   "metadata": {},
   "outputs": [
    {
     "data": {
      "text/plain": [
       "1번    29\n",
       "2번    24\n",
       "3번    38\n",
       "4번    31\n",
       "Name: 나이, dtype: int64"
      ]
     },
     "execution_count": 33,
     "metadata": {},
     "output_type": "execute_result"
    }
   ],
   "source": [
    "# 열 값 추출\n",
    "df_['나이']"
   ]
  },
  {
   "cell_type": "markdown",
   "id": "74d3ac11",
   "metadata": {},
   "source": [
    "행 값 추출시,\n",
    "- index num의 경우 : [시작위치:끝위치+1]\n",
    "- index name 의 경우 : [시작위치:끝위치]"
   ]
  },
  {
   "cell_type": "code",
   "execution_count": 34,
   "id": "bbd8f06e",
   "metadata": {
    "scrolled": true
   },
   "outputs": [
    {
     "data": {
      "text/html": [
       "<div>\n",
       "<style scoped>\n",
       "    .dataframe tbody tr th:only-of-type {\n",
       "        vertical-align: middle;\n",
       "    }\n",
       "\n",
       "    .dataframe tbody tr th {\n",
       "        vertical-align: top;\n",
       "    }\n",
       "\n",
       "    .dataframe thead th {\n",
       "        text-align: right;\n",
       "    }\n",
       "</style>\n",
       "<table border=\"1\" class=\"dataframe\">\n",
       "  <thead>\n",
       "    <tr style=\"text-align: right;\">\n",
       "      <th></th>\n",
       "      <th>이름</th>\n",
       "      <th>나이</th>\n",
       "      <th>성별</th>\n",
       "    </tr>\n",
       "  </thead>\n",
       "  <tbody>\n",
       "    <tr>\n",
       "      <th>2번</th>\n",
       "      <td>이순신</td>\n",
       "      <td>24</td>\n",
       "      <td>남</td>\n",
       "    </tr>\n",
       "    <tr>\n",
       "      <th>3번</th>\n",
       "      <td>유관순</td>\n",
       "      <td>38</td>\n",
       "      <td>남</td>\n",
       "    </tr>\n",
       "  </tbody>\n",
       "</table>\n",
       "</div>"
      ],
      "text/plain": [
       "     이름  나이 성별\n",
       "2번  이순신  24  남\n",
       "3번  유관순  38  남"
      ]
     },
     "execution_count": 34,
     "metadata": {},
     "output_type": "execute_result"
    }
   ],
   "source": [
    "# 행 값 추출\n",
    "df_[1:3]"
   ]
  },
  {
   "cell_type": "code",
   "execution_count": 35,
   "id": "bd37e842",
   "metadata": {},
   "outputs": [
    {
     "data": {
      "text/html": [
       "<div>\n",
       "<style scoped>\n",
       "    .dataframe tbody tr th:only-of-type {\n",
       "        vertical-align: middle;\n",
       "    }\n",
       "\n",
       "    .dataframe tbody tr th {\n",
       "        vertical-align: top;\n",
       "    }\n",
       "\n",
       "    .dataframe thead th {\n",
       "        text-align: right;\n",
       "    }\n",
       "</style>\n",
       "<table border=\"1\" class=\"dataframe\">\n",
       "  <thead>\n",
       "    <tr style=\"text-align: right;\">\n",
       "      <th></th>\n",
       "      <th>이름</th>\n",
       "      <th>나이</th>\n",
       "      <th>성별</th>\n",
       "    </tr>\n",
       "  </thead>\n",
       "  <tbody>\n",
       "    <tr>\n",
       "      <th>2번</th>\n",
       "      <td>이순신</td>\n",
       "      <td>24</td>\n",
       "      <td>남</td>\n",
       "    </tr>\n",
       "    <tr>\n",
       "      <th>3번</th>\n",
       "      <td>유관순</td>\n",
       "      <td>38</td>\n",
       "      <td>남</td>\n",
       "    </tr>\n",
       "  </tbody>\n",
       "</table>\n",
       "</div>"
      ],
      "text/plain": [
       "     이름  나이 성별\n",
       "2번  이순신  24  남\n",
       "3번  유관순  38  남"
      ]
     },
     "execution_count": 35,
     "metadata": {},
     "output_type": "execute_result"
    }
   ],
   "source": [
    "df_['2번':'3번']"
   ]
  },
  {
   "cell_type": "markdown",
   "id": "6e1756ac",
   "metadata": {},
   "source": [
    "### 파일 읽고 쓰기\n",
    "- pd.read_csv(), pd.to_csv()"
   ]
  },
  {
   "cell_type": "code",
   "execution_count": null,
   "id": "6d9a5f72",
   "metadata": {},
   "outputs": [],
   "source": [
    "# 코드 예시로 실행은 X\n",
    "\n",
    "dataset = pd.read_csv('data/train.csv')\n",
    "dataset"
   ]
  },
  {
   "cell_type": "code",
   "execution_count": null,
   "id": "cdf1bdfd",
   "metadata": {},
   "outputs": [],
   "source": [
    "# 코드 예시로 실행은 X\n",
    "\n",
    "dataset.to_csv('data/12345.csv')"
   ]
  },
  {
   "cell_type": "markdown",
   "id": "3e9bbbf9",
   "metadata": {},
   "source": [
    "## 02. sklearn\n",
    "\n",
    "- 머신러닝(기계학습) 수행할 수 있는 라이브러리\n",
    "- scikit-learn 의 약자\n",
    "\n",
    "### sklearn 라이브러리/ 패키지\n",
    "- preprocessing : StandardScaler, MinMaxScaler, RobustScaler, OneHotEncoder, LabelEncoder, ...\n",
    "- model_selection : train_test_split, cross_validation, learning_curve, validation_curve, GridSearchCV, ...\n",
    "- linear_model : LogisticRegression, Perceptron, ...\n",
    "- tree : DecisionTreeClassifier, ..."
   ]
  },
  {
   "cell_type": "code",
   "execution_count": 37,
   "id": "d3a4049c",
   "metadata": {},
   "outputs": [],
   "source": [
    "# 함수 import\n",
    "from sklearn.model_selection import train_test_split\n",
    "from sklearn.tree            import DecisionTreeClassifier"
   ]
  },
  {
   "cell_type": "markdown",
   "id": "ab79e7d6",
   "metadata": {},
   "source": [
    "## 03. numpy\n",
    "\n",
    "- 벡터, 행렬 등 수치 연산 수행하는 선형대수 라이브러리"
   ]
  },
  {
   "cell_type": "code",
   "execution_count": 39,
   "id": "0daaaa6f",
   "metadata": {},
   "outputs": [
    {
     "data": {
      "text/plain": [
       "array([[0., 0., 0.],\n",
       "       [0., 0., 0.]])"
      ]
     },
     "execution_count": 39,
     "metadata": {},
     "output_type": "execute_result"
    }
   ],
   "source": [
    "import numpy as np\n",
    "\n",
    "np.zeros((2,3))      # 2행 3열 모두 0으로 채우기"
   ]
  },
  {
   "cell_type": "code",
   "execution_count": 42,
   "id": "08e18663",
   "metadata": {},
   "outputs": [
    {
     "data": {
      "text/plain": [
       "array([[1., 1., 1.],\n",
       "       [1., 1., 1.]])"
      ]
     },
     "execution_count": 42,
     "metadata": {},
     "output_type": "execute_result"
    }
   ],
   "source": [
    "np.ones((2,3))       # 2행 3열 모두 1로 채우기"
   ]
  },
  {
   "cell_type": "code",
   "execution_count": 44,
   "id": "4564d549",
   "metadata": {},
   "outputs": [
    {
     "data": {
      "text/plain": [
       "array([[10, 10, 10],\n",
       "       [10, 10, 10]])"
      ]
     },
     "execution_count": 44,
     "metadata": {},
     "output_type": "execute_result"
    }
   ],
   "source": [
    "np.full((2,3), 10)   # 2행 3열 특정 수(10)로 채우기"
   ]
  },
  {
   "cell_type": "code",
   "execution_count": 50,
   "id": "0b8a5580",
   "metadata": {},
   "outputs": [
    {
     "data": {
      "text/plain": [
       "array([ 0,  1,  2,  3,  4,  5,  6,  7,  8,  9, 10, 11, 12, 13, 14, 15, 16,\n",
       "       17, 18, 19])"
      ]
     },
     "execution_count": 50,
     "metadata": {},
     "output_type": "execute_result"
    }
   ],
   "source": [
    "np.array(range(20))  # 0부터 20개의 숫자 만들기 > shape : (20, )"
   ]
  },
  {
   "cell_type": "code",
   "execution_count": 52,
   "id": "4b30b35d",
   "metadata": {},
   "outputs": [
    {
     "data": {
      "text/plain": [
       "array([[ 0,  1,  2,  3,  4],\n",
       "       [ 5,  6,  7,  8,  9],\n",
       "       [10, 11, 12, 13, 14],\n",
       "       [15, 16, 17, 18, 19]])"
      ]
     },
     "execution_count": 52,
     "metadata": {},
     "output_type": "execute_result"
    }
   ],
   "source": [
    "np.array(range(20)).reshape(4,5)   # 0부터 20개의 숫자로 4행 5열의 행렬 만들기"
   ]
  },
  {
   "cell_type": "markdown",
   "id": "607fb1c5",
   "metadata": {},
   "source": [
    "# 2.3 내장 함수 활용"
   ]
  },
  {
   "cell_type": "code",
   "execution_count": 55,
   "id": "5bedaf6e",
   "metadata": {},
   "outputs": [],
   "source": [
    "data = {\n",
    "    '나이' : [20, 23, 49, 38, 32, 29, 25, 30, 32, 26],\n",
    "    '성별' : ['male','female','male','female','female','female','female','female','male', np.nan]\n",
    "       }"
   ]
  },
  {
   "cell_type": "code",
   "execution_count": 56,
   "id": "5a6869c5",
   "metadata": {},
   "outputs": [
    {
     "data": {
      "text/html": [
       "<div>\n",
       "<style scoped>\n",
       "    .dataframe tbody tr th:only-of-type {\n",
       "        vertical-align: middle;\n",
       "    }\n",
       "\n",
       "    .dataframe tbody tr th {\n",
       "        vertical-align: top;\n",
       "    }\n",
       "\n",
       "    .dataframe thead th {\n",
       "        text-align: right;\n",
       "    }\n",
       "</style>\n",
       "<table border=\"1\" class=\"dataframe\">\n",
       "  <thead>\n",
       "    <tr style=\"text-align: right;\">\n",
       "      <th></th>\n",
       "      <th>나이</th>\n",
       "      <th>성별</th>\n",
       "    </tr>\n",
       "  </thead>\n",
       "  <tbody>\n",
       "    <tr>\n",
       "      <th>0</th>\n",
       "      <td>20</td>\n",
       "      <td>male</td>\n",
       "    </tr>\n",
       "    <tr>\n",
       "      <th>1</th>\n",
       "      <td>23</td>\n",
       "      <td>female</td>\n",
       "    </tr>\n",
       "    <tr>\n",
       "      <th>2</th>\n",
       "      <td>49</td>\n",
       "      <td>male</td>\n",
       "    </tr>\n",
       "    <tr>\n",
       "      <th>3</th>\n",
       "      <td>38</td>\n",
       "      <td>female</td>\n",
       "    </tr>\n",
       "    <tr>\n",
       "      <th>4</th>\n",
       "      <td>32</td>\n",
       "      <td>female</td>\n",
       "    </tr>\n",
       "    <tr>\n",
       "      <th>5</th>\n",
       "      <td>29</td>\n",
       "      <td>female</td>\n",
       "    </tr>\n",
       "    <tr>\n",
       "      <th>6</th>\n",
       "      <td>25</td>\n",
       "      <td>female</td>\n",
       "    </tr>\n",
       "    <tr>\n",
       "      <th>7</th>\n",
       "      <td>30</td>\n",
       "      <td>female</td>\n",
       "    </tr>\n",
       "    <tr>\n",
       "      <th>8</th>\n",
       "      <td>32</td>\n",
       "      <td>male</td>\n",
       "    </tr>\n",
       "    <tr>\n",
       "      <th>9</th>\n",
       "      <td>26</td>\n",
       "      <td>NaN</td>\n",
       "    </tr>\n",
       "  </tbody>\n",
       "</table>\n",
       "</div>"
      ],
      "text/plain": [
       "   나이      성별\n",
       "0  20    male\n",
       "1  23  female\n",
       "2  49    male\n",
       "3  38  female\n",
       "4  32  female\n",
       "5  29  female\n",
       "6  25  female\n",
       "7  30  female\n",
       "8  32    male\n",
       "9  26     NaN"
      ]
     },
     "execution_count": 56,
     "metadata": {},
     "output_type": "execute_result"
    }
   ],
   "source": [
    "data_frm = pd.DataFrame(data)\n",
    "data_frm"
   ]
  },
  {
   "cell_type": "markdown",
   "id": "b0097fbc",
   "metadata": {},
   "source": [
    "## 숫자 계산 함수\n",
    "\n",
    "### - 합계 : sum()"
   ]
  },
  {
   "cell_type": "code",
   "execution_count": 57,
   "id": "a8364915",
   "metadata": {},
   "outputs": [
    {
     "data": {
      "text/plain": [
       "0    20\n",
       "1    23\n",
       "2    49\n",
       "3    38\n",
       "4    32\n",
       "5    29\n",
       "6    25\n",
       "7    30\n",
       "8    32\n",
       "9    26\n",
       "Name: 나이, dtype: int64"
      ]
     },
     "execution_count": 57,
     "metadata": {},
     "output_type": "execute_result"
    }
   ],
   "source": [
    "data_frm['나이']"
   ]
  },
  {
   "cell_type": "code",
   "execution_count": 58,
   "id": "f7567578",
   "metadata": {},
   "outputs": [
    {
     "data": {
      "text/plain": [
       "304"
      ]
     },
     "execution_count": 58,
     "metadata": {},
     "output_type": "execute_result"
    }
   ],
   "source": [
    "data_frm['나이'].sum()"
   ]
  },
  {
   "cell_type": "code",
   "execution_count": 59,
   "id": "d486b2d2",
   "metadata": {},
   "outputs": [
    {
     "data": {
      "text/plain": [
       "304"
      ]
     },
     "execution_count": 59,
     "metadata": {},
     "output_type": "execute_result"
    }
   ],
   "source": [
    "sum(data_frm['나이'])"
   ]
  },
  {
   "cell_type": "markdown",
   "id": "d26b5d89",
   "metadata": {},
   "source": [
    "### - 최대값 : max()"
   ]
  },
  {
   "cell_type": "code",
   "execution_count": 61,
   "id": "5d42fa2e",
   "metadata": {},
   "outputs": [
    {
     "data": {
      "text/plain": [
       "49"
      ]
     },
     "execution_count": 61,
     "metadata": {},
     "output_type": "execute_result"
    }
   ],
   "source": [
    "data_frm['나이'].max()"
   ]
  },
  {
   "cell_type": "code",
   "execution_count": 62,
   "id": "12c759a4",
   "metadata": {},
   "outputs": [
    {
     "data": {
      "text/plain": [
       "49"
      ]
     },
     "execution_count": 62,
     "metadata": {},
     "output_type": "execute_result"
    }
   ],
   "source": [
    "max(data_frm['나이'])"
   ]
  },
  {
   "cell_type": "markdown",
   "id": "d7cdf46d",
   "metadata": {},
   "source": [
    "### - 최소값 : min()"
   ]
  },
  {
   "cell_type": "code",
   "execution_count": 63,
   "id": "d89dc45e",
   "metadata": {},
   "outputs": [
    {
     "data": {
      "text/plain": [
       "20"
      ]
     },
     "execution_count": 63,
     "metadata": {},
     "output_type": "execute_result"
    }
   ],
   "source": [
    "data_frm['나이'].min()"
   ]
  },
  {
   "cell_type": "code",
   "execution_count": 64,
   "id": "99535078",
   "metadata": {},
   "outputs": [
    {
     "data": {
      "text/plain": [
       "20"
      ]
     },
     "execution_count": 64,
     "metadata": {},
     "output_type": "execute_result"
    }
   ],
   "source": [
    "min(data_frm['나이'])"
   ]
  },
  {
   "cell_type": "markdown",
   "id": "95bbade5",
   "metadata": {},
   "source": [
    "### - 평균 : mean()"
   ]
  },
  {
   "cell_type": "code",
   "execution_count": 65,
   "id": "72ecd6ce",
   "metadata": {},
   "outputs": [
    {
     "data": {
      "text/plain": [
       "30.4"
      ]
     },
     "execution_count": 65,
     "metadata": {},
     "output_type": "execute_result"
    }
   ],
   "source": [
    "data_frm['나이'].mean()"
   ]
  },
  {
   "cell_type": "code",
   "execution_count": 67,
   "id": "92a8b3c8",
   "metadata": {},
   "outputs": [],
   "source": [
    "# mean(data_frm['나이']) -- error"
   ]
  },
  {
   "cell_type": "markdown",
   "id": "fb6e5cd4",
   "metadata": {},
   "source": [
    "### - 중위값 : median()"
   ]
  },
  {
   "cell_type": "code",
   "execution_count": 68,
   "id": "20d878fc",
   "metadata": {},
   "outputs": [
    {
     "data": {
      "text/plain": [
       "29.5"
      ]
     },
     "execution_count": 68,
     "metadata": {},
     "output_type": "execute_result"
    }
   ],
   "source": [
    "data_frm['나이'].median()"
   ]
  },
  {
   "cell_type": "markdown",
   "id": "d400a19b",
   "metadata": {},
   "source": [
    "### - 분산 : var()"
   ]
  },
  {
   "cell_type": "code",
   "execution_count": 69,
   "id": "2f8b6b92",
   "metadata": {},
   "outputs": [
    {
     "data": {
      "text/plain": [
       "69.15555555555557"
      ]
     },
     "execution_count": 69,
     "metadata": {},
     "output_type": "execute_result"
    }
   ],
   "source": [
    "data_frm['나이'].var()"
   ]
  },
  {
   "cell_type": "markdown",
   "id": "210ed473",
   "metadata": {},
   "source": [
    "### - 표준편차 : std()"
   ]
  },
  {
   "cell_type": "code",
   "execution_count": 70,
   "id": "8c6f704e",
   "metadata": {},
   "outputs": [
    {
     "data": {
      "text/plain": [
       "8.315981935740094"
      ]
     },
     "execution_count": 70,
     "metadata": {},
     "output_type": "execute_result"
    }
   ],
   "source": [
    "data_frm['나이'].std()"
   ]
  },
  {
   "cell_type": "markdown",
   "id": "93f62a62",
   "metadata": {},
   "source": [
    "### - 거듭제곱 : pow()\n",
    "- 숫자 데이터의 지수값 즉, 거듭제곱값 계산"
   ]
  },
  {
   "cell_type": "code",
   "execution_count": 71,
   "id": "297c2c70",
   "metadata": {},
   "outputs": [
    {
     "data": {
      "text/plain": [
       "0      8000\n",
       "1     12167\n",
       "2    117649\n",
       "3     54872\n",
       "4     32768\n",
       "5     24389\n",
       "6     15625\n",
       "7     27000\n",
       "8     32768\n",
       "9     17576\n",
       "Name: 나이, dtype: int64"
      ]
     },
     "execution_count": 71,
     "metadata": {},
     "output_type": "execute_result"
    }
   ],
   "source": [
    "pow(data_frm['나이'], 3)"
   ]
  },
  {
   "cell_type": "markdown",
   "id": "3b427d46",
   "metadata": {},
   "source": [
    "### - 사분위수 : quentile()"
   ]
  },
  {
   "cell_type": "code",
   "execution_count": 73,
   "id": "1cde488f",
   "metadata": {},
   "outputs": [
    {
     "data": {
      "text/plain": [
       "나이    25.25\n",
       "Name: 0.25, dtype: float64"
      ]
     },
     "execution_count": 73,
     "metadata": {},
     "output_type": "execute_result"
    }
   ],
   "source": [
    "data_frm.quantile(.25)   # 1사분위수"
   ]
  },
  {
   "cell_type": "code",
   "execution_count": 74,
   "id": "26df0df5",
   "metadata": {},
   "outputs": [
    {
     "data": {
      "text/plain": [
       "나이    29.5\n",
       "Name: 0.5, dtype: float64"
      ]
     },
     "execution_count": 74,
     "metadata": {},
     "output_type": "execute_result"
    }
   ],
   "source": [
    "data_frm.quantile(.5)   # 2사분위수"
   ]
  },
  {
   "cell_type": "code",
   "execution_count": 75,
   "id": "fb8bc362",
   "metadata": {},
   "outputs": [
    {
     "data": {
      "text/plain": [
       "나이    32.0\n",
       "Name: 0.75, dtype: float64"
      ]
     },
     "execution_count": 75,
     "metadata": {},
     "output_type": "execute_result"
    }
   ],
   "source": [
    "data_frm.quantile(.75)   # 3사분위수"
   ]
  },
  {
   "cell_type": "code",
   "execution_count": 76,
   "id": "f911ca97",
   "metadata": {},
   "outputs": [
    {
     "data": {
      "text/plain": [
       "나이    49.0\n",
       "Name: 1.0, dtype: float64"
      ]
     },
     "execution_count": 76,
     "metadata": {},
     "output_type": "execute_result"
    }
   ],
   "source": [
    "data_frm.quantile(1)     # 4사분위수"
   ]
  },
  {
   "cell_type": "markdown",
   "id": "26afe147",
   "metadata": {},
   "source": [
    "### - 반올림 구하기 : round()"
   ]
  },
  {
   "cell_type": "code",
   "execution_count": 79,
   "id": "8c1961b2",
   "metadata": {},
   "outputs": [
    {
     "data": {
      "text/plain": [
       "0    3.0\n",
       "1    3.0\n",
       "2    7.0\n",
       "3    5.0\n",
       "4    5.0\n",
       "5    4.0\n",
       "6    4.0\n",
       "7    4.0\n",
       "8    5.0\n",
       "9    4.0\n",
       "Name: 나이, dtype: float64"
      ]
     },
     "execution_count": 79,
     "metadata": {},
     "output_type": "execute_result"
    }
   ],
   "source": [
    "round(data_frm['나이'] / 7)  # default : 소수점 첫째 자리에서 반올림"
   ]
  },
  {
   "cell_type": "code",
   "execution_count": 80,
   "id": "347469b9",
   "metadata": {},
   "outputs": [
    {
     "data": {
      "text/plain": [
       "0    2.86\n",
       "1    3.29\n",
       "2    7.00\n",
       "3    5.43\n",
       "4    4.57\n",
       "5    4.14\n",
       "6    3.57\n",
       "7    4.29\n",
       "8    4.57\n",
       "9    3.71\n",
       "Name: 나이, dtype: float64"
      ]
     },
     "execution_count": 80,
     "metadata": {},
     "output_type": "execute_result"
    }
   ],
   "source": [
    "round(data_frm['나이'] / 7, 2)"
   ]
  },
  {
   "cell_type": "code",
   "execution_count": 83,
   "id": "ecbd02ae",
   "metadata": {},
   "outputs": [
    {
     "name": "stdout",
     "output_type": "stream",
     "text": [
      "ceil  :  124\n",
      "floor :  123\n"
     ]
    }
   ],
   "source": [
    "import math\n",
    "\n",
    "print('ceil  : ', math.ceil(123.456))\n",
    "print('floor : ', math.floor(123.456))"
   ]
  },
  {
   "cell_type": "markdown",
   "id": "f46e03ca",
   "metadata": {},
   "source": [
    "## shape 관련 함수\n",
    "\n",
    "### - 모양 구하기 : shape\n",
    "- 괄호 없이 DataFrame.shape 으로 사용"
   ]
  },
  {
   "cell_type": "code",
   "execution_count": 85,
   "id": "898290d7",
   "metadata": {},
   "outputs": [
    {
     "data": {
      "text/plain": [
       "((10, 2), (10,))"
      ]
     },
     "execution_count": 85,
     "metadata": {},
     "output_type": "execute_result"
    }
   ],
   "source": [
    "data_frm.shape, data_frm['나이'].shape"
   ]
  },
  {
   "cell_type": "markdown",
   "id": "5950e4d9",
   "metadata": {},
   "source": [
    "### - 길이 구하기 : len( )"
   ]
  },
  {
   "cell_type": "code",
   "execution_count": 91,
   "id": "4bdbbde0",
   "metadata": {},
   "outputs": [
    {
     "name": "stdout",
     "output_type": "stream",
     "text": [
      "데이터프레임 - 원소개수 :  10\n",
      "문자열 - 문자개수(길이) :  8\n",
      "문자열 - 문자개수(길이) :  10\n"
     ]
    }
   ],
   "source": [
    "print('데이터프레임 - 원소개수 : ', len(data_frm))\n",
    "print('문자열 - 문자개수(길이) : ', len('Superman'))\n",
    "print('문자열 - 문자개수(길이) : ', len('1234567890'))\n",
    "# print('숫자 - 길이             : ', len(123)) -- error"
   ]
  },
  {
   "cell_type": "markdown",
   "id": "47a19176",
   "metadata": {},
   "source": [
    "### - 크기 구하기 : size\n",
    "- 데이터 변수 안에 들어 있는 값들의 개수 출력"
   ]
  },
  {
   "cell_type": "code",
   "execution_count": 92,
   "id": "e8d7019f",
   "metadata": {
    "scrolled": true
   },
   "outputs": [
    {
     "data": {
      "text/plain": [
       "20"
      ]
     },
     "execution_count": 92,
     "metadata": {},
     "output_type": "execute_result"
    }
   ],
   "source": [
    "data_frm.size"
   ]
  },
  {
   "cell_type": "markdown",
   "id": "b5c2b7b4",
   "metadata": {},
   "source": [
    "### - 상위 데이터 가져오기 : head( )"
   ]
  },
  {
   "cell_type": "code",
   "execution_count": 93,
   "id": "7951c569",
   "metadata": {},
   "outputs": [
    {
     "data": {
      "text/html": [
       "<div>\n",
       "<style scoped>\n",
       "    .dataframe tbody tr th:only-of-type {\n",
       "        vertical-align: middle;\n",
       "    }\n",
       "\n",
       "    .dataframe tbody tr th {\n",
       "        vertical-align: top;\n",
       "    }\n",
       "\n",
       "    .dataframe thead th {\n",
       "        text-align: right;\n",
       "    }\n",
       "</style>\n",
       "<table border=\"1\" class=\"dataframe\">\n",
       "  <thead>\n",
       "    <tr style=\"text-align: right;\">\n",
       "      <th></th>\n",
       "      <th>나이</th>\n",
       "      <th>성별</th>\n",
       "    </tr>\n",
       "  </thead>\n",
       "  <tbody>\n",
       "    <tr>\n",
       "      <th>0</th>\n",
       "      <td>20</td>\n",
       "      <td>male</td>\n",
       "    </tr>\n",
       "    <tr>\n",
       "      <th>1</th>\n",
       "      <td>23</td>\n",
       "      <td>female</td>\n",
       "    </tr>\n",
       "    <tr>\n",
       "      <th>2</th>\n",
       "      <td>49</td>\n",
       "      <td>male</td>\n",
       "    </tr>\n",
       "    <tr>\n",
       "      <th>3</th>\n",
       "      <td>38</td>\n",
       "      <td>female</td>\n",
       "    </tr>\n",
       "    <tr>\n",
       "      <th>4</th>\n",
       "      <td>32</td>\n",
       "      <td>female</td>\n",
       "    </tr>\n",
       "  </tbody>\n",
       "</table>\n",
       "</div>"
      ],
      "text/plain": [
       "   나이      성별\n",
       "0  20    male\n",
       "1  23  female\n",
       "2  49    male\n",
       "3  38  female\n",
       "4  32  female"
      ]
     },
     "execution_count": 93,
     "metadata": {},
     "output_type": "execute_result"
    }
   ],
   "source": [
    "data_frm.head()"
   ]
  },
  {
   "cell_type": "code",
   "execution_count": 94,
   "id": "17464d76",
   "metadata": {},
   "outputs": [
    {
     "data": {
      "text/html": [
       "<div>\n",
       "<style scoped>\n",
       "    .dataframe tbody tr th:only-of-type {\n",
       "        vertical-align: middle;\n",
       "    }\n",
       "\n",
       "    .dataframe tbody tr th {\n",
       "        vertical-align: top;\n",
       "    }\n",
       "\n",
       "    .dataframe thead th {\n",
       "        text-align: right;\n",
       "    }\n",
       "</style>\n",
       "<table border=\"1\" class=\"dataframe\">\n",
       "  <thead>\n",
       "    <tr style=\"text-align: right;\">\n",
       "      <th></th>\n",
       "      <th>나이</th>\n",
       "      <th>성별</th>\n",
       "    </tr>\n",
       "  </thead>\n",
       "  <tbody>\n",
       "    <tr>\n",
       "      <th>0</th>\n",
       "      <td>20</td>\n",
       "      <td>male</td>\n",
       "    </tr>\n",
       "    <tr>\n",
       "      <th>1</th>\n",
       "      <td>23</td>\n",
       "      <td>female</td>\n",
       "    </tr>\n",
       "  </tbody>\n",
       "</table>\n",
       "</div>"
      ],
      "text/plain": [
       "   나이      성별\n",
       "0  20    male\n",
       "1  23  female"
      ]
     },
     "execution_count": 94,
     "metadata": {},
     "output_type": "execute_result"
    }
   ],
   "source": [
    "data_frm.head(2)"
   ]
  },
  {
   "cell_type": "markdown",
   "id": "912b5972",
   "metadata": {},
   "source": [
    "### - 하위 데이터 가져오기 : tail( )"
   ]
  },
  {
   "cell_type": "code",
   "execution_count": 95,
   "id": "f5fe2ed3",
   "metadata": {},
   "outputs": [
    {
     "data": {
      "text/html": [
       "<div>\n",
       "<style scoped>\n",
       "    .dataframe tbody tr th:only-of-type {\n",
       "        vertical-align: middle;\n",
       "    }\n",
       "\n",
       "    .dataframe tbody tr th {\n",
       "        vertical-align: top;\n",
       "    }\n",
       "\n",
       "    .dataframe thead th {\n",
       "        text-align: right;\n",
       "    }\n",
       "</style>\n",
       "<table border=\"1\" class=\"dataframe\">\n",
       "  <thead>\n",
       "    <tr style=\"text-align: right;\">\n",
       "      <th></th>\n",
       "      <th>나이</th>\n",
       "      <th>성별</th>\n",
       "    </tr>\n",
       "  </thead>\n",
       "  <tbody>\n",
       "    <tr>\n",
       "      <th>5</th>\n",
       "      <td>29</td>\n",
       "      <td>female</td>\n",
       "    </tr>\n",
       "    <tr>\n",
       "      <th>6</th>\n",
       "      <td>25</td>\n",
       "      <td>female</td>\n",
       "    </tr>\n",
       "    <tr>\n",
       "      <th>7</th>\n",
       "      <td>30</td>\n",
       "      <td>female</td>\n",
       "    </tr>\n",
       "    <tr>\n",
       "      <th>8</th>\n",
       "      <td>32</td>\n",
       "      <td>male</td>\n",
       "    </tr>\n",
       "    <tr>\n",
       "      <th>9</th>\n",
       "      <td>26</td>\n",
       "      <td>NaN</td>\n",
       "    </tr>\n",
       "  </tbody>\n",
       "</table>\n",
       "</div>"
      ],
      "text/plain": [
       "   나이      성별\n",
       "5  29  female\n",
       "6  25  female\n",
       "7  30  female\n",
       "8  32    male\n",
       "9  26     NaN"
      ]
     },
     "execution_count": 95,
     "metadata": {},
     "output_type": "execute_result"
    }
   ],
   "source": [
    "data_frm.tail()"
   ]
  },
  {
   "cell_type": "code",
   "execution_count": 96,
   "id": "962a8596",
   "metadata": {},
   "outputs": [
    {
     "data": {
      "text/html": [
       "<div>\n",
       "<style scoped>\n",
       "    .dataframe tbody tr th:only-of-type {\n",
       "        vertical-align: middle;\n",
       "    }\n",
       "\n",
       "    .dataframe tbody tr th {\n",
       "        vertical-align: top;\n",
       "    }\n",
       "\n",
       "    .dataframe thead th {\n",
       "        text-align: right;\n",
       "    }\n",
       "</style>\n",
       "<table border=\"1\" class=\"dataframe\">\n",
       "  <thead>\n",
       "    <tr style=\"text-align: right;\">\n",
       "      <th></th>\n",
       "      <th>나이</th>\n",
       "      <th>성별</th>\n",
       "    </tr>\n",
       "  </thead>\n",
       "  <tbody>\n",
       "    <tr>\n",
       "      <th>8</th>\n",
       "      <td>32</td>\n",
       "      <td>male</td>\n",
       "    </tr>\n",
       "    <tr>\n",
       "      <th>9</th>\n",
       "      <td>26</td>\n",
       "      <td>NaN</td>\n",
       "    </tr>\n",
       "  </tbody>\n",
       "</table>\n",
       "</div>"
      ],
      "text/plain": [
       "   나이    성별\n",
       "8  32  male\n",
       "9  26   NaN"
      ]
     },
     "execution_count": 96,
     "metadata": {},
     "output_type": "execute_result"
    }
   ],
   "source": [
    "data_frm.tail(2)"
   ]
  },
  {
   "cell_type": "markdown",
   "id": "e2a50140",
   "metadata": {},
   "source": [
    "### - 열 이름 구하기 : columns"
   ]
  },
  {
   "cell_type": "code",
   "execution_count": 97,
   "id": "4b3faf0a",
   "metadata": {},
   "outputs": [
    {
     "data": {
      "text/plain": [
       "Index(['나이', '성별'], dtype='object')"
      ]
     },
     "execution_count": 97,
     "metadata": {},
     "output_type": "execute_result"
    }
   ],
   "source": [
    "data_frm.columns"
   ]
  },
  {
   "cell_type": "markdown",
   "id": "8572ca92",
   "metadata": {},
   "source": [
    "### - 행 이름 구하기 : index"
   ]
  },
  {
   "cell_type": "code",
   "execution_count": 98,
   "id": "98caaa3e",
   "metadata": {},
   "outputs": [
    {
     "data": {
      "text/plain": [
       "RangeIndex(start=0, stop=10, step=1)"
      ]
     },
     "execution_count": 98,
     "metadata": {},
     "output_type": "execute_result"
    }
   ],
   "source": [
    "data_frm.index"
   ]
  },
  {
   "cell_type": "markdown",
   "id": "07239877",
   "metadata": {},
   "source": [
    "## 데이터 요약 관련 함수\n",
    "\n",
    "### - 값의 개수 세기 : value_counts( )"
   ]
  },
  {
   "cell_type": "code",
   "execution_count": 100,
   "id": "501b9e91",
   "metadata": {},
   "outputs": [
    {
     "data": {
      "text/plain": [
       "female    6\n",
       "male      3\n",
       "Name: 성별, dtype: int64"
      ]
     },
     "execution_count": 100,
     "metadata": {},
     "output_type": "execute_result"
    }
   ],
   "source": [
    "data_frm['성별'].value_counts()"
   ]
  },
  {
   "cell_type": "markdown",
   "id": "cbd6d350",
   "metadata": {},
   "source": [
    "### - 중복 제거하기 : unique( )"
   ]
  },
  {
   "cell_type": "code",
   "execution_count": 101,
   "id": "505aad8c",
   "metadata": {},
   "outputs": [
    {
     "data": {
      "text/plain": [
       "array(['male', 'female', nan], dtype=object)"
      ]
     },
     "execution_count": 101,
     "metadata": {},
     "output_type": "execute_result"
    }
   ],
   "source": [
    "data_frm['성별'].unique()"
   ]
  },
  {
   "cell_type": "markdown",
   "id": "9e9353f7",
   "metadata": {},
   "source": [
    "### - null 여부 확인하기 : isnull( )"
   ]
  },
  {
   "cell_type": "code",
   "execution_count": 102,
   "id": "f2bdaae1",
   "metadata": {},
   "outputs": [
    {
     "data": {
      "text/html": [
       "<div>\n",
       "<style scoped>\n",
       "    .dataframe tbody tr th:only-of-type {\n",
       "        vertical-align: middle;\n",
       "    }\n",
       "\n",
       "    .dataframe tbody tr th {\n",
       "        vertical-align: top;\n",
       "    }\n",
       "\n",
       "    .dataframe thead th {\n",
       "        text-align: right;\n",
       "    }\n",
       "</style>\n",
       "<table border=\"1\" class=\"dataframe\">\n",
       "  <thead>\n",
       "    <tr style=\"text-align: right;\">\n",
       "      <th></th>\n",
       "      <th>나이</th>\n",
       "      <th>성별</th>\n",
       "    </tr>\n",
       "  </thead>\n",
       "  <tbody>\n",
       "    <tr>\n",
       "      <th>0</th>\n",
       "      <td>False</td>\n",
       "      <td>False</td>\n",
       "    </tr>\n",
       "    <tr>\n",
       "      <th>1</th>\n",
       "      <td>False</td>\n",
       "      <td>False</td>\n",
       "    </tr>\n",
       "    <tr>\n",
       "      <th>2</th>\n",
       "      <td>False</td>\n",
       "      <td>False</td>\n",
       "    </tr>\n",
       "    <tr>\n",
       "      <th>3</th>\n",
       "      <td>False</td>\n",
       "      <td>False</td>\n",
       "    </tr>\n",
       "    <tr>\n",
       "      <th>4</th>\n",
       "      <td>False</td>\n",
       "      <td>False</td>\n",
       "    </tr>\n",
       "    <tr>\n",
       "      <th>5</th>\n",
       "      <td>False</td>\n",
       "      <td>False</td>\n",
       "    </tr>\n",
       "    <tr>\n",
       "      <th>6</th>\n",
       "      <td>False</td>\n",
       "      <td>False</td>\n",
       "    </tr>\n",
       "    <tr>\n",
       "      <th>7</th>\n",
       "      <td>False</td>\n",
       "      <td>False</td>\n",
       "    </tr>\n",
       "    <tr>\n",
       "      <th>8</th>\n",
       "      <td>False</td>\n",
       "      <td>False</td>\n",
       "    </tr>\n",
       "    <tr>\n",
       "      <th>9</th>\n",
       "      <td>False</td>\n",
       "      <td>True</td>\n",
       "    </tr>\n",
       "  </tbody>\n",
       "</table>\n",
       "</div>"
      ],
      "text/plain": [
       "      나이     성별\n",
       "0  False  False\n",
       "1  False  False\n",
       "2  False  False\n",
       "3  False  False\n",
       "4  False  False\n",
       "5  False  False\n",
       "6  False  False\n",
       "7  False  False\n",
       "8  False  False\n",
       "9  False   True"
      ]
     },
     "execution_count": 102,
     "metadata": {},
     "output_type": "execute_result"
    }
   ],
   "source": [
    "data_frm.isnull()"
   ]
  },
  {
   "cell_type": "code",
   "execution_count": 103,
   "id": "6fdd716a",
   "metadata": {},
   "outputs": [
    {
     "data": {
      "text/plain": [
       "0    False\n",
       "1    False\n",
       "2    False\n",
       "3    False\n",
       "4    False\n",
       "5    False\n",
       "6    False\n",
       "7    False\n",
       "8    False\n",
       "9     True\n",
       "Name: 성별, dtype: bool"
      ]
     },
     "execution_count": 103,
     "metadata": {},
     "output_type": "execute_result"
    }
   ],
   "source": [
    "data_frm['성별'].isnull()"
   ]
  },
  {
   "cell_type": "code",
   "execution_count": 104,
   "id": "d5f25b2d",
   "metadata": {},
   "outputs": [
    {
     "data": {
      "text/plain": [
       "1"
      ]
     },
     "execution_count": 104,
     "metadata": {},
     "output_type": "execute_result"
    }
   ],
   "source": [
    "sum(data_frm['성별'].isnull())  # 성별 데이터의 null 개수 세기"
   ]
  },
  {
   "cell_type": "markdown",
   "id": "8233c947",
   "metadata": {},
   "source": [
    "### - 개수 세기 : count( )"
   ]
  },
  {
   "cell_type": "code",
   "execution_count": 106,
   "id": "8a1ab555",
   "metadata": {},
   "outputs": [
    {
     "data": {
      "text/plain": [
       "나이    10\n",
       "성별     9\n",
       "dtype: int64"
      ]
     },
     "execution_count": 106,
     "metadata": {},
     "output_type": "execute_result"
    }
   ],
   "source": [
    "data_frm.count()   # data_frm 의 열별 값의 개수 세기 > null 값은 count 에 포함되지 않음"
   ]
  },
  {
   "cell_type": "code",
   "execution_count": 107,
   "id": "e39fc35f",
   "metadata": {},
   "outputs": [
    {
     "data": {
      "text/plain": [
       "2"
      ]
     },
     "execution_count": 107,
     "metadata": {},
     "output_type": "execute_result"
    }
   ],
   "source": [
    "'I am Superman!'.count('a')"
   ]
  },
  {
   "cell_type": "markdown",
   "id": "6d1ecbd4",
   "metadata": {},
   "source": [
    "### - 정보 조회하기 : info( )"
   ]
  },
  {
   "cell_type": "code",
   "execution_count": 108,
   "id": "5667100f",
   "metadata": {},
   "outputs": [
    {
     "name": "stdout",
     "output_type": "stream",
     "text": [
      "<class 'pandas.core.frame.DataFrame'>\n",
      "RangeIndex: 10 entries, 0 to 9\n",
      "Data columns (total 2 columns):\n",
      " #   Column  Non-Null Count  Dtype \n",
      "---  ------  --------------  ----- \n",
      " 0   나이      10 non-null     int64 \n",
      " 1   성별      9 non-null      object\n",
      "dtypes: int64(1), object(1)\n",
      "memory usage: 288.0+ bytes\n"
     ]
    }
   ],
   "source": [
    "data_frm.info()"
   ]
  },
  {
   "cell_type": "code",
   "execution_count": null,
   "id": "3162afc3",
   "metadata": {},
   "outputs": [],
   "source": []
  }
 ],
 "metadata": {
  "kernelspec": {
   "display_name": "Python 3 (ipykernel)",
   "language": "python",
   "name": "python3"
  },
  "language_info": {
   "codemirror_mode": {
    "name": "ipython",
    "version": 3
   },
   "file_extension": ".py",
   "mimetype": "text/x-python",
   "name": "python",
   "nbconvert_exporter": "python",
   "pygments_lexer": "ipython3",
   "version": "3.7.13"
  }
 },
 "nbformat": 4,
 "nbformat_minor": 5
}
