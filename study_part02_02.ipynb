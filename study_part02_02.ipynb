{
 "cells": [
  {
   "cell_type": "markdown",
   "id": "1ef6b62e",
   "metadata": {},
   "source": [
    "# 2.1 if, for, while"
   ]
  },
  {
   "cell_type": "markdown",
   "id": "793498a7",
   "metadata": {},
   "source": [
    "## if 문\n",
    "- if ~ elif ~ else\n",
    "- 인덴트 주의"
   ]
  },
  {
   "cell_type": "code",
   "execution_count": 2,
   "id": "56b925b1",
   "metadata": {},
   "outputs": [
    {
     "name": "stdout",
     "output_type": "stream",
     "text": [
      "C 학점\n",
      "공부하자..\n"
     ]
    }
   ],
   "source": [
    "score = 72\n",
    "\n",
    "if score >= 90 :\n",
    "    print(\"A 학점\")\n",
    "    print(\"good job!!!\")\n",
    "elif score >= 80 :\n",
    "    print('B 학점')\n",
    "    print('분발합시다~')\n",
    "elif score >= 70 :\n",
    "    print('C 학점')\n",
    "    print('공부하자..')\n",
    "else :\n",
    "    print('D 학점')\n",
    "    print('TnT')"
   ]
  },
  {
   "cell_type": "markdown",
   "id": "3f4875c1",
   "metadata": {},
   "source": [
    "## for 문"
   ]
  },
  {
   "cell_type": "code",
   "execution_count": 3,
   "id": "809be883",
   "metadata": {},
   "outputs": [
    {
     "name": "stdout",
     "output_type": "stream",
     "text": [
      "korean\n",
      "science\n",
      "math\n",
      "english\n"
     ]
    }
   ],
   "source": [
    "subjects = ['korean','science','math','english']\n",
    "\n",
    "for n in subjects :\n",
    "    print(n)"
   ]
  },
  {
   "cell_type": "markdown",
   "id": "41da94ec",
   "metadata": {},
   "source": [
    "### break : 반복문을 멈추고 밖으로 나가라는 의미의 키워드\n",
    "- if, for, while 에서 모두 사용됨\n"
   ]
  },
  {
   "cell_type": "code",
   "execution_count": 8,
   "id": "9e48853b",
   "metadata": {},
   "outputs": [
    {
     "name": "stdout",
     "output_type": "stream",
     "text": [
      "korean\n",
      "science\n",
      "\n",
      ">>> english 수행되지 않음\n"
     ]
    }
   ],
   "source": [
    "for n in subjects :\n",
    "    if n == 'math' :\n",
    "        break\n",
    "    print(n)\n",
    "\n",
    "print('\\n>>> english 수행되지 않음')"
   ]
  },
  {
   "cell_type": "markdown",
   "id": "7b35960d",
   "metadata": {},
   "source": [
    "### continue : 가던 길을 멈추고 다음 길로 계속 가야 함을 의미 != break"
   ]
  },
  {
   "cell_type": "code",
   "execution_count": 9,
   "id": "459c4be9",
   "metadata": {},
   "outputs": [
    {
     "name": "stdout",
     "output_type": "stream",
     "text": [
      "korean\n",
      "science\n",
      "english\n",
      "\n",
      ">>> english 수행\n"
     ]
    }
   ],
   "source": [
    "for n in subjects :\n",
    "    if n == 'math' :\n",
    "        continue\n",
    "    print(n)\n",
    "    \n",
    "print('\\n>>> english 수행')"
   ]
  },
  {
   "cell_type": "markdown",
   "id": "c1d5ff34",
   "metadata": {},
   "source": [
    "## while 문\n",
    "- 조건을 만족하면 무한히 반복해 내용 처리\n",
    "- 조건이 만족하지 않게 하거나, 반복을 종료시켜야 하는 별도의 조건 필요할 수 있음 주의"
   ]
  },
  {
   "cell_type": "code",
   "execution_count": 10,
   "id": "e8a6f41a",
   "metadata": {},
   "outputs": [
    {
     "name": "stdout",
     "output_type": "stream",
     "text": [
      "1\n",
      "2\n",
      "3\n",
      "4\n",
      "5\n",
      "6\n",
      "7\n",
      "8\n",
      "9\n",
      "10\n"
     ]
    }
   ],
   "source": [
    "num = 0\n",
    "\n",
    "while num < 10 :\n",
    "    num += 1\n",
    "    print(num)"
   ]
  },
  {
   "cell_type": "markdown",
   "id": "cf581d0b",
   "metadata": {},
   "source": [
    "### while 문에서도 if 문과 비슷하게 else 문 사용 가능\n",
    "- while 문의 조건식이 틀리면 최종적으로 else 문 수행 내용 실행"
   ]
  },
  {
   "cell_type": "code",
   "execution_count": 11,
   "id": "bf77f861",
   "metadata": {},
   "outputs": [
    {
     "name": "stdout",
     "output_type": "stream",
     "text": [
      "1\n",
      "2\n",
      "3\n",
      "4\n",
      "5\n",
      "6\n",
      "7\n",
      "8\n",
      "9\n",
      "10\n",
      "끝\n"
     ]
    }
   ],
   "source": [
    "num = 0\n",
    "\n",
    "while num < 10 :\n",
    "    num += 1\n",
    "    print(num)\n",
    "else :\n",
    "    print(\"끝\")"
   ]
  },
  {
   "cell_type": "code",
   "execution_count": 12,
   "id": "a0037a43",
   "metadata": {},
   "outputs": [
    {
     "name": "stdout",
     "output_type": "stream",
     "text": [
      "1\n",
      "2\n",
      "3\n",
      "4\n",
      "5\n",
      "6\n",
      "7\n",
      "8\n",
      "9\n",
      "10\n",
      "끝\n"
     ]
    }
   ],
   "source": [
    "num = 0\n",
    "\n",
    "while num < 10 :\n",
    "    num += 1\n",
    "    print(num)\n",
    "print(\"끝\")"
   ]
  },
  {
   "cell_type": "markdown",
   "id": "8e088b53",
   "metadata": {},
   "source": [
    "## function\n",
    "\n",
    "### 01. 내장 함수\n",
    "- print() : 화면 출력\n",
    "- type()  : 데이터나 변수의 데이터타입 반환\n",
    "- int()   : 정수형 데이터 타입으로 변환\n",
    "- float() : 실수형 데이터 타입으로 변환\n",
    "- str()   : 문자열 데이터 타입으로 변환\n",
    "- sum()   : 값들의 합계 반환\n",
    "- len()   : 길이 구하기\n",
    "- list()  : 새로운 리스트 데이터 타입 생성\n",
    "- tuple() : 새로운 튜플 데이터 타입 생성\n",
    "- dict()  : 새로운 딕셔너리 데이터 타입 생성\n",
    "- round() : 반올림 값 구하기\n",
    "- max()   : 최대값 구하기\n",
    "- min()   : 최소값 구하기\n",
    "- abs()   : 절대값 구하기"
   ]
  },
  {
   "cell_type": "markdown",
   "id": "dac2789f",
   "metadata": {},
   "source": [
    "### 02. 외장 함수\n",
    "- import 사용"
   ]
  },
  {
   "cell_type": "code",
   "execution_count": 13,
   "id": "6866abb8",
   "metadata": {},
   "outputs": [
    {
     "data": {
      "text/plain": [
       "0.7551327162762964"
      ]
     },
     "execution_count": 13,
     "metadata": {},
     "output_type": "execute_result"
    }
   ],
   "source": [
    "import random\n",
    "random.random()"
   ]
  },
  {
   "cell_type": "markdown",
   "id": "e19c9ac2",
   "metadata": {},
   "source": [
    "### 03. 사용자 정의 함수\n",
    "- def 키워드 사용"
   ]
  },
  {
   "cell_type": "markdown",
   "id": "ce0d9d29",
   "metadata": {},
   "source": [
    "1. 매개변수가 없는 경우 함수만 호출하면 일정 값만 출력됨"
   ]
  },
  {
   "cell_type": "code",
   "execution_count": 14,
   "id": "26867b51",
   "metadata": {},
   "outputs": [],
   "source": [
    "def who() :\n",
    "    print(\"it's me !\")"
   ]
  },
  {
   "cell_type": "code",
   "execution_count": 16,
   "id": "4ed6ff50",
   "metadata": {},
   "outputs": [
    {
     "name": "stdout",
     "output_type": "stream",
     "text": [
      "it's me !\n"
     ]
    }
   ],
   "source": [
    "who()  # 매개변수(입력값) 없이 사용"
   ]
  },
  {
   "cell_type": "markdown",
   "id": "4103d073",
   "metadata": {},
   "source": [
    "2. return 없이 print 만 있는 경우 : 변수값에 저장되지 않음"
   ]
  },
  {
   "cell_type": "code",
   "execution_count": 18,
   "id": "6cb51da9",
   "metadata": {},
   "outputs": [],
   "source": [
    "def my_sqrt(num) :\n",
    "    print( num * num )"
   ]
  },
  {
   "cell_type": "code",
   "execution_count": 19,
   "id": "4dd02ce5",
   "metadata": {},
   "outputs": [
    {
     "name": "stdout",
     "output_type": "stream",
     "text": [
      "100\n"
     ]
    }
   ],
   "source": [
    "my_sqrt(10)"
   ]
  },
  {
   "cell_type": "code",
   "execution_count": 20,
   "id": "d99a6e9c",
   "metadata": {},
   "outputs": [
    {
     "name": "stdout",
     "output_type": "stream",
     "text": [
      "100\n"
     ]
    }
   ],
   "source": [
    "tmp_ = my_sqrt(10)"
   ]
  },
  {
   "cell_type": "code",
   "execution_count": 21,
   "id": "0b101d22",
   "metadata": {},
   "outputs": [],
   "source": [
    "tmp_ # 출력값 없음"
   ]
  },
  {
   "cell_type": "markdown",
   "id": "3a39ff63",
   "metadata": {},
   "source": [
    "3. return 으로 내뱉는 값 설정하여 변수에 값 할당해보기"
   ]
  },
  {
   "cell_type": "code",
   "execution_count": 22,
   "id": "480d6944",
   "metadata": {},
   "outputs": [],
   "source": [
    "def cubed(num) :\n",
    "    return num*num*num"
   ]
  },
  {
   "cell_type": "code",
   "execution_count": 23,
   "id": "5c591f7e",
   "metadata": {},
   "outputs": [
    {
     "data": {
      "text/plain": [
       "125"
      ]
     },
     "execution_count": 23,
     "metadata": {},
     "output_type": "execute_result"
    }
   ],
   "source": [
    "cubed(5)"
   ]
  },
  {
   "cell_type": "code",
   "execution_count": 24,
   "id": "7c35d019",
   "metadata": {},
   "outputs": [],
   "source": [
    "tmp_ = cubed(5)"
   ]
  },
  {
   "cell_type": "code",
   "execution_count": 25,
   "id": "d71e13fc",
   "metadata": {},
   "outputs": [
    {
     "data": {
      "text/plain": [
       "125"
      ]
     },
     "execution_count": 25,
     "metadata": {},
     "output_type": "execute_result"
    }
   ],
   "source": [
    "tmp_"
   ]
  },
  {
   "cell_type": "markdown",
   "id": "042f8926",
   "metadata": {},
   "source": [
    "# 2.2 library\n",
    "\n",
    "- pandas, numpy, sklearn"
   ]
  },
  {
   "cell_type": "markdown",
   "id": "7399656d",
   "metadata": {},
   "source": [
    "## 01. pandas\n",
    "\n",
    "- 행과 열로 구성된 1차원, 2차원의 데이터를 다룸"
   ]
  },
  {
   "cell_type": "code",
   "execution_count": 26,
   "id": "0281ddcf",
   "metadata": {},
   "outputs": [],
   "source": [
    "import pandas as pd"
   ]
  },
  {
   "cell_type": "markdown",
   "id": "f5401e09",
   "metadata": {},
   "source": [
    "### pandas 데이터 타입 : Series, DataFrame"
   ]
  },
  {
   "cell_type": "code",
   "execution_count": 30,
   "id": "3486f68b",
   "metadata": {},
   "outputs": [
    {
     "name": "stdout",
     "output_type": "stream",
     "text": [
      "<class 'pandas.core.series.Series'>\n"
     ]
    },
    {
     "data": {
      "text/plain": [
       "0    홍길동\n",
       "1    이순신\n",
       "2    유관순\n",
       "3    윤봉길\n",
       "dtype: object"
      ]
     },
     "metadata": {},
     "output_type": "display_data"
    }
   ],
   "source": [
    "lst_var = ['홍길동', '이순신', '유관순', '윤봉길']\n",
    "series_ = pd.Series(lst_var)\n",
    "\n",
    "print(type(series_))\n",
    "display(series_)"
   ]
  },
  {
   "cell_type": "code",
   "execution_count": 29,
   "id": "0f6bc83d",
   "metadata": {},
   "outputs": [
    {
     "name": "stdout",
     "output_type": "stream",
     "text": [
      "<class 'pandas.core.frame.DataFrame'>\n"
     ]
    },
    {
     "data": {
      "text/html": [
       "<div>\n",
       "<style scoped>\n",
       "    .dataframe tbody tr th:only-of-type {\n",
       "        vertical-align: middle;\n",
       "    }\n",
       "\n",
       "    .dataframe tbody tr th {\n",
       "        vertical-align: top;\n",
       "    }\n",
       "\n",
       "    .dataframe thead th {\n",
       "        text-align: right;\n",
       "    }\n",
       "</style>\n",
       "<table border=\"1\" class=\"dataframe\">\n",
       "  <thead>\n",
       "    <tr style=\"text-align: right;\">\n",
       "      <th></th>\n",
       "      <th>0</th>\n",
       "      <th>1</th>\n",
       "      <th>2</th>\n",
       "    </tr>\n",
       "  </thead>\n",
       "  <tbody>\n",
       "    <tr>\n",
       "      <th>0</th>\n",
       "      <td>홍길동</td>\n",
       "      <td>29</td>\n",
       "      <td>여</td>\n",
       "    </tr>\n",
       "    <tr>\n",
       "      <th>1</th>\n",
       "      <td>이순신</td>\n",
       "      <td>24</td>\n",
       "      <td>남</td>\n",
       "    </tr>\n",
       "    <tr>\n",
       "      <th>2</th>\n",
       "      <td>유관순</td>\n",
       "      <td>38</td>\n",
       "      <td>남</td>\n",
       "    </tr>\n",
       "    <tr>\n",
       "      <th>3</th>\n",
       "      <td>윤봉길</td>\n",
       "      <td>31</td>\n",
       "      <td>여</td>\n",
       "    </tr>\n",
       "  </tbody>\n",
       "</table>\n",
       "</div>"
      ],
      "text/plain": [
       "     0   1  2\n",
       "0  홍길동  29  여\n",
       "1  이순신  24  남\n",
       "2  유관순  38  남\n",
       "3  윤봉길  31  여"
      ]
     },
     "metadata": {},
     "output_type": "display_data"
    }
   ],
   "source": [
    "lst_var = (['홍길동',29,'여'],\n",
    "           ['이순신',24,'남'],\n",
    "           ['유관순',38,'남'],\n",
    "           ['윤봉길',31,'여'])\n",
    "\n",
    "# list를 데이터 프레임 타입으로 변경\n",
    "df_ = pd.DataFrame(lst_var)\n",
    "\n",
    "print(type(df_))\n",
    "display(df_)"
   ]
  },
  {
   "cell_type": "markdown",
   "id": "1db92450",
   "metadata": {},
   "source": [
    "### index, columns 변경"
   ]
  },
  {
   "cell_type": "code",
   "execution_count": 31,
   "id": "953de08f",
   "metadata": {},
   "outputs": [
    {
     "data": {
      "text/html": [
       "<div>\n",
       "<style scoped>\n",
       "    .dataframe tbody tr th:only-of-type {\n",
       "        vertical-align: middle;\n",
       "    }\n",
       "\n",
       "    .dataframe tbody tr th {\n",
       "        vertical-align: top;\n",
       "    }\n",
       "\n",
       "    .dataframe thead th {\n",
       "        text-align: right;\n",
       "    }\n",
       "</style>\n",
       "<table border=\"1\" class=\"dataframe\">\n",
       "  <thead>\n",
       "    <tr style=\"text-align: right;\">\n",
       "      <th></th>\n",
       "      <th>0</th>\n",
       "      <th>1</th>\n",
       "      <th>2</th>\n",
       "    </tr>\n",
       "  </thead>\n",
       "  <tbody>\n",
       "    <tr>\n",
       "      <th>1번</th>\n",
       "      <td>홍길동</td>\n",
       "      <td>29</td>\n",
       "      <td>여</td>\n",
       "    </tr>\n",
       "    <tr>\n",
       "      <th>2번</th>\n",
       "      <td>이순신</td>\n",
       "      <td>24</td>\n",
       "      <td>남</td>\n",
       "    </tr>\n",
       "    <tr>\n",
       "      <th>3번</th>\n",
       "      <td>유관순</td>\n",
       "      <td>38</td>\n",
       "      <td>남</td>\n",
       "    </tr>\n",
       "    <tr>\n",
       "      <th>4번</th>\n",
       "      <td>윤봉길</td>\n",
       "      <td>31</td>\n",
       "      <td>여</td>\n",
       "    </tr>\n",
       "  </tbody>\n",
       "</table>\n",
       "</div>"
      ],
      "text/plain": [
       "      0   1  2\n",
       "1번  홍길동  29  여\n",
       "2번  이순신  24  남\n",
       "3번  유관순  38  남\n",
       "4번  윤봉길  31  여"
      ]
     },
     "execution_count": 31,
     "metadata": {},
     "output_type": "execute_result"
    }
   ],
   "source": [
    "df_.index = ['1번','2번','3번','4번']\n",
    "df_"
   ]
  },
  {
   "cell_type": "code",
   "execution_count": 32,
   "id": "27a667ea",
   "metadata": {},
   "outputs": [
    {
     "data": {
      "text/html": [
       "<div>\n",
       "<style scoped>\n",
       "    .dataframe tbody tr th:only-of-type {\n",
       "        vertical-align: middle;\n",
       "    }\n",
       "\n",
       "    .dataframe tbody tr th {\n",
       "        vertical-align: top;\n",
       "    }\n",
       "\n",
       "    .dataframe thead th {\n",
       "        text-align: right;\n",
       "    }\n",
       "</style>\n",
       "<table border=\"1\" class=\"dataframe\">\n",
       "  <thead>\n",
       "    <tr style=\"text-align: right;\">\n",
       "      <th></th>\n",
       "      <th>이름</th>\n",
       "      <th>나이</th>\n",
       "      <th>성별</th>\n",
       "    </tr>\n",
       "  </thead>\n",
       "  <tbody>\n",
       "    <tr>\n",
       "      <th>1번</th>\n",
       "      <td>홍길동</td>\n",
       "      <td>29</td>\n",
       "      <td>여</td>\n",
       "    </tr>\n",
       "    <tr>\n",
       "      <th>2번</th>\n",
       "      <td>이순신</td>\n",
       "      <td>24</td>\n",
       "      <td>남</td>\n",
       "    </tr>\n",
       "    <tr>\n",
       "      <th>3번</th>\n",
       "      <td>유관순</td>\n",
       "      <td>38</td>\n",
       "      <td>남</td>\n",
       "    </tr>\n",
       "    <tr>\n",
       "      <th>4번</th>\n",
       "      <td>윤봉길</td>\n",
       "      <td>31</td>\n",
       "      <td>여</td>\n",
       "    </tr>\n",
       "  </tbody>\n",
       "</table>\n",
       "</div>"
      ],
      "text/plain": [
       "     이름  나이 성별\n",
       "1번  홍길동  29  여\n",
       "2번  이순신  24  남\n",
       "3번  유관순  38  남\n",
       "4번  윤봉길  31  여"
      ]
     },
     "execution_count": 32,
     "metadata": {},
     "output_type": "execute_result"
    }
   ],
   "source": [
    "df_.columns = ['이름','나이','성별']\n",
    "df_"
   ]
  },
  {
   "cell_type": "markdown",
   "id": "1f660b12",
   "metadata": {},
   "source": [
    "### 일부 열/행 값 추출 : [ ]"
   ]
  },
  {
   "cell_type": "code",
   "execution_count": 33,
   "id": "36c26e98",
   "metadata": {},
   "outputs": [
    {
     "data": {
      "text/plain": [
       "1번    29\n",
       "2번    24\n",
       "3번    38\n",
       "4번    31\n",
       "Name: 나이, dtype: int64"
      ]
     },
     "execution_count": 33,
     "metadata": {},
     "output_type": "execute_result"
    }
   ],
   "source": [
    "# 열 값 추출\n",
    "df_['나이']"
   ]
  },
  {
   "cell_type": "markdown",
   "id": "8006b448",
   "metadata": {},
   "source": [
    "행 값 추출시,\n",
    "- index num의 경우 : [시작위치:끝위치+1]\n",
    "- index name 의 경우 : [시작위치:끝위치]"
   ]
  },
  {
   "cell_type": "code",
   "execution_count": 34,
   "id": "b95f229a",
   "metadata": {
    "scrolled": true
   },
   "outputs": [
    {
     "data": {
      "text/html": [
       "<div>\n",
       "<style scoped>\n",
       "    .dataframe tbody tr th:only-of-type {\n",
       "        vertical-align: middle;\n",
       "    }\n",
       "\n",
       "    .dataframe tbody tr th {\n",
       "        vertical-align: top;\n",
       "    }\n",
       "\n",
       "    .dataframe thead th {\n",
       "        text-align: right;\n",
       "    }\n",
       "</style>\n",
       "<table border=\"1\" class=\"dataframe\">\n",
       "  <thead>\n",
       "    <tr style=\"text-align: right;\">\n",
       "      <th></th>\n",
       "      <th>이름</th>\n",
       "      <th>나이</th>\n",
       "      <th>성별</th>\n",
       "    </tr>\n",
       "  </thead>\n",
       "  <tbody>\n",
       "    <tr>\n",
       "      <th>2번</th>\n",
       "      <td>이순신</td>\n",
       "      <td>24</td>\n",
       "      <td>남</td>\n",
       "    </tr>\n",
       "    <tr>\n",
       "      <th>3번</th>\n",
       "      <td>유관순</td>\n",
       "      <td>38</td>\n",
       "      <td>남</td>\n",
       "    </tr>\n",
       "  </tbody>\n",
       "</table>\n",
       "</div>"
      ],
      "text/plain": [
       "     이름  나이 성별\n",
       "2번  이순신  24  남\n",
       "3번  유관순  38  남"
      ]
     },
     "execution_count": 34,
     "metadata": {},
     "output_type": "execute_result"
    }
   ],
   "source": [
    "# 행 값 추출\n",
    "df_[1:3]"
   ]
  },
  {
   "cell_type": "code",
   "execution_count": 35,
   "id": "dbd9a791",
   "metadata": {},
   "outputs": [
    {
     "data": {
      "text/html": [
       "<div>\n",
       "<style scoped>\n",
       "    .dataframe tbody tr th:only-of-type {\n",
       "        vertical-align: middle;\n",
       "    }\n",
       "\n",
       "    .dataframe tbody tr th {\n",
       "        vertical-align: top;\n",
       "    }\n",
       "\n",
       "    .dataframe thead th {\n",
       "        text-align: right;\n",
       "    }\n",
       "</style>\n",
       "<table border=\"1\" class=\"dataframe\">\n",
       "  <thead>\n",
       "    <tr style=\"text-align: right;\">\n",
       "      <th></th>\n",
       "      <th>이름</th>\n",
       "      <th>나이</th>\n",
       "      <th>성별</th>\n",
       "    </tr>\n",
       "  </thead>\n",
       "  <tbody>\n",
       "    <tr>\n",
       "      <th>2번</th>\n",
       "      <td>이순신</td>\n",
       "      <td>24</td>\n",
       "      <td>남</td>\n",
       "    </tr>\n",
       "    <tr>\n",
       "      <th>3번</th>\n",
       "      <td>유관순</td>\n",
       "      <td>38</td>\n",
       "      <td>남</td>\n",
       "    </tr>\n",
       "  </tbody>\n",
       "</table>\n",
       "</div>"
      ],
      "text/plain": [
       "     이름  나이 성별\n",
       "2번  이순신  24  남\n",
       "3번  유관순  38  남"
      ]
     },
     "execution_count": 35,
     "metadata": {},
     "output_type": "execute_result"
    }
   ],
   "source": [
    "df_['2번':'3번']"
   ]
  },
  {
   "cell_type": "markdown",
   "id": "4a23b14e",
   "metadata": {},
   "source": [
    "### 파일 읽고 쓰기\n",
    "- pd.read_csv(), pd.to_csv()"
   ]
  },
  {
   "cell_type": "code",
   "execution_count": null,
   "id": "14d69449",
   "metadata": {},
   "outputs": [],
   "source": [
    "# 코드 예시로 실행은 X\n",
    "\n",
    "dataset = pd.read_csv('data/train.csv')\n",
    "dataset"
   ]
  },
  {
   "cell_type": "code",
   "execution_count": null,
   "id": "e0112ce9",
   "metadata": {},
   "outputs": [],
   "source": [
    "# 코드 예시로 실행은 X\n",
    "\n",
    "dataset.to_csv('data/12345.csv')"
   ]
  },
  {
   "cell_type": "markdown",
   "id": "b0791e07",
   "metadata": {},
   "source": [
    "## 02. sklearn\n",
    "\n",
    "- 머신러닝(기계학습) 수행할 수 있는 라이브러리\n",
    "- scikit-learn 의 약자\n",
    "\n",
    "### sklearn 라이브러리/ 패키지\n",
    "- preprocessing : StandardScaler, MinMaxScaler, RobustScaler, OneHotEncoder, LabelEncoder, ...\n",
    "- model_selection : train_test_split, cross_validation, learning_curve, validation_curve, GridSearchCV, ...\n",
    "- linear_model : LogisticRegression, Perceptron, ...\n",
    "- tree : DecisionTreeClassifier, ..."
   ]
  },
  {
   "cell_type": "code",
   "execution_count": 37,
   "id": "69851d24",
   "metadata": {},
   "outputs": [],
   "source": [
    "# 함수 import\n",
    "from sklearn.model_selection import train_test_split\n",
    "from sklearn.tree            import DecisionTreeClassifier"
   ]
  },
  {
   "cell_type": "markdown",
   "id": "a0a014e1",
   "metadata": {},
   "source": [
    "## 03. numpy\n",
    "\n",
    "- 벡터, 행렬 등 수치 연산 수행하는 선형대수 라이브러리"
   ]
  },
  {
   "cell_type": "code",
   "execution_count": 39,
   "id": "2e834b52",
   "metadata": {},
   "outputs": [
    {
     "data": {
      "text/plain": [
       "array([[0., 0., 0.],\n",
       "       [0., 0., 0.]])"
      ]
     },
     "execution_count": 39,
     "metadata": {},
     "output_type": "execute_result"
    }
   ],
   "source": [
    "import numpy as np\n",
    "\n",
    "np.zeros((2,3))      # 2행 3열 모두 0으로 채우기"
   ]
  },
  {
   "cell_type": "code",
   "execution_count": 42,
   "id": "205d30aa",
   "metadata": {},
   "outputs": [
    {
     "data": {
      "text/plain": [
       "array([[1., 1., 1.],\n",
       "       [1., 1., 1.]])"
      ]
     },
     "execution_count": 42,
     "metadata": {},
     "output_type": "execute_result"
    }
   ],
   "source": [
    "np.ones((2,3))       # 2행 3열 모두 1로 채우기"
   ]
  },
  {
   "cell_type": "code",
   "execution_count": 44,
   "id": "d66b9950",
   "metadata": {},
   "outputs": [
    {
     "data": {
      "text/plain": [
       "array([[10, 10, 10],\n",
       "       [10, 10, 10]])"
      ]
     },
     "execution_count": 44,
     "metadata": {},
     "output_type": "execute_result"
    }
   ],
   "source": [
    "np.full((2,3), 10)   # 2행 3열 특정 수(10)로 채우기"
   ]
  },
  {
   "cell_type": "code",
   "execution_count": 50,
   "id": "c7d5472b",
   "metadata": {},
   "outputs": [
    {
     "data": {
      "text/plain": [
       "array([ 0,  1,  2,  3,  4,  5,  6,  7,  8,  9, 10, 11, 12, 13, 14, 15, 16,\n",
       "       17, 18, 19])"
      ]
     },
     "execution_count": 50,
     "metadata": {},
     "output_type": "execute_result"
    }
   ],
   "source": [
    "np.array(range(20))  # 0부터 20개의 숫자 만들기 > shape : (20, )"
   ]
  },
  {
   "cell_type": "code",
   "execution_count": 52,
   "id": "c6d23bf1",
   "metadata": {},
   "outputs": [
    {
     "data": {
      "text/plain": [
       "array([[ 0,  1,  2,  3,  4],\n",
       "       [ 5,  6,  7,  8,  9],\n",
       "       [10, 11, 12, 13, 14],\n",
       "       [15, 16, 17, 18, 19]])"
      ]
     },
     "execution_count": 52,
     "metadata": {},
     "output_type": "execute_result"
    }
   ],
   "source": [
    "np.array(range(20)).reshape(4,5)   # 0부터 20개의 숫자로 4행 5열의 행렬 만들기"
   ]
  },
  {
   "cell_type": "code",
   "execution_count": null,
   "id": "5b345052",
   "metadata": {},
   "outputs": [],
   "source": []
  },
  {
   "cell_type": "code",
   "execution_count": null,
   "id": "3c4bfef3",
   "metadata": {},
   "outputs": [],
   "source": []
  },
  {
   "cell_type": "code",
   "execution_count": null,
   "id": "acfd4c44",
   "metadata": {},
   "outputs": [],
   "source": []
  },
  {
   "cell_type": "code",
   "execution_count": null,
   "id": "55f73f61",
   "metadata": {},
   "outputs": [],
   "source": []
  },
  {
   "cell_type": "code",
   "execution_count": null,
   "id": "b0b5ac15",
   "metadata": {},
   "outputs": [],
   "source": []
  },
  {
   "cell_type": "code",
   "execution_count": null,
   "id": "704cc940",
   "metadata": {},
   "outputs": [],
   "source": []
  }
 ],
 "metadata": {
  "kernelspec": {
   "display_name": "Python 3 (ipykernel)",
   "language": "python",
   "name": "python3"
  },
  "language_info": {
   "codemirror_mode": {
    "name": "ipython",
    "version": 3
   },
   "file_extension": ".py",
   "mimetype": "text/x-python",
   "name": "python",
   "nbconvert_exporter": "python",
   "pygments_lexer": "ipython3",
   "version": "3.7.13"
  }
 },
 "nbformat": 4,
 "nbformat_minor": 5
}
