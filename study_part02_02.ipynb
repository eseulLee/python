{
 "cells": [
  {
   "cell_type": "markdown",
   "id": "d1478886",
   "metadata": {},
   "source": [
    "# 2.1 if, for, while"
   ]
  },
  {
   "cell_type": "markdown",
   "id": "bd189d7f",
   "metadata": {},
   "source": [
    "## if 문\n",
    "- if ~ elif ~ else\n",
    "- 인덴트 주의"
   ]
  },
  {
   "cell_type": "code",
   "execution_count": 2,
   "id": "a2f19730",
   "metadata": {},
   "outputs": [
    {
     "name": "stdout",
     "output_type": "stream",
     "text": [
      "C 학점\n",
      "공부하자..\n"
     ]
    }
   ],
   "source": [
    "score = 72\n",
    "\n",
    "if score >= 90 :\n",
    "    print(\"A 학점\")\n",
    "    print(\"good job!!!\")\n",
    "elif score >= 80 :\n",
    "    print('B 학점')\n",
    "    print('분발합시다~')\n",
    "elif score >= 70 :\n",
    "    print('C 학점')\n",
    "    print('공부하자..')\n",
    "else :\n",
    "    print('D 학점')\n",
    "    print('TnT')"
   ]
  },
  {
   "cell_type": "markdown",
   "id": "ae4f6cf3",
   "metadata": {},
   "source": [
    "## for 문"
   ]
  },
  {
   "cell_type": "code",
   "execution_count": 3,
   "id": "0233b2d7",
   "metadata": {},
   "outputs": [
    {
     "name": "stdout",
     "output_type": "stream",
     "text": [
      "korean\n",
      "science\n",
      "math\n",
      "english\n"
     ]
    }
   ],
   "source": [
    "subjects = ['korean','science','math','english']\n",
    "\n",
    "for n in subjects :\n",
    "    print(n)"
   ]
  },
  {
   "cell_type": "markdown",
   "id": "fef06034",
   "metadata": {},
   "source": [
    "### break : 반복문을 멈추고 밖으로 나가라는 의미의 키워드\n",
    "- if, for, while 에서 모두 사용됨\n"
   ]
  },
  {
   "cell_type": "code",
   "execution_count": 8,
   "id": "c8d58fe9",
   "metadata": {},
   "outputs": [
    {
     "name": "stdout",
     "output_type": "stream",
     "text": [
      "korean\n",
      "science\n",
      "\n",
      ">>> english 수행되지 않음\n"
     ]
    }
   ],
   "source": [
    "for n in subjects :\n",
    "    if n == 'math' :\n",
    "        break\n",
    "    print(n)\n",
    "\n",
    "print('\\n>>> english 수행되지 않음')"
   ]
  },
  {
   "cell_type": "markdown",
   "id": "cfa7ca77",
   "metadata": {},
   "source": [
    "### continue : 가던 길을 멈추고 다음 길로 계속 가야 함을 의미 != break"
   ]
  },
  {
   "cell_type": "code",
   "execution_count": 9,
   "id": "a27188a7",
   "metadata": {},
   "outputs": [
    {
     "name": "stdout",
     "output_type": "stream",
     "text": [
      "korean\n",
      "science\n",
      "english\n",
      "\n",
      ">>> english 수행\n"
     ]
    }
   ],
   "source": [
    "for n in subjects :\n",
    "    if n == 'math' :\n",
    "        continue\n",
    "    print(n)\n",
    "    \n",
    "print('\\n>>> english 수행')"
   ]
  },
  {
   "cell_type": "markdown",
   "id": "2d89f7c5",
   "metadata": {},
   "source": [
    "## while 문\n",
    "- 조건을 만족하면 무한히 반복해 내용 처리\n",
    "- 조건이 만족하지 않게 하거나, 반복을 종료시켜야 하는 별도의 조건 필요할 수 있음 주의"
   ]
  },
  {
   "cell_type": "code",
   "execution_count": 10,
   "id": "dee7c0ef",
   "metadata": {},
   "outputs": [
    {
     "name": "stdout",
     "output_type": "stream",
     "text": [
      "1\n",
      "2\n",
      "3\n",
      "4\n",
      "5\n",
      "6\n",
      "7\n",
      "8\n",
      "9\n",
      "10\n"
     ]
    }
   ],
   "source": [
    "num = 0\n",
    "\n",
    "while num < 10 :\n",
    "    num += 1\n",
    "    print(num)"
   ]
  },
  {
   "cell_type": "markdown",
   "id": "c775bbe5",
   "metadata": {},
   "source": [
    "### while 문에서도 if 문과 비슷하게 else 문 사용 가능\n",
    "- while 문의 조건식이 틀리면 최종적으로 else 문 수행 내용 실행"
   ]
  },
  {
   "cell_type": "code",
   "execution_count": 11,
   "id": "ec5dfa15",
   "metadata": {},
   "outputs": [
    {
     "name": "stdout",
     "output_type": "stream",
     "text": [
      "1\n",
      "2\n",
      "3\n",
      "4\n",
      "5\n",
      "6\n",
      "7\n",
      "8\n",
      "9\n",
      "10\n",
      "끝\n"
     ]
    }
   ],
   "source": [
    "num = 0\n",
    "\n",
    "while num < 10 :\n",
    "    num += 1\n",
    "    print(num)\n",
    "else :\n",
    "    print(\"끝\")"
   ]
  },
  {
   "cell_type": "code",
   "execution_count": 12,
   "id": "518e593d",
   "metadata": {},
   "outputs": [
    {
     "name": "stdout",
     "output_type": "stream",
     "text": [
      "1\n",
      "2\n",
      "3\n",
      "4\n",
      "5\n",
      "6\n",
      "7\n",
      "8\n",
      "9\n",
      "10\n",
      "끝\n"
     ]
    }
   ],
   "source": [
    "num = 0\n",
    "\n",
    "while num < 10 :\n",
    "    num += 1\n",
    "    print(num)\n",
    "print(\"끝\")"
   ]
  },
  {
   "cell_type": "markdown",
   "id": "d94dc825",
   "metadata": {},
   "source": [
    "## function\n",
    "\n",
    "### 01. 내장 함수\n",
    "- print() : 화면 출력\n",
    "- type()  : 데이터나 변수의 데이터타입 반환\n",
    "- int()   : 정수형 데이터 타입으로 변환\n",
    "- float() : 실수형 데이터 타입으로 변환\n",
    "- str()   : 문자열 데이터 타입으로 변환\n",
    "- sum()   : 값들의 합계 반환\n",
    "- len()   : 길이 구하기\n",
    "- list()  : 새로운 리스트 데이터 타입 생성\n",
    "- tuple() : 새로운 튜플 데이터 타입 생성\n",
    "- dict()  : 새로운 딕셔너리 데이터 타입 생성\n",
    "- round() : 반올림 값 구하기\n",
    "- max()   : 최대값 구하기\n",
    "- min()   : 최소값 구하기\n",
    "- abs()   : 절대값 구하기"
   ]
  },
  {
   "cell_type": "markdown",
   "id": "f836a698",
   "metadata": {},
   "source": [
    "### 02. 외장 함수\n",
    "- import 사용"
   ]
  },
  {
   "cell_type": "code",
   "execution_count": 13,
   "id": "df531125",
   "metadata": {},
   "outputs": [
    {
     "data": {
      "text/plain": [
       "0.7551327162762964"
      ]
     },
     "execution_count": 13,
     "metadata": {},
     "output_type": "execute_result"
    }
   ],
   "source": [
    "import random\n",
    "random.random()"
   ]
  },
  {
   "cell_type": "markdown",
   "id": "6038508a",
   "metadata": {},
   "source": [
    "### 03. 사용자 정의 함수\n",
    "- def 키워드 사용"
   ]
  },
  {
   "cell_type": "markdown",
   "id": "d337a39e",
   "metadata": {},
   "source": [
    "1. 매개변수가 없는 경우 함수만 호출하면 일정 값만 출력됨"
   ]
  },
  {
   "cell_type": "code",
   "execution_count": 14,
   "id": "3cb45bd8",
   "metadata": {},
   "outputs": [],
   "source": [
    "def who() :\n",
    "    print(\"it's me !\")"
   ]
  },
  {
   "cell_type": "code",
   "execution_count": 16,
   "id": "e96f68bd",
   "metadata": {},
   "outputs": [
    {
     "name": "stdout",
     "output_type": "stream",
     "text": [
      "it's me !\n"
     ]
    }
   ],
   "source": [
    "who()  # 매개변수(입력값) 없이 사용"
   ]
  },
  {
   "cell_type": "markdown",
   "id": "6682d052",
   "metadata": {},
   "source": [
    "2. return 없이 print 만 있는 경우 : 변수값에 저장되지 않음"
   ]
  },
  {
   "cell_type": "code",
   "execution_count": 18,
   "id": "481a05fb",
   "metadata": {},
   "outputs": [],
   "source": [
    "def my_sqrt(num) :\n",
    "    print( num * num )"
   ]
  },
  {
   "cell_type": "code",
   "execution_count": 19,
   "id": "78b01d29",
   "metadata": {},
   "outputs": [
    {
     "name": "stdout",
     "output_type": "stream",
     "text": [
      "100\n"
     ]
    }
   ],
   "source": [
    "my_sqrt(10)"
   ]
  },
  {
   "cell_type": "code",
   "execution_count": 20,
   "id": "74cc6ad8",
   "metadata": {},
   "outputs": [
    {
     "name": "stdout",
     "output_type": "stream",
     "text": [
      "100\n"
     ]
    }
   ],
   "source": [
    "tmp_ = my_sqrt(10)"
   ]
  },
  {
   "cell_type": "code",
   "execution_count": 21,
   "id": "a54ffc6f",
   "metadata": {},
   "outputs": [],
   "source": [
    "tmp_ # 출력값 없음"
   ]
  },
  {
   "cell_type": "markdown",
   "id": "bd8a5940",
   "metadata": {},
   "source": [
    "3. return 으로 내뱉는 값 설정하여 변수에 값 할당해보기"
   ]
  },
  {
   "cell_type": "code",
   "execution_count": 22,
   "id": "6f51c7e0",
   "metadata": {},
   "outputs": [],
   "source": [
    "def cubed(num) :\n",
    "    return num*num*num"
   ]
  },
  {
   "cell_type": "code",
   "execution_count": 23,
   "id": "882e6450",
   "metadata": {},
   "outputs": [
    {
     "data": {
      "text/plain": [
       "125"
      ]
     },
     "execution_count": 23,
     "metadata": {},
     "output_type": "execute_result"
    }
   ],
   "source": [
    "cubed(5)"
   ]
  },
  {
   "cell_type": "code",
   "execution_count": 24,
   "id": "355b747a",
   "metadata": {},
   "outputs": [],
   "source": [
    "tmp_ = cubed(5)"
   ]
  },
  {
   "cell_type": "code",
   "execution_count": 25,
   "id": "f82f9763",
   "metadata": {},
   "outputs": [
    {
     "data": {
      "text/plain": [
       "125"
      ]
     },
     "execution_count": 25,
     "metadata": {},
     "output_type": "execute_result"
    }
   ],
   "source": [
    "tmp_"
   ]
  },
  {
   "cell_type": "markdown",
   "id": "7886594b",
   "metadata": {},
   "source": [
    "# 2.2 library\n",
    "\n",
    "- pandas, numpy, sklearn"
   ]
  },
  {
   "cell_type": "markdown",
   "id": "e074bbc9",
   "metadata": {},
   "source": [
    "## 01. pandas\n",
    "\n",
    "- 행과 열로 구성된 1차원, 2차원의 데이터를 다룸"
   ]
  },
  {
   "cell_type": "code",
   "execution_count": 26,
   "id": "8fde3930",
   "metadata": {},
   "outputs": [],
   "source": [
    "import pandas as pd"
   ]
  },
  {
   "cell_type": "markdown",
   "id": "6cca7871",
   "metadata": {},
   "source": [
    "### pandas 데이터 타입 : Series, DataFrame"
   ]
  },
  {
   "cell_type": "code",
   "execution_count": 30,
   "id": "231f89bd",
   "metadata": {},
   "outputs": [
    {
     "name": "stdout",
     "output_type": "stream",
     "text": [
      "<class 'pandas.core.series.Series'>\n"
     ]
    },
    {
     "data": {
      "text/plain": [
       "0    홍길동\n",
       "1    이순신\n",
       "2    유관순\n",
       "3    윤봉길\n",
       "dtype: object"
      ]
     },
     "metadata": {},
     "output_type": "display_data"
    }
   ],
   "source": [
    "lst_var = ['홍길동', '이순신', '유관순', '윤봉길']\n",
    "series_ = pd.Series(lst_var)\n",
    "\n",
    "print(type(series_))\n",
    "display(series_)"
   ]
  },
  {
   "cell_type": "code",
   "execution_count": 29,
   "id": "28e4682a",
   "metadata": {},
   "outputs": [
    {
     "name": "stdout",
     "output_type": "stream",
     "text": [
      "<class 'pandas.core.frame.DataFrame'>\n"
     ]
    },
    {
     "data": {
      "text/html": [
       "<div>\n",
       "<style scoped>\n",
       "    .dataframe tbody tr th:only-of-type {\n",
       "        vertical-align: middle;\n",
       "    }\n",
       "\n",
       "    .dataframe tbody tr th {\n",
       "        vertical-align: top;\n",
       "    }\n",
       "\n",
       "    .dataframe thead th {\n",
       "        text-align: right;\n",
       "    }\n",
       "</style>\n",
       "<table border=\"1\" class=\"dataframe\">\n",
       "  <thead>\n",
       "    <tr style=\"text-align: right;\">\n",
       "      <th></th>\n",
       "      <th>0</th>\n",
       "      <th>1</th>\n",
       "      <th>2</th>\n",
       "    </tr>\n",
       "  </thead>\n",
       "  <tbody>\n",
       "    <tr>\n",
       "      <th>0</th>\n",
       "      <td>홍길동</td>\n",
       "      <td>29</td>\n",
       "      <td>여</td>\n",
       "    </tr>\n",
       "    <tr>\n",
       "      <th>1</th>\n",
       "      <td>이순신</td>\n",
       "      <td>24</td>\n",
       "      <td>남</td>\n",
       "    </tr>\n",
       "    <tr>\n",
       "      <th>2</th>\n",
       "      <td>유관순</td>\n",
       "      <td>38</td>\n",
       "      <td>남</td>\n",
       "    </tr>\n",
       "    <tr>\n",
       "      <th>3</th>\n",
       "      <td>윤봉길</td>\n",
       "      <td>31</td>\n",
       "      <td>여</td>\n",
       "    </tr>\n",
       "  </tbody>\n",
       "</table>\n",
       "</div>"
      ],
      "text/plain": [
       "     0   1  2\n",
       "0  홍길동  29  여\n",
       "1  이순신  24  남\n",
       "2  유관순  38  남\n",
       "3  윤봉길  31  여"
      ]
     },
     "metadata": {},
     "output_type": "display_data"
    }
   ],
   "source": [
    "lst_var = (['홍길동',29,'여'],\n",
    "           ['이순신',24,'남'],\n",
    "           ['유관순',38,'남'],\n",
    "           ['윤봉길',31,'여'])\n",
    "\n",
    "# list를 데이터 프레임 타입으로 변경\n",
    "df_ = pd.DataFrame(lst_var)\n",
    "\n",
    "print(type(df_))\n",
    "display(df_)"
   ]
  },
  {
   "cell_type": "markdown",
   "id": "7c17ab90",
   "metadata": {},
   "source": [
    "### index, columns 변경"
   ]
  },
  {
   "cell_type": "code",
   "execution_count": 31,
   "id": "1a5ecdba",
   "metadata": {},
   "outputs": [
    {
     "data": {
      "text/html": [
       "<div>\n",
       "<style scoped>\n",
       "    .dataframe tbody tr th:only-of-type {\n",
       "        vertical-align: middle;\n",
       "    }\n",
       "\n",
       "    .dataframe tbody tr th {\n",
       "        vertical-align: top;\n",
       "    }\n",
       "\n",
       "    .dataframe thead th {\n",
       "        text-align: right;\n",
       "    }\n",
       "</style>\n",
       "<table border=\"1\" class=\"dataframe\">\n",
       "  <thead>\n",
       "    <tr style=\"text-align: right;\">\n",
       "      <th></th>\n",
       "      <th>0</th>\n",
       "      <th>1</th>\n",
       "      <th>2</th>\n",
       "    </tr>\n",
       "  </thead>\n",
       "  <tbody>\n",
       "    <tr>\n",
       "      <th>1번</th>\n",
       "      <td>홍길동</td>\n",
       "      <td>29</td>\n",
       "      <td>여</td>\n",
       "    </tr>\n",
       "    <tr>\n",
       "      <th>2번</th>\n",
       "      <td>이순신</td>\n",
       "      <td>24</td>\n",
       "      <td>남</td>\n",
       "    </tr>\n",
       "    <tr>\n",
       "      <th>3번</th>\n",
       "      <td>유관순</td>\n",
       "      <td>38</td>\n",
       "      <td>남</td>\n",
       "    </tr>\n",
       "    <tr>\n",
       "      <th>4번</th>\n",
       "      <td>윤봉길</td>\n",
       "      <td>31</td>\n",
       "      <td>여</td>\n",
       "    </tr>\n",
       "  </tbody>\n",
       "</table>\n",
       "</div>"
      ],
      "text/plain": [
       "      0   1  2\n",
       "1번  홍길동  29  여\n",
       "2번  이순신  24  남\n",
       "3번  유관순  38  남\n",
       "4번  윤봉길  31  여"
      ]
     },
     "execution_count": 31,
     "metadata": {},
     "output_type": "execute_result"
    }
   ],
   "source": [
    "df_.index = ['1번','2번','3번','4번']\n",
    "df_"
   ]
  },
  {
   "cell_type": "code",
   "execution_count": 32,
   "id": "d9bbb36f",
   "metadata": {},
   "outputs": [
    {
     "data": {
      "text/html": [
       "<div>\n",
       "<style scoped>\n",
       "    .dataframe tbody tr th:only-of-type {\n",
       "        vertical-align: middle;\n",
       "    }\n",
       "\n",
       "    .dataframe tbody tr th {\n",
       "        vertical-align: top;\n",
       "    }\n",
       "\n",
       "    .dataframe thead th {\n",
       "        text-align: right;\n",
       "    }\n",
       "</style>\n",
       "<table border=\"1\" class=\"dataframe\">\n",
       "  <thead>\n",
       "    <tr style=\"text-align: right;\">\n",
       "      <th></th>\n",
       "      <th>이름</th>\n",
       "      <th>나이</th>\n",
       "      <th>성별</th>\n",
       "    </tr>\n",
       "  </thead>\n",
       "  <tbody>\n",
       "    <tr>\n",
       "      <th>1번</th>\n",
       "      <td>홍길동</td>\n",
       "      <td>29</td>\n",
       "      <td>여</td>\n",
       "    </tr>\n",
       "    <tr>\n",
       "      <th>2번</th>\n",
       "      <td>이순신</td>\n",
       "      <td>24</td>\n",
       "      <td>남</td>\n",
       "    </tr>\n",
       "    <tr>\n",
       "      <th>3번</th>\n",
       "      <td>유관순</td>\n",
       "      <td>38</td>\n",
       "      <td>남</td>\n",
       "    </tr>\n",
       "    <tr>\n",
       "      <th>4번</th>\n",
       "      <td>윤봉길</td>\n",
       "      <td>31</td>\n",
       "      <td>여</td>\n",
       "    </tr>\n",
       "  </tbody>\n",
       "</table>\n",
       "</div>"
      ],
      "text/plain": [
       "     이름  나이 성별\n",
       "1번  홍길동  29  여\n",
       "2번  이순신  24  남\n",
       "3번  유관순  38  남\n",
       "4번  윤봉길  31  여"
      ]
     },
     "execution_count": 32,
     "metadata": {},
     "output_type": "execute_result"
    }
   ],
   "source": [
    "df_.columns = ['이름','나이','성별']\n",
    "df_"
   ]
  },
  {
   "cell_type": "markdown",
   "id": "da811042",
   "metadata": {},
   "source": [
    "### 일부 열/행 값 추출 : [ ]"
   ]
  },
  {
   "cell_type": "code",
   "execution_count": 33,
   "id": "247239cf",
   "metadata": {},
   "outputs": [
    {
     "data": {
      "text/plain": [
       "1번    29\n",
       "2번    24\n",
       "3번    38\n",
       "4번    31\n",
       "Name: 나이, dtype: int64"
      ]
     },
     "execution_count": 33,
     "metadata": {},
     "output_type": "execute_result"
    }
   ],
   "source": [
    "# 열 값 추출\n",
    "df_['나이']"
   ]
  },
  {
   "cell_type": "markdown",
   "id": "ec2982c4",
   "metadata": {},
   "source": [
    "행 값 추출시,\n",
    "- index num의 경우 : [시작위치:끝위치+1]\n",
    "- index name 의 경우 : [시작위치:끝위치]"
   ]
  },
  {
   "cell_type": "code",
   "execution_count": 34,
   "id": "852c58dd",
   "metadata": {
    "scrolled": true
   },
   "outputs": [
    {
     "data": {
      "text/html": [
       "<div>\n",
       "<style scoped>\n",
       "    .dataframe tbody tr th:only-of-type {\n",
       "        vertical-align: middle;\n",
       "    }\n",
       "\n",
       "    .dataframe tbody tr th {\n",
       "        vertical-align: top;\n",
       "    }\n",
       "\n",
       "    .dataframe thead th {\n",
       "        text-align: right;\n",
       "    }\n",
       "</style>\n",
       "<table border=\"1\" class=\"dataframe\">\n",
       "  <thead>\n",
       "    <tr style=\"text-align: right;\">\n",
       "      <th></th>\n",
       "      <th>이름</th>\n",
       "      <th>나이</th>\n",
       "      <th>성별</th>\n",
       "    </tr>\n",
       "  </thead>\n",
       "  <tbody>\n",
       "    <tr>\n",
       "      <th>2번</th>\n",
       "      <td>이순신</td>\n",
       "      <td>24</td>\n",
       "      <td>남</td>\n",
       "    </tr>\n",
       "    <tr>\n",
       "      <th>3번</th>\n",
       "      <td>유관순</td>\n",
       "      <td>38</td>\n",
       "      <td>남</td>\n",
       "    </tr>\n",
       "  </tbody>\n",
       "</table>\n",
       "</div>"
      ],
      "text/plain": [
       "     이름  나이 성별\n",
       "2번  이순신  24  남\n",
       "3번  유관순  38  남"
      ]
     },
     "execution_count": 34,
     "metadata": {},
     "output_type": "execute_result"
    }
   ],
   "source": [
    "# 행 값 추출\n",
    "df_[1:3]"
   ]
  },
  {
   "cell_type": "code",
   "execution_count": 35,
   "id": "68eb177b",
   "metadata": {},
   "outputs": [
    {
     "data": {
      "text/html": [
       "<div>\n",
       "<style scoped>\n",
       "    .dataframe tbody tr th:only-of-type {\n",
       "        vertical-align: middle;\n",
       "    }\n",
       "\n",
       "    .dataframe tbody tr th {\n",
       "        vertical-align: top;\n",
       "    }\n",
       "\n",
       "    .dataframe thead th {\n",
       "        text-align: right;\n",
       "    }\n",
       "</style>\n",
       "<table border=\"1\" class=\"dataframe\">\n",
       "  <thead>\n",
       "    <tr style=\"text-align: right;\">\n",
       "      <th></th>\n",
       "      <th>이름</th>\n",
       "      <th>나이</th>\n",
       "      <th>성별</th>\n",
       "    </tr>\n",
       "  </thead>\n",
       "  <tbody>\n",
       "    <tr>\n",
       "      <th>2번</th>\n",
       "      <td>이순신</td>\n",
       "      <td>24</td>\n",
       "      <td>남</td>\n",
       "    </tr>\n",
       "    <tr>\n",
       "      <th>3번</th>\n",
       "      <td>유관순</td>\n",
       "      <td>38</td>\n",
       "      <td>남</td>\n",
       "    </tr>\n",
       "  </tbody>\n",
       "</table>\n",
       "</div>"
      ],
      "text/plain": [
       "     이름  나이 성별\n",
       "2번  이순신  24  남\n",
       "3번  유관순  38  남"
      ]
     },
     "execution_count": 35,
     "metadata": {},
     "output_type": "execute_result"
    }
   ],
   "source": [
    "df_['2번':'3번']"
   ]
  },
  {
   "cell_type": "markdown",
   "id": "8c2af4ee",
   "metadata": {},
   "source": [
    "### 파일 읽고 쓰기\n",
    "- pd.read_csv(), pd.to_csv()"
   ]
  },
  {
   "cell_type": "code",
   "execution_count": null,
   "id": "f7775846",
   "metadata": {},
   "outputs": [],
   "source": [
    "# 코드 예시로 실행은 X\n",
    "\n",
    "dataset = pd.read_csv('data/train.csv')\n",
    "dataset"
   ]
  },
  {
   "cell_type": "code",
   "execution_count": null,
   "id": "07bc142f",
   "metadata": {},
   "outputs": [],
   "source": [
    "# 코드 예시로 실행은 X\n",
    "\n",
    "dataset.to_csv('data/12345.csv')"
   ]
  },
  {
   "cell_type": "markdown",
   "id": "3bffb19d",
   "metadata": {},
   "source": [
    "## 02. sklearn\n",
    "\n",
    "- 머신러닝(기계학습) 수행할 수 있는 라이브러리\n",
    "- scikit-learn 의 약자\n",
    "\n",
    "### sklearn 라이브러리/ 패키지\n",
    "- preprocessing : StandardScaler, MinMaxScaler, RobustScaler, OneHotEncoder, LabelEncoder, ...\n",
    "- model_selection : train_test_split, cross_validation, learning_curve, validation_curve, GridSearchCV, ...\n",
    "- linear_model : LogisticRegression, Perceptron, ...\n",
    "- tree : DecisionTreeClassifier, ..."
   ]
  },
  {
   "cell_type": "code",
   "execution_count": 37,
   "id": "44a1613b",
   "metadata": {},
   "outputs": [],
   "source": [
    "# 함수 import\n",
    "from sklearn.model_selection import train_test_split\n",
    "from sklearn.tree            import DecisionTreeClassifier"
   ]
  },
  {
   "cell_type": "markdown",
   "id": "5550c11d",
   "metadata": {},
   "source": [
    "## 03. numpy\n",
    "\n",
    "- 벡터, 행렬 등 수치 연산 수행하는 선형대수 라이브러리"
   ]
  },
  {
   "cell_type": "code",
   "execution_count": 39,
   "id": "5fa1ecdc",
   "metadata": {},
   "outputs": [
    {
     "data": {
      "text/plain": [
       "array([[0., 0., 0.],\n",
       "       [0., 0., 0.]])"
      ]
     },
     "execution_count": 39,
     "metadata": {},
     "output_type": "execute_result"
    }
   ],
   "source": [
    "import numpy as np\n",
    "\n",
    "np.zeros((2,3))      # 2행 3열 모두 0으로 채우기"
   ]
  },
  {
   "cell_type": "code",
   "execution_count": 42,
   "id": "b1dc67a0",
   "metadata": {},
   "outputs": [
    {
     "data": {
      "text/plain": [
       "array([[1., 1., 1.],\n",
       "       [1., 1., 1.]])"
      ]
     },
     "execution_count": 42,
     "metadata": {},
     "output_type": "execute_result"
    }
   ],
   "source": [
    "np.ones((2,3))       # 2행 3열 모두 1로 채우기"
   ]
  },
  {
   "cell_type": "code",
   "execution_count": 44,
   "id": "0edba76a",
   "metadata": {},
   "outputs": [
    {
     "data": {
      "text/plain": [
       "array([[10, 10, 10],\n",
       "       [10, 10, 10]])"
      ]
     },
     "execution_count": 44,
     "metadata": {},
     "output_type": "execute_result"
    }
   ],
   "source": [
    "np.full((2,3), 10)   # 2행 3열 특정 수(10)로 채우기"
   ]
  },
  {
   "cell_type": "code",
   "execution_count": 50,
   "id": "27decbf4",
   "metadata": {},
   "outputs": [
    {
     "data": {
      "text/plain": [
       "array([ 0,  1,  2,  3,  4,  5,  6,  7,  8,  9, 10, 11, 12, 13, 14, 15, 16,\n",
       "       17, 18, 19])"
      ]
     },
     "execution_count": 50,
     "metadata": {},
     "output_type": "execute_result"
    }
   ],
   "source": [
    "np.array(range(20))  # 0부터 20개의 숫자 만들기 > shape : (20, )"
   ]
  },
  {
   "cell_type": "code",
   "execution_count": 52,
   "id": "ff700dd7",
   "metadata": {},
   "outputs": [
    {
     "data": {
      "text/plain": [
       "array([[ 0,  1,  2,  3,  4],\n",
       "       [ 5,  6,  7,  8,  9],\n",
       "       [10, 11, 12, 13, 14],\n",
       "       [15, 16, 17, 18, 19]])"
      ]
     },
     "execution_count": 52,
     "metadata": {},
     "output_type": "execute_result"
    }
   ],
   "source": [
    "np.array(range(20)).reshape(4,5)   # 0부터 20개의 숫자로 4행 5열의 행렬 만들기"
   ]
  },
  {
   "cell_type": "markdown",
   "id": "b1e11e18",
   "metadata": {},
   "source": [
    "# 2.3 내장 함수 활용"
   ]
  },
  {
   "cell_type": "code",
   "execution_count": 55,
   "id": "b2c6e163",
   "metadata": {},
   "outputs": [],
   "source": [
    "data = {\n",
    "    '나이' : [20, 23, 49, 38, 32, 29, 25, 30, 32, 26],\n",
    "    '성별' : ['male','female','male','female','female','female','female','female','male', np.nan]\n",
    "       }"
   ]
  },
  {
   "cell_type": "code",
   "execution_count": 56,
   "id": "5e760119",
   "metadata": {},
   "outputs": [
    {
     "data": {
      "text/html": [
       "<div>\n",
       "<style scoped>\n",
       "    .dataframe tbody tr th:only-of-type {\n",
       "        vertical-align: middle;\n",
       "    }\n",
       "\n",
       "    .dataframe tbody tr th {\n",
       "        vertical-align: top;\n",
       "    }\n",
       "\n",
       "    .dataframe thead th {\n",
       "        text-align: right;\n",
       "    }\n",
       "</style>\n",
       "<table border=\"1\" class=\"dataframe\">\n",
       "  <thead>\n",
       "    <tr style=\"text-align: right;\">\n",
       "      <th></th>\n",
       "      <th>나이</th>\n",
       "      <th>성별</th>\n",
       "    </tr>\n",
       "  </thead>\n",
       "  <tbody>\n",
       "    <tr>\n",
       "      <th>0</th>\n",
       "      <td>20</td>\n",
       "      <td>male</td>\n",
       "    </tr>\n",
       "    <tr>\n",
       "      <th>1</th>\n",
       "      <td>23</td>\n",
       "      <td>female</td>\n",
       "    </tr>\n",
       "    <tr>\n",
       "      <th>2</th>\n",
       "      <td>49</td>\n",
       "      <td>male</td>\n",
       "    </tr>\n",
       "    <tr>\n",
       "      <th>3</th>\n",
       "      <td>38</td>\n",
       "      <td>female</td>\n",
       "    </tr>\n",
       "    <tr>\n",
       "      <th>4</th>\n",
       "      <td>32</td>\n",
       "      <td>female</td>\n",
       "    </tr>\n",
       "    <tr>\n",
       "      <th>5</th>\n",
       "      <td>29</td>\n",
       "      <td>female</td>\n",
       "    </tr>\n",
       "    <tr>\n",
       "      <th>6</th>\n",
       "      <td>25</td>\n",
       "      <td>female</td>\n",
       "    </tr>\n",
       "    <tr>\n",
       "      <th>7</th>\n",
       "      <td>30</td>\n",
       "      <td>female</td>\n",
       "    </tr>\n",
       "    <tr>\n",
       "      <th>8</th>\n",
       "      <td>32</td>\n",
       "      <td>male</td>\n",
       "    </tr>\n",
       "    <tr>\n",
       "      <th>9</th>\n",
       "      <td>26</td>\n",
       "      <td>NaN</td>\n",
       "    </tr>\n",
       "  </tbody>\n",
       "</table>\n",
       "</div>"
      ],
      "text/plain": [
       "   나이      성별\n",
       "0  20    male\n",
       "1  23  female\n",
       "2  49    male\n",
       "3  38  female\n",
       "4  32  female\n",
       "5  29  female\n",
       "6  25  female\n",
       "7  30  female\n",
       "8  32    male\n",
       "9  26     NaN"
      ]
     },
     "execution_count": 56,
     "metadata": {},
     "output_type": "execute_result"
    }
   ],
   "source": [
    "data_frm = pd.DataFrame(data)\n",
    "data_frm"
   ]
  },
  {
   "cell_type": "markdown",
   "id": "658f17c4",
   "metadata": {},
   "source": [
    "## 숫자 계산 함수\n",
    "\n",
    "### - 합계 : sum()"
   ]
  },
  {
   "cell_type": "code",
   "execution_count": 57,
   "id": "53af4181",
   "metadata": {},
   "outputs": [
    {
     "data": {
      "text/plain": [
       "0    20\n",
       "1    23\n",
       "2    49\n",
       "3    38\n",
       "4    32\n",
       "5    29\n",
       "6    25\n",
       "7    30\n",
       "8    32\n",
       "9    26\n",
       "Name: 나이, dtype: int64"
      ]
     },
     "execution_count": 57,
     "metadata": {},
     "output_type": "execute_result"
    }
   ],
   "source": [
    "data_frm['나이']"
   ]
  },
  {
   "cell_type": "code",
   "execution_count": 58,
   "id": "cf989327",
   "metadata": {},
   "outputs": [
    {
     "data": {
      "text/plain": [
       "304"
      ]
     },
     "execution_count": 58,
     "metadata": {},
     "output_type": "execute_result"
    }
   ],
   "source": [
    "data_frm['나이'].sum()"
   ]
  },
  {
   "cell_type": "code",
   "execution_count": 59,
   "id": "586ef270",
   "metadata": {},
   "outputs": [
    {
     "data": {
      "text/plain": [
       "304"
      ]
     },
     "execution_count": 59,
     "metadata": {},
     "output_type": "execute_result"
    }
   ],
   "source": [
    "sum(data_frm['나이'])"
   ]
  },
  {
   "cell_type": "markdown",
   "id": "d2fc9c9f",
   "metadata": {},
   "source": [
    "### - 최대값 : max()"
   ]
  },
  {
   "cell_type": "code",
   "execution_count": 61,
   "id": "e0ea7aa0",
   "metadata": {},
   "outputs": [
    {
     "data": {
      "text/plain": [
       "49"
      ]
     },
     "execution_count": 61,
     "metadata": {},
     "output_type": "execute_result"
    }
   ],
   "source": [
    "data_frm['나이'].max()"
   ]
  },
  {
   "cell_type": "code",
   "execution_count": 62,
   "id": "89b0057d",
   "metadata": {},
   "outputs": [
    {
     "data": {
      "text/plain": [
       "49"
      ]
     },
     "execution_count": 62,
     "metadata": {},
     "output_type": "execute_result"
    }
   ],
   "source": [
    "max(data_frm['나이'])"
   ]
  },
  {
   "cell_type": "markdown",
   "id": "28f00aee",
   "metadata": {},
   "source": [
    "### - 최소값 : min()"
   ]
  },
  {
   "cell_type": "code",
   "execution_count": 63,
   "id": "772e9f31",
   "metadata": {},
   "outputs": [
    {
     "data": {
      "text/plain": [
       "20"
      ]
     },
     "execution_count": 63,
     "metadata": {},
     "output_type": "execute_result"
    }
   ],
   "source": [
    "data_frm['나이'].min()"
   ]
  },
  {
   "cell_type": "code",
   "execution_count": 64,
   "id": "1e7450c1",
   "metadata": {},
   "outputs": [
    {
     "data": {
      "text/plain": [
       "20"
      ]
     },
     "execution_count": 64,
     "metadata": {},
     "output_type": "execute_result"
    }
   ],
   "source": [
    "min(data_frm['나이'])"
   ]
  },
  {
   "cell_type": "markdown",
   "id": "15510c73",
   "metadata": {},
   "source": [
    "### - 평균 : mean()"
   ]
  },
  {
   "cell_type": "code",
   "execution_count": 65,
   "id": "43f163fb",
   "metadata": {},
   "outputs": [
    {
     "data": {
      "text/plain": [
       "30.4"
      ]
     },
     "execution_count": 65,
     "metadata": {},
     "output_type": "execute_result"
    }
   ],
   "source": [
    "data_frm['나이'].mean()"
   ]
  },
  {
   "cell_type": "code",
   "execution_count": 67,
   "id": "38f3663e",
   "metadata": {},
   "outputs": [],
   "source": [
    "# mean(data_frm['나이']) -- error"
   ]
  },
  {
   "cell_type": "markdown",
   "id": "51cd74df",
   "metadata": {},
   "source": [
    "### - 중위값 : median()"
   ]
  },
  {
   "cell_type": "code",
   "execution_count": 68,
   "id": "90b2893c",
   "metadata": {},
   "outputs": [
    {
     "data": {
      "text/plain": [
       "29.5"
      ]
     },
     "execution_count": 68,
     "metadata": {},
     "output_type": "execute_result"
    }
   ],
   "source": [
    "data_frm['나이'].median()"
   ]
  },
  {
   "cell_type": "markdown",
   "id": "5c7182ce",
   "metadata": {},
   "source": [
    "### - 분산 : var()"
   ]
  },
  {
   "cell_type": "code",
   "execution_count": 69,
   "id": "a0ab1bc8",
   "metadata": {},
   "outputs": [
    {
     "data": {
      "text/plain": [
       "69.15555555555557"
      ]
     },
     "execution_count": 69,
     "metadata": {},
     "output_type": "execute_result"
    }
   ],
   "source": [
    "data_frm['나이'].var()"
   ]
  },
  {
   "cell_type": "markdown",
   "id": "f1871e26",
   "metadata": {},
   "source": [
    "### - 표준편차 : std()"
   ]
  },
  {
   "cell_type": "code",
   "execution_count": 70,
   "id": "8f28e0d5",
   "metadata": {},
   "outputs": [
    {
     "data": {
      "text/plain": [
       "8.315981935740094"
      ]
     },
     "execution_count": 70,
     "metadata": {},
     "output_type": "execute_result"
    }
   ],
   "source": [
    "data_frm['나이'].std()"
   ]
  },
  {
   "cell_type": "markdown",
   "id": "9e8881dd",
   "metadata": {},
   "source": [
    "### - 거듭제곱 : pow()\n",
    "- 숫자 데이터의 지수값 즉, 거듭제곱값 계산"
   ]
  },
  {
   "cell_type": "code",
   "execution_count": 71,
   "id": "0f0d57c5",
   "metadata": {},
   "outputs": [
    {
     "data": {
      "text/plain": [
       "0      8000\n",
       "1     12167\n",
       "2    117649\n",
       "3     54872\n",
       "4     32768\n",
       "5     24389\n",
       "6     15625\n",
       "7     27000\n",
       "8     32768\n",
       "9     17576\n",
       "Name: 나이, dtype: int64"
      ]
     },
     "execution_count": 71,
     "metadata": {},
     "output_type": "execute_result"
    }
   ],
   "source": [
    "pow(data_frm['나이'], 3)"
   ]
  },
  {
   "cell_type": "markdown",
   "id": "534ece56",
   "metadata": {},
   "source": [
    "### - 사분위수 : quentile()"
   ]
  },
  {
   "cell_type": "code",
   "execution_count": 73,
   "id": "f373653e",
   "metadata": {},
   "outputs": [
    {
     "data": {
      "text/plain": [
       "나이    25.25\n",
       "Name: 0.25, dtype: float64"
      ]
     },
     "execution_count": 73,
     "metadata": {},
     "output_type": "execute_result"
    }
   ],
   "source": [
    "data_frm.quantile(.25)   # 1사분위수"
   ]
  },
  {
   "cell_type": "code",
   "execution_count": 74,
   "id": "63aa32e0",
   "metadata": {},
   "outputs": [
    {
     "data": {
      "text/plain": [
       "나이    29.5\n",
       "Name: 0.5, dtype: float64"
      ]
     },
     "execution_count": 74,
     "metadata": {},
     "output_type": "execute_result"
    }
   ],
   "source": [
    "data_frm.quantile(.5)   # 2사분위수"
   ]
  },
  {
   "cell_type": "code",
   "execution_count": 75,
   "id": "5976d4b7",
   "metadata": {},
   "outputs": [
    {
     "data": {
      "text/plain": [
       "나이    32.0\n",
       "Name: 0.75, dtype: float64"
      ]
     },
     "execution_count": 75,
     "metadata": {},
     "output_type": "execute_result"
    }
   ],
   "source": [
    "data_frm.quantile(.75)   # 3사분위수"
   ]
  },
  {
   "cell_type": "code",
   "execution_count": 76,
   "id": "5892b5d9",
   "metadata": {},
   "outputs": [
    {
     "data": {
      "text/plain": [
       "나이    49.0\n",
       "Name: 1.0, dtype: float64"
      ]
     },
     "execution_count": 76,
     "metadata": {},
     "output_type": "execute_result"
    }
   ],
   "source": [
    "data_frm.quantile(1)     # 4사분위수"
   ]
  },
  {
   "cell_type": "markdown",
   "id": "88791e83",
   "metadata": {},
   "source": [
    "### - 반올림 구하기 : round()"
   ]
  },
  {
   "cell_type": "code",
   "execution_count": 79,
   "id": "11cf2d85",
   "metadata": {},
   "outputs": [
    {
     "data": {
      "text/plain": [
       "0    3.0\n",
       "1    3.0\n",
       "2    7.0\n",
       "3    5.0\n",
       "4    5.0\n",
       "5    4.0\n",
       "6    4.0\n",
       "7    4.0\n",
       "8    5.0\n",
       "9    4.0\n",
       "Name: 나이, dtype: float64"
      ]
     },
     "execution_count": 79,
     "metadata": {},
     "output_type": "execute_result"
    }
   ],
   "source": [
    "round(data_frm['나이'] / 7)  # default : 소수점 첫째 자리에서 반올림"
   ]
  },
  {
   "cell_type": "code",
   "execution_count": 80,
   "id": "859b6c89",
   "metadata": {},
   "outputs": [
    {
     "data": {
      "text/plain": [
       "0    2.86\n",
       "1    3.29\n",
       "2    7.00\n",
       "3    5.43\n",
       "4    4.57\n",
       "5    4.14\n",
       "6    3.57\n",
       "7    4.29\n",
       "8    4.57\n",
       "9    3.71\n",
       "Name: 나이, dtype: float64"
      ]
     },
     "execution_count": 80,
     "metadata": {},
     "output_type": "execute_result"
    }
   ],
   "source": [
    "round(data_frm['나이'] / 7, 2)"
   ]
  },
  {
   "cell_type": "code",
   "execution_count": 83,
   "id": "5c5b636a",
   "metadata": {},
   "outputs": [
    {
     "name": "stdout",
     "output_type": "stream",
     "text": [
      "ceil  :  124\n",
      "floor :  123\n"
     ]
    }
   ],
   "source": [
    "import math\n",
    "\n",
    "print('ceil  : ', math.ceil(123.456))\n",
    "print('floor : ', math.floor(123.456))"
   ]
  },
  {
   "cell_type": "markdown",
   "id": "8d66af4e",
   "metadata": {},
   "source": [
    "## shape 관련 함수\n",
    "\n",
    "### - 모양 구하기 : shape\n",
    "- 괄호 없이 DataFrame.shape 으로 사용"
   ]
  },
  {
   "cell_type": "code",
   "execution_count": 85,
   "id": "ffa3f474",
   "metadata": {},
   "outputs": [
    {
     "data": {
      "text/plain": [
       "((10, 2), (10,))"
      ]
     },
     "execution_count": 85,
     "metadata": {},
     "output_type": "execute_result"
    }
   ],
   "source": [
    "data_frm.shape, data_frm['나이'].shape"
   ]
  },
  {
   "cell_type": "markdown",
   "id": "43f89830",
   "metadata": {},
   "source": [
    "### - 길이 구하기 : len"
   ]
  },
  {
   "cell_type": "code",
   "execution_count": 91,
   "id": "0789457a",
   "metadata": {},
   "outputs": [
    {
     "name": "stdout",
     "output_type": "stream",
     "text": [
      "데이터프레임 - 원소개수 :  10\n",
      "문자열 - 문자개수(길이) :  8\n",
      "문자열 - 문자개수(길이) :  10\n"
     ]
    }
   ],
   "source": [
    "print('데이터프레임 - 원소개수 : ', len(data_frm))\n",
    "print('문자열 - 문자개수(길이) : ', len('Superman'))\n",
    "print('문자열 - 문자개수(길이) : ', len('1234567890'))\n",
    "# print('숫자 - 길이             : ', len(123)) -- error"
   ]
  },
  {
   "cell_type": "code",
   "execution_count": null,
   "id": "811ffb57",
   "metadata": {},
   "outputs": [],
   "source": []
  },
  {
   "cell_type": "code",
   "execution_count": null,
   "id": "254ba383",
   "metadata": {},
   "outputs": [],
   "source": []
  },
  {
   "cell_type": "code",
   "execution_count": null,
   "id": "aedcfb9d",
   "metadata": {},
   "outputs": [],
   "source": []
  },
  {
   "cell_type": "code",
   "execution_count": null,
   "id": "35e45088",
   "metadata": {},
   "outputs": [],
   "source": []
  }
 ],
 "metadata": {
  "kernelspec": {
   "display_name": "Python 3 (ipykernel)",
   "language": "python",
   "name": "python3"
  },
  "language_info": {
   "codemirror_mode": {
    "name": "ipython",
    "version": 3
   },
   "file_extension": ".py",
   "mimetype": "text/x-python",
   "name": "python",
   "nbconvert_exporter": "python",
   "pygments_lexer": "ipython3",
   "version": "3.7.13"
  }
 },
 "nbformat": 4,
 "nbformat_minor": 5
}
