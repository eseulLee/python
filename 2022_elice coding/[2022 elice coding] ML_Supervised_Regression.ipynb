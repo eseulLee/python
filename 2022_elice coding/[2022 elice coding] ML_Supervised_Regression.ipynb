{
 "cells": [
  {
   "cell_type": "markdown",
   "id": "1f6329ad",
   "metadata": {},
   "source": [
    "## 📌 01. 회귀 개념 알아보기\n",
    "\n",
    "### 💡 회귀 분석?\n",
    "- 데이터를 가장 잘 설명하는 모델을 찾아 입력값에 따른 미래 결과값을 예측하는 알고리즘\n",
    "- 완벽한 예측은 불가능하기 때문에 최대한 잘 근사해야 함"
   ]
  },
  {
   "cell_type": "markdown",
   "id": "7e733ca2",
   "metadata": {},
   "source": [
    "## 📌 02. 단순 선형 회귀\n",
    "\n",
    "### 💡 단순 선형 회귀?\n",
    "- 데이터를 설명하는 모델을 **직선 형태**로 가정\n",
    "        가정: Y = beta_0 + beta_1 * X\n",
    "- 직선을 구성하는 beta_0(y절편)와 beta_1(기울기)를 구해야 함\n",
    "\n",
    "### 💡 Loss 함수 이해하기\n",
    "- 실제 값과 예측 값 차이의 제곱의 합을 Loss 함수로 정의 (부호 상쇄)\n",
    "        👉 Loss 함수가 작을수록 좋은 모델!\n",
    "\n",
    "### 💡 Loss 함수 줄이기\n",
    "- Loss 함수에서 주어진 값은 입력 값과 실제 값\n",
    "- beta_0(y절편), beta_1(기울기) 값을 조절하여 Loss 함수의 크기를 작게 함\n",
    "- 어떻게 Loss 함수의 크기를 작게 하는 beta_0(y절편), beta_1(기울기) 찾지?\n",
    "    1. Gradient descent (경사 하강법)\n",
    "    2. Normal equation (least squares)\n",
    "    3. Brute force search\n",
    "    4. ..."
   ]
  },
  {
   "cell_type": "markdown",
   "id": "d99ca7e8",
   "metadata": {},
   "source": [
    "### 🥸 경사 하강법(Gradient descent)\n",
    "1. 랜덤 초기화\n",
    "2. Loss 값 계산\n",
    "3. Gradient 계산 (경사도)\n",
    "4. beta_0, beta_1 업데이트\n",
    "\n",
    "### 💡 단순 선형 회귀 과정 살펴보기\n",
    "1. 데이터 전처리\n",
    "2. 단순 선형 회귀 모델 학습 (경사 하강법)\n",
    "3. 새로운 데이터에 대한 예측\n",
    "\n",
    "### 💡 단순 선형 회귀 특징\n",
    "- 가장 기초적이나 여전히 많이 사용되는 알고리즘\n",
    "- 입력값이 **1개**인 경우에만 적용 가능\n",
    "- 입력값과 결과값의 관계를 알아보는 데 용이\n",
    "- 입력값이 결과값에 얼마나 영향을 미치는지 알 수 있음\n",
    "- 두 변수 간의 관계를 직관적으로 해석하고자 하는 경우 활용"
   ]
  },
  {
   "cell_type": "markdown",
   "id": "63e859ba",
   "metadata": {},
   "source": [
    "### 👩‍💻 예제"
   ]
  },
  {
   "cell_type": "code",
   "execution_count": 5,
   "id": "401df950",
   "metadata": {},
   "outputs": [],
   "source": [
    "import pandas as pd\n",
    "import matplotlib.pyplot as plt\n",
    "from sklearn.linear_model import LinearRegression\n",
    "\n",
    "X = [8.70153760, 3.90825773, 1.89362433, 3.28730045, 7.39333004, 2.98984649, 2.25757240, 9.84450732, 9.94589513, 5.48321616]\n",
    "Y = [5.64413093, 3.75876583, 3.87233310, 4.40990425, 6.43845020, 4.02827829, 2.26105955, 7.15768995, 6.29097441, 5.19692852]"
   ]
  },
  {
   "cell_type": "markdown",
   "id": "d61c0456",
   "metadata": {},
   "source": [
    "LinearRegression 모델의 입력값으로는 Pandas의 DataFrame의 feature (X) 데이터와 Series 형태의 label (Y) 데이터를 입력 받을 수 있음"
   ]
  },
  {
   "cell_type": "code",
   "execution_count": 6,
   "id": "1c7647b0",
   "metadata": {},
   "outputs": [
    {
     "name": "stdout",
     "output_type": "stream",
     "text": [
      "전 처리한 X 데이터: \n",
      "           X\n",
      "0  8.701538\n",
      "1  3.908258\n",
      "2  1.893624\n",
      "3  3.287300\n",
      "4  7.393330\n",
      "5  2.989846\n",
      "6  2.257572\n",
      "7  9.844507\n",
      "8  9.945895\n",
      "9  5.483216\n",
      "전 처리한 X 데이터 shape: (10, 1)\n",
      "\n",
      "전 처리한 Y 데이터: \n",
      " 0    5.644131\n",
      "1    3.758766\n",
      "2    3.872333\n",
      "3    4.409904\n",
      "4    6.438450\n",
      "5    4.028278\n",
      "6    2.261060\n",
      "7    7.157690\n",
      "8    6.290974\n",
      "9    5.196929\n",
      "dtype: float64\n",
      "전 처리한 Y 데이터 shape: (10,)\n"
     ]
    }
   ],
   "source": [
    "# 1. X 형태 변환하여 train_X 에 저장\n",
    "train_X = pd.DataFrame(X, columns = ['X'])\n",
    "\n",
    "# 2. Y 형태 변환하여 train_Y 에 저장\n",
    "train_Y = pd.Series(Y)\n",
    "\n",
    "# 변환된 데이터를 출력합니다.\n",
    "print('전 처리한 X 데이터: \\n {}'.format(train_X))\n",
    "print('전 처리한 X 데이터 shape: {}\\n'.format(train_X.shape))\n",
    "\n",
    "print('전 처리한 Y 데이터: \\n {}'.format(train_Y))\n",
    "print('전 처리한 Y 데이터 shape: {}'.format(train_Y.shape))"
   ]
  },
  {
   "cell_type": "markdown",
   "id": "83448ef3",
   "metadata": {},
   "source": [
    "#### 모델 학습"
   ]
  },
  {
   "cell_type": "code",
   "execution_count": 7,
   "id": "230b5723",
   "metadata": {},
   "outputs": [
    {
     "data": {
      "text/plain": [
       "LinearRegression()"
      ]
     },
     "execution_count": 7,
     "metadata": {},
     "output_type": "execute_result"
    }
   ],
   "source": [
    "# 1. 모델 초기화\n",
    "lrmodel = LinearRegression()\n",
    "\n",
    "# 2. train_X, train_Y 데이터를 학습\n",
    "lrmodel.fit(train_X, train_Y)"
   ]
  },
  {
   "cell_type": "markdown",
   "id": "869c0c7a",
   "metadata": {},
   "source": [
    "#### Beta_0(y절편), Beta_1(기울기) 값 확인"
   ]
  },
  {
   "cell_type": "code",
   "execution_count": 10,
   "id": "4ea4dd13",
   "metadata": {},
   "outputs": [
    {
     "name": "stdout",
     "output_type": "stream",
     "text": [
      "beta_0(y절편) :  2.5061811708934925\n",
      "beta_1(기울기):  0.4307811787648283\n"
     ]
    }
   ],
   "source": [
    "beta_0 = lrmodel.intercept_\n",
    "beta_1 = lrmodel.coef_[0]\n",
    "\n",
    "print('beta_0(y절편) : ', beta_0)\n",
    "print('beta_1(기울기): ', beta_1)"
   ]
  },
  {
   "cell_type": "markdown",
   "id": "e7bcfb80",
   "metadata": {},
   "source": [
    "#### 학습 결과 시각화"
   ]
  },
  {
   "cell_type": "code",
   "execution_count": 15,
   "id": "776326f8",
   "metadata": {
    "scrolled": true
   },
   "outputs": [
    {
     "data": {
      "image/png": "[encoded data removed]",
      "text/plain": [
       "<Figure size 432x288 with 1 Axes>"
      ]
     },
     "metadata": {
      "needs_background": "light"
     },
     "output_type": "display_data"
    }
   ],
   "source": [
    "plt.scatter(X, Y)\n",
    "plt.plot([0,10], [lrmodel.intercept_, 10 * lrmodel.coef_[0] + lrmodel.intercept_], c='r')\n",
    "plt.xlim(0, 10)\n",
    "plt.ylim(0, 10)\n",
    "plt.title('Training Result')\n",
    "\n",
    "plt.show()\n",
    "plt.close()"
   ]
  },
  {
   "cell_type": "markdown",
   "id": "443628e5",
   "metadata": {},
   "source": [
    "#### 예측하기"
   ]
  },
  {
   "cell_type": "code",
   "execution_count": 16,
   "id": "dd4d01c1",
   "metadata": {},
   "outputs": [
    {
     "name": "stdout",
     "output_type": "stream",
     "text": [
      "train_X에 대한 예측값 : \n",
      "[6.2546398  4.18978504 3.32191889 3.92228833 5.6910886  3.79415077\n",
      " 3.47870087 6.74700964 6.7906856  4.86824749]\n",
      "\n",
      "실제값 : \n",
      "0    5.644131\n",
      "1    3.758766\n",
      "2    3.872333\n",
      "3    4.409904\n",
      "4    6.438450\n",
      "5    4.028278\n",
      "6    2.261060\n",
      "7    7.157690\n",
      "8    6.290974\n",
      "9    5.196929\n",
      "dtype: float64\n",
      "\n"
     ]
    }
   ],
   "source": [
    "# 1. train_X에 대해서 예측\n",
    "pred_X = lrmodel.predict(train_X)\n",
    "\n",
    "print('train_X에 대한 예측값 : \\n{}\\n'.format(pred_X))\n",
    "print('실제값 : \\n{}\\n'.format(train_Y))"
   ]
  },
  {
   "cell_type": "markdown",
   "id": "abddff94",
   "metadata": {},
   "source": [
    "## 📌 03. 다중 선형 회귀\n",
    "\n",
    "### 💡 다중 선형 회귀 모델?\n",
    "- 입력값 X가 여러 개(2개 이상)인 경우 활용할 수 있는 회귀 알고리즘\n",
    "- 각 개별 Xi 에 해당하는 최적의 beta_i를 찾아야 함\n",
    "\n",
    "### 💡 다중 선형 회귀 모델의 Loss 함수\n",
    "- 단순 선형 회귀와 마찬가지로 Loss 함수는 입력값과 실제값 차이의 제곱의 합으로 정의\n",
    "- 마찬가지로 beta_0, beta_1, ..., beta_M 값을 조절하여 Loss 함수의 크기를 작게 해야 함"
   ]
  },
  {
   "cell_type": "markdown",
   "id": "c51f60d4",
   "metadata": {},
   "source": [
    "### 💡 다중 선형 회귀 특징\n",
    "- 여러 개의 입력값과 결과값 간의 관계 확인 가능\n",
    "- 어떤 입력값이 결과값에 어떠한 영향을 미치는지 알 수 있음\n",
    "- 여러 개의 입력값 사이 간의 **상관관계**가 높을 경우 결과에 대한 신뢰성을 잃을 가능성이 있음\n",
    "    - 상관관계: 두가지 것의 한쪽이 변화하면 다른 한쪽도 따라서 변화하는 관계"
   ]
  },
  {
   "cell_type": "markdown",
   "id": "317bc534",
   "metadata": {},
   "source": [
    "### 👩‍💻 예제\n",
    "#### 데이터 전처리"
   ]
  },
  {
   "cell_type": "code",
   "execution_count": 22,
   "id": "3c9051e1",
   "metadata": {},
   "outputs": [
    {
     "name": "stdout",
     "output_type": "stream",
     "text": [
      "원본 데이터 샘플 :\n"
     ]
    },
    {
     "data": {
      "text/html": [
       "<div>\n",
       "<style scoped>\n",
       "    .dataframe tbody tr th:only-of-type {\n",
       "        vertical-align: middle;\n",
       "    }\n",
       "\n",
       "    .dataframe tbody tr th {\n",
       "        vertical-align: top;\n",
       "    }\n",
       "\n",
       "    .dataframe thead th {\n",
       "        text-align: right;\n",
       "    }\n",
       "</style>\n",
       "<table border=\"1\" class=\"dataframe\">\n",
       "  <thead>\n",
       "    <tr style=\"text-align: right;\">\n",
       "      <th></th>\n",
       "      <th>FB</th>\n",
       "      <th>TV</th>\n",
       "      <th>Newspaper</th>\n",
       "      <th>Sales</th>\n",
       "    </tr>\n",
       "  </thead>\n",
       "  <tbody>\n",
       "    <tr>\n",
       "      <th>0</th>\n",
       "      <td>230.1</td>\n",
       "      <td>37.8</td>\n",
       "      <td>69.2</td>\n",
       "      <td>22.1</td>\n",
       "    </tr>\n",
       "    <tr>\n",
       "      <th>1</th>\n",
       "      <td>44.5</td>\n",
       "      <td>39.3</td>\n",
       "      <td>45.1</td>\n",
       "      <td>10.4</td>\n",
       "    </tr>\n",
       "    <tr>\n",
       "      <th>2</th>\n",
       "      <td>17.2</td>\n",
       "      <td>45.9</td>\n",
       "      <td>69.3</td>\n",
       "      <td>9.3</td>\n",
       "    </tr>\n",
       "    <tr>\n",
       "      <th>3</th>\n",
       "      <td>151.5</td>\n",
       "      <td>41.3</td>\n",
       "      <td>58.5</td>\n",
       "      <td>18.5</td>\n",
       "    </tr>\n",
       "    <tr>\n",
       "      <th>4</th>\n",
       "      <td>180.8</td>\n",
       "      <td>10.8</td>\n",
       "      <td>58.4</td>\n",
       "      <td>12.9</td>\n",
       "    </tr>\n",
       "  </tbody>\n",
       "</table>\n",
       "</div>"
      ],
      "text/plain": [
       "      FB    TV  Newspaper  Sales\n",
       "0  230.1  37.8       69.2   22.1\n",
       "1   44.5  39.3       45.1   10.4\n",
       "2   17.2  45.9       69.3    9.3\n",
       "3  151.5  41.3       58.5   18.5\n",
       "4  180.8  10.8       58.4   12.9"
      ]
     },
     "metadata": {},
     "output_type": "display_data"
    }
   ],
   "source": [
    "import pandas as pd\n",
    "from sklearn.model_selection import train_test_split\n",
    "\n",
    "df = pd.read_csv('data/Advertising.csv')\n",
    "\n",
    "# 입력 변수로 사용하지 않는 Unnamed: 0 변수 삭제\n",
    "df = df.drop(columns = ['Unnamed: 0'])\n",
    "\n",
    "print('원본 데이터 샘플 :')\n",
    "display(df.head())"
   ]
  },
  {
   "cell_type": "code",
   "execution_count": 24,
   "id": "626860d7",
   "metadata": {},
   "outputs": [
    {
     "name": "stdout",
     "output_type": "stream",
     "text": [
      "train_X : \n"
     ]
    },
    {
     "data": {
      "text/html": [
       "<div>\n",
       "<style scoped>\n",
       "    .dataframe tbody tr th:only-of-type {\n",
       "        vertical-align: middle;\n",
       "    }\n",
       "\n",
       "    .dataframe tbody tr th {\n",
       "        vertical-align: top;\n",
       "    }\n",
       "\n",
       "    .dataframe thead th {\n",
       "        text-align: right;\n",
       "    }\n",
       "</style>\n",
       "<table border=\"1\" class=\"dataframe\">\n",
       "  <thead>\n",
       "    <tr style=\"text-align: right;\">\n",
       "      <th></th>\n",
       "      <th>FB</th>\n",
       "      <th>TV</th>\n",
       "      <th>Newspaper</th>\n",
       "    </tr>\n",
       "  </thead>\n",
       "  <tbody>\n",
       "    <tr>\n",
       "      <th>79</th>\n",
       "      <td>116.0</td>\n",
       "      <td>7.7</td>\n",
       "      <td>23.1</td>\n",
       "    </tr>\n",
       "    <tr>\n",
       "      <th>197</th>\n",
       "      <td>177.0</td>\n",
       "      <td>9.3</td>\n",
       "      <td>6.4</td>\n",
       "    </tr>\n",
       "    <tr>\n",
       "      <th>38</th>\n",
       "      <td>43.1</td>\n",
       "      <td>26.7</td>\n",
       "      <td>35.1</td>\n",
       "    </tr>\n",
       "    <tr>\n",
       "      <th>24</th>\n",
       "      <td>62.3</td>\n",
       "      <td>12.6</td>\n",
       "      <td>18.3</td>\n",
       "    </tr>\n",
       "    <tr>\n",
       "      <th>122</th>\n",
       "      <td>224.0</td>\n",
       "      <td>2.4</td>\n",
       "      <td>15.6</td>\n",
       "    </tr>\n",
       "  </tbody>\n",
       "</table>\n",
       "</div>"
      ],
      "text/plain": [
       "        FB    TV  Newspaper\n",
       "79   116.0   7.7       23.1\n",
       "197  177.0   9.3        6.4\n",
       "38    43.1  26.7       35.1\n",
       "24    62.3  12.6       18.3\n",
       "122  224.0   2.4       15.6"
      ]
     },
     "metadata": {},
     "output_type": "display_data"
    },
    {
     "name": "stdout",
     "output_type": "stream",
     "text": [
      "train_Y : \n"
     ]
    },
    {
     "data": {
      "text/plain": [
       "79     11.0\n",
       "197    12.8\n",
       "38     10.1\n",
       "24      9.7\n",
       "122    11.6\n",
       "Name: Sales, dtype: float64"
      ]
     },
     "metadata": {},
     "output_type": "display_data"
    },
    {
     "name": "stdout",
     "output_type": "stream",
     "text": [
      "test_X : \n"
     ]
    },
    {
     "data": {
      "text/html": [
       "<div>\n",
       "<style scoped>\n",
       "    .dataframe tbody tr th:only-of-type {\n",
       "        vertical-align: middle;\n",
       "    }\n",
       "\n",
       "    .dataframe tbody tr th {\n",
       "        vertical-align: top;\n",
       "    }\n",
       "\n",
       "    .dataframe thead th {\n",
       "        text-align: right;\n",
       "    }\n",
       "</style>\n",
       "<table border=\"1\" class=\"dataframe\">\n",
       "  <thead>\n",
       "    <tr style=\"text-align: right;\">\n",
       "      <th></th>\n",
       "      <th>FB</th>\n",
       "      <th>TV</th>\n",
       "      <th>Newspaper</th>\n",
       "    </tr>\n",
       "  </thead>\n",
       "  <tbody>\n",
       "    <tr>\n",
       "      <th>95</th>\n",
       "      <td>163.3</td>\n",
       "      <td>31.6</td>\n",
       "      <td>52.9</td>\n",
       "    </tr>\n",
       "    <tr>\n",
       "      <th>15</th>\n",
       "      <td>195.4</td>\n",
       "      <td>47.7</td>\n",
       "      <td>52.9</td>\n",
       "    </tr>\n",
       "    <tr>\n",
       "      <th>30</th>\n",
       "      <td>292.9</td>\n",
       "      <td>28.3</td>\n",
       "      <td>43.2</td>\n",
       "    </tr>\n",
       "    <tr>\n",
       "      <th>158</th>\n",
       "      <td>11.7</td>\n",
       "      <td>36.9</td>\n",
       "      <td>45.2</td>\n",
       "    </tr>\n",
       "    <tr>\n",
       "      <th>128</th>\n",
       "      <td>220.3</td>\n",
       "      <td>49.0</td>\n",
       "      <td>3.2</td>\n",
       "    </tr>\n",
       "  </tbody>\n",
       "</table>\n",
       "</div>"
      ],
      "text/plain": [
       "        FB    TV  Newspaper\n",
       "95   163.3  31.6       52.9\n",
       "15   195.4  47.7       52.9\n",
       "30   292.9  28.3       43.2\n",
       "158   11.7  36.9       45.2\n",
       "128  220.3  49.0        3.2"
      ]
     },
     "metadata": {},
     "output_type": "display_data"
    },
    {
     "name": "stdout",
     "output_type": "stream",
     "text": [
      "test_Y : \n"
     ]
    },
    {
     "data": {
      "text/plain": [
       "95     16.9\n",
       "15     22.4\n",
       "30     21.4\n",
       "158     7.3\n",
       "128    24.7\n",
       "Name: Sales, dtype: float64"
      ]
     },
     "metadata": {},
     "output_type": "display_data"
    }
   ],
   "source": [
    "# 1. Sales 변수는 label 데이터로 Y에 저장하고 나머진 X에 저장\n",
    "X = df.drop(columns = ['Sales'])\n",
    "Y = df['Sales']\n",
    "\n",
    "# 2. 2:8 비율로 (test_size = 0.2) X와 Y를 학습용과 평가용 데이터로 분리\n",
    "train_X, test_X, train_Y, test_Y = train_test_split(X, Y,\n",
    "                                                   test_size = .2,\n",
    "                                                   random_state = 42)\n",
    "\n",
    "# 전 처리한 데이터를 출력합니다\n",
    "print('train_X : ')\n",
    "display(train_X.head())\n",
    "print('train_Y : ')\n",
    "display(train_Y.head())\n",
    "\n",
    "print('test_X : ')\n",
    "display(test_X.head())\n",
    "print('test_Y : ')\n",
    "display(test_Y.head())"
   ]
  },
  {
   "cell_type": "markdown",
   "id": "d435fab7",
   "metadata": {},
   "source": [
    "#### 학습하기"
   ]
  },
  {
   "cell_type": "code",
   "execution_count": 25,
   "id": "e7cbef2d",
   "metadata": {},
   "outputs": [
    {
     "name": "stdout",
     "output_type": "stream",
     "text": [
      "beta_0 : 2.979067\n",
      "beta_1 : 0.044730\n",
      "beta_2 : 0.189195\n",
      "beta_3 : 0.002761\n"
     ]
    }
   ],
   "source": [
    "# 1.  다중 선형 회귀 모델을 초기화 하고 학습\n",
    "lrmodel = LinearRegression()\n",
    "lrmodel.fit(train_X, train_Y)\n",
    "\n",
    "# 2. 학습된 파라미터 값 확인\n",
    "beta_0 = lrmodel.intercept_\n",
    "beta_1 = lrmodel.coef_[0]\n",
    "beta_2 = lrmodel.coef_[1]\n",
    "beta_3 = lrmodel.coef_[2]\n",
    "\n",
    "print('beta_0 : %f' % beta_0)\n",
    "print('beta_1 : %f' % beta_1)\n",
    "print('beta_2 : %f' % beta_2)\n",
    "print('beta_3 : %f' % beta_3)"
   ]
  },
  {
   "cell_type": "markdown",
   "id": "ad2cb873",
   "metadata": {},
   "source": [
    "#### 예측하기"
   ]
  },
  {
   "cell_type": "code",
   "execution_count": 27,
   "id": "cc89e0b5",
   "metadata": {},
   "outputs": [
    {
     "name": "stdout",
     "output_type": "stream",
     "text": [
      "test_X : \n"
     ]
    },
    {
     "data": {
      "text/html": [
       "<div>\n",
       "<style scoped>\n",
       "    .dataframe tbody tr th:only-of-type {\n",
       "        vertical-align: middle;\n",
       "    }\n",
       "\n",
       "    .dataframe tbody tr th {\n",
       "        vertical-align: top;\n",
       "    }\n",
       "\n",
       "    .dataframe thead th {\n",
       "        text-align: right;\n",
       "    }\n",
       "</style>\n",
       "<table border=\"1\" class=\"dataframe\">\n",
       "  <thead>\n",
       "    <tr style=\"text-align: right;\">\n",
       "      <th></th>\n",
       "      <th>FB</th>\n",
       "      <th>TV</th>\n",
       "      <th>Newspaper</th>\n",
       "    </tr>\n",
       "  </thead>\n",
       "  <tbody>\n",
       "    <tr>\n",
       "      <th>95</th>\n",
       "      <td>163.3</td>\n",
       "      <td>31.6</td>\n",
       "      <td>52.9</td>\n",
       "    </tr>\n",
       "    <tr>\n",
       "      <th>15</th>\n",
       "      <td>195.4</td>\n",
       "      <td>47.7</td>\n",
       "      <td>52.9</td>\n",
       "    </tr>\n",
       "    <tr>\n",
       "      <th>30</th>\n",
       "      <td>292.9</td>\n",
       "      <td>28.3</td>\n",
       "      <td>43.2</td>\n",
       "    </tr>\n",
       "    <tr>\n",
       "      <th>158</th>\n",
       "      <td>11.7</td>\n",
       "      <td>36.9</td>\n",
       "      <td>45.2</td>\n",
       "    </tr>\n",
       "    <tr>\n",
       "      <th>128</th>\n",
       "      <td>220.3</td>\n",
       "      <td>49.0</td>\n",
       "      <td>3.2</td>\n",
       "    </tr>\n",
       "  </tbody>\n",
       "</table>\n",
       "</div>"
      ],
      "text/plain": [
       "        FB    TV  Newspaper\n",
       "95   163.3  31.6       52.9\n",
       "15   195.4  47.7       52.9\n",
       "30   292.9  28.3       43.2\n",
       "158   11.7  36.9       45.2\n",
       "128  220.3  49.0        3.2"
      ]
     },
     "execution_count": 27,
     "metadata": {},
     "output_type": "execute_result"
    }
   ],
   "source": [
    "print('test_X : ')\n",
    "test_X.head()"
   ]
  },
  {
   "cell_type": "code",
   "execution_count": 30,
   "id": "f510beb0",
   "metadata": {},
   "outputs": [
    {
     "name": "stdout",
     "output_type": "stream",
     "text": [
      "test_X에 대한 예측값 : \n",
      "[16.4080242  20.88988209 21.55384318 10.60850256 22.11237326 13.10559172\n",
      " 21.05719192  7.46101034 13.60634581 15.15506967  9.04831992  6.65328312\n",
      " 14.34554487  8.90349333  9.68959028 12.16494386  8.73628397 16.26507258\n",
      " 10.27759582 18.83109103 19.56036653 13.25103464 12.33620695 21.30695132\n",
      "  7.82740305  5.80957448 20.75753231 11.98138077  9.18349576  8.5066991\n",
      " 12.46646769 10.00337695 21.3876709  12.24966368 18.26661538 20.13766267\n",
      " 14.05514005 20.85411186 11.0174441   4.56899622]\n",
      "\n"
     ]
    }
   ],
   "source": [
    "# 1. test_X 에 대해서 예측\n",
    "pred_Y = lrmodel.predict(test_X)\n",
    "print('test_X에 대한 예측값 : \\n{}\\n'.format(pred_Y))"
   ]
  },
  {
   "cell_type": "code",
   "execution_count": 33,
   "id": "9227863c",
   "metadata": {},
   "outputs": [
    {
     "name": "stdout",
     "output_type": "stream",
     "text": [
      "df1 : \n"
     ]
    },
    {
     "data": {
      "text/html": [
       "<div>\n",
       "<style scoped>\n",
       "    .dataframe tbody tr th:only-of-type {\n",
       "        vertical-align: middle;\n",
       "    }\n",
       "\n",
       "    .dataframe tbody tr th {\n",
       "        vertical-align: top;\n",
       "    }\n",
       "\n",
       "    .dataframe thead th {\n",
       "        text-align: right;\n",
       "    }\n",
       "</style>\n",
       "<table border=\"1\" class=\"dataframe\">\n",
       "  <thead>\n",
       "    <tr style=\"text-align: right;\">\n",
       "      <th></th>\n",
       "      <th>FB</th>\n",
       "      <th>TV</th>\n",
       "      <th>Newspaper</th>\n",
       "    </tr>\n",
       "  </thead>\n",
       "  <tbody>\n",
       "    <tr>\n",
       "      <th>0</th>\n",
       "      <td>0</td>\n",
       "      <td>0</td>\n",
       "      <td>0</td>\n",
       "    </tr>\n",
       "    <tr>\n",
       "      <th>1</th>\n",
       "      <td>1</td>\n",
       "      <td>0</td>\n",
       "      <td>0</td>\n",
       "    </tr>\n",
       "    <tr>\n",
       "      <th>2</th>\n",
       "      <td>0</td>\n",
       "      <td>1</td>\n",
       "      <td>0</td>\n",
       "    </tr>\n",
       "    <tr>\n",
       "      <th>3</th>\n",
       "      <td>0</td>\n",
       "      <td>0</td>\n",
       "      <td>1</td>\n",
       "    </tr>\n",
       "    <tr>\n",
       "      <th>4</th>\n",
       "      <td>1</td>\n",
       "      <td>1</td>\n",
       "      <td>1</td>\n",
       "    </tr>\n",
       "  </tbody>\n",
       "</table>\n",
       "</div>"
      ],
      "text/plain": [
       "   FB  TV  Newspaper\n",
       "0   0   0          0\n",
       "1   1   0          0\n",
       "2   0   1          0\n",
       "3   0   0          1\n",
       "4   1   1          1"
      ]
     },
     "execution_count": 33,
     "metadata": {},
     "output_type": "execute_result"
    }
   ],
   "source": [
    "import numpy as np\n",
    "\n",
    "# 새로운 데이터 df1 정의\n",
    "df1 = pd.DataFrame(np.array([[0, 0, 0], [1, 0, 0], [0, 1, 0], [0, 0, 1], [1, 1, 1]]), columns=['FB', 'TV', 'Newspaper'])\n",
    "print('df1 : ')\n",
    "df1"
   ]
  },
  {
   "cell_type": "code",
   "execution_count": 34,
   "id": "27ffd4cd",
   "metadata": {},
   "outputs": [
    {
     "name": "stdout",
     "output_type": "stream",
     "text": [
      "df1에 대한 예측값 : \n",
      "[2.97906734 3.02379686 3.16826239 2.98182845 3.21575302]\n",
      "\n"
     ]
    }
   ],
   "source": [
    "# 2. df1에 대해서 예측해보기\n",
    "pred_df1 = lrmodel.predict(df1)\n",
    "print('df1에 대한 예측값 : \\n{}\\n'.format(pred_df1))"
   ]
  },
  {
   "cell_type": "markdown",
   "id": "791b90c8",
   "metadata": {},
   "source": [
    "## 📌 04. 회귀 평가 지표\n",
    "### 💡 회귀 알고리즘 평가\n",
    "- 어떤 모델이 좋은 모델인지는 목표를 얼마나 잘 달성했는지 정도를 평가해야 알 수 있음\n",
    "- 실제 값과 모델이 예측하는 값의 차이에 기반한 평가 방법\n",
    "    - 예시: RSS, MSE, MAE, MAPE, R^2"
   ]
  },
  {
   "cell_type": "markdown",
   "id": "c3f32071",
   "metadata": {},
   "source": [
    "### 👀 RSS - 단순 오차\n",
    "1. 실제 값과 예측 값의 단순 오차 제곱의 합\n",
    "2. 값이 작을수록 모델의 성능이 높음\n",
    "3. 전체 데이터에 대한 실제 값과 예측하는 값의 오차 제곱의 총합\n",
    "\n",
    "#### 😎 RSS 특징\n",
    "- 가장 간단한 평가 방법으로 직관적인 해석이 가능\n",
    "- 그러나 오차를 그대로 이용하기 때문에 입력 값의 **크기에 의존적**임\n",
    "- 절대적인 값과 비교가 불가능\n",
    "\n",
    "### 👀 MSE, MAE - 절대적인 크기에 의존한 지표\n",
    "####  MSE(Mean Squared Error)\n",
    "- **평균 제곱 오차**, RSS에서 데이터 수 만큼 나눈 값 (RSS * 1/N)\n",
    "- 작을수록 모델의 성능이 높다고 평가할 수 있음\n",
    "\n",
    "#### MAE(Mean Absolute Error)\n",
    "- **평균 절대값 오차**, 실제 값과 예측 값의 오차의 절대값의 평균\n",
    "- 작을수록 모델의 성능이 높다고 평가할 수 있음\n",
    "\n",
    "#### 😎 MSE, MAE 특징\n",
    "- MSE: 이상치(Outlier) 즉, 데이터들 중 크게 떨어진 값에 민감\n",
    "- MAE: 변동성이 큰 지표와 낮은 지표를 같이 예측할 시 유용\n",
    "- 가장 간단한 평가 방법들로 직관적인 해석이 가능\n",
    "- 그러나 평균을 그대로 이용하기 때문에 입력 값의 크기에 의존적\n",
    "- 절대적인 값과 비교가 불가능"
   ]
  },
  {
   "cell_type": "markdown",
   "id": "9cc2de05",
   "metadata": {},
   "source": [
    "### 👩‍💻 예제\n",
    "####  회귀 알고리즘 평가 지표 - RSS"
   ]
  },
  {
   "cell_type": "code",
   "execution_count": 36,
   "id": "2095c5e6",
   "metadata": {},
   "outputs": [
    {
     "name": "stdout",
     "output_type": "stream",
     "text": [
      "RSS_train : 432.820708\n"
     ]
    }
   ],
   "source": [
    "# train_X 의 예측값 계산\n",
    "pred_train = lrmodel.predict(train_X)\n",
    "\n",
    "# 1. train_X의 RSS 값 계산\n",
    "RSS_train = np.sum((train_Y - pred_train) ** 2)\n",
    "print('RSS_train : %f' % RSS_train)"
   ]
  },
  {
   "cell_type": "code",
   "execution_count": 37,
   "id": "00eda31f",
   "metadata": {},
   "outputs": [
    {
     "name": "stdout",
     "output_type": "stream",
     "text": [
      "RSS_test : 126.963894\n"
     ]
    }
   ],
   "source": [
    "# test_X 의 예측값 계산\n",
    "pred_test = lrmodel.predict(test_X)\n",
    "\n",
    "# 2. test_X의 RSS 계산\n",
    "RSS_test = np.sum((test_Y - pred_test) ** 2)\n",
    "print('RSS_test : %f' % RSS_test)"
   ]
  },
  {
   "cell_type": "markdown",
   "id": "b2a085cd",
   "metadata": {},
   "source": [
    "####  회귀 알고리즘 평가 지표 - MSE, MAE"
   ]
  },
  {
   "cell_type": "code",
   "execution_count": 40,
   "id": "07d0cd0e",
   "metadata": {},
   "outputs": [
    {
     "name": "stdout",
     "output_type": "stream",
     "text": [
      "MSE_train : 2.705129\n",
      "MAE_train : 1.198468\n"
     ]
    }
   ],
   "source": [
    "from sklearn.metrics import mean_squared_error, mean_absolute_error\n",
    "\n",
    "# 1. train_X의 MSE, MAE 계산\n",
    "MSE_train = mean_squared_error(train_Y, pred_train)\n",
    "MAE_train = mean_absolute_error(train_Y, pred_train)\n",
    "\n",
    "print('MSE_train : %f' % MSE_train)\n",
    "print('MAE_train : %f' % MAE_train)"
   ]
  },
  {
   "cell_type": "code",
   "execution_count": 41,
   "id": "6e8bda88",
   "metadata": {},
   "outputs": [
    {
     "name": "stdout",
     "output_type": "stream",
     "text": [
      "MSE_test : 3.174097\n",
      "MAE_test : 1.460757\n"
     ]
    }
   ],
   "source": [
    "# 2. test_X의 MSE, MAE 계산\n",
    "MSE_test = mean_squared_error(test_Y, pred_test)\n",
    "MAE_test = mean_absolute_error(test_Y, pred_test)\n",
    "\n",
    "print('MSE_test : %f' % MSE_test)\n",
    "print('MAE_test : %f' % MAE_test)"
   ]
  },
  {
   "cell_type": "markdown",
   "id": "7b85f1dc",
   "metadata": {},
   "source": [
    "### 👀 R2 (결정 계수)\n",
    "- 회귀 모델의 **설명력**을 표현하는 지표\n",
    "- **1에 가까울수록 높은 성능의 모델**이라고 해석할 수 있음\n",
    "    R^2 = 1 - (RSS/TSS)\n",
    "- TSS : 데이터 평균 값과 실제값 차이의 제곱\n",
    "\n",
    "#### 😎 R2 특징\n",
    "- 오차가 없을수록 1에 가까운 값을 찾음\n",
    "- 값이 0인 경우, 데이터의 평균 값을 출력하는 직선 모델을 의미\n",
    "- 음수 값이 나온 경우, 평균 값 예측보다 성능이 좋지 않음"
   ]
  },
  {
   "cell_type": "markdown",
   "id": "1efe01b9",
   "metadata": {},
   "source": [
    "### 👩‍💻 예제\n",
    "####  회귀 알고리즘 평가 지표 - R2"
   ]
  },
  {
   "cell_type": "code",
   "execution_count": 43,
   "id": "26ad9c33",
   "metadata": {},
   "outputs": [
    {
     "name": "stdout",
     "output_type": "stream",
     "text": [
      "R2_train : 0.895701\n"
     ]
    }
   ],
   "source": [
    "from sklearn.metrics import r2_score\n",
    "\n",
    "# 1. train_X의 R2 값 계산\n",
    "R2_train = r2_score(train_Y, pred_train)\n",
    "print('R2_train : %f' % R2_train)"
   ]
  },
  {
   "cell_type": "code",
   "execution_count": 44,
   "id": "05d2f673",
   "metadata": {},
   "outputs": [
    {
     "name": "stdout",
     "output_type": "stream",
     "text": [
      "R2_test : 0.899438\n"
     ]
    }
   ],
   "source": [
    "# 2. test_X의 R2 값 계산\n",
    "R2_test = r2_score(test_Y, pred_test)\n",
    "print('R2_test : %f' % R2_test)"
   ]
  }
 ],
 "metadata": {
  "kernelspec": {
   "display_name": "eseul_pycaret",
   "language": "python",
   "name": "pycaret"
  },
  "language_info": {
   "codemirror_mode": {
    "name": "ipython",
    "version": 3
   },
   "file_extension": ".py",
   "mimetype": "text/x-python",
   "name": "python",
   "nbconvert_exporter": "python",
   "pygments_lexer": "ipython3",
   "version": "3.8.13"
  }
 },
 "nbformat": 4,
 "nbformat_minor": 5
}
