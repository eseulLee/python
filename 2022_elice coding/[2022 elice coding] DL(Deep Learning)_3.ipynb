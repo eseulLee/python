{
 "cells": [
  {
   "cell_type": "markdown",
   "id": "02090eca",
   "metadata": {},
   "source": [
    "## 📌 01. 이미지 처리를 위한 데이터 전 처리\n",
    "- 컴퓨터에게 이미지는 각 픽셀 값을 가진 숫자 배열로 인식\n",
    "\n",
    "### 💡 이미지 전 처리하기"
   ]
  },
  {
   "cell_type": "code",
   "execution_count": null,
   "id": "a1078abe",
   "metadata": {},
   "outputs": [],
   "source": []
  },
  {
   "cell_type": "markdown",
   "id": "61750d48",
   "metadata": {},
   "source": [
    "## 📌 02. 이미지 처리를 위한 딥러닝 모델"
   ]
  },
  {
   "cell_type": "code",
   "execution_count": null,
   "id": "15b59bb9",
   "metadata": {},
   "outputs": [],
   "source": []
  },
  {
   "cell_type": "markdown",
   "id": "3ad0fee8",
   "metadata": {},
   "source": [
    "## 📌 03. 자연어 처리를 위한 데이터 전 처리"
   ]
  },
  {
   "cell_type": "code",
   "execution_count": null,
   "id": "683340a1",
   "metadata": {},
   "outputs": [],
   "source": []
  },
  {
   "cell_type": "markdown",
   "id": "4a738149",
   "metadata": {},
   "source": [
    "## 📌 04. 자연어 처리를 위한 딥러닝 모델"
   ]
  },
  {
   "cell_type": "code",
   "execution_count": null,
   "id": "7505c141",
   "metadata": {},
   "outputs": [],
   "source": []
  }
 ],
 "metadata": {
  "kernelspec": {
   "display_name": "eseul_pycaret",
   "language": "python",
   "name": "pycaret"
  },
  "language_info": {
   "codemirror_mode": {
    "name": "ipython",
    "version": 3
   },
   "file_extension": ".py",
   "mimetype": "text/x-python",
   "name": "python",
   "nbconvert_exporter": "python",
   "pygments_lexer": "ipython3",
   "version": "3.8.13"
  }
 },
 "nbformat": 4,
 "nbformat_minor": 5
}
