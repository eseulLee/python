{
 "cells": [
  {
   "cell_type": "markdown",
   "id": "7dd0db84",
   "metadata": {},
   "source": [
    "## 데이터 타입 및 변수 "
   ]
  },
  {
   "cell_type": "markdown",
   "id": "d24f3a2c",
   "metadata": {},
   "source": [
    "### tuple\n",
    "1. 소괄호() 사용\n",
    "2. 데이터 수정, 추가 삭제 불가\n",
    "3. indexing O"
   ]
  },
  {
   "cell_type": "code",
   "execution_count": 1,
   "id": "893f35b0",
   "metadata": {},
   "outputs": [
    {
     "name": "stdout",
     "output_type": "stream",
     "text": [
      "('aa', 'bb', 'cc', 'dd')\n",
      "<class 'tuple'>\n",
      "indexing -  bb bb\n"
     ]
    }
   ],
   "source": [
    "A_tup = ('aa', 'bb', 'cc', 'dd')\n",
    "print(A_tup)\n",
    "print(type(A_tup))\n",
    "print('indexing - ', A_tup[1], A_tup[-3])"
   ]
  },
  {
   "cell_type": "markdown",
   "id": "df9a2a91",
   "metadata": {},
   "source": [
    "### list\n",
    "1. 대괄호[] 사용\n",
    "2. 데이터 수정, 추가 삭제 가능\n",
    "3. indexing & slicing O\n",
    "4. +,* 가능(리스트 자체로 연산) /,- 연산 X"
   ]
  },
  {
   "cell_type": "code",
   "execution_count": 2,
   "id": "0d028d55",
   "metadata": {},
   "outputs": [
    {
     "name": "stdout",
     "output_type": "stream",
     "text": [
      "['aa', 'dd', 'cc', 'bb']\n",
      "<class 'list'>\n",
      "indexing -  cc aa\n",
      "slicing  -  ['dd', 'cc']\n"
     ]
    }
   ],
   "source": [
    "A_lst = ['aa', 'dd', 'cc', 'bb']\n",
    "print(A_lst)\n",
    "print(type(A_lst))\n",
    "print('indexing - ', A_lst[2], A_lst[-4])\n",
    "print('slicing  - ', A_lst[1:3])"
   ]
  },
  {
   "cell_type": "code",
   "execution_count": 3,
   "id": "bd41049d",
   "metadata": {},
   "outputs": [
    {
     "name": "stdout",
     "output_type": "stream",
     "text": [
      "['aa', 'dd', 'cc', 'bb', 'aa', 'dd', 'cc', 'bb']\n",
      "['aa', 'dd', 'cc', 'bb', 'aa', 'dd', 'cc', 'bb', 'aa', 'dd', 'cc', 'bb']\n"
     ]
    }
   ],
   "source": [
    "# list 사칙연산\n",
    "print(A_lst + A_lst) # list 뒤에 이어 붙음\n",
    "print(A_lst * 3) # list 3번 반복\n",
    "# print(A_lst - A_lst) -- error"
   ]
  },
  {
   "cell_type": "code",
   "execution_count": 4,
   "id": "fb680e92",
   "metadata": {},
   "outputs": [
    {
     "name": "stdout",
     "output_type": "stream",
     "text": [
      "['aa', 'dd', 'hello', 'bb']\n"
     ]
    }
   ],
   "source": [
    "# 데이터 수정\n",
    "A_lst[2] = 'hello'\n",
    "print(A_lst)"
   ]
  },
  {
   "cell_type": "code",
   "execution_count": 6,
   "id": "d5748f2d",
   "metadata": {},
   "outputs": [
    {
     "name": "stdout",
     "output_type": "stream",
     "text": [
      "['aa', 'bb', 'dd', 'hello']\n"
     ]
    }
   ],
   "source": [
    "# 데이터 삭제\n",
    "del A_lst[2]\n",
    "print(A_lst)"
   ]
  },
  {
   "cell_type": "code",
   "execution_count": 7,
   "id": "8390e0e9",
   "metadata": {},
   "outputs": [
    {
     "name": "stdout",
     "output_type": "stream",
     "text": [
      "['aa', 'bb', 'dd', 'hello', 'ee']\n"
     ]
    }
   ],
   "source": [
    "# 데이터 추가\n",
    "A_lst.append('ee')\n",
    "print(A_lst)"
   ]
  },
  {
   "cell_type": "code",
   "execution_count": 8,
   "id": "1fa6f6e5",
   "metadata": {},
   "outputs": [
    {
     "name": "stdout",
     "output_type": "stream",
     "text": [
      "['aa', 'bb', 'cc', 'dd', 'hello', 'ee']\n",
      "['ee', 'aa', 'bb', 'cc', 'dd', 'hello', 'ee']\n"
     ]
    }
   ],
   "source": [
    "# 내가 원하는 위치에 데이터 추가\n",
    "A_lst.insert(2, 'cc')\n",
    "print(A_lst)\n",
    "A_lst.insert(0, 'ee')\n",
    "print(A_lst)"
   ]
  },
  {
   "cell_type": "code",
   "execution_count": 9,
   "id": "95e55d6d",
   "metadata": {},
   "outputs": [
    {
     "name": "stdout",
     "output_type": "stream",
     "text": [
      "2\n"
     ]
    }
   ],
   "source": [
    "# 데이터 개수 세기\n",
    "print(A_lst.count('ee'))"
   ]
  },
  {
   "cell_type": "code",
   "execution_count": 10,
   "id": "4c43bd90",
   "metadata": {},
   "outputs": [
    {
     "name": "stdout",
     "output_type": "stream",
     "text": [
      "['aa', 'bb', 'cc', 'dd', 'hello', 'ee']\n"
     ]
    }
   ],
   "source": [
    "# 데이터 지정해서 삭제\n",
    "A_lst.remove('ee')\n",
    "print(A_lst)  # remove : 가장 앞에 위치한 해당 데이터 삭제됨"
   ]
  },
  {
   "cell_type": "code",
   "execution_count": 11,
   "id": "859a588c",
   "metadata": {},
   "outputs": [
    {
     "name": "stdout",
     "output_type": "stream",
     "text": [
      "['aa', 'bb', 'cc', 'dd', 'hello']\n"
     ]
    }
   ],
   "source": [
    "# 가장 마지막에 있는 값 삭제\n",
    "A_lst.pop()\n",
    "print(A_lst)"
   ]
  },
  {
   "cell_type": "code",
   "execution_count": 12,
   "id": "d81a1c3e",
   "metadata": {},
   "outputs": [
    {
     "name": "stdout",
     "output_type": "stream",
     "text": [
      "['aa', 'bb', 'cc', 'dd', 'hello']\n"
     ]
    }
   ],
   "source": [
    "# 데이터 정렬 ( sort 사용시 변수값에 즉시 반영되므로 주의 )\n",
    "A_lst.sort()\n",
    "print(A_lst)"
   ]
  },
  {
   "cell_type": "markdown",
   "id": "4ccc5f75",
   "metadata": {},
   "source": [
    "### dictionary\n",
    "1. key, value 쌍으로 이루어져 있음\n",
    "2. 중괄호 {} 사용, key:value 쌍 구분 기호는 세미콜론(,)\n",
    "3. 데이터 수정, 추가 삭제 가능\n",
    "4. 순서 존재 X , key 값으로 접근 "
   ]
  },
  {
   "cell_type": "code",
   "execution_count": 13,
   "id": "9371ef60",
   "metadata": {},
   "outputs": [
    {
     "name": "stdout",
     "output_type": "stream",
     "text": [
      "{'first': 'aa', 'second': 'dd', 'third': 'cc', 'forth': 'bb'}\n",
      "<class 'dict'>\n"
     ]
    }
   ],
   "source": [
    "A_dict = {'first'  : 'aa',\n",
    "          'second' : 'dd',\n",
    "          'third'  : 'cc',\n",
    "          'forth'  : 'bb'}\n",
    "print(A_dict)\n",
    "print(type(A_dict))"
   ]
  },
  {
   "cell_type": "code",
   "execution_count": 14,
   "id": "ea361282",
   "metadata": {},
   "outputs": [
    {
     "name": "stdout",
     "output_type": "stream",
     "text": [
      "dd\n"
     ]
    }
   ],
   "source": [
    "# key 로 value 가져오기\n",
    "print(A_dict['second'])"
   ]
  },
  {
   "cell_type": "code",
   "execution_count": 15,
   "id": "f8e0ad68",
   "metadata": {},
   "outputs": [
    {
     "name": "stdout",
     "output_type": "stream",
     "text": [
      "{'first': 'aa', 'second': 'dd', 'third': 'cc', 'forth': 'bb', 'fifth': 'ff'}\n"
     ]
    }
   ],
   "source": [
    "# 데이터 추가\n",
    "A_dict['fifth'] =  'ff'\n",
    "print(A_dict)"
   ]
  },
  {
   "cell_type": "code",
   "execution_count": 16,
   "id": "7ec5103f",
   "metadata": {},
   "outputs": [
    {
     "name": "stdout",
     "output_type": "stream",
     "text": [
      "{'first': 'aa', 'second': 'dd', 'third': 'cc', 'forth': 'bb', 'fifth': 'ee'}\n"
     ]
    }
   ],
   "source": [
    "# 데이터 수정 : 동일 키 존재하는 경우 마지막 추가된 키:값만 살아남아 결론적으로 데이터 수정 발생\n",
    "A_dict['fifth'] = 'ee'\n",
    "print(A_dict)"
   ]
  },
  {
   "cell_type": "code",
   "execution_count": 17,
   "id": "595671a7",
   "metadata": {},
   "outputs": [
    {
     "name": "stdout",
     "output_type": "stream",
     "text": [
      "{'first': 'aa', 'third': 'cc'}\n",
      "{'first': 'aa', 'third': 'cc', 'second': 'hello'}\n"
     ]
    }
   ],
   "source": [
    "# 데이터 삭제\n",
    "del A_dict['second']\n",
    "del A_dict['forth']\n",
    "del A_dict['fifth']\n",
    "print(A_dict)\n",
    "\n",
    "A_dict['second'] = 'hello'\n",
    "print(A_dict)"
   ]
  },
  {
   "cell_type": "markdown",
   "id": "be61aa43",
   "metadata": {},
   "source": [
    "### set\n",
    "1. 중복된 데이터 없음\n",
    "2. 데이터 간 순서 없음\n",
    "3. set(), 중괄호{} 사용"
   ]
  },
  {
   "cell_type": "code",
   "execution_count": 18,
   "id": "8cf61f4a",
   "metadata": {},
   "outputs": [
    {
     "name": "stdout",
     "output_type": "stream",
     "text": [
      "{'l', 'o', 'h', 'e'} {'h', 'i'}\n"
     ]
    }
   ],
   "source": [
    "hello = set(\"hello\")\n",
    "hi = set(['h','i'])\n",
    "print(hello, hi) # hello 의 경우, l 이 중복되므로 한개 삭제됨"
   ]
  },
  {
   "cell_type": "code",
   "execution_count": 20,
   "id": "9794acb9",
   "metadata": {},
   "outputs": [
    {
     "name": "stdout",
     "output_type": "stream",
     "text": [
      "{'h'}\n",
      "{'h'}\n"
     ]
    }
   ],
   "source": [
    "# 교집합 연산\n",
    "intersection01 = hello.intersection(hi)\n",
    "print(intersection01)\n",
    "intersection02 = hello & hi\n",
    "print(intersection02)"
   ]
  },
  {
   "cell_type": "code",
   "execution_count": 21,
   "id": "62c31e02",
   "metadata": {},
   "outputs": [
    {
     "name": "stdout",
     "output_type": "stream",
     "text": [
      "{'l', 'e', '!', 'i', 'o', 'h'}\n",
      "{'l', 'e', '!', 'i', 'o', 'h'}\n"
     ]
    }
   ],
   "source": [
    "# 합집합 연산\n",
    "union01 = hello.union(hi)\n",
    "print(union01)\n",
    "union02 = hello | hi\n",
    "print(union02)"
   ]
  },
  {
   "cell_type": "code",
   "execution_count": 22,
   "id": "051c9393",
   "metadata": {},
   "outputs": [
    {
     "name": "stdout",
     "output_type": "stream",
     "text": [
      "{'l', 'o', 'e', '!'}\n",
      "{'l', 'o', 'e', '!'}\n",
      "{'i'}\n",
      "{'i'}\n"
     ]
    }
   ],
   "source": [
    "# 차집합 연산 : 순서에 유의\n",
    "diff01 = hello.difference(hi)\n",
    "print(diff01)\n",
    "diff02 = hello - hi\n",
    "print(diff02)\n",
    "diff03 = hi.difference(hello)\n",
    "print(diff03)\n",
    "diff04 = hi - hello\n",
    "print(diff04)"
   ]
  },
  {
   "cell_type": "code",
   "execution_count": 23,
   "id": "f604d41f",
   "metadata": {},
   "outputs": [
    {
     "name": "stdout",
     "output_type": "stream",
     "text": [
      "{'e', '!', 'o', 'l', 'h'}\n"
     ]
    }
   ],
   "source": [
    "# 원소 추가 > 순서 없으므로 임의의 위치에 들어가게 된다!\n",
    "hello.add('!')    # 하나의 원소 추가\n",
    "print(hello)"
   ]
  },
  {
   "cell_type": "code",
   "execution_count": 24,
   "id": "424ac87b",
   "metadata": {},
   "outputs": [
    {
     "name": "stdout",
     "output_type": "stream",
     "text": [
      "{'e', '!', 'o', 'w', 'l', 'h'}\n"
     ]
    }
   ],
   "source": [
    "hello.update(['w','o','w'])  # 여러 개의 원소 한꺼번에 추가\n",
    "print(hello)      # w 두개여서 하나만 들어가게 됨"
   ]
  },
  {
   "cell_type": "code",
   "execution_count": 25,
   "id": "da8e1b47",
   "metadata": {},
   "outputs": [
    {
     "name": "stdout",
     "output_type": "stream",
     "text": [
      "{'e', '!', 'o', 'l', 'h'}\n"
     ]
    }
   ],
   "source": [
    "hello.remove('w')  # 원소 삭제\n",
    "print(hello)"
   ]
  },
  {
   "cell_type": "code",
   "execution_count": 19,
   "id": "57ba25db",
   "metadata": {},
   "outputs": [
    {
     "name": "stdout",
     "output_type": "stream",
     "text": [
      "{'l', 'e', 'i', 'o', 'h'}\n",
      "{'l', 'e', 'i', 'o', 'h'}\n",
      "{'l', 'o', 'e'}\n",
      "{'l', 'o', 'e'}\n",
      "{'i'}\n",
      "{'i'}\n",
      "{'e', '!', 'o', 'l', 'h'}\n",
      "{'e', '!', 'o', 'w', 'l', 'h'}\n",
      "{'e', '!', 'o', 'l', 'h'}\n",
      "\n"
     ]
    }
   ],
   "source": [
    "### 산술연산자\n",
    "print()"
   ]
  }
 ],
 "metadata": {
  "kernelspec": {
   "display_name": "Python 3 (ipykernel)",
   "language": "python",
   "name": "python3"
  },
  "language_info": {
   "codemirror_mode": {
    "name": "ipython",
    "version": 3
   },
   "file_extension": ".py",
   "mimetype": "text/x-python",
   "name": "python",
   "nbconvert_exporter": "python",
   "pygments_lexer": "ipython3",
   "version": "3.7.13"
  }
 },
 "nbformat": 4,
 "nbformat_minor": 5
}
