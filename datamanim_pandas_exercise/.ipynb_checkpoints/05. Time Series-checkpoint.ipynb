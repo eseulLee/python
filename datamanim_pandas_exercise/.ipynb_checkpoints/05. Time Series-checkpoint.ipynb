{
 "cells": [
  {
   "cell_type": "code",
   "execution_count": 1,
   "id": "cce41080",
   "metadata": {},
   "outputs": [],
   "source": [
    "import pandas as pd"
   ]
  },
  {
   "cell_type": "markdown",
   "id": "351181ec",
   "metadata": {},
   "source": [
    "주가 데이터 : https://raw.githubusercontent.com/guipsamora/pandas_exercises/master/06_Stats/Wind_Stats/wind.data \n",
    "DataUrl =  'https://raw.githubusercontent.com/Datamanim/pandas/main/timeTest.csv'"
   ]
  },
  {
   "cell_type": "markdown",
   "id": "ce85ae3c",
   "metadata": {},
   "source": [
    "### Q64. 데이터 로드, 각 열의 데이터 타입 파악"
   ]
  },
  {
   "cell_type": "code",
   "execution_count": null,
   "id": "3c27448d",
   "metadata": {},
   "outputs": [],
   "source": []
  }
 ],
 "metadata": {
  "kernelspec": {
   "display_name": "Python 3 (ipykernel)",
   "language": "python",
   "name": "python3"
  },
  "language_info": {
   "codemirror_mode": {
    "name": "ipython",
    "version": 3
   },
   "file_extension": ".py",
   "mimetype": "text/x-python",
   "name": "python",
   "nbconvert_exporter": "python",
   "pygments_lexer": "ipython3",
   "version": "3.7.13"
  }
 },
 "nbformat": 4,
 "nbformat_minor": 5
}
